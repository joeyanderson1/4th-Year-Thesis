{
 "cells": [
  {
   "cell_type": "code",
   "execution_count": 1,
   "id": "14161e7a",
   "metadata": {},
   "outputs": [],
   "source": [
    "import sys\n",
    "sys.path.append(\"C:\\\\Users\\josep\\Documents\\Anaconda\\pkgs\")\n",
    "import help_tools\n",
    "import wave_tools\n",
    "import cv2\n",
    "import h5py\n",
    "from matplotlib import cm\n",
    "import radar_tools\n",
    "import numpy as np\n",
    "from wave_tools import ConstructWave, surface_core, peak_tracking\n",
    "from wave_tools import fft_interpolate, fft_interface, Spectrum\n",
    "from wave_tools import SpectralAnalysis\n",
    "import matplotlib.pyplot as plt\n",
    "from help_tools import plotting_interface\n",
    "from wave_tools import surface_core, fft_interface, dispersionRelation\n",
    "from help_tools import plotting_interface, polar_coordinates, convolutional_filters, moving_average\n",
    "from scipy.optimize import least_squares\n",
    "from scipy.optimize import minimize\n",
    "from scipy.optimize import curve_fit\n",
    "from matplotlib.ticker import LinearLocator, FormatStrFormatter\n",
    "from tqdm import tqdm\n",
    "from mpl_toolkits.mplot3d import Axes3D\n",
    "from scipy.special import gamma, gammainc"
   ]
  },
  {
   "cell_type": "code",
   "execution_count": 2,
   "id": "94b0aef2",
   "metadata": {},
   "outputs": [],
   "source": [
    "sys.path.append(\"C:\\\\Users\\josep\\Desktop\\PHYC40900_Project TP\")"
   ]
  },
  {
   "cell_type": "code",
   "execution_count": 3,
   "id": "e3f30ad9",
   "metadata": {},
   "outputs": [],
   "source": [
    "f = h5py.File('C:\\\\Users\\josep\\Desktop\\PHYC40900_Project TP\\Real Data Sets\\First Tel-Aviv data', 'r')"
   ]
  },
  {
   "cell_type": "code",
   "execution_count": 4,
   "id": "ec4dc6fb",
   "metadata": {},
   "outputs": [
    {
     "data": {
      "text/plain": [
       "<KeysViewHDF5 ['t', 'wamos', 'x', 'y']>"
      ]
     },
     "execution_count": 4,
     "metadata": {},
     "output_type": "execute_result"
    }
   ],
   "source": [
    "f.keys()"
   ]
  },
  {
   "cell_type": "code",
   "execution_count": 5,
   "id": "14931853",
   "metadata": {},
   "outputs": [],
   "source": [
    "x = f.get('x')\n",
    "y = f.get('y')\n",
    "t = f.get('t')\n",
    "wamos = f.get('wamos')\n",
    "\n",
    "x = np.array(x)\n",
    "y = np.array(y)\n",
    "t = np.array(t)\n",
    "wamos = np.array(wamos)"
   ]
  },
  {
   "cell_type": "code",
   "execution_count": 6,
   "id": "d8026eea",
   "metadata": {},
   "outputs": [
    {
     "data": {
      "text/plain": [
       "array([[[1417., 1810., 1348., ..., 1177., 1248., 1290.],\n",
       "        [1683., 1587., 1656., ..., 1081., 1170., 1122.],\n",
       "        [1746., 1693., 1896., ..., 1224., 1224.,  660.],\n",
       "        ...,\n",
       "        [1660., 2165., 2723., ..., 1741., 1838., 1814.],\n",
       "        [1199., 1753., 2969., ..., 1440., 1491., 1646.],\n",
       "        [1723., 1653., 2290., ..., 1368., 1273., 1381.]],\n",
       "\n",
       "       [[1779., 1694., 1774., ..., 1146., 1200., 1333.],\n",
       "        [1308., 1824., 1347., ..., 1282., 1738., 1980.],\n",
       "        [1929., 1298., 1786., ..., 1466., 1441., 1760.],\n",
       "        ...,\n",
       "        [1134., 2025., 2094., ...,  768.,  664.,  721.],\n",
       "        [1568., 1677., 2112., ...,  997.,  997.,  982.],\n",
       "        [1641., 2246., 2260., ...,  963.,  705.,  983.]],\n",
       "\n",
       "       [[2277., 2936., 3201., ..., 1344., 1027.,  928.],\n",
       "        [3079., 3297., 3528., ..., 1054.,  916.,    0.],\n",
       "        [2953., 3462., 2245., ...,  984.,  984., 1095.],\n",
       "        ...,\n",
       "        [2587., 2659., 2471., ..., 1701., 1628., 1378.],\n",
       "        [2107., 2596., 2766., ..., 1192., 1192., 1062.],\n",
       "        [1684., 1793., 2590., ..., 1418., 1037.,  837.]],\n",
       "\n",
       "       ...,\n",
       "\n",
       "       [[2459., 2195., 2020., ..., 1628., 1537.,  815.],\n",
       "        [1883., 2086., 1985., ...,  907., 1265.,  890.],\n",
       "        [2182., 2154., 2469., ..., 1464.,  846.,  542.],\n",
       "        ...,\n",
       "        [1536., 1767., 1988., ..., 1248., 1213., 1152.],\n",
       "        [1908., 1515., 1486., ..., 1179., 1374., 1277.],\n",
       "        [1721., 1707., 1587., ..., 1176., 1015.,  633.]],\n",
       "\n",
       "       [[2830., 2630., 2410., ..., 1222., 1252., 1242.],\n",
       "        [2738., 2150., 1748., ...,  921.,  986., 1024.],\n",
       "        [1941., 2117., 2031., ...,  734.,  734.,  781.],\n",
       "        ...,\n",
       "        [1125., 1547., 1715., ..., 1585., 1997., 2026.],\n",
       "        [1346., 1589., 1617., ..., 1080., 1586., 1604.],\n",
       "        [1182., 1663., 1450., ..., 1154., 1512., 1424.]],\n",
       "\n",
       "       [[1924., 2092., 2399., ...,  763., 1001., 1299.],\n",
       "        [2068., 2247., 2223., ..., 1066., 1419., 1752.],\n",
       "        [2206., 1897., 2089., ..., 1243., 1490., 1936.],\n",
       "        ...,\n",
       "        [1757., 1913., 2241., ..., 1586., 1392.,  651.],\n",
       "        [1635., 1683., 1386., ..., 1441., 1441., 1212.],\n",
       "        [1936., 1911., 1544., ..., 1384., 1401., 1401.]]])"
      ]
     },
     "execution_count": 6,
     "metadata": {},
     "output_type": "execute_result"
    }
   ],
   "source": [
    "wamos"
   ]
  },
  {
   "cell_type": "code",
   "execution_count": 7,
   "id": "a45abbf8",
   "metadata": {},
   "outputs": [
    {
     "data": {
      "text/plain": [
       "4095.0"
      ]
     },
     "execution_count": 7,
     "metadata": {},
     "output_type": "execute_result"
    }
   ],
   "source": [
    "np.max(wamos)"
   ]
  },
  {
   "cell_type": "code",
   "execution_count": 8,
   "id": "105e6d2f",
   "metadata": {},
   "outputs": [
    {
     "data": {
      "text/plain": [
       "array([-247.5 , -243.75, -240.  , -236.25, -232.5 , -228.75, -225.  ,\n",
       "       -221.25, -217.5 , -213.75, -210.  , -206.25, -202.5 , -198.75,\n",
       "       -195.  , -191.25, -187.5 , -183.75, -180.  , -176.25, -172.5 ,\n",
       "       -168.75, -165.  , -161.25, -157.5 , -153.75, -150.  , -146.25,\n",
       "       -142.5 , -138.75, -135.  , -131.25, -127.5 , -123.75, -120.  ,\n",
       "       -116.25, -112.5 , -108.75, -105.  , -101.25,  -97.5 ,  -93.75,\n",
       "        -90.  ,  -86.25,  -82.5 ,  -78.75,  -75.  ,  -71.25,  -67.5 ,\n",
       "        -63.75,  -60.  ,  -56.25,  -52.5 ,  -48.75,  -45.  ,  -41.25,\n",
       "        -37.5 ,  -33.75,  -30.  ,  -26.25,  -22.5 ,  -18.75,  -15.  ,\n",
       "        -11.25,   -7.5 ,   -3.75,    0.  ,    3.75,    7.5 ,   11.25,\n",
       "         15.  ,   18.75,   22.5 ,   26.25,   30.  ,   33.75,   37.5 ,\n",
       "         41.25,   45.  ,   48.75,   52.5 ,   56.25,   60.  ,   63.75,\n",
       "         67.5 ,   71.25,   75.  ,   78.75,   82.5 ,   86.25,   90.  ,\n",
       "         93.75,   97.5 ,  101.25,  105.  ,  108.75,  112.5 ,  116.25,\n",
       "        120.  ,  123.75,  127.5 ,  131.25,  135.  ,  138.75,  142.5 ,\n",
       "        146.25,  150.  ,  153.75,  157.5 ,  161.25,  165.  ,  168.75,\n",
       "        172.5 ,  176.25,  180.  ,  183.75,  187.5 ,  191.25,  195.  ,\n",
       "        198.75,  202.5 ,  206.25,  210.  ,  213.75,  217.5 ,  221.25,\n",
       "        225.  ,  228.75,  232.5 ,  236.25,  240.  ,  243.75])"
      ]
     },
     "execution_count": 8,
     "metadata": {},
     "output_type": "execute_result"
    }
   ],
   "source": [
    "x"
   ]
  },
  {
   "cell_type": "code",
   "execution_count": 9,
   "id": "5f9574b8",
   "metadata": {},
   "outputs": [
    {
     "data": {
      "text/plain": [
       "(366,)"
      ]
     },
     "execution_count": 9,
     "metadata": {},
     "output_type": "execute_result"
    }
   ],
   "source": [
    "t.shape"
   ]
  },
  {
   "cell_type": "code",
   "execution_count": 10,
   "id": "94625a52",
   "metadata": {},
   "outputs": [
    {
     "data": {
      "text/plain": [
       "(366, 132, 132)"
      ]
     },
     "execution_count": 10,
     "metadata": {},
     "output_type": "execute_result"
    }
   ],
   "source": [
    "wamos.shape"
   ]
  },
  {
   "cell_type": "code",
   "execution_count": 11,
   "id": "c422f46d",
   "metadata": {},
   "outputs": [
    {
     "data": {
      "text/plain": [
       "-3.75"
      ]
     },
     "execution_count": 11,
     "metadata": {},
     "output_type": "execute_result"
    }
   ],
   "source": [
    "y[4] - y[5]"
   ]
  },
  {
   "cell_type": "code",
   "execution_count": 12,
   "id": "22a7969c",
   "metadata": {},
   "outputs": [],
   "source": [
    "dx = x[1] - x[0]\n",
    "dy = y[1] - y[0]\n",
    "dt = t[1] - t[0]"
   ]
  },
  {
   "cell_type": "code",
   "execution_count": 13,
   "id": "faef08c8",
   "metadata": {},
   "outputs": [
    {
     "data": {
      "text/plain": [
       "(366, 132, 132)"
      ]
     },
     "execution_count": 13,
     "metadata": {},
     "output_type": "execute_result"
    }
   ],
   "source": [
    "wamos.shape"
   ]
  },
  {
   "cell_type": "code",
   "execution_count": 14,
   "id": "c5438ad5",
   "metadata": {},
   "outputs": [
    {
     "data": {
      "text/plain": [
       "0.01269330365086785"
      ]
     },
     "execution_count": 14,
     "metadata": {},
     "output_type": "execute_result"
    }
   ],
   "source": [
    "dk = 2*np.pi/(dx*min(wamos.shape[0], wamos.shape[1]))\n",
    "dk"
   ]
  },
  {
   "cell_type": "code",
   "execution_count": 15,
   "id": "612f4b98",
   "metadata": {},
   "outputs": [
    {
     "data": {
      "text/plain": [
       "array([0.03807991, 0.05077321, 0.06346652, 0.07615982, 0.08885313,\n",
       "       0.10154643, 0.11423973, 0.12693304, 0.13962634, 0.15231964,\n",
       "       0.16501295, 0.17770625, 0.19039955, 0.20309286, 0.21578616,\n",
       "       0.22847947, 0.24117277, 0.25386607, 0.26655938, 0.27925268,\n",
       "       0.29194598, 0.30463929, 0.31733259, 0.33002589, 0.3427192 ])"
      ]
     },
     "execution_count": 15,
     "metadata": {},
     "output_type": "execute_result"
    }
   ],
   "source": [
    "wavenumbers = np.arange(3 * dk, 0.35, dk)\n",
    "wavenumbers"
   ]
  },
  {
   "cell_type": "markdown",
   "id": "6856125f",
   "metadata": {},
   "source": [
    "# 1.1) NSP Method"
   ]
  },
  {
   "cell_type": "code",
   "execution_count": 16,
   "id": "95bb60ea",
   "metadata": {},
   "outputs": [],
   "source": [
    "maxFrequency = 4.0 \n",
    "\n",
    "kW = 1*dk\n",
    "# Half width of wavenumbers bins [rad/m]\n",
    "\n",
    "frequencyLimits = [0.01, 20.0]\n",
    "# frequency limits for masking the spectrum [min max], rad/sec\n",
    "\n",
    "Ux_limits = [-1, 1]\n",
    "# Ux current limits [m/s]\n",
    "\n",
    "Uy_limits = [-1, 1]\n",
    "# Uy current limts [m/s]\n",
    "\n",
    "U_res = 0.1\n",
    "# Current step size [m/s]\n",
    "\n",
    "omegaWidthFun = lambda k: 0.05 + 0.0 * k"
   ]
  },
  {
   "cell_type": "code",
   "execution_count": 17,
   "id": "4081fce1",
   "metadata": {},
   "outputs": [],
   "source": [
    "Uym, Uxm = np.meshgrid(np.arange(min(Uy_limits), max(Uy_limits) + U_res, U_res),\n",
    "                       np.arange(min(Ux_limits), max(Ux_limits) + U_res, U_res))"
   ]
  },
  {
   "cell_type": "code",
   "execution_count": 18,
   "id": "28b6623b",
   "metadata": {},
   "outputs": [],
   "source": [
    "h = np.inf\n",
    "g = 9.81\n",
    "T = 0.072 / 1000"
   ]
  },
  {
   "cell_type": "code",
   "execution_count": 19,
   "id": "c7fc33dd",
   "metadata": {},
   "outputs": [],
   "source": [
    "from scipy.fftpack import fftn, fftshift\n",
    "\n",
    "def retrieve_power_spectrum(IMG_3D, dx, dy, dt, K_limits=None, W_limits=None):\n",
    "    # Set default values for K_limits and W_limits if not provided\n",
    "    if K_limits is None:\n",
    "        K_limits = [-np.inf, np.inf]\n",
    "    if W_limits is None:\n",
    "        W_limits = [-np.inf, np.inf]\n",
    "\n",
    "    # Check limits\n",
    "    if any(np.array(K_limits) < 0):\n",
    "        print('retrieve_positive_spectrum: K_limits smaller than 0')\n",
    "    if any(np.array(W_limits) < 0):\n",
    "        print('retrieve_positive_spectrum: W_limits smaller than 0')\n",
    "\n",
    "    # Get Kx, Ky, and w axes\n",
    "    Nt, Nx, Ny = IMG_3D.shape\n",
    "    Kx = (2 * np.pi * 1 / dx / Nx) * np.arange(-np.ceil((Nx - 1) / 2), np.floor((Nx - 1) / 2) + 1)\n",
    "    Ky = (2 * np.pi * 1 / dy / Ny) * np.arange(-np.ceil((Ny - 1) / 2), np.floor((Ny - 1) / 2) + 1)\n",
    "    w = (2 * np.pi * 1 / dt / Nt) * np.arange(-np.ceil((Nt - 1) / 2), np.floor((Nt - 1) / 2) + 1)\n",
    "\n",
    "    dKx = Kx[1] - Kx[0]\n",
    "    dKy = Ky[1] - Ky[0]\n",
    "    dW = w[1] - w[0]\n",
    "    Norm = dKx * dKy * dW\n",
    "\n",
    "    # Get power spectra\n",
    "    Spectrum_raw = fftshift(fftn(IMG_3D) / np.prod(IMG_3D.shape))\n",
    "    power_Spectrum = np.abs(Spectrum_raw / Norm)**2\n",
    "\n",
    "    # Get index boundaries\n",
    "    ind_x = np.abs(Kx) <= K_limits[1]\n",
    "    ind_y = np.abs(Ky) <= K_limits[1]\n",
    "    ind_w = (w >= W_limits[0]) & (w <= W_limits[1])\n",
    "\n",
    "    # Create 3D structure using meshgrid\n",
    "    W_3D, Kx_3D, Ky_3D = np.meshgrid(w[ind_w], Kx[ind_x], Ky[ind_y], indexing='ij')\n",
    "\n",
    "    # Use np.ix_ for boolean indexing to extract the desired values\n",
    "    power_Spectrum_cut = power_Spectrum[np.ix_(ind_w, ind_x, ind_y)]\n",
    "\n",
    "    # Set to NaN values outside K_limits\n",
    "    K_3D = np.sqrt(Kx_3D**2 + Ky_3D**2)\n",
    "    power_Spectrum_cut[(K_3D < K_limits[0]) | (K_3D > K_limits[1])] = np.nan\n",
    "\n",
    "    # Get original spectrum limits\n",
    "    Kx_orig_limits = [Kx[0], Kx[-1]]\n",
    "    Ky_orig_limits = [Ky[0], Ky[-1]]\n",
    "    W_orig_limits = [w[0], w[-1]]\n",
    "\n",
    "    # Normalize spectra (sum(power_Spectrum_cut(:)) = 1)\n",
    "    power_Spectrum_cut /= np.nansum(power_Spectrum_cut)\n",
    "\n",
    "    # Create output structure\n",
    "    Spectrum = {'power_Spectrum': power_Spectrum_cut,\n",
    "                'Kx_3D': Kx_3D, 'Ky_3D': Ky_3D, 'W_3D': W_3D,\n",
    "                'dKx': dKx, 'dKy': dKy, 'dW': dW,\n",
    "                'Kx_orig_limits': Kx_orig_limits, 'Ky_orig_limits': Ky_orig_limits,\n",
    "                'W_orig_limits': W_orig_limits}\n",
    "\n",
    "    return Spectrum"
   ]
  },
  {
   "cell_type": "code",
   "execution_count": 20,
   "id": "ba4c27e1",
   "metadata": {},
   "outputs": [],
   "source": [
    "from scipy.optimize import minimize\n",
    "import matplotlib.pyplot as plt\n",
    "\n",
    "def get_doppler_shift_velocities_nsp(Spectrum, fit_param, Properties, verboseFig=False):\n",
    "    \n",
    "    out_fit = {'wavenumbers': fit_param['wavenumbers'],\n",
    "               'Ux': np.zeros(len([fit_param['wavenumbers']])),\n",
    "               'Uy': np.zeros(len([fit_param['wavenumbers']])),\n",
    "               'SNR_max': np.zeros(len([fit_param['wavenumbers']])),\n",
    "               'Ux_2D': fit_param['Ux_2D'],\n",
    "               'Uy_2D': fit_param['Uy_2D'],\n",
    "               'verbose': []}\n",
    "\n",
    "    h = Properties['h']\n",
    "    g = Properties['g']\n",
    "    T = Properties['T']\n",
    "    omegaWidthFun = fit_param['omegaWidthFun']\n",
    "    wavenumbers = fit_param['wavenumbers']\n",
    "\n",
    "    for jj in range(len([fit_param['wavenumbers']])):\n",
    "        P = {'h': h, 'g': g, 'T': T,\n",
    "             'omegaWidth': omegaWidthFun(wavenumbers)}\n",
    "\n",
    "        snrG = np.zeros(fit_param['Ux_2D'].shape)\n",
    "\n",
    "        for i in range(fit_param['Ux_2D'].shape[0]):\n",
    "            for j in range(fit_param['Ux_2D'].shape[1]):\n",
    "                snr_ij, _, _ = nsp_doppler_shift_extraction(Spectrum, P, wavenumbers, fit_param['Ux_2D'][i, j], fit_param['Uy_2D'][i, j])\n",
    "                snrG[i, j] = snr_ij\n",
    "\n",
    "        im = np.argmax(snrG)\n",
    "\n",
    "        if np.ndim(fit_param['Ux_2D']) == 1:\n",
    "            cDoppGuess = fit_param['Ux_2D'][im]\n",
    "        else:\n",
    "            cDoppGuess = [fit_param['Ux_2D'].flat[im], fit_param['Uy_2D'].flat[im]]\n",
    "\n",
    "        options = {'disp': False}  # Turn off display output\n",
    "        Ufit = minimize(lambda U: 1 - nsp_doppler_shift_extraction(Spectrum, P, fit_param['wavenumbers'], U[0], U[1])[0] if np.ndim(U) > 1 else 1 - nsp_doppler_shift_extraction(Spectrum, P, fit_param['wavenumbers'], U[0], U[1])[0], \n",
    "                        cDoppGuess, options=options)\n",
    "\n",
    "        if len(cDoppGuess) > 1:\n",
    "            Ufit = Ufit.x\n",
    "        else:\n",
    "            Ufit = [Ufit.x[0], 0]\n",
    "\n",
    "        SNR_fit, _, _ = nsp_doppler_shift_extraction(Spectrum, P, wavenumbers, Ufit[0], Ufit[1])\n",
    "\n",
    "        out_fit['Ux'][jj] = Ufit[0]\n",
    "        out_fit['Uy'][jj] = Ufit[1]\n",
    "        out_fit['SNR_max'][jj] = SNR_fit\n",
    "\n",
    "        verbose = {'k': fit_param['wavenumbers'], 'SNR_2D': snrG, 'Peaks_2D': find_peaks(snrG)}\n",
    "        out_fit['verbose'].append(verbose)\n",
    "\n",
    "    # Post-processing\n",
    "    out_fit['Ux_filt'] = out_fit['Ux'].copy()\n",
    "    out_fit['Uy_filt'] = out_fit['Uy'].copy()\n",
    "    out_fit['SNR_max'] = out_fit['SNR_max'].copy()\n",
    "\n",
    "    return out_fit"
   ]
  },
  {
   "cell_type": "code",
   "execution_count": 21,
   "id": "a5a7c471",
   "metadata": {},
   "outputs": [],
   "source": [
    "def nsp_doppler_shift_extraction(Spectrum, params, kval, U, V):\n",
    "    # Define wave dispersion relation.\n",
    "    omegaFun = lambda kx, ky: np.sqrt((params['g']*np.sqrt(kx**2 + ky**2) + params['T']*np.sqrt(kx**2 + ky**2)**3) * np.tanh(np.sqrt(kx**2 + ky**2) * params['h'])) + U*kx + V*ky\n",
    "\n",
    "    # Frequency width of weighting function (1/e^2 halfwidth)\n",
    "    a = params['omegaWidth']\n",
    "\n",
    "    if 'logFlag' not in params:\n",
    "        params['logFlag'] = 0\n",
    "\n",
    "    if 'include2ndHarmonic' not in params:\n",
    "        params['include2ndHarmonic'] = 0\n",
    "\n",
    "    if 'kWidth' in params:\n",
    "        a_k = params['kWidth']\n",
    "    else:\n",
    "        a_k = max(Spectrum['dKx'], Spectrum['dKy']) * 2\n",
    "\n",
    "    inds = ~np.isnan(Spectrum['power_Spectrum'])\n",
    "\n",
    "    P_k = np.sqrt(Spectrum['power_Spectrum'][inds])\n",
    "    KX = Spectrum['Kx_3D'][inds]\n",
    "    KY = Spectrum['Ky_3D'][inds]\n",
    "    W = Spectrum['W_3D'][inds]\n",
    "\n",
    "    if params['include2ndHarmonic']:\n",
    "        inds2 = ~np.isnan(Spectrum['power_Spectrum2'])\n",
    "        P_k2 = np.sqrt(Spectrum['power_Spectrum2'][inds2])\n",
    "        KX2 = Spectrum['Kx_3D2'][inds2]\n",
    "        KY2 = Spectrum['Ky_3D2'][inds2]\n",
    "        W2 = Spectrum['W_3D2'][inds2]\n",
    "        omegaFun2 = lambda kx, ky: np.sqrt(2) * np.sqrt((params['g']*np.sqrt(kx**2 + ky**2) + params['T']*np.sqrt(kx**2 + ky**2)**3) * np.tanh(np.sqrt(kx**2 + ky**2) * params['h']) + U*kx + V*ky)\n",
    "    else:\n",
    "        P_k2 = 0\n",
    "\n",
    "    if params['logFlag']:\n",
    "        P_k = np.log(P_k)\n",
    "        P_k = P_k - np.min(P_k)\n",
    "\n",
    "        if params['include2ndHarmonic']:\n",
    "            P_k2 = np.log(P_k2)\n",
    "            P_k2 = P_k2 - np.min(P_k2)\n",
    "\n",
    "    K = np.sqrt(KX**2 + KY**2)\n",
    "    order = 2\n",
    "\n",
    "    if not np.isnan(kval):\n",
    "        P_k = P_k * np.exp(-2*((K-kval)/a_k)**order)\n",
    "\n",
    "    # Define weighting function G\n",
    "    G1 = np.exp(-2*((W - omegaFun(KX, KY))/max(a))**order)\n",
    "    G2 = np.exp(-2*((W + omegaFun(-KX, -KY))/max(a))**order)\n",
    "\n",
    "    G = G1 + G2\n",
    "\n",
    "    if params['include2ndHarmonic']:\n",
    "        G1_2 = np.exp(-2*((W2 - omegaFun2(KX2, KY2))/a)**order)\n",
    "        G2_2 = np.exp(-2*((W2 + omegaFun2(-KX2, -KY2))/a)**order)\n",
    "\n",
    "        G_2 = G1_2 + G2_2\n",
    "\n",
    "        P_k2[~np.isfinite(P_k2)] = 0\n",
    "\n",
    "        signal_2 = np.sum(P_k2*G_2)/np.sum(G_2)\n",
    "        noise_2 = np.sum(P_k2*(1-G_2))/np.sum(1-G_2)\n",
    "    else:\n",
    "        signal_2 = 0\n",
    "        noise_2 = 0\n",
    "\n",
    "    P_k[~np.isfinite(P_k)] = 0\n",
    "    InP = P_k * G\n",
    "\n",
    "    signal_1 = np.sum(InP)/np.sum(G)\n",
    "    noise_1 = np.sum(P_k*(1-G))/np.sum(1-G)\n",
    "    SNR = (signal_1 + signal_2)/(noise_1 + noise_2)\n",
    "\n",
    "    return SNR, P_k, G"
   ]
  },
  {
   "cell_type": "code",
   "execution_count": 22,
   "id": "619f6343",
   "metadata": {},
   "outputs": [],
   "source": [
    "wavenumberLimits = []\n",
    "\n",
    "for jj in range(len(wavenumbers)):\n",
    "    wavenumberLimits_range = wavenumbers[jj] + kW * np.array([-1,1])\n",
    "    wavenumberLimits.append(wavenumberLimits_range)"
   ]
  },
  {
   "cell_type": "code",
   "execution_count": 23,
   "id": "00d1b6a0",
   "metadata": {},
   "outputs": [
    {
     "name": "stderr",
     "output_type": "stream",
     "text": [
      "Processing wavenumbers: 100%|██████████| 25/25 [01:34<00:00,  3.78s/it]\n"
     ]
    }
   ],
   "source": [
    "Spectrum_at_k = []\n",
    "\n",
    "ind_x_at_k = []\n",
    "ind_y_at_k = []\n",
    "ind_w_at_k = []\n",
    "\n",
    "W_3D_at_k = []\n",
    "Kx_3D_at_k = []\n",
    "Ky_3D_at_k = []\n",
    "\n",
    "Ux_at_k = []\n",
    "Uy_at_k = []\n",
    "\n",
    "SNR_max_at_k = []\n",
    "\n",
    "snrG_at_k = []\n",
    "\n",
    "im_at_k = []\n",
    "cDoppGuess_at_k = []\n",
    "\n",
    "Ux_at_k_correct = []\n",
    "Uy_at_k_correct = []\n",
    "\n",
    "# Initialize the tqdm progress bar outside the loop\n",
    "progress_bar = tqdm(total=len(wavenumberLimits), desc=\"Processing wavenumbers\")\n",
    "\n",
    "for i in range(len(wavenumberLimits)):\n",
    "    # i is the index of each wavenumber\n",
    "    \n",
    "    fit_param = {'wavenumbers': wavenumbers[i],\n",
    "     'include2ndHarmonic': 0,\n",
    "     'logFlag': [],\n",
    "     'SNR_filter': 0,\n",
    "     'SNR_threshold': 1,\n",
    "     'Peak_filter': 0,\n",
    "     'Peak_threshold': 0.5,\n",
    "     'Outlier_filter': 0,\n",
    "     'kWidth': 0.050015405430285265,\n",
    "     'Ux_2D': Uxm, \n",
    "     'Uy_2D': Uym}\n",
    "    \n",
    "    P = {'h': h, 'g': g, 'T': T,\n",
    "             'omegaWidth': omegaWidthFun(wavenumbers),\n",
    "             'kWidth': fit_param['kWidth'],\n",
    "             'logFlag': fit_param['logFlag'],\n",
    "             'include2ndHarmonic': fit_param['include2ndHarmonic']}\n",
    "    \n",
    "    Spectrum = retrieve_power_spectrum(wamos, dx, dy, dt, K_limits=wavenumberLimits[i], W_limits=frequencyLimits)\n",
    "    Spectrum_at_k.append(Spectrum)\n",
    "    \n",
    "    Nt, Nx, Ny = wamos.shape\n",
    "    \n",
    "    Kx = (2 * np.pi * 1 / dx / Nx) * np.arange(-np.ceil((Nx - 1) / 2), np.floor((Nx - 1) / 2) + 1) # 67 values\n",
    "    Ky = (2 * np.pi * 1 / dy / Ny) * np.arange(-np.ceil((Ny - 1) / 2), np.floor((Ny - 1) / 2) + 1) # 67 Values\n",
    "    w = (2 * np.pi * 1 / dt / Nt) * np.arange(-np.ceil((Nt - 1) / 2), np.floor((Nt - 1) / 2) + 1) # 1200 Values\n",
    "    # w = spec3d.get_C()[0]\n",
    "    # Kx = spec3d.get_C()[1]\n",
    "    # Ky = spec3d.get_C()[2]\n",
    "    \n",
    "    dKx = Kx[1] - Kx[0]\n",
    "    dKy = Ky[1] - Ky[0]\n",
    "    dW = w[1] - w[0]\n",
    "    # kx, ky and w resolution\n",
    "    \n",
    "    Norm = dKx * dKy * dW\n",
    "    \n",
    "    # Get power spectra (1200, 67, 67)\n",
    "    Spectrum_raw = fftshift(fftn(wamos) / np.prod(wamos.shape))\n",
    "    power_Spectrum = np.abs(Spectrum_raw / Norm)**2\n",
    "    # ?? how is this related to FFT spec3d.spectrum()\n",
    "    \n",
    "    ind_x = np.abs(Kx) <= wavenumberLimits[i][1]\n",
    "    ind_x_at_k.append(ind_x)\n",
    "    ind_y = np.abs(Ky) <= wavenumberLimits[i][1]\n",
    "    ind_y_at_k.append(ind_y)\n",
    "    # Is the absolute values of Kx and Ky smaller than the upper value of the wavenumber range \n",
    "    \n",
    "    ind_w = (w >= frequencyLimits[0]) & (w <= frequencyLimits[1])\n",
    "    ind_w_at_k.append(ind_w)\n",
    "    # Is the value of w between the frequency limits 0.01 and 20 \n",
    "    \n",
    "    # Create 3D structure where it only includes w,Kx,Ky that are in the ranges required by wavenumberLimits\n",
    "    W_3D, Kx_3D, Ky_3D = np.meshgrid( w[ind_w_at_k[i]], Kx[ind_x_at_k[i]] , Ky[ind_y_at_k[i]] , indexing='ij')\n",
    "    W_3D_at_k.append(W_3D)\n",
    "    Kx_3D_at_k.append(Kx_3D)\n",
    "    Ky_3D_at_k.append(Ky_3D)\n",
    "    \n",
    "    \n",
    "    Ux_2D = Uxm\n",
    "    Uy_2D = Uym\n",
    "    \n",
    "    snrG = np.zeros(Ux_2D.shape)\n",
    "    \n",
    "    for m in range(Ux_2D.shape[0]):\n",
    "        for n in range(Ux_2D.shape[1]):\n",
    "            snr_mn, _, _ = nsp_doppler_shift_extraction(Spectrum, P, wavenumbers[i], Ux_2D[m, n], Uy_2D[m, n])\n",
    "            snrG[m, n] = snr_mn\n",
    "            \n",
    "            \n",
    "    snrG_at_k.append(snrG)\n",
    "    # Append the 2D array to the list\n",
    "    \n",
    "    \n",
    "    im = np.argmax(snrG_at_k[i])\n",
    "    im_at_k.append(im)\n",
    "    \n",
    "    if np.ndim(Ux_2D) == 1:\n",
    "        cDoppGuess = Ux_2D[im]\n",
    "    else:\n",
    "        Ux_1D = Ux_2D.flatten()\n",
    "        Uy_1D = Uy_2D.flatten()\n",
    "        cDoppGuess = [Ux_1D[im], Uy_1D[im]]\n",
    "    \n",
    "    cDoppGuess_at_k.append(cDoppGuess)\n",
    "    \n",
    "    \n",
    "    Ufit = minimize(lambda U: 1 - nsp_doppler_shift_extraction(Spectrum, P, fit_param['wavenumbers'], U[0], U[1])[0], cDoppGuess)\n",
    "    \n",
    "    Ux = Ufit.x[0]\n",
    "    Uy = Ufit.x[1]\n",
    "    \n",
    "    Ux_at_k_correct.append(Ux)\n",
    "    Uy_at_k_correct.append(Uy)\n",
    "    \n",
    "    # Update the tqdm progress bar\n",
    "    progress_bar.update(1)\n",
    "\n",
    "# Close the tqdm progress bar after the loop is finished\n",
    "progress_bar.close()"
   ]
  },
  {
   "cell_type": "code",
   "execution_count": 24,
   "id": "6e248d0b",
   "metadata": {},
   "outputs": [],
   "source": [
    "Ux = np.array(Ux_at_k_correct)\n",
    "Uy = np.array(Uy_at_k_correct)"
   ]
  },
  {
   "cell_type": "code",
   "execution_count": 25,
   "id": "661096e1",
   "metadata": {},
   "outputs": [
    {
     "data": {
      "text/plain": [
       "(0.0, 1.0)"
      ]
     },
     "execution_count": 25,
     "metadata": {},
     "output_type": "execute_result"
    },
    {
     "data": {
      "image/png": "[encoded data removed]",
      "text/plain": [
       "<Figure size 432x288 with 1 Axes>"
      ]
     },
     "metadata": {
      "needs_background": "light"
     },
     "output_type": "display_data"
    }
   ],
   "source": [
    "plt.scatter(wavenumbers, np.abs(Ux), label='Ux', color = 'blue')\n",
    "#plt.scatter(wavenumbers, Uy, label='Uy', color = 'red')\n",
    "#plt.scatter(wavenumbers, np.sqrt(Ux**2+Uy**2), label='|U|', color = 'green')\n",
    "\n",
    "plt.grid(True)\n",
    "plt.legend()\n",
    "plt.ylabel(\"U [m/s]\")\n",
    "plt.xlabel(\"Wavenumber [rad/m]\")\n",
    "plt.title('Effective Current $|U|$')\n",
    "\n",
    "plt.ylim(0, 1)\n",
    "#plt.xlim(0, 0.31)"
   ]
  },
  {
   "cell_type": "code",
   "execution_count": 26,
   "id": "cd0cc617",
   "metadata": {},
   "outputs": [],
   "source": [
    "p = np.poly1d(np.polyfit(wavenumbers, Ux, 10))"
   ]
  },
  {
   "cell_type": "code",
   "execution_count": 27,
   "id": "c1cf433a",
   "metadata": {},
   "outputs": [],
   "source": [
    "Uk_mask = np.where(np.gradient(p(wavenumbers))>0, 1, 0)"
   ]
  },
  {
   "cell_type": "code",
   "execution_count": 28,
   "id": "519f87cc",
   "metadata": {},
   "outputs": [],
   "source": [
    "k_m = np.block([0, np.ma.masked_array(wavenumbers, mask=1-Uk_mask).compressed()])\n",
    "Uk_m = np.block([0, np.ma.masked_array(Ux, mask=1-Uk_mask).compressed()])"
   ]
  },
  {
   "cell_type": "code",
   "execution_count": 29,
   "id": "4d8f06eb",
   "metadata": {},
   "outputs": [
    {
     "data": {
      "text/plain": [
       "Text(0.5, 0, 'Wavenumber [rad/m]')"
      ]
     },
     "execution_count": 29,
     "metadata": {},
     "output_type": "execute_result"
    },
    {
     "data": {
      "image/png": "[encoded data removed]",
      "text/plain": [
       "<Figure size 432x288 with 1 Axes>"
      ]
     },
     "metadata": {
      "needs_background": "light"
     },
     "output_type": "display_data"
    }
   ],
   "source": [
    "plt.scatter(k_m, Uk_m, label='Uk_m', color = 'red')\n",
    "plt.plot(wavenumbers, p(wavenumbers), label='Fitted Polynomial', color='black')\n",
    "\n",
    "plt.grid(True)\n",
    "plt.legend()\n",
    "plt.ylabel(\"U [m/s]\")\n",
    "plt.xlabel(\"Wavenumber [rad/m]\")"
   ]
  },
  {
   "cell_type": "markdown",
   "id": "6346b913",
   "metadata": {},
   "source": [
    "# 1.2) PCS Method"
   ]
  },
  {
   "cell_type": "code",
   "execution_count": 110,
   "id": "67d79120",
   "metadata": {},
   "outputs": [],
   "source": [
    "x = f.get('x')\n",
    "y = f.get('y')\n",
    "t = f.get('t')\n",
    "wamos = f.get('wamos')\n",
    "\n",
    "x = np.array(x)\n",
    "y = np.array(y)\n",
    "t = np.array(t)\n",
    "wamos = np.array(wamos)"
   ]
  },
  {
   "cell_type": "code",
   "execution_count": 111,
   "id": "53fe5cf5",
   "metadata": {},
   "outputs": [
    {
     "data": {
      "text/plain": [
       "(366, 132, 132)"
      ]
     },
     "execution_count": 111,
     "metadata": {},
     "output_type": "execute_result"
    }
   ],
   "source": [
    "wamos.shape"
   ]
  },
  {
   "cell_type": "code",
   "execution_count": 112,
   "id": "898006aa",
   "metadata": {},
   "outputs": [],
   "source": [
    "eta = np.transpose(wamos, (1, 2, 0))"
   ]
  },
  {
   "cell_type": "code",
   "execution_count": 115,
   "id": "b4d8f21c",
   "metadata": {},
   "outputs": [
    {
     "data": {
      "text/plain": [
       "1524.0"
      ]
     },
     "execution_count": 115,
     "metadata": {},
     "output_type": "execute_result"
    }
   ],
   "source": [
    "wamos[200,17,13]"
   ]
  },
  {
   "cell_type": "code",
   "execution_count": 116,
   "id": "8247787e",
   "metadata": {},
   "outputs": [
    {
     "data": {
      "text/plain": [
       "1524.0"
      ]
     },
     "execution_count": 116,
     "metadata": {},
     "output_type": "execute_result"
    }
   ],
   "source": [
    "eta[17,13,200]"
   ]
  },
  {
   "cell_type": "code",
   "execution_count": 117,
   "id": "bda4a95f",
   "metadata": {},
   "outputs": [
    {
     "data": {
      "text/plain": [
       "(132, 132, 366)"
      ]
     },
     "execution_count": 117,
     "metadata": {},
     "output_type": "execute_result"
    }
   ],
   "source": [
    "eta.shape"
   ]
  },
  {
   "cell_type": "code",
   "execution_count": 118,
   "id": "373c022c",
   "metadata": {},
   "outputs": [],
   "source": [
    "# new version with eta changed dimension \n",
    "def cylinder_cross_section(Spectrum, dtheta, power_Spectrum_cut , order=None):\n",
    "    if order is None:\n",
    "        order = 4\n",
    "\n",
    "    Kx_2D = np.squeeze(Kx_3D[:,:,0])\n",
    "    Ky_2D = np.squeeze(Ky_3D[:,:,0])\n",
    "    W_1D = np.squeeze(W_3D[0,0,:])\n",
    "\n",
    "    theta_2D = np.arctan2(-Ky_2D, -Kx_2D)\n",
    "    theta_3D = np.tile(theta_2D[:, :, np.newaxis], (1, 1, W_1D.size))\n",
    "\n",
    "    theta_vals = np.arange(-np.pi, np.pi, dtheta)\n",
    "    S_cyl = np.zeros((W_1D.size, theta_vals.size))\n",
    "\n",
    "    for ii in range(theta_vals.size):\n",
    "        theta_diff = np.angle(np.exp(1j * theta_3D) * np.exp(-1j * theta_vals[ii]))\n",
    "        theta_filt = np.exp(-2 * (theta_diff / dtheta) ** order)\n",
    "        S_filt = power_Spectrum_cut * theta_filt\n",
    "        S_cyl[:, ii] = np.nansum(S_filt, axis=(0, 1))\n",
    "\n",
    "    thetaM, omegaM = np.meshgrid(theta_vals, W_1D)\n",
    "\n",
    "    Scyl = {\n",
    "        'P_k': S_cyl,\n",
    "        'thetaM': thetaM,\n",
    "        'omegaM': omegaM,\n",
    "        'Kx_2D': Kx_2D, \n",
    "        'Ky_2D': Ky_2D,\n",
    "        'W_1D': W_1D,\n",
    "        'theta_2D':theta_2D,\n",
    "        'theta_3D':theta_3D,\n",
    "        'theta_vals':theta_vals,\n",
    "        'theta_diff':theta_diff,\n",
    "        'theta_filt':theta_filt\n",
    "    }\n",
    "\n",
    "    return Scyl"
   ]
  },
  {
   "cell_type": "code",
   "execution_count": 119,
   "id": "f219b796",
   "metadata": {},
   "outputs": [
    {
     "data": {
      "text/plain": [
       "0.01269330365086785"
      ]
     },
     "execution_count": 119,
     "metadata": {},
     "output_type": "execute_result"
    }
   ],
   "source": [
    "dk = 2*np.pi/(dx*min(eta.shape[0], eta.shape[1]))\n",
    "dk"
   ]
  },
  {
   "cell_type": "code",
   "execution_count": 120,
   "id": "1ddf68d0",
   "metadata": {},
   "outputs": [],
   "source": [
    "frequencyLimits = [0.01,20.0]\n",
    "# frequency limits for masking the spectrum [min max], rad/sec"
   ]
  },
  {
   "cell_type": "code",
   "execution_count": 121,
   "id": "1f1456dd",
   "metadata": {},
   "outputs": [],
   "source": [
    "Nx, Ny, Nt = eta.shape\n",
    "    \n",
    "Kx = (2 * np.pi * 1 / dx / Nx) * np.arange(-np.ceil((Nx - 1) / 2), np.floor((Nx - 1) / 2) + 1) # 67 values\n",
    "Ky = (2 * np.pi * 1 / dy / Ny) * np.arange(-np.ceil((Ny - 1) / 2), np.floor((Ny - 1) / 2) + 1) # 67 Values\n",
    "w = (2 * np.pi * 1 / dt / Nt) * np.arange(-np.ceil((Nt - 1) / 2), np.floor((Nt - 1) / 2) + 1) # 1200 Values"
   ]
  },
  {
   "cell_type": "code",
   "execution_count": 122,
   "id": "a465652a",
   "metadata": {},
   "outputs": [],
   "source": [
    "dKx = Kx[1] - Kx[0]\n",
    "dKy = Ky[1] - Ky[0]\n",
    "dW = w[1] - w[0]"
   ]
  },
  {
   "cell_type": "code",
   "execution_count": 123,
   "id": "9300b4e0",
   "metadata": {},
   "outputs": [],
   "source": [
    "Norm = dKx * dKy * dW"
   ]
  },
  {
   "cell_type": "code",
   "execution_count": 124,
   "id": "7eb75426",
   "metadata": {},
   "outputs": [],
   "source": [
    "# Get power spectra\n",
    "Spectrum_raw = fftshift(fftn(eta) / np.prod(eta.shape))\n",
    "power_Spectrum = np.abs(Spectrum_raw / Norm)**2"
   ]
  },
  {
   "cell_type": "code",
   "execution_count": 125,
   "id": "59bae57e",
   "metadata": {},
   "outputs": [
    {
     "data": {
      "text/plain": [
       "(132, 132, 366)"
      ]
     },
     "execution_count": 125,
     "metadata": {},
     "output_type": "execute_result"
    }
   ],
   "source": [
    "power_Spectrum.shape"
   ]
  },
  {
   "cell_type": "markdown",
   "id": "165edd6b",
   "metadata": {},
   "source": [
    "## 1.2.1) HP Filter"
   ]
  },
  {
   "cell_type": "code",
   "execution_count": 126,
   "id": "7b9595ca",
   "metadata": {},
   "outputs": [
    {
     "data": {
      "text/plain": [
       "(132, 132, 366)"
      ]
     },
     "execution_count": 126,
     "metadata": {},
     "output_type": "execute_result"
    }
   ],
   "source": [
    "I_0 = power_Spectrum\n",
    "I_0.shape"
   ]
  },
  {
   "cell_type": "code",
   "execution_count": 127,
   "id": "0b8f824b",
   "metadata": {},
   "outputs": [],
   "source": [
    "w_cut = 0.03 * 2*np.pi"
   ]
  },
  {
   "cell_type": "code",
   "execution_count": 128,
   "id": "afe7a1b3",
   "metadata": {},
   "outputs": [],
   "source": [
    "# Create a boolean mask based on the condition w >= w_cut\n",
    "mask = (w >= w_cut)"
   ]
  },
  {
   "cell_type": "code",
   "execution_count": 129,
   "id": "206aa790",
   "metadata": {},
   "outputs": [],
   "source": [
    "I_1 = np.where(mask[ None, None,:], I_0, 0)"
   ]
  },
  {
   "cell_type": "markdown",
   "id": "1a56647a",
   "metadata": {},
   "source": [
    "## 1.2.2)Energy Threshold"
   ]
  },
  {
   "cell_type": "code",
   "execution_count": 130,
   "id": "363560d8",
   "metadata": {},
   "outputs": [],
   "source": [
    "# Create a boolean mask based on the condition energy\n",
    "\n",
    "P = np.max(I_1) / 2000\n",
    "# Threshold\n",
    "\n",
    "condition = ( np.max(I_1, axis=2) >= P )\n",
    "# Is  maximum energy for each column vector along the ω axis > P"
   ]
  },
  {
   "cell_type": "code",
   "execution_count": 131,
   "id": "d755204a",
   "metadata": {},
   "outputs": [],
   "source": [
    "I_2 = np.where(condition[:, :, None], I_1, 0)"
   ]
  },
  {
   "cell_type": "markdown",
   "id": "baac8e39",
   "metadata": {},
   "source": [
    "## 1.2.3) Peak Identification"
   ]
  },
  {
   "cell_type": "code",
   "execution_count": 132,
   "id": "e82ac544",
   "metadata": {},
   "outputs": [],
   "source": [
    "from scipy.signal import find_peaks, peak_widths, peak_prominences"
   ]
  },
  {
   "cell_type": "code",
   "execution_count": 133,
   "id": "a1ae5935",
   "metadata": {},
   "outputs": [],
   "source": [
    "def check_prominent_peaks(kx, ky):\n",
    "    y = I_2[kx, ky,:]\n",
    "    \n",
    "    wj = np.zeros((I_2.shape[0], I_2.shape[1]))\n",
    "    \n",
    "    if np.max(y) < 1:\n",
    "        wj[kx, ky] = 0\n",
    "    # If Power Spectrum is 0 then wj is 0\n",
    "        \n",
    "    else:\n",
    "        peak_heights = y\n",
    "        \n",
    "        # Find the peak with the maximum height\n",
    "        max_peak_index = np.argmax(peak_heights)\n",
    "        max_peak_height = peak_heights[max_peak_index]\n",
    "\n",
    "        threshold = 6\n",
    "\n",
    "        # Check if the maximum peak 6 times larger than the others\n",
    "        # If it is we conclude it is a peak on its own and print\n",
    "        if max_peak_height > threshold * np.max(peak_heights[peak_heights != max_peak_height]):\n",
    "            wj[kx,ky] = w[max_peak_index]\n",
    "            \n",
    "        else:\n",
    "            pass\n",
    "            \n",
    "    return wj"
   ]
  },
  {
   "cell_type": "code",
   "execution_count": 134,
   "id": "3d8d1436",
   "metadata": {},
   "outputs": [],
   "source": [
    "def identification(kx, ky, ratio=10., prominence=1e5, distance=5):\n",
    "    \n",
    "    '''Scans for peaks and then sorts them by heights. \n",
    "    It keeps the peaks which are ratio times smaller than the next'''\n",
    "    \n",
    "    y = I_2[kx,ky,:]\n",
    "    wj = np.zeros((I_2.shape[0], I_2.shape[1]))\n",
    "    \n",
    "    if np.max(y) < 1:\n",
    "        wj[kx, ky] = 0\n",
    "    # If Power Spectrum is 0 then wj is 0\n",
    "    \n",
    "    else:\n",
    "        peaks, stats = find_peaks(y, prominence=prominence, distance=distance)\n",
    "        order = np.flip(np.argsort(stats[\"prominences\"]))\n",
    "\n",
    "        values = []\n",
    "\n",
    "        if len(peaks) == 1:\n",
    "            values.append(w[peaks[0]])\n",
    "            wj[kx,ky] = w[peaks[0]]\n",
    "\n",
    "        elif len(peaks) > 1:\n",
    "            for i, j in zip(order[:-1], order[1:]):\n",
    "                if stats[\"prominences\"][i] >= ratio * stats[\"prominences\"][j]:\n",
    "                    values.append(w[peaks[i]])\n",
    "                    wj[kx,ky] = w[peaks[i]]\n",
    "                    \n",
    "#        return {\n",
    "#            \"values\": values,\n",
    "#            \"order\": order,\n",
    "#            \"peaks\": peaks,\n",
    "#            \"stats\": stats,\n",
    "#        }\n",
    "    \n",
    "    return wj "
   ]
  },
  {
   "cell_type": "code",
   "execution_count": 135,
   "id": "d9f73038",
   "metadata": {},
   "outputs": [],
   "source": [
    "wj_array = []\n",
    "\n",
    "for kx in range(I_2.shape[0]):\n",
    "    for ky in range(I_2.shape[1]):\n",
    "        wj_array.append(identification(kx, ky, ratio=10., prominence=1e5, distance=15))"
   ]
  },
  {
   "cell_type": "code",
   "execution_count": 136,
   "id": "3f779472",
   "metadata": {},
   "outputs": [],
   "source": [
    "w0_2D = np.sum(wj_array, axis=0)\n",
    "# gives the 2d array w0(kx,ky)"
   ]
  },
  {
   "cell_type": "code",
   "execution_count": 137,
   "id": "ab3018b3",
   "metadata": {},
   "outputs": [],
   "source": [
    "w0 = w0_2D[w0_2D != 0]"
   ]
  },
  {
   "cell_type": "code",
   "execution_count": 138,
   "id": "000da2fe",
   "metadata": {},
   "outputs": [],
   "source": [
    "nonzero_indices = np.nonzero(w0_2D)"
   ]
  },
  {
   "cell_type": "code",
   "execution_count": 139,
   "id": "a9980f77",
   "metadata": {},
   "outputs": [],
   "source": [
    "kx_indices = nonzero_indices[0]\n",
    "ky_indices = nonzero_indices[1]"
   ]
  },
  {
   "cell_type": "code",
   "execution_count": 140,
   "id": "402513e1",
   "metadata": {},
   "outputs": [],
   "source": [
    "kx_trip = Kx[kx_indices]\n",
    "ky_trip = Ky[ky_indices]"
   ]
  },
  {
   "cell_type": "code",
   "execution_count": 141,
   "id": "3088024f",
   "metadata": {},
   "outputs": [],
   "source": [
    "def plot_disp_shell(axes, h, z, U, psi, label='', plot_type='surf', linestyles='line', put_clabel=True):\n",
    "    g = 9.81\n",
    "    alpha = 0.5 # value that defines opacity in plot\n",
    "    dk = 0.005\n",
    "    k = np.arange(0.01, 0.35, dk)\n",
    "    dtheta=0.05\n",
    "    theta=np.arange(0, 2*np.pi+dtheta, dtheta)\n",
    "    kk, th = np.meshgrid(k, theta, indexing='ij')\n",
    "    U_eff = 2*kk*np.sum(U*np.exp(np.outer(2*kk,z)), axis=1).reshape(kk.shape)*np.abs(z[1]-z[0])\n",
    "    ww = kk*U_eff*np.cos(theta-psi) + np.sqrt(kk*g*np.tanh(kk*h))\n",
    "    kx = kk*np.cos(th)\n",
    "    ky = kk*np.sin(th)\n",
    "    if plot_type=='surf':\n",
    "        axes.plot_surface(kx, ky, ww, alpha=alpha, label=label)\n",
    "        axes.set_xlabel(r'$k_x~[\\mathrm{rad~m}^{-1}]$')\n",
    "        axes.set_ylabel(r'$k_y~[\\mathrm{rad~m}^{-1}]$')\n",
    "        axes.set_zlabel(r'$\\omega~[\\mathrm{rad~s}^{-1}]$')\n",
    "    elif plot_type=='contour':\n",
    "        levels = [0.6, 0.8, 1.0, 1.2, 1.4, 1.6, 1.8]\n",
    "        c = plt.contour(kx, ky, ww, levels=levels, linestyles=linestyles)#, label=label)\n",
    "        if put_clabel:\n",
    "            plt.clabel(c)\n",
    "        plt.xlabel(r'$k_x~[\\mathrm{rad~m}^{-1}]$') \n",
    "        plt.ylabel(r'$k_y~[\\mathrm{rad~m}^{-1}]$')\n",
    "        plt.axis('equal')\n",
    "        \n",
    "    return kx, ky, ww, kk, th"
   ]
  },
  {
   "cell_type": "code",
   "execution_count": 142,
   "id": "b123158c",
   "metadata": {},
   "outputs": [],
   "source": [
    "import matplotlib.patches as mpatches\n",
    "import matplotlib.lines as mlines"
   ]
  },
  {
   "cell_type": "code",
   "execution_count": 143,
   "id": "72f93160",
   "metadata": {},
   "outputs": [
    {
     "ename": "NameError",
     "evalue": "name 'U' is not defined",
     "output_type": "error",
     "traceback": [
      "\u001b[1;31m---------------------------------------------------------------------------\u001b[0m",
      "\u001b[1;31mNameError\u001b[0m                                 Traceback (most recent call last)",
      "\u001b[1;32m<ipython-input-143-cd97ce5600ce>\u001b[0m in \u001b[0;36m<module>\u001b[1;34m\u001b[0m\n\u001b[0;32m     11\u001b[0m \u001b[0max\u001b[0m\u001b[1;33m.\u001b[0m\u001b[0mset_zlabel\u001b[0m\u001b[1;33m(\u001b[0m\u001b[1;34m'η(x,y)'\u001b[0m\u001b[1;33m)\u001b[0m\u001b[1;33m\u001b[0m\u001b[1;33m\u001b[0m\u001b[0m\n\u001b[0;32m     12\u001b[0m \u001b[1;33m\u001b[0m\u001b[0m\n\u001b[1;32m---> 13\u001b[1;33m \u001b[0mkx\u001b[0m\u001b[1;33m,\u001b[0m \u001b[0mky\u001b[0m\u001b[1;33m,\u001b[0m \u001b[0mww\u001b[0m\u001b[1;33m,\u001b[0m \u001b[0mkk\u001b[0m\u001b[1;33m,\u001b[0m \u001b[0mth\u001b[0m \u001b[1;33m=\u001b[0m \u001b[0mplot_disp_shell\u001b[0m\u001b[1;33m(\u001b[0m\u001b[0max\u001b[0m\u001b[1;33m,\u001b[0m \u001b[0mh\u001b[0m\u001b[1;33m=\u001b[0m\u001b[1;36m1000\u001b[0m\u001b[1;33m,\u001b[0m \u001b[0mz\u001b[0m\u001b[1;33m=\u001b[0m\u001b[0mz\u001b[0m\u001b[1;33m,\u001b[0m \u001b[0mU\u001b[0m\u001b[1;33m=\u001b[0m\u001b[0mU\u001b[0m\u001b[1;33m,\u001b[0m \u001b[0mpsi\u001b[0m\u001b[1;33m=\u001b[0m\u001b[1;36m0\u001b[0m\u001b[1;33m)\u001b[0m\u001b[1;33m\u001b[0m\u001b[1;33m\u001b[0m\u001b[0m\n\u001b[0m\u001b[0;32m     14\u001b[0m \u001b[1;33m\u001b[0m\u001b[0m\n\u001b[0;32m     15\u001b[0m \u001b[1;31m# Create legend manually with a dot for 'Triplets'\u001b[0m\u001b[1;33m\u001b[0m\u001b[1;33m\u001b[0m\u001b[1;33m\u001b[0m\u001b[0m\n",
      "\u001b[1;31mNameError\u001b[0m: name 'U' is not defined"
     ]
    },
    {
     "data": {
      "image/png": "[encoded data removed]",
      "text/plain": [
       "<Figure size 720x504 with 1 Axes>"
      ]
     },
     "metadata": {
      "needs_background": "light"
     },
     "output_type": "display_data"
    }
   ],
   "source": [
    "# Creating figure\n",
    "fig = plt.figure(figsize = (10, 7))\n",
    "ax = plt.axes(projection =\"3d\")\n",
    " \n",
    "# Creating plot\n",
    "ax.scatter3D(-kx_trip, -ky_trip, w0, color = \"red\", s = 5)\n",
    "plt.title(\"Spectrum\")\n",
    "\n",
    "ax.set_xlabel('x')\n",
    "ax.set_ylabel('y')\n",
    "ax.set_zlabel('η(x,y)')\n",
    "\n",
    "kx, ky, ww, kk, th = plot_disp_shell(ax, h=1000, z=z, U=U, psi=0)\n",
    "\n",
    "# Create legend manually with a dot for 'Triplets'\n",
    "legend_elements = [\n",
    "    mlines.Line2D([0], [0], marker='o', color='w', markerfacecolor='red', markersize=10, label='Triplets'),\n",
    "    mlines.Line2D([0], [0], color='blue', label='Dispersion relation')\n",
    "]\n",
    "\n",
    "# Create legend\n",
    "ax.legend(handles=legend_elements)\n",
    " \n",
    "# show plot\n",
    "plt.show()"
   ]
  },
  {
   "cell_type": "markdown",
   "id": "ed1b22c9",
   "metadata": {},
   "source": [
    "## 1.2.4) Convert to polars"
   ]
  },
  {
   "cell_type": "code",
   "execution_count": 60,
   "id": "331f7fa0",
   "metadata": {},
   "outputs": [],
   "source": [
    "from scipy.stats import t"
   ]
  },
  {
   "cell_type": "code",
   "execution_count": 61,
   "id": "ce9af1e5",
   "metadata": {},
   "outputs": [],
   "source": [
    "# kx_2D, ky_2D= np.meshgrid(kx_trip, ky_trip, indexing='ij')\n",
    "kx_2D, ky_2D= np.meshgrid(Kx, Ky, indexing='ij')"
   ]
  },
  {
   "cell_type": "code",
   "execution_count": 62,
   "id": "fdfa48c6",
   "metadata": {},
   "outputs": [],
   "source": [
    "K_2D = np.sqrt(kx_2D**2 + ky_2D**2)\n",
    "theta_2D = np.arctan2(ky_2D, kx_2D)"
   ]
  },
  {
   "cell_type": "markdown",
   "id": "a877d95b",
   "metadata": {},
   "source": [
    "## 1.2.5) Find Effective Current"
   ]
  },
  {
   "cell_type": "code",
   "execution_count": 63,
   "id": "eab0cabe",
   "metadata": {},
   "outputs": [],
   "source": [
    "def sinusoidinal(x, a, b):\n",
    "    return a*np.cos(x - b) "
   ]
  },
  {
   "cell_type": "code",
   "execution_count": 64,
   "id": "7d2d85fe",
   "metadata": {},
   "outputs": [],
   "source": [
    "def grubbs_test(x, y):\n",
    "    \"\"\"\n",
    "    Grubb's test removes outlier in y axis and also removes the corresponding x value\n",
    "    \"\"\"\n",
    "\n",
    "    # Gets mean and standard deviation of data\n",
    "    mean_data = np.mean(y)\n",
    "    std_data = np.std(y)\n",
    "\n",
    "    # Calculate Grubbs test statistic\n",
    "    z_scores = np.abs((y - mean_data) / std_data)\n",
    "    max_z = np.max(z_scores)\n",
    "\n",
    "    # Calculate critical value based on the t-distribution\n",
    "    n = len(y)\n",
    "    critical_value = t.ppf(0.975, n - 2) / np.sqrt(n)\n",
    "\n",
    "    # Identify and removes any outlier\n",
    "    outlier_index = np.argmax(z_scores)\n",
    "    if max_z > critical_value:\n",
    "        #print(f\"Outlier detected at index {outlier_index}, value: {y[outlier_index]}\")\n",
    "        y = np.delete(y, outlier_index)\n",
    "        x = np.delete(x, outlier_index)\n",
    "\n",
    "        \n",
    "    return x, y "
   ]
  },
  {
   "cell_type": "code",
   "execution_count": 65,
   "id": "f163f7b6",
   "metadata": {},
   "outputs": [],
   "source": [
    "cut_k_array = np.arange(0.001, 0.35, 0.001)\n",
    "\n",
    "U_array = []\n",
    "Φ_array = []\n",
    "\n",
    "for i in range(len(cut_k_array)):\n",
    "    k_slice = cut_k_array[i]\n",
    "\n",
    "    ind = np.where(np.round(K_2D, 2) == k_slice)\n",
    "    \n",
    "    # Slice at wavenumber cut_k - once k is within 0.01 it is counted as a slice\n",
    "    w0_is_k = w0_2D[ind[0], ind[1]]\n",
    "    theta_is_k = theta_2D[ind[0], ind[1]]\n",
    "    \n",
    "    # w and theta values along k_slice\n",
    "    inds_where_w0_nonzero = np.where(w0_is_k != 0)\n",
    "    \n",
    "    if len(inds_where_w0_nonzero[0]) > 1:\n",
    "        # How many nonzero w0 theres needs to be to be counted (increased numbers, increases accuracy)\n",
    "        nonzero_theta_at_k = theta_is_k[inds_where_w0_nonzero]\n",
    "        nonzero_w0_at_k = w0_is_k[inds_where_w0_nonzero]\n",
    "        \n",
    "        x_theta = nonzero_theta_at_k\n",
    "        y_theta = (nonzero_w0_at_k - np.sqrt(9.81 * k_slice)) / k_slice\n",
    "        \n",
    "        # Preform Grubbs test to remove outliers\n",
    "        x_theta, y_theta = grubbs_test(x_theta, y_theta)\n",
    "        \n",
    "        # Fitting Cos onto points\n",
    "        pars0 = (max(y_theta), 1)  # initial guess\n",
    "        popt, pcov = curve_fit(sinusoidinal, x_theta, y_theta, absolute_sigma=True, p0=pars0)\n",
    "        \n",
    "        # U value\n",
    "        U_opt = popt[0]\n",
    "        U_opt_err = np.sqrt(pcov[0, 0])\n",
    "        U_array.append(np.abs(U_opt))\n",
    "        \n",
    "        # Φ\n",
    "        Φ_opt = popt[1]\n",
    "        Φ_opt_err = np.sqrt(pcov[1, 1])\n",
    "        \n",
    "        if U_opt > 0:\n",
    "            Φ_opt = np.pi - Φ_opt\n",
    "        # Condition due to definition of direction of current \n",
    "        \n",
    "        Φ_array.append(Φ_opt)\n",
    "    else:\n",
    "        # If no values in inds_where_w0_nonzero, append None or a placeholder value as needed\n",
    "        U_array.append(None)\n",
    "        Φ_array.append(None)"
   ]
  },
  {
   "cell_type": "code",
   "execution_count": 66,
   "id": "f796880a",
   "metadata": {},
   "outputs": [
    {
     "data": {
      "text/plain": [
       "(-0.5, 12.0)"
      ]
     },
     "execution_count": 66,
     "metadata": {},
     "output_type": "execute_result"
    },
    {
     "data": {
      "image/png": "[encoded data removed]",
      "text/plain": [
       "<Figure size 432x288 with 1 Axes>"
      ]
     },
     "metadata": {
      "needs_background": "light"
     },
     "output_type": "display_data"
    }
   ],
   "source": [
    "plt.scatter(cut_k_array, U_array, color = 'red', label = 'PCS Points')\n",
    "#plt.plot(k, Uk[:,0], color = 'black', linestyle = '--',  label='Correct U')\n",
    "\n",
    "plt.xlabel(\"k\")\n",
    "plt.ylabel(\"U\")\n",
    "plt.title(\"Depend of Current on Wavenumber\")\n",
    "plt.grid(True)\n",
    "plt.legend()\n",
    "plt.ylim(-0.5, 12)"
   ]
  },
  {
   "cell_type": "code",
   "execution_count": null,
   "id": "f58ac448",
   "metadata": {},
   "outputs": [],
   "source": []
  },
  {
   "cell_type": "markdown",
   "id": "a4074c02",
   "metadata": {},
   "source": [
    "# 2.1) Inverted Profile"
   ]
  },
  {
   "cell_type": "code",
   "execution_count": 67,
   "id": "091fcf77",
   "metadata": {},
   "outputs": [],
   "source": [
    "import numpy as np\n",
    "from scipy.optimize import minimize_scalar\n",
    "from scipy.special import factorial, gammaincc, gamma\n",
    "from numpy.polynomial import Polynomial\n",
    "\n",
    "def rms(x):\n",
    "    return np.sqrt(np.mean(x**2))\n",
    "\n",
    "def pedm(k_vect, c_til, nMax_vals=None, deltaz_T_vals=None, deltaz_B_vals=None, waterDepth=None):\n",
    "\n",
    "    # If user has not provided information about the waterDepth, set to infinity\n",
    "    if waterDepth is None:\n",
    "        waterDepth = np.inf\n",
    "\n",
    "    # Handling for inadequate input data.\n",
    "    if len(k_vect) == 0 or len(c_til) == 0:\n",
    "        return np.nan, np.nan, np.nan, np.nan, np.nan\n",
    "\n",
    "    # Now we start with the PEDM. The steps follow those in the manuscript in section 2.1.2 Effect of limitations of measured Doppler shifts\n",
    "    # Define the parameters.\n",
    "    # Calculate effective depths of Doppler shift velocities based on assumption of a linear profile\n",
    "    Z_eff = -(2 * k_vect) ** -1 * np.tanh(np.abs(waterDepth) * k_vect)\n",
    "\n",
    "    # Set default values for PEDM parameter combinations if inputs left blank\n",
    "    if nMax_vals is None:\n",
    "        nm = min(12, round(len(k_vect) / 2))\n",
    "        nMax_vals = np.arange(0, nm+1)\n",
    "    \n",
    "    if deltaz_T_vals is None:\n",
    "        depthRange = np.abs(Z_eff[0] - Z_eff[-1])\n",
    "        deltaz_T_vals = np.linspace(0.01, 0.2, 20) * depthRange\n",
    "\n",
    "    if deltaz_B_vals is None:\n",
    "        depthRange = np.abs(Z_eff[0] - Z_eff[-1])\n",
    "        deltaz_B_vals = np.linspace(0.02, 0.8, 20) * depthRange\n",
    "\n",
    "    z_c = max(4 * np.min(Z_eff), -np.abs(waterDepth))  # Cutoff depth chosen as 4 times the deepest mapped depth. (Set to water depth if depth is shallower)\n",
    "    # z_c is NEGATIVE by convention here\n",
    "\n",
    "    # We loop over all PEDM parameter combinations. First initialize eps_PEDM_out as well as the other outputs.\n",
    "    eps_PEDM_out = np.inf\n",
    "    eps_EDM_out = np.inf\n",
    "\n",
    "    pPEDM_out = np.nan\n",
    "    pEDM_out = np.nan\n",
    "\n",
    "    verbose = []\n",
    "    combo = 0\n",
    "\n",
    "    for nMax in nMax_vals:\n",
    "        for deltaz_B in deltaz_B_vals:\n",
    "            for deltaz_T in deltaz_T_vals:\n",
    "                # STEP 1: Fit the mapped Doppler shifts to a polynomial of order nMax.\n",
    "                p1 = np.polyfit(Z_eff, c_til, nMax)\n",
    "\n",
    "                # STEP 2: Create additional velocity-depth pairs by linearly extrapolating up to the surface and down to cutoff depth z_c\n",
    "                zB = np.linspace(0, deltaz_B, 100)\n",
    "                zT = np.linspace(-deltaz_T, 0, 100)\n",
    "\n",
    "                pTop = np.polyfit(Z_eff[-1] + zT, np.polyval(p1, Z_eff[-1] + zT), 1)\n",
    "                pBottom = np.polyfit(Z_eff[0] + zB, np.polyval(p1, Z_eff[0] + zB), 1)\n",
    "\n",
    "                depthsExBtm = np.arange(z_c, Z_eff[0] - deltaz_B, deltaz_B)\n",
    "                depthsExTop = np.concatenate((np.arange(Z_eff[-1] + deltaz_T, 0, deltaz_T), [0]))\n",
    "\n",
    "                zEx = np.concatenate((depthsExBtm, Z_eff, depthsExTop))\n",
    "                cTilEx = np.concatenate((np.polyval(pBottom, depthsExBtm), c_til, np.polyval(pTop, depthsExTop)))\n",
    "\n",
    "                # STEP 3: Perform a second polynomial fit on the expanded set of points\n",
    "                pEDM = np.polyfit(zEx, cTilEx, nMax)\n",
    "\n",
    "                # Determine if profile is monotonic with range of mapped depths.\n",
    "                nv = np.arange(nMax, 0, -1)\n",
    "                pczEx_p = nv * pEDM[:-1]  # Derivative polynomial coefficients\n",
    "                rts = np.roots(pczEx_p)  # Find roots\n",
    "                rts = rts[np.isreal(rts)]  # Discard complex roots\n",
    "\n",
    "                # If there roots of the derivative within ranges of mapped depths, don't go further.\n",
    "                if np.any((rts > Z_eff[0]) & (rts < 0)):\n",
    "                    continue\n",
    "\n",
    "                # STEP 4: Scale polynomial coefficients defining U_EDM by n! as in equation (8) in the article.\n",
    "                pPEDM_i = pEDM / factorial(np.arange(nMax, -1, -1))\n",
    "\n",
    "                # STEP 5: Create a new set of linearly extrapolated points down to z_c based on the average shear of the above polynomial function in a depth interval deltaz_B/2 at the deep end of the regime.\n",
    "                zB2 = np.linspace(0, deltaz_B/2, 100)\n",
    "                pBottom2 = np.polyfit(Z_eff[0] + zB, np.polyval(pPEDM_i, Z_eff[0] + zB), 1)\n",
    "\n",
    "                depthsExBtm2 = np.arange(z_c, Z_eff[0] - deltaz_B, deltaz_B/2)\n",
    "\n",
    "                zEx2 = np.concatenate((depthsExBtm2, Z_eff, depthsExTop))\n",
    "                Uvals = np.concatenate((np.polyval(pBottom2, depthsExBtm2), np.polyval(pPEDM_i, Z_eff), np.polyval(pPEDM_i, depthsExTop)))\n",
    "\n",
    "                # STEP 6: Perform a final polynomial fit on the expanded set of points.\n",
    "                pPEDM = np.polyfit(zEx2, Uvals, nMax)\n",
    "\n",
    "                # Calculate Doppler shifts assuming U_EDM or U_PEDM as the current profile, using the forward problem.\n",
    "                c_tilEDM = 0\n",
    "                c_tilPEDM = 0\n",
    "\n",
    "                if nMax < 2:\n",
    "                    for n in range(nMax + 1):\n",
    "                        c_tilEDM = c_tilEDM + factorial(n) * pEDM[-n-1] * (-1 / (2 * k_vect)) ** n\n",
    "                        c_tilPEDM = c_tilPEDM + factorial(n) * pPEDM[-n-1] * (-1 / (2 * k_vect)) ** n\n",
    "                else:\n",
    "                    for n in range(nMax + 1):\n",
    "                        c_tilEDM = c_tilEDM + (-1 / 2) ** (n) * k_vect ** (-n) * pEDM[-n-1] * (gammainc(1 + n, -2 * k_vect * z_c)) * gamma(n + 1)\n",
    "                        c_tilPEDM = c_tilPEDM + (-1 / 2) ** (n) * k_vect ** (-n) * pPEDM[-n-1] * (gammainc(1 + n, -2 * k_vect * z_c)) * gamma(n + 1)\n",
    "\n",
    "                # Calculate RMS differences (equation (9) in manuscript)\n",
    "                eps_EDM = rms(c_til - c_tilEDM)  # RMS difference for U_EDM\n",
    "                eps_PEDM = rms(c_til - c_tilPEDM)  # RMS difference for U_PEDM.\n",
    "\n",
    "                # Parameters nMax, deltaz_T, and deltaz_B are chosen to minimize eps_PEDM in practice.\n",
    "                if eps_PEDM < eps_PEDM_out:\n",
    "                    eps_PEDM_out = eps_PEDM\n",
    "                    pPEDM_out = pPEDM\n",
    "                    nMax_out = nMax\n",
    "                    deltaz_B_out = deltaz_B\n",
    "                    deltaz_T_out = deltaz_T\n",
    "\n",
    "                if eps_EDM < eps_EDM_out:\n",
    "                    eps_EDM_out = eps_EDM\n",
    "                    pEDM_out = pEDM\n",
    "\n",
    "                combo = combo + 1\n",
    "                verbose.append({\n",
    "                    #'pPEDM': pPEDM.tolist(),\n",
    "                    #'pEDM': pEDM.tolist(),\n",
    "                    'pPEDM': pPEDM,\n",
    "                    'pEDM': pEDM,\n",
    "                    'eps_PEDM': eps_PEDM,\n",
    "                    'eps_EDM': eps_EDM,\n",
    "                    'nMax': nMax,\n",
    "                    'deltaz_B': deltaz_B,\n",
    "                    'deltaz_T': deltaz_T\n",
    "                })\n",
    "\n",
    "                \n",
    "                #return pPEDM_out, pEDM_out, eps_PEDM_out, eps_EDM_out, verbose\n",
    "    return pPEDM_out, pEDM_out, eps_PEDM_out, eps_EDM_out, verbose\n",
    "\n",
    "# Example usage:\n",
    "pPEDM1, pEDM1, eps_PEDM1, eps_EDM1, verbose1 = pedm(wavenumbers, -Ux)\n",
    "pPEDM2, pEDM2, eps_PEDM2, eps_EDM2, verbose2 = pedm(wavenumbers, Uy)"
   ]
  },
  {
   "cell_type": "markdown",
   "id": "06c13c6a",
   "metadata": {},
   "source": [
    "## Testing"
   ]
  },
  {
   "cell_type": "code",
   "execution_count": 68,
   "id": "eb365e96",
   "metadata": {},
   "outputs": [],
   "source": [
    "matlab_ux = np.array([1.29324047095870, -1.89463189363109, -1.69708851869363, -0.669636210830390, -2.75906065502856, -1.94768284605381, -1.66698298781537, -0.899800584589916, 0.0297085589908087, -0.514835078702308, -0.0105890842080116, 0.0759766804549144, -0.0363850496987580, -0.0484059195965528, -0.0103916622911056, -0.0308550721930313, 0.398842029692605, -0.117723340988159, -0.441378683422372, 0.430707406907151, -0.699842772060439, 0.399538248189037, 0.730470696764732, -0.523203395681584, 0.499213099684858])"
   ]
  },
  {
   "cell_type": "code",
   "execution_count": null,
   "id": "b1c0dc23",
   "metadata": {},
   "outputs": [],
   "source": []
  },
  {
   "cell_type": "code",
   "execution_count": null,
   "id": "604aafaf",
   "metadata": {},
   "outputs": [],
   "source": []
  },
  {
   "cell_type": "code",
   "execution_count": 69,
   "id": "47d6894a",
   "metadata": {},
   "outputs": [],
   "source": [
    "z = np.linspace(-20, 0, 100)"
   ]
  },
  {
   "cell_type": "code",
   "execution_count": 70,
   "id": "e7f759ff",
   "metadata": {},
   "outputs": [],
   "source": [
    "U1_fun = lambda z: np.polyval(pPEDM1, z)\n",
    "U2_fun = lambda z: np.polyval(pPEDM2, z)"
   ]
  },
  {
   "cell_type": "code",
   "execution_count": 71,
   "id": "2baeca21",
   "metadata": {},
   "outputs": [
    {
     "data": {
      "text/plain": [
       "<matplotlib.legend.Legend at 0x1ba24d327f0>"
      ]
     },
     "execution_count": 71,
     "metadata": {},
     "output_type": "execute_result"
    },
    {
     "data": {
      "image/png": "[encoded data removed]",
      "text/plain": [
       "<Figure size 432x288 with 1 Axes>"
      ]
     },
     "metadata": {
      "needs_background": "light"
     },
     "output_type": "display_data"
    }
   ],
   "source": [
    "plt.plot(U1_fun(z), z, label=\"$U_{x}$\", color = 'red')\n",
    "plt.plot(U2_fun(z), z, label=\"$U_{y}$\", color = 'green')\n",
    "\n",
    "plt.scatter(-Ux, -1/(2*wavenumbers), label='EDM', color = 'black')\n",
    "#plt.scatter(-Ux, -1/(3.56*wavenumbers), label='EDM', color = 'red')\n",
    "\n",
    "plt.grid(True)\n",
    "plt.title(\"PEDM\")\n",
    "plt.xlabel(\"U [m/s]\")\n",
    "plt.ylabel(\"Depth [m]\")\n",
    "plt.legend()"
   ]
  },
  {
   "cell_type": "code",
   "execution_count": 72,
   "id": "4746bb47",
   "metadata": {},
   "outputs": [
    {
     "data": {
      "text/plain": [
       "1066"
      ]
     },
     "execution_count": 72,
     "metadata": {},
     "output_type": "execute_result"
    }
   ],
   "source": [
    "len(verbose1)"
   ]
  },
  {
   "cell_type": "code",
   "execution_count": 73,
   "id": "b50c99e2",
   "metadata": {},
   "outputs": [
    {
     "data": {
      "text/plain": [
       "array([ 0.10510466, -0.01111033])"
      ]
     },
     "execution_count": 73,
     "metadata": {},
     "output_type": "execute_result"
    }
   ],
   "source": [
    "pPEDM1"
   ]
  },
  {
   "cell_type": "code",
   "execution_count": 74,
   "id": "56c8b14f",
   "metadata": {},
   "outputs": [
    {
     "data": {
      "text/plain": [
       "{'pPEDM': array([-0.40715103]),\n",
       " 'pEDM': array([-0.40715103]),\n",
       " 'eps_PEDM': 0.994583690542734,\n",
       " 'eps_EDM': 0.994583690542734,\n",
       " 'nMax': 0,\n",
       " 'deltaz_B': 0.2334272498681132,\n",
       " 'deltaz_T': 0.1167136249340566}"
      ]
     },
     "execution_count": 74,
     "metadata": {},
     "output_type": "execute_result"
    }
   ],
   "source": [
    "verbose1[0]"
   ]
  },
  {
   "cell_type": "code",
   "execution_count": null,
   "id": "d7f707aa",
   "metadata": {},
   "outputs": [],
   "source": []
  },
  {
   "cell_type": "code",
   "execution_count": null,
   "id": "f8781c58",
   "metadata": {},
   "outputs": [],
   "source": []
  },
  {
   "cell_type": "code",
   "execution_count": null,
   "id": "df972d4f",
   "metadata": {},
   "outputs": [],
   "source": []
  },
  {
   "cell_type": "code",
   "execution_count": null,
   "id": "448195c1",
   "metadata": {},
   "outputs": [],
   "source": []
  },
  {
   "cell_type": "code",
   "execution_count": null,
   "id": "a1fd041f",
   "metadata": {},
   "outputs": [],
   "source": []
  },
  {
   "cell_type": "code",
   "execution_count": null,
   "id": "c7703f8d",
   "metadata": {},
   "outputs": [],
   "source": []
  },
  {
   "cell_type": "code",
   "execution_count": null,
   "id": "6983493a",
   "metadata": {},
   "outputs": [],
   "source": []
  },
  {
   "cell_type": "code",
   "execution_count": null,
   "id": "e72e1d0f",
   "metadata": {},
   "outputs": [],
   "source": []
  },
  {
   "cell_type": "code",
   "execution_count": null,
   "id": "2ac1e89f",
   "metadata": {},
   "outputs": [],
   "source": []
  },
  {
   "cell_type": "code",
   "execution_count": null,
   "id": "de4b8eb7",
   "metadata": {},
   "outputs": [],
   "source": []
  },
  {
   "cell_type": "code",
   "execution_count": null,
   "id": "8de32b53",
   "metadata": {},
   "outputs": [],
   "source": []
  },
  {
   "cell_type": "code",
   "execution_count": null,
   "id": "81de41b4",
   "metadata": {},
   "outputs": [],
   "source": []
  },
  {
   "cell_type": "code",
   "execution_count": null,
   "id": "57a7486c",
   "metadata": {},
   "outputs": [],
   "source": []
  },
  {
   "cell_type": "code",
   "execution_count": null,
   "id": "b0ede5a4",
   "metadata": {},
   "outputs": [],
   "source": []
  }
 ],
 "metadata": {
  "kernelspec": {
   "display_name": "Python 3",
   "language": "python",
   "name": "python3"
  },
  "language_info": {
   "codemirror_mode": {
    "name": "ipython",
    "version": 3
   },
   "file_extension": ".py",
   "mimetype": "text/x-python",
   "name": "python",
   "nbconvert_exporter": "python",
   "pygments_lexer": "ipython3",
   "version": "3.8.8"
  }
 },
 "nbformat": 4,
 "nbformat_minor": 5
}
