{
 "cells": [
  {
   "cell_type": "code",
   "execution_count": 1,
   "id": "14161e7a",
   "metadata": {},
   "outputs": [],
   "source": [
    "import sys\n",
    "sys.path.append(\"C:\\\\Users\\josep\\Documents\\Anaconda\\pkgs\")\n",
    "import help_tools\n",
    "import wave_tools\n",
    "import cv2\n",
    "import h5py\n",
    "from matplotlib import cm\n",
    "import radar_tools\n",
    "import numpy as np\n",
    "from wave_tools import ConstructWave, surface_core, peak_tracking\n",
    "from wave_tools import fft_interpolate, fft_interface, Spectrum\n",
    "from wave_tools import SpectralAnalysis\n",
    "import matplotlib.pyplot as plt\n",
    "from help_tools import plotting_interface\n",
    "from wave_tools import surface_core, fft_interface, dispersionRelation\n",
    "from help_tools import plotting_interface, polar_coordinates, convolutional_filters, moving_average\n",
    "from scipy.optimize import least_squares\n",
    "from scipy.optimize import minimize\n",
    "from scipy.optimize import curve_fit\n",
    "from matplotlib.ticker import LinearLocator, FormatStrFormatter\n",
    "from tqdm import tqdm\n",
    "from mpl_toolkits.mplot3d import Axes3D\n",
    "from scipy.special import gamma, gammainc"
   ]
  },
  {
   "cell_type": "code",
   "execution_count": 801,
   "id": "e46d1f48",
   "metadata": {},
   "outputs": [],
   "source": [
    "%matplotlib widget"
   ]
  },
  {
   "cell_type": "code",
   "execution_count": 3,
   "id": "f111f893",
   "metadata": {},
   "outputs": [],
   "source": [
    "%matplotlib inline"
   ]
  },
  {
   "cell_type": "code",
   "execution_count": 4,
   "id": "94b0aef2",
   "metadata": {},
   "outputs": [],
   "source": [
    "sys.path.append(\"C:\\\\Users\\josep\\Desktop\\PHYC40900_Project TP\")"
   ]
  },
  {
   "cell_type": "code",
   "execution_count": 5,
   "id": "e3f30ad9",
   "metadata": {},
   "outputs": [],
   "source": [
    "f = h5py.File('C:\\\\Users\\josep\\Desktop\\PHYC40900_Project TP\\Real Data Sets\\First Tel-Aviv data', 'r')"
   ]
  },
  {
   "cell_type": "code",
   "execution_count": 6,
   "id": "ec4dc6fb",
   "metadata": {},
   "outputs": [
    {
     "data": {
      "text/plain": [
       "<KeysViewHDF5 ['t', 'wamos', 'x', 'y']>"
      ]
     },
     "execution_count": 6,
     "metadata": {},
     "output_type": "execute_result"
    }
   ],
   "source": [
    "f.keys()"
   ]
  },
  {
   "cell_type": "code",
   "execution_count": 7,
   "id": "14931853",
   "metadata": {},
   "outputs": [],
   "source": [
    "x = f.get('x')\n",
    "y = f.get('y')\n",
    "t = f.get('t')\n",
    "wamos = f.get('wamos')\n",
    "\n",
    "x = np.array(x)\n",
    "y = np.array(y)\n",
    "t = np.array(t)\n",
    "wamos = np.array(wamos)"
   ]
  },
  {
   "cell_type": "code",
   "execution_count": 8,
   "id": "d8026eea",
   "metadata": {},
   "outputs": [
    {
     "data": {
      "text/plain": [
       "array([[[1417., 1810., 1348., ..., 1177., 1248., 1290.],\n",
       "        [1683., 1587., 1656., ..., 1081., 1170., 1122.],\n",
       "        [1746., 1693., 1896., ..., 1224., 1224.,  660.],\n",
       "        ...,\n",
       "        [1660., 2165., 2723., ..., 1741., 1838., 1814.],\n",
       "        [1199., 1753., 2969., ..., 1440., 1491., 1646.],\n",
       "        [1723., 1653., 2290., ..., 1368., 1273., 1381.]],\n",
       "\n",
       "       [[1779., 1694., 1774., ..., 1146., 1200., 1333.],\n",
       "        [1308., 1824., 1347., ..., 1282., 1738., 1980.],\n",
       "        [1929., 1298., 1786., ..., 1466., 1441., 1760.],\n",
       "        ...,\n",
       "        [1134., 2025., 2094., ...,  768.,  664.,  721.],\n",
       "        [1568., 1677., 2112., ...,  997.,  997.,  982.],\n",
       "        [1641., 2246., 2260., ...,  963.,  705.,  983.]],\n",
       "\n",
       "       [[2277., 2936., 3201., ..., 1344., 1027.,  928.],\n",
       "        [3079., 3297., 3528., ..., 1054.,  916.,    0.],\n",
       "        [2953., 3462., 2245., ...,  984.,  984., 1095.],\n",
       "        ...,\n",
       "        [2587., 2659., 2471., ..., 1701., 1628., 1378.],\n",
       "        [2107., 2596., 2766., ..., 1192., 1192., 1062.],\n",
       "        [1684., 1793., 2590., ..., 1418., 1037.,  837.]],\n",
       "\n",
       "       ...,\n",
       "\n",
       "       [[2459., 2195., 2020., ..., 1628., 1537.,  815.],\n",
       "        [1883., 2086., 1985., ...,  907., 1265.,  890.],\n",
       "        [2182., 2154., 2469., ..., 1464.,  846.,  542.],\n",
       "        ...,\n",
       "        [1536., 1767., 1988., ..., 1248., 1213., 1152.],\n",
       "        [1908., 1515., 1486., ..., 1179., 1374., 1277.],\n",
       "        [1721., 1707., 1587., ..., 1176., 1015.,  633.]],\n",
       "\n",
       "       [[2830., 2630., 2410., ..., 1222., 1252., 1242.],\n",
       "        [2738., 2150., 1748., ...,  921.,  986., 1024.],\n",
       "        [1941., 2117., 2031., ...,  734.,  734.,  781.],\n",
       "        ...,\n",
       "        [1125., 1547., 1715., ..., 1585., 1997., 2026.],\n",
       "        [1346., 1589., 1617., ..., 1080., 1586., 1604.],\n",
       "        [1182., 1663., 1450., ..., 1154., 1512., 1424.]],\n",
       "\n",
       "       [[1924., 2092., 2399., ...,  763., 1001., 1299.],\n",
       "        [2068., 2247., 2223., ..., 1066., 1419., 1752.],\n",
       "        [2206., 1897., 2089., ..., 1243., 1490., 1936.],\n",
       "        ...,\n",
       "        [1757., 1913., 2241., ..., 1586., 1392.,  651.],\n",
       "        [1635., 1683., 1386., ..., 1441., 1441., 1212.],\n",
       "        [1936., 1911., 1544., ..., 1384., 1401., 1401.]]])"
      ]
     },
     "execution_count": 8,
     "metadata": {},
     "output_type": "execute_result"
    }
   ],
   "source": [
    "wamos"
   ]
  },
  {
   "cell_type": "code",
   "execution_count": 9,
   "id": "a45abbf8",
   "metadata": {},
   "outputs": [
    {
     "data": {
      "text/plain": [
       "4095.0"
      ]
     },
     "execution_count": 9,
     "metadata": {},
     "output_type": "execute_result"
    }
   ],
   "source": [
    "np.max(wamos)"
   ]
  },
  {
   "cell_type": "code",
   "execution_count": 10,
   "id": "105e6d2f",
   "metadata": {},
   "outputs": [
    {
     "data": {
      "text/plain": [
       "array([-247.5 , -243.75, -240.  , -236.25, -232.5 , -228.75, -225.  ,\n",
       "       -221.25, -217.5 , -213.75, -210.  , -206.25, -202.5 , -198.75,\n",
       "       -195.  , -191.25, -187.5 , -183.75, -180.  , -176.25, -172.5 ,\n",
       "       -168.75, -165.  , -161.25, -157.5 , -153.75, -150.  , -146.25,\n",
       "       -142.5 , -138.75, -135.  , -131.25, -127.5 , -123.75, -120.  ,\n",
       "       -116.25, -112.5 , -108.75, -105.  , -101.25,  -97.5 ,  -93.75,\n",
       "        -90.  ,  -86.25,  -82.5 ,  -78.75,  -75.  ,  -71.25,  -67.5 ,\n",
       "        -63.75,  -60.  ,  -56.25,  -52.5 ,  -48.75,  -45.  ,  -41.25,\n",
       "        -37.5 ,  -33.75,  -30.  ,  -26.25,  -22.5 ,  -18.75,  -15.  ,\n",
       "        -11.25,   -7.5 ,   -3.75,    0.  ,    3.75,    7.5 ,   11.25,\n",
       "         15.  ,   18.75,   22.5 ,   26.25,   30.  ,   33.75,   37.5 ,\n",
       "         41.25,   45.  ,   48.75,   52.5 ,   56.25,   60.  ,   63.75,\n",
       "         67.5 ,   71.25,   75.  ,   78.75,   82.5 ,   86.25,   90.  ,\n",
       "         93.75,   97.5 ,  101.25,  105.  ,  108.75,  112.5 ,  116.25,\n",
       "        120.  ,  123.75,  127.5 ,  131.25,  135.  ,  138.75,  142.5 ,\n",
       "        146.25,  150.  ,  153.75,  157.5 ,  161.25,  165.  ,  168.75,\n",
       "        172.5 ,  176.25,  180.  ,  183.75,  187.5 ,  191.25,  195.  ,\n",
       "        198.75,  202.5 ,  206.25,  210.  ,  213.75,  217.5 ,  221.25,\n",
       "        225.  ,  228.75,  232.5 ,  236.25,  240.  ,  243.75])"
      ]
     },
     "execution_count": 10,
     "metadata": {},
     "output_type": "execute_result"
    }
   ],
   "source": [
    "x"
   ]
  },
  {
   "cell_type": "code",
   "execution_count": 11,
   "id": "5f9574b8",
   "metadata": {},
   "outputs": [
    {
     "data": {
      "text/plain": [
       "(366,)"
      ]
     },
     "execution_count": 11,
     "metadata": {},
     "output_type": "execute_result"
    }
   ],
   "source": [
    "t.shape"
   ]
  },
  {
   "cell_type": "code",
   "execution_count": 12,
   "id": "94625a52",
   "metadata": {},
   "outputs": [
    {
     "data": {
      "text/plain": [
       "(366, 132, 132)"
      ]
     },
     "execution_count": 12,
     "metadata": {},
     "output_type": "execute_result"
    }
   ],
   "source": [
    "wamos.shape"
   ]
  },
  {
   "cell_type": "code",
   "execution_count": 13,
   "id": "c422f46d",
   "metadata": {},
   "outputs": [
    {
     "data": {
      "text/plain": [
       "-3.75"
      ]
     },
     "execution_count": 13,
     "metadata": {},
     "output_type": "execute_result"
    }
   ],
   "source": [
    "y[4] - y[5]"
   ]
  },
  {
   "cell_type": "code",
   "execution_count": 14,
   "id": "22a7969c",
   "metadata": {},
   "outputs": [],
   "source": [
    "dx = x[1] - x[0]\n",
    "dy = y[1] - y[0]\n",
    "dt = t[1] - t[0]"
   ]
  },
  {
   "cell_type": "code",
   "execution_count": 15,
   "id": "faef08c8",
   "metadata": {},
   "outputs": [
    {
     "data": {
      "text/plain": [
       "(366, 132, 132)"
      ]
     },
     "execution_count": 15,
     "metadata": {},
     "output_type": "execute_result"
    }
   ],
   "source": [
    "wamos.shape"
   ]
  },
  {
   "cell_type": "code",
   "execution_count": 16,
   "id": "c5438ad5",
   "metadata": {},
   "outputs": [
    {
     "data": {
      "text/plain": [
       "0.01269330365086785"
      ]
     },
     "execution_count": 16,
     "metadata": {},
     "output_type": "execute_result"
    }
   ],
   "source": [
    "dk = 2*np.pi/(dx*min(wamos.shape[0], wamos.shape[1]))\n",
    "dk"
   ]
  },
  {
   "cell_type": "code",
   "execution_count": 17,
   "id": "612f4b98",
   "metadata": {},
   "outputs": [
    {
     "data": {
      "text/plain": [
       "array([0.03807991, 0.05077321, 0.06346652, 0.07615982, 0.08885313,\n",
       "       0.10154643, 0.11423973, 0.12693304, 0.13962634, 0.15231964,\n",
       "       0.16501295, 0.17770625, 0.19039955, 0.20309286, 0.21578616,\n",
       "       0.22847947, 0.24117277, 0.25386607, 0.26655938, 0.27925268,\n",
       "       0.29194598, 0.30463929, 0.31733259, 0.33002589, 0.3427192 ])"
      ]
     },
     "execution_count": 17,
     "metadata": {},
     "output_type": "execute_result"
    }
   ],
   "source": [
    "wavenumbers = np.arange(3 * dk, 0.35, dk)\n",
    "wavenumbers"
   ]
  },
  {
   "cell_type": "markdown",
   "id": "6856125f",
   "metadata": {},
   "source": [
    "# 1) NSP Method"
   ]
  },
  {
   "cell_type": "markdown",
   "id": "309af8a5",
   "metadata": {},
   "source": [
    "## 1.1) NSP Implementation"
   ]
  },
  {
   "cell_type": "code",
   "execution_count": 18,
   "id": "95bb60ea",
   "metadata": {},
   "outputs": [],
   "source": [
    "maxFrequency = 4.0 \n",
    "\n",
    "kW = 1*dk\n",
    "# Half width of wavenumbers bins [rad/m]\n",
    "\n",
    "frequencyLimits = [0.01, 20.0]\n",
    "# frequency limits for masking the spectrum [min max], rad/sec\n",
    "\n",
    "Ux_limits = [-1, 1]\n",
    "# Ux current limits [m/s]\n",
    "\n",
    "Uy_limits = [-1, 1]\n",
    "# Uy current limts [m/s]\n",
    "\n",
    "U_res = 0.1\n",
    "# Current step size [m/s]\n",
    "\n",
    "omegaWidthFun = lambda k: 0.05 + 0.0 * k"
   ]
  },
  {
   "cell_type": "code",
   "execution_count": 19,
   "id": "4081fce1",
   "metadata": {},
   "outputs": [],
   "source": [
    "Uym, Uxm = np.meshgrid(np.arange(min(Uy_limits), max(Uy_limits) + U_res, U_res),\n",
    "                       np.arange(min(Ux_limits), max(Ux_limits) + U_res, U_res))"
   ]
  },
  {
   "cell_type": "code",
   "execution_count": 20,
   "id": "28b6623b",
   "metadata": {},
   "outputs": [],
   "source": [
    "h = np.inf\n",
    "g = 9.81\n",
    "T = 0.072 / 1000"
   ]
  },
  {
   "cell_type": "code",
   "execution_count": 21,
   "id": "c7fc33dd",
   "metadata": {},
   "outputs": [],
   "source": [
    "from scipy.fftpack import fftn, fftshift\n",
    "\n",
    "def retrieve_power_spectrum(IMG_3D, dx, dy, dt, K_limits=None, W_limits=None):\n",
    "    # Set default values for K_limits and W_limits if not provided\n",
    "    if K_limits is None:\n",
    "        K_limits = [-np.inf, np.inf]\n",
    "    if W_limits is None:\n",
    "        W_limits = [-np.inf, np.inf]\n",
    "\n",
    "    # Check limits\n",
    "    if any(np.array(K_limits) < 0):\n",
    "        print('retrieve_positive_spectrum: K_limits smaller than 0')\n",
    "    if any(np.array(W_limits) < 0):\n",
    "        print('retrieve_positive_spectrum: W_limits smaller than 0')\n",
    "\n",
    "    # Get Kx, Ky, and w axes\n",
    "    Nt, Nx, Ny = IMG_3D.shape\n",
    "    Kx = (2 * np.pi * 1 / dx / Nx) * np.arange(-np.ceil((Nx - 1) / 2), np.floor((Nx - 1) / 2) + 1)\n",
    "    Ky = (2 * np.pi * 1 / dy / Ny) * np.arange(-np.ceil((Ny - 1) / 2), np.floor((Ny - 1) / 2) + 1)\n",
    "    w = (2 * np.pi * 1 / dt / Nt) * np.arange(-np.ceil((Nt - 1) / 2), np.floor((Nt - 1) / 2) + 1)\n",
    "\n",
    "    dKx = Kx[1] - Kx[0]\n",
    "    dKy = Ky[1] - Ky[0]\n",
    "    dW = w[1] - w[0]\n",
    "    Norm = dKx * dKy * dW\n",
    "\n",
    "    # Get power spectra\n",
    "    Spectrum_raw = fftshift(fftn(IMG_3D) / np.prod(IMG_3D.shape))\n",
    "    power_Spectrum = np.abs(Spectrum_raw / Norm)**2\n",
    "\n",
    "    # Get index boundaries\n",
    "    ind_x = np.abs(Kx) <= K_limits[1]\n",
    "    ind_y = np.abs(Ky) <= K_limits[1]\n",
    "    ind_w = (w >= W_limits[0]) & (w <= W_limits[1])\n",
    "\n",
    "    # Create 3D structure using meshgrid\n",
    "    W_3D, Kx_3D, Ky_3D = np.meshgrid(w[ind_w], Kx[ind_x], Ky[ind_y], indexing='ij')\n",
    "\n",
    "    # Use np.ix_ for boolean indexing to extract the desired values\n",
    "    power_Spectrum_cut = power_Spectrum[np.ix_(ind_w, ind_x, ind_y)]\n",
    "\n",
    "    # Set to NaN values outside K_limits\n",
    "    K_3D = np.sqrt(Kx_3D**2 + Ky_3D**2)\n",
    "    power_Spectrum_cut[(K_3D < K_limits[0]) | (K_3D > K_limits[1])] = np.nan\n",
    "\n",
    "    # Get original spectrum limits\n",
    "    Kx_orig_limits = [Kx[0], Kx[-1]]\n",
    "    Ky_orig_limits = [Ky[0], Ky[-1]]\n",
    "    W_orig_limits = [w[0], w[-1]]\n",
    "\n",
    "    # Normalize spectra (sum(power_Spectrum_cut(:)) = 1)\n",
    "    power_Spectrum_cut /= np.nansum(power_Spectrum_cut)\n",
    "\n",
    "    # Create output structure\n",
    "    Spectrum = {'power_Spectrum': power_Spectrum_cut,\n",
    "                'Kx_3D': Kx_3D, 'Ky_3D': Ky_3D, 'W_3D': W_3D,\n",
    "                'dKx': dKx, 'dKy': dKy, 'dW': dW,\n",
    "                'Kx_orig_limits': Kx_orig_limits, 'Ky_orig_limits': Ky_orig_limits,\n",
    "                'W_orig_limits': W_orig_limits}\n",
    "\n",
    "    return Spectrum"
   ]
  },
  {
   "cell_type": "code",
   "execution_count": 22,
   "id": "ba4c27e1",
   "metadata": {},
   "outputs": [],
   "source": [
    "from scipy.optimize import minimize\n",
    "import matplotlib.pyplot as plt\n",
    "\n",
    "def get_doppler_shift_velocities_nsp(Spectrum, fit_param, Properties, verboseFig=False):\n",
    "    \n",
    "    out_fit = {'wavenumbers': fit_param['wavenumbers'],\n",
    "               'Ux': np.zeros(len([fit_param['wavenumbers']])),\n",
    "               'Uy': np.zeros(len([fit_param['wavenumbers']])),\n",
    "               'SNR_max': np.zeros(len([fit_param['wavenumbers']])),\n",
    "               'Ux_2D': fit_param['Ux_2D'],\n",
    "               'Uy_2D': fit_param['Uy_2D'],\n",
    "               'verbose': []}\n",
    "\n",
    "    h = Properties['h']\n",
    "    g = Properties['g']\n",
    "    T = Properties['T']\n",
    "    omegaWidthFun = fit_param['omegaWidthFun']\n",
    "    wavenumbers = fit_param['wavenumbers']\n",
    "\n",
    "    for jj in range(len([fit_param['wavenumbers']])):\n",
    "        P = {'h': h, 'g': g, 'T': T,\n",
    "             'omegaWidth': omegaWidthFun(wavenumbers)}\n",
    "\n",
    "        snrG = np.zeros(fit_param['Ux_2D'].shape)\n",
    "\n",
    "        for i in range(fit_param['Ux_2D'].shape[0]):\n",
    "            for j in range(fit_param['Ux_2D'].shape[1]):\n",
    "                snr_ij, _, _ = nsp_doppler_shift_extraction(Spectrum, P, wavenumbers, fit_param['Ux_2D'][i, j], fit_param['Uy_2D'][i, j])\n",
    "                snrG[i, j] = snr_ij\n",
    "\n",
    "        im = np.argmax(snrG)\n",
    "\n",
    "        if np.ndim(fit_param['Ux_2D']) == 1:\n",
    "            cDoppGuess = fit_param['Ux_2D'][im]\n",
    "        else:\n",
    "            cDoppGuess = [fit_param['Ux_2D'].flat[im], fit_param['Uy_2D'].flat[im]]\n",
    "\n",
    "        options = {'disp': False}  # Turn off display output\n",
    "        Ufit = minimize(lambda U: 1 - nsp_doppler_shift_extraction(Spectrum, P, fit_param['wavenumbers'], U[0], U[1])[0] if np.ndim(U) > 1 else 1 - nsp_doppler_shift_extraction(Spectrum, P, fit_param['wavenumbers'], U[0], U[1])[0], \n",
    "                        cDoppGuess, options=options)\n",
    "\n",
    "        if len(cDoppGuess) > 1:\n",
    "            Ufit = Ufit.x\n",
    "        else:\n",
    "            Ufit = [Ufit.x[0], 0]\n",
    "\n",
    "        SNR_fit, _, _ = nsp_doppler_shift_extraction(Spectrum, P, wavenumbers, Ufit[0], Ufit[1])\n",
    "\n",
    "        out_fit['Ux'][jj] = Ufit[0]\n",
    "        out_fit['Uy'][jj] = Ufit[1]\n",
    "        out_fit['SNR_max'][jj] = SNR_fit\n",
    "\n",
    "        verbose = {'k': fit_param['wavenumbers'], 'SNR_2D': snrG, 'Peaks_2D': find_peaks(snrG)}\n",
    "        out_fit['verbose'].append(verbose)\n",
    "\n",
    "    # Post-processing\n",
    "    out_fit['Ux_filt'] = out_fit['Ux'].copy()\n",
    "    out_fit['Uy_filt'] = out_fit['Uy'].copy()\n",
    "    out_fit['SNR_max'] = out_fit['SNR_max'].copy()\n",
    "\n",
    "    return out_fit"
   ]
  },
  {
   "cell_type": "code",
   "execution_count": 23,
   "id": "a5a7c471",
   "metadata": {},
   "outputs": [],
   "source": [
    "def nsp_doppler_shift_extraction(Spectrum, params, kval, U, V):\n",
    "    # Define wave dispersion relation.\n",
    "    omegaFun = lambda kx, ky: np.sqrt((params['g']*np.sqrt(kx**2 + ky**2) + params['T']*np.sqrt(kx**2 + ky**2)**3) * np.tanh(np.sqrt(kx**2 + ky**2) * params['h'])) + U*kx + V*ky\n",
    "\n",
    "    # Frequency width of weighting function (1/e^2 halfwidth)\n",
    "    a = params['omegaWidth']\n",
    "\n",
    "    if 'logFlag' not in params:\n",
    "        params['logFlag'] = 0\n",
    "\n",
    "    if 'include2ndHarmonic' not in params:\n",
    "        params['include2ndHarmonic'] = 0\n",
    "\n",
    "    if 'kWidth' in params:\n",
    "        a_k = params['kWidth']\n",
    "    else:\n",
    "        a_k = max(Spectrum['dKx'], Spectrum['dKy']) * 2\n",
    "\n",
    "    inds = ~np.isnan(Spectrum['power_Spectrum'])\n",
    "\n",
    "    P_k = np.sqrt(Spectrum['power_Spectrum'][inds])\n",
    "    KX = Spectrum['Kx_3D'][inds]\n",
    "    KY = Spectrum['Ky_3D'][inds]\n",
    "    W = Spectrum['W_3D'][inds]\n",
    "\n",
    "    if params['include2ndHarmonic']:\n",
    "        inds2 = ~np.isnan(Spectrum['power_Spectrum2'])\n",
    "        P_k2 = np.sqrt(Spectrum['power_Spectrum2'][inds2])\n",
    "        KX2 = Spectrum['Kx_3D2'][inds2]\n",
    "        KY2 = Spectrum['Ky_3D2'][inds2]\n",
    "        W2 = Spectrum['W_3D2'][inds2]\n",
    "        omegaFun2 = lambda kx, ky: np.sqrt(2) * np.sqrt((params['g']*np.sqrt(kx**2 + ky**2) + params['T']*np.sqrt(kx**2 + ky**2)**3) * np.tanh(np.sqrt(kx**2 + ky**2) * params['h']) + U*kx + V*ky)\n",
    "    else:\n",
    "        P_k2 = 0\n",
    "\n",
    "    if params['logFlag']:\n",
    "        P_k = np.log(P_k)\n",
    "        P_k = P_k - np.min(P_k)\n",
    "\n",
    "        if params['include2ndHarmonic']:\n",
    "            P_k2 = np.log(P_k2)\n",
    "            P_k2 = P_k2 - np.min(P_k2)\n",
    "\n",
    "    K = np.sqrt(KX**2 + KY**2)\n",
    "    order = 2\n",
    "\n",
    "    if not np.isnan(kval):\n",
    "        P_k = P_k * np.exp(-2*((K-kval)/a_k)**order)\n",
    "\n",
    "    # Define weighting function G\n",
    "    G1 = np.exp(-2*((W - omegaFun(KX, KY))/max(a))**order)\n",
    "    G2 = np.exp(-2*((W + omegaFun(-KX, -KY))/max(a))**order)\n",
    "\n",
    "    G = G1 + G2\n",
    "\n",
    "    if params['include2ndHarmonic']:\n",
    "        G1_2 = np.exp(-2*((W2 - omegaFun2(KX2, KY2))/a)**order)\n",
    "        G2_2 = np.exp(-2*((W2 + omegaFun2(-KX2, -KY2))/a)**order)\n",
    "\n",
    "        G_2 = G1_2 + G2_2\n",
    "\n",
    "        P_k2[~np.isfinite(P_k2)] = 0\n",
    "\n",
    "        signal_2 = np.sum(P_k2*G_2)/np.sum(G_2)\n",
    "        noise_2 = np.sum(P_k2*(1-G_2))/np.sum(1-G_2)\n",
    "    else:\n",
    "        signal_2 = 0\n",
    "        noise_2 = 0\n",
    "\n",
    "    P_k[~np.isfinite(P_k)] = 0\n",
    "    InP = P_k * G\n",
    "\n",
    "    signal_1 = np.sum(InP)/np.sum(G)\n",
    "    noise_1 = np.sum(P_k*(1-G))/np.sum(1-G)\n",
    "    SNR = (signal_1 + signal_2)/(noise_1 + noise_2)\n",
    "\n",
    "    return SNR, P_k, G"
   ]
  },
  {
   "cell_type": "code",
   "execution_count": 24,
   "id": "619f6343",
   "metadata": {},
   "outputs": [],
   "source": [
    "wavenumberLimits = []\n",
    "\n",
    "for jj in range(len(wavenumbers)):\n",
    "    wavenumberLimits_range = wavenumbers[jj] + kW * np.array([-1,1])\n",
    "    wavenumberLimits.append(wavenumberLimits_range)"
   ]
  },
  {
   "cell_type": "code",
   "execution_count": 25,
   "id": "00d1b6a0",
   "metadata": {},
   "outputs": [
    {
     "name": "stderr",
     "output_type": "stream",
     "text": [
      "Processing wavenumbers: 100%|██████████| 25/25 [01:48<00:00,  4.33s/it]\n"
     ]
    }
   ],
   "source": [
    "Spectrum_at_k = []\n",
    "\n",
    "ind_x_at_k = []\n",
    "ind_y_at_k = []\n",
    "ind_w_at_k = []\n",
    "\n",
    "W_3D_at_k = []\n",
    "Kx_3D_at_k = []\n",
    "Ky_3D_at_k = []\n",
    "\n",
    "Ux_at_k = []\n",
    "Uy_at_k = []\n",
    "\n",
    "SNR_max_at_k = []\n",
    "\n",
    "snrG_at_k = []\n",
    "\n",
    "im_at_k = []\n",
    "cDoppGuess_at_k = []\n",
    "\n",
    "Ux_at_k_correct = []\n",
    "Uy_at_k_correct = []\n",
    "\n",
    "# Initialize the tqdm progress bar outside the loop\n",
    "progress_bar = tqdm(total=len(wavenumberLimits), desc=\"Processing wavenumbers\")\n",
    "\n",
    "for i in range(len(wavenumberLimits)):\n",
    "    # i is the index of each wavenumber\n",
    "    \n",
    "    fit_param = {'wavenumbers': wavenumbers[i],\n",
    "     'include2ndHarmonic': 0,\n",
    "     'logFlag': [],\n",
    "     'SNR_filter': 0,\n",
    "     'SNR_threshold': 1,\n",
    "     'Peak_filter': 0,\n",
    "     'Peak_threshold': 0.5,\n",
    "     'Outlier_filter': 0,\n",
    "     'kWidth': 0.050015405430285265,\n",
    "     'Ux_2D': Uxm, \n",
    "     'Uy_2D': Uym}\n",
    "    \n",
    "    P = {'h': h, 'g': g, 'T': T,\n",
    "             'omegaWidth': omegaWidthFun(wavenumbers),\n",
    "             'kWidth': fit_param['kWidth'],\n",
    "             'logFlag': fit_param['logFlag'],\n",
    "             'include2ndHarmonic': fit_param['include2ndHarmonic']}\n",
    "    \n",
    "    Spectrum = retrieve_power_spectrum(wamos, dx, dy, dt, K_limits=wavenumberLimits[i], W_limits=frequencyLimits)\n",
    "    Spectrum_at_k.append(Spectrum)\n",
    "    \n",
    "    Nt, Nx, Ny = wamos.shape\n",
    "    \n",
    "    Kx = (2 * np.pi * 1 / dx / Nx) * np.arange(-np.ceil((Nx - 1) / 2), np.floor((Nx - 1) / 2) + 1) # 67 values\n",
    "    Ky = (2 * np.pi * 1 / dy / Ny) * np.arange(-np.ceil((Ny - 1) / 2), np.floor((Ny - 1) / 2) + 1) # 67 Values\n",
    "    w = (2 * np.pi * 1 / dt / Nt) * np.arange(-np.ceil((Nt - 1) / 2), np.floor((Nt - 1) / 2) + 1) # 1200 Values\n",
    "    # w = spec3d.get_C()[0]\n",
    "    # Kx = spec3d.get_C()[1]\n",
    "    # Ky = spec3d.get_C()[2]\n",
    "    \n",
    "    dKx = Kx[1] - Kx[0]\n",
    "    dKy = Ky[1] - Ky[0]\n",
    "    dW = w[1] - w[0]\n",
    "    # kx, ky and w resolution\n",
    "    \n",
    "    Norm = dKx * dKy * dW\n",
    "    \n",
    "    # Get power spectra (1200, 67, 67)\n",
    "    Spectrum_raw = fftshift(fftn(wamos) / np.prod(wamos.shape))\n",
    "    power_Spectrum = np.abs(Spectrum_raw / Norm)**2\n",
    "    # ?? how is this related to FFT spec3d.spectrum()\n",
    "    \n",
    "    ind_x = np.abs(Kx) <= wavenumberLimits[i][1]\n",
    "    ind_x_at_k.append(ind_x)\n",
    "    ind_y = np.abs(Ky) <= wavenumberLimits[i][1]\n",
    "    ind_y_at_k.append(ind_y)\n",
    "    # Is the absolute values of Kx and Ky smaller than the upper value of the wavenumber range \n",
    "    \n",
    "    ind_w = (w >= frequencyLimits[0]) & (w <= frequencyLimits[1])\n",
    "    ind_w_at_k.append(ind_w)\n",
    "    # Is the value of w between the frequency limits 0.01 and 20 \n",
    "    \n",
    "    # Create 3D structure where it only includes w,Kx,Ky that are in the ranges required by wavenumberLimits\n",
    "    W_3D, Kx_3D, Ky_3D = np.meshgrid( w[ind_w_at_k[i]], Kx[ind_x_at_k[i]] , Ky[ind_y_at_k[i]] , indexing='ij')\n",
    "    W_3D_at_k.append(W_3D)\n",
    "    Kx_3D_at_k.append(Kx_3D)\n",
    "    Ky_3D_at_k.append(Ky_3D)\n",
    "    \n",
    "    \n",
    "    Ux_2D = Uxm\n",
    "    Uy_2D = Uym\n",
    "    \n",
    "    snrG = np.zeros(Ux_2D.shape)\n",
    "    \n",
    "    for m in range(Ux_2D.shape[0]):\n",
    "        for n in range(Ux_2D.shape[1]):\n",
    "            snr_mn, _, _ = nsp_doppler_shift_extraction(Spectrum, P, wavenumbers[i], Ux_2D[m, n], Uy_2D[m, n])\n",
    "            snrG[m, n] = snr_mn\n",
    "            \n",
    "            \n",
    "    snrG_at_k.append(snrG)\n",
    "    # Append the 2D array to the list\n",
    "    \n",
    "    \n",
    "    im = np.argmax(snrG_at_k[i])\n",
    "    im_at_k.append(im)\n",
    "    \n",
    "    if np.ndim(Ux_2D) == 1:\n",
    "        cDoppGuess = Ux_2D[im]\n",
    "    else:\n",
    "        Ux_1D = Ux_2D.flatten()\n",
    "        Uy_1D = Uy_2D.flatten()\n",
    "        cDoppGuess = [Ux_1D[im], Uy_1D[im]]\n",
    "    \n",
    "    cDoppGuess_at_k.append(cDoppGuess)\n",
    "    \n",
    "    \n",
    "    Ufit = minimize(lambda U: 1 - nsp_doppler_shift_extraction(Spectrum, P, fit_param['wavenumbers'], U[0], U[1])[0], cDoppGuess)\n",
    "    \n",
    "    Ux = Ufit.x[0]\n",
    "    Uy = Ufit.x[1]\n",
    "    \n",
    "    Ux_at_k_correct.append(Ux)\n",
    "    Uy_at_k_correct.append(Uy)\n",
    "    \n",
    "    # Update the tqdm progress bar\n",
    "    progress_bar.update(1)\n",
    "\n",
    "# Close the tqdm progress bar after the loop is finished\n",
    "progress_bar.close()"
   ]
  },
  {
   "cell_type": "code",
   "execution_count": 26,
   "id": "6e248d0b",
   "metadata": {},
   "outputs": [],
   "source": [
    "Ux = np.array(Ux_at_k_correct)\n",
    "Uy = np.array(Uy_at_k_correct)"
   ]
  },
  {
   "cell_type": "code",
   "execution_count": 243,
   "id": "661096e1",
   "metadata": {},
   "outputs": [
    {
     "data": {
      "text/plain": [
       "Text(0.5, 1.0, 'Effective Current $|U|$')"
      ]
     },
     "execution_count": 243,
     "metadata": {},
     "output_type": "execute_result"
    },
    {
     "data": {
      "image/png": "[encoded data removed]",
      "text/plain": [
       "<Figure size 432x288 with 1 Axes>"
      ]
     },
     "metadata": {
      "needs_background": "light"
     },
     "output_type": "display_data"
    }
   ],
   "source": [
    "#plt.scatter(wavenumbers, np.abs(Ux), label='Ux', color = 'blue')\n",
    "#plt.scatter(wavenumbers, np.abs(Uy), label='Uy', color = 'red')\n",
    "plt.scatter(wavenumbers, np.sqrt(Ux**2+Uy**2), label='|U|', color = 'green')\n",
    "\n",
    "plt.grid(True)\n",
    "plt.legend()\n",
    "plt.ylabel(\"U [m/s]\")\n",
    "plt.xlabel(\"Wavenumber [rad/m]\")\n",
    "plt.title('Effective Current $|U|$')\n",
    "\n",
    "#plt.ylim(0, 1)\n",
    "#plt.xlim(0, 0.31)"
   ]
  },
  {
   "cell_type": "markdown",
   "id": "15868782",
   "metadata": {},
   "source": [
    "## 1.2) Fitting Higher Wavenumbers"
   ]
  },
  {
   "cell_type": "code",
   "execution_count": 244,
   "id": "095abac7",
   "metadata": {},
   "outputs": [],
   "source": [
    "x1 = wavenumbers\n",
    "y1 = np.sqrt(Ux**2+Uy**2)"
   ]
  },
  {
   "cell_type": "code",
   "execution_count": 245,
   "id": "44705ce9",
   "metadata": {},
   "outputs": [
    {
     "data": {
      "text/plain": [
       "(25,)"
      ]
     },
     "execution_count": 245,
     "metadata": {},
     "output_type": "execute_result"
    }
   ],
   "source": [
    "x1.shape"
   ]
  },
  {
   "cell_type": "code",
   "execution_count": 246,
   "id": "60efe650",
   "metadata": {},
   "outputs": [
    {
     "data": {
      "text/plain": [
       "0.15231964381041418"
      ]
     },
     "execution_count": 246,
     "metadata": {},
     "output_type": "execute_result"
    }
   ],
   "source": [
    "x1[9]"
   ]
  },
  {
   "cell_type": "code",
   "execution_count": 247,
   "id": "04a0d853",
   "metadata": {},
   "outputs": [
    {
     "data": {
      "text/plain": [
       "1.2593068332353592"
      ]
     },
     "execution_count": 247,
     "metadata": {},
     "output_type": "execute_result"
    }
   ],
   "source": [
    "y1[9]"
   ]
  },
  {
   "cell_type": "code",
   "execution_count": 248,
   "id": "23b7f5b0",
   "metadata": {},
   "outputs": [],
   "source": [
    "#filtered_x = np.insert( x1, 0, 0)\n",
    "#filtered_y = np.insert( y1, 0, 0)\n",
    "# add (0,0) as a point\n",
    "\n",
    "filtered_x = np.insert( x1, 0, 1*10**-8)\n",
    "filtered_y = np.insert( y1, 0, 1*10**-8)"
   ]
  },
  {
   "cell_type": "code",
   "execution_count": 249,
   "id": "a63ad331",
   "metadata": {},
   "outputs": [],
   "source": [
    "def cubic(x):\n",
    "    return 3*(x-1)**3-x**2-4*x+5"
   ]
  },
  {
   "cell_type": "markdown",
   "id": "62d2cfca",
   "metadata": {},
   "source": [
    "## 1.2.1) Fit Power Law"
   ]
  },
  {
   "cell_type": "code",
   "execution_count": 250,
   "id": "2ca70822",
   "metadata": {},
   "outputs": [],
   "source": [
    "def fpow(x, a, b, c):\n",
    "    return a*x**b+c"
   ]
  },
  {
   "cell_type": "code",
   "execution_count": 251,
   "id": "152a4cc1",
   "metadata": {},
   "outputs": [
    {
     "data": {
      "image/png": "[encoded data removed]",
      "text/plain": [
       "<Figure size 432x288 with 1 Axes>"
      ]
     },
     "metadata": {
      "needs_background": "light"
     },
     "output_type": "display_data"
    }
   ],
   "source": [
    "# plot the raw data\n",
    "plt.errorbar(filtered_x, filtered_y, yerr=0, fmt=\".\", color = 'black', label = 'data')\n",
    "plt.grid(True)\n",
    "plt.ylabel(\"U [m/s]\")\n",
    "plt.xlabel(\"Wavenumber [rad/m]\")\n",
    "\n",
    "# initial guess\n",
    "pars0 = (1, 0.4, 0.5)\n",
    " \n",
    "x = np.linspace(0, max(filtered_x), 1000)\n",
    "\n",
    "plt.plot(x, fpow(x,*pars0), color = 'red', label = 'guess parameters')\n",
    "plt.legend();\n",
    "plt.title(\"Power Law fit\");"
   ]
  },
  {
   "cell_type": "code",
   "execution_count": 252,
   "id": "9a91ff1a",
   "metadata": {},
   "outputs": [
    {
     "data": {
      "image/png": "[encoded data removed]",
      "text/plain": [
       "<Figure size 432x288 with 1 Axes>"
      ]
     },
     "metadata": {
      "needs_background": "light"
     },
     "output_type": "display_data"
    }
   ],
   "source": [
    "# perform fitting\n",
    "popt, pcov = curve_fit(fpow, filtered_x, filtered_y, absolute_sigma=True, p0=pars0, maxfev =2000)\n",
    "\n",
    "# Parameters\n",
    "a_opt = popt[0]\n",
    "b_opt = popt[1]\n",
    "c_opt = popt[2]\n",
    "\n",
    "# plot data\n",
    "plt.errorbar(filtered_x, filtered_y, yerr=0, fmt=\".\", color = 'black', label = 'data', zorder=1, markersize = 5)\n",
    "\n",
    "# creating x interval to include in y fit\n",
    "x = np.linspace(0.0, max(filtered_x), 1000)\n",
    "y_fit = fpow(x, *popt)\n",
    "plt.plot(x, y_fit, color=\"red\", label=\"best fit\", zorder=2, linewidth = 3)\n",
    "\n",
    "plt.grid(True)\n",
    "plt.ylabel(\"U [m/s]\")\n",
    "plt.xlabel(\"Wavenumber [rad/m]\")\n",
    "plt.legend();"
   ]
  },
  {
   "cell_type": "markdown",
   "id": "9a80d7c4",
   "metadata": {},
   "source": [
    "## 1.2.2) Fit Residuals"
   ]
  },
  {
   "cell_type": "code",
   "execution_count": 253,
   "id": "39462690",
   "metadata": {},
   "outputs": [],
   "source": [
    "def fitted_power(x):\n",
    "    return a_opt*x**b_opt+c_opt"
   ]
  },
  {
   "cell_type": "code",
   "execution_count": 254,
   "id": "e708913a",
   "metadata": {},
   "outputs": [
    {
     "data": {
      "text/plain": [
       "<matplotlib.legend.Legend at 0x1c611596be0>"
      ]
     },
     "execution_count": 254,
     "metadata": {},
     "output_type": "execute_result"
    },
    {
     "data": {
      "image/png": "[encoded data removed]",
      "text/plain": [
       "<Figure size 432x288 with 1 Axes>"
      ]
     },
     "metadata": {
      "needs_background": "light"
     },
     "output_type": "display_data"
    }
   ],
   "source": [
    "plt.scatter(filtered_x, fitted_power(filtered_x) - filtered_y, s = 5 , label='Residuals', color = 'red')\n",
    "plt.plot(x, np.zeros(len(x)), label = 'Fit', color = 'black')\n",
    "\n",
    "plt.grid(True)\n",
    "plt.title('Residual Plot')\n",
    "plt.ylabel(\"U [m/s]\")\n",
    "plt.xlabel(\"Wavenumber [rad/m]\")\n",
    "plt.legend()\n",
    "\n",
    "#plt.ylim(-5,5)"
   ]
  },
  {
   "cell_type": "markdown",
   "id": "7f6b1d34",
   "metadata": {},
   "source": [
    "## 1.2.3) Weighted Least Squares"
   ]
  },
  {
   "cell_type": "code",
   "execution_count": 255,
   "id": "ca05ed64",
   "metadata": {},
   "outputs": [
    {
     "data": {
      "text/plain": [
       "array([1.00000000e-08, 3.80799110e-02, 5.07732146e-02, 6.34665183e-02,\n",
       "       7.61598219e-02, 8.88531256e-02, 1.01546429e-01, 1.14239733e-01,\n",
       "       1.26933037e-01, 1.39626340e-01, 1.52319644e-01, 1.65012947e-01,\n",
       "       1.77706251e-01, 1.90399555e-01, 2.03092858e-01, 2.15786162e-01,\n",
       "       2.28479466e-01, 2.41172769e-01, 2.53866073e-01, 2.66559377e-01,\n",
       "       2.79252680e-01, 2.91945984e-01, 3.04639288e-01, 3.17332591e-01,\n",
       "       3.30025895e-01, 3.42719199e-01])"
      ]
     },
     "execution_count": 255,
     "metadata": {},
     "output_type": "execute_result"
    }
   ],
   "source": [
    "filtered_x"
   ]
  },
  {
   "cell_type": "code",
   "execution_count": 256,
   "id": "6cf088d9",
   "metadata": {},
   "outputs": [
    {
     "data": {
      "text/plain": [
       "array([1.00000000e-08, 1.53989397e+00, 2.04460628e+00, 4.18043213e+00,\n",
       "       2.97621482e+00, 2.82642339e+00, 2.98335023e+00, 2.98964836e+00,\n",
       "       2.12218901e+00, 1.42801972e+00, 1.25930683e+00, 7.16440766e-01,\n",
       "       4.82208656e-01, 2.11659851e-01, 2.47566092e-01, 2.11231786e-01,\n",
       "       5.73449986e-01, 4.93627624e-01, 2.02827667e-01, 5.03211858e-01,\n",
       "       5.03471650e-01, 7.42594082e-01, 4.84937826e-01, 8.17855876e-01,\n",
       "       5.45436664e-01, 5.32188379e-01])"
      ]
     },
     "execution_count": 256,
     "metadata": {},
     "output_type": "execute_result"
    }
   ],
   "source": [
    "filtered_y"
   ]
  },
  {
   "cell_type": "code",
   "execution_count": 257,
   "id": "df15b117",
   "metadata": {},
   "outputs": [],
   "source": [
    "def f(x):\n",
    "    return x^2"
   ]
  },
  {
   "cell_type": "code",
   "execution_count": 331,
   "id": "df06c779",
   "metadata": {},
   "outputs": [
    {
     "data": {
      "image/png": "[encoded data removed]",
      "text/plain": [
       "<Figure size 432x288 with 1 Axes>"
      ]
     },
     "metadata": {
      "needs_background": "light"
     },
     "output_type": "display_data"
    }
   ],
   "source": [
    "# fitted function\n",
    "def fpow(x, a, b, c):\n",
    "    return a*x**b+c\n",
    "\n",
    "def custom_weights(x):\n",
    "    weights = np.ones_like(x)  # default weight for all points\n",
    "    weights[(0 < x) & (x <= 0.2)] = 1  # medium error for 0 < x <= 0.2\n",
    "    weights[x > 0.2] = 0.1  # low error for x > 0.15\n",
    "    weights[np.isclose(x, 0, atol=1e-8)] = 0.001  # very low error for x = 0\n",
    "    return weights\n",
    "\n",
    "# initial guess\n",
    "pars0 = (0.4, 0.4, 1)\n",
    "\n",
    "# perform fitting with custom weights\n",
    "popt, pcov = curve_fit(fpow, filtered_x, filtered_y, absolute_sigma=True, p0=pars0, sigma=custom_weights(filtered_x), maxfev =5000)\n",
    "\n",
    "# parameters\n",
    "a_opt = popt[0]\n",
    "b_opt = popt[1]\n",
    "c_opt = popt[2]\n",
    "\n",
    "# plot data\n",
    "plt.errorbar(filtered_x, filtered_y, yerr=0, fmt =\".\", color='black', label ='data', zorder=1, markersize=10)\n",
    "\n",
    "# creating x interval to include in y fit\n",
    "x_interval = np.linspace(0, max(filtered_x), 30)\n",
    "y_fit = fpow( x_interval , *popt)\n",
    "plt.plot( x_interval, y_fit, color = \"red\", label = \"Weighted fit\", zorder=2 , linewidth=3)\n",
    "\n",
    "plt.grid(True)\n",
    "plt.ylabel(\"U [m/s]\")\n",
    "plt.xlabel(\"Wavenumber [rad/m]\")\n",
    "plt.title(\"LS Weighted Fit of Current\")\n",
    "plt.legend()\n",
    "plt.show()"
   ]
  },
  {
   "cell_type": "code",
   "execution_count": 319,
   "id": "ab35b7f1",
   "metadata": {},
   "outputs": [
    {
     "data": {
      "text/plain": [
       "(0.0, 1.0)"
      ]
     },
     "execution_count": 319,
     "metadata": {},
     "output_type": "execute_result"
    },
    {
     "data": {
      "image/png": "[encoded data removed]",
      "text/plain": [
       "<Figure size 432x288 with 1 Axes>"
      ]
     },
     "metadata": {
      "needs_background": "light"
     },
     "output_type": "display_data"
    }
   ],
   "source": [
    "plt.scatter(wavenumbers, np.sqrt(Ux**2+Uy**2), label='|U|', color = 'green')\n",
    "plt.plot( x_interval, y_fit, color = \"red\", label = \"Weighted fit\", zorder=2 , linewidth=3)\n",
    "\n",
    "\n",
    "plt.grid(True)\n",
    "plt.legend()\n",
    "plt.ylabel(\"U [m/s]\")\n",
    "plt.xlabel(\"Wavenumber [rad/m]\")\n",
    "plt.title('Effective Current $|U|$')\n",
    "\n",
    "plt.ylim(0,1)"
   ]
  },
  {
   "cell_type": "code",
   "execution_count": 44,
   "id": "cd0cc617",
   "metadata": {},
   "outputs": [],
   "source": [
    "p = np.poly1d(np.polyfit(wavenumbers, y1, 10))"
   ]
  },
  {
   "cell_type": "code",
   "execution_count": 45,
   "id": "c1cf433a",
   "metadata": {},
   "outputs": [],
   "source": [
    "Uk_mask = np.where(np.gradient(p(wavenumbers))>0, 1, 0)"
   ]
  },
  {
   "cell_type": "code",
   "execution_count": 46,
   "id": "519f87cc",
   "metadata": {},
   "outputs": [],
   "source": [
    "k_m = np.block([0, np.ma.masked_array(wavenumbers, mask=1-Uk_mask).compressed()])\n",
    "Uk_m = np.block([0, np.ma.masked_array(y1, mask=1-Uk_mask).compressed()])"
   ]
  },
  {
   "cell_type": "code",
   "execution_count": 47,
   "id": "4d8f06eb",
   "metadata": {},
   "outputs": [
    {
     "data": {
      "text/plain": [
       "Text(0.5, 0, 'Wavenumber [rad/m]')"
      ]
     },
     "execution_count": 47,
     "metadata": {},
     "output_type": "execute_result"
    },
    {
     "data": {
      "image/png": "[encoded data removed]",
      "text/plain": [
       "<Figure size 432x288 with 1 Axes>"
      ]
     },
     "metadata": {
      "needs_background": "light"
     },
     "output_type": "display_data"
    }
   ],
   "source": [
    "plt.scatter(k_m, Uk_m, label='Uk_m', color = 'red')\n",
    "plt.plot(wavenumbers, p(wavenumbers), label='Fitted Polynomial', color='black')\n",
    "\n",
    "plt.grid(True)\n",
    "plt.legend()\n",
    "plt.ylabel(\"U [m/s]\")\n",
    "plt.xlabel(\"Wavenumber [rad/m]\")"
   ]
  },
  {
   "cell_type": "markdown",
   "id": "d7adbc6f",
   "metadata": {},
   "source": [
    "# 1.2.4) Inversion Using Fitted Curve"
   ]
  },
  {
   "cell_type": "code",
   "execution_count": 320,
   "id": "45efae05",
   "metadata": {},
   "outputs": [],
   "source": [
    "\n",
    "z = np.linspace(-20, 0, 50)"
   ]
  },
  {
   "cell_type": "code",
   "execution_count": 330,
   "id": "47c0cba3",
   "metadata": {},
   "outputs": [
    {
     "data": {
      "text/plain": [
       "array([-20.        , -19.59183673, -19.18367347, -18.7755102 ,\n",
       "       -18.36734694, -17.95918367, -17.55102041, -17.14285714,\n",
       "       -16.73469388, -16.32653061, -15.91836735, -15.51020408,\n",
       "       -15.10204082, -14.69387755, -14.28571429, -13.87755102,\n",
       "       -13.46938776, -13.06122449, -12.65306122, -12.24489796,\n",
       "       -11.83673469, -11.42857143, -11.02040816, -10.6122449 ,\n",
       "       -10.20408163,  -9.79591837,  -9.3877551 ,  -8.97959184,\n",
       "        -8.57142857,  -8.16326531,  -7.75510204,  -7.34693878,\n",
       "        -6.93877551,  -6.53061224,  -6.12244898,  -5.71428571,\n",
       "        -5.30612245,  -4.89795918,  -4.48979592,  -4.08163265,\n",
       "        -3.67346939,  -3.26530612,  -2.85714286,  -2.44897959,\n",
       "        -2.04081633,  -1.63265306,  -1.2244898 ,  -0.81632653,\n",
       "        -0.40816327,   0.        ])"
      ]
     },
     "execution_count": 330,
     "metadata": {},
     "output_type": "execute_result"
    }
   ],
   "source": [
    "z"
   ]
  },
  {
   "cell_type": "code",
   "execution_count": 321,
   "id": "0a1237e7",
   "metadata": {},
   "outputs": [
    {
     "data": {
      "text/plain": [
       "30"
      ]
     },
     "execution_count": 321,
     "metadata": {},
     "output_type": "execute_result"
    }
   ],
   "source": [
    "len(x_interval)"
   ]
  },
  {
   "cell_type": "code",
   "execution_count": 322,
   "id": "d9e349dd",
   "metadata": {},
   "outputs": [
    {
     "data": {
      "text/plain": [
       "array([0.0118179 , 0.02363581, 0.03545371, 0.04727161, 0.05908952,\n",
       "       0.07090742, 0.08272532, 0.09454323, 0.10636113, 0.11817903,\n",
       "       0.12999694, 0.14181484, 0.15363274, 0.16545065, 0.17726855,\n",
       "       0.18908645, 0.20090436, 0.21272226, 0.22454016, 0.23635807,\n",
       "       0.24817597, 0.25999387, 0.27181178, 0.28362968, 0.29544758,\n",
       "       0.30726549, 0.31908339, 0.3309013 , 0.3427192 ])"
      ]
     },
     "execution_count": 322,
     "metadata": {},
     "output_type": "execute_result"
    }
   ],
   "source": [
    "x_interval[1:]"
   ]
  },
  {
   "cell_type": "code",
   "execution_count": 329,
   "id": "2e8547ba",
   "metadata": {},
   "outputs": [
    {
     "data": {
      "text/plain": [
       "array([-8.40354919e-06,  7.14437536e-02,  1.10038158e-01,  1.41666428e-01,\n",
       "        1.69479071e-01,  1.94760136e-01,  2.18191141e-01,  2.40187731e-01,\n",
       "        2.61026597e-01,  2.80903452e-01,  2.99963059e-01,  3.18316237e-01,\n",
       "        3.36050164e-01,  3.53234958e-01,  3.69928065e-01,  3.86177280e-01,\n",
       "        4.02022904e-01,  4.17499311e-01,  4.32636110e-01,  4.47459037e-01,\n",
       "        4.61990636e-01,  4.76250793e-01,  4.90257160e-01,  5.04025498e-01,\n",
       "        5.17569949e-01,  5.30903266e-01,  5.44036995e-01,  5.56981637e-01,\n",
       "        5.69746771e-01,  5.82341170e-01])"
      ]
     },
     "execution_count": 329,
     "metadata": {},
     "output_type": "execute_result"
    }
   ],
   "source": [
    "y_fit"
   ]
  },
  {
   "cell_type": "code",
   "execution_count": 323,
   "id": "63a27f59",
   "metadata": {},
   "outputs": [
    {
     "name": "stderr",
     "output_type": "stream",
     "text": [
      "<ipython-input-323-7faa95b9ef28>:3: RankWarning: Polyfit may be poorly conditioned\n",
      "  pPEDM1, pEDM1, eps_PEDM1, eps_EDM1, verbose1 = pedm(x_interval[1:], y_fit[1:])\n",
      "<ipython-input-323-7faa95b9ef28>:3: RankWarning: Polyfit may be poorly conditioned\n",
      "  pPEDM1, pEDM1, eps_PEDM1, eps_EDM1, verbose1 = pedm(x_interval[1:], y_fit[1:])\n",
      "<ipython-input-323-7faa95b9ef28>:3: RankWarning: Polyfit may be poorly conditioned\n",
      "  pPEDM1, pEDM1, eps_PEDM1, eps_EDM1, verbose1 = pedm(x_interval[1:], y_fit[1:])\n",
      "<ipython-input-323-7faa95b9ef28>:3: RankWarning: Polyfit may be poorly conditioned\n",
      "  pPEDM1, pEDM1, eps_PEDM1, eps_EDM1, verbose1 = pedm(x_interval[1:], y_fit[1:])\n",
      "<ipython-input-323-7faa95b9ef28>:3: RankWarning: Polyfit may be poorly conditioned\n",
      "  pPEDM1, pEDM1, eps_PEDM1, eps_EDM1, verbose1 = pedm(x_interval[1:], y_fit[1:])\n",
      "<ipython-input-323-7faa95b9ef28>:3: RankWarning: Polyfit may be poorly conditioned\n",
      "  pPEDM1, pEDM1, eps_PEDM1, eps_EDM1, verbose1 = pedm(x_interval[1:], y_fit[1:])\n",
      "<ipython-input-323-7faa95b9ef28>:3: RankWarning: Polyfit may be poorly conditioned\n",
      "  pPEDM1, pEDM1, eps_PEDM1, eps_EDM1, verbose1 = pedm(x_interval[1:], y_fit[1:])\n",
      "<ipython-input-323-7faa95b9ef28>:3: RankWarning: Polyfit may be poorly conditioned\n",
      "  pPEDM1, pEDM1, eps_PEDM1, eps_EDM1, verbose1 = pedm(x_interval[1:], y_fit[1:])\n",
      "<ipython-input-323-7faa95b9ef28>:3: RankWarning: Polyfit may be poorly conditioned\n",
      "  pPEDM1, pEDM1, eps_PEDM1, eps_EDM1, verbose1 = pedm(x_interval[1:], y_fit[1:])\n",
      "<ipython-input-323-7faa95b9ef28>:3: RankWarning: Polyfit may be poorly conditioned\n",
      "  pPEDM1, pEDM1, eps_PEDM1, eps_EDM1, verbose1 = pedm(x_interval[1:], y_fit[1:])\n",
      "<ipython-input-323-7faa95b9ef28>:3: RankWarning: Polyfit may be poorly conditioned\n",
      "  pPEDM1, pEDM1, eps_PEDM1, eps_EDM1, verbose1 = pedm(x_interval[1:], y_fit[1:])\n",
      "<ipython-input-323-7faa95b9ef28>:3: RankWarning: Polyfit may be poorly conditioned\n",
      "  pPEDM1, pEDM1, eps_PEDM1, eps_EDM1, verbose1 = pedm(x_interval[1:], y_fit[1:])\n",
      "<ipython-input-323-7faa95b9ef28>:3: RankWarning: Polyfit may be poorly conditioned\n",
      "  pPEDM1, pEDM1, eps_PEDM1, eps_EDM1, verbose1 = pedm(x_interval[1:], y_fit[1:])\n",
      "<ipython-input-323-7faa95b9ef28>:3: RankWarning: Polyfit may be poorly conditioned\n",
      "  pPEDM1, pEDM1, eps_PEDM1, eps_EDM1, verbose1 = pedm(x_interval[1:], y_fit[1:])\n",
      "<ipython-input-323-7faa95b9ef28>:3: RankWarning: Polyfit may be poorly conditioned\n",
      "  pPEDM1, pEDM1, eps_PEDM1, eps_EDM1, verbose1 = pedm(x_interval[1:], y_fit[1:])\n",
      "<ipython-input-323-7faa95b9ef28>:3: RankWarning: Polyfit may be poorly conditioned\n",
      "  pPEDM1, pEDM1, eps_PEDM1, eps_EDM1, verbose1 = pedm(x_interval[1:], y_fit[1:])\n",
      "<ipython-input-323-7faa95b9ef28>:3: RankWarning: Polyfit may be poorly conditioned\n",
      "  pPEDM1, pEDM1, eps_PEDM1, eps_EDM1, verbose1 = pedm(x_interval[1:], y_fit[1:])\n",
      "<ipython-input-323-7faa95b9ef28>:3: RankWarning: Polyfit may be poorly conditioned\n",
      "  pPEDM1, pEDM1, eps_PEDM1, eps_EDM1, verbose1 = pedm(x_interval[1:], y_fit[1:])\n",
      "<ipython-input-323-7faa95b9ef28>:3: RankWarning: Polyfit may be poorly conditioned\n",
      "  pPEDM1, pEDM1, eps_PEDM1, eps_EDM1, verbose1 = pedm(x_interval[1:], y_fit[1:])\n",
      "<ipython-input-323-7faa95b9ef28>:3: RankWarning: Polyfit may be poorly conditioned\n",
      "  pPEDM1, pEDM1, eps_PEDM1, eps_EDM1, verbose1 = pedm(x_interval[1:], y_fit[1:])\n"
     ]
    }
   ],
   "source": [
    "U1_fun = lambda z: np.polyval(pPEDM1, z)\n",
    "# Example usage:\n",
    "pPEDM1, pEDM1, eps_PEDM1, eps_EDM1, verbose1 = pedm(x_interval[1:], y_fit[1:])"
   ]
  },
  {
   "cell_type": "code",
   "execution_count": 327,
   "id": "913981d9",
   "metadata": {},
   "outputs": [
    {
     "data": {
      "text/plain": [
       "(-0.01, 0.7)"
      ]
     },
     "execution_count": 327,
     "metadata": {},
     "output_type": "execute_result"
    },
    {
     "data": {
      "image/png": "[encoded data removed]",
      "text/plain": [
       "<Figure size 432x288 with 1 Axes>"
      ]
     },
     "metadata": {
      "needs_background": "light"
     },
     "output_type": "display_data"
    }
   ],
   "source": [
    "plt.plot(U1_fun(z), z, label=\"PEDM \", color = 'red')\n",
    "\n",
    "plt.scatter( y_fit[1:], -1/(2*x_interval[1:]), label='EDM - Linear', color = 'black')\n",
    "plt.scatter( y_fit[1:], -1/(3.56*x_interval[1:]), label='EDM - Log', color = 'blue')\n",
    "\n",
    "plt.grid(True)\n",
    "plt.title(\"PEDM\")\n",
    "plt.xlabel(\"U [m/s]\")\n",
    "plt.ylabel(\"Depth [m]\")\n",
    "plt.legend()\n",
    "\n",
    "plt.xlim(-0.01, 0.7)"
   ]
  },
  {
   "cell_type": "code",
   "execution_count": null,
   "id": "a09ffe97",
   "metadata": {},
   "outputs": [],
   "source": []
  },
  {
   "cell_type": "code",
   "execution_count": null,
   "id": "7ffee53b",
   "metadata": {},
   "outputs": [],
   "source": []
  },
  {
   "cell_type": "code",
   "execution_count": null,
   "id": "f0edfad8",
   "metadata": {},
   "outputs": [],
   "source": []
  },
  {
   "cell_type": "code",
   "execution_count": null,
   "id": "72b1f491",
   "metadata": {},
   "outputs": [],
   "source": []
  },
  {
   "cell_type": "code",
   "execution_count": null,
   "id": "bfa1c944",
   "metadata": {},
   "outputs": [],
   "source": []
  },
  {
   "cell_type": "code",
   "execution_count": null,
   "id": "d2296473",
   "metadata": {},
   "outputs": [],
   "source": []
  },
  {
   "cell_type": "code",
   "execution_count": null,
   "id": "7b6a3328",
   "metadata": {},
   "outputs": [],
   "source": []
  },
  {
   "cell_type": "markdown",
   "id": "6346b913",
   "metadata": {},
   "source": [
    "# 1.2) PCS Method"
   ]
  },
  {
   "cell_type": "code",
   "execution_count": 944,
   "id": "883b59b9",
   "metadata": {},
   "outputs": [],
   "source": [
    "f = h5py.File('C:\\\\Users\\josep\\Desktop\\PHYC40900_Project TP\\Real Data Sets\\First Tel-Aviv data', 'r')"
   ]
  },
  {
   "cell_type": "code",
   "execution_count": 945,
   "id": "67d79120",
   "metadata": {},
   "outputs": [],
   "source": [
    "x = f.get('x')\n",
    "y = f.get('y')\n",
    "t = f.get('t')\n",
    "wamos = f.get('wamos')\n",
    "\n",
    "x = np.array(x)\n",
    "y = np.array(y)\n",
    "t = np.array(t)\n",
    "wamos = np.array(wamos)"
   ]
  },
  {
   "cell_type": "code",
   "execution_count": 946,
   "id": "53fe5cf5",
   "metadata": {},
   "outputs": [
    {
     "data": {
      "text/plain": [
       "(366, 132, 132)"
      ]
     },
     "execution_count": 946,
     "metadata": {},
     "output_type": "execute_result"
    }
   ],
   "source": [
    "wamos.shape"
   ]
  },
  {
   "cell_type": "code",
   "execution_count": 947,
   "id": "99749dc7",
   "metadata": {},
   "outputs": [],
   "source": [
    "eta = np.transpose(wamos, (1, 2, 0))"
   ]
  },
  {
   "cell_type": "code",
   "execution_count": 948,
   "id": "fac015b9",
   "metadata": {},
   "outputs": [
    {
     "data": {
      "text/plain": [
       "1524.0"
      ]
     },
     "execution_count": 948,
     "metadata": {},
     "output_type": "execute_result"
    }
   ],
   "source": [
    "wamos[200,17,13]"
   ]
  },
  {
   "cell_type": "code",
   "execution_count": 949,
   "id": "378f0fcd",
   "metadata": {},
   "outputs": [
    {
     "data": {
      "text/plain": [
       "1524.0"
      ]
     },
     "execution_count": 949,
     "metadata": {},
     "output_type": "execute_result"
    }
   ],
   "source": [
    "eta[17,13,200]"
   ]
  },
  {
   "cell_type": "code",
   "execution_count": 950,
   "id": "c86c2b6f",
   "metadata": {},
   "outputs": [
    {
     "data": {
      "text/plain": [
       "(132, 132, 366)"
      ]
     },
     "execution_count": 950,
     "metadata": {},
     "output_type": "execute_result"
    }
   ],
   "source": [
    "eta.shape"
   ]
  },
  {
   "cell_type": "code",
   "execution_count": 951,
   "id": "373c022c",
   "metadata": {},
   "outputs": [],
   "source": [
    "# new version with eta changed dimension \n",
    "def cylinder_cross_section(Spectrum, dtheta, power_Spectrum_cut , order=None):\n",
    "    if order is None:\n",
    "        order = 4\n",
    "\n",
    "    Kx_2D = np.squeeze(Kx_3D[:,:,0])\n",
    "    Ky_2D = np.squeeze(Ky_3D[:,:,0])\n",
    "    W_1D = np.squeeze(W_3D[0,0,:])\n",
    "\n",
    "    theta_2D = np.arctan2(-Ky_2D, -Kx_2D)\n",
    "    theta_3D = np.tile(theta_2D[:, :, np.newaxis], (1, 1, W_1D.size))\n",
    "\n",
    "    theta_vals = np.arange(-np.pi, np.pi, dtheta)\n",
    "    S_cyl = np.zeros((W_1D.size, theta_vals.size))\n",
    "\n",
    "    for ii in range(theta_vals.size):\n",
    "        theta_diff = np.angle(np.exp(1j * theta_3D) * np.exp(-1j * theta_vals[ii]))\n",
    "        theta_filt = np.exp(-2 * (theta_diff / dtheta) ** order)\n",
    "        S_filt = power_Spectrum_cut * theta_filt\n",
    "        S_cyl[:, ii] = np.nansum(S_filt, axis=(0, 1))\n",
    "\n",
    "    thetaM, omegaM = np.meshgrid(theta_vals, W_1D)\n",
    "\n",
    "    Scyl = {\n",
    "        'P_k': S_cyl,\n",
    "        'thetaM': thetaM,\n",
    "        'omegaM': omegaM,\n",
    "        'Kx_2D': Kx_2D, \n",
    "        'Ky_2D': Ky_2D,\n",
    "        'W_1D': W_1D,\n",
    "        'theta_2D':theta_2D,\n",
    "        'theta_3D':theta_3D,\n",
    "        'theta_vals':theta_vals,\n",
    "        'theta_diff':theta_diff,\n",
    "        'theta_filt':theta_filt\n",
    "    }\n",
    "\n",
    "    return Scyl"
   ]
  },
  {
   "cell_type": "code",
   "execution_count": 952,
   "id": "f219b796",
   "metadata": {},
   "outputs": [
    {
     "data": {
      "text/plain": [
       "0.01269330365086785"
      ]
     },
     "execution_count": 952,
     "metadata": {},
     "output_type": "execute_result"
    }
   ],
   "source": [
    "dk = 2*np.pi/(dx*min(eta.shape[0], eta.shape[1]))\n",
    "dk"
   ]
  },
  {
   "cell_type": "code",
   "execution_count": 953,
   "id": "1ddf68d0",
   "metadata": {},
   "outputs": [],
   "source": [
    "frequencyLimits = [0.01,20.0]\n",
    "# frequency limits for masking the spectrum [min max], rad/sec"
   ]
  },
  {
   "cell_type": "code",
   "execution_count": 954,
   "id": "1f1456dd",
   "metadata": {},
   "outputs": [],
   "source": [
    "Nx, Ny, Nt = eta.shape\n",
    "\n",
    "dx=x[1]-x[0]\n",
    "dy=y[1]-y[0]\n",
    "dt=t[1]-t[0]\n",
    "    \n",
    "Kx = (2 * np.pi * 1 / dx / Nx) * np.arange(-np.ceil((Nx - 1) / 2), np.floor((Nx - 1) / 2) + 1) \n",
    "Ky = (2 * np.pi * 1 / dy / Ny) * np.arange(-np.ceil((Ny - 1) / 2), np.floor((Ny - 1) / 2) + 1) \n",
    "w = (2 * np.pi * 1 / dt / Nt) * np.arange(-np.ceil((Nt - 1) / 2), np.floor((Nt - 1) / 2) + 1)"
   ]
  },
  {
   "cell_type": "code",
   "execution_count": 955,
   "id": "bf3f739a",
   "metadata": {},
   "outputs": [
    {
     "data": {
      "text/plain": [
       "(366,)"
      ]
     },
     "execution_count": 955,
     "metadata": {},
     "output_type": "execute_result"
    }
   ],
   "source": [
    "w.shape"
   ]
  },
  {
   "cell_type": "code",
   "execution_count": 956,
   "id": "a465652a",
   "metadata": {},
   "outputs": [],
   "source": [
    "dKx = Kx[1] - Kx[0]\n",
    "dKy = Ky[1] - Ky[0]\n",
    "dW = w[1] - w[0]"
   ]
  },
  {
   "cell_type": "code",
   "execution_count": 957,
   "id": "9300b4e0",
   "metadata": {},
   "outputs": [],
   "source": [
    "Norm = dKx * dKy * dW "
   ]
  },
  {
   "cell_type": "code",
   "execution_count": 958,
   "id": "7eb75426",
   "metadata": {},
   "outputs": [],
   "source": [
    "# Get power spectra\n",
    "Spectrum_raw = fftshift(fftn(eta) / np.prod(eta.shape))\n",
    "power_Spectrum = np.abs(Spectrum_raw / Norm)**2"
   ]
  },
  {
   "cell_type": "code",
   "execution_count": 959,
   "id": "59bae57e",
   "metadata": {
    "scrolled": true
   },
   "outputs": [
    {
     "data": {
      "text/plain": [
       "(132, 132, 366)"
      ]
     },
     "execution_count": 959,
     "metadata": {},
     "output_type": "execute_result"
    }
   ],
   "source": [
    "power_Spectrum.shape"
   ]
  },
  {
   "cell_type": "markdown",
   "id": "31197514",
   "metadata": {},
   "source": [
    "## 1.2.0) Tapering Function"
   ]
  },
  {
   "cell_type": "code",
   "execution_count": 1005,
   "id": "52ff719d",
   "metadata": {},
   "outputs": [],
   "source": [
    "import numpy as np\n",
    "\n",
    "def tapering_function(n, a, L):\n",
    "    if 0 <= n <= a * L / 2:\n",
    "        return 0.5 * (1 + np.cos(np.pi * (2 * n / (a * L) - 1)))\n",
    "    elif a * L / 2 <= n <= L * (1 - a / 2):\n",
    "        return 1\n",
    "    elif L * (1 - a / 2) <= n <= L:\n",
    "        return 0.5 * (1 + np.cos(np.pi * (2 * n / (a * L) - 2 / a + 1)))\n",
    "    else:\n",
    "        return 0.0\n",
    "\n",
    "def apply_tapering_3d(data, a):\n",
    "    shape = data.shape\n",
    "    tapering_3d = np.ones(shape)\n",
    "\n",
    "    for i in range(shape[0]):\n",
    "        for j in range(shape[1]):\n",
    "            for k in range(shape[2]):\n",
    "                tapering_3d[i, j, k] = tapering_function(i, a, shape[0]) * tapering_function(j, a, shape[1]) * tapering_function(k, a, shape[2])\n",
    "\n",
    "    tapered_data = data * tapering_3d\n",
    "\n",
    "    return tapered_data"
   ]
  },
  {
   "cell_type": "code",
   "execution_count": 1006,
   "id": "dd41b28c",
   "metadata": {},
   "outputs": [],
   "source": [
    "a_value = 0.1"
   ]
  },
  {
   "cell_type": "code",
   "execution_count": 1007,
   "id": "4a97c082",
   "metadata": {},
   "outputs": [
    {
     "data": {
      "text/plain": [
       "(132, 132, 366)"
      ]
     },
     "execution_count": 1007,
     "metadata": {},
     "output_type": "execute_result"
    }
   ],
   "source": [
    "eta.shape"
   ]
  },
  {
   "cell_type": "code",
   "execution_count": 1008,
   "id": "f988fef8",
   "metadata": {},
   "outputs": [],
   "source": [
    "tapered_eta = apply_tapering_3d(eta, a_value)"
   ]
  },
  {
   "cell_type": "code",
   "execution_count": 1009,
   "id": "971219c5",
   "metadata": {},
   "outputs": [
    {
     "data": {
      "text/plain": [
       "(132, 132, 366)"
      ]
     },
     "execution_count": 1009,
     "metadata": {},
     "output_type": "execute_result"
    }
   ],
   "source": [
    "tapered_eta.shape"
   ]
  },
  {
   "cell_type": "code",
   "execution_count": 1012,
   "id": "a6103997",
   "metadata": {},
   "outputs": [],
   "source": [
    "tapered_padded_eta = np.pad(tapered_eta, ((0,0), (0,0), (30, 31)), 'constant',  constant_values=0)"
   ]
  },
  {
   "cell_type": "code",
   "execution_count": 1013,
   "id": "6c700a8a",
   "metadata": {},
   "outputs": [
    {
     "data": {
      "text/plain": [
       "(132, 132, 427)"
      ]
     },
     "execution_count": 1013,
     "metadata": {},
     "output_type": "execute_result"
    }
   ],
   "source": [
    "tapered_padded_eta.shape"
   ]
  },
  {
   "cell_type": "code",
   "execution_count": 1014,
   "id": "a25ae421",
   "metadata": {},
   "outputs": [],
   "source": [
    "# Taper Applied\n",
    "Nx, Ny, Nt = tapered_padded_eta.shape\n",
    "Kx = (2 * np.pi * 1 / dx / Nx) * np.arange(-np.ceil((Nx - 1) / 2), np.floor((Nx - 1) / 2) + 1) # 67 values\n",
    "Ky = (2 * np.pi * 1 / dy / Ny) * np.arange(-np.ceil((Ny - 1) / 2), np.floor((Ny - 1) / 2) + 1) # 67 Values\n",
    "w = (2 * np.pi * 1 / dt / Nt) * np.arange(-np.ceil((Nt - 1) / 2), np.floor((Nt - 1) / 2) + 1) # 1200 Values"
   ]
  },
  {
   "cell_type": "code",
   "execution_count": 1015,
   "id": "fa18ad6c",
   "metadata": {},
   "outputs": [],
   "source": [
    "# Taper Applied\n",
    "\n",
    "# Get power spectra\n",
    "Spectrum_raw = fftshift(fftn(tapered_padded_eta) / np.prod(tapered_padded_eta.shape))\n",
    "power_Spectrum = np.abs(Spectrum_raw / Norm)**2"
   ]
  },
  {
   "cell_type": "markdown",
   "id": "165edd6b",
   "metadata": {},
   "source": [
    "## 1.2.1) HP Filter"
   ]
  },
  {
   "cell_type": "code",
   "execution_count": 1016,
   "id": "7b9595ca",
   "metadata": {},
   "outputs": [
    {
     "data": {
      "text/plain": [
       "(132, 132, 427)"
      ]
     },
     "execution_count": 1016,
     "metadata": {},
     "output_type": "execute_result"
    }
   ],
   "source": [
    "I_0 = power_Spectrum\n",
    "I_0.shape"
   ]
  },
  {
   "cell_type": "code",
   "execution_count": 1017,
   "id": "0b8f824b",
   "metadata": {},
   "outputs": [],
   "source": [
    "w_cut = 0.03 * 2*np.pi"
   ]
  },
  {
   "cell_type": "code",
   "execution_count": 1018,
   "id": "dd1578f0",
   "metadata": {},
   "outputs": [
    {
     "data": {
      "text/plain": [
       "0.18849555921538758"
      ]
     },
     "execution_count": 1018,
     "metadata": {},
     "output_type": "execute_result"
    }
   ],
   "source": [
    "w_cut"
   ]
  },
  {
   "cell_type": "code",
   "execution_count": 1019,
   "id": "afe7a1b3",
   "metadata": {},
   "outputs": [],
   "source": [
    "# Create a boolean mask based on the condition w >= w_cut\n",
    "mask = (w >= w_cut)"
   ]
  },
  {
   "cell_type": "code",
   "execution_count": 1020,
   "id": "206aa790",
   "metadata": {},
   "outputs": [],
   "source": [
    "I_1 = np.where(mask[ None, None,:], I_0, 0)"
   ]
  },
  {
   "cell_type": "markdown",
   "id": "1a56647a",
   "metadata": {},
   "source": [
    "## 1.2.2)Energy Threshold"
   ]
  },
  {
   "cell_type": "code",
   "execution_count": 1021,
   "id": "363560d8",
   "metadata": {},
   "outputs": [],
   "source": [
    "# Create a boolean mask based on the condition energy\n",
    "\n",
    "P = np.max(I_1) / 2000\n",
    "# Threshold\n",
    "\n",
    "condition = ( np.max(I_1, axis=2) >= P )\n",
    "# Is  maximum energy for each column vector along the ω axis > P"
   ]
  },
  {
   "cell_type": "code",
   "execution_count": 1022,
   "id": "d755204a",
   "metadata": {},
   "outputs": [],
   "source": [
    "I_2 = np.where(condition[:, :, None], I_1, 0)"
   ]
  },
  {
   "cell_type": "markdown",
   "id": "baac8e39",
   "metadata": {},
   "source": [
    "## 1.2.3) Peak Identification"
   ]
  },
  {
   "cell_type": "code",
   "execution_count": 1023,
   "id": "e82ac544",
   "metadata": {},
   "outputs": [],
   "source": [
    "from scipy.signal import find_peaks, peak_widths, peak_prominences"
   ]
  },
  {
   "cell_type": "code",
   "execution_count": 1024,
   "id": "a1ae5935",
   "metadata": {},
   "outputs": [],
   "source": [
    "def check_prominent_peaks(kx, ky):\n",
    "    y = I_2[kx, ky,:]\n",
    "    \n",
    "    wj = np.zeros((I_2.shape[0], I_2.shape[1]))\n",
    "    \n",
    "    if np.max(y) < 1:\n",
    "        wj[kx, ky] = 0\n",
    "    # If Power Spectrum is 0 then wj is 0\n",
    "        \n",
    "    else:\n",
    "        peak_heights = y\n",
    "        \n",
    "        # Find the peak with the maximum height\n",
    "        max_peak_index = np.argmax(peak_heights)\n",
    "        max_peak_height = peak_heights[max_peak_index]\n",
    "\n",
    "        threshold = 6\n",
    "\n",
    "        # Check if the maximum peak 6 times larger than the others\n",
    "        # If it is we conclude it is a peak on its own and print\n",
    "        if max_peak_height > threshold * np.max(peak_heights[peak_heights != max_peak_height]):\n",
    "            wj[kx,ky] = w[max_peak_index]\n",
    "            \n",
    "        else:\n",
    "            pass\n",
    "            \n",
    "    return wj"
   ]
  },
  {
   "cell_type": "code",
   "execution_count": 1025,
   "id": "3d8d1436",
   "metadata": {},
   "outputs": [],
   "source": [
    "def identification(kx, ky, ratio, prominence, distance):\n",
    "    \n",
    "    '''Scans for peaks and then sorts them by heights. \n",
    "    It keeps the peaks which are ratio times smaller than the next'''\n",
    "    \n",
    "    y = I_2[kx,ky,:]\n",
    "    wj = np.zeros((I_2.shape[0], I_2.shape[1]))\n",
    "    \n",
    "    if np.max(y) < 1:\n",
    "        wj[kx, ky] = 0\n",
    "    # If Power Spectrum is 0 then wj is 0\n",
    "    \n",
    "    else:\n",
    "        peaks, stats = find_peaks(y, prominence=prominence, distance=distance)\n",
    "        order = np.flip(np.argsort(stats[\"prominences\"]))\n",
    "\n",
    "        if len(peaks) == 1:\n",
    "            wj[kx,ky] = w[peaks[0]]\n",
    "\n",
    "        elif len(peaks) > 1:\n",
    "            for i, j in zip(order[:-1], order[1:]):\n",
    "                if stats[\"prominences\"][i] >= ratio * stats[\"prominences\"][j]:\n",
    "                    wj[kx,ky] = w[peaks[i]]\n",
    "                    \n",
    "#        return {\n",
    "#            \"values\": values,\n",
    "#            \"order\": order,\n",
    "#            \"peaks\": peaks,\n",
    "#            \"stats\": stats,\n",
    "#        }\n",
    "    \n",
    "    return wj "
   ]
  },
  {
   "cell_type": "code",
   "execution_count": 1026,
   "id": "d97950b3",
   "metadata": {},
   "outputs": [],
   "source": [
    "def identification(kx, ky, ratio, prominence, distance):\n",
    "    \n",
    "    '''Scans for peaks and then sorts them by heights. \n",
    "    It keeps the peaks which are ratio times smaller than the next'''\n",
    "    \n",
    "    y = I_2[kx,ky,:]\n",
    "    wj = np.zeros((I_2.shape[0], I_2.shape[1]))\n",
    "    \n",
    "    if np.max(y) < 1:\n",
    "        wj[kx, ky] = 0\n",
    "    # If Power Spectrum is 0 then wj is 0\n",
    "    \n",
    "    else:\n",
    "        peaks, stats = find_peaks(y, prominence=prominence, distance=distance)\n",
    "\n",
    "        if len(peaks) == 1:\n",
    "            wj[kx,ky] = w[peaks[0]]\n",
    "\n",
    "        elif len(peaks) > 1:\n",
    "            try_sort = list(set(y[peaks]))\n",
    "            try_sort.sort()\n",
    "            ind = np.where(y[peaks]==np.max(y[peaks]))\n",
    "            thing = []\n",
    "\n",
    "            for k in range(len(peaks)):\n",
    "                if np.max(y[peaks]) >= ratio*try_sort[-2]:\n",
    "                    #thing.append(w[peaks[ind]])\n",
    "                    wj[kx,ky] = w[peaks[ind]]\n",
    "                    \n",
    "#        return {\n",
    "#            \"values\": values,\n",
    "#            \"order\": order,\n",
    "#            \"peaks\": peaks,\n",
    "#            \"stats\": stats,\n",
    "#        }\n",
    "    \n",
    "    return wj "
   ]
  },
  {
   "cell_type": "markdown",
   "id": "b8ece3a7",
   "metadata": {},
   "source": [
    "# Testing data"
   ]
  },
  {
   "cell_type": "code",
   "execution_count": 1027,
   "id": "560feae2",
   "metadata": {},
   "outputs": [],
   "source": [
    "l = 36\n",
    "\n",
    "y = I_2[nonzero_indices[0][l], nonzero_indices[1][l],:]\n",
    "peaks, stats = find_peaks(y, prominence=0.1*np.max(y), distance=10)"
   ]
  },
  {
   "cell_type": "code",
   "execution_count": 1028,
   "id": "86730b9d",
   "metadata": {},
   "outputs": [
    {
     "data": {
      "text/plain": [
       "Text(0.5, 1.0, 'Should be counted')"
      ]
     },
     "execution_count": 1028,
     "metadata": {},
     "output_type": "execute_result"
    },
    {
     "data": {
      "image/png": "[encoded data removed]",
      "text/plain": [
       "<Figure size 432x288 with 1 Axes>"
      ]
     },
     "metadata": {
      "needs_background": "light"
     },
     "output_type": "display_data"
    }
   ],
   "source": [
    "plt.scatter(w, I_2[nonzero_indices[0][l], nonzero_indices[1][l], :])\n",
    "\n",
    "for i in w[peaks]:\n",
    "    plt.axvline(i, color='red')\n",
    "\n",
    "plt.xlabel(\"w\")\n",
    "plt.ylabel(\"Spectral Power\")\n",
    "plt.grid(True)\n",
    "plt.title(\"Should be counted\")"
   ]
  },
  {
   "cell_type": "code",
   "execution_count": 782,
   "id": "108ee22d",
   "metadata": {},
   "outputs": [],
   "source": [
    "order = np.flip(np.argsort(stats[\"prominences\"]))\n",
    "thing = []\n",
    "ratio = 3"
   ]
  },
  {
   "cell_type": "code",
   "execution_count": 783,
   "id": "a91d1895",
   "metadata": {},
   "outputs": [],
   "source": [
    "# When there is more than one peak \n",
    "thing = []\n",
    "for i, j in zip(order[:-1], order[1:]):\n",
    "    if stats[\"prominences\"][i] >= ratio * stats[\"prominences\"][j]:\n",
    "        thing.append(w[peaks[i]])"
   ]
  },
  {
   "cell_type": "code",
   "execution_count": 784,
   "id": "082dcd3f",
   "metadata": {},
   "outputs": [
    {
     "ename": "IndexError",
     "evalue": "list index out of range",
     "output_type": "error",
     "traceback": [
      "\u001b[1;31m---------------------------------------------------------------------------\u001b[0m",
      "\u001b[1;31mIndexError\u001b[0m                                Traceback (most recent call last)",
      "\u001b[1;32m<ipython-input-784-daf800ab09a6>\u001b[0m in \u001b[0;36m<module>\u001b[1;34m\u001b[0m\n\u001b[0;32m      5\u001b[0m \u001b[1;33m\u001b[0m\u001b[0m\n\u001b[0;32m      6\u001b[0m \u001b[1;32mfor\u001b[0m \u001b[0mk\u001b[0m \u001b[1;32min\u001b[0m \u001b[0mrange\u001b[0m\u001b[1;33m(\u001b[0m\u001b[0mlen\u001b[0m\u001b[1;33m(\u001b[0m\u001b[0mpeaks\u001b[0m\u001b[1;33m)\u001b[0m\u001b[1;33m)\u001b[0m\u001b[1;33m:\u001b[0m\u001b[1;33m\u001b[0m\u001b[1;33m\u001b[0m\u001b[0m\n\u001b[1;32m----> 7\u001b[1;33m     \u001b[1;32mif\u001b[0m \u001b[0mnp\u001b[0m\u001b[1;33m.\u001b[0m\u001b[0mmax\u001b[0m\u001b[1;33m(\u001b[0m\u001b[0my\u001b[0m\u001b[1;33m[\u001b[0m\u001b[0mpeaks\u001b[0m\u001b[1;33m]\u001b[0m\u001b[1;33m)\u001b[0m \u001b[1;33m>=\u001b[0m \u001b[0mratio\u001b[0m\u001b[1;33m*\u001b[0m\u001b[0mtry_sort\u001b[0m\u001b[1;33m[\u001b[0m\u001b[1;33m-\u001b[0m\u001b[1;36m2\u001b[0m\u001b[1;33m]\u001b[0m\u001b[1;33m:\u001b[0m\u001b[1;33m\u001b[0m\u001b[1;33m\u001b[0m\u001b[0m\n\u001b[0m\u001b[0;32m      8\u001b[0m         \u001b[0mthing\u001b[0m\u001b[1;33m.\u001b[0m\u001b[0mappend\u001b[0m\u001b[1;33m(\u001b[0m\u001b[0mw\u001b[0m\u001b[1;33m[\u001b[0m\u001b[0mpeaks\u001b[0m\u001b[1;33m[\u001b[0m\u001b[0mind\u001b[0m\u001b[1;33m]\u001b[0m\u001b[1;33m]\u001b[0m\u001b[1;33m)\u001b[0m\u001b[1;33m\u001b[0m\u001b[1;33m\u001b[0m\u001b[0m\n",
      "\u001b[1;31mIndexError\u001b[0m: list index out of range"
     ]
    }
   ],
   "source": [
    "try_sort = list(set(y[peaks]))\n",
    "try_sort.sort()\n",
    "ind = np.where(y[peaks]==np.max(y[peaks]))\n",
    "thing = []\n",
    "\n",
    "for k in range(len(peaks)):\n",
    "    if np.max(y[peaks]) >= ratio*try_sort[-2]:\n",
    "        thing.append(w[peaks[ind]])"
   ]
  },
  {
   "cell_type": "code",
   "execution_count": 785,
   "id": "f5a08d7c",
   "metadata": {},
   "outputs": [
    {
     "data": {
      "text/plain": [
       "Text(0.5, 1.0, 'Gets Counted')"
      ]
     },
     "execution_count": 785,
     "metadata": {},
     "output_type": "execute_result"
    },
    {
     "data": {
      "image/png": "[encoded data removed]",
      "text/plain": [
       "<Figure size 432x288 with 1 Axes>"
      ]
     },
     "metadata": {
      "needs_background": "light"
     },
     "output_type": "display_data"
    }
   ],
   "source": [
    "plt.scatter(w, I_2[nonzero_indices[0][l], nonzero_indices[1][l],:])\n",
    "\n",
    "for i in thing:\n",
    "    plt.axvline(i, color='green')\n",
    "\n",
    "plt.xlabel(\"w\")\n",
    "plt.ylabel(\"Spectral Power\")\n",
    "plt.grid(True)\n",
    "plt.title(\"Gets Counted\")"
   ]
  },
  {
   "cell_type": "code",
   "execution_count": null,
   "id": "6936dcad",
   "metadata": {},
   "outputs": [],
   "source": []
  },
  {
   "cell_type": "code",
   "execution_count": null,
   "id": "08eff452",
   "metadata": {},
   "outputs": [],
   "source": []
  },
  {
   "cell_type": "code",
   "execution_count": null,
   "id": "14cbbfe0",
   "metadata": {},
   "outputs": [],
   "source": []
  },
  {
   "cell_type": "code",
   "execution_count": null,
   "id": "f58631a2",
   "metadata": {},
   "outputs": [],
   "source": []
  },
  {
   "cell_type": "code",
   "execution_count": null,
   "id": "52c0724c",
   "metadata": {},
   "outputs": [],
   "source": []
  },
  {
   "cell_type": "code",
   "execution_count": 1029,
   "id": "d9f73038",
   "metadata": {},
   "outputs": [],
   "source": [
    "wj_array = []\n",
    "\n",
    "for kx in range(I_2.shape[0]):\n",
    "    for ky in range(I_2.shape[1]):\n",
    "        wj_array.append(identification(kx, ky, ratio=3, prominence=0.1*np.max(y), distance=10))"
   ]
  },
  {
   "cell_type": "code",
   "execution_count": 1030,
   "id": "3f779472",
   "metadata": {},
   "outputs": [],
   "source": [
    "w0_2D = np.sum(wj_array, axis=0)\n",
    "# gives the 2d array w0(kx,ky)"
   ]
  },
  {
   "cell_type": "code",
   "execution_count": 1031,
   "id": "ab3018b3",
   "metadata": {},
   "outputs": [],
   "source": [
    "w0 = w0_2D[w0_2D != 0]"
   ]
  },
  {
   "cell_type": "code",
   "execution_count": 1032,
   "id": "000da2fe",
   "metadata": {},
   "outputs": [],
   "source": [
    "nonzero_indices = np.nonzero(w0_2D)"
   ]
  },
  {
   "cell_type": "code",
   "execution_count": 1033,
   "id": "9cde5ab6",
   "metadata": {},
   "outputs": [
    {
     "data": {
      "text/plain": [
       "(array([56, 59, 60, 60, 61, 61, 61, 61, 62, 62, 63, 63, 63, 63, 63, 63, 64,\n",
       "        64, 64, 64, 65, 65, 65, 65, 66, 66, 66, 66, 66, 66, 66, 66, 67, 67,\n",
       "        67, 67, 68, 68, 68, 68, 68, 68, 68, 69, 69, 69, 69, 69, 69, 70, 70,\n",
       "        70, 70, 70, 71, 71, 71, 71, 72, 72, 72, 73, 73, 73, 73, 74, 74, 75,\n",
       "        75, 75, 75, 76, 76], dtype=int64),\n",
       " array([55, 77, 73, 74, 52, 71, 72, 75, 70, 78, 67, 68, 69, 72, 73, 79, 52,\n",
       "        72, 73, 80, 68, 72, 80, 81, 51, 53, 67, 68, 72, 74, 76, 80, 67, 68,\n",
       "        69, 73, 53, 54, 67, 68, 69, 72, 80, 52, 53, 67, 68, 72, 74, 67, 68,\n",
       "        71, 76, 79, 67, 68, 78, 79, 67, 70, 79, 66, 69, 70, 73, 73, 77, 74,\n",
       "        75, 76, 77, 74, 75], dtype=int64))"
      ]
     },
     "execution_count": 1033,
     "metadata": {},
     "output_type": "execute_result"
    }
   ],
   "source": [
    "nonzero_indices"
   ]
  },
  {
   "cell_type": "code",
   "execution_count": 1034,
   "id": "a9980f77",
   "metadata": {},
   "outputs": [],
   "source": [
    "kx_indices = nonzero_indices[0]\n",
    "ky_indices = nonzero_indices[1]"
   ]
  },
  {
   "cell_type": "code",
   "execution_count": 1035,
   "id": "269bf0d7",
   "metadata": {},
   "outputs": [
    {
     "data": {
      "text/plain": [
       "array([56, 59, 60, 60, 61, 61, 61, 61, 62, 62, 63, 63, 63, 63, 63, 63, 64,\n",
       "       64, 64, 64, 65, 65, 65, 65, 66, 66, 66, 66, 66, 66, 66, 66, 67, 67,\n",
       "       67, 67, 68, 68, 68, 68, 68, 68, 68, 69, 69, 69, 69, 69, 69, 70, 70,\n",
       "       70, 70, 70, 71, 71, 71, 71, 72, 72, 72, 73, 73, 73, 73, 74, 74, 75,\n",
       "       75, 75, 75, 76, 76], dtype=int64)"
      ]
     },
     "execution_count": 1035,
     "metadata": {},
     "output_type": "execute_result"
    }
   ],
   "source": [
    "kx_indices"
   ]
  },
  {
   "cell_type": "code",
   "execution_count": 1036,
   "id": "e9f5fa85",
   "metadata": {},
   "outputs": [
    {
     "data": {
      "text/plain": [
       "(73,)"
      ]
     },
     "execution_count": 1036,
     "metadata": {},
     "output_type": "execute_result"
    }
   ],
   "source": [
    "ky_indices.shape"
   ]
  },
  {
   "cell_type": "code",
   "execution_count": 1037,
   "id": "6219c83e",
   "metadata": {},
   "outputs": [
    {
     "data": {
      "text/plain": [
       "(73,)"
      ]
     },
     "execution_count": 1037,
     "metadata": {},
     "output_type": "execute_result"
    }
   ],
   "source": [
    "ky_indices.shape"
   ]
  },
  {
   "cell_type": "code",
   "execution_count": 1038,
   "id": "402513e1",
   "metadata": {},
   "outputs": [],
   "source": [
    "kx_trip = Kx[kx_indices]\n",
    "ky_trip = Ky[ky_indices]"
   ]
  },
  {
   "cell_type": "code",
   "execution_count": 1039,
   "id": "fdfb3e28",
   "metadata": {},
   "outputs": [
    {
     "data": {
      "text/plain": [
       "array([-0.13962634,  0.13962634,  0.08885313,  0.10154643, -0.17770625,\n",
       "        0.06346652,  0.07615982,  0.11423973,  0.05077321,  0.15231964,\n",
       "        0.0126933 ,  0.02538661,  0.03807991,  0.07615982,  0.08885313,\n",
       "        0.16501295, -0.17770625,  0.07615982,  0.08885313,  0.17770625,\n",
       "        0.02538661,  0.07615982,  0.17770625,  0.19039955, -0.19039955,\n",
       "       -0.16501295,  0.0126933 ,  0.02538661,  0.07615982,  0.10154643,\n",
       "        0.12693304,  0.17770625,  0.0126933 ,  0.02538661,  0.03807991,\n",
       "        0.08885313, -0.16501295, -0.15231964,  0.0126933 ,  0.02538661,\n",
       "        0.03807991,  0.07615982,  0.17770625, -0.17770625, -0.16501295,\n",
       "        0.0126933 ,  0.02538661,  0.07615982,  0.10154643,  0.0126933 ,\n",
       "        0.02538661,  0.06346652,  0.12693304,  0.16501295,  0.0126933 ,\n",
       "        0.02538661,  0.15231964,  0.16501295,  0.0126933 ,  0.05077321,\n",
       "        0.16501295,  0.        ,  0.03807991,  0.05077321,  0.08885313,\n",
       "        0.08885313,  0.13962634,  0.10154643,  0.11423973,  0.12693304,\n",
       "        0.13962634,  0.10154643,  0.11423973])"
      ]
     },
     "execution_count": 1039,
     "metadata": {},
     "output_type": "execute_result"
    }
   ],
   "source": [
    "ky_trip"
   ]
  },
  {
   "cell_type": "code",
   "execution_count": 1040,
   "id": "c4f95189",
   "metadata": {
    "scrolled": true
   },
   "outputs": [
    {
     "data": {
      "text/plain": [
       "(73,)"
      ]
     },
     "execution_count": 1040,
     "metadata": {},
     "output_type": "execute_result"
    }
   ],
   "source": [
    "ky_trip.shape"
   ]
  },
  {
   "cell_type": "code",
   "execution_count": 1041,
   "id": "62735fde",
   "metadata": {},
   "outputs": [
    {
     "data": {
      "text/plain": [
       "(73,)"
      ]
     },
     "execution_count": 1041,
     "metadata": {},
     "output_type": "execute_result"
    }
   ],
   "source": [
    "ky_trip.shape"
   ]
  },
  {
   "cell_type": "code",
   "execution_count": 1042,
   "id": "b123158c",
   "metadata": {},
   "outputs": [],
   "source": [
    "import matplotlib.patches as mpatches\n",
    "import matplotlib.lines as mlines"
   ]
  },
  {
   "cell_type": "code",
   "execution_count": 1043,
   "id": "ecff6617",
   "metadata": {},
   "outputs": [],
   "source": [
    "%matplotlib widget"
   ]
  },
  {
   "cell_type": "code",
   "execution_count": 1044,
   "id": "72f93160",
   "metadata": {},
   "outputs": [
    {
     "data": {
      "application/vnd.jupyter.widget-view+json": {
       "model_id": "310b4579a53844f1a99fc1b4f7d0ce68",
       "version_major": 2,
       "version_minor": 0
      },
      "image/png": "[encoded data removed]",
      "text/html": [
       "\n",
       "            <div style=\"display: inline-block;\">\n",
       "                <div class=\"jupyter-widgets widget-label\" style=\"text-align: center;\">\n",
       "                    Figure\n",
       "                </div>\n",
       "                <img src='data:image/png;base64,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' width=720.0/>\n",
       "            </div>\n",
       "        "
      ],
      "text/plain": [
       "Canvas(toolbar=Toolbar(toolitems=[('Home', 'Reset original view', 'home', 'home'), ('Back', 'Back to previous …"
      ]
     },
     "metadata": {},
     "output_type": "display_data"
    }
   ],
   "source": [
    "# Creating figure\n",
    "fig = plt.figure(figsize = (10, 7))\n",
    "ax = plt.axes(projection =\"3d\")\n",
    " \n",
    "# Creating plot\n",
    "ax.scatter3D(-kx_trip, -ky_trip, w0, color = \"red\", s = 5)\n",
    "plt.title(\"Spectrum\")\n",
    "\n",
    "ax.set_xlabel('x')\n",
    "ax.set_ylabel('y')\n",
    "ax.set_zlabel('$\\omega$')\n",
    "\n",
    "# Create legend manually with a dot for 'Triplets'\n",
    "legend_elements = [\n",
    "    mlines.Line2D([0], [0], marker='o', color='w', markerfacecolor='red', markersize=10, label='Triplets'),\n",
    "    mlines.Line2D([0], [0], color='blue', label='Dispersion relation')\n",
    "]\n",
    "\n",
    "# Create legend\n",
    "ax.legend(handles=legend_elements)\n",
    " \n",
    "# show plot\n",
    "plt.show()"
   ]
  },
  {
   "cell_type": "markdown",
   "id": "0f159343",
   "metadata": {},
   "source": [
    "# 1.2.?) Try filter out bad triplets"
   ]
  },
  {
   "cell_type": "code",
   "execution_count": 1054,
   "id": "c598f4c3",
   "metadata": {},
   "outputs": [
    {
     "data": {
      "text/plain": [
       "(132, 132)"
      ]
     },
     "execution_count": 1054,
     "metadata": {},
     "output_type": "execute_result"
    }
   ],
   "source": [
    "w0_2D.shape"
   ]
  },
  {
   "cell_type": "code",
   "execution_count": 1055,
   "id": "9b5db9fa",
   "metadata": {},
   "outputs": [],
   "source": [
    "# Create a mask based on Ky values\n",
    "mask = -Kx < -0.07"
   ]
  },
  {
   "cell_type": "code",
   "execution_count": 1056,
   "id": "816d4cc0",
   "metadata": {},
   "outputs": [],
   "source": [
    "# Apply the mask to the 2D array\n",
    "w0_2D_filtered = np.where(mask[np.newaxis, :], w0_2D, 0)"
   ]
  },
  {
   "cell_type": "code",
   "execution_count": 1057,
   "id": "be525d10",
   "metadata": {},
   "outputs": [
    {
     "data": {
      "text/plain": [
       "1.265138899478419"
      ]
     },
     "execution_count": 1057,
     "metadata": {},
     "output_type": "execute_result"
    }
   ],
   "source": [
    "np.max(w0_2D)"
   ]
  },
  {
   "cell_type": "code",
   "execution_count": 1058,
   "id": "1f775026",
   "metadata": {},
   "outputs": [],
   "source": [
    "yoke1, yoke2 = np.meshgrid(-Kx, -Ky, indexing='ij')"
   ]
  },
  {
   "cell_type": "code",
   "execution_count": 1059,
   "id": "b296ecd6",
   "metadata": {},
   "outputs": [
    {
     "data": {
      "text/plain": [
       "<mpl_toolkits.mplot3d.art3d.Path3DCollection at 0x1c61afd0f70>"
      ]
     },
     "execution_count": 1059,
     "metadata": {},
     "output_type": "execute_result"
    },
    {
     "data": {
      "image/png": "[encoded data removed]",
      "text/plain": [
       "<Figure size 720x504 with 1 Axes>"
      ]
     },
     "metadata": {
      "needs_background": "light"
     },
     "output_type": "display_data"
    }
   ],
   "source": [
    "# Flatten the 2D arrays\n",
    "x_flat = yoke1.flatten()\n",
    "y_flat = yoke2.flatten()\n",
    "z_flat = w0_2D_filtered.flatten()\n",
    "\n",
    "# Filter out points where z-data is 0\n",
    "non_zero_indices = np.where(z_flat != 0)\n",
    "x_filtered = x_flat[non_zero_indices]\n",
    "y_filtered = y_flat[non_zero_indices]\n",
    "z_filtered = z_flat[non_zero_indices]\n",
    "\n",
    "# Create a 3D plot\n",
    "fig = plt.figure(figsize = (10, 7))\n",
    "ax = fig.add_subplot(111, projection='3d')\n",
    "\n",
    "ax.set_xlim([-0.2, 0.2])  # Adjust the limits as needed for your data\n",
    "ax.set_ylim([-0.2, 0.2])\n",
    "ax.set_zlim([0,1.2])\n",
    "\n",
    "ax.set_xlabel('x')\n",
    "ax.set_ylabel('y')\n",
    "ax.set_zlabel('$\\omega$')\n",
    "\n",
    "# Scatter plot the points\n",
    "ax.scatter(x_filtered, y_filtered, z_filtered, c='r', marker='o', s = 5)\n",
    "\n",
    "#ax.scatter3D(-kx_trip, -ky_trip, w0, color = \"green\", s = 5)"
   ]
  },
  {
   "cell_type": "code",
   "execution_count": 1060,
   "id": "bd6da64b",
   "metadata": {},
   "outputs": [],
   "source": [
    "w0_2D = w0_2D_filtered"
   ]
  },
  {
   "cell_type": "markdown",
   "id": "ed1b22c9",
   "metadata": {},
   "source": [
    "## 1.2.4) Convert to polars"
   ]
  },
  {
   "cell_type": "code",
   "execution_count": 1061,
   "id": "331f7fa0",
   "metadata": {},
   "outputs": [],
   "source": [
    "from scipy.stats import t"
   ]
  },
  {
   "cell_type": "code",
   "execution_count": 1062,
   "id": "ce9af1e5",
   "metadata": {},
   "outputs": [],
   "source": [
    "# kx_2D, ky_2D= np.meshgrid(kx_trip, ky_trip, indexing='ij')\n",
    "kx_2D, ky_2D= np.meshgrid(Kx, Ky, indexing='ij')"
   ]
  },
  {
   "cell_type": "code",
   "execution_count": 1063,
   "id": "fdfa48c6",
   "metadata": {},
   "outputs": [],
   "source": [
    "K_2D = np.sqrt(kx_2D**2 + ky_2D**2)\n",
    "theta_2D = np.arctan2(ky_2D, kx_2D)"
   ]
  },
  {
   "cell_type": "markdown",
   "id": "a877d95b",
   "metadata": {},
   "source": [
    "## 1.2.5) Find Effective Current"
   ]
  },
  {
   "cell_type": "code",
   "execution_count": 1064,
   "id": "1137860c",
   "metadata": {},
   "outputs": [],
   "source": [
    "%matplotlib inline"
   ]
  },
  {
   "cell_type": "code",
   "execution_count": 1065,
   "id": "eab0cabe",
   "metadata": {},
   "outputs": [],
   "source": [
    "def sinusoidinal(x, a, b):\n",
    "    return a*np.cos(x - b) "
   ]
  },
  {
   "cell_type": "code",
   "execution_count": 1066,
   "id": "7d2d85fe",
   "metadata": {},
   "outputs": [],
   "source": [
    "def grubbs_test(x, y):\n",
    "    \"\"\"\n",
    "    Grubb's test removes outlier in y axis and also removes the corresponding x value\n",
    "    \"\"\"\n",
    "\n",
    "    # Gets mean and standard deviation of data\n",
    "    mean_data = np.mean(y)\n",
    "    std_data = np.std(y)\n",
    "\n",
    "    # Calculate Grubbs test statistic\n",
    "    z_scores = np.abs((y - mean_data) / std_data)\n",
    "    max_z = np.max(z_scores)\n",
    "\n",
    "    # Calculate critical value based on the t-distribution\n",
    "    n = len(y)\n",
    "    critical_value = t.ppf(0.975, n - 2) / np.sqrt(n)\n",
    "\n",
    "    # Identify and removes any outlier\n",
    "    outlier_index = np.argmax(z_scores)\n",
    "    if max_z > critical_value:\n",
    "        #print(f\"Outlier detected at index {outlier_index}, value: {y[outlier_index]}\")\n",
    "        y = np.delete(y, outlier_index)\n",
    "        x = np.delete(x, outlier_index)\n",
    "\n",
    "        \n",
    "    return x, y "
   ]
  },
  {
   "cell_type": "code",
   "execution_count": 1067,
   "id": "9c4af7fb",
   "metadata": {},
   "outputs": [],
   "source": [
    "cut_k_array = np.arange(0.001, 0.35, 0.001)\n",
    "\n",
    "U_array = []\n",
    "Φ_array = []\n",
    "\n",
    "for i in range(len(cut_k_array)):\n",
    "    k_slice = cut_k_array[i]\n",
    "\n",
    "    #reso = 0.02\n",
    "    # dk - either side of cut cylinder\n",
    "    #ind = np.where(((k_slice - reso) < K_2D ) & ( K_2D < (k_slice + reso)))\n",
    "    \n",
    "    ind = np.where(np.round(K_2D, 2) == k_slice)\n",
    "    \n",
    "    # Slice at wavenumber cut_k - once k is within 0.01 it is counted as a slice\n",
    "    w0_is_k = w0_2D[ind[0], ind[1]]\n",
    "    theta_is_k = theta_2D[ind[0], ind[1]]\n",
    "    \n",
    "    # w and theta values along k_slice\n",
    "    inds_where_w0_nonzero = np.where(w0_is_k != 0)\n",
    "    \n",
    "    if len(inds_where_w0_nonzero[0]) > 1:\n",
    "        # How many nonzero w0 theres needs to be to be counted (increased numbers, increases accuracy)\n",
    "        nonzero_theta_at_k = theta_is_k[inds_where_w0_nonzero]\n",
    "        nonzero_w0_at_k = w0_is_k[inds_where_w0_nonzero]\n",
    "        \n",
    "        x_theta = nonzero_theta_at_k\n",
    "        y_theta = (nonzero_w0_at_k - np.sqrt(9.81 * k_slice)) / k_slice\n",
    "        \n",
    "        # Preform Grubbs test to remove outliers\n",
    "        x_theta, y_theta = grubbs_test(x_theta, y_theta)\n",
    "        \n",
    "        # Fitting Cos onto points\n",
    "        pars0 = (max(y_theta), 1)  # initial guess\n",
    "        popt, pcov = curve_fit(sinusoidinal, x_theta, y_theta, absolute_sigma=True, p0=pars0)\n",
    "        \n",
    "        # U value\n",
    "        U_opt = popt[0]\n",
    "        U_opt_err = np.sqrt(pcov[0, 0])\n",
    "        U_array.append(np.abs(U_opt))\n",
    "        \n",
    "        # Φ\n",
    "        Φ_opt = popt[1]\n",
    "        Φ_opt_err = np.sqrt(pcov[1, 1])\n",
    "        \n",
    "        if U_opt > 0:\n",
    "            Φ_opt = np.pi - Φ_opt\n",
    "        # Condition due to definition of direction of current \n",
    "        \n",
    "        Φ_array.append(Φ_opt)\n",
    "    else:\n",
    "        # If no values in inds_where_w0_nonzero, append None or a placeholder value as needed\n",
    "        U_array.append(None)\n",
    "        Φ_array.append(None)"
   ]
  },
  {
   "cell_type": "code",
   "execution_count": 1068,
   "id": "f796880a",
   "metadata": {},
   "outputs": [
    {
     "data": {
      "text/plain": [
       "<matplotlib.legend.Legend at 0x1c618eff970>"
      ]
     },
     "execution_count": 1068,
     "metadata": {},
     "output_type": "execute_result"
    },
    {
     "data": {
      "image/png": "[encoded data removed]",
      "text/plain": [
       "<Figure size 432x288 with 1 Axes>"
      ]
     },
     "metadata": {
      "needs_background": "light"
     },
     "output_type": "display_data"
    }
   ],
   "source": [
    "plt.scatter(cut_k_array, U_array, color = 'red', label = 'PCS Points')\n",
    "#plt.plot(k, Uk[:,0], color = 'black', linestyle = '--',  label='Correct U')\n",
    "\n",
    "plt.xlabel(\"k\")\n",
    "plt.ylabel(\"U\")\n",
    "plt.title(\"Depend of Current on Wavenumber\")\n",
    "plt.grid(True)\n",
    "plt.legend()\n",
    "#plt.xlim(0.15, 0.2)\n",
    "#plt.ylim(0,2)"
   ]
  },
  {
   "cell_type": "code",
   "execution_count": 1069,
   "id": "f58ac448",
   "metadata": {},
   "outputs": [
    {
     "data": {
      "text/plain": [
       "(-3.141592653589793, 3.141592653589793)"
      ]
     },
     "execution_count": 1069,
     "metadata": {},
     "output_type": "execute_result"
    },
    {
     "data": {
      "image/png": "[encoded data removed]",
      "text/plain": [
       "<Figure size 432x288 with 1 Axes>"
      ]
     },
     "metadata": {
      "needs_background": "light"
     },
     "output_type": "display_data"
    }
   ],
   "source": [
    "plt.scatter(cut_k_array,Φ_array, color = 'red', label = 'PCS Points')\n",
    "#plt.plot(k, Uk[:,0], color = 'black', linestyle = '--',  label='Correct U')\n",
    "\n",
    "plt.xlabel(\"k\")\n",
    "plt.ylabel(\"U\")\n",
    "plt.title(\"Depend of Current on Wavenumber\")\n",
    "plt.grid(True)\n",
    "plt.legend()\n",
    "plt.ylim(-np.pi,np.pi)"
   ]
  },
  {
   "cell_type": "markdown",
   "id": "f5fd8b95",
   "metadata": {},
   "source": [
    "## 1.2.6) Plot disp surface"
   ]
  },
  {
   "cell_type": "code",
   "execution_count": 106,
   "id": "43c852d2",
   "metadata": {},
   "outputs": [],
   "source": [
    "def plot_disp_shell(axes, h, z, U, psi, label='', plot_type='surf', linestyles='line', put_clabel=True):\n",
    "    g = 9.81\n",
    "    alpha = 0.5 # value that defines opacity in plot\n",
    "    dk = 0.005\n",
    "    k = np.arange(0.01, 0.35, dk)\n",
    "    dtheta=0.05\n",
    "    theta=np.arange(0, 2*np.pi+dtheta, dtheta)\n",
    "    kk, th = np.meshgrid(k, theta, indexing='ij')\n",
    "    U_eff = 2*kk*np.sum(U*np.exp(np.outer(2*kk,z)), axis=1).reshape(kk.shape)*np.abs(z[1]-z[0])\n",
    "    ww = kk*U_eff*np.cos(theta-psi) + np.sqrt(kk*g*np.tanh(kk*h))\n",
    "    kx = kk*np.cos(th)\n",
    "    ky = kk*np.sin(th)\n",
    "    if plot_type=='surf':\n",
    "        axes.plot_surface(kx, ky, ww, alpha=alpha, label=label)\n",
    "        axes.set_xlabel(r'$k_x~[\\mathrm{rad~m}^{-1}]$')\n",
    "        axes.set_ylabel(r'$k_y~[\\mathrm{rad~m}^{-1}]$')\n",
    "        axes.set_zlabel(r'$\\omega~[\\mathrm{rad~s}^{-1}]$')\n",
    "    elif plot_type=='contour':\n",
    "        levels = [0.6, 0.8, 1.0, 1.2, 1.4, 1.6, 1.8]\n",
    "        c = plt.contour(kx, ky, ww, levels=levels, linestyles=linestyles)#, label=label)\n",
    "        if put_clabel:\n",
    "            plt.clabel(c)\n",
    "        plt.xlabel(r'$k_x~[\\mathrm{rad~m}^{-1}]$') \n",
    "        plt.ylabel(r'$k_y~[\\mathrm{rad~m}^{-1}]$')\n",
    "        plt.axis('equal')\n",
    "        \n",
    "    return kx, ky, ww"
   ]
  },
  {
   "cell_type": "code",
   "execution_count": 107,
   "id": "d5c912a8",
   "metadata": {},
   "outputs": [
    {
     "data": {
      "text/plain": [
       "(68,)"
      ]
     },
     "execution_count": 107,
     "metadata": {},
     "output_type": "execute_result"
    }
   ],
   "source": [
    "dk = 0.005\n",
    "k = np.arange(0.01, 0.35, dk)\n",
    "k.shape"
   ]
  },
  {
   "cell_type": "code",
   "execution_count": 108,
   "id": "61dd8578",
   "metadata": {},
   "outputs": [
    {
     "ename": "NameError",
     "evalue": "name 'z' is not defined",
     "output_type": "error",
     "traceback": [
      "\u001b[1;31m---------------------------------------------------------------------------\u001b[0m",
      "\u001b[1;31mNameError\u001b[0m                                 Traceback (most recent call last)",
      "\u001b[1;32m<ipython-input-108-dfe50837e4ae>\u001b[0m in \u001b[0;36m<module>\u001b[1;34m\u001b[0m\n\u001b[1;32m----> 1\u001b[1;33m \u001b[0mz\u001b[0m\u001b[1;33m.\u001b[0m\u001b[0mshape\u001b[0m\u001b[1;33m\u001b[0m\u001b[1;33m\u001b[0m\u001b[0m\n\u001b[0m",
      "\u001b[1;31mNameError\u001b[0m: name 'z' is not defined"
     ]
    }
   ],
   "source": [
    "z.shape"
   ]
  },
  {
   "cell_type": "code",
   "execution_count": 109,
   "id": "e26c619f",
   "metadata": {},
   "outputs": [
    {
     "data": {
      "text/plain": [
       "26"
      ]
     },
     "execution_count": 109,
     "metadata": {},
     "output_type": "execute_result"
    }
   ],
   "source": [
    "len(U_array[:26])"
   ]
  },
  {
   "cell_type": "code",
   "execution_count": 110,
   "id": "d44f7bd5",
   "metadata": {},
   "outputs": [
    {
     "data": {
      "text/plain": [
       "array([-20. , -19.2, -18.4, -17.6, -16.8, -16. , -15.2, -14.4, -13.6,\n",
       "       -12.8, -12. , -11.2, -10.4,  -9.6,  -8.8,  -8. ,  -7.2,  -6.4,\n",
       "        -5.6,  -4.8,  -4. ,  -3.2,  -2.4,  -1.6,  -0.8,   0. ])"
      ]
     },
     "execution_count": 110,
     "metadata": {},
     "output_type": "execute_result"
    }
   ],
   "source": [
    "z_arra = np.linspace(-20, 0, 26)\n",
    "z_arra"
   ]
  },
  {
   "cell_type": "code",
   "execution_count": 111,
   "id": "2a1add58",
   "metadata": {},
   "outputs": [
    {
     "ename": "ValueError",
     "evalue": "operands could not be broadcast together with shapes (349,) (8636,26) ",
     "output_type": "error",
     "traceback": [
      "\u001b[1;31m---------------------------------------------------------------------------\u001b[0m",
      "\u001b[1;31mValueError\u001b[0m                                Traceback (most recent call last)",
      "\u001b[1;32m<ipython-input-111-e31550597f0c>\u001b[0m in \u001b[0;36m<module>\u001b[1;34m\u001b[0m\n\u001b[0;32m      1\u001b[0m \u001b[0mfig\u001b[0m \u001b[1;33m=\u001b[0m \u001b[0mplt\u001b[0m\u001b[1;33m.\u001b[0m\u001b[0mfigure\u001b[0m\u001b[1;33m(\u001b[0m\u001b[0mfigsize\u001b[0m\u001b[1;33m=\u001b[0m\u001b[1;33m(\u001b[0m\u001b[1;36m7\u001b[0m\u001b[1;33m,\u001b[0m\u001b[1;36m7\u001b[0m\u001b[1;33m)\u001b[0m\u001b[1;33m)\u001b[0m\u001b[1;33m\u001b[0m\u001b[1;33m\u001b[0m\u001b[0m\n\u001b[0;32m      2\u001b[0m \u001b[0maxes\u001b[0m \u001b[1;33m=\u001b[0m \u001b[0mfig\u001b[0m\u001b[1;33m.\u001b[0m\u001b[0madd_subplot\u001b[0m\u001b[1;33m(\u001b[0m\u001b[1;36m111\u001b[0m\u001b[1;33m,\u001b[0m \u001b[0mprojection\u001b[0m\u001b[1;33m=\u001b[0m\u001b[1;34m'3d'\u001b[0m\u001b[1;33m)\u001b[0m\u001b[1;33m\u001b[0m\u001b[1;33m\u001b[0m\u001b[0m\n\u001b[1;32m----> 3\u001b[1;33m \u001b[0mdisp_kx\u001b[0m\u001b[1;33m,\u001b[0m \u001b[0mdisp_ky\u001b[0m\u001b[1;33m,\u001b[0m \u001b[0mdisp_ww\u001b[0m \u001b[1;33m=\u001b[0m \u001b[0mplot_disp_shell\u001b[0m\u001b[1;33m(\u001b[0m\u001b[0maxes\u001b[0m\u001b[1;33m,\u001b[0m \u001b[0mh\u001b[0m\u001b[1;33m=\u001b[0m\u001b[1;36m1000\u001b[0m\u001b[1;33m,\u001b[0m \u001b[0mz\u001b[0m \u001b[1;33m=\u001b[0m \u001b[0mz_arra\u001b[0m\u001b[1;33m,\u001b[0m \u001b[0mU\u001b[0m \u001b[1;33m=\u001b[0m \u001b[0mU_array\u001b[0m\u001b[1;33m,\u001b[0m \u001b[0mpsi\u001b[0m \u001b[1;33m=\u001b[0m \u001b[1;36m0\u001b[0m\u001b[1;33m)\u001b[0m\u001b[1;33m\u001b[0m\u001b[1;33m\u001b[0m\u001b[0m\n\u001b[0m",
      "\u001b[1;32m<ipython-input-106-50e56eba2dee>\u001b[0m in \u001b[0;36mplot_disp_shell\u001b[1;34m(axes, h, z, U, psi, label, plot_type, linestyles, put_clabel)\u001b[0m\n\u001b[0;32m      7\u001b[0m     \u001b[0mtheta\u001b[0m\u001b[1;33m=\u001b[0m\u001b[0mnp\u001b[0m\u001b[1;33m.\u001b[0m\u001b[0marange\u001b[0m\u001b[1;33m(\u001b[0m\u001b[1;36m0\u001b[0m\u001b[1;33m,\u001b[0m \u001b[1;36m2\u001b[0m\u001b[1;33m*\u001b[0m\u001b[0mnp\u001b[0m\u001b[1;33m.\u001b[0m\u001b[0mpi\u001b[0m\u001b[1;33m+\u001b[0m\u001b[0mdtheta\u001b[0m\u001b[1;33m,\u001b[0m \u001b[0mdtheta\u001b[0m\u001b[1;33m)\u001b[0m\u001b[1;33m\u001b[0m\u001b[1;33m\u001b[0m\u001b[0m\n\u001b[0;32m      8\u001b[0m     \u001b[0mkk\u001b[0m\u001b[1;33m,\u001b[0m \u001b[0mth\u001b[0m \u001b[1;33m=\u001b[0m \u001b[0mnp\u001b[0m\u001b[1;33m.\u001b[0m\u001b[0mmeshgrid\u001b[0m\u001b[1;33m(\u001b[0m\u001b[0mk\u001b[0m\u001b[1;33m,\u001b[0m \u001b[0mtheta\u001b[0m\u001b[1;33m,\u001b[0m \u001b[0mindexing\u001b[0m\u001b[1;33m=\u001b[0m\u001b[1;34m'ij'\u001b[0m\u001b[1;33m)\u001b[0m\u001b[1;33m\u001b[0m\u001b[1;33m\u001b[0m\u001b[0m\n\u001b[1;32m----> 9\u001b[1;33m     \u001b[0mU_eff\u001b[0m \u001b[1;33m=\u001b[0m \u001b[1;36m2\u001b[0m\u001b[1;33m*\u001b[0m\u001b[0mkk\u001b[0m\u001b[1;33m*\u001b[0m\u001b[0mnp\u001b[0m\u001b[1;33m.\u001b[0m\u001b[0msum\u001b[0m\u001b[1;33m(\u001b[0m\u001b[0mU\u001b[0m\u001b[1;33m*\u001b[0m\u001b[0mnp\u001b[0m\u001b[1;33m.\u001b[0m\u001b[0mexp\u001b[0m\u001b[1;33m(\u001b[0m\u001b[0mnp\u001b[0m\u001b[1;33m.\u001b[0m\u001b[0mouter\u001b[0m\u001b[1;33m(\u001b[0m\u001b[1;36m2\u001b[0m\u001b[1;33m*\u001b[0m\u001b[0mkk\u001b[0m\u001b[1;33m,\u001b[0m\u001b[0mz\u001b[0m\u001b[1;33m)\u001b[0m\u001b[1;33m)\u001b[0m\u001b[1;33m,\u001b[0m \u001b[0maxis\u001b[0m\u001b[1;33m=\u001b[0m\u001b[1;36m1\u001b[0m\u001b[1;33m)\u001b[0m\u001b[1;33m.\u001b[0m\u001b[0mreshape\u001b[0m\u001b[1;33m(\u001b[0m\u001b[0mkk\u001b[0m\u001b[1;33m.\u001b[0m\u001b[0mshape\u001b[0m\u001b[1;33m)\u001b[0m\u001b[1;33m*\u001b[0m\u001b[0mnp\u001b[0m\u001b[1;33m.\u001b[0m\u001b[0mabs\u001b[0m\u001b[1;33m(\u001b[0m\u001b[0mz\u001b[0m\u001b[1;33m[\u001b[0m\u001b[1;36m1\u001b[0m\u001b[1;33m]\u001b[0m\u001b[1;33m-\u001b[0m\u001b[0mz\u001b[0m\u001b[1;33m[\u001b[0m\u001b[1;36m0\u001b[0m\u001b[1;33m]\u001b[0m\u001b[1;33m)\u001b[0m\u001b[1;33m\u001b[0m\u001b[1;33m\u001b[0m\u001b[0m\n\u001b[0m\u001b[0;32m     10\u001b[0m     \u001b[0mww\u001b[0m \u001b[1;33m=\u001b[0m \u001b[0mkk\u001b[0m\u001b[1;33m*\u001b[0m\u001b[0mU_eff\u001b[0m\u001b[1;33m*\u001b[0m\u001b[0mnp\u001b[0m\u001b[1;33m.\u001b[0m\u001b[0mcos\u001b[0m\u001b[1;33m(\u001b[0m\u001b[0mtheta\u001b[0m\u001b[1;33m-\u001b[0m\u001b[0mpsi\u001b[0m\u001b[1;33m)\u001b[0m \u001b[1;33m+\u001b[0m \u001b[0mnp\u001b[0m\u001b[1;33m.\u001b[0m\u001b[0msqrt\u001b[0m\u001b[1;33m(\u001b[0m\u001b[0mkk\u001b[0m\u001b[1;33m*\u001b[0m\u001b[0mg\u001b[0m\u001b[1;33m*\u001b[0m\u001b[0mnp\u001b[0m\u001b[1;33m.\u001b[0m\u001b[0mtanh\u001b[0m\u001b[1;33m(\u001b[0m\u001b[0mkk\u001b[0m\u001b[1;33m*\u001b[0m\u001b[0mh\u001b[0m\u001b[1;33m)\u001b[0m\u001b[1;33m)\u001b[0m\u001b[1;33m\u001b[0m\u001b[1;33m\u001b[0m\u001b[0m\n\u001b[0;32m     11\u001b[0m     \u001b[0mkx\u001b[0m \u001b[1;33m=\u001b[0m \u001b[0mkk\u001b[0m\u001b[1;33m*\u001b[0m\u001b[0mnp\u001b[0m\u001b[1;33m.\u001b[0m\u001b[0mcos\u001b[0m\u001b[1;33m(\u001b[0m\u001b[0mth\u001b[0m\u001b[1;33m)\u001b[0m\u001b[1;33m\u001b[0m\u001b[1;33m\u001b[0m\u001b[0m\n",
      "\u001b[1;31mValueError\u001b[0m: operands could not be broadcast together with shapes (349,) (8636,26) "
     ]
    },
    {
     "data": {
      "image/png": "[encoded data removed]",
      "text/plain": [
       "<Figure size 504x504 with 1 Axes>"
      ]
     },
     "metadata": {
      "needs_background": "light"
     },
     "output_type": "display_data"
    }
   ],
   "source": [
    "fig = plt.figure(figsize=(7,7))\n",
    "axes = fig.add_subplot(111, projection='3d')\n",
    "disp_kx, disp_ky, disp_ww = plot_disp_shell(axes, h=1000, z = z_arra, U = U_array, psi = 0)"
   ]
  },
  {
   "cell_type": "code",
   "execution_count": null,
   "id": "3c295806",
   "metadata": {},
   "outputs": [],
   "source": []
  },
  {
   "cell_type": "markdown",
   "id": "2e7a75fa",
   "metadata": {},
   "source": [
    "## 1.2.7) Cut along kx=0"
   ]
  },
  {
   "cell_type": "code",
   "execution_count": 483,
   "id": "fb0038bf",
   "metadata": {},
   "outputs": [],
   "source": [
    "# Get power spectra\n",
    "Spectrum_raw = fftshift(fftn(eta) / np.prod(eta.shape))\n",
    "power_Spectrum = np.abs(Spectrum_raw / Norm)**2"
   ]
  },
  {
   "cell_type": "code",
   "execution_count": 484,
   "id": "7bb9df35",
   "metadata": {},
   "outputs": [],
   "source": [
    "def plot_k_w_spec(k, w, spec, disp_filter=False, extent=[-0.4, 0.4, 0, 1.3], ax=None, cmap='viridis'):  \n",
    "    ax = plotting_interface.plot_3d_as_2d(k, w, spec, disp_filter, extent, ax, cmap=cmap)    \n",
    "    ax.set_xlabel(r'$k~[\\mathrm{rad~m}^{-1}]$') \n",
    "    ax.set_ylabel(r'$\\omega~[\\mathrm{rad~Hz}]$')\n",
    "    return ax"
   ]
  },
  {
   "cell_type": "code",
   "execution_count": 487,
   "id": "36107156",
   "metadata": {},
   "outputs": [
    {
     "data": {
      "text/plain": [
       "<AxesSubplot:xlabel='$k~[\\\\mathrm{rad~m}^{-1}]$', ylabel='$\\\\omega~[\\\\mathrm{rad~Hz}]$'>"
      ]
     },
     "execution_count": 487,
     "metadata": {},
     "output_type": "execute_result"
    },
    {
     "data": {
      "image/png": "[encoded data removed]",
      "text/plain": [
       "<Figure size 288x288 with 1 Axes>"
      ]
     },
     "metadata": {
      "needs_background": "light"
     },
     "output_type": "display_data"
    }
   ],
   "source": [
    "plot_k_w_spec( Kx , w,  np.log10(power_Spectrum[ len(Ky)//2 +0 , : , : ]))\n"
   ]
  },
  {
   "cell_type": "code",
   "execution_count": 353,
   "id": "5c45d273",
   "metadata": {},
   "outputs": [
    {
     "data": {
      "text/plain": [
       "array([-1.27409035, -1.26712811, -1.26016587, -1.25320363, -1.24624138,\n",
       "       -1.23927914, -1.2323169 , -1.22535466, -1.21839241, -1.21143017,\n",
       "       -1.20446793, -1.19750569, -1.19054345, -1.1835812 , -1.17661896,\n",
       "       -1.16965672, -1.16269448, -1.15573223, -1.14876999, -1.14180775,\n",
       "       -1.13484551, -1.12788326, -1.12092102, -1.11395878, -1.10699654,\n",
       "       -1.10003429, -1.09307205, -1.08610981, -1.07914757, -1.07218533,\n",
       "       -1.06522308, -1.05826084, -1.0512986 , -1.04433636, -1.03737411,\n",
       "       -1.03041187, -1.02344963, -1.01648739, -1.00952514, -1.0025629 ,\n",
       "       -0.99560066, -0.98863842, -0.98167617, -0.97471393, -0.96775169,\n",
       "       -0.96078945, -0.9538272 , -0.94686496, -0.93990272, -0.93294048,\n",
       "       -0.92597824, -0.91901599, -0.91205375, -0.90509151, -0.89812927,\n",
       "       -0.89116702, -0.88420478, -0.87724254, -0.8702803 , -0.86331805,\n",
       "       -0.85635581, -0.84939357, -0.84243133, -0.83546908, -0.82850684,\n",
       "       -0.8215446 , -0.81458236, -0.80762012, -0.80065787, -0.79369563,\n",
       "       -0.78673339, -0.77977115, -0.7728089 , -0.76584666, -0.75888442,\n",
       "       -0.75192218, -0.74495993, -0.73799769, -0.73103545, -0.72407321,\n",
       "       -0.71711096, -0.71014872, -0.70318648, -0.69622424, -0.68926199,\n",
       "       -0.68229975, -0.67533751, -0.66837527, -0.66141303, -0.65445078,\n",
       "       -0.64748854, -0.6405263 , -0.63356406, -0.62660181, -0.61963957,\n",
       "       -0.61267733, -0.60571509, -0.59875284, -0.5917906 , -0.58482836,\n",
       "       -0.57786612, -0.57090387, -0.56394163, -0.55697939, -0.55001715,\n",
       "       -0.5430549 , -0.53609266, -0.52913042, -0.52216818, -0.51520594,\n",
       "       -0.50824369, -0.50128145, -0.49431921, -0.48735697, -0.48039472,\n",
       "       -0.47343248, -0.46647024, -0.459508  , -0.45254575, -0.44558351,\n",
       "       -0.43862127, -0.43165903, -0.42469678, -0.41773454, -0.4107723 ,\n",
       "       -0.40381006, -0.39684782, -0.38988557, -0.38292333, -0.37596109,\n",
       "       -0.36899885, -0.3620366 , -0.35507436, -0.34811212, -0.34114988,\n",
       "       -0.33418763, -0.32722539, -0.32026315, -0.31330091, -0.30633866,\n",
       "       -0.29937642, -0.29241418, -0.28545194, -0.27848969, -0.27152745,\n",
       "       -0.26456521, -0.25760297, -0.25064073, -0.24367848, -0.23671624,\n",
       "       -0.229754  , -0.22279176, -0.21582951, -0.20886727, -0.20190503,\n",
       "       -0.19494279, -0.18798054, -0.1810183 , -0.17405606, -0.16709382,\n",
       "       -0.16013157, -0.15316933, -0.14620709, -0.13924485, -0.13228261,\n",
       "       -0.12532036, -0.11835812, -0.11139588, -0.10443364, -0.09747139,\n",
       "       -0.09050915, -0.08354691, -0.07658467, -0.06962242, -0.06266018,\n",
       "       -0.05569794, -0.0487357 , -0.04177345, -0.03481121, -0.02784897,\n",
       "       -0.02088673, -0.01392448, -0.00696224,  0.        ,  0.00696224,\n",
       "        0.01392448,  0.02088673,  0.02784897,  0.03481121,  0.04177345,\n",
       "        0.0487357 ,  0.05569794,  0.06266018,  0.06962242,  0.07658467,\n",
       "        0.08354691,  0.09050915,  0.09747139,  0.10443364,  0.11139588,\n",
       "        0.11835812,  0.12532036,  0.13228261,  0.13924485,  0.14620709,\n",
       "        0.15316933,  0.16013157,  0.16709382,  0.17405606,  0.1810183 ,\n",
       "        0.18798054,  0.19494279,  0.20190503,  0.20886727,  0.21582951,\n",
       "        0.22279176,  0.229754  ,  0.23671624,  0.24367848,  0.25064073,\n",
       "        0.25760297,  0.26456521,  0.27152745,  0.27848969,  0.28545194,\n",
       "        0.29241418,  0.29937642,  0.30633866,  0.31330091,  0.32026315,\n",
       "        0.32722539,  0.33418763,  0.34114988,  0.34811212,  0.35507436,\n",
       "        0.3620366 ,  0.36899885,  0.37596109,  0.38292333,  0.38988557,\n",
       "        0.39684782,  0.40381006,  0.4107723 ,  0.41773454,  0.42469678,\n",
       "        0.43165903,  0.43862127,  0.44558351,  0.45254575,  0.459508  ,\n",
       "        0.46647024,  0.47343248,  0.48039472,  0.48735697,  0.49431921,\n",
       "        0.50128145,  0.50824369,  0.51520594,  0.52216818,  0.52913042,\n",
       "        0.53609266,  0.5430549 ,  0.55001715,  0.55697939,  0.56394163,\n",
       "        0.57090387,  0.57786612,  0.58482836,  0.5917906 ,  0.59875284,\n",
       "        0.60571509,  0.61267733,  0.61963957,  0.62660181,  0.63356406,\n",
       "        0.6405263 ,  0.64748854,  0.65445078,  0.66141303,  0.66837527,\n",
       "        0.67533751,  0.68229975,  0.68926199,  0.69622424,  0.70318648,\n",
       "        0.71014872,  0.71711096,  0.72407321,  0.73103545,  0.73799769,\n",
       "        0.74495993,  0.75192218,  0.75888442,  0.76584666,  0.7728089 ,\n",
       "        0.77977115,  0.78673339,  0.79369563,  0.80065787,  0.80762012,\n",
       "        0.81458236,  0.8215446 ,  0.82850684,  0.83546908,  0.84243133,\n",
       "        0.84939357,  0.85635581,  0.86331805,  0.8702803 ,  0.87724254,\n",
       "        0.88420478,  0.89116702,  0.89812927,  0.90509151,  0.91205375,\n",
       "        0.91901599,  0.92597824,  0.93294048,  0.93990272,  0.94686496,\n",
       "        0.9538272 ,  0.96078945,  0.96775169,  0.97471393,  0.98167617,\n",
       "        0.98863842,  0.99560066,  1.0025629 ,  1.00952514,  1.01648739,\n",
       "        1.02344963,  1.03041187,  1.03737411,  1.04433636,  1.0512986 ,\n",
       "        1.05826084,  1.06522308,  1.07218533,  1.07914757,  1.08610981,\n",
       "        1.09307205,  1.10003429,  1.10699654,  1.11395878,  1.12092102,\n",
       "        1.12788326,  1.13484551,  1.14180775,  1.14876999,  1.15573223,\n",
       "        1.16269448,  1.16965672,  1.17661896,  1.1835812 ,  1.19054345,\n",
       "        1.19750569,  1.20446793,  1.21143017,  1.21839241,  1.22535466,\n",
       "        1.2323169 ,  1.23927914,  1.24624138,  1.25320363,  1.26016587,\n",
       "        1.26712811])"
      ]
     },
     "execution_count": 353,
     "metadata": {},
     "output_type": "execute_result"
    }
   ],
   "source": [
    "w"
   ]
  },
  {
   "cell_type": "code",
   "execution_count": null,
   "id": "04845706",
   "metadata": {},
   "outputs": [],
   "source": []
  },
  {
   "cell_type": "code",
   "execution_count": null,
   "id": "90c2a246",
   "metadata": {},
   "outputs": [],
   "source": []
  },
  {
   "cell_type": "code",
   "execution_count": null,
   "id": "d9d2ffc6",
   "metadata": {},
   "outputs": [],
   "source": []
  },
  {
   "cell_type": "code",
   "execution_count": null,
   "id": "78b54fac",
   "metadata": {},
   "outputs": [],
   "source": []
  },
  {
   "cell_type": "code",
   "execution_count": null,
   "id": "faf25e41",
   "metadata": {},
   "outputs": [],
   "source": []
  },
  {
   "cell_type": "code",
   "execution_count": null,
   "id": "909b4c5a",
   "metadata": {},
   "outputs": [],
   "source": []
  },
  {
   "cell_type": "code",
   "execution_count": null,
   "id": "fee977f2",
   "metadata": {},
   "outputs": [],
   "source": []
  },
  {
   "cell_type": "code",
   "execution_count": null,
   "id": "92bf260b",
   "metadata": {},
   "outputs": [],
   "source": []
  },
  {
   "cell_type": "code",
   "execution_count": null,
   "id": "6f0a246a",
   "metadata": {},
   "outputs": [],
   "source": []
  },
  {
   "cell_type": "code",
   "execution_count": null,
   "id": "0331df70",
   "metadata": {},
   "outputs": [],
   "source": []
  },
  {
   "cell_type": "code",
   "execution_count": null,
   "id": "0239ae42",
   "metadata": {},
   "outputs": [],
   "source": []
  },
  {
   "cell_type": "code",
   "execution_count": null,
   "id": "b9f7c13f",
   "metadata": {},
   "outputs": [],
   "source": []
  },
  {
   "cell_type": "code",
   "execution_count": null,
   "id": "74805396",
   "metadata": {},
   "outputs": [],
   "source": []
  },
  {
   "cell_type": "code",
   "execution_count": null,
   "id": "5306293f",
   "metadata": {},
   "outputs": [],
   "source": []
  },
  {
   "cell_type": "code",
   "execution_count": null,
   "id": "97b650db",
   "metadata": {},
   "outputs": [],
   "source": []
  },
  {
   "cell_type": "markdown",
   "id": "a4074c02",
   "metadata": {},
   "source": [
    "# 2.1) Inverted Profile"
   ]
  },
  {
   "cell_type": "code",
   "execution_count": 210,
   "id": "091fcf77",
   "metadata": {},
   "outputs": [],
   "source": [
    "import numpy as np\n",
    "from scipy.optimize import minimize_scalar\n",
    "from scipy.special import factorial, gammaincc, gamma\n",
    "from numpy.polynomial import Polynomial\n",
    "\n",
    "def rms(x):\n",
    "    return np.sqrt(np.mean(x**2))\n",
    "\n",
    "def pedm(k_vect, c_til, nMax_vals=None, deltaz_T_vals=None, deltaz_B_vals=None, waterDepth=None):\n",
    "\n",
    "    # If user has not provided information about the waterDepth, set to infinity\n",
    "    if waterDepth is None:\n",
    "        waterDepth = np.inf\n",
    "\n",
    "    # Handling for inadequate input data.\n",
    "    if len(k_vect) == 0 or len(c_til) == 0:\n",
    "        return np.nan, np.nan, np.nan, np.nan, np.nan\n",
    "\n",
    "    # Now we start with the PEDM. The steps follow those in the manuscript in section 2.1.2 Effect of limitations of measured Doppler shifts\n",
    "    # Define the parameters.\n",
    "    # Calculate effective depths of Doppler shift velocities based on assumption of a linear profile\n",
    "    Z_eff = -(2 * k_vect) ** -1 * np.tanh(np.abs(waterDepth) * k_vect)\n",
    "\n",
    "    # Set default values for PEDM parameter combinations if inputs left blank\n",
    "    if nMax_vals is None:\n",
    "        nm = min(12, round(len(k_vect) / 2))\n",
    "        nMax_vals = np.arange(0, nm+1)\n",
    "    \n",
    "    if deltaz_T_vals is None:\n",
    "        depthRange = np.abs(Z_eff[0] - Z_eff[-1])\n",
    "        deltaz_T_vals = np.linspace(0.01, 0.2, 20) * depthRange\n",
    "\n",
    "    if deltaz_B_vals is None:\n",
    "        depthRange = np.abs(Z_eff[0] - Z_eff[-1])\n",
    "        deltaz_B_vals = np.linspace(0.02, 0.8, 20) * depthRange\n",
    "\n",
    "    z_c = max(4 * np.min(Z_eff), -np.abs(waterDepth))  # Cutoff depth chosen as 4 times the deepest mapped depth. (Set to water depth if depth is shallower)\n",
    "    # z_c is NEGATIVE by convention here\n",
    "\n",
    "    # We loop over all PEDM parameter combinations. First initialize eps_PEDM_out as well as the other outputs.\n",
    "    eps_PEDM_out = np.inf\n",
    "    eps_EDM_out = np.inf\n",
    "\n",
    "    pPEDM_out = np.nan\n",
    "    pEDM_out = np.nan\n",
    "\n",
    "    verbose = []\n",
    "    combo = 0\n",
    "\n",
    "    for nMax in nMax_vals:\n",
    "        for deltaz_B in deltaz_B_vals:\n",
    "            for deltaz_T in deltaz_T_vals:\n",
    "                # STEP 1: Fit the mapped Doppler shifts to a polynomial of order nMax.\n",
    "                p1 = np.polyfit(Z_eff, c_til, nMax)\n",
    "\n",
    "                # STEP 2: Create additional velocity-depth pairs by linearly extrapolating up to the surface and down to cutoff depth z_c\n",
    "                zB = np.linspace(0, deltaz_B, 100)\n",
    "                zT = np.linspace(-deltaz_T, 0, 100)\n",
    "\n",
    "                pTop = np.polyfit(Z_eff[-1] + zT, np.polyval(p1, Z_eff[-1] + zT), 1)\n",
    "                pBottom = np.polyfit(Z_eff[0] + zB, np.polyval(p1, Z_eff[0] + zB), 1)\n",
    "\n",
    "                depthsExBtm = np.arange(z_c, Z_eff[0] - deltaz_B, deltaz_B)\n",
    "                depthsExTop = np.concatenate((np.arange(Z_eff[-1] + deltaz_T, 0, deltaz_T), [0]))\n",
    "\n",
    "                zEx = np.concatenate((depthsExBtm, Z_eff, depthsExTop))\n",
    "                cTilEx = np.concatenate((np.polyval(pBottom, depthsExBtm), c_til, np.polyval(pTop, depthsExTop)))\n",
    "\n",
    "                # STEP 3: Perform a second polynomial fit on the expanded set of points\n",
    "                pEDM = np.polyfit(zEx, cTilEx, nMax)\n",
    "\n",
    "                # Determine if profile is monotonic with range of mapped depths.\n",
    "                nv = np.arange(nMax, 0, -1)\n",
    "                pczEx_p = nv * pEDM[:-1]  # Derivative polynomial coefficients\n",
    "                rts = np.roots(pczEx_p)  # Find roots\n",
    "                rts = rts[np.isreal(rts)]  # Discard complex roots\n",
    "\n",
    "                # If there roots of the derivative within ranges of mapped depths, don't go further.\n",
    "                if np.any((rts > Z_eff[0]) & (rts < 0)):\n",
    "                    continue\n",
    "\n",
    "                # STEP 4: Scale polynomial coefficients defining U_EDM by n! as in equation (8) in the article.\n",
    "                pPEDM_i = pEDM / factorial(np.arange(nMax, -1, -1))\n",
    "\n",
    "                # STEP 5: Create a new set of linearly extrapolated points down to z_c based on the average shear of the above polynomial function in a depth interval deltaz_B/2 at the deep end of the regime.\n",
    "                zB2 = np.linspace(0, deltaz_B/2, 100)\n",
    "                pBottom2 = np.polyfit(Z_eff[0] + zB, np.polyval(pPEDM_i, Z_eff[0] + zB), 1)\n",
    "\n",
    "                depthsExBtm2 = np.arange(z_c, Z_eff[0] - deltaz_B, deltaz_B/2)\n",
    "\n",
    "                zEx2 = np.concatenate((depthsExBtm2, Z_eff, depthsExTop))\n",
    "                Uvals = np.concatenate((np.polyval(pBottom2, depthsExBtm2), np.polyval(pPEDM_i, Z_eff), np.polyval(pPEDM_i, depthsExTop)))\n",
    "\n",
    "                # STEP 6: Perform a final polynomial fit on the expanded set of points.\n",
    "                pPEDM = np.polyfit(zEx2, Uvals, nMax)\n",
    "\n",
    "                # Calculate Doppler shifts assuming U_EDM or U_PEDM as the current profile, using the forward problem.\n",
    "                c_tilEDM = 0\n",
    "                c_tilPEDM = 0\n",
    "\n",
    "                if nMax < 2:\n",
    "                    for n in range(nMax + 1):\n",
    "                        c_tilEDM = c_tilEDM + factorial(n) * pEDM[-n-1] * (-1 / (2 * k_vect)) ** n\n",
    "                        c_tilPEDM = c_tilPEDM + factorial(n) * pPEDM[-n-1] * (-1 / (2 * k_vect)) ** n\n",
    "                else:\n",
    "                    for n in range(nMax + 1):\n",
    "                        c_tilEDM = c_tilEDM + (-1 / 2) ** (n) * k_vect ** (-n) * pEDM[-n-1] * (gammainc(1 + n, -2 * k_vect * z_c)) * gamma(n + 1)\n",
    "                        c_tilPEDM = c_tilPEDM + (-1 / 2) ** (n) * k_vect ** (-n) * pPEDM[-n-1] * (gammainc(1 + n, -2 * k_vect * z_c)) * gamma(n + 1)\n",
    "\n",
    "                # Calculate RMS differences (equation (9) in manuscript)\n",
    "                eps_EDM = rms(c_til - c_tilEDM)  # RMS difference for U_EDM\n",
    "                eps_PEDM = rms(c_til - c_tilPEDM)  # RMS difference for U_PEDM.\n",
    "\n",
    "                # Parameters nMax, deltaz_T, and deltaz_B are chosen to minimize eps_PEDM in practice.\n",
    "                if eps_PEDM < eps_PEDM_out:\n",
    "                    eps_PEDM_out = eps_PEDM\n",
    "                    pPEDM_out = pPEDM\n",
    "                    nMax_out = nMax\n",
    "                    deltaz_B_out = deltaz_B\n",
    "                    deltaz_T_out = deltaz_T\n",
    "\n",
    "                if eps_EDM < eps_EDM_out:\n",
    "                    eps_EDM_out = eps_EDM\n",
    "                    pEDM_out = pEDM\n",
    "\n",
    "                combo = combo + 1\n",
    "                verbose.append({\n",
    "                    #'pPEDM': pPEDM.tolist(),\n",
    "                    #'pEDM': pEDM.tolist(),\n",
    "                    'pPEDM': pPEDM,\n",
    "                    'pEDM': pEDM,\n",
    "                    'eps_PEDM': eps_PEDM,\n",
    "                    'eps_EDM': eps_EDM,\n",
    "                    'nMax': nMax,\n",
    "                    'deltaz_B': deltaz_B,\n",
    "                    'deltaz_T': deltaz_T\n",
    "                })\n",
    "\n",
    "                \n",
    "                #return pPEDM_out, pEDM_out, eps_PEDM_out, eps_EDM_out, verbose\n",
    "    return pPEDM_out, pEDM_out, eps_PEDM_out, eps_EDM_out, verbose\n",
    "\n",
    "# Example usage:\n",
    "pPEDM1, pEDM1, eps_PEDM1, eps_EDM1, verbose1 = pedm(wavenumbers, np.sqrt(Ux**2+Uy**2))\n",
    "pPEDM2, pEDM2, eps_PEDM2, eps_EDM2, verbose2 = pedm(wavenumbers, Uy)"
   ]
  },
  {
   "cell_type": "markdown",
   "id": "06c13c6a",
   "metadata": {},
   "source": [
    "## Testing"
   ]
  },
  {
   "cell_type": "code",
   "execution_count": 116,
   "id": "eb365e96",
   "metadata": {},
   "outputs": [],
   "source": [
    "matlab_ux = np.array([1.29324047095870, -1.89463189363109, -1.69708851869363, -0.669636210830390, -2.75906065502856, -1.94768284605381, -1.66698298781537, -0.899800584589916, 0.0297085589908087, -0.514835078702308, -0.0105890842080116, 0.0759766804549144, -0.0363850496987580, -0.0484059195965528, -0.0103916622911056, -0.0308550721930313, 0.398842029692605, -0.117723340988159, -0.441378683422372, 0.430707406907151, -0.699842772060439, 0.399538248189037, 0.730470696764732, -0.523203395681584, 0.499213099684858])"
   ]
  },
  {
   "cell_type": "code",
   "execution_count": null,
   "id": "b1c0dc23",
   "metadata": {},
   "outputs": [],
   "source": [
    "cut_k_array, U_array"
   ]
  },
  {
   "cell_type": "code",
   "execution_count": 181,
   "id": "576fcab4",
   "metadata": {},
   "outputs": [],
   "source": [
    "indices = np.where(np.array(U_array) != None)[0]"
   ]
  },
  {
   "cell_type": "code",
   "execution_count": 231,
   "id": "07c1de92",
   "metadata": {},
   "outputs": [],
   "source": [
    "U_me = U_a[indices].astype(\"float64\")"
   ]
  },
  {
   "cell_type": "code",
   "execution_count": 232,
   "id": "5bea835e",
   "metadata": {},
   "outputs": [
    {
     "data": {
      "text/plain": [
       "array([3.06233459, 2.51712049, 2.16318633, 1.94032349, 1.38228583,\n",
       "       0.76654994])"
      ]
     },
     "execution_count": 232,
     "metadata": {},
     "output_type": "execute_result"
    }
   ],
   "source": [
    "U_me"
   ]
  },
  {
   "cell_type": "code",
   "execution_count": 222,
   "id": "fd52fc73",
   "metadata": {},
   "outputs": [
    {
     "data": {
      "text/plain": [
       "array([0.08, 0.09, 0.1 , 0.11, 0.13, 0.18])"
      ]
     },
     "execution_count": 222,
     "metadata": {},
     "output_type": "execute_result"
    }
   ],
   "source": [
    "k_c = cut_k_array[indices]\n",
    "k_c"
   ]
  },
  {
   "cell_type": "code",
   "execution_count": 233,
   "id": "604aafaf",
   "metadata": {},
   "outputs": [],
   "source": [
    "U_a = np.array(U_array)\n",
    "pPEDM1, pEDM1, eps_PEDM1, eps_EDM1, verbose1 = pedm(k_c, U_me)\n",
    "pPEDM2, pEDM2, eps_PEDM2, eps_EDM2, verbose2 = pedm(wavenumbers, Uy)"
   ]
  },
  {
   "cell_type": "code",
   "execution_count": 237,
   "id": "47d6894a",
   "metadata": {},
   "outputs": [],
   "source": [
    "z = np.linspace(-12, 0, 100)"
   ]
  },
  {
   "cell_type": "code",
   "execution_count": 238,
   "id": "e7f759ff",
   "metadata": {},
   "outputs": [],
   "source": [
    "U1_fun = lambda z: np.polyval(pPEDM1, z)\n",
    "U2_fun = lambda z: np.polyval(pPEDM2, z)"
   ]
  },
  {
   "cell_type": "code",
   "execution_count": 239,
   "id": "2baeca21",
   "metadata": {},
   "outputs": [
    {
     "data": {
      "text/plain": [
       "<matplotlib.legend.Legend at 0x1c61478e5b0>"
      ]
     },
     "execution_count": 239,
     "metadata": {},
     "output_type": "execute_result"
    },
    {
     "data": {
      "image/png": "[encoded data removed]",
      "text/plain": [
       "<Figure size 432x288 with 1 Axes>"
      ]
     },
     "metadata": {
      "needs_background": "light"
     },
     "output_type": "display_data"
    }
   ],
   "source": [
    "plt.plot(U1_fun(z), z, label=\"$U_{x}$\", color = 'red')\n",
    "#plt.plot(U2_fun(z), z, label=\"$U_{y}$\", color = 'green')\n",
    "\n",
    "#plt.scatter(-Ux, -1/(2*wavenumbers), label='EDM', color = 'black')\n",
    "plt.scatter( np.sqrt(Ux**2+Uy**2), -1/(3.56*wavenumbers), label='EDM', color = 'blue')\n",
    "\n",
    "plt.grid(True)\n",
    "plt.title(\"PEDM\")\n",
    "plt.xlabel(\"U [m/s]\")\n",
    "plt.ylabel(\"Depth [m]\")\n",
    "plt.legend()"
   ]
  },
  {
   "cell_type": "code",
   "execution_count": 120,
   "id": "4746bb47",
   "metadata": {},
   "outputs": [
    {
     "data": {
      "text/plain": [
       "1239"
      ]
     },
     "execution_count": 120,
     "metadata": {},
     "output_type": "execute_result"
    }
   ],
   "source": [
    "len(verbose1)"
   ]
  },
  {
   "cell_type": "code",
   "execution_count": 121,
   "id": "b50c99e2",
   "metadata": {},
   "outputs": [
    {
     "data": {
      "text/plain": [
       "array([ 5.91350657e-11,  1.35175215e-08,  1.26876173e-06,  6.24913404e-05,\n",
       "        1.69389008e-03,  2.32417033e-02,  9.02125028e-02, -8.48040317e-01,\n",
       "       -1.05427981e+00])"
      ]
     },
     "execution_count": 121,
     "metadata": {},
     "output_type": "execute_result"
    }
   ],
   "source": [
    "pPEDM1"
   ]
  },
  {
   "cell_type": "code",
   "execution_count": 122,
   "id": "56c8b14f",
   "metadata": {},
   "outputs": [
    {
     "data": {
      "text/plain": [
       "{'pPEDM': array([1.26475174]),\n",
       " 'pEDM': array([1.26475174]),\n",
       " 'eps_PEDM': 1.1118373943304174,\n",
       " 'eps_EDM': 1.1118373943304174,\n",
       " 'nMax': 0,\n",
       " 'deltaz_B': 0.2334272498681132,\n",
       " 'deltaz_T': 0.1167136249340566}"
      ]
     },
     "execution_count": 122,
     "metadata": {},
     "output_type": "execute_result"
    }
   ],
   "source": [
    "verbose1[0]"
   ]
  },
  {
   "cell_type": "code",
   "execution_count": null,
   "id": "d7f707aa",
   "metadata": {},
   "outputs": [],
   "source": []
  },
  {
   "cell_type": "code",
   "execution_count": null,
   "id": "f8781c58",
   "metadata": {},
   "outputs": [],
   "source": []
  },
  {
   "cell_type": "code",
   "execution_count": null,
   "id": "df972d4f",
   "metadata": {},
   "outputs": [],
   "source": []
  },
  {
   "cell_type": "code",
   "execution_count": null,
   "id": "448195c1",
   "metadata": {},
   "outputs": [],
   "source": []
  },
  {
   "cell_type": "code",
   "execution_count": null,
   "id": "a1fd041f",
   "metadata": {},
   "outputs": [],
   "source": []
  },
  {
   "cell_type": "code",
   "execution_count": null,
   "id": "c7703f8d",
   "metadata": {},
   "outputs": [],
   "source": []
  },
  {
   "cell_type": "code",
   "execution_count": null,
   "id": "6983493a",
   "metadata": {},
   "outputs": [],
   "source": []
  },
  {
   "cell_type": "code",
   "execution_count": null,
   "id": "e72e1d0f",
   "metadata": {},
   "outputs": [],
   "source": []
  },
  {
   "cell_type": "code",
   "execution_count": null,
   "id": "2ac1e89f",
   "metadata": {},
   "outputs": [],
   "source": []
  },
  {
   "cell_type": "code",
   "execution_count": 823,
   "id": "de4b8eb7",
   "metadata": {},
   "outputs": [],
   "source": [
    "y = np.array([0.17091544, 0.2196002 , 0.24884891, 0.22784447, 0.365201,\n",
    "       0.37375478, 0.39257039, 0.37231073, 0.41550739, 0.43636989,\n",
    "       0.45111672, 0.46662792, 0.48854647, 0.49640163, 0.51887196,\n",
    "       0.52827061, 0.54437941, 0.54929705, 0.56552202, 0.57508514,\n",
    "      0.58477563, 0.59755615])\n",
    "x = np.array([0.03751155, 0.05001541, 0.06251926, 0.07502311, 0.08752696,\n",
    "        0.10003081, 0.11253466, 0.12503851, 0.13754236, 0.15004622,\n",
    "       0.16255007, 0.17505392, 0.18755777, 0.20006162, 0.21256547,\n",
    "       0.22506932, 0.23757318, 0.25007703, 0.26258088, 0.27508473,\n",
    "       0.28758858, 0.30009243])"
   ]
  },
  {
   "cell_type": "code",
   "execution_count": 832,
   "id": "8de32b53",
   "metadata": {},
   "outputs": [
    {
     "data": {
      "text/plain": [
       "(-0.05, 0.32)"
      ]
     },
     "execution_count": 832,
     "metadata": {},
     "output_type": "execute_result"
    },
    {
     "data": {
      "image/png": "[encoded data removed]",
      "text/plain": [
       "<Figure size 432x288 with 1 Axes>"
      ]
     },
     "metadata": {
      "needs_background": "light"
     },
     "output_type": "display_data"
    }
   ],
   "source": [
    "plt.scatter(x, y)\n",
    "\n",
    "plt.grid(True)\n",
    "plt.xlabel(\"X Data\")\n",
    "plt.ylabel(\"Y Data\")\n",
    "\n",
    "plt.ylim(-0.05,0.65)\n",
    "plt.xlim(-0.05,0.32)"
   ]
  },
  {
   "cell_type": "code",
   "execution_count": null,
   "id": "81de41b4",
   "metadata": {},
   "outputs": [],
   "source": []
  },
  {
   "cell_type": "code",
   "execution_count": null,
   "id": "57a7486c",
   "metadata": {},
   "outputs": [],
   "source": []
  },
  {
   "cell_type": "code",
   "execution_count": null,
   "id": "b0ede5a4",
   "metadata": {},
   "outputs": [],
   "source": []
  }
 ],
 "metadata": {
  "kernelspec": {
   "display_name": "Python 3",
   "language": "python",
   "name": "python3"
  },
  "language_info": {
   "codemirror_mode": {
    "name": "ipython",
    "version": 3
   },
   "file_extension": ".py",
   "mimetype": "text/x-python",
   "name": "python",
   "nbconvert_exporter": "python",
   "pygments_lexer": "ipython3",
   "version": "3.8.8"
  }
 },
 "nbformat": 4,
 "nbformat_minor": 5
}
