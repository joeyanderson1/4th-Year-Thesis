{
 "cells": [
  {
   "cell_type": "code",
   "execution_count": 1,
   "id": "14161e7a",
   "metadata": {},
   "outputs": [],
   "source": [
    "import sys\n",
    "sys.path.append(\"C:\\\\Users\\josep\\Documents\\Anaconda\\pkgs\")\n",
    "import help_tools\n",
    "import wave_tools\n",
    "import cv2\n",
    "import h5py\n",
    "from matplotlib import cm\n",
    "import radar_tools\n",
    "import numpy as np\n",
    "from wave_tools import ConstructWave, surface_core, peak_tracking\n",
    "from wave_tools import fft_interpolate, fft_interface, Spectrum\n",
    "from wave_tools import SpectralAnalysis\n",
    "import matplotlib.pyplot as plt\n",
    "from help_tools import plotting_interface\n",
    "from wave_tools import surface_core, fft_interface, dispersionRelation\n",
    "from help_tools import plotting_interface, polar_coordinates, convolutional_filters, moving_average\n",
    "from scipy.optimize import least_squares\n",
    "from scipy.optimize import minimize\n",
    "from scipy.optimize import curve_fit\n",
    "from matplotlib.ticker import LinearLocator, FormatStrFormatter\n",
    "from tqdm import tqdm\n",
    "from mpl_toolkits.mplot3d import Axes3D\n",
    "from scipy.special import gamma, gammainc"
   ]
  },
  {
   "cell_type": "code",
   "execution_count": 662,
   "id": "e46d1f48",
   "metadata": {},
   "outputs": [],
   "source": [
    "%matplotlib widget"
   ]
  },
  {
   "cell_type": "code",
   "execution_count": 3,
   "id": "f111f893",
   "metadata": {},
   "outputs": [],
   "source": [
    "%matplotlib inline"
   ]
  },
  {
   "cell_type": "code",
   "execution_count": 4,
   "id": "94b0aef2",
   "metadata": {},
   "outputs": [],
   "source": [
    "sys.path.append(\"C:\\\\Users\\josep\\Desktop\\PHYC40900_Project TP\")"
   ]
  },
  {
   "cell_type": "code",
   "execution_count": 5,
   "id": "e3f30ad9",
   "metadata": {},
   "outputs": [],
   "source": [
    "f = h5py.File('C:\\\\Users\\josep\\Desktop\\PHYC40900_Project TP\\Real Data Sets\\First Tel-Aviv data', 'r')"
   ]
  },
  {
   "cell_type": "code",
   "execution_count": 6,
   "id": "ec4dc6fb",
   "metadata": {},
   "outputs": [
    {
     "data": {
      "text/plain": [
       "<KeysViewHDF5 ['t', 'wamos', 'x', 'y']>"
      ]
     },
     "execution_count": 6,
     "metadata": {},
     "output_type": "execute_result"
    }
   ],
   "source": [
    "f.keys()"
   ]
  },
  {
   "cell_type": "code",
   "execution_count": 7,
   "id": "14931853",
   "metadata": {},
   "outputs": [],
   "source": [
    "x = f.get('x')\n",
    "y = f.get('y')\n",
    "t = f.get('t')\n",
    "wamos = f.get('wamos')\n",
    "\n",
    "x = np.array(x)\n",
    "y = np.array(y)\n",
    "t = np.array(t)\n",
    "wamos = np.array(wamos)"
   ]
  },
  {
   "cell_type": "code",
   "execution_count": 8,
   "id": "d8026eea",
   "metadata": {},
   "outputs": [
    {
     "data": {
      "text/plain": [
       "array([[[1417., 1810., 1348., ..., 1177., 1248., 1290.],\n",
       "        [1683., 1587., 1656., ..., 1081., 1170., 1122.],\n",
       "        [1746., 1693., 1896., ..., 1224., 1224.,  660.],\n",
       "        ...,\n",
       "        [1660., 2165., 2723., ..., 1741., 1838., 1814.],\n",
       "        [1199., 1753., 2969., ..., 1440., 1491., 1646.],\n",
       "        [1723., 1653., 2290., ..., 1368., 1273., 1381.]],\n",
       "\n",
       "       [[1779., 1694., 1774., ..., 1146., 1200., 1333.],\n",
       "        [1308., 1824., 1347., ..., 1282., 1738., 1980.],\n",
       "        [1929., 1298., 1786., ..., 1466., 1441., 1760.],\n",
       "        ...,\n",
       "        [1134., 2025., 2094., ...,  768.,  664.,  721.],\n",
       "        [1568., 1677., 2112., ...,  997.,  997.,  982.],\n",
       "        [1641., 2246., 2260., ...,  963.,  705.,  983.]],\n",
       "\n",
       "       [[2277., 2936., 3201., ..., 1344., 1027.,  928.],\n",
       "        [3079., 3297., 3528., ..., 1054.,  916.,    0.],\n",
       "        [2953., 3462., 2245., ...,  984.,  984., 1095.],\n",
       "        ...,\n",
       "        [2587., 2659., 2471., ..., 1701., 1628., 1378.],\n",
       "        [2107., 2596., 2766., ..., 1192., 1192., 1062.],\n",
       "        [1684., 1793., 2590., ..., 1418., 1037.,  837.]],\n",
       "\n",
       "       ...,\n",
       "\n",
       "       [[2459., 2195., 2020., ..., 1628., 1537.,  815.],\n",
       "        [1883., 2086., 1985., ...,  907., 1265.,  890.],\n",
       "        [2182., 2154., 2469., ..., 1464.,  846.,  542.],\n",
       "        ...,\n",
       "        [1536., 1767., 1988., ..., 1248., 1213., 1152.],\n",
       "        [1908., 1515., 1486., ..., 1179., 1374., 1277.],\n",
       "        [1721., 1707., 1587., ..., 1176., 1015.,  633.]],\n",
       "\n",
       "       [[2830., 2630., 2410., ..., 1222., 1252., 1242.],\n",
       "        [2738., 2150., 1748., ...,  921.,  986., 1024.],\n",
       "        [1941., 2117., 2031., ...,  734.,  734.,  781.],\n",
       "        ...,\n",
       "        [1125., 1547., 1715., ..., 1585., 1997., 2026.],\n",
       "        [1346., 1589., 1617., ..., 1080., 1586., 1604.],\n",
       "        [1182., 1663., 1450., ..., 1154., 1512., 1424.]],\n",
       "\n",
       "       [[1924., 2092., 2399., ...,  763., 1001., 1299.],\n",
       "        [2068., 2247., 2223., ..., 1066., 1419., 1752.],\n",
       "        [2206., 1897., 2089., ..., 1243., 1490., 1936.],\n",
       "        ...,\n",
       "        [1757., 1913., 2241., ..., 1586., 1392.,  651.],\n",
       "        [1635., 1683., 1386., ..., 1441., 1441., 1212.],\n",
       "        [1936., 1911., 1544., ..., 1384., 1401., 1401.]]])"
      ]
     },
     "execution_count": 8,
     "metadata": {},
     "output_type": "execute_result"
    }
   ],
   "source": [
    "wamos"
   ]
  },
  {
   "cell_type": "code",
   "execution_count": 9,
   "id": "a45abbf8",
   "metadata": {},
   "outputs": [
    {
     "data": {
      "text/plain": [
       "4095.0"
      ]
     },
     "execution_count": 9,
     "metadata": {},
     "output_type": "execute_result"
    }
   ],
   "source": [
    "np.max(wamos)"
   ]
  },
  {
   "cell_type": "code",
   "execution_count": 10,
   "id": "105e6d2f",
   "metadata": {},
   "outputs": [
    {
     "data": {
      "text/plain": [
       "array([-247.5 , -243.75, -240.  , -236.25, -232.5 , -228.75, -225.  ,\n",
       "       -221.25, -217.5 , -213.75, -210.  , -206.25, -202.5 , -198.75,\n",
       "       -195.  , -191.25, -187.5 , -183.75, -180.  , -176.25, -172.5 ,\n",
       "       -168.75, -165.  , -161.25, -157.5 , -153.75, -150.  , -146.25,\n",
       "       -142.5 , -138.75, -135.  , -131.25, -127.5 , -123.75, -120.  ,\n",
       "       -116.25, -112.5 , -108.75, -105.  , -101.25,  -97.5 ,  -93.75,\n",
       "        -90.  ,  -86.25,  -82.5 ,  -78.75,  -75.  ,  -71.25,  -67.5 ,\n",
       "        -63.75,  -60.  ,  -56.25,  -52.5 ,  -48.75,  -45.  ,  -41.25,\n",
       "        -37.5 ,  -33.75,  -30.  ,  -26.25,  -22.5 ,  -18.75,  -15.  ,\n",
       "        -11.25,   -7.5 ,   -3.75,    0.  ,    3.75,    7.5 ,   11.25,\n",
       "         15.  ,   18.75,   22.5 ,   26.25,   30.  ,   33.75,   37.5 ,\n",
       "         41.25,   45.  ,   48.75,   52.5 ,   56.25,   60.  ,   63.75,\n",
       "         67.5 ,   71.25,   75.  ,   78.75,   82.5 ,   86.25,   90.  ,\n",
       "         93.75,   97.5 ,  101.25,  105.  ,  108.75,  112.5 ,  116.25,\n",
       "        120.  ,  123.75,  127.5 ,  131.25,  135.  ,  138.75,  142.5 ,\n",
       "        146.25,  150.  ,  153.75,  157.5 ,  161.25,  165.  ,  168.75,\n",
       "        172.5 ,  176.25,  180.  ,  183.75,  187.5 ,  191.25,  195.  ,\n",
       "        198.75,  202.5 ,  206.25,  210.  ,  213.75,  217.5 ,  221.25,\n",
       "        225.  ,  228.75,  232.5 ,  236.25,  240.  ,  243.75])"
      ]
     },
     "execution_count": 10,
     "metadata": {},
     "output_type": "execute_result"
    }
   ],
   "source": [
    "x"
   ]
  },
  {
   "cell_type": "code",
   "execution_count": 11,
   "id": "5f9574b8",
   "metadata": {},
   "outputs": [
    {
     "data": {
      "text/plain": [
       "(366,)"
      ]
     },
     "execution_count": 11,
     "metadata": {},
     "output_type": "execute_result"
    }
   ],
   "source": [
    "t.shape"
   ]
  },
  {
   "cell_type": "code",
   "execution_count": 12,
   "id": "94625a52",
   "metadata": {},
   "outputs": [
    {
     "data": {
      "text/plain": [
       "(366, 132, 132)"
      ]
     },
     "execution_count": 12,
     "metadata": {},
     "output_type": "execute_result"
    }
   ],
   "source": [
    "wamos.shape"
   ]
  },
  {
   "cell_type": "code",
   "execution_count": 13,
   "id": "c422f46d",
   "metadata": {},
   "outputs": [
    {
     "data": {
      "text/plain": [
       "-3.75"
      ]
     },
     "execution_count": 13,
     "metadata": {},
     "output_type": "execute_result"
    }
   ],
   "source": [
    "y[4] - y[5]"
   ]
  },
  {
   "cell_type": "code",
   "execution_count": 14,
   "id": "22a7969c",
   "metadata": {},
   "outputs": [],
   "source": [
    "dx = x[1] - x[0]\n",
    "dy = y[1] - y[0]\n",
    "dt = t[1] - t[0]"
   ]
  },
  {
   "cell_type": "code",
   "execution_count": 15,
   "id": "faef08c8",
   "metadata": {},
   "outputs": [
    {
     "data": {
      "text/plain": [
       "(366, 132, 132)"
      ]
     },
     "execution_count": 15,
     "metadata": {},
     "output_type": "execute_result"
    }
   ],
   "source": [
    "wamos.shape"
   ]
  },
  {
   "cell_type": "code",
   "execution_count": 16,
   "id": "c5438ad5",
   "metadata": {},
   "outputs": [
    {
     "data": {
      "text/plain": [
       "0.01269330365086785"
      ]
     },
     "execution_count": 16,
     "metadata": {},
     "output_type": "execute_result"
    }
   ],
   "source": [
    "dk = 2*np.pi/(dx*min(wamos.shape[0], wamos.shape[1]))\n",
    "dk"
   ]
  },
  {
   "cell_type": "code",
   "execution_count": 17,
   "id": "612f4b98",
   "metadata": {},
   "outputs": [
    {
     "data": {
      "text/plain": [
       "array([0.03807991, 0.05077321, 0.06346652, 0.07615982, 0.08885313,\n",
       "       0.10154643, 0.11423973, 0.12693304, 0.13962634, 0.15231964,\n",
       "       0.16501295, 0.17770625, 0.19039955, 0.20309286, 0.21578616,\n",
       "       0.22847947, 0.24117277, 0.25386607, 0.26655938, 0.27925268,\n",
       "       0.29194598, 0.30463929, 0.31733259, 0.33002589, 0.3427192 ])"
      ]
     },
     "execution_count": 17,
     "metadata": {},
     "output_type": "execute_result"
    }
   ],
   "source": [
    "wavenumbers = np.arange(3 * dk, 0.35, dk)\n",
    "wavenumbers"
   ]
  },
  {
   "cell_type": "markdown",
   "id": "6856125f",
   "metadata": {},
   "source": [
    "# 1.1) NSP Method"
   ]
  },
  {
   "cell_type": "code",
   "execution_count": 18,
   "id": "95bb60ea",
   "metadata": {},
   "outputs": [],
   "source": [
    "maxFrequency = 4.0 \n",
    "\n",
    "kW = 1*dk\n",
    "# Half width of wavenumbers bins [rad/m]\n",
    "\n",
    "frequencyLimits = [0.01, 20.0]\n",
    "# frequency limits for masking the spectrum [min max], rad/sec\n",
    "\n",
    "Ux_limits = [-1, 1]\n",
    "# Ux current limits [m/s]\n",
    "\n",
    "Uy_limits = [-1, 1]\n",
    "# Uy current limts [m/s]\n",
    "\n",
    "U_res = 0.1\n",
    "# Current step size [m/s]\n",
    "\n",
    "omegaWidthFun = lambda k: 0.05 + 0.0 * k"
   ]
  },
  {
   "cell_type": "code",
   "execution_count": 19,
   "id": "4081fce1",
   "metadata": {},
   "outputs": [],
   "source": [
    "Uym, Uxm = np.meshgrid(np.arange(min(Uy_limits), max(Uy_limits) + U_res, U_res),\n",
    "                       np.arange(min(Ux_limits), max(Ux_limits) + U_res, U_res))"
   ]
  },
  {
   "cell_type": "code",
   "execution_count": 20,
   "id": "28b6623b",
   "metadata": {},
   "outputs": [],
   "source": [
    "h = np.inf\n",
    "g = 9.81\n",
    "T = 0.072 / 1000"
   ]
  },
  {
   "cell_type": "code",
   "execution_count": 21,
   "id": "c7fc33dd",
   "metadata": {},
   "outputs": [],
   "source": [
    "from scipy.fftpack import fftn, fftshift\n",
    "\n",
    "def retrieve_power_spectrum(IMG_3D, dx, dy, dt, K_limits=None, W_limits=None):\n",
    "    # Set default values for K_limits and W_limits if not provided\n",
    "    if K_limits is None:\n",
    "        K_limits = [-np.inf, np.inf]\n",
    "    if W_limits is None:\n",
    "        W_limits = [-np.inf, np.inf]\n",
    "\n",
    "    # Check limits\n",
    "    if any(np.array(K_limits) < 0):\n",
    "        print('retrieve_positive_spectrum: K_limits smaller than 0')\n",
    "    if any(np.array(W_limits) < 0):\n",
    "        print('retrieve_positive_spectrum: W_limits smaller than 0')\n",
    "\n",
    "    # Get Kx, Ky, and w axes\n",
    "    Nt, Nx, Ny = IMG_3D.shape\n",
    "    Kx = (2 * np.pi * 1 / dx / Nx) * np.arange(-np.ceil((Nx - 1) / 2), np.floor((Nx - 1) / 2) + 1)\n",
    "    Ky = (2 * np.pi * 1 / dy / Ny) * np.arange(-np.ceil((Ny - 1) / 2), np.floor((Ny - 1) / 2) + 1)\n",
    "    w = (2 * np.pi * 1 / dt / Nt) * np.arange(-np.ceil((Nt - 1) / 2), np.floor((Nt - 1) / 2) + 1)\n",
    "\n",
    "    dKx = Kx[1] - Kx[0]\n",
    "    dKy = Ky[1] - Ky[0]\n",
    "    dW = w[1] - w[0]\n",
    "    Norm = dKx * dKy * dW\n",
    "\n",
    "    # Get power spectra\n",
    "    Spectrum_raw = fftshift(fftn(IMG_3D) / np.prod(IMG_3D.shape))\n",
    "    power_Spectrum = np.abs(Spectrum_raw / Norm)**2\n",
    "\n",
    "    # Get index boundaries\n",
    "    ind_x = np.abs(Kx) <= K_limits[1]\n",
    "    ind_y = np.abs(Ky) <= K_limits[1]\n",
    "    ind_w = (w >= W_limits[0]) & (w <= W_limits[1])\n",
    "\n",
    "    # Create 3D structure using meshgrid\n",
    "    W_3D, Kx_3D, Ky_3D = np.meshgrid(w[ind_w], Kx[ind_x], Ky[ind_y], indexing='ij')\n",
    "\n",
    "    # Use np.ix_ for boolean indexing to extract the desired values\n",
    "    power_Spectrum_cut = power_Spectrum[np.ix_(ind_w, ind_x, ind_y)]\n",
    "\n",
    "    # Set to NaN values outside K_limits\n",
    "    K_3D = np.sqrt(Kx_3D**2 + Ky_3D**2)\n",
    "    power_Spectrum_cut[(K_3D < K_limits[0]) | (K_3D > K_limits[1])] = np.nan\n",
    "\n",
    "    # Get original spectrum limits\n",
    "    Kx_orig_limits = [Kx[0], Kx[-1]]\n",
    "    Ky_orig_limits = [Ky[0], Ky[-1]]\n",
    "    W_orig_limits = [w[0], w[-1]]\n",
    "\n",
    "    # Normalize spectra (sum(power_Spectrum_cut(:)) = 1)\n",
    "    power_Spectrum_cut /= np.nansum(power_Spectrum_cut)\n",
    "\n",
    "    # Create output structure\n",
    "    Spectrum = {'power_Spectrum': power_Spectrum_cut,\n",
    "                'Kx_3D': Kx_3D, 'Ky_3D': Ky_3D, 'W_3D': W_3D,\n",
    "                'dKx': dKx, 'dKy': dKy, 'dW': dW,\n",
    "                'Kx_orig_limits': Kx_orig_limits, 'Ky_orig_limits': Ky_orig_limits,\n",
    "                'W_orig_limits': W_orig_limits}\n",
    "\n",
    "    return Spectrum"
   ]
  },
  {
   "cell_type": "code",
   "execution_count": 22,
   "id": "ba4c27e1",
   "metadata": {},
   "outputs": [],
   "source": [
    "from scipy.optimize import minimize\n",
    "import matplotlib.pyplot as plt\n",
    "\n",
    "def get_doppler_shift_velocities_nsp(Spectrum, fit_param, Properties, verboseFig=False):\n",
    "    \n",
    "    out_fit = {'wavenumbers': fit_param['wavenumbers'],\n",
    "               'Ux': np.zeros(len([fit_param['wavenumbers']])),\n",
    "               'Uy': np.zeros(len([fit_param['wavenumbers']])),\n",
    "               'SNR_max': np.zeros(len([fit_param['wavenumbers']])),\n",
    "               'Ux_2D': fit_param['Ux_2D'],\n",
    "               'Uy_2D': fit_param['Uy_2D'],\n",
    "               'verbose': []}\n",
    "\n",
    "    h = Properties['h']\n",
    "    g = Properties['g']\n",
    "    T = Properties['T']\n",
    "    omegaWidthFun = fit_param['omegaWidthFun']\n",
    "    wavenumbers = fit_param['wavenumbers']\n",
    "\n",
    "    for jj in range(len([fit_param['wavenumbers']])):\n",
    "        P = {'h': h, 'g': g, 'T': T,\n",
    "             'omegaWidth': omegaWidthFun(wavenumbers)}\n",
    "\n",
    "        snrG = np.zeros(fit_param['Ux_2D'].shape)\n",
    "\n",
    "        for i in range(fit_param['Ux_2D'].shape[0]):\n",
    "            for j in range(fit_param['Ux_2D'].shape[1]):\n",
    "                snr_ij, _, _ = nsp_doppler_shift_extraction(Spectrum, P, wavenumbers, fit_param['Ux_2D'][i, j], fit_param['Uy_2D'][i, j])\n",
    "                snrG[i, j] = snr_ij\n",
    "\n",
    "        im = np.argmax(snrG)\n",
    "\n",
    "        if np.ndim(fit_param['Ux_2D']) == 1:\n",
    "            cDoppGuess = fit_param['Ux_2D'][im]\n",
    "        else:\n",
    "            cDoppGuess = [fit_param['Ux_2D'].flat[im], fit_param['Uy_2D'].flat[im]]\n",
    "\n",
    "        options = {'disp': False}  # Turn off display output\n",
    "        Ufit = minimize(lambda U: 1 - nsp_doppler_shift_extraction(Spectrum, P, fit_param['wavenumbers'], U[0], U[1])[0] if np.ndim(U) > 1 else 1 - nsp_doppler_shift_extraction(Spectrum, P, fit_param['wavenumbers'], U[0], U[1])[0], \n",
    "                        cDoppGuess, options=options)\n",
    "\n",
    "        if len(cDoppGuess) > 1:\n",
    "            Ufit = Ufit.x\n",
    "        else:\n",
    "            Ufit = [Ufit.x[0], 0]\n",
    "\n",
    "        SNR_fit, _, _ = nsp_doppler_shift_extraction(Spectrum, P, wavenumbers, Ufit[0], Ufit[1])\n",
    "\n",
    "        out_fit['Ux'][jj] = Ufit[0]\n",
    "        out_fit['Uy'][jj] = Ufit[1]\n",
    "        out_fit['SNR_max'][jj] = SNR_fit\n",
    "\n",
    "        verbose = {'k': fit_param['wavenumbers'], 'SNR_2D': snrG, 'Peaks_2D': find_peaks(snrG)}\n",
    "        out_fit['verbose'].append(verbose)\n",
    "\n",
    "    # Post-processing\n",
    "    out_fit['Ux_filt'] = out_fit['Ux'].copy()\n",
    "    out_fit['Uy_filt'] = out_fit['Uy'].copy()\n",
    "    out_fit['SNR_max'] = out_fit['SNR_max'].copy()\n",
    "\n",
    "    return out_fit"
   ]
  },
  {
   "cell_type": "code",
   "execution_count": 23,
   "id": "a5a7c471",
   "metadata": {},
   "outputs": [],
   "source": [
    "def nsp_doppler_shift_extraction(Spectrum, params, kval, U, V):\n",
    "    # Define wave dispersion relation.\n",
    "    omegaFun = lambda kx, ky: np.sqrt((params['g']*np.sqrt(kx**2 + ky**2) + params['T']*np.sqrt(kx**2 + ky**2)**3) * np.tanh(np.sqrt(kx**2 + ky**2) * params['h'])) + U*kx + V*ky\n",
    "\n",
    "    # Frequency width of weighting function (1/e^2 halfwidth)\n",
    "    a = params['omegaWidth']\n",
    "\n",
    "    if 'logFlag' not in params:\n",
    "        params['logFlag'] = 0\n",
    "\n",
    "    if 'include2ndHarmonic' not in params:\n",
    "        params['include2ndHarmonic'] = 0\n",
    "\n",
    "    if 'kWidth' in params:\n",
    "        a_k = params['kWidth']\n",
    "    else:\n",
    "        a_k = max(Spectrum['dKx'], Spectrum['dKy']) * 2\n",
    "\n",
    "    inds = ~np.isnan(Spectrum['power_Spectrum'])\n",
    "\n",
    "    P_k = np.sqrt(Spectrum['power_Spectrum'][inds])\n",
    "    KX = Spectrum['Kx_3D'][inds]\n",
    "    KY = Spectrum['Ky_3D'][inds]\n",
    "    W = Spectrum['W_3D'][inds]\n",
    "\n",
    "    if params['include2ndHarmonic']:\n",
    "        inds2 = ~np.isnan(Spectrum['power_Spectrum2'])\n",
    "        P_k2 = np.sqrt(Spectrum['power_Spectrum2'][inds2])\n",
    "        KX2 = Spectrum['Kx_3D2'][inds2]\n",
    "        KY2 = Spectrum['Ky_3D2'][inds2]\n",
    "        W2 = Spectrum['W_3D2'][inds2]\n",
    "        omegaFun2 = lambda kx, ky: np.sqrt(2) * np.sqrt((params['g']*np.sqrt(kx**2 + ky**2) + params['T']*np.sqrt(kx**2 + ky**2)**3) * np.tanh(np.sqrt(kx**2 + ky**2) * params['h']) + U*kx + V*ky)\n",
    "    else:\n",
    "        P_k2 = 0\n",
    "\n",
    "    if params['logFlag']:\n",
    "        P_k = np.log(P_k)\n",
    "        P_k = P_k - np.min(P_k)\n",
    "\n",
    "        if params['include2ndHarmonic']:\n",
    "            P_k2 = np.log(P_k2)\n",
    "            P_k2 = P_k2 - np.min(P_k2)\n",
    "\n",
    "    K = np.sqrt(KX**2 + KY**2)\n",
    "    order = 2\n",
    "\n",
    "    if not np.isnan(kval):\n",
    "        P_k = P_k * np.exp(-2*((K-kval)/a_k)**order)\n",
    "\n",
    "    # Define weighting function G\n",
    "    G1 = np.exp(-2*((W - omegaFun(KX, KY))/max(a))**order)\n",
    "    G2 = np.exp(-2*((W + omegaFun(-KX, -KY))/max(a))**order)\n",
    "\n",
    "    G = G1 + G2\n",
    "\n",
    "    if params['include2ndHarmonic']:\n",
    "        G1_2 = np.exp(-2*((W2 - omegaFun2(KX2, KY2))/a)**order)\n",
    "        G2_2 = np.exp(-2*((W2 + omegaFun2(-KX2, -KY2))/a)**order)\n",
    "\n",
    "        G_2 = G1_2 + G2_2\n",
    "\n",
    "        P_k2[~np.isfinite(P_k2)] = 0\n",
    "\n",
    "        signal_2 = np.sum(P_k2*G_2)/np.sum(G_2)\n",
    "        noise_2 = np.sum(P_k2*(1-G_2))/np.sum(1-G_2)\n",
    "    else:\n",
    "        signal_2 = 0\n",
    "        noise_2 = 0\n",
    "\n",
    "    P_k[~np.isfinite(P_k)] = 0\n",
    "    InP = P_k * G\n",
    "\n",
    "    signal_1 = np.sum(InP)/np.sum(G)\n",
    "    noise_1 = np.sum(P_k*(1-G))/np.sum(1-G)\n",
    "    SNR = (signal_1 + signal_2)/(noise_1 + noise_2)\n",
    "\n",
    "    return SNR, P_k, G"
   ]
  },
  {
   "cell_type": "code",
   "execution_count": 24,
   "id": "619f6343",
   "metadata": {},
   "outputs": [],
   "source": [
    "wavenumberLimits = []\n",
    "\n",
    "for jj in range(len(wavenumbers)):\n",
    "    wavenumberLimits_range = wavenumbers[jj] + kW * np.array([-1,1])\n",
    "    wavenumberLimits.append(wavenumberLimits_range)"
   ]
  },
  {
   "cell_type": "code",
   "execution_count": 25,
   "id": "00d1b6a0",
   "metadata": {},
   "outputs": [
    {
     "name": "stderr",
     "output_type": "stream",
     "text": [
      "Processing wavenumbers: 100%|██████████| 25/25 [02:05<00:00,  5.02s/it]\n"
     ]
    }
   ],
   "source": [
    "Spectrum_at_k = []\n",
    "\n",
    "ind_x_at_k = []\n",
    "ind_y_at_k = []\n",
    "ind_w_at_k = []\n",
    "\n",
    "W_3D_at_k = []\n",
    "Kx_3D_at_k = []\n",
    "Ky_3D_at_k = []\n",
    "\n",
    "Ux_at_k = []\n",
    "Uy_at_k = []\n",
    "\n",
    "SNR_max_at_k = []\n",
    "\n",
    "snrG_at_k = []\n",
    "\n",
    "im_at_k = []\n",
    "cDoppGuess_at_k = []\n",
    "\n",
    "Ux_at_k_correct = []\n",
    "Uy_at_k_correct = []\n",
    "\n",
    "# Initialize the tqdm progress bar outside the loop\n",
    "progress_bar = tqdm(total=len(wavenumberLimits), desc=\"Processing wavenumbers\")\n",
    "\n",
    "for i in range(len(wavenumberLimits)):\n",
    "    # i is the index of each wavenumber\n",
    "    \n",
    "    fit_param = {'wavenumbers': wavenumbers[i],\n",
    "     'include2ndHarmonic': 0,\n",
    "     'logFlag': [],\n",
    "     'SNR_filter': 0,\n",
    "     'SNR_threshold': 1,\n",
    "     'Peak_filter': 0,\n",
    "     'Peak_threshold': 0.5,\n",
    "     'Outlier_filter': 0,\n",
    "     'kWidth': 0.050015405430285265,\n",
    "     'Ux_2D': Uxm, \n",
    "     'Uy_2D': Uym}\n",
    "    \n",
    "    P = {'h': h, 'g': g, 'T': T,\n",
    "             'omegaWidth': omegaWidthFun(wavenumbers),\n",
    "             'kWidth': fit_param['kWidth'],\n",
    "             'logFlag': fit_param['logFlag'],\n",
    "             'include2ndHarmonic': fit_param['include2ndHarmonic']}\n",
    "    \n",
    "    Spectrum = retrieve_power_spectrum(wamos, dx, dy, dt, K_limits=wavenumberLimits[i], W_limits=frequencyLimits)\n",
    "    Spectrum_at_k.append(Spectrum)\n",
    "    \n",
    "    Nt, Nx, Ny = wamos.shape\n",
    "    \n",
    "    Kx = (2 * np.pi * 1 / dx / Nx) * np.arange(-np.ceil((Nx - 1) / 2), np.floor((Nx - 1) / 2) + 1) # 67 values\n",
    "    Ky = (2 * np.pi * 1 / dy / Ny) * np.arange(-np.ceil((Ny - 1) / 2), np.floor((Ny - 1) / 2) + 1) # 67 Values\n",
    "    w = (2 * np.pi * 1 / dt / Nt) * np.arange(-np.ceil((Nt - 1) / 2), np.floor((Nt - 1) / 2) + 1) # 1200 Values\n",
    "    # w = spec3d.get_C()[0]\n",
    "    # Kx = spec3d.get_C()[1]\n",
    "    # Ky = spec3d.get_C()[2]\n",
    "    \n",
    "    dKx = Kx[1] - Kx[0]\n",
    "    dKy = Ky[1] - Ky[0]\n",
    "    dW = w[1] - w[0]\n",
    "    # kx, ky and w resolution\n",
    "    \n",
    "    Norm = dKx * dKy * dW\n",
    "    \n",
    "    # Get power spectra (1200, 67, 67)\n",
    "    Spectrum_raw = fftshift(fftn(wamos) / np.prod(wamos.shape))\n",
    "    power_Spectrum = np.abs(Spectrum_raw / Norm)**2\n",
    "    # ?? how is this related to FFT spec3d.spectrum()\n",
    "    \n",
    "    ind_x = np.abs(Kx) <= wavenumberLimits[i][1]\n",
    "    ind_x_at_k.append(ind_x)\n",
    "    ind_y = np.abs(Ky) <= wavenumberLimits[i][1]\n",
    "    ind_y_at_k.append(ind_y)\n",
    "    # Is the absolute values of Kx and Ky smaller than the upper value of the wavenumber range \n",
    "    \n",
    "    ind_w = (w >= frequencyLimits[0]) & (w <= frequencyLimits[1])\n",
    "    ind_w_at_k.append(ind_w)\n",
    "    # Is the value of w between the frequency limits 0.01 and 20 \n",
    "    \n",
    "    # Create 3D structure where it only includes w,Kx,Ky that are in the ranges required by wavenumberLimits\n",
    "    W_3D, Kx_3D, Ky_3D = np.meshgrid( w[ind_w_at_k[i]], Kx[ind_x_at_k[i]] , Ky[ind_y_at_k[i]] , indexing='ij')\n",
    "    W_3D_at_k.append(W_3D)\n",
    "    Kx_3D_at_k.append(Kx_3D)\n",
    "    Ky_3D_at_k.append(Ky_3D)\n",
    "    \n",
    "    \n",
    "    Ux_2D = Uxm\n",
    "    Uy_2D = Uym\n",
    "    \n",
    "    snrG = np.zeros(Ux_2D.shape)\n",
    "    \n",
    "    for m in range(Ux_2D.shape[0]):\n",
    "        for n in range(Ux_2D.shape[1]):\n",
    "            snr_mn, _, _ = nsp_doppler_shift_extraction(Spectrum, P, wavenumbers[i], Ux_2D[m, n], Uy_2D[m, n])\n",
    "            snrG[m, n] = snr_mn\n",
    "            \n",
    "            \n",
    "    snrG_at_k.append(snrG)\n",
    "    # Append the 2D array to the list\n",
    "    \n",
    "    \n",
    "    im = np.argmax(snrG_at_k[i])\n",
    "    im_at_k.append(im)\n",
    "    \n",
    "    if np.ndim(Ux_2D) == 1:\n",
    "        cDoppGuess = Ux_2D[im]\n",
    "    else:\n",
    "        Ux_1D = Ux_2D.flatten()\n",
    "        Uy_1D = Uy_2D.flatten()\n",
    "        cDoppGuess = [Ux_1D[im], Uy_1D[im]]\n",
    "    \n",
    "    cDoppGuess_at_k.append(cDoppGuess)\n",
    "    \n",
    "    \n",
    "    Ufit = minimize(lambda U: 1 - nsp_doppler_shift_extraction(Spectrum, P, fit_param['wavenumbers'], U[0], U[1])[0], cDoppGuess)\n",
    "    \n",
    "    Ux = Ufit.x[0]\n",
    "    Uy = Ufit.x[1]\n",
    "    \n",
    "    Ux_at_k_correct.append(Ux)\n",
    "    Uy_at_k_correct.append(Uy)\n",
    "    \n",
    "    # Update the tqdm progress bar\n",
    "    progress_bar.update(1)\n",
    "\n",
    "# Close the tqdm progress bar after the loop is finished\n",
    "progress_bar.close()"
   ]
  },
  {
   "cell_type": "code",
   "execution_count": 26,
   "id": "6e248d0b",
   "metadata": {},
   "outputs": [],
   "source": [
    "Ux = np.array(Ux_at_k_correct)\n",
    "Uy = np.array(Uy_at_k_correct)"
   ]
  },
  {
   "cell_type": "code",
   "execution_count": 27,
   "id": "661096e1",
   "metadata": {},
   "outputs": [
    {
     "data": {
      "text/plain": [
       "(0.0, 1.0)"
      ]
     },
     "execution_count": 27,
     "metadata": {},
     "output_type": "execute_result"
    },
    {
     "data": {
      "image/png": "[encoded data removed]",
      "text/plain": [
       "<Figure size 432x288 with 1 Axes>"
      ]
     },
     "metadata": {
      "needs_background": "light"
     },
     "output_type": "display_data"
    }
   ],
   "source": [
    "plt.scatter(wavenumbers, np.abs(Ux), label='Ux', color = 'blue')\n",
    "#plt.scatter(wavenumbers, Uy, label='Uy', color = 'red')\n",
    "#plt.scatter(wavenumbers, np.sqrt(Ux**2+Uy**2), label='|U|', color = 'green')\n",
    "\n",
    "plt.grid(True)\n",
    "plt.legend()\n",
    "plt.ylabel(\"U [m/s]\")\n",
    "plt.xlabel(\"Wavenumber [rad/m]\")\n",
    "plt.title('Effective Current $|U|$')\n",
    "\n",
    "plt.ylim(0, 1)\n",
    "#plt.xlim(0, 0.31)"
   ]
  },
  {
   "cell_type": "code",
   "execution_count": 28,
   "id": "cd0cc617",
   "metadata": {},
   "outputs": [],
   "source": [
    "p = np.poly1d(np.polyfit(wavenumbers, Ux, 10))"
   ]
  },
  {
   "cell_type": "code",
   "execution_count": 29,
   "id": "c1cf433a",
   "metadata": {},
   "outputs": [],
   "source": [
    "Uk_mask = np.where(np.gradient(p(wavenumbers))>0, 1, 0)"
   ]
  },
  {
   "cell_type": "code",
   "execution_count": 30,
   "id": "519f87cc",
   "metadata": {},
   "outputs": [],
   "source": [
    "k_m = np.block([0, np.ma.masked_array(wavenumbers, mask=1-Uk_mask).compressed()])\n",
    "Uk_m = np.block([0, np.ma.masked_array(Ux, mask=1-Uk_mask).compressed()])"
   ]
  },
  {
   "cell_type": "code",
   "execution_count": 31,
   "id": "4d8f06eb",
   "metadata": {},
   "outputs": [
    {
     "data": {
      "text/plain": [
       "Text(0.5, 0, 'Wavenumber [rad/m]')"
      ]
     },
     "execution_count": 31,
     "metadata": {},
     "output_type": "execute_result"
    },
    {
     "data": {
      "image/png": "[encoded data removed]",
      "text/plain": [
       "<Figure size 432x288 with 1 Axes>"
      ]
     },
     "metadata": {
      "needs_background": "light"
     },
     "output_type": "display_data"
    }
   ],
   "source": [
    "plt.scatter(k_m, Uk_m, label='Uk_m', color = 'red')\n",
    "plt.plot(wavenumbers, p(wavenumbers), label='Fitted Polynomial', color='black')\n",
    "\n",
    "plt.grid(True)\n",
    "plt.legend()\n",
    "plt.ylabel(\"U [m/s]\")\n",
    "plt.xlabel(\"Wavenumber [rad/m]\")"
   ]
  },
  {
   "cell_type": "markdown",
   "id": "6346b913",
   "metadata": {},
   "source": [
    "# 1.2) PCS Method"
   ]
  },
  {
   "cell_type": "code",
   "execution_count": 32,
   "id": "67d79120",
   "metadata": {},
   "outputs": [],
   "source": [
    "x = f.get('x')\n",
    "y = f.get('y')\n",
    "t = f.get('t')\n",
    "wamos = f.get('wamos')\n",
    "\n",
    "x = np.array(x)\n",
    "y = np.array(y)\n",
    "t = np.array(t)\n",
    "wamos = np.array(wamos)"
   ]
  },
  {
   "cell_type": "code",
   "execution_count": 33,
   "id": "53fe5cf5",
   "metadata": {},
   "outputs": [
    {
     "data": {
      "text/plain": [
       "(366, 132, 132)"
      ]
     },
     "execution_count": 33,
     "metadata": {},
     "output_type": "execute_result"
    }
   ],
   "source": [
    "wamos.shape"
   ]
  },
  {
   "cell_type": "code",
   "execution_count": 34,
   "id": "99749dc7",
   "metadata": {},
   "outputs": [],
   "source": [
    "eta = np.transpose(wamos, (1, 2, 0))"
   ]
  },
  {
   "cell_type": "code",
   "execution_count": 35,
   "id": "fac015b9",
   "metadata": {},
   "outputs": [
    {
     "data": {
      "text/plain": [
       "1524.0"
      ]
     },
     "execution_count": 35,
     "metadata": {},
     "output_type": "execute_result"
    }
   ],
   "source": [
    "wamos[200,17,13]"
   ]
  },
  {
   "cell_type": "code",
   "execution_count": 36,
   "id": "378f0fcd",
   "metadata": {},
   "outputs": [
    {
     "data": {
      "text/plain": [
       "1524.0"
      ]
     },
     "execution_count": 36,
     "metadata": {},
     "output_type": "execute_result"
    }
   ],
   "source": [
    "eta[17,13,200]"
   ]
  },
  {
   "cell_type": "code",
   "execution_count": 37,
   "id": "c86c2b6f",
   "metadata": {},
   "outputs": [
    {
     "data": {
      "text/plain": [
       "(132, 132, 366)"
      ]
     },
     "execution_count": 37,
     "metadata": {},
     "output_type": "execute_result"
    }
   ],
   "source": [
    "eta.shape"
   ]
  },
  {
   "cell_type": "code",
   "execution_count": 38,
   "id": "373c022c",
   "metadata": {},
   "outputs": [],
   "source": [
    "# new version with eta changed dimension \n",
    "def cylinder_cross_section(Spectrum, dtheta, power_Spectrum_cut , order=None):\n",
    "    if order is None:\n",
    "        order = 4\n",
    "\n",
    "    Kx_2D = np.squeeze(Kx_3D[:,:,0])\n",
    "    Ky_2D = np.squeeze(Ky_3D[:,:,0])\n",
    "    W_1D = np.squeeze(W_3D[0,0,:])\n",
    "\n",
    "    theta_2D = np.arctan2(-Ky_2D, -Kx_2D)\n",
    "    theta_3D = np.tile(theta_2D[:, :, np.newaxis], (1, 1, W_1D.size))\n",
    "\n",
    "    theta_vals = np.arange(-np.pi, np.pi, dtheta)\n",
    "    S_cyl = np.zeros((W_1D.size, theta_vals.size))\n",
    "\n",
    "    for ii in range(theta_vals.size):\n",
    "        theta_diff = np.angle(np.exp(1j * theta_3D) * np.exp(-1j * theta_vals[ii]))\n",
    "        theta_filt = np.exp(-2 * (theta_diff / dtheta) ** order)\n",
    "        S_filt = power_Spectrum_cut * theta_filt\n",
    "        S_cyl[:, ii] = np.nansum(S_filt, axis=(0, 1))\n",
    "\n",
    "    thetaM, omegaM = np.meshgrid(theta_vals, W_1D)\n",
    "\n",
    "    Scyl = {\n",
    "        'P_k': S_cyl,\n",
    "        'thetaM': thetaM,\n",
    "        'omegaM': omegaM,\n",
    "        'Kx_2D': Kx_2D, \n",
    "        'Ky_2D': Ky_2D,\n",
    "        'W_1D': W_1D,\n",
    "        'theta_2D':theta_2D,\n",
    "        'theta_3D':theta_3D,\n",
    "        'theta_vals':theta_vals,\n",
    "        'theta_diff':theta_diff,\n",
    "        'theta_filt':theta_filt\n",
    "    }\n",
    "\n",
    "    return Scyl"
   ]
  },
  {
   "cell_type": "code",
   "execution_count": 39,
   "id": "f219b796",
   "metadata": {},
   "outputs": [
    {
     "data": {
      "text/plain": [
       "0.01269330365086785"
      ]
     },
     "execution_count": 39,
     "metadata": {},
     "output_type": "execute_result"
    }
   ],
   "source": [
    "dk = 2*np.pi/(dx*min(eta.shape[0], eta.shape[1]))\n",
    "dk"
   ]
  },
  {
   "cell_type": "code",
   "execution_count": 40,
   "id": "1ddf68d0",
   "metadata": {},
   "outputs": [],
   "source": [
    "frequencyLimits = [0.01,20.0]\n",
    "# frequency limits for masking the spectrum [min max], rad/sec"
   ]
  },
  {
   "cell_type": "code",
   "execution_count": 41,
   "id": "1f1456dd",
   "metadata": {},
   "outputs": [],
   "source": [
    "Nx, Ny, Nt = eta.shape\n",
    "    \n",
    "Kx = (2 * np.pi * 1 / dx / Nx) * np.arange(-np.ceil((Nx - 1) / 2), np.floor((Nx - 1) / 2) + 1) \n",
    "Ky = (2 * np.pi * 1 / dy / Ny) * np.arange(-np.ceil((Ny - 1) / 2), np.floor((Ny - 1) / 2) + 1) \n",
    "w = (2 * np.pi * 1 / dt / Nt) * np.arange(-np.ceil((Nt - 1) / 2), np.floor((Nt - 1) / 2) + 1)"
   ]
  },
  {
   "cell_type": "code",
   "execution_count": 42,
   "id": "a465652a",
   "metadata": {},
   "outputs": [],
   "source": [
    "dKx = Kx[1] - Kx[0]\n",
    "dKy = Ky[1] - Ky[0]\n",
    "dW = w[1] - w[0]"
   ]
  },
  {
   "cell_type": "code",
   "execution_count": 43,
   "id": "9300b4e0",
   "metadata": {},
   "outputs": [],
   "source": [
    "Norm = dKx * dKy * dW "
   ]
  },
  {
   "cell_type": "code",
   "execution_count": 44,
   "id": "7eb75426",
   "metadata": {},
   "outputs": [],
   "source": [
    "# Get power spectra\n",
    "Spectrum_raw = fftshift(fftn(eta) / np.prod(eta.shape))\n",
    "power_Spectrum = np.abs(Spectrum_raw / Norm)**2"
   ]
  },
  {
   "cell_type": "code",
   "execution_count": 45,
   "id": "59bae57e",
   "metadata": {
    "scrolled": true
   },
   "outputs": [
    {
     "data": {
      "text/plain": [
       "(132, 132, 366)"
      ]
     },
     "execution_count": 45,
     "metadata": {},
     "output_type": "execute_result"
    }
   ],
   "source": [
    "power_Spectrum.shape"
   ]
  },
  {
   "cell_type": "markdown",
   "id": "165edd6b",
   "metadata": {},
   "source": [
    "## 1.2.1) HP Filter"
   ]
  },
  {
   "cell_type": "code",
   "execution_count": 46,
   "id": "7b9595ca",
   "metadata": {},
   "outputs": [
    {
     "data": {
      "text/plain": [
       "(132, 132, 366)"
      ]
     },
     "execution_count": 46,
     "metadata": {},
     "output_type": "execute_result"
    }
   ],
   "source": [
    "I_0 = power_Spectrum\n",
    "I_0.shape"
   ]
  },
  {
   "cell_type": "code",
   "execution_count": 47,
   "id": "0b8f824b",
   "metadata": {},
   "outputs": [],
   "source": [
    "w_cut = 0.03 * 2*np.pi"
   ]
  },
  {
   "cell_type": "code",
   "execution_count": 48,
   "id": "dd1578f0",
   "metadata": {},
   "outputs": [
    {
     "data": {
      "text/plain": [
       "0.18849555921538758"
      ]
     },
     "execution_count": 48,
     "metadata": {},
     "output_type": "execute_result"
    }
   ],
   "source": [
    "w_cut"
   ]
  },
  {
   "cell_type": "code",
   "execution_count": 49,
   "id": "afe7a1b3",
   "metadata": {},
   "outputs": [],
   "source": [
    "# Create a boolean mask based on the condition w >= w_cut\n",
    "mask = (w >= w_cut)"
   ]
  },
  {
   "cell_type": "code",
   "execution_count": 50,
   "id": "206aa790",
   "metadata": {},
   "outputs": [],
   "source": [
    "I_1 = np.where(mask[ None, None,:], I_0, 0)"
   ]
  },
  {
   "cell_type": "markdown",
   "id": "1a56647a",
   "metadata": {},
   "source": [
    "## 1.2.2)Energy Threshold"
   ]
  },
  {
   "cell_type": "code",
   "execution_count": 51,
   "id": "363560d8",
   "metadata": {},
   "outputs": [],
   "source": [
    "# Create a boolean mask based on the condition energy\n",
    "\n",
    "P = np.max(I_1) / 2000\n",
    "# Threshold\n",
    "\n",
    "condition = ( np.max(I_1, axis=2) >= P )\n",
    "# Is  maximum energy for each column vector along the ω axis > P"
   ]
  },
  {
   "cell_type": "code",
   "execution_count": 84,
   "id": "d755204a",
   "metadata": {},
   "outputs": [],
   "source": [
    "I_2 = np.where(condition[:, :, None], I_1, 0)"
   ]
  },
  {
   "cell_type": "markdown",
   "id": "baac8e39",
   "metadata": {},
   "source": [
    "## 1.2.3) Peak Identification"
   ]
  },
  {
   "cell_type": "code",
   "execution_count": 85,
   "id": "e82ac544",
   "metadata": {},
   "outputs": [],
   "source": [
    "from scipy.signal import find_peaks, peak_widths, peak_prominences"
   ]
  },
  {
   "cell_type": "code",
   "execution_count": 86,
   "id": "a1ae5935",
   "metadata": {},
   "outputs": [],
   "source": [
    "def check_prominent_peaks(kx, ky):\n",
    "    y = I_2[kx, ky,:]\n",
    "    \n",
    "    wj = np.zeros((I_2.shape[0], I_2.shape[1]))\n",
    "    \n",
    "    if np.max(y) < 1:\n",
    "        wj[kx, ky] = 0\n",
    "    # If Power Spectrum is 0 then wj is 0\n",
    "        \n",
    "    else:\n",
    "        peak_heights = y\n",
    "        \n",
    "        # Find the peak with the maximum height\n",
    "        max_peak_index = np.argmax(peak_heights)\n",
    "        max_peak_height = peak_heights[max_peak_index]\n",
    "\n",
    "        threshold = 6\n",
    "\n",
    "        # Check if the maximum peak 6 times larger than the others\n",
    "        # If it is we conclude it is a peak on its own and print\n",
    "        if max_peak_height > threshold * np.max(peak_heights[peak_heights != max_peak_height]):\n",
    "            wj[kx,ky] = w[max_peak_index]\n",
    "            \n",
    "        else:\n",
    "            pass\n",
    "            \n",
    "    return wj"
   ]
  },
  {
   "cell_type": "code",
   "execution_count": 440,
   "id": "3d8d1436",
   "metadata": {},
   "outputs": [],
   "source": [
    "def identification(kx, ky, ratio=10., prominence=1e5, distance=10):\n",
    "    \n",
    "    '''Scans for peaks and then sorts them by heights. \n",
    "    It keeps the peaks which are ratio times smaller than the next'''\n",
    "    \n",
    "    y = I_2[kx,ky,:]\n",
    "    wj = np.zeros((I_2.shape[0], I_2.shape[1]))\n",
    "    \n",
    "    if np.max(y) < 1:\n",
    "        wj[kx, ky] = 0\n",
    "    # If Power Spectrum is 0 then wj is 0\n",
    "    \n",
    "    else:\n",
    "        peaks, stats = find_peaks(y, prominence=prominence, distance=distance)\n",
    "        order = np.flip(np.argsort(stats[\"prominences\"]))\n",
    "\n",
    "        values = []\n",
    "\n",
    "        if len(peaks) == 1:\n",
    "            values.append(w[peaks[0]])\n",
    "            wj[kx,ky] = w[peaks[0]]\n",
    "\n",
    "        elif len(peaks) > 1:\n",
    "            for i, j in zip(order[:-1], order[1:]):\n",
    "                if stats[\"prominences\"][i] >= ratio * stats[\"prominences\"][j]:\n",
    "                    values.append(w[peaks[i]])\n",
    "                    wj[kx,ky] = w[peaks[i]]\n",
    "                    \n",
    "#        return {\n",
    "#            \"values\": values,\n",
    "#            \"order\": order,\n",
    "#            \"peaks\": peaks,\n",
    "#            \"stats\": stats,\n",
    "#        }\n",
    "    \n",
    "    return wj "
   ]
  },
  {
   "cell_type": "code",
   "execution_count": 115,
   "id": "70c7d19e",
   "metadata": {},
   "outputs": [
    {
     "data": {
      "text/plain": [
       "(array([0], dtype=int64),)"
      ]
     },
     "execution_count": 115,
     "metadata": {},
     "output_type": "execute_result"
    }
   ],
   "source": [
    "np.where(np.max(I_2)!=0)"
   ]
  },
  {
   "cell_type": "code",
   "execution_count": 116,
   "id": "a4afb7f2",
   "metadata": {},
   "outputs": [
    {
     "data": {
      "text/plain": [
       "835000220854.8474"
      ]
     },
     "execution_count": 116,
     "metadata": {},
     "output_type": "execute_result"
    }
   ],
   "source": [
    "np.max(I_2[49,67:])"
   ]
  },
  {
   "cell_type": "code",
   "execution_count": 172,
   "id": "19a01b85",
   "metadata": {},
   "outputs": [],
   "source": [
    "#for i in range(I_2.shape[0]):\n",
    " #   for j in range(I_2.shape[1]):\n",
    "  #      if np.max(I_2[i, j,:]) != 0:\n",
    "   #         print(i,j)\n",
    "    "
   ]
  },
  {
   "cell_type": "markdown",
   "id": "244b9143",
   "metadata": {},
   "source": [
    "# Testing data"
   ]
  },
  {
   "cell_type": "code",
   "execution_count": 275,
   "id": "215bea86",
   "metadata": {},
   "outputs": [],
   "source": [
    "y = I_2[47, 67,:]\n",
    "peaks, stats = find_peaks(y, prominence=1e6, distance=10)"
   ]
  },
  {
   "cell_type": "code",
   "execution_count": 276,
   "id": "226db10b",
   "metadata": {},
   "outputs": [
    {
     "data": {
      "text/plain": [
       "array([216, 236, 247, 262, 279, 293, 304, 314, 325, 340, 352, 362],\n",
       "      dtype=int64)"
      ]
     },
     "execution_count": 276,
     "metadata": {},
     "output_type": "execute_result"
    }
   ],
   "source": [
    "peaks"
   ]
  },
  {
   "cell_type": "code",
   "execution_count": 277,
   "id": "9d857710",
   "metadata": {},
   "outputs": [
    {
     "data": {
      "text/plain": [
       "array([0.229754  , 0.36899885, 0.44558351, 0.55001715, 0.66837527,\n",
       "       0.76584666, 0.84243133, 0.91205375, 0.98863842, 1.09307205,\n",
       "       1.17661896, 1.24624138])"
      ]
     },
     "execution_count": 277,
     "metadata": {},
     "output_type": "execute_result"
    }
   ],
   "source": [
    "w[peaks]"
   ]
  },
  {
   "cell_type": "code",
   "execution_count": 278,
   "id": "b99d9789",
   "metadata": {},
   "outputs": [
    {
     "data": {
      "text/plain": [
       "array([2.47805148e+11, 4.26398446e+11, 2.43952866e+11, 2.09416703e+11,\n",
       "       2.89031008e+11, 7.28773256e+10, 1.32532710e+11, 4.60264240e+11,\n",
       "       5.71906279e+10, 5.80601380e+11, 8.93313531e+10, 4.53140009e+09])"
      ]
     },
     "execution_count": 278,
     "metadata": {},
     "output_type": "execute_result"
    }
   ],
   "source": [
    "stats[\"prominences\"]"
   ]
  },
  {
   "cell_type": "code",
   "execution_count": 279,
   "id": "5e8b3059",
   "metadata": {},
   "outputs": [
    {
     "data": {
      "text/plain": [
       "array([1.23902574e+12, 2.13199223e+12, 1.21976433e+12, 1.04708352e+12,\n",
       "       1.44515504e+12, 3.64386628e+11, 6.62663549e+11, 2.30132120e+12,\n",
       "       2.85953139e+11, 2.90300690e+12, 4.46656765e+11, 2.26570005e+10])"
      ]
     },
     "execution_count": 279,
     "metadata": {},
     "output_type": "execute_result"
    }
   ],
   "source": [
    "5*stats[\"prominences\"]"
   ]
  },
  {
   "cell_type": "code",
   "execution_count": 280,
   "id": "dea6d69d",
   "metadata": {},
   "outputs": [],
   "source": [
    "order = np.flip(np.argsort(stats[\"prominences\"]))\n",
    "thing = []\n",
    "ratio =5"
   ]
  },
  {
   "cell_type": "code",
   "execution_count": 281,
   "id": "6c5bb121",
   "metadata": {},
   "outputs": [
    {
     "data": {
      "text/plain": [
       "array([ 9,  7,  1,  4,  0,  2,  3,  6, 10,  5,  8, 11], dtype=int64)"
      ]
     },
     "execution_count": 281,
     "metadata": {},
     "output_type": "execute_result"
    }
   ],
   "source": [
    "order"
   ]
  },
  {
   "cell_type": "code",
   "execution_count": 282,
   "id": "8d816c49",
   "metadata": {},
   "outputs": [],
   "source": [
    "for i, j in zip(order[:-1], order[1:]):\n",
    "    if stats[\"prominences\"][i] >= ratio * stats[\"prominences\"][j]:\n",
    "        thing.append(w[peaks[i]])"
   ]
  },
  {
   "cell_type": "code",
   "execution_count": 283,
   "id": "f62405dc",
   "metadata": {},
   "outputs": [
    {
     "data": {
      "text/plain": [
       "[0.9886384167307771]"
      ]
     },
     "execution_count": 283,
     "metadata": {},
     "output_type": "execute_result"
    }
   ],
   "source": [
    "thing"
   ]
  },
  {
   "cell_type": "code",
   "execution_count": 307,
   "id": "7e9fe4af",
   "metadata": {},
   "outputs": [
    {
     "data": {
      "text/plain": [
       "Text(0.5, 1.0, 'Should NOT be counted')"
      ]
     },
     "execution_count": 307,
     "metadata": {},
     "output_type": "execute_result"
    },
    {
     "data": {
      "image/png": "[encoded data removed]",
      "text/plain": [
       "<Figure size 432x288 with 1 Axes>"
      ]
     },
     "metadata": {
      "needs_background": "light"
     },
     "output_type": "display_data"
    }
   ],
   "source": [
    "plt.scatter(w, I_2[47, 67,:])\n",
    "\n",
    "for i in w[peaks]:\n",
    "    plt.axvline(i, color='red')\n",
    "\n",
    "plt.xlabel(\"w\")\n",
    "plt.ylabel(\"Spectral Power\")\n",
    "plt.grid(True)\n",
    "plt.title(\"Should NOT be counted\")"
   ]
  },
  {
   "cell_type": "code",
   "execution_count": 285,
   "id": "8c9f0798",
   "metadata": {},
   "outputs": [
    {
     "data": {
      "text/plain": [
       "0.0"
      ]
     },
     "execution_count": 285,
     "metadata": {},
     "output_type": "execute_result"
    }
   ],
   "source": [
    "np.max(identification(47, 67, ratio=5, prominence=1e11, distance=10))"
   ]
  },
  {
   "cell_type": "code",
   "execution_count": 306,
   "id": "a8863145",
   "metadata": {},
   "outputs": [
    {
     "data": {
      "text/plain": [
       "Text(0.5, 1.0, 'Should NOT be counted')"
      ]
     },
     "execution_count": 306,
     "metadata": {},
     "output_type": "execute_result"
    },
    {
     "data": {
      "image/png": "[encoded data removed]",
      "text/plain": [
       "<Figure size 432x288 with 1 Axes>"
      ]
     },
     "metadata": {
      "needs_background": "light"
     },
     "output_type": "display_data"
    }
   ],
   "source": [
    "plt.scatter(w, I_2[47, 57,:])\n",
    "\n",
    "plt.xlabel(\"w\")\n",
    "plt.ylabel(\"Spectral Power\")\n",
    "plt.grid(True)\n",
    "plt.title(\"Should NOT be counted\")"
   ]
  },
  {
   "cell_type": "code",
   "execution_count": 304,
   "id": "4f44755d",
   "metadata": {},
   "outputs": [
    {
     "data": {
      "text/plain": [
       "0.0"
      ]
     },
     "execution_count": 304,
     "metadata": {},
     "output_type": "execute_result"
    }
   ],
   "source": [
    "np.max(identification(47, 57, ratio=5, prominence=1e11, distance=10))"
   ]
  },
  {
   "cell_type": "markdown",
   "id": "f18115c5",
   "metadata": {},
   "source": [
    "## SHould NOT be counted"
   ]
  },
  {
   "cell_type": "code",
   "execution_count": 615,
   "id": "2eae99b4",
   "metadata": {},
   "outputs": [
    {
     "data": {
      "text/plain": [
       "Text(0.5, 1.0, 'Should NOT be counted')"
      ]
     },
     "execution_count": 615,
     "metadata": {},
     "output_type": "execute_result"
    },
    {
     "data": {
      "image/png": "[encoded data removed]",
      "text/plain": [
       "<Figure size 432x288 with 1 Axes>"
      ]
     },
     "metadata": {
      "needs_background": "light"
     },
     "output_type": "display_data"
    }
   ],
   "source": [
    "l = 6\n",
    "plt.scatter(w, I_2[nonzero_indices[0][l], nonzero_indices[1][l], :])\n",
    "\n",
    "plt.xlabel(\"w\")\n",
    "plt.ylabel(\"Spectral Power\")\n",
    "plt.grid(True)\n",
    "plt.title(\"Should NOT be counted\")"
   ]
  },
  {
   "cell_type": "code",
   "execution_count": 587,
   "id": "b8ab8f7a",
   "metadata": {},
   "outputs": [],
   "source": [
    "y = I_2[nonzero_indices[0][5], nonzero_indices[1][5],:]\n",
    "peaks, stats = find_peaks(y, prominence=0.3*np.max(y), distance=10)"
   ]
  },
  {
   "cell_type": "code",
   "execution_count": 588,
   "id": "cd0040ac",
   "metadata": {},
   "outputs": [
    {
     "data": {
      "text/plain": [
       "array([280, 293, 309, 320], dtype=int64)"
      ]
     },
     "execution_count": 588,
     "metadata": {},
     "output_type": "execute_result"
    }
   ],
   "source": [
    "peaks"
   ]
  },
  {
   "cell_type": "code",
   "execution_count": 589,
   "id": "4b6380c3",
   "metadata": {},
   "outputs": [],
   "source": [
    "order = np.flip(np.argsort(stats[\"prominences\"]))\n",
    "thing = []\n",
    "ratio =5"
   ]
  },
  {
   "cell_type": "code",
   "execution_count": 590,
   "id": "621b6fe7",
   "metadata": {},
   "outputs": [],
   "source": [
    "for i, j in zip(order[:-1], order[1:]):\n",
    "    if stats[\"prominences\"][i] >= ratio * stats[\"prominences\"][j]:\n",
    "        thing.append(w[peaks[i]])"
   ]
  },
  {
   "cell_type": "code",
   "execution_count": 591,
   "id": "3bd58947",
   "metadata": {},
   "outputs": [
    {
     "data": {
      "text/plain": [
       "[]"
      ]
     },
     "execution_count": 591,
     "metadata": {},
     "output_type": "execute_result"
    }
   ],
   "source": [
    "thing"
   ]
  },
  {
   "cell_type": "code",
   "execution_count": 592,
   "id": "f6e58d95",
   "metadata": {},
   "outputs": [
    {
     "data": {
      "text/plain": [
       "Text(0.5, 1.0, 'Should NOT be counted')"
      ]
     },
     "execution_count": 592,
     "metadata": {},
     "output_type": "execute_result"
    },
    {
     "data": {
      "image/png": "[encoded data removed]",
      "text/plain": [
       "<Figure size 432x288 with 1 Axes>"
      ]
     },
     "metadata": {
      "needs_background": "light"
     },
     "output_type": "display_data"
    }
   ],
   "source": [
    "for i in w[peaks]:\n",
    "    plt.axvline(i, color='red')\n",
    "    \n",
    "plt.scatter(w, I_2[nonzero_indices[0][l], nonzero_indices[1][l],:])\n",
    "\n",
    "plt.xlabel(\"w\")\n",
    "plt.ylabel(\"Spectral Power\")\n",
    "plt.grid(True)\n",
    "plt.title(\"Should NOT be counted\")"
   ]
  },
  {
   "cell_type": "code",
   "execution_count": null,
   "id": "6a663c12",
   "metadata": {},
   "outputs": [],
   "source": []
  },
  {
   "cell_type": "code",
   "execution_count": 431,
   "id": "d9932a04",
   "metadata": {},
   "outputs": [
    {
     "data": {
      "text/plain": [
       "Text(0.5, 1.0, 'Should NOT be counted')"
      ]
     },
     "execution_count": 431,
     "metadata": {},
     "output_type": "execute_result"
    },
    {
     "data": {
      "image/png": "[encoded data removed]",
      "text/plain": [
       "<Figure size 432x288 with 1 Axes>"
      ]
     },
     "metadata": {
      "needs_background": "light"
     },
     "output_type": "display_data"
    }
   ],
   "source": [
    "plt.scatter(w, I_2[56, 53,:])\n",
    "\n",
    "plt.xlabel(\"w\")\n",
    "plt.ylabel(\"Spectral Power\")\n",
    "plt.grid(True)\n",
    "plt.title(\"Should NOT be counted\")"
   ]
  },
  {
   "cell_type": "code",
   "execution_count": null,
   "id": "65d6bd6f",
   "metadata": {},
   "outputs": [],
   "source": []
  },
  {
   "cell_type": "code",
   "execution_count": null,
   "id": "7482fee3",
   "metadata": {},
   "outputs": [],
   "source": []
  },
  {
   "cell_type": "code",
   "execution_count": null,
   "id": "6742b9c9",
   "metadata": {},
   "outputs": [],
   "source": []
  },
  {
   "cell_type": "code",
   "execution_count": null,
   "id": "1b4ddf62",
   "metadata": {},
   "outputs": [],
   "source": []
  },
  {
   "cell_type": "code",
   "execution_count": 639,
   "id": "d9f73038",
   "metadata": {},
   "outputs": [],
   "source": [
    "wj_array = []\n",
    "\n",
    "for kx in range(I_2.shape[0]):\n",
    "    for ky in range(I_2.shape[1]):\n",
    "        wj_array.append(identification(kx, ky, ratio=1/3, prominence=0.1*np.max(y), distance=10))"
   ]
  },
  {
   "cell_type": "code",
   "execution_count": 640,
   "id": "3f779472",
   "metadata": {},
   "outputs": [],
   "source": [
    "w0_2D = np.sum(wj_array, axis=0)\n",
    "# gives the 2d array w0(kx,ky)"
   ]
  },
  {
   "cell_type": "code",
   "execution_count": 641,
   "id": "ab3018b3",
   "metadata": {},
   "outputs": [],
   "source": [
    "w0 = w0_2D[w0_2D != 0]"
   ]
  },
  {
   "cell_type": "code",
   "execution_count": 642,
   "id": "000da2fe",
   "metadata": {},
   "outputs": [],
   "source": [
    "nonzero_indices = np.nonzero(w0_2D)"
   ]
  },
  {
   "cell_type": "code",
   "execution_count": 643,
   "id": "7ef3a019",
   "metadata": {},
   "outputs": [
    {
     "data": {
      "text/plain": [
       "(array([56, 60, 61, 61, 61, 61, 61, 61, 61, 61, 61, 61, 61, 62, 62, 62, 62,\n",
       "        62, 62, 62, 62, 62, 62, 62, 63, 63, 63, 63, 63, 63, 63, 63, 63, 63,\n",
       "        63, 64, 64, 64, 64, 64, 64, 64, 64, 64, 64, 64, 64, 64, 65, 65, 65,\n",
       "        65, 65, 65, 65, 65, 65, 65, 65, 65, 65, 65, 65, 66, 66, 66, 66, 66,\n",
       "        66, 66, 66, 66, 66, 66, 66, 66, 67, 67, 67, 67, 67, 67, 67, 67, 67,\n",
       "        67, 67, 67, 67, 67, 67, 67, 67, 67, 68, 68, 68, 68, 68, 68, 68, 68,\n",
       "        68, 68, 68, 68, 68, 68, 68, 68, 68, 68, 69, 69, 69, 69, 69, 69, 69,\n",
       "        69, 69, 69, 69, 69, 69, 69, 70, 70, 70, 70, 70, 70, 70, 70, 70, 70,\n",
       "        70, 70, 71, 71, 71, 71, 71, 71, 71, 71, 71, 71, 71, 71, 72, 72, 72,\n",
       "        72, 72, 72, 72, 72, 72, 72, 72, 72, 72, 73, 73, 73, 73, 73, 73, 73,\n",
       "        73, 73, 73, 74, 74, 74, 74, 75, 75, 75, 75, 75, 76], dtype=int64),\n",
       " array([55, 73, 52, 53, 70, 72, 73, 74, 75, 76, 77, 78, 79, 68, 69, 70, 71,\n",
       "        72, 73, 74, 75, 76, 77, 78, 68, 69, 70, 71, 72, 73, 74, 75, 76, 77,\n",
       "        78, 68, 69, 70, 71, 72, 73, 74, 75, 76, 77, 78, 79, 80, 66, 67, 68,\n",
       "        69, 70, 71, 72, 73, 74, 75, 76, 77, 78, 79, 80, 67, 68, 69, 70, 71,\n",
       "        72, 73, 74, 75, 76, 77, 78, 79, 50, 51, 52, 53, 67, 68, 69, 70, 71,\n",
       "        72, 73, 74, 75, 76, 77, 78, 79, 80, 51, 52, 53, 54, 67, 68, 69, 70,\n",
       "        71, 72, 73, 74, 75, 76, 77, 78, 79, 80, 51, 67, 68, 69, 70, 71, 72,\n",
       "        73, 74, 75, 76, 77, 78, 79, 67, 68, 69, 70, 71, 72, 73, 74, 75, 76,\n",
       "        77, 78, 67, 68, 69, 70, 71, 72, 73, 74, 75, 76, 77, 78, 67, 68, 69,\n",
       "        70, 71, 72, 73, 74, 75, 76, 77, 78, 79, 66, 67, 68, 69, 73, 74, 75,\n",
       "        76, 77, 78, 74, 75, 76, 77, 67, 74, 75, 76, 77, 74], dtype=int64))"
      ]
     },
     "execution_count": 643,
     "metadata": {},
     "output_type": "execute_result"
    }
   ],
   "source": [
    "nonzero_indices"
   ]
  },
  {
   "cell_type": "code",
   "execution_count": 644,
   "id": "a9980f77",
   "metadata": {},
   "outputs": [],
   "source": [
    "kx_indices = nonzero_indices[0]\n",
    "ky_indices = nonzero_indices[1]"
   ]
  },
  {
   "cell_type": "code",
   "execution_count": 645,
   "id": "269bf0d7",
   "metadata": {},
   "outputs": [
    {
     "data": {
      "text/plain": [
       "array([56, 60, 61, 61, 61, 61, 61, 61, 61, 61, 61, 61, 61, 62, 62, 62, 62,\n",
       "       62, 62, 62, 62, 62, 62, 62, 63, 63, 63, 63, 63, 63, 63, 63, 63, 63,\n",
       "       63, 64, 64, 64, 64, 64, 64, 64, 64, 64, 64, 64, 64, 64, 65, 65, 65,\n",
       "       65, 65, 65, 65, 65, 65, 65, 65, 65, 65, 65, 65, 66, 66, 66, 66, 66,\n",
       "       66, 66, 66, 66, 66, 66, 66, 66, 67, 67, 67, 67, 67, 67, 67, 67, 67,\n",
       "       67, 67, 67, 67, 67, 67, 67, 67, 67, 68, 68, 68, 68, 68, 68, 68, 68,\n",
       "       68, 68, 68, 68, 68, 68, 68, 68, 68, 68, 69, 69, 69, 69, 69, 69, 69,\n",
       "       69, 69, 69, 69, 69, 69, 69, 70, 70, 70, 70, 70, 70, 70, 70, 70, 70,\n",
       "       70, 70, 71, 71, 71, 71, 71, 71, 71, 71, 71, 71, 71, 71, 72, 72, 72,\n",
       "       72, 72, 72, 72, 72, 72, 72, 72, 72, 72, 73, 73, 73, 73, 73, 73, 73,\n",
       "       73, 73, 73, 74, 74, 74, 74, 75, 75, 75, 75, 75, 76], dtype=int64)"
      ]
     },
     "execution_count": 645,
     "metadata": {},
     "output_type": "execute_result"
    }
   ],
   "source": [
    "kx_indices"
   ]
  },
  {
   "cell_type": "code",
   "execution_count": 646,
   "id": "e9f5fa85",
   "metadata": {},
   "outputs": [
    {
     "data": {
      "text/plain": [
       "(183,)"
      ]
     },
     "execution_count": 646,
     "metadata": {},
     "output_type": "execute_result"
    }
   ],
   "source": [
    "ky_indices.shape"
   ]
  },
  {
   "cell_type": "code",
   "execution_count": 647,
   "id": "6219c83e",
   "metadata": {},
   "outputs": [
    {
     "data": {
      "text/plain": [
       "(183,)"
      ]
     },
     "execution_count": 647,
     "metadata": {},
     "output_type": "execute_result"
    }
   ],
   "source": [
    "ky_indices.shape"
   ]
  },
  {
   "cell_type": "code",
   "execution_count": 648,
   "id": "402513e1",
   "metadata": {},
   "outputs": [],
   "source": [
    "kx_trip = Kx[kx_indices]\n",
    "ky_trip = Ky[ky_indices]"
   ]
  },
  {
   "cell_type": "code",
   "execution_count": 649,
   "id": "fdfb3e28",
   "metadata": {},
   "outputs": [
    {
     "data": {
      "text/plain": [
       "array([-0.13962634,  0.08885313, -0.17770625, -0.16501295,  0.05077321,\n",
       "        0.07615982,  0.08885313,  0.10154643,  0.11423973,  0.12693304,\n",
       "        0.13962634,  0.15231964,  0.16501295,  0.02538661,  0.03807991,\n",
       "        0.05077321,  0.06346652,  0.07615982,  0.08885313,  0.10154643,\n",
       "        0.11423973,  0.12693304,  0.13962634,  0.15231964,  0.02538661,\n",
       "        0.03807991,  0.05077321,  0.06346652,  0.07615982,  0.08885313,\n",
       "        0.10154643,  0.11423973,  0.12693304,  0.13962634,  0.15231964,\n",
       "        0.02538661,  0.03807991,  0.05077321,  0.06346652,  0.07615982,\n",
       "        0.08885313,  0.10154643,  0.11423973,  0.12693304,  0.13962634,\n",
       "        0.15231964,  0.16501295,  0.17770625,  0.        ,  0.0126933 ,\n",
       "        0.02538661,  0.03807991,  0.05077321,  0.06346652,  0.07615982,\n",
       "        0.08885313,  0.10154643,  0.11423973,  0.12693304,  0.13962634,\n",
       "        0.15231964,  0.16501295,  0.17770625,  0.0126933 ,  0.02538661,\n",
       "        0.03807991,  0.05077321,  0.06346652,  0.07615982,  0.08885313,\n",
       "        0.10154643,  0.11423973,  0.12693304,  0.13962634,  0.15231964,\n",
       "        0.16501295, -0.20309286, -0.19039955, -0.17770625, -0.16501295,\n",
       "        0.0126933 ,  0.02538661,  0.03807991,  0.05077321,  0.06346652,\n",
       "        0.07615982,  0.08885313,  0.10154643,  0.11423973,  0.12693304,\n",
       "        0.13962634,  0.15231964,  0.16501295,  0.17770625, -0.19039955,\n",
       "       -0.17770625, -0.16501295, -0.15231964,  0.0126933 ,  0.02538661,\n",
       "        0.03807991,  0.05077321,  0.06346652,  0.07615982,  0.08885313,\n",
       "        0.10154643,  0.11423973,  0.12693304,  0.13962634,  0.15231964,\n",
       "        0.16501295,  0.17770625, -0.19039955,  0.0126933 ,  0.02538661,\n",
       "        0.03807991,  0.05077321,  0.06346652,  0.07615982,  0.08885313,\n",
       "        0.10154643,  0.11423973,  0.12693304,  0.13962634,  0.15231964,\n",
       "        0.16501295,  0.0126933 ,  0.02538661,  0.03807991,  0.05077321,\n",
       "        0.06346652,  0.07615982,  0.08885313,  0.10154643,  0.11423973,\n",
       "        0.12693304,  0.13962634,  0.15231964,  0.0126933 ,  0.02538661,\n",
       "        0.03807991,  0.05077321,  0.06346652,  0.07615982,  0.08885313,\n",
       "        0.10154643,  0.11423973,  0.12693304,  0.13962634,  0.15231964,\n",
       "        0.0126933 ,  0.02538661,  0.03807991,  0.05077321,  0.06346652,\n",
       "        0.07615982,  0.08885313,  0.10154643,  0.11423973,  0.12693304,\n",
       "        0.13962634,  0.15231964,  0.16501295,  0.        ,  0.0126933 ,\n",
       "        0.02538661,  0.03807991,  0.08885313,  0.10154643,  0.11423973,\n",
       "        0.12693304,  0.13962634,  0.15231964,  0.10154643,  0.11423973,\n",
       "        0.12693304,  0.13962634,  0.0126933 ,  0.10154643,  0.11423973,\n",
       "        0.12693304,  0.13962634,  0.10154643])"
      ]
     },
     "execution_count": 649,
     "metadata": {},
     "output_type": "execute_result"
    }
   ],
   "source": [
    "ky_trip"
   ]
  },
  {
   "cell_type": "code",
   "execution_count": 650,
   "id": "c4f95189",
   "metadata": {
    "scrolled": true
   },
   "outputs": [
    {
     "data": {
      "text/plain": [
       "(183,)"
      ]
     },
     "execution_count": 650,
     "metadata": {},
     "output_type": "execute_result"
    }
   ],
   "source": [
    "ky_trip.shape"
   ]
  },
  {
   "cell_type": "code",
   "execution_count": 651,
   "id": "62735fde",
   "metadata": {},
   "outputs": [
    {
     "data": {
      "text/plain": [
       "(183,)"
      ]
     },
     "execution_count": 651,
     "metadata": {},
     "output_type": "execute_result"
    }
   ],
   "source": [
    "ky_trip.shape"
   ]
  },
  {
   "cell_type": "code",
   "execution_count": 652,
   "id": "3088024f",
   "metadata": {},
   "outputs": [],
   "source": [
    "def plot_disp_shell(axes, h, z, U, psi, label='', plot_type='surf', linestyles='line', put_clabel=True):\n",
    "    g = 9.81\n",
    "    alpha = 0.5 # value that defines opacity in plot\n",
    "    dk = 0.005\n",
    "    k = np.arange(0.01, 0.35, dk)\n",
    "    dtheta=0.05\n",
    "    theta=np.arange(0, 2*np.pi+dtheta, dtheta)\n",
    "    kk, th = np.meshgrid(k, theta, indexing='ij')\n",
    "    U_eff = 2*kk*np.sum(U*np.exp(np.outer(2*kk,z)), axis=1).reshape(kk.shape)*np.abs(z[1]-z[0])\n",
    "    ww = kk*U_eff*np.cos(theta-psi) + np.sqrt(kk*g*np.tanh(kk*h))\n",
    "    kx = kk*np.cos(th)\n",
    "    ky = kk*np.sin(th)\n",
    "    if plot_type=='surf':\n",
    "        axes.plot_surface(kx, ky, ww, alpha=alpha, label=label)\n",
    "        axes.set_xlabel(r'$k_x~[\\mathrm{rad~m}^{-1}]$')\n",
    "        axes.set_ylabel(r'$k_y~[\\mathrm{rad~m}^{-1}]$')\n",
    "        axes.set_zlabel(r'$\\omega~[\\mathrm{rad~s}^{-1}]$')\n",
    "    elif plot_type=='contour':\n",
    "        levels = [0.6, 0.8, 1.0, 1.2, 1.4, 1.6, 1.8]\n",
    "        c = plt.contour(kx, ky, ww, levels=levels, linestyles=linestyles)#, label=label)\n",
    "        if put_clabel:\n",
    "            plt.clabel(c)\n",
    "        plt.xlabel(r'$k_x~[\\mathrm{rad~m}^{-1}]$') \n",
    "        plt.ylabel(r'$k_y~[\\mathrm{rad~m}^{-1}]$')\n",
    "        plt.axis('equal')\n",
    "        \n",
    "    return kx, ky, ww, kk, th"
   ]
  },
  {
   "cell_type": "code",
   "execution_count": 653,
   "id": "b123158c",
   "metadata": {},
   "outputs": [],
   "source": [
    "import matplotlib.patches as mpatches\n",
    "import matplotlib.lines as mlines"
   ]
  },
  {
   "cell_type": "code",
   "execution_count": 663,
   "id": "72f93160",
   "metadata": {},
   "outputs": [
    {
     "data": {
      "application/vnd.jupyter.widget-view+json": {
       "model_id": "e901811ac8114c3cae0774306542eb75",
       "version_major": 2,
       "version_minor": 0
      },
      "image/png": "[encoded data removed]",
      "text/html": [
       "\n",
       "            <div style=\"display: inline-block;\">\n",
       "                <div class=\"jupyter-widgets widget-label\" style=\"text-align: center;\">\n",
       "                    Figure\n",
       "                </div>\n",
       "                <img src='data:image/png;base64,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' width=1000.0/>\n",
       "            </div>\n",
       "        "
      ],
      "text/plain": [
       "Canvas(toolbar=Toolbar(toolitems=[('Home', 'Reset original view', 'home', 'home'), ('Back', 'Back to previous …"
      ]
     },
     "metadata": {},
     "output_type": "display_data"
    }
   ],
   "source": [
    "# Creating figure\n",
    "fig = plt.figure(figsize = (10, 7))\n",
    "ax = plt.axes(projection =\"3d\")\n",
    " \n",
    "# Creating plot\n",
    "ax.scatter3D(-kx_trip, -ky_trip, w0, color = \"red\", s = 5)\n",
    "plt.title(\"Spectrum\")\n",
    "\n",
    "ax.set_xlabel('x')\n",
    "ax.set_ylabel('y')\n",
    "ax.set_zlabel('η(x,y)')\n",
    "\n",
    "#kx, ky, ww, kk, th = plot_disp_shell(ax, h=1000, z=z, U=U, psi=0)\n",
    "\n",
    "# Create legend manually with a dot for 'Triplets'\n",
    "legend_elements = [\n",
    "    mlines.Line2D([0], [0], marker='o', color='w', markerfacecolor='red', markersize=10, label='Triplets'),\n",
    "    mlines.Line2D([0], [0], color='blue', label='Dispersion relation')\n",
    "]\n",
    "\n",
    "# Create legend\n",
    "ax.legend(handles=legend_elements)\n",
    " \n",
    "# show plot\n",
    "plt.show()"
   ]
  },
  {
   "cell_type": "markdown",
   "id": "ed1b22c9",
   "metadata": {},
   "source": [
    "## 1.2.4) Convert to polars"
   ]
  },
  {
   "cell_type": "code",
   "execution_count": 655,
   "id": "331f7fa0",
   "metadata": {},
   "outputs": [],
   "source": [
    "from scipy.stats import t"
   ]
  },
  {
   "cell_type": "code",
   "execution_count": 656,
   "id": "ce9af1e5",
   "metadata": {},
   "outputs": [],
   "source": [
    "# kx_2D, ky_2D= np.meshgrid(kx_trip, ky_trip, indexing='ij')\n",
    "kx_2D, ky_2D= np.meshgrid(Kx, Ky, indexing='ij')"
   ]
  },
  {
   "cell_type": "code",
   "execution_count": 657,
   "id": "fdfa48c6",
   "metadata": {},
   "outputs": [],
   "source": [
    "K_2D = np.sqrt(kx_2D**2 + ky_2D**2)\n",
    "theta_2D = np.arctan2(ky_2D, kx_2D)"
   ]
  },
  {
   "cell_type": "markdown",
   "id": "a877d95b",
   "metadata": {},
   "source": [
    "## 1.2.5) Find Effective Current"
   ]
  },
  {
   "cell_type": "code",
   "execution_count": 658,
   "id": "eab0cabe",
   "metadata": {},
   "outputs": [],
   "source": [
    "def sinusoidinal(x, a, b):\n",
    "    return a*np.cos(x - b) "
   ]
  },
  {
   "cell_type": "code",
   "execution_count": 659,
   "id": "7d2d85fe",
   "metadata": {},
   "outputs": [],
   "source": [
    "def grubbs_test(x, y):\n",
    "    \"\"\"\n",
    "    Grubb's test removes outlier in y axis and also removes the corresponding x value\n",
    "    \"\"\"\n",
    "\n",
    "    # Gets mean and standard deviation of data\n",
    "    mean_data = np.mean(y)\n",
    "    std_data = np.std(y)\n",
    "\n",
    "    # Calculate Grubbs test statistic\n",
    "    z_scores = np.abs((y - mean_data) / std_data)\n",
    "    max_z = np.max(z_scores)\n",
    "\n",
    "    # Calculate critical value based on the t-distribution\n",
    "    n = len(y)\n",
    "    critical_value = t.ppf(0.975, n - 2) / np.sqrt(n)\n",
    "\n",
    "    # Identify and removes any outlier\n",
    "    outlier_index = np.argmax(z_scores)\n",
    "    if max_z > critical_value:\n",
    "        #print(f\"Outlier detected at index {outlier_index}, value: {y[outlier_index]}\")\n",
    "        y = np.delete(y, outlier_index)\n",
    "        x = np.delete(x, outlier_index)\n",
    "\n",
    "        \n",
    "    return x, y "
   ]
  },
  {
   "cell_type": "code",
   "execution_count": 660,
   "id": "f163f7b6",
   "metadata": {},
   "outputs": [],
   "source": [
    "cut_k_array = np.arange(0.001, 0.35, 0.001)\n",
    "\n",
    "U_array = []\n",
    "Φ_array = []\n",
    "\n",
    "for i in range(len(cut_k_array)):\n",
    "    k_slice = cut_k_array[i]\n",
    "\n",
    "    ind = np.where(np.round(K_2D, 2) == k_slice)\n",
    "    \n",
    "    # Slice at wavenumber cut_k - once k is within 0.01 it is counted as a slice\n",
    "    w0_is_k = w0_2D[ind[0], ind[1]]\n",
    "    theta_is_k = theta_2D[ind[0], ind[1]]\n",
    "    \n",
    "    # w and theta values along k_slice\n",
    "    inds_where_w0_nonzero = np.where(w0_is_k != 0)\n",
    "    \n",
    "    if len(inds_where_w0_nonzero[0]) > 1:\n",
    "        # How many nonzero w0 theres needs to be to be counted (increased numbers, increases accuracy)\n",
    "        nonzero_theta_at_k = theta_is_k[inds_where_w0_nonzero]\n",
    "        nonzero_w0_at_k = w0_is_k[inds_where_w0_nonzero]\n",
    "        \n",
    "        x_theta = nonzero_theta_at_k\n",
    "        y_theta = (nonzero_w0_at_k - np.sqrt(9.81 * k_slice)) / k_slice\n",
    "        \n",
    "        # Preform Grubbs test to remove outliers\n",
    "        x_theta, y_theta = grubbs_test(x_theta, y_theta)\n",
    "        \n",
    "        # Fitting Cos onto points\n",
    "        pars0 = (max(y_theta), 1)  # initial guess\n",
    "        popt, pcov = curve_fit(sinusoidinal, x_theta, y_theta, absolute_sigma=True, p0=pars0)\n",
    "        \n",
    "        # U value\n",
    "        U_opt = popt[0]\n",
    "        U_opt_err = np.sqrt(pcov[0, 0])\n",
    "        U_array.append(np.abs(U_opt))\n",
    "        \n",
    "        # Φ\n",
    "        Φ_opt = popt[1]\n",
    "        Φ_opt_err = np.sqrt(pcov[1, 1])\n",
    "        \n",
    "        if U_opt > 0:\n",
    "            Φ_opt = np.pi - Φ_opt\n",
    "        # Condition due to definition of direction of current \n",
    "        \n",
    "        Φ_array.append(Φ_opt)\n",
    "    else:\n",
    "        # If no values in inds_where_w0_nonzero, append None or a placeholder value as needed\n",
    "        U_array.append(None)\n",
    "        Φ_array.append(None)"
   ]
  },
  {
   "cell_type": "code",
   "execution_count": 661,
   "id": "f796880a",
   "metadata": {},
   "outputs": [
    {
     "data": {
      "text/plain": [
       "(-0.5, 12.0)"
      ]
     },
     "execution_count": 661,
     "metadata": {},
     "output_type": "execute_result"
    },
    {
     "data": {
      "image/png": "[encoded data removed]",
      "text/plain": [
       "<Figure size 432x288 with 1 Axes>"
      ]
     },
     "metadata": {
      "needs_background": "light"
     },
     "output_type": "display_data"
    }
   ],
   "source": [
    "plt.scatter(cut_k_array, U_array, color = 'red', label = 'PCS Points')\n",
    "#plt.plot(k, Uk[:,0], color = 'black', linestyle = '--',  label='Correct U')\n",
    "\n",
    "plt.xlabel(\"k\")\n",
    "plt.ylabel(\"U\")\n",
    "plt.title(\"Depend of Current on Wavenumber\")\n",
    "plt.grid(True)\n",
    "plt.legend()\n",
    "plt.ylim(-0.5, 12)"
   ]
  },
  {
   "cell_type": "code",
   "execution_count": null,
   "id": "f58ac448",
   "metadata": {},
   "outputs": [],
   "source": []
  },
  {
   "cell_type": "markdown",
   "id": "a4074c02",
   "metadata": {},
   "source": [
    "# 2.1) Inverted Profile"
   ]
  },
  {
   "cell_type": "code",
   "execution_count": 145,
   "id": "091fcf77",
   "metadata": {},
   "outputs": [],
   "source": [
    "import numpy as np\n",
    "from scipy.optimize import minimize_scalar\n",
    "from scipy.special import factorial, gammaincc, gamma\n",
    "from numpy.polynomial import Polynomial\n",
    "\n",
    "def rms(x):\n",
    "    return np.sqrt(np.mean(x**2))\n",
    "\n",
    "def pedm(k_vect, c_til, nMax_vals=None, deltaz_T_vals=None, deltaz_B_vals=None, waterDepth=None):\n",
    "\n",
    "    # If user has not provided information about the waterDepth, set to infinity\n",
    "    if waterDepth is None:\n",
    "        waterDepth = np.inf\n",
    "\n",
    "    # Handling for inadequate input data.\n",
    "    if len(k_vect) == 0 or len(c_til) == 0:\n",
    "        return np.nan, np.nan, np.nan, np.nan, np.nan\n",
    "\n",
    "    # Now we start with the PEDM. The steps follow those in the manuscript in section 2.1.2 Effect of limitations of measured Doppler shifts\n",
    "    # Define the parameters.\n",
    "    # Calculate effective depths of Doppler shift velocities based on assumption of a linear profile\n",
    "    Z_eff = -(2 * k_vect) ** -1 * np.tanh(np.abs(waterDepth) * k_vect)\n",
    "\n",
    "    # Set default values for PEDM parameter combinations if inputs left blank\n",
    "    if nMax_vals is None:\n",
    "        nm = min(12, round(len(k_vect) / 2))\n",
    "        nMax_vals = np.arange(0, nm+1)\n",
    "    \n",
    "    if deltaz_T_vals is None:\n",
    "        depthRange = np.abs(Z_eff[0] - Z_eff[-1])\n",
    "        deltaz_T_vals = np.linspace(0.01, 0.2, 20) * depthRange\n",
    "\n",
    "    if deltaz_B_vals is None:\n",
    "        depthRange = np.abs(Z_eff[0] - Z_eff[-1])\n",
    "        deltaz_B_vals = np.linspace(0.02, 0.8, 20) * depthRange\n",
    "\n",
    "    z_c = max(4 * np.min(Z_eff), -np.abs(waterDepth))  # Cutoff depth chosen as 4 times the deepest mapped depth. (Set to water depth if depth is shallower)\n",
    "    # z_c is NEGATIVE by convention here\n",
    "\n",
    "    # We loop over all PEDM parameter combinations. First initialize eps_PEDM_out as well as the other outputs.\n",
    "    eps_PEDM_out = np.inf\n",
    "    eps_EDM_out = np.inf\n",
    "\n",
    "    pPEDM_out = np.nan\n",
    "    pEDM_out = np.nan\n",
    "\n",
    "    verbose = []\n",
    "    combo = 0\n",
    "\n",
    "    for nMax in nMax_vals:\n",
    "        for deltaz_B in deltaz_B_vals:\n",
    "            for deltaz_T in deltaz_T_vals:\n",
    "                # STEP 1: Fit the mapped Doppler shifts to a polynomial of order nMax.\n",
    "                p1 = np.polyfit(Z_eff, c_til, nMax)\n",
    "\n",
    "                # STEP 2: Create additional velocity-depth pairs by linearly extrapolating up to the surface and down to cutoff depth z_c\n",
    "                zB = np.linspace(0, deltaz_B, 100)\n",
    "                zT = np.linspace(-deltaz_T, 0, 100)\n",
    "\n",
    "                pTop = np.polyfit(Z_eff[-1] + zT, np.polyval(p1, Z_eff[-1] + zT), 1)\n",
    "                pBottom = np.polyfit(Z_eff[0] + zB, np.polyval(p1, Z_eff[0] + zB), 1)\n",
    "\n",
    "                depthsExBtm = np.arange(z_c, Z_eff[0] - deltaz_B, deltaz_B)\n",
    "                depthsExTop = np.concatenate((np.arange(Z_eff[-1] + deltaz_T, 0, deltaz_T), [0]))\n",
    "\n",
    "                zEx = np.concatenate((depthsExBtm, Z_eff, depthsExTop))\n",
    "                cTilEx = np.concatenate((np.polyval(pBottom, depthsExBtm), c_til, np.polyval(pTop, depthsExTop)))\n",
    "\n",
    "                # STEP 3: Perform a second polynomial fit on the expanded set of points\n",
    "                pEDM = np.polyfit(zEx, cTilEx, nMax)\n",
    "\n",
    "                # Determine if profile is monotonic with range of mapped depths.\n",
    "                nv = np.arange(nMax, 0, -1)\n",
    "                pczEx_p = nv * pEDM[:-1]  # Derivative polynomial coefficients\n",
    "                rts = np.roots(pczEx_p)  # Find roots\n",
    "                rts = rts[np.isreal(rts)]  # Discard complex roots\n",
    "\n",
    "                # If there roots of the derivative within ranges of mapped depths, don't go further.\n",
    "                if np.any((rts > Z_eff[0]) & (rts < 0)):\n",
    "                    continue\n",
    "\n",
    "                # STEP 4: Scale polynomial coefficients defining U_EDM by n! as in equation (8) in the article.\n",
    "                pPEDM_i = pEDM / factorial(np.arange(nMax, -1, -1))\n",
    "\n",
    "                # STEP 5: Create a new set of linearly extrapolated points down to z_c based on the average shear of the above polynomial function in a depth interval deltaz_B/2 at the deep end of the regime.\n",
    "                zB2 = np.linspace(0, deltaz_B/2, 100)\n",
    "                pBottom2 = np.polyfit(Z_eff[0] + zB, np.polyval(pPEDM_i, Z_eff[0] + zB), 1)\n",
    "\n",
    "                depthsExBtm2 = np.arange(z_c, Z_eff[0] - deltaz_B, deltaz_B/2)\n",
    "\n",
    "                zEx2 = np.concatenate((depthsExBtm2, Z_eff, depthsExTop))\n",
    "                Uvals = np.concatenate((np.polyval(pBottom2, depthsExBtm2), np.polyval(pPEDM_i, Z_eff), np.polyval(pPEDM_i, depthsExTop)))\n",
    "\n",
    "                # STEP 6: Perform a final polynomial fit on the expanded set of points.\n",
    "                pPEDM = np.polyfit(zEx2, Uvals, nMax)\n",
    "\n",
    "                # Calculate Doppler shifts assuming U_EDM or U_PEDM as the current profile, using the forward problem.\n",
    "                c_tilEDM = 0\n",
    "                c_tilPEDM = 0\n",
    "\n",
    "                if nMax < 2:\n",
    "                    for n in range(nMax + 1):\n",
    "                        c_tilEDM = c_tilEDM + factorial(n) * pEDM[-n-1] * (-1 / (2 * k_vect)) ** n\n",
    "                        c_tilPEDM = c_tilPEDM + factorial(n) * pPEDM[-n-1] * (-1 / (2 * k_vect)) ** n\n",
    "                else:\n",
    "                    for n in range(nMax + 1):\n",
    "                        c_tilEDM = c_tilEDM + (-1 / 2) ** (n) * k_vect ** (-n) * pEDM[-n-1] * (gammainc(1 + n, -2 * k_vect * z_c)) * gamma(n + 1)\n",
    "                        c_tilPEDM = c_tilPEDM + (-1 / 2) ** (n) * k_vect ** (-n) * pPEDM[-n-1] * (gammainc(1 + n, -2 * k_vect * z_c)) * gamma(n + 1)\n",
    "\n",
    "                # Calculate RMS differences (equation (9) in manuscript)\n",
    "                eps_EDM = rms(c_til - c_tilEDM)  # RMS difference for U_EDM\n",
    "                eps_PEDM = rms(c_til - c_tilPEDM)  # RMS difference for U_PEDM.\n",
    "\n",
    "                # Parameters nMax, deltaz_T, and deltaz_B are chosen to minimize eps_PEDM in practice.\n",
    "                if eps_PEDM < eps_PEDM_out:\n",
    "                    eps_PEDM_out = eps_PEDM\n",
    "                    pPEDM_out = pPEDM\n",
    "                    nMax_out = nMax\n",
    "                    deltaz_B_out = deltaz_B\n",
    "                    deltaz_T_out = deltaz_T\n",
    "\n",
    "                if eps_EDM < eps_EDM_out:\n",
    "                    eps_EDM_out = eps_EDM\n",
    "                    pEDM_out = pEDM\n",
    "\n",
    "                combo = combo + 1\n",
    "                verbose.append({\n",
    "                    #'pPEDM': pPEDM.tolist(),\n",
    "                    #'pEDM': pEDM.tolist(),\n",
    "                    'pPEDM': pPEDM,\n",
    "                    'pEDM': pEDM,\n",
    "                    'eps_PEDM': eps_PEDM,\n",
    "                    'eps_EDM': eps_EDM,\n",
    "                    'nMax': nMax,\n",
    "                    'deltaz_B': deltaz_B,\n",
    "                    'deltaz_T': deltaz_T\n",
    "                })\n",
    "\n",
    "                \n",
    "                #return pPEDM_out, pEDM_out, eps_PEDM_out, eps_EDM_out, verbose\n",
    "    return pPEDM_out, pEDM_out, eps_PEDM_out, eps_EDM_out, verbose\n",
    "\n",
    "# Example usage:\n",
    "pPEDM1, pEDM1, eps_PEDM1, eps_EDM1, verbose1 = pedm(wavenumbers, -Ux)\n",
    "pPEDM2, pEDM2, eps_PEDM2, eps_EDM2, verbose2 = pedm(wavenumbers, Uy)"
   ]
  },
  {
   "cell_type": "markdown",
   "id": "06c13c6a",
   "metadata": {},
   "source": [
    "## Testing"
   ]
  },
  {
   "cell_type": "code",
   "execution_count": 146,
   "id": "eb365e96",
   "metadata": {},
   "outputs": [],
   "source": [
    "matlab_ux = np.array([1.29324047095870, -1.89463189363109, -1.69708851869363, -0.669636210830390, -2.75906065502856, -1.94768284605381, -1.66698298781537, -0.899800584589916, 0.0297085589908087, -0.514835078702308, -0.0105890842080116, 0.0759766804549144, -0.0363850496987580, -0.0484059195965528, -0.0103916622911056, -0.0308550721930313, 0.398842029692605, -0.117723340988159, -0.441378683422372, 0.430707406907151, -0.699842772060439, 0.399538248189037, 0.730470696764732, -0.523203395681584, 0.499213099684858])"
   ]
  },
  {
   "cell_type": "code",
   "execution_count": null,
   "id": "b1c0dc23",
   "metadata": {},
   "outputs": [],
   "source": []
  },
  {
   "cell_type": "code",
   "execution_count": null,
   "id": "604aafaf",
   "metadata": {},
   "outputs": [],
   "source": []
  },
  {
   "cell_type": "code",
   "execution_count": 147,
   "id": "47d6894a",
   "metadata": {},
   "outputs": [],
   "source": [
    "z = np.linspace(-20, 0, 100)"
   ]
  },
  {
   "cell_type": "code",
   "execution_count": 148,
   "id": "e7f759ff",
   "metadata": {},
   "outputs": [],
   "source": [
    "U1_fun = lambda z: np.polyval(pPEDM1, z)\n",
    "U2_fun = lambda z: np.polyval(pPEDM2, z)"
   ]
  },
  {
   "cell_type": "code",
   "execution_count": 149,
   "id": "2baeca21",
   "metadata": {},
   "outputs": [
    {
     "data": {
      "text/plain": [
       "<matplotlib.legend.Legend at 0x21794024820>"
      ]
     },
     "execution_count": 149,
     "metadata": {},
     "output_type": "execute_result"
    },
    {
     "data": {
      "image/png": "[encoded data removed]",
      "text/plain": [
       "<Figure size 432x288 with 1 Axes>"
      ]
     },
     "metadata": {
      "needs_background": "light"
     },
     "output_type": "display_data"
    }
   ],
   "source": [
    "plt.plot(U1_fun(z), z, label=\"$U_{x}$\", color = 'red')\n",
    "plt.plot(U2_fun(z), z, label=\"$U_{y}$\", color = 'green')\n",
    "\n",
    "plt.scatter(-Ux, -1/(2*wavenumbers), label='EDM', color = 'black')\n",
    "#plt.scatter(-Ux, -1/(3.56*wavenumbers), label='EDM', color = 'red')\n",
    "\n",
    "plt.grid(True)\n",
    "plt.title(\"PEDM\")\n",
    "plt.xlabel(\"U [m/s]\")\n",
    "plt.ylabel(\"Depth [m]\")\n",
    "plt.legend()"
   ]
  },
  {
   "cell_type": "code",
   "execution_count": 150,
   "id": "4746bb47",
   "metadata": {},
   "outputs": [
    {
     "data": {
      "text/plain": [
       "1066"
      ]
     },
     "execution_count": 150,
     "metadata": {},
     "output_type": "execute_result"
    }
   ],
   "source": [
    "len(verbose1)"
   ]
  },
  {
   "cell_type": "code",
   "execution_count": 151,
   "id": "b50c99e2",
   "metadata": {},
   "outputs": [
    {
     "data": {
      "text/plain": [
       "array([ 0.10510466, -0.01111033])"
      ]
     },
     "execution_count": 151,
     "metadata": {},
     "output_type": "execute_result"
    }
   ],
   "source": [
    "pPEDM1"
   ]
  },
  {
   "cell_type": "code",
   "execution_count": 152,
   "id": "56c8b14f",
   "metadata": {},
   "outputs": [
    {
     "data": {
      "text/plain": [
       "{'pPEDM': array([-0.40715103]),\n",
       " 'pEDM': array([-0.40715103]),\n",
       " 'eps_PEDM': 0.994583690542734,\n",
       " 'eps_EDM': 0.994583690542734,\n",
       " 'nMax': 0,\n",
       " 'deltaz_B': 0.2334272498681132,\n",
       " 'deltaz_T': 0.1167136249340566}"
      ]
     },
     "execution_count": 152,
     "metadata": {},
     "output_type": "execute_result"
    }
   ],
   "source": [
    "verbose1[0]"
   ]
  },
  {
   "cell_type": "code",
   "execution_count": null,
   "id": "d7f707aa",
   "metadata": {},
   "outputs": [],
   "source": []
  },
  {
   "cell_type": "code",
   "execution_count": null,
   "id": "f8781c58",
   "metadata": {},
   "outputs": [],
   "source": []
  },
  {
   "cell_type": "code",
   "execution_count": null,
   "id": "df972d4f",
   "metadata": {},
   "outputs": [],
   "source": []
  },
  {
   "cell_type": "code",
   "execution_count": null,
   "id": "448195c1",
   "metadata": {},
   "outputs": [],
   "source": []
  },
  {
   "cell_type": "code",
   "execution_count": null,
   "id": "a1fd041f",
   "metadata": {},
   "outputs": [],
   "source": []
  },
  {
   "cell_type": "code",
   "execution_count": null,
   "id": "c7703f8d",
   "metadata": {},
   "outputs": [],
   "source": []
  },
  {
   "cell_type": "code",
   "execution_count": null,
   "id": "6983493a",
   "metadata": {},
   "outputs": [],
   "source": []
  },
  {
   "cell_type": "code",
   "execution_count": null,
   "id": "e72e1d0f",
   "metadata": {},
   "outputs": [],
   "source": []
  },
  {
   "cell_type": "code",
   "execution_count": null,
   "id": "2ac1e89f",
   "metadata": {},
   "outputs": [],
   "source": []
  },
  {
   "cell_type": "code",
   "execution_count": null,
   "id": "de4b8eb7",
   "metadata": {},
   "outputs": [],
   "source": []
  },
  {
   "cell_type": "code",
   "execution_count": null,
   "id": "8de32b53",
   "metadata": {},
   "outputs": [],
   "source": []
  },
  {
   "cell_type": "code",
   "execution_count": null,
   "id": "81de41b4",
   "metadata": {},
   "outputs": [],
   "source": []
  },
  {
   "cell_type": "code",
   "execution_count": null,
   "id": "57a7486c",
   "metadata": {},
   "outputs": [],
   "source": []
  },
  {
   "cell_type": "code",
   "execution_count": null,
   "id": "b0ede5a4",
   "metadata": {},
   "outputs": [],
   "source": []
  }
 ],
 "metadata": {
  "kernelspec": {
   "display_name": "Python 3",
   "language": "python",
   "name": "python3"
  },
  "language_info": {
   "codemirror_mode": {
    "name": "ipython",
    "version": 3
   },
   "file_extension": ".py",
   "mimetype": "text/x-python",
   "name": "python",
   "nbconvert_exporter": "python",
   "pygments_lexer": "ipython3",
   "version": "3.8.8"
  }
 },
 "nbformat": 4,
 "nbformat_minor": 5
}
