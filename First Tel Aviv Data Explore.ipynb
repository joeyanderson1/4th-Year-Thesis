{
 "cells": [
  {
   "cell_type": "code",
   "execution_count": 1,
   "id": "14161e7a",
   "metadata": {},
   "outputs": [],
   "source": [
    "import sys\n",
    "sys.path.append(\"C:\\\\Users\\josep\\Documents\\Anaconda\\pkgs\")\n",
    "import help_tools\n",
    "import wave_tools\n",
    "import cv2\n",
    "import h5py\n",
    "from matplotlib import cm\n",
    "import radar_tools\n",
    "import numpy as np\n",
    "from wave_tools import ConstructWave, surface_core, peak_tracking\n",
    "from wave_tools import fft_interpolate, fft_interface, Spectrum\n",
    "from wave_tools import SpectralAnalysis\n",
    "import matplotlib.pyplot as plt\n",
    "from help_tools import plotting_interface\n",
    "from wave_tools import surface_core, fft_interface, dispersionRelation\n",
    "from help_tools import plotting_interface, polar_coordinates, convolutional_filters, moving_average\n",
    "from scipy.optimize import least_squares\n",
    "from scipy.optimize import minimize\n",
    "from scipy.optimize import curve_fit\n",
    "from matplotlib.ticker import LinearLocator, FormatStrFormatter\n",
    "from tqdm import tqdm\n",
    "from mpl_toolkits.mplot3d import Axes3D\n",
    "from scipy.special import gamma, gammainc"
   ]
  },
  {
   "cell_type": "code",
   "execution_count": 156,
   "id": "e46d1f48",
   "metadata": {},
   "outputs": [],
   "source": [
    "%matplotlib widget"
   ]
  },
  {
   "cell_type": "code",
   "execution_count": 3,
   "id": "f111f893",
   "metadata": {},
   "outputs": [],
   "source": [
    "%matplotlib inline"
   ]
  },
  {
   "cell_type": "code",
   "execution_count": 4,
   "id": "94b0aef2",
   "metadata": {},
   "outputs": [],
   "source": [
    "sys.path.append(\"C:\\\\Users\\josep\\Desktop\\PHYC40900_Project TP\")"
   ]
  },
  {
   "cell_type": "code",
   "execution_count": 5,
   "id": "e3f30ad9",
   "metadata": {},
   "outputs": [],
   "source": [
    "f = h5py.File('C:\\\\Users\\josep\\Desktop\\PHYC40900_Project TP\\Real Data Sets\\First Tel-Aviv data', 'r')"
   ]
  },
  {
   "cell_type": "code",
   "execution_count": 6,
   "id": "ec4dc6fb",
   "metadata": {},
   "outputs": [
    {
     "data": {
      "text/plain": [
       "<KeysViewHDF5 ['t', 'wamos', 'x', 'y']>"
      ]
     },
     "execution_count": 6,
     "metadata": {},
     "output_type": "execute_result"
    }
   ],
   "source": [
    "f.keys()"
   ]
  },
  {
   "cell_type": "code",
   "execution_count": 7,
   "id": "14931853",
   "metadata": {},
   "outputs": [],
   "source": [
    "x = f.get('x')\n",
    "y = f.get('y')\n",
    "t = f.get('t')\n",
    "wamos = f.get('wamos')\n",
    "\n",
    "x = np.array(x)\n",
    "y = np.array(y)\n",
    "t = np.array(t)\n",
    "wamos = np.array(wamos)"
   ]
  },
  {
   "cell_type": "code",
   "execution_count": 8,
   "id": "d8026eea",
   "metadata": {},
   "outputs": [
    {
     "data": {
      "text/plain": [
       "array([[[1417., 1810., 1348., ..., 1177., 1248., 1290.],\n",
       "        [1683., 1587., 1656., ..., 1081., 1170., 1122.],\n",
       "        [1746., 1693., 1896., ..., 1224., 1224.,  660.],\n",
       "        ...,\n",
       "        [1660., 2165., 2723., ..., 1741., 1838., 1814.],\n",
       "        [1199., 1753., 2969., ..., 1440., 1491., 1646.],\n",
       "        [1723., 1653., 2290., ..., 1368., 1273., 1381.]],\n",
       "\n",
       "       [[1779., 1694., 1774., ..., 1146., 1200., 1333.],\n",
       "        [1308., 1824., 1347., ..., 1282., 1738., 1980.],\n",
       "        [1929., 1298., 1786., ..., 1466., 1441., 1760.],\n",
       "        ...,\n",
       "        [1134., 2025., 2094., ...,  768.,  664.,  721.],\n",
       "        [1568., 1677., 2112., ...,  997.,  997.,  982.],\n",
       "        [1641., 2246., 2260., ...,  963.,  705.,  983.]],\n",
       "\n",
       "       [[2277., 2936., 3201., ..., 1344., 1027.,  928.],\n",
       "        [3079., 3297., 3528., ..., 1054.,  916.,    0.],\n",
       "        [2953., 3462., 2245., ...,  984.,  984., 1095.],\n",
       "        ...,\n",
       "        [2587., 2659., 2471., ..., 1701., 1628., 1378.],\n",
       "        [2107., 2596., 2766., ..., 1192., 1192., 1062.],\n",
       "        [1684., 1793., 2590., ..., 1418., 1037.,  837.]],\n",
       "\n",
       "       ...,\n",
       "\n",
       "       [[2459., 2195., 2020., ..., 1628., 1537.,  815.],\n",
       "        [1883., 2086., 1985., ...,  907., 1265.,  890.],\n",
       "        [2182., 2154., 2469., ..., 1464.,  846.,  542.],\n",
       "        ...,\n",
       "        [1536., 1767., 1988., ..., 1248., 1213., 1152.],\n",
       "        [1908., 1515., 1486., ..., 1179., 1374., 1277.],\n",
       "        [1721., 1707., 1587., ..., 1176., 1015.,  633.]],\n",
       "\n",
       "       [[2830., 2630., 2410., ..., 1222., 1252., 1242.],\n",
       "        [2738., 2150., 1748., ...,  921.,  986., 1024.],\n",
       "        [1941., 2117., 2031., ...,  734.,  734.,  781.],\n",
       "        ...,\n",
       "        [1125., 1547., 1715., ..., 1585., 1997., 2026.],\n",
       "        [1346., 1589., 1617., ..., 1080., 1586., 1604.],\n",
       "        [1182., 1663., 1450., ..., 1154., 1512., 1424.]],\n",
       "\n",
       "       [[1924., 2092., 2399., ...,  763., 1001., 1299.],\n",
       "        [2068., 2247., 2223., ..., 1066., 1419., 1752.],\n",
       "        [2206., 1897., 2089., ..., 1243., 1490., 1936.],\n",
       "        ...,\n",
       "        [1757., 1913., 2241., ..., 1586., 1392.,  651.],\n",
       "        [1635., 1683., 1386., ..., 1441., 1441., 1212.],\n",
       "        [1936., 1911., 1544., ..., 1384., 1401., 1401.]]])"
      ]
     },
     "execution_count": 8,
     "metadata": {},
     "output_type": "execute_result"
    }
   ],
   "source": [
    "wamos"
   ]
  },
  {
   "cell_type": "code",
   "execution_count": 9,
   "id": "a45abbf8",
   "metadata": {},
   "outputs": [
    {
     "data": {
      "text/plain": [
       "4095.0"
      ]
     },
     "execution_count": 9,
     "metadata": {},
     "output_type": "execute_result"
    }
   ],
   "source": [
    "np.max(wamos)"
   ]
  },
  {
   "cell_type": "code",
   "execution_count": 10,
   "id": "105e6d2f",
   "metadata": {},
   "outputs": [
    {
     "data": {
      "text/plain": [
       "array([-247.5 , -243.75, -240.  , -236.25, -232.5 , -228.75, -225.  ,\n",
       "       -221.25, -217.5 , -213.75, -210.  , -206.25, -202.5 , -198.75,\n",
       "       -195.  , -191.25, -187.5 , -183.75, -180.  , -176.25, -172.5 ,\n",
       "       -168.75, -165.  , -161.25, -157.5 , -153.75, -150.  , -146.25,\n",
       "       -142.5 , -138.75, -135.  , -131.25, -127.5 , -123.75, -120.  ,\n",
       "       -116.25, -112.5 , -108.75, -105.  , -101.25,  -97.5 ,  -93.75,\n",
       "        -90.  ,  -86.25,  -82.5 ,  -78.75,  -75.  ,  -71.25,  -67.5 ,\n",
       "        -63.75,  -60.  ,  -56.25,  -52.5 ,  -48.75,  -45.  ,  -41.25,\n",
       "        -37.5 ,  -33.75,  -30.  ,  -26.25,  -22.5 ,  -18.75,  -15.  ,\n",
       "        -11.25,   -7.5 ,   -3.75,    0.  ,    3.75,    7.5 ,   11.25,\n",
       "         15.  ,   18.75,   22.5 ,   26.25,   30.  ,   33.75,   37.5 ,\n",
       "         41.25,   45.  ,   48.75,   52.5 ,   56.25,   60.  ,   63.75,\n",
       "         67.5 ,   71.25,   75.  ,   78.75,   82.5 ,   86.25,   90.  ,\n",
       "         93.75,   97.5 ,  101.25,  105.  ,  108.75,  112.5 ,  116.25,\n",
       "        120.  ,  123.75,  127.5 ,  131.25,  135.  ,  138.75,  142.5 ,\n",
       "        146.25,  150.  ,  153.75,  157.5 ,  161.25,  165.  ,  168.75,\n",
       "        172.5 ,  176.25,  180.  ,  183.75,  187.5 ,  191.25,  195.  ,\n",
       "        198.75,  202.5 ,  206.25,  210.  ,  213.75,  217.5 ,  221.25,\n",
       "        225.  ,  228.75,  232.5 ,  236.25,  240.  ,  243.75])"
      ]
     },
     "execution_count": 10,
     "metadata": {},
     "output_type": "execute_result"
    }
   ],
   "source": [
    "x"
   ]
  },
  {
   "cell_type": "code",
   "execution_count": 11,
   "id": "5f9574b8",
   "metadata": {},
   "outputs": [
    {
     "data": {
      "text/plain": [
       "(366,)"
      ]
     },
     "execution_count": 11,
     "metadata": {},
     "output_type": "execute_result"
    }
   ],
   "source": [
    "t.shape"
   ]
  },
  {
   "cell_type": "code",
   "execution_count": 12,
   "id": "94625a52",
   "metadata": {},
   "outputs": [
    {
     "data": {
      "text/plain": [
       "(366, 132, 132)"
      ]
     },
     "execution_count": 12,
     "metadata": {},
     "output_type": "execute_result"
    }
   ],
   "source": [
    "wamos.shape"
   ]
  },
  {
   "cell_type": "code",
   "execution_count": 13,
   "id": "c422f46d",
   "metadata": {},
   "outputs": [
    {
     "data": {
      "text/plain": [
       "-3.75"
      ]
     },
     "execution_count": 13,
     "metadata": {},
     "output_type": "execute_result"
    }
   ],
   "source": [
    "y[4] - y[5]"
   ]
  },
  {
   "cell_type": "code",
   "execution_count": 14,
   "id": "22a7969c",
   "metadata": {},
   "outputs": [],
   "source": [
    "dx = x[1] - x[0]\n",
    "dy = y[1] - y[0]\n",
    "dt = t[1] - t[0]"
   ]
  },
  {
   "cell_type": "code",
   "execution_count": 15,
   "id": "faef08c8",
   "metadata": {},
   "outputs": [
    {
     "data": {
      "text/plain": [
       "(366, 132, 132)"
      ]
     },
     "execution_count": 15,
     "metadata": {},
     "output_type": "execute_result"
    }
   ],
   "source": [
    "wamos.shape"
   ]
  },
  {
   "cell_type": "code",
   "execution_count": 16,
   "id": "c5438ad5",
   "metadata": {},
   "outputs": [
    {
     "data": {
      "text/plain": [
       "0.01269330365086785"
      ]
     },
     "execution_count": 16,
     "metadata": {},
     "output_type": "execute_result"
    }
   ],
   "source": [
    "dk = 2*np.pi/(dx*min(wamos.shape[0], wamos.shape[1]))\n",
    "dk"
   ]
  },
  {
   "cell_type": "code",
   "execution_count": 17,
   "id": "612f4b98",
   "metadata": {},
   "outputs": [
    {
     "data": {
      "text/plain": [
       "array([0.03807991, 0.05077321, 0.06346652, 0.07615982, 0.08885313,\n",
       "       0.10154643, 0.11423973, 0.12693304, 0.13962634, 0.15231964,\n",
       "       0.16501295, 0.17770625, 0.19039955, 0.20309286, 0.21578616,\n",
       "       0.22847947, 0.24117277, 0.25386607, 0.26655938, 0.27925268,\n",
       "       0.29194598, 0.30463929, 0.31733259, 0.33002589, 0.3427192 ])"
      ]
     },
     "execution_count": 17,
     "metadata": {},
     "output_type": "execute_result"
    }
   ],
   "source": [
    "wavenumbers = np.arange(3 * dk, 0.35, dk)\n",
    "wavenumbers"
   ]
  },
  {
   "cell_type": "markdown",
   "id": "6856125f",
   "metadata": {},
   "source": [
    "# 1) NSP Method"
   ]
  },
  {
   "cell_type": "markdown",
   "id": "309af8a5",
   "metadata": {},
   "source": [
    "## 1.1) NSP Implementation"
   ]
  },
  {
   "cell_type": "code",
   "execution_count": 18,
   "id": "95bb60ea",
   "metadata": {},
   "outputs": [],
   "source": [
    "maxFrequency = 4.0 \n",
    "\n",
    "kW = 1*dk\n",
    "# Half width of wavenumbers bins [rad/m]\n",
    "\n",
    "frequencyLimits = [0.01, 20.0]\n",
    "# frequency limits for masking the spectrum [min max], rad/sec\n",
    "\n",
    "Ux_limits = [-1, 1]\n",
    "# Ux current limits [m/s]\n",
    "\n",
    "Uy_limits = [-1, 1]\n",
    "# Uy current limts [m/s]\n",
    "\n",
    "U_res = 0.1\n",
    "# Current step size [m/s]\n",
    "\n",
    "omegaWidthFun = lambda k: 0.05 + 0.0 * k"
   ]
  },
  {
   "cell_type": "code",
   "execution_count": 19,
   "id": "4081fce1",
   "metadata": {},
   "outputs": [],
   "source": [
    "Uym, Uxm = np.meshgrid(np.arange(min(Uy_limits), max(Uy_limits) + U_res, U_res),\n",
    "                       np.arange(min(Ux_limits), max(Ux_limits) + U_res, U_res))"
   ]
  },
  {
   "cell_type": "code",
   "execution_count": 20,
   "id": "28b6623b",
   "metadata": {},
   "outputs": [],
   "source": [
    "h = np.inf\n",
    "g = 9.81\n",
    "T = 0.072 / 1000"
   ]
  },
  {
   "cell_type": "code",
   "execution_count": 21,
   "id": "c7fc33dd",
   "metadata": {},
   "outputs": [],
   "source": [
    "from scipy.fftpack import fftn, fftshift\n",
    "\n",
    "def retrieve_power_spectrum(IMG_3D, dx, dy, dt, K_limits=None, W_limits=None):\n",
    "    # Set default values for K_limits and W_limits if not provided\n",
    "    if K_limits is None:\n",
    "        K_limits = [-np.inf, np.inf]\n",
    "    if W_limits is None:\n",
    "        W_limits = [-np.inf, np.inf]\n",
    "\n",
    "    # Check limits\n",
    "    if any(np.array(K_limits) < 0):\n",
    "        print('retrieve_positive_spectrum: K_limits smaller than 0')\n",
    "    if any(np.array(W_limits) < 0):\n",
    "        print('retrieve_positive_spectrum: W_limits smaller than 0')\n",
    "\n",
    "    # Get Kx, Ky, and w axes\n",
    "    Nt, Nx, Ny = IMG_3D.shape\n",
    "    Kx = (2 * np.pi * 1 / dx / Nx) * np.arange(-np.ceil((Nx - 1) / 2), np.floor((Nx - 1) / 2) + 1)\n",
    "    Ky = (2 * np.pi * 1 / dy / Ny) * np.arange(-np.ceil((Ny - 1) / 2), np.floor((Ny - 1) / 2) + 1)\n",
    "    w = (2 * np.pi * 1 / dt / Nt) * np.arange(-np.ceil((Nt - 1) / 2), np.floor((Nt - 1) / 2) + 1)\n",
    "\n",
    "    dKx = Kx[1] - Kx[0]\n",
    "    dKy = Ky[1] - Ky[0]\n",
    "    dW = w[1] - w[0]\n",
    "    Norm = dKx * dKy * dW\n",
    "\n",
    "    # Get power spectra\n",
    "    Spectrum_raw = fftshift(fftn(IMG_3D) / np.prod(IMG_3D.shape))\n",
    "    power_Spectrum = np.abs(Spectrum_raw / Norm)**2\n",
    "\n",
    "    # Get index boundaries\n",
    "    ind_x = np.abs(Kx) <= K_limits[1]\n",
    "    ind_y = np.abs(Ky) <= K_limits[1]\n",
    "    ind_w = (w >= W_limits[0]) & (w <= W_limits[1])\n",
    "\n",
    "    # Create 3D structure using meshgrid\n",
    "    W_3D, Kx_3D, Ky_3D = np.meshgrid(w[ind_w], Kx[ind_x], Ky[ind_y], indexing='ij')\n",
    "\n",
    "    # Use np.ix_ for boolean indexing to extract the desired values\n",
    "    power_Spectrum_cut = power_Spectrum[np.ix_(ind_w, ind_x, ind_y)]\n",
    "\n",
    "    # Set to NaN values outside K_limits\n",
    "    K_3D = np.sqrt(Kx_3D**2 + Ky_3D**2)\n",
    "    power_Spectrum_cut[(K_3D < K_limits[0]) | (K_3D > K_limits[1])] = np.nan\n",
    "\n",
    "    # Get original spectrum limits\n",
    "    Kx_orig_limits = [Kx[0], Kx[-1]]\n",
    "    Ky_orig_limits = [Ky[0], Ky[-1]]\n",
    "    W_orig_limits = [w[0], w[-1]]\n",
    "\n",
    "    # Normalize spectra (sum(power_Spectrum_cut(:)) = 1)\n",
    "    power_Spectrum_cut /= np.nansum(power_Spectrum_cut)\n",
    "\n",
    "    # Create output structure\n",
    "    Spectrum = {'power_Spectrum': power_Spectrum_cut,\n",
    "                'Kx_3D': Kx_3D, 'Ky_3D': Ky_3D, 'W_3D': W_3D,\n",
    "                'dKx': dKx, 'dKy': dKy, 'dW': dW,\n",
    "                'Kx_orig_limits': Kx_orig_limits, 'Ky_orig_limits': Ky_orig_limits,\n",
    "                'W_orig_limits': W_orig_limits}\n",
    "\n",
    "    return Spectrum"
   ]
  },
  {
   "cell_type": "code",
   "execution_count": 22,
   "id": "ba4c27e1",
   "metadata": {},
   "outputs": [],
   "source": [
    "from scipy.optimize import minimize\n",
    "import matplotlib.pyplot as plt\n",
    "\n",
    "def get_doppler_shift_velocities_nsp(Spectrum, fit_param, Properties, verboseFig=False):\n",
    "    \n",
    "    out_fit = {'wavenumbers': fit_param['wavenumbers'],\n",
    "               'Ux': np.zeros(len([fit_param['wavenumbers']])),\n",
    "               'Uy': np.zeros(len([fit_param['wavenumbers']])),\n",
    "               'SNR_max': np.zeros(len([fit_param['wavenumbers']])),\n",
    "               'Ux_2D': fit_param['Ux_2D'],\n",
    "               'Uy_2D': fit_param['Uy_2D'],\n",
    "               'verbose': []}\n",
    "\n",
    "    h = Properties['h']\n",
    "    g = Properties['g']\n",
    "    T = Properties['T']\n",
    "    omegaWidthFun = fit_param['omegaWidthFun']\n",
    "    wavenumbers = fit_param['wavenumbers']\n",
    "\n",
    "    for jj in range(len([fit_param['wavenumbers']])):\n",
    "        P = {'h': h, 'g': g, 'T': T,\n",
    "             'omegaWidth': omegaWidthFun(wavenumbers)}\n",
    "\n",
    "        snrG = np.zeros(fit_param['Ux_2D'].shape)\n",
    "\n",
    "        for i in range(fit_param['Ux_2D'].shape[0]):\n",
    "            for j in range(fit_param['Ux_2D'].shape[1]):\n",
    "                snr_ij, _, _ = nsp_doppler_shift_extraction(Spectrum, P, wavenumbers, fit_param['Ux_2D'][i, j], fit_param['Uy_2D'][i, j])\n",
    "                snrG[i, j] = snr_ij\n",
    "\n",
    "        im = np.argmax(snrG)\n",
    "\n",
    "        if np.ndim(fit_param['Ux_2D']) == 1:\n",
    "            cDoppGuess = fit_param['Ux_2D'][im]\n",
    "        else:\n",
    "            cDoppGuess = [fit_param['Ux_2D'].flat[im], fit_param['Uy_2D'].flat[im]]\n",
    "\n",
    "        options = {'disp': False}  # Turn off display output\n",
    "        Ufit = minimize(lambda U: 1 - nsp_doppler_shift_extraction(Spectrum, P, fit_param['wavenumbers'], U[0], U[1])[0] if np.ndim(U) > 1 else 1 - nsp_doppler_shift_extraction(Spectrum, P, fit_param['wavenumbers'], U[0], U[1])[0], \n",
    "                        cDoppGuess, options=options)\n",
    "\n",
    "        if len(cDoppGuess) > 1:\n",
    "            Ufit = Ufit.x\n",
    "        else:\n",
    "            Ufit = [Ufit.x[0], 0]\n",
    "\n",
    "        SNR_fit, _, _ = nsp_doppler_shift_extraction(Spectrum, P, wavenumbers, Ufit[0], Ufit[1])\n",
    "\n",
    "        out_fit['Ux'][jj] = Ufit[0]\n",
    "        out_fit['Uy'][jj] = Ufit[1]\n",
    "        out_fit['SNR_max'][jj] = SNR_fit\n",
    "\n",
    "        verbose = {'k': fit_param['wavenumbers'], 'SNR_2D': snrG, 'Peaks_2D': find_peaks(snrG)}\n",
    "        out_fit['verbose'].append(verbose)\n",
    "\n",
    "    # Post-processing\n",
    "    out_fit['Ux_filt'] = out_fit['Ux'].copy()\n",
    "    out_fit['Uy_filt'] = out_fit['Uy'].copy()\n",
    "    out_fit['SNR_max'] = out_fit['SNR_max'].copy()\n",
    "\n",
    "    return out_fit"
   ]
  },
  {
   "cell_type": "code",
   "execution_count": 23,
   "id": "a5a7c471",
   "metadata": {},
   "outputs": [],
   "source": [
    "def nsp_doppler_shift_extraction(Spectrum, params, kval, U, V):\n",
    "    # Define wave dispersion relation.\n",
    "    omegaFun = lambda kx, ky: np.sqrt((params['g']*np.sqrt(kx**2 + ky**2) + params['T']*np.sqrt(kx**2 + ky**2)**3) * np.tanh(np.sqrt(kx**2 + ky**2) * params['h'])) + U*kx + V*ky\n",
    "\n",
    "    # Frequency width of weighting function (1/e^2 halfwidth)\n",
    "    a = params['omegaWidth']\n",
    "\n",
    "    if 'logFlag' not in params:\n",
    "        params['logFlag'] = 0\n",
    "\n",
    "    if 'include2ndHarmonic' not in params:\n",
    "        params['include2ndHarmonic'] = 0\n",
    "\n",
    "    if 'kWidth' in params:\n",
    "        a_k = params['kWidth']\n",
    "    else:\n",
    "        a_k = max(Spectrum['dKx'], Spectrum['dKy']) * 2\n",
    "\n",
    "    inds = ~np.isnan(Spectrum['power_Spectrum'])\n",
    "\n",
    "    P_k = np.sqrt(Spectrum['power_Spectrum'][inds])\n",
    "    KX = Spectrum['Kx_3D'][inds]\n",
    "    KY = Spectrum['Ky_3D'][inds]\n",
    "    W = Spectrum['W_3D'][inds]\n",
    "\n",
    "    if params['include2ndHarmonic']:\n",
    "        inds2 = ~np.isnan(Spectrum['power_Spectrum2'])\n",
    "        P_k2 = np.sqrt(Spectrum['power_Spectrum2'][inds2])\n",
    "        KX2 = Spectrum['Kx_3D2'][inds2]\n",
    "        KY2 = Spectrum['Ky_3D2'][inds2]\n",
    "        W2 = Spectrum['W_3D2'][inds2]\n",
    "        omegaFun2 = lambda kx, ky: np.sqrt(2) * np.sqrt((params['g']*np.sqrt(kx**2 + ky**2) + params['T']*np.sqrt(kx**2 + ky**2)**3) * np.tanh(np.sqrt(kx**2 + ky**2) * params['h']) + U*kx + V*ky)\n",
    "    else:\n",
    "        P_k2 = 0\n",
    "\n",
    "    if params['logFlag']:\n",
    "        P_k = np.log(P_k)\n",
    "        P_k = P_k - np.min(P_k)\n",
    "\n",
    "        if params['include2ndHarmonic']:\n",
    "            P_k2 = np.log(P_k2)\n",
    "            P_k2 = P_k2 - np.min(P_k2)\n",
    "\n",
    "    K = np.sqrt(KX**2 + KY**2)\n",
    "    order = 2\n",
    "\n",
    "    if not np.isnan(kval):\n",
    "        P_k = P_k * np.exp(-2*((K-kval)/a_k)**order)\n",
    "\n",
    "    # Define weighting function G\n",
    "    G1 = np.exp(-2*((W - omegaFun(KX, KY))/max(a))**order)\n",
    "    G2 = np.exp(-2*((W + omegaFun(-KX, -KY))/max(a))**order)\n",
    "\n",
    "    G = G1 + G2\n",
    "\n",
    "    if params['include2ndHarmonic']:\n",
    "        G1_2 = np.exp(-2*((W2 - omegaFun2(KX2, KY2))/a)**order)\n",
    "        G2_2 = np.exp(-2*((W2 + omegaFun2(-KX2, -KY2))/a)**order)\n",
    "\n",
    "        G_2 = G1_2 + G2_2\n",
    "\n",
    "        P_k2[~np.isfinite(P_k2)] = 0\n",
    "\n",
    "        signal_2 = np.sum(P_k2*G_2)/np.sum(G_2)\n",
    "        noise_2 = np.sum(P_k2*(1-G_2))/np.sum(1-G_2)\n",
    "    else:\n",
    "        signal_2 = 0\n",
    "        noise_2 = 0\n",
    "\n",
    "    P_k[~np.isfinite(P_k)] = 0\n",
    "    InP = P_k * G\n",
    "\n",
    "    signal_1 = np.sum(InP)/np.sum(G)\n",
    "    noise_1 = np.sum(P_k*(1-G))/np.sum(1-G)\n",
    "    SNR = (signal_1 + signal_2)/(noise_1 + noise_2)\n",
    "\n",
    "    return SNR, P_k, G"
   ]
  },
  {
   "cell_type": "code",
   "execution_count": 24,
   "id": "619f6343",
   "metadata": {},
   "outputs": [],
   "source": [
    "wavenumberLimits = []\n",
    "\n",
    "for jj in range(len(wavenumbers)):\n",
    "    wavenumberLimits_range = wavenumbers[jj] + kW * np.array([-1,1])\n",
    "    wavenumberLimits.append(wavenumberLimits_range)"
   ]
  },
  {
   "cell_type": "code",
   "execution_count": 25,
   "id": "00d1b6a0",
   "metadata": {},
   "outputs": [
    {
     "name": "stderr",
     "output_type": "stream",
     "text": [
      "Processing wavenumbers: 100%|██████████| 25/25 [05:20<00:00, 12.81s/it]\n"
     ]
    }
   ],
   "source": [
    "Spectrum_at_k = []\n",
    "\n",
    "ind_x_at_k = []\n",
    "ind_y_at_k = []\n",
    "ind_w_at_k = []\n",
    "\n",
    "W_3D_at_k = []\n",
    "Kx_3D_at_k = []\n",
    "Ky_3D_at_k = []\n",
    "\n",
    "Ux_at_k = []\n",
    "Uy_at_k = []\n",
    "\n",
    "SNR_max_at_k = []\n",
    "\n",
    "snrG_at_k = []\n",
    "\n",
    "im_at_k = []\n",
    "cDoppGuess_at_k = []\n",
    "\n",
    "Ux_at_k_correct = []\n",
    "Uy_at_k_correct = []\n",
    "\n",
    "# Initialize the tqdm progress bar outside the loop\n",
    "progress_bar = tqdm(total=len(wavenumberLimits), desc=\"Processing wavenumbers\")\n",
    "\n",
    "for i in range(len(wavenumberLimits)):\n",
    "    # i is the index of each wavenumber\n",
    "    \n",
    "    fit_param = {'wavenumbers': wavenumbers[i],\n",
    "     'include2ndHarmonic': 0,\n",
    "     'logFlag': [],\n",
    "     'SNR_filter': 0,\n",
    "     'SNR_threshold': 1,\n",
    "     'Peak_filter': 0,\n",
    "     'Peak_threshold': 0.5,\n",
    "     'Outlier_filter': 0,\n",
    "     'kWidth': 0.050015405430285265,\n",
    "     'Ux_2D': Uxm, \n",
    "     'Uy_2D': Uym}\n",
    "    \n",
    "    P = {'h': h, 'g': g, 'T': T,\n",
    "             'omegaWidth': omegaWidthFun(wavenumbers),\n",
    "             'kWidth': fit_param['kWidth'],\n",
    "             'logFlag': fit_param['logFlag'],\n",
    "             'include2ndHarmonic': fit_param['include2ndHarmonic']}\n",
    "    \n",
    "    Spectrum = retrieve_power_spectrum(wamos, dx, dy, dt, K_limits=wavenumberLimits[i], W_limits=frequencyLimits)\n",
    "    Spectrum_at_k.append(Spectrum)\n",
    "    \n",
    "    Nt, Nx, Ny = wamos.shape\n",
    "    \n",
    "    Kx = (2 * np.pi * 1 / dx / Nx) * np.arange(-np.ceil((Nx - 1) / 2), np.floor((Nx - 1) / 2) + 1) # 67 values\n",
    "    Ky = (2 * np.pi * 1 / dy / Ny) * np.arange(-np.ceil((Ny - 1) / 2), np.floor((Ny - 1) / 2) + 1) # 67 Values\n",
    "    w = (2 * np.pi * 1 / dt / Nt) * np.arange(-np.ceil((Nt - 1) / 2), np.floor((Nt - 1) / 2) + 1) # 1200 Values\n",
    "    # w = spec3d.get_C()[0]\n",
    "    # Kx = spec3d.get_C()[1]\n",
    "    # Ky = spec3d.get_C()[2]\n",
    "    \n",
    "    dKx = Kx[1] - Kx[0]\n",
    "    dKy = Ky[1] - Ky[0]\n",
    "    dW = w[1] - w[0]\n",
    "    # kx, ky and w resolution\n",
    "    \n",
    "    Norm = dKx * dKy * dW\n",
    "    \n",
    "    # Get power spectra (1200, 67, 67)\n",
    "    Spectrum_raw = fftshift(fftn(wamos) / np.prod(wamos.shape))\n",
    "    power_Spectrum = np.abs(Spectrum_raw / Norm)**2\n",
    "    # ?? how is this related to FFT spec3d.spectrum()\n",
    "    \n",
    "    ind_x = np.abs(Kx) <= wavenumberLimits[i][1]\n",
    "    ind_x_at_k.append(ind_x)\n",
    "    ind_y = np.abs(Ky) <= wavenumberLimits[i][1]\n",
    "    ind_y_at_k.append(ind_y)\n",
    "    # Is the absolute values of Kx and Ky smaller than the upper value of the wavenumber range \n",
    "    \n",
    "    ind_w = (w >= frequencyLimits[0]) & (w <= frequencyLimits[1])\n",
    "    ind_w_at_k.append(ind_w)\n",
    "    # Is the value of w between the frequency limits 0.01 and 20 \n",
    "    \n",
    "    # Create 3D structure where it only includes w,Kx,Ky that are in the ranges required by wavenumberLimits\n",
    "    W_3D, Kx_3D, Ky_3D = np.meshgrid( w[ind_w_at_k[i]], Kx[ind_x_at_k[i]] , Ky[ind_y_at_k[i]] , indexing='ij')\n",
    "    W_3D_at_k.append(W_3D)\n",
    "    Kx_3D_at_k.append(Kx_3D)\n",
    "    Ky_3D_at_k.append(Ky_3D)\n",
    "    \n",
    "    \n",
    "    Ux_2D = Uxm\n",
    "    Uy_2D = Uym\n",
    "    \n",
    "    snrG = np.zeros(Ux_2D.shape)\n",
    "    \n",
    "    for m in range(Ux_2D.shape[0]):\n",
    "        for n in range(Ux_2D.shape[1]):\n",
    "            snr_mn, _, _ = nsp_doppler_shift_extraction(Spectrum, P, wavenumbers[i], Ux_2D[m, n], Uy_2D[m, n])\n",
    "            snrG[m, n] = snr_mn\n",
    "            \n",
    "            \n",
    "    snrG_at_k.append(snrG)\n",
    "    # Append the 2D array to the list\n",
    "    \n",
    "    \n",
    "    im = np.argmax(snrG_at_k[i])\n",
    "    im_at_k.append(im)\n",
    "    \n",
    "    if np.ndim(Ux_2D) == 1:\n",
    "        cDoppGuess = Ux_2D[im]\n",
    "    else:\n",
    "        Ux_1D = Ux_2D.flatten()\n",
    "        Uy_1D = Uy_2D.flatten()\n",
    "        cDoppGuess = [Ux_1D[im], Uy_1D[im]]\n",
    "    \n",
    "    cDoppGuess_at_k.append(cDoppGuess)\n",
    "    \n",
    "    \n",
    "    Ufit = minimize(lambda U: 1 - nsp_doppler_shift_extraction(Spectrum, P, fit_param['wavenumbers'], U[0], U[1])[0], cDoppGuess)\n",
    "    \n",
    "    Ux = Ufit.x[0]\n",
    "    Uy = Ufit.x[1]\n",
    "    \n",
    "    Ux_at_k_correct.append(Ux)\n",
    "    Uy_at_k_correct.append(Uy)\n",
    "    \n",
    "    # Update the tqdm progress bar\n",
    "    progress_bar.update(1)\n",
    "\n",
    "# Close the tqdm progress bar after the loop is finished\n",
    "progress_bar.close()"
   ]
  },
  {
   "cell_type": "code",
   "execution_count": 26,
   "id": "6e248d0b",
   "metadata": {},
   "outputs": [],
   "source": [
    "Ux = np.array(Ux_at_k_correct)\n",
    "Uy = np.array(Uy_at_k_correct)"
   ]
  },
  {
   "cell_type": "code",
   "execution_count": 27,
   "id": "661096e1",
   "metadata": {},
   "outputs": [
    {
     "data": {
      "text/plain": [
       "Text(0.5, 1.0, 'Effective Current $|U|$')"
      ]
     },
     "execution_count": 27,
     "metadata": {},
     "output_type": "execute_result"
    },
    {
     "data": {
      "image/png": "[encoded data removed]",
      "text/plain": [
       "<Figure size 432x288 with 1 Axes>"
      ]
     },
     "metadata": {
      "needs_background": "light"
     },
     "output_type": "display_data"
    }
   ],
   "source": [
    "#plt.scatter(wavenumbers, np.abs(Ux), label='Ux', color = 'blue')\n",
    "#plt.scatter(wavenumbers, np.abs(Uy), label='Uy', color = 'red')\n",
    "plt.scatter(wavenumbers, np.sqrt(Ux**2+Uy**2), label='|U|', color = 'green')\n",
    "\n",
    "plt.grid(True)\n",
    "plt.legend()\n",
    "plt.ylabel(\"U [m/s]\")\n",
    "plt.xlabel(\"Wavenumber [rad/m]\")\n",
    "plt.title('Effective Current $|U|$')\n",
    "\n",
    "#plt.ylim(0, 1)\n",
    "#plt.xlim(0, 0.31)"
   ]
  },
  {
   "cell_type": "markdown",
   "id": "15868782",
   "metadata": {},
   "source": [
    "## 1.2) Fitting Higher Wavenumbers"
   ]
  },
  {
   "cell_type": "code",
   "execution_count": 28,
   "id": "095abac7",
   "metadata": {},
   "outputs": [],
   "source": [
    "x1 = wavenumbers\n",
    "y1 = np.sqrt(Ux**2+Uy**2)"
   ]
  },
  {
   "cell_type": "code",
   "execution_count": 29,
   "id": "44705ce9",
   "metadata": {},
   "outputs": [
    {
     "data": {
      "text/plain": [
       "(25,)"
      ]
     },
     "execution_count": 29,
     "metadata": {},
     "output_type": "execute_result"
    }
   ],
   "source": [
    "x1.shape"
   ]
  },
  {
   "cell_type": "code",
   "execution_count": 30,
   "id": "60efe650",
   "metadata": {},
   "outputs": [
    {
     "data": {
      "text/plain": [
       "0.15231964381041418"
      ]
     },
     "execution_count": 30,
     "metadata": {},
     "output_type": "execute_result"
    }
   ],
   "source": [
    "x1[9]"
   ]
  },
  {
   "cell_type": "code",
   "execution_count": 31,
   "id": "04a0d853",
   "metadata": {},
   "outputs": [
    {
     "data": {
      "text/plain": [
       "1.2593068332353592"
      ]
     },
     "execution_count": 31,
     "metadata": {},
     "output_type": "execute_result"
    }
   ],
   "source": [
    "y1[9]"
   ]
  },
  {
   "cell_type": "code",
   "execution_count": 38,
   "id": "23b7f5b0",
   "metadata": {},
   "outputs": [],
   "source": [
    "#filtered_x = np.insert( x1, 0, 0)\n",
    "#filtered_y = np.insert( y1, 0, 0)\n",
    "# add (0,0) as a point\n",
    "\n",
    "filtered_x = np.insert( x1, 0, 1*10**-8)\n",
    "filtered_y = np.insert( y1, 0, 1*10**-8)"
   ]
  },
  {
   "cell_type": "code",
   "execution_count": 39,
   "id": "a63ad331",
   "metadata": {},
   "outputs": [],
   "source": [
    "def cubic(x):\n",
    "    return 3*(x-1)**3-x**2-4*x+5"
   ]
  },
  {
   "cell_type": "markdown",
   "id": "62d2cfca",
   "metadata": {},
   "source": [
    "## 1.2.1) Fit Power Law"
   ]
  },
  {
   "cell_type": "code",
   "execution_count": 40,
   "id": "2ca70822",
   "metadata": {},
   "outputs": [],
   "source": [
    "def fpow(x, a, b, c):\n",
    "    return a*x**b+c"
   ]
  },
  {
   "cell_type": "code",
   "execution_count": 41,
   "id": "152a4cc1",
   "metadata": {},
   "outputs": [
    {
     "data": {
      "image/png": "[encoded data removed]",
      "text/plain": [
       "<Figure size 432x288 with 1 Axes>"
      ]
     },
     "metadata": {
      "needs_background": "light"
     },
     "output_type": "display_data"
    }
   ],
   "source": [
    "# plot the raw data\n",
    "plt.errorbar(filtered_x, filtered_y, yerr=0, fmt=\".\", color = 'black', label = 'data')\n",
    "plt.grid(True)\n",
    "plt.ylabel(\"U [m/s]\")\n",
    "plt.xlabel(\"Wavenumber [rad/m]\")\n",
    "\n",
    "# initial guess\n",
    "pars0 = (1, 0.4, 0.5)\n",
    " \n",
    "x = np.linspace(0, max(filtered_x), 1000)\n",
    "\n",
    "plt.plot(x, fpow(x,*pars0), color = 'red', label = 'guess parameters')\n",
    "plt.legend();\n",
    "plt.title(\"Power Law fit\");"
   ]
  },
  {
   "cell_type": "code",
   "execution_count": 42,
   "id": "9a91ff1a",
   "metadata": {},
   "outputs": [
    {
     "name": "stderr",
     "output_type": "stream",
     "text": [
      "C:\\Users\\josep\\Documents\\Anaconda\\lib\\site-packages\\scipy\\optimize\\_minpack_py.py:881: OptimizeWarning: Covariance of the parameters could not be estimated\n",
      "  warnings.warn('Covariance of the parameters could not be estimated',\n"
     ]
    },
    {
     "data": {
      "image/png": "[encoded data removed]",
      "text/plain": [
       "<Figure size 432x288 with 1 Axes>"
      ]
     },
     "metadata": {
      "needs_background": "light"
     },
     "output_type": "display_data"
    }
   ],
   "source": [
    "# perform fitting\n",
    "popt, pcov = curve_fit(fpow, filtered_x, filtered_y, absolute_sigma=True, p0=pars0, maxfev =2000)\n",
    "\n",
    "# Parameters\n",
    "a_opt = popt[0]\n",
    "b_opt = popt[1]\n",
    "c_opt = popt[2]\n",
    "\n",
    "# plot data\n",
    "plt.errorbar(filtered_x, filtered_y, yerr=0, fmt=\".\", color = 'black', label = 'data', zorder=1, markersize = 5)\n",
    "\n",
    "# creating x interval to include in y fit\n",
    "x = np.linspace(0.0, max(filtered_x), 1000)\n",
    "y_fit = fpow(x, *popt)\n",
    "plt.plot(x, y_fit, color=\"red\", label=\"best fit\", zorder=2, linewidth = 3)\n",
    "\n",
    "plt.grid(True)\n",
    "plt.ylabel(\"U [m/s]\")\n",
    "plt.xlabel(\"Wavenumber [rad/m]\")\n",
    "plt.legend();"
   ]
  },
  {
   "cell_type": "markdown",
   "id": "9a80d7c4",
   "metadata": {},
   "source": [
    "## 1.2.2) Fit Residuals"
   ]
  },
  {
   "cell_type": "code",
   "execution_count": 43,
   "id": "39462690",
   "metadata": {},
   "outputs": [],
   "source": [
    "def fitted_power(x):\n",
    "    return a_opt*x**b_opt+c_opt"
   ]
  },
  {
   "cell_type": "code",
   "execution_count": 44,
   "id": "e708913a",
   "metadata": {},
   "outputs": [
    {
     "data": {
      "text/plain": [
       "<matplotlib.legend.Legend at 0x2d0d59eabe0>"
      ]
     },
     "execution_count": 44,
     "metadata": {},
     "output_type": "execute_result"
    },
    {
     "data": {
      "image/png": "[encoded data removed]",
      "text/plain": [
       "<Figure size 432x288 with 1 Axes>"
      ]
     },
     "metadata": {
      "needs_background": "light"
     },
     "output_type": "display_data"
    }
   ],
   "source": [
    "plt.scatter(filtered_x, fitted_power(filtered_x) - filtered_y, s = 5 , label='Residuals', color = 'red')\n",
    "plt.plot(x, np.zeros(len(x)), label = 'Fit', color = 'black')\n",
    "\n",
    "plt.grid(True)\n",
    "plt.title('Residual Plot')\n",
    "plt.ylabel(\"U [m/s]\")\n",
    "plt.xlabel(\"Wavenumber [rad/m]\")\n",
    "plt.legend()\n",
    "\n",
    "#plt.ylim(-5,5)"
   ]
  },
  {
   "cell_type": "markdown",
   "id": "7f6b1d34",
   "metadata": {},
   "source": [
    "## 1.2.3) Weighted Least Squares"
   ]
  },
  {
   "cell_type": "code",
   "execution_count": 45,
   "id": "ca05ed64",
   "metadata": {},
   "outputs": [
    {
     "data": {
      "text/plain": [
       "array([1.00000000e-08, 3.80799110e-02, 5.07732146e-02, 6.34665183e-02,\n",
       "       7.61598219e-02, 8.88531256e-02, 1.01546429e-01, 1.14239733e-01,\n",
       "       1.26933037e-01, 1.39626340e-01, 1.52319644e-01, 1.65012947e-01,\n",
       "       1.77706251e-01, 1.90399555e-01, 2.03092858e-01, 2.15786162e-01,\n",
       "       2.28479466e-01, 2.41172769e-01, 2.53866073e-01, 2.66559377e-01,\n",
       "       2.79252680e-01, 2.91945984e-01, 3.04639288e-01, 3.17332591e-01,\n",
       "       3.30025895e-01, 3.42719199e-01])"
      ]
     },
     "execution_count": 45,
     "metadata": {},
     "output_type": "execute_result"
    }
   ],
   "source": [
    "filtered_x"
   ]
  },
  {
   "cell_type": "code",
   "execution_count": 46,
   "id": "6cf088d9",
   "metadata": {},
   "outputs": [
    {
     "data": {
      "text/plain": [
       "array([1.00000000e-08, 1.53989397e+00, 2.04460628e+00, 4.18043213e+00,\n",
       "       2.97621482e+00, 2.82642339e+00, 2.98335023e+00, 2.98964836e+00,\n",
       "       2.12218901e+00, 1.42801972e+00, 1.25930683e+00, 7.16440766e-01,\n",
       "       4.82208656e-01, 2.11659851e-01, 2.47566092e-01, 2.11231786e-01,\n",
       "       5.73449986e-01, 4.93627624e-01, 2.02827667e-01, 5.03211858e-01,\n",
       "       5.03471650e-01, 7.42594082e-01, 4.84937826e-01, 8.17855876e-01,\n",
       "       5.45436664e-01, 5.32188379e-01])"
      ]
     },
     "execution_count": 46,
     "metadata": {},
     "output_type": "execute_result"
    }
   ],
   "source": [
    "filtered_y"
   ]
  },
  {
   "cell_type": "code",
   "execution_count": 47,
   "id": "df15b117",
   "metadata": {},
   "outputs": [],
   "source": [
    "def f(x):\n",
    "    return x^2"
   ]
  },
  {
   "cell_type": "code",
   "execution_count": 48,
   "id": "df06c779",
   "metadata": {},
   "outputs": [
    {
     "data": {
      "image/png": "[encoded data removed]",
      "text/plain": [
       "<Figure size 432x288 with 1 Axes>"
      ]
     },
     "metadata": {
      "needs_background": "light"
     },
     "output_type": "display_data"
    }
   ],
   "source": [
    "# fitted function\n",
    "def fpow(x, a, b, c):\n",
    "    return a*x**b+c\n",
    "\n",
    "# custom weight function\n",
    "def custom_weights(x):\n",
    "    weights = np.ones_like(x)  # Default weight for all points\n",
    "    weights[np.isclose(x, 0, atol=1e-7)] = 0.05  # Low Error for x = 0\n",
    "    weights[x > 0.2] = 0.5 # Low Error for x > 0.15\n",
    "    weights[(0 < x) & (x <= 0.2)] = 10  # Medium error for 0 < x <= 0.2\n",
    "    return weights\n",
    "\n",
    "# initial guess\n",
    "pars0 = (0.4, 0.4, 1)\n",
    "\n",
    "# perform fitting with custom weights\n",
    "popt, pcov = curve_fit(fpow, filtered_x, filtered_y, absolute_sigma=True, p0=pars0, sigma=custom_weights(filtered_x), maxfev =5000)\n",
    "\n",
    "# parameters\n",
    "a_opt = popt[0]\n",
    "b_opt = popt[1]\n",
    "c_opt = popt[2]\n",
    "\n",
    "# plot data\n",
    "plt.errorbar(filtered_x, filtered_y, yerr=0, fmt =\".\", color='black', label ='data', zorder=1, markersize=5)\n",
    "\n",
    "# creating x interval to include in y fit\n",
    "x_interval = np.linspace(0, max(filtered_x), 1000)\n",
    "y_fit = fpow( x_interval , *popt)\n",
    "plt.plot( x_interval, y_fit, color = \"red\", label = \"Weighted fit\", zorder=2 , linewidth=3)\n",
    "\n",
    "plt.grid(True)\n",
    "plt.ylabel(\"U [m/s]\")\n",
    "plt.xlabel(\"Wavenumber [rad/m]\")\n",
    "plt.title(\"LS Weighted Fit of Current\")\n",
    "plt.legend()\n",
    "plt.show()"
   ]
  },
  {
   "cell_type": "code",
   "execution_count": null,
   "id": "8eb3f82c",
   "metadata": {},
   "outputs": [],
   "source": []
  },
  {
   "cell_type": "code",
   "execution_count": null,
   "id": "11ada6a9",
   "metadata": {},
   "outputs": [],
   "source": []
  },
  {
   "cell_type": "code",
   "execution_count": 49,
   "id": "ab35b7f1",
   "metadata": {},
   "outputs": [
    {
     "data": {
      "text/plain": [
       "Text(0.5, 1.0, 'Effective Current $|U|$')"
      ]
     },
     "execution_count": 49,
     "metadata": {},
     "output_type": "execute_result"
    },
    {
     "data": {
      "image/png": "[encoded data removed]",
      "text/plain": [
       "<Figure size 432x288 with 1 Axes>"
      ]
     },
     "metadata": {
      "needs_background": "light"
     },
     "output_type": "display_data"
    }
   ],
   "source": [
    "plt.scatter(wavenumbers, np.sqrt(Ux**2+Uy**2), label='|U|', color = 'green')\n",
    "plt.plot( x_interval, y_fit, color = \"red\", label = \"Weighted fit\", zorder=2 , linewidth=3)\n",
    "\n",
    "\n",
    "plt.grid(True)\n",
    "plt.legend()\n",
    "plt.ylabel(\"U [m/s]\")\n",
    "plt.xlabel(\"Wavenumber [rad/m]\")\n",
    "plt.title('Effective Current $|U|$')"
   ]
  },
  {
   "cell_type": "code",
   "execution_count": null,
   "id": "44f1c8fe",
   "metadata": {},
   "outputs": [],
   "source": []
  },
  {
   "cell_type": "code",
   "execution_count": 50,
   "id": "cd0cc617",
   "metadata": {},
   "outputs": [],
   "source": [
    "p = np.poly1d(np.polyfit(wavenumbers, y1, 10))"
   ]
  },
  {
   "cell_type": "code",
   "execution_count": 51,
   "id": "c1cf433a",
   "metadata": {},
   "outputs": [],
   "source": [
    "Uk_mask = np.where(np.gradient(p(wavenumbers))>0, 1, 0)"
   ]
  },
  {
   "cell_type": "code",
   "execution_count": 52,
   "id": "519f87cc",
   "metadata": {},
   "outputs": [],
   "source": [
    "k_m = np.block([0, np.ma.masked_array(wavenumbers, mask=1-Uk_mask).compressed()])\n",
    "Uk_m = np.block([0, np.ma.masked_array(y1, mask=1-Uk_mask).compressed()])"
   ]
  },
  {
   "cell_type": "code",
   "execution_count": 53,
   "id": "4d8f06eb",
   "metadata": {},
   "outputs": [
    {
     "data": {
      "text/plain": [
       "Text(0.5, 0, 'Wavenumber [rad/m]')"
      ]
     },
     "execution_count": 53,
     "metadata": {},
     "output_type": "execute_result"
    },
    {
     "data": {
      "image/png": "[encoded data removed]",
      "text/plain": [
       "<Figure size 432x288 with 1 Axes>"
      ]
     },
     "metadata": {
      "needs_background": "light"
     },
     "output_type": "display_data"
    }
   ],
   "source": [
    "plt.scatter(k_m, Uk_m, label='Uk_m', color = 'red')\n",
    "plt.plot(wavenumbers, p(wavenumbers), label='Fitted Polynomial', color='black')\n",
    "\n",
    "plt.grid(True)\n",
    "plt.legend()\n",
    "plt.ylabel(\"U [m/s]\")\n",
    "plt.xlabel(\"Wavenumber [rad/m]\")"
   ]
  },
  {
   "cell_type": "markdown",
   "id": "6346b913",
   "metadata": {},
   "source": [
    "# 1.2) PCS Method"
   ]
  },
  {
   "cell_type": "code",
   "execution_count": 56,
   "id": "f20a9452",
   "metadata": {},
   "outputs": [],
   "source": [
    "f = h5py.File('C:\\\\Users\\josep\\Desktop\\PHYC40900_Project TP\\Real Data Sets\\First Tel-Aviv data', 'r')"
   ]
  },
  {
   "cell_type": "code",
   "execution_count": 57,
   "id": "67d79120",
   "metadata": {},
   "outputs": [],
   "source": [
    "x = f.get('x')\n",
    "y = f.get('y')\n",
    "t = f.get('t')\n",
    "wamos = f.get('wamos')\n",
    "\n",
    "x = np.array(x)\n",
    "y = np.array(y)\n",
    "t = np.array(t)\n",
    "wamos = np.array(wamos)"
   ]
  },
  {
   "cell_type": "code",
   "execution_count": 58,
   "id": "53fe5cf5",
   "metadata": {},
   "outputs": [
    {
     "data": {
      "text/plain": [
       "(366, 132, 132)"
      ]
     },
     "execution_count": 58,
     "metadata": {},
     "output_type": "execute_result"
    }
   ],
   "source": [
    "wamos.shape"
   ]
  },
  {
   "cell_type": "code",
   "execution_count": 59,
   "id": "99749dc7",
   "metadata": {},
   "outputs": [],
   "source": [
    "eta = np.transpose(wamos, (1, 2, 0))"
   ]
  },
  {
   "cell_type": "code",
   "execution_count": 60,
   "id": "fac015b9",
   "metadata": {},
   "outputs": [
    {
     "data": {
      "text/plain": [
       "1524.0"
      ]
     },
     "execution_count": 60,
     "metadata": {},
     "output_type": "execute_result"
    }
   ],
   "source": [
    "wamos[200,17,13]"
   ]
  },
  {
   "cell_type": "code",
   "execution_count": 61,
   "id": "378f0fcd",
   "metadata": {},
   "outputs": [
    {
     "data": {
      "text/plain": [
       "1524.0"
      ]
     },
     "execution_count": 61,
     "metadata": {},
     "output_type": "execute_result"
    }
   ],
   "source": [
    "eta[17,13,200]"
   ]
  },
  {
   "cell_type": "code",
   "execution_count": 62,
   "id": "c86c2b6f",
   "metadata": {},
   "outputs": [
    {
     "data": {
      "text/plain": [
       "(132, 132, 366)"
      ]
     },
     "execution_count": 62,
     "metadata": {},
     "output_type": "execute_result"
    }
   ],
   "source": [
    "eta.shape"
   ]
  },
  {
   "cell_type": "code",
   "execution_count": 63,
   "id": "373c022c",
   "metadata": {},
   "outputs": [],
   "source": [
    "# new version with eta changed dimension \n",
    "def cylinder_cross_section(Spectrum, dtheta, power_Spectrum_cut , order=None):\n",
    "    if order is None:\n",
    "        order = 4\n",
    "\n",
    "    Kx_2D = np.squeeze(Kx_3D[:,:,0])\n",
    "    Ky_2D = np.squeeze(Ky_3D[:,:,0])\n",
    "    W_1D = np.squeeze(W_3D[0,0,:])\n",
    "\n",
    "    theta_2D = np.arctan2(-Ky_2D, -Kx_2D)\n",
    "    theta_3D = np.tile(theta_2D[:, :, np.newaxis], (1, 1, W_1D.size))\n",
    "\n",
    "    theta_vals = np.arange(-np.pi, np.pi, dtheta)\n",
    "    S_cyl = np.zeros((W_1D.size, theta_vals.size))\n",
    "\n",
    "    for ii in range(theta_vals.size):\n",
    "        theta_diff = np.angle(np.exp(1j * theta_3D) * np.exp(-1j * theta_vals[ii]))\n",
    "        theta_filt = np.exp(-2 * (theta_diff / dtheta) ** order)\n",
    "        S_filt = power_Spectrum_cut * theta_filt\n",
    "        S_cyl[:, ii] = np.nansum(S_filt, axis=(0, 1))\n",
    "\n",
    "    thetaM, omegaM = np.meshgrid(theta_vals, W_1D)\n",
    "\n",
    "    Scyl = {\n",
    "        'P_k': S_cyl,\n",
    "        'thetaM': thetaM,\n",
    "        'omegaM': omegaM,\n",
    "        'Kx_2D': Kx_2D, \n",
    "        'Ky_2D': Ky_2D,\n",
    "        'W_1D': W_1D,\n",
    "        'theta_2D':theta_2D,\n",
    "        'theta_3D':theta_3D,\n",
    "        'theta_vals':theta_vals,\n",
    "        'theta_diff':theta_diff,\n",
    "        'theta_filt':theta_filt\n",
    "    }\n",
    "\n",
    "    return Scyl"
   ]
  },
  {
   "cell_type": "code",
   "execution_count": 64,
   "id": "f219b796",
   "metadata": {},
   "outputs": [
    {
     "data": {
      "text/plain": [
       "0.01269330365086785"
      ]
     },
     "execution_count": 64,
     "metadata": {},
     "output_type": "execute_result"
    }
   ],
   "source": [
    "dk = 2*np.pi/(dx*min(eta.shape[0], eta.shape[1]))\n",
    "dk"
   ]
  },
  {
   "cell_type": "code",
   "execution_count": 65,
   "id": "1ddf68d0",
   "metadata": {},
   "outputs": [],
   "source": [
    "frequencyLimits = [0.01,20.0]\n",
    "# frequency limits for masking the spectrum [min max], rad/sec"
   ]
  },
  {
   "cell_type": "code",
   "execution_count": 159,
   "id": "1f1456dd",
   "metadata": {},
   "outputs": [],
   "source": [
    "Nx, Ny, Nt = eta.shape\n",
    "    \n",
    "Kx = (2 * np.pi * 1 / dx / Nx) * np.arange(-np.ceil((Nx - 1) / 2), np.floor((Nx - 1) / 2) + 1) \n",
    "Ky = (2 * np.pi * 1 / dy / Ny) * np.arange(-np.ceil((Ny - 1) / 2), np.floor((Ny - 1) / 2) + 1) \n",
    "w = (2 * np.pi * 1 / dt / Nt) * np.arange(-np.ceil((Nt - 1) / 2), np.floor((Nt - 1) / 2) + 1)"
   ]
  },
  {
   "cell_type": "code",
   "execution_count": 161,
   "id": "8d0fb259",
   "metadata": {},
   "outputs": [
    {
     "data": {
      "text/plain": [
       "array([-1.27409035, -1.26712811, -1.26016587, -1.25320363, -1.24624138,\n",
       "       -1.23927914, -1.2323169 , -1.22535466, -1.21839241, -1.21143017,\n",
       "       -1.20446793, -1.19750569, -1.19054345, -1.1835812 , -1.17661896,\n",
       "       -1.16965672, -1.16269448, -1.15573223, -1.14876999, -1.14180775,\n",
       "       -1.13484551, -1.12788326, -1.12092102, -1.11395878, -1.10699654,\n",
       "       -1.10003429, -1.09307205, -1.08610981, -1.07914757, -1.07218533,\n",
       "       -1.06522308, -1.05826084, -1.0512986 , -1.04433636, -1.03737411,\n",
       "       -1.03041187, -1.02344963, -1.01648739, -1.00952514, -1.0025629 ,\n",
       "       -0.99560066, -0.98863842, -0.98167617, -0.97471393, -0.96775169,\n",
       "       -0.96078945, -0.9538272 , -0.94686496, -0.93990272, -0.93294048,\n",
       "       -0.92597824, -0.91901599, -0.91205375, -0.90509151, -0.89812927,\n",
       "       -0.89116702, -0.88420478, -0.87724254, -0.8702803 , -0.86331805,\n",
       "       -0.85635581, -0.84939357, -0.84243133, -0.83546908, -0.82850684,\n",
       "       -0.8215446 , -0.81458236, -0.80762012, -0.80065787, -0.79369563,\n",
       "       -0.78673339, -0.77977115, -0.7728089 , -0.76584666, -0.75888442,\n",
       "       -0.75192218, -0.74495993, -0.73799769, -0.73103545, -0.72407321,\n",
       "       -0.71711096, -0.71014872, -0.70318648, -0.69622424, -0.68926199,\n",
       "       -0.68229975, -0.67533751, -0.66837527, -0.66141303, -0.65445078,\n",
       "       -0.64748854, -0.6405263 , -0.63356406, -0.62660181, -0.61963957,\n",
       "       -0.61267733, -0.60571509, -0.59875284, -0.5917906 , -0.58482836,\n",
       "       -0.57786612, -0.57090387, -0.56394163, -0.55697939, -0.55001715,\n",
       "       -0.5430549 , -0.53609266, -0.52913042, -0.52216818, -0.51520594,\n",
       "       -0.50824369, -0.50128145, -0.49431921, -0.48735697, -0.48039472,\n",
       "       -0.47343248, -0.46647024, -0.459508  , -0.45254575, -0.44558351,\n",
       "       -0.43862127, -0.43165903, -0.42469678, -0.41773454, -0.4107723 ,\n",
       "       -0.40381006, -0.39684782, -0.38988557, -0.38292333, -0.37596109,\n",
       "       -0.36899885, -0.3620366 , -0.35507436, -0.34811212, -0.34114988,\n",
       "       -0.33418763, -0.32722539, -0.32026315, -0.31330091, -0.30633866,\n",
       "       -0.29937642, -0.29241418, -0.28545194, -0.27848969, -0.27152745,\n",
       "       -0.26456521, -0.25760297, -0.25064073, -0.24367848, -0.23671624,\n",
       "       -0.229754  , -0.22279176, -0.21582951, -0.20886727, -0.20190503,\n",
       "       -0.19494279, -0.18798054, -0.1810183 , -0.17405606, -0.16709382,\n",
       "       -0.16013157, -0.15316933, -0.14620709, -0.13924485, -0.13228261,\n",
       "       -0.12532036, -0.11835812, -0.11139588, -0.10443364, -0.09747139,\n",
       "       -0.09050915, -0.08354691, -0.07658467, -0.06962242, -0.06266018,\n",
       "       -0.05569794, -0.0487357 , -0.04177345, -0.03481121, -0.02784897,\n",
       "       -0.02088673, -0.01392448, -0.00696224,  0.        ,  0.00696224,\n",
       "        0.01392448,  0.02088673,  0.02784897,  0.03481121,  0.04177345,\n",
       "        0.0487357 ,  0.05569794,  0.06266018,  0.06962242,  0.07658467,\n",
       "        0.08354691,  0.09050915,  0.09747139,  0.10443364,  0.11139588,\n",
       "        0.11835812,  0.12532036,  0.13228261,  0.13924485,  0.14620709,\n",
       "        0.15316933,  0.16013157,  0.16709382,  0.17405606,  0.1810183 ,\n",
       "        0.18798054,  0.19494279,  0.20190503,  0.20886727,  0.21582951,\n",
       "        0.22279176,  0.229754  ,  0.23671624,  0.24367848,  0.25064073,\n",
       "        0.25760297,  0.26456521,  0.27152745,  0.27848969,  0.28545194,\n",
       "        0.29241418,  0.29937642,  0.30633866,  0.31330091,  0.32026315,\n",
       "        0.32722539,  0.33418763,  0.34114988,  0.34811212,  0.35507436,\n",
       "        0.3620366 ,  0.36899885,  0.37596109,  0.38292333,  0.38988557,\n",
       "        0.39684782,  0.40381006,  0.4107723 ,  0.41773454,  0.42469678,\n",
       "        0.43165903,  0.43862127,  0.44558351,  0.45254575,  0.459508  ,\n",
       "        0.46647024,  0.47343248,  0.48039472,  0.48735697,  0.49431921,\n",
       "        0.50128145,  0.50824369,  0.51520594,  0.52216818,  0.52913042,\n",
       "        0.53609266,  0.5430549 ,  0.55001715,  0.55697939,  0.56394163,\n",
       "        0.57090387,  0.57786612,  0.58482836,  0.5917906 ,  0.59875284,\n",
       "        0.60571509,  0.61267733,  0.61963957,  0.62660181,  0.63356406,\n",
       "        0.6405263 ,  0.64748854,  0.65445078,  0.66141303,  0.66837527,\n",
       "        0.67533751,  0.68229975,  0.68926199,  0.69622424,  0.70318648,\n",
       "        0.71014872,  0.71711096,  0.72407321,  0.73103545,  0.73799769,\n",
       "        0.74495993,  0.75192218,  0.75888442,  0.76584666,  0.7728089 ,\n",
       "        0.77977115,  0.78673339,  0.79369563,  0.80065787,  0.80762012,\n",
       "        0.81458236,  0.8215446 ,  0.82850684,  0.83546908,  0.84243133,\n",
       "        0.84939357,  0.85635581,  0.86331805,  0.8702803 ,  0.87724254,\n",
       "        0.88420478,  0.89116702,  0.89812927,  0.90509151,  0.91205375,\n",
       "        0.91901599,  0.92597824,  0.93294048,  0.93990272,  0.94686496,\n",
       "        0.9538272 ,  0.96078945,  0.96775169,  0.97471393,  0.98167617,\n",
       "        0.98863842,  0.99560066,  1.0025629 ,  1.00952514,  1.01648739,\n",
       "        1.02344963,  1.03041187,  1.03737411,  1.04433636,  1.0512986 ,\n",
       "        1.05826084,  1.06522308,  1.07218533,  1.07914757,  1.08610981,\n",
       "        1.09307205,  1.10003429,  1.10699654,  1.11395878,  1.12092102,\n",
       "        1.12788326,  1.13484551,  1.14180775,  1.14876999,  1.15573223,\n",
       "        1.16269448,  1.16965672,  1.17661896,  1.1835812 ,  1.19054345,\n",
       "        1.19750569,  1.20446793,  1.21143017,  1.21839241,  1.22535466,\n",
       "        1.2323169 ,  1.23927914,  1.24624138,  1.25320363,  1.26016587,\n",
       "        1.26712811])"
      ]
     },
     "execution_count": 161,
     "metadata": {},
     "output_type": "execute_result"
    }
   ],
   "source": [
    "w"
   ]
  },
  {
   "cell_type": "code",
   "execution_count": 67,
   "id": "a465652a",
   "metadata": {},
   "outputs": [],
   "source": [
    "dKx = Kx[1] - Kx[0]\n",
    "dKy = Ky[1] - Ky[0]\n",
    "dW = w[1] - w[0]"
   ]
  },
  {
   "cell_type": "code",
   "execution_count": 68,
   "id": "9300b4e0",
   "metadata": {},
   "outputs": [],
   "source": [
    "Norm = dKx * dKy * dW "
   ]
  },
  {
   "cell_type": "code",
   "execution_count": 69,
   "id": "7eb75426",
   "metadata": {},
   "outputs": [],
   "source": [
    "# Get power spectra\n",
    "Spectrum_raw = fftshift(fftn(eta) / np.prod(eta.shape))\n",
    "power_Spectrum = np.abs(Spectrum_raw / Norm)**2"
   ]
  },
  {
   "cell_type": "code",
   "execution_count": 70,
   "id": "59bae57e",
   "metadata": {
    "scrolled": true
   },
   "outputs": [
    {
     "data": {
      "text/plain": [
       "(132, 132, 366)"
      ]
     },
     "execution_count": 70,
     "metadata": {},
     "output_type": "execute_result"
    }
   ],
   "source": [
    "power_Spectrum.shape"
   ]
  },
  {
   "cell_type": "markdown",
   "id": "165edd6b",
   "metadata": {},
   "source": [
    "## 1.2.1) HP Filter"
   ]
  },
  {
   "cell_type": "code",
   "execution_count": 71,
   "id": "7b9595ca",
   "metadata": {},
   "outputs": [
    {
     "data": {
      "text/plain": [
       "(132, 132, 366)"
      ]
     },
     "execution_count": 71,
     "metadata": {},
     "output_type": "execute_result"
    }
   ],
   "source": [
    "I_0 = power_Spectrum\n",
    "I_0.shape"
   ]
  },
  {
   "cell_type": "code",
   "execution_count": 72,
   "id": "0b8f824b",
   "metadata": {},
   "outputs": [],
   "source": [
    "w_cut = 0.03 * 2*np.pi"
   ]
  },
  {
   "cell_type": "code",
   "execution_count": 73,
   "id": "dd1578f0",
   "metadata": {},
   "outputs": [
    {
     "data": {
      "text/plain": [
       "0.18849555921538758"
      ]
     },
     "execution_count": 73,
     "metadata": {},
     "output_type": "execute_result"
    }
   ],
   "source": [
    "w_cut"
   ]
  },
  {
   "cell_type": "code",
   "execution_count": 74,
   "id": "afe7a1b3",
   "metadata": {},
   "outputs": [],
   "source": [
    "# Create a boolean mask based on the condition w >= w_cut\n",
    "mask = (w >= w_cut)"
   ]
  },
  {
   "cell_type": "code",
   "execution_count": 75,
   "id": "206aa790",
   "metadata": {},
   "outputs": [],
   "source": [
    "I_1 = np.where(mask[ None, None,:], I_0, 0)"
   ]
  },
  {
   "cell_type": "markdown",
   "id": "1a56647a",
   "metadata": {},
   "source": [
    "## 1.2.2)Energy Threshold"
   ]
  },
  {
   "cell_type": "code",
   "execution_count": 76,
   "id": "363560d8",
   "metadata": {},
   "outputs": [],
   "source": [
    "# Create a boolean mask based on the condition energy\n",
    "\n",
    "P = np.max(I_1) / 1000\n",
    "# Threshold\n",
    "\n",
    "condition = ( np.max(I_1, axis=2) >= P )\n",
    "# Is  maximum energy for each column vector along the ω axis > P"
   ]
  },
  {
   "cell_type": "code",
   "execution_count": 77,
   "id": "d755204a",
   "metadata": {},
   "outputs": [],
   "source": [
    "I_2 = np.where(condition[:, :, None], I_1, 0)"
   ]
  },
  {
   "cell_type": "markdown",
   "id": "baac8e39",
   "metadata": {},
   "source": [
    "## 1.2.3) Peak Identification"
   ]
  },
  {
   "cell_type": "code",
   "execution_count": 78,
   "id": "e82ac544",
   "metadata": {},
   "outputs": [],
   "source": [
    "from scipy.signal import find_peaks, peak_widths, peak_prominences"
   ]
  },
  {
   "cell_type": "code",
   "execution_count": 79,
   "id": "a1ae5935",
   "metadata": {},
   "outputs": [],
   "source": [
    "def check_prominent_peaks(kx, ky):\n",
    "    y = I_2[kx, ky,:]\n",
    "    \n",
    "    wj = np.zeros((I_2.shape[0], I_2.shape[1]))\n",
    "    \n",
    "    if np.max(y) < 1:\n",
    "        wj[kx, ky] = 0\n",
    "    # If Power Spectrum is 0 then wj is 0\n",
    "        \n",
    "    else:\n",
    "        peak_heights = y\n",
    "        \n",
    "        # Find the peak with the maximum height\n",
    "        max_peak_index = np.argmax(peak_heights)\n",
    "        max_peak_height = peak_heights[max_peak_index]\n",
    "\n",
    "        threshold = 6\n",
    "\n",
    "        # Check if the maximum peak 6 times larger than the others\n",
    "        # If it is we conclude it is a peak on its own and print\n",
    "        if max_peak_height > threshold * np.max(peak_heights[peak_heights != max_peak_height]):\n",
    "            wj[kx,ky] = w[max_peak_index]\n",
    "            \n",
    "        else:\n",
    "            pass\n",
    "            \n",
    "    return wj"
   ]
  },
  {
   "cell_type": "code",
   "execution_count": 80,
   "id": "3d8d1436",
   "metadata": {},
   "outputs": [],
   "source": [
    "def identification(kx, ky, ratio, prominence, distance):\n",
    "    \n",
    "    '''Scans for peaks and then sorts them by heights. \n",
    "    It keeps the peaks which are ratio times smaller than the next'''\n",
    "    \n",
    "    y = I_2[kx,ky,:]\n",
    "    wj = np.zeros((I_2.shape[0], I_2.shape[1]))\n",
    "    \n",
    "    if np.max(y) < 1:\n",
    "        wj[kx, ky] = 0\n",
    "    # If Power Spectrum is 0 then wj is 0\n",
    "    \n",
    "    else:\n",
    "        peaks, stats = find_peaks(y, prominence=prominence, distance=distance)\n",
    "        order = np.flip(np.argsort(stats[\"prominences\"]))\n",
    "\n",
    "        if len(peaks) == 1:\n",
    "            wj[kx,ky] = w[peaks[0]]\n",
    "\n",
    "        elif len(peaks) > 1:\n",
    "            for i, j in zip(order[:-1], order[1:]):\n",
    "                if stats[\"prominences\"][i] >= ratio * stats[\"prominences\"][j]:\n",
    "                    wj[kx,ky] = w[peaks[i]]\n",
    "                    \n",
    "#        return {\n",
    "#            \"values\": values,\n",
    "#            \"order\": order,\n",
    "#            \"peaks\": peaks,\n",
    "#            \"stats\": stats,\n",
    "#        }\n",
    "    \n",
    "    return wj "
   ]
  },
  {
   "cell_type": "code",
   "execution_count": 84,
   "id": "d97950b3",
   "metadata": {},
   "outputs": [],
   "source": [
    "def identification(kx, ky, ratio, prominence, distance):\n",
    "    \n",
    "    '''Scans for peaks and then sorts them by heights. \n",
    "    It keeps the peaks which are ratio times smaller than the next'''\n",
    "    \n",
    "    y = I_2[kx,ky,:]\n",
    "    wj = np.zeros((I_2.shape[0], I_2.shape[1]))\n",
    "    \n",
    "    if np.max(y) < 1:\n",
    "        wj[kx, ky] = 0\n",
    "    # If Power Spectrum is 0 then wj is 0\n",
    "    \n",
    "    else:\n",
    "        peaks, stats = find_peaks(y, prominence=prominence, distance=distance)\n",
    "\n",
    "        if len(peaks) == 1:\n",
    "            wj[kx,ky] = w[peaks[0]]\n",
    "\n",
    "        elif len(peaks) > 1:\n",
    "            try_sort = list(set(y[peaks]))\n",
    "            try_sort.sort()\n",
    "            ind = np.where(y[peaks]==np.max(y[peaks]))\n",
    "            thing = []\n",
    "\n",
    "            for k in range(len(peaks)):\n",
    "                if np.max(y[peaks]) >= ratio*try_sort[-2]:\n",
    "                    #thing.append(w[peaks[ind]])\n",
    "                    wj[kx,ky] = w[peaks[ind]]\n",
    "                    \n",
    "#        return {\n",
    "#            \"values\": values,\n",
    "#            \"order\": order,\n",
    "#            \"peaks\": peaks,\n",
    "#            \"stats\": stats,\n",
    "#        }\n",
    "    \n",
    "    return wj "
   ]
  },
  {
   "cell_type": "markdown",
   "id": "b8ece3a7",
   "metadata": {},
   "source": [
    "# Testing data"
   ]
  },
  {
   "cell_type": "code",
   "execution_count": 135,
   "id": "560feae2",
   "metadata": {},
   "outputs": [],
   "source": [
    "l = 36\n",
    "\n",
    "y = I_2[nonzero_indices[0][l], nonzero_indices[1][l],:]\n",
    "peaks, stats = find_peaks(y, prominence=0.1*np.max(y), distance=10)"
   ]
  },
  {
   "cell_type": "code",
   "execution_count": 136,
   "id": "86730b9d",
   "metadata": {},
   "outputs": [
    {
     "data": {
      "text/plain": [
       "Text(0.5, 1.0, 'Should be counted')"
      ]
     },
     "execution_count": 136,
     "metadata": {},
     "output_type": "execute_result"
    },
    {
     "data": {
      "image/png": "[encoded data removed]",
      "text/plain": [
       "<Figure size 432x288 with 1 Axes>"
      ]
     },
     "metadata": {
      "needs_background": "light"
     },
     "output_type": "display_data"
    }
   ],
   "source": [
    "plt.scatter(w, I_2[nonzero_indices[0][l], nonzero_indices[1][l], :])\n",
    "\n",
    "for i in w[peaks]:\n",
    "    plt.axvline(i, color='red')\n",
    "\n",
    "plt.xlabel(\"w\")\n",
    "plt.ylabel(\"Spectral Power\")\n",
    "plt.grid(True)\n",
    "plt.title(\"Should be counted\")"
   ]
  },
  {
   "cell_type": "code",
   "execution_count": 137,
   "id": "108ee22d",
   "metadata": {},
   "outputs": [],
   "source": [
    "order = np.flip(np.argsort(stats[\"prominences\"]))\n",
    "thing = []\n",
    "ratio = 3"
   ]
  },
  {
   "cell_type": "code",
   "execution_count": 138,
   "id": "a91d1895",
   "metadata": {},
   "outputs": [],
   "source": [
    "# When there is more than one peak \n",
    "thing = []\n",
    "for i, j in zip(order[:-1], order[1:]):\n",
    "    if stats[\"prominences\"][i] >= ratio * stats[\"prominences\"][j]:\n",
    "        thing.append(w[peaks[i]])"
   ]
  },
  {
   "cell_type": "code",
   "execution_count": 139,
   "id": "082dcd3f",
   "metadata": {},
   "outputs": [],
   "source": [
    "try_sort = list(set(y[peaks]))\n",
    "try_sort.sort()\n",
    "ind = np.where(y[peaks]==np.max(y[peaks]))\n",
    "thing = []\n",
    "\n",
    "for k in range(len(peaks)):\n",
    "    if np.max(y[peaks]) >= ratio*try_sort[-2]:\n",
    "        thing.append(w[peaks[ind]])"
   ]
  },
  {
   "cell_type": "code",
   "execution_count": 140,
   "id": "f5a08d7c",
   "metadata": {},
   "outputs": [
    {
     "data": {
      "text/plain": [
       "Text(0.5, 1.0, 'Gets Counted')"
      ]
     },
     "execution_count": 140,
     "metadata": {},
     "output_type": "execute_result"
    },
    {
     "data": {
      "image/png": "[encoded data removed]",
      "text/plain": [
       "<Figure size 432x288 with 1 Axes>"
      ]
     },
     "metadata": {
      "needs_background": "light"
     },
     "output_type": "display_data"
    }
   ],
   "source": [
    "plt.scatter(w, I_2[nonzero_indices[0][l], nonzero_indices[1][l],:])\n",
    "\n",
    "for i in thing:\n",
    "    plt.axvline(i, color='green')\n",
    "\n",
    "plt.xlabel(\"w\")\n",
    "plt.ylabel(\"Spectral Power\")\n",
    "plt.grid(True)\n",
    "plt.title(\"Gets Counted\")"
   ]
  },
  {
   "cell_type": "code",
   "execution_count": null,
   "id": "6936dcad",
   "metadata": {},
   "outputs": [],
   "source": []
  },
  {
   "cell_type": "code",
   "execution_count": null,
   "id": "08eff452",
   "metadata": {},
   "outputs": [],
   "source": []
  },
  {
   "cell_type": "code",
   "execution_count": null,
   "id": "14cbbfe0",
   "metadata": {},
   "outputs": [],
   "source": []
  },
  {
   "cell_type": "code",
   "execution_count": null,
   "id": "f58631a2",
   "metadata": {},
   "outputs": [],
   "source": []
  },
  {
   "cell_type": "code",
   "execution_count": null,
   "id": "52c0724c",
   "metadata": {},
   "outputs": [],
   "source": []
  },
  {
   "cell_type": "code",
   "execution_count": 141,
   "id": "d9f73038",
   "metadata": {},
   "outputs": [],
   "source": [
    "wj_array = []\n",
    "\n",
    "for kx in range(I_2.shape[0]):\n",
    "    for ky in range(I_2.shape[1]):\n",
    "        wj_array.append(identification(kx, ky, ratio=3, prominence=0.1*np.max(y), distance=10))"
   ]
  },
  {
   "cell_type": "code",
   "execution_count": 142,
   "id": "3f779472",
   "metadata": {},
   "outputs": [],
   "source": [
    "w0_2D = np.sum(wj_array, axis=0)\n",
    "# gives the 2d array w0(kx,ky)"
   ]
  },
  {
   "cell_type": "code",
   "execution_count": 143,
   "id": "ab3018b3",
   "metadata": {},
   "outputs": [],
   "source": [
    "w0 = w0_2D[w0_2D != 0]"
   ]
  },
  {
   "cell_type": "code",
   "execution_count": 144,
   "id": "000da2fe",
   "metadata": {},
   "outputs": [],
   "source": [
    "nonzero_indices = np.nonzero(w0_2D)"
   ]
  },
  {
   "cell_type": "code",
   "execution_count": 145,
   "id": "9cde5ab6",
   "metadata": {},
   "outputs": [
    {
     "data": {
      "text/plain": [
       "(array([51, 51, 53, 54, 54, 54, 54, 55, 55, 56, 56, 56, 57, 58, 58, 59, 59,\n",
       "        59, 60, 60, 60, 61, 61, 61, 62, 62, 62, 63, 63, 63, 63, 63, 63, 64,\n",
       "        64, 64, 65, 65, 66, 66, 66, 66, 67, 67, 67, 67, 67, 68, 68, 68, 68,\n",
       "        68, 68, 68, 68, 68, 69, 69, 69, 69, 69, 69, 70, 70, 70, 70, 70, 70,\n",
       "        71, 71, 71, 72, 72, 72, 72, 73, 75, 76, 77], dtype=int64),\n",
       " array([56, 57, 57, 54, 55, 57, 58, 54, 56, 53, 54, 55, 51, 50, 53, 53, 54,\n",
       "        78, 49, 51, 53, 50, 52, 53, 68, 73, 80, 49, 53, 69, 73, 74, 76, 70,\n",
       "        72, 73, 72, 73, 54, 67, 72, 74, 67, 68, 69, 73, 74, 49, 53, 54, 68,\n",
       "        69, 70, 72, 73, 80, 48, 54, 67, 68, 69, 74, 54, 67, 68, 73, 75, 76,\n",
       "        49, 67, 74, 50, 65, 67, 73, 49, 80, 76, 75], dtype=int64))"
      ]
     },
     "execution_count": 145,
     "metadata": {},
     "output_type": "execute_result"
    }
   ],
   "source": [
    "nonzero_indices"
   ]
  },
  {
   "cell_type": "code",
   "execution_count": 146,
   "id": "a9980f77",
   "metadata": {},
   "outputs": [],
   "source": [
    "kx_indices = nonzero_indices[0]\n",
    "ky_indices = nonzero_indices[1]"
   ]
  },
  {
   "cell_type": "code",
   "execution_count": 147,
   "id": "269bf0d7",
   "metadata": {},
   "outputs": [
    {
     "data": {
      "text/plain": [
       "array([51, 51, 53, 54, 54, 54, 54, 55, 55, 56, 56, 56, 57, 58, 58, 59, 59,\n",
       "       59, 60, 60, 60, 61, 61, 61, 62, 62, 62, 63, 63, 63, 63, 63, 63, 64,\n",
       "       64, 64, 65, 65, 66, 66, 66, 66, 67, 67, 67, 67, 67, 68, 68, 68, 68,\n",
       "       68, 68, 68, 68, 68, 69, 69, 69, 69, 69, 69, 70, 70, 70, 70, 70, 70,\n",
       "       71, 71, 71, 72, 72, 72, 72, 73, 75, 76, 77], dtype=int64)"
      ]
     },
     "execution_count": 147,
     "metadata": {},
     "output_type": "execute_result"
    }
   ],
   "source": [
    "kx_indices"
   ]
  },
  {
   "cell_type": "code",
   "execution_count": 148,
   "id": "e9f5fa85",
   "metadata": {},
   "outputs": [
    {
     "data": {
      "text/plain": [
       "(79,)"
      ]
     },
     "execution_count": 148,
     "metadata": {},
     "output_type": "execute_result"
    }
   ],
   "source": [
    "ky_indices.shape"
   ]
  },
  {
   "cell_type": "code",
   "execution_count": 149,
   "id": "6219c83e",
   "metadata": {},
   "outputs": [
    {
     "data": {
      "text/plain": [
       "(79,)"
      ]
     },
     "execution_count": 149,
     "metadata": {},
     "output_type": "execute_result"
    }
   ],
   "source": [
    "ky_indices.shape"
   ]
  },
  {
   "cell_type": "code",
   "execution_count": 150,
   "id": "402513e1",
   "metadata": {},
   "outputs": [],
   "source": [
    "kx_trip = Kx[kx_indices]\n",
    "ky_trip = Ky[ky_indices]"
   ]
  },
  {
   "cell_type": "code",
   "execution_count": 151,
   "id": "fdfb3e28",
   "metadata": {},
   "outputs": [
    {
     "data": {
      "text/plain": [
       "array([-0.12693304, -0.11423973, -0.11423973, -0.15231964, -0.13962634,\n",
       "       -0.11423973, -0.10154643, -0.15231964, -0.12693304, -0.16501295,\n",
       "       -0.15231964, -0.13962634, -0.19039955, -0.20309286, -0.16501295,\n",
       "       -0.16501295, -0.15231964,  0.15231964, -0.21578616, -0.19039955,\n",
       "       -0.16501295, -0.20309286, -0.17770625, -0.16501295,  0.02538661,\n",
       "        0.08885313,  0.17770625, -0.21578616, -0.16501295,  0.03807991,\n",
       "        0.08885313,  0.10154643,  0.12693304,  0.05077321,  0.07615982,\n",
       "        0.08885313,  0.07615982,  0.08885313, -0.15231964,  0.0126933 ,\n",
       "        0.07615982,  0.10154643,  0.0126933 ,  0.02538661,  0.03807991,\n",
       "        0.08885313,  0.10154643, -0.21578616, -0.16501295, -0.15231964,\n",
       "        0.02538661,  0.03807991,  0.05077321,  0.07615982,  0.08885313,\n",
       "        0.17770625, -0.22847947, -0.15231964,  0.0126933 ,  0.02538661,\n",
       "        0.03807991,  0.10154643, -0.15231964,  0.0126933 ,  0.02538661,\n",
       "        0.08885313,  0.11423973,  0.12693304, -0.21578616,  0.0126933 ,\n",
       "        0.10154643, -0.20309286, -0.0126933 ,  0.0126933 ,  0.08885313,\n",
       "       -0.21578616,  0.17770625,  0.12693304,  0.11423973])"
      ]
     },
     "execution_count": 151,
     "metadata": {},
     "output_type": "execute_result"
    }
   ],
   "source": [
    "ky_trip"
   ]
  },
  {
   "cell_type": "code",
   "execution_count": 152,
   "id": "c4f95189",
   "metadata": {
    "scrolled": true
   },
   "outputs": [
    {
     "data": {
      "text/plain": [
       "(79,)"
      ]
     },
     "execution_count": 152,
     "metadata": {},
     "output_type": "execute_result"
    }
   ],
   "source": [
    "ky_trip.shape"
   ]
  },
  {
   "cell_type": "code",
   "execution_count": 153,
   "id": "62735fde",
   "metadata": {},
   "outputs": [
    {
     "data": {
      "text/plain": [
       "(79,)"
      ]
     },
     "execution_count": 153,
     "metadata": {},
     "output_type": "execute_result"
    }
   ],
   "source": [
    "ky_trip.shape"
   ]
  },
  {
   "cell_type": "code",
   "execution_count": 154,
   "id": "b123158c",
   "metadata": {},
   "outputs": [],
   "source": [
    "import matplotlib.patches as mpatches\n",
    "import matplotlib.lines as mlines"
   ]
  },
  {
   "cell_type": "code",
   "execution_count": 157,
   "id": "72f93160",
   "metadata": {},
   "outputs": [
    {
     "data": {
      "application/vnd.jupyter.widget-view+json": {
       "model_id": "8b85de3aad7a4651a3cc1dd4e1d4917f",
       "version_major": 2,
       "version_minor": 0
      },
      "image/png": "[encoded data removed]",
      "text/html": [
       "\n",
       "            <div style=\"display: inline-block;\">\n",
       "                <div class=\"jupyter-widgets widget-label\" style=\"text-align: center;\">\n",
       "                    Figure\n",
       "                </div>\n",
       "                <img src='data:image/png;base64,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' width=1000.0/>\n",
       "            </div>\n",
       "        "
      ],
      "text/plain": [
       "Canvas(toolbar=Toolbar(toolitems=[('Home', 'Reset original view', 'home', 'home'), ('Back', 'Back to previous …"
      ]
     },
     "metadata": {},
     "output_type": "display_data"
    }
   ],
   "source": [
    "# Creating figure\n",
    "fig = plt.figure(figsize = (10, 7))\n",
    "ax = plt.axes(projection =\"3d\")\n",
    " \n",
    "# Creating plot\n",
    "ax.scatter3D(-kx_trip, -ky_trip, w0, color = \"red\", s = 5)\n",
    "plt.title(\"Spectrum\")\n",
    "\n",
    "ax.set_xlabel('x')\n",
    "ax.set_ylabel('y')\n",
    "ax.set_zlabel('η(x,y)')\n",
    "\n",
    "# Create legend manually with a dot for 'Triplets'\n",
    "legend_elements = [\n",
    "    mlines.Line2D([0], [0], marker='o', color='w', markerfacecolor='red', markersize=10, label='Triplets'),\n",
    "    mlines.Line2D([0], [0], color='blue', label='Dispersion relation')\n",
    "]\n",
    "\n",
    "# Create legend\n",
    "ax.legend(handles=legend_elements)\n",
    " \n",
    "# show plot\n",
    "plt.show()"
   ]
  },
  {
   "cell_type": "markdown",
   "id": "ed1b22c9",
   "metadata": {},
   "source": [
    "## 1.2.4) Convert to polars"
   ]
  },
  {
   "cell_type": "code",
   "execution_count": 104,
   "id": "331f7fa0",
   "metadata": {},
   "outputs": [],
   "source": [
    "from scipy.stats import t"
   ]
  },
  {
   "cell_type": "code",
   "execution_count": 105,
   "id": "ce9af1e5",
   "metadata": {},
   "outputs": [],
   "source": [
    "# kx_2D, ky_2D= np.meshgrid(kx_trip, ky_trip, indexing='ij')\n",
    "kx_2D, ky_2D= np.meshgrid(Kx, Ky, indexing='ij')"
   ]
  },
  {
   "cell_type": "code",
   "execution_count": 106,
   "id": "fdfa48c6",
   "metadata": {},
   "outputs": [],
   "source": [
    "K_2D = np.sqrt(kx_2D**2 + ky_2D**2)\n",
    "theta_2D = np.arctan2(ky_2D, kx_2D)"
   ]
  },
  {
   "cell_type": "markdown",
   "id": "a877d95b",
   "metadata": {},
   "source": [
    "## 1.2.5) Find Effective Current"
   ]
  },
  {
   "cell_type": "code",
   "execution_count": 107,
   "id": "eab0cabe",
   "metadata": {},
   "outputs": [],
   "source": [
    "def sinusoidinal(x, a, b):\n",
    "    return a*np.cos(x - b) "
   ]
  },
  {
   "cell_type": "code",
   "execution_count": 108,
   "id": "7d2d85fe",
   "metadata": {},
   "outputs": [],
   "source": [
    "def grubbs_test(x, y):\n",
    "    \"\"\"\n",
    "    Grubb's test removes outlier in y axis and also removes the corresponding x value\n",
    "    \"\"\"\n",
    "\n",
    "    # Gets mean and standard deviation of data\n",
    "    mean_data = np.mean(y)\n",
    "    std_data = np.std(y)\n",
    "\n",
    "    # Calculate Grubbs test statistic\n",
    "    z_scores = np.abs((y - mean_data) / std_data)\n",
    "    max_z = np.max(z_scores)\n",
    "\n",
    "    # Calculate critical value based on the t-distribution\n",
    "    n = len(y)\n",
    "    critical_value = t.ppf(0.975, n - 2) / np.sqrt(n)\n",
    "\n",
    "    # Identify and removes any outlier\n",
    "    outlier_index = np.argmax(z_scores)\n",
    "    if max_z > critical_value:\n",
    "        #print(f\"Outlier detected at index {outlier_index}, value: {y[outlier_index]}\")\n",
    "        y = np.delete(y, outlier_index)\n",
    "        x = np.delete(x, outlier_index)\n",
    "\n",
    "        \n",
    "    return x, y "
   ]
  },
  {
   "cell_type": "code",
   "execution_count": 109,
   "id": "9c4af7fb",
   "metadata": {},
   "outputs": [],
   "source": [
    "cut_k_array = np.arange(0.001, 0.35, 0.01)\n",
    "\n",
    "U_array = []\n",
    "Φ_array = []\n",
    "\n",
    "for i in range(len(cut_k_array)):\n",
    "    k_slice = cut_k_array[i]\n",
    "\n",
    "    reso = 0.02\n",
    "    # dk - either side of cut cylinder\n",
    "    ind = np.where(((k_slice - reso) < K_2D ) & ( K_2D < (k_slice + reso)))\n",
    "    \n",
    "    # Slice at wavenumber cut_k - once k is within 0.01 it is counted as a slice\n",
    "    w0_is_k = w0_2D[ind[0], ind[1]]\n",
    "    theta_is_k = theta_2D[ind[0], ind[1]]\n",
    "    \n",
    "    # w and theta values along k_slice\n",
    "    inds_where_w0_nonzero = np.where(w0_is_k != 0)\n",
    "    \n",
    "    if len(inds_where_w0_nonzero[0]) > 1:\n",
    "        # How many nonzero w0 theres needs to be to be counted (increased numbers, increases accuracy)\n",
    "        nonzero_theta_at_k = theta_is_k[inds_where_w0_nonzero]\n",
    "        nonzero_w0_at_k = w0_is_k[inds_where_w0_nonzero]\n",
    "        \n",
    "        x_theta = nonzero_theta_at_k\n",
    "        y_theta = (nonzero_w0_at_k - np.sqrt(9.81 * k_slice)) / k_slice\n",
    "        \n",
    "        # Preform Grubbs test to remove outliers\n",
    "        x_theta, y_theta = grubbs_test(x_theta, y_theta)\n",
    "        \n",
    "        # Fitting Cos onto points\n",
    "        pars0 = (max(y_theta), 1)  # initial guess\n",
    "        popt, pcov = curve_fit(sinusoidinal, x_theta, y_theta, absolute_sigma=True, p0=pars0)\n",
    "        \n",
    "        # U value\n",
    "        U_opt = popt[0]\n",
    "        U_opt_err = np.sqrt(pcov[0, 0])\n",
    "        U_array.append(np.abs(U_opt))\n",
    "        \n",
    "        # Φ\n",
    "        Φ_opt = popt[1]\n",
    "        Φ_opt_err = np.sqrt(pcov[1, 1])\n",
    "        \n",
    "        if U_opt > 0:\n",
    "            Φ_opt = np.pi - Φ_opt\n",
    "        # Condition due to definition of direction of current \n",
    "        \n",
    "        Φ_array.append(Φ_opt)\n",
    "    else:\n",
    "        # If no values in inds_where_w0_nonzero, append None or a placeholder value as needed\n",
    "        U_array.append(None)\n",
    "        Φ_array.append(None)"
   ]
  },
  {
   "cell_type": "code",
   "execution_count": 110,
   "id": "f796880a",
   "metadata": {},
   "outputs": [
    {
     "data": {
      "text/plain": [
       "<matplotlib.legend.Legend at 0x2d0e93bfeb0>"
      ]
     },
     "execution_count": 110,
     "metadata": {},
     "output_type": "execute_result"
    },
    {
     "data": {
      "image/png": "[encoded data removed]",
      "text/plain": [
       "<Figure size 432x288 with 1 Axes>"
      ]
     },
     "metadata": {
      "needs_background": "light"
     },
     "output_type": "display_data"
    }
   ],
   "source": [
    "plt.scatter(cut_k_array, U_array, color = 'red', label = 'PCS Points')\n",
    "#plt.plot(k, Uk[:,0], color = 'black', linestyle = '--',  label='Correct U')\n",
    "\n",
    "plt.xlabel(\"k\")\n",
    "plt.ylabel(\"U\")\n",
    "plt.title(\"Depend of Current on Wavenumber\")\n",
    "plt.grid(True)\n",
    "plt.legend()\n",
    "#plt.xlim(0.15, 0.2)\n",
    "#plt.ylim(0,4)"
   ]
  },
  {
   "cell_type": "code",
   "execution_count": 111,
   "id": "f58ac448",
   "metadata": {},
   "outputs": [
    {
     "data": {
      "text/plain": [
       "(-3.141592653589793, 3.141592653589793)"
      ]
     },
     "execution_count": 111,
     "metadata": {},
     "output_type": "execute_result"
    },
    {
     "data": {
      "image/png": "[encoded data removed]",
      "text/plain": [
       "<Figure size 432x288 with 1 Axes>"
      ]
     },
     "metadata": {
      "needs_background": "light"
     },
     "output_type": "display_data"
    }
   ],
   "source": [
    "plt.scatter(cut_k_array,Φ_array, color = 'red', label = 'PCS Points')\n",
    "#plt.plot(k, Uk[:,0], color = 'black', linestyle = '--',  label='Correct U')\n",
    "\n",
    "plt.xlabel(\"k\")\n",
    "plt.ylabel(\"U\")\n",
    "plt.title(\"Depend of Current on Wavenumber\")\n",
    "plt.grid(True)\n",
    "plt.legend()\n",
    "plt.ylim(-np.pi,np.pi)"
   ]
  },
  {
   "cell_type": "markdown",
   "id": "a4074c02",
   "metadata": {},
   "source": [
    "# 2.1) Inverted Profile"
   ]
  },
  {
   "cell_type": "code",
   "execution_count": 112,
   "id": "091fcf77",
   "metadata": {},
   "outputs": [],
   "source": [
    "import numpy as np\n",
    "from scipy.optimize import minimize_scalar\n",
    "from scipy.special import factorial, gammaincc, gamma\n",
    "from numpy.polynomial import Polynomial\n",
    "\n",
    "def rms(x):\n",
    "    return np.sqrt(np.mean(x**2))\n",
    "\n",
    "def pedm(k_vect, c_til, nMax_vals=None, deltaz_T_vals=None, deltaz_B_vals=None, waterDepth=None):\n",
    "\n",
    "    # If user has not provided information about the waterDepth, set to infinity\n",
    "    if waterDepth is None:\n",
    "        waterDepth = np.inf\n",
    "\n",
    "    # Handling for inadequate input data.\n",
    "    if len(k_vect) == 0 or len(c_til) == 0:\n",
    "        return np.nan, np.nan, np.nan, np.nan, np.nan\n",
    "\n",
    "    # Now we start with the PEDM. The steps follow those in the manuscript in section 2.1.2 Effect of limitations of measured Doppler shifts\n",
    "    # Define the parameters.\n",
    "    # Calculate effective depths of Doppler shift velocities based on assumption of a linear profile\n",
    "    Z_eff = -(2 * k_vect) ** -1 * np.tanh(np.abs(waterDepth) * k_vect)\n",
    "\n",
    "    # Set default values for PEDM parameter combinations if inputs left blank\n",
    "    if nMax_vals is None:\n",
    "        nm = min(12, round(len(k_vect) / 2))\n",
    "        nMax_vals = np.arange(0, nm+1)\n",
    "    \n",
    "    if deltaz_T_vals is None:\n",
    "        depthRange = np.abs(Z_eff[0] - Z_eff[-1])\n",
    "        deltaz_T_vals = np.linspace(0.01, 0.2, 20) * depthRange\n",
    "\n",
    "    if deltaz_B_vals is None:\n",
    "        depthRange = np.abs(Z_eff[0] - Z_eff[-1])\n",
    "        deltaz_B_vals = np.linspace(0.02, 0.8, 20) * depthRange\n",
    "\n",
    "    z_c = max(4 * np.min(Z_eff), -np.abs(waterDepth))  # Cutoff depth chosen as 4 times the deepest mapped depth. (Set to water depth if depth is shallower)\n",
    "    # z_c is NEGATIVE by convention here\n",
    "\n",
    "    # We loop over all PEDM parameter combinations. First initialize eps_PEDM_out as well as the other outputs.\n",
    "    eps_PEDM_out = np.inf\n",
    "    eps_EDM_out = np.inf\n",
    "\n",
    "    pPEDM_out = np.nan\n",
    "    pEDM_out = np.nan\n",
    "\n",
    "    verbose = []\n",
    "    combo = 0\n",
    "\n",
    "    for nMax in nMax_vals:\n",
    "        for deltaz_B in deltaz_B_vals:\n",
    "            for deltaz_T in deltaz_T_vals:\n",
    "                # STEP 1: Fit the mapped Doppler shifts to a polynomial of order nMax.\n",
    "                p1 = np.polyfit(Z_eff, c_til, nMax)\n",
    "\n",
    "                # STEP 2: Create additional velocity-depth pairs by linearly extrapolating up to the surface and down to cutoff depth z_c\n",
    "                zB = np.linspace(0, deltaz_B, 100)\n",
    "                zT = np.linspace(-deltaz_T, 0, 100)\n",
    "\n",
    "                pTop = np.polyfit(Z_eff[-1] + zT, np.polyval(p1, Z_eff[-1] + zT), 1)\n",
    "                pBottom = np.polyfit(Z_eff[0] + zB, np.polyval(p1, Z_eff[0] + zB), 1)\n",
    "\n",
    "                depthsExBtm = np.arange(z_c, Z_eff[0] - deltaz_B, deltaz_B)\n",
    "                depthsExTop = np.concatenate((np.arange(Z_eff[-1] + deltaz_T, 0, deltaz_T), [0]))\n",
    "\n",
    "                zEx = np.concatenate((depthsExBtm, Z_eff, depthsExTop))\n",
    "                cTilEx = np.concatenate((np.polyval(pBottom, depthsExBtm), c_til, np.polyval(pTop, depthsExTop)))\n",
    "\n",
    "                # STEP 3: Perform a second polynomial fit on the expanded set of points\n",
    "                pEDM = np.polyfit(zEx, cTilEx, nMax)\n",
    "\n",
    "                # Determine if profile is monotonic with range of mapped depths.\n",
    "                nv = np.arange(nMax, 0, -1)\n",
    "                pczEx_p = nv * pEDM[:-1]  # Derivative polynomial coefficients\n",
    "                rts = np.roots(pczEx_p)  # Find roots\n",
    "                rts = rts[np.isreal(rts)]  # Discard complex roots\n",
    "\n",
    "                # If there roots of the derivative within ranges of mapped depths, don't go further.\n",
    "                if np.any((rts > Z_eff[0]) & (rts < 0)):\n",
    "                    continue\n",
    "\n",
    "                # STEP 4: Scale polynomial coefficients defining U_EDM by n! as in equation (8) in the article.\n",
    "                pPEDM_i = pEDM / factorial(np.arange(nMax, -1, -1))\n",
    "\n",
    "                # STEP 5: Create a new set of linearly extrapolated points down to z_c based on the average shear of the above polynomial function in a depth interval deltaz_B/2 at the deep end of the regime.\n",
    "                zB2 = np.linspace(0, deltaz_B/2, 100)\n",
    "                pBottom2 = np.polyfit(Z_eff[0] + zB, np.polyval(pPEDM_i, Z_eff[0] + zB), 1)\n",
    "\n",
    "                depthsExBtm2 = np.arange(z_c, Z_eff[0] - deltaz_B, deltaz_B/2)\n",
    "\n",
    "                zEx2 = np.concatenate((depthsExBtm2, Z_eff, depthsExTop))\n",
    "                Uvals = np.concatenate((np.polyval(pBottom2, depthsExBtm2), np.polyval(pPEDM_i, Z_eff), np.polyval(pPEDM_i, depthsExTop)))\n",
    "\n",
    "                # STEP 6: Perform a final polynomial fit on the expanded set of points.\n",
    "                pPEDM = np.polyfit(zEx2, Uvals, nMax)\n",
    "\n",
    "                # Calculate Doppler shifts assuming U_EDM or U_PEDM as the current profile, using the forward problem.\n",
    "                c_tilEDM = 0\n",
    "                c_tilPEDM = 0\n",
    "\n",
    "                if nMax < 2:\n",
    "                    for n in range(nMax + 1):\n",
    "                        c_tilEDM = c_tilEDM + factorial(n) * pEDM[-n-1] * (-1 / (2 * k_vect)) ** n\n",
    "                        c_tilPEDM = c_tilPEDM + factorial(n) * pPEDM[-n-1] * (-1 / (2 * k_vect)) ** n\n",
    "                else:\n",
    "                    for n in range(nMax + 1):\n",
    "                        c_tilEDM = c_tilEDM + (-1 / 2) ** (n) * k_vect ** (-n) * pEDM[-n-1] * (gammainc(1 + n, -2 * k_vect * z_c)) * gamma(n + 1)\n",
    "                        c_tilPEDM = c_tilPEDM + (-1 / 2) ** (n) * k_vect ** (-n) * pPEDM[-n-1] * (gammainc(1 + n, -2 * k_vect * z_c)) * gamma(n + 1)\n",
    "\n",
    "                # Calculate RMS differences (equation (9) in manuscript)\n",
    "                eps_EDM = rms(c_til - c_tilEDM)  # RMS difference for U_EDM\n",
    "                eps_PEDM = rms(c_til - c_tilPEDM)  # RMS difference for U_PEDM.\n",
    "\n",
    "                # Parameters nMax, deltaz_T, and deltaz_B are chosen to minimize eps_PEDM in practice.\n",
    "                if eps_PEDM < eps_PEDM_out:\n",
    "                    eps_PEDM_out = eps_PEDM\n",
    "                    pPEDM_out = pPEDM\n",
    "                    nMax_out = nMax\n",
    "                    deltaz_B_out = deltaz_B\n",
    "                    deltaz_T_out = deltaz_T\n",
    "\n",
    "                if eps_EDM < eps_EDM_out:\n",
    "                    eps_EDM_out = eps_EDM\n",
    "                    pEDM_out = pEDM\n",
    "\n",
    "                combo = combo + 1\n",
    "                verbose.append({\n",
    "                    #'pPEDM': pPEDM.tolist(),\n",
    "                    #'pEDM': pEDM.tolist(),\n",
    "                    'pPEDM': pPEDM,\n",
    "                    'pEDM': pEDM,\n",
    "                    'eps_PEDM': eps_PEDM,\n",
    "                    'eps_EDM': eps_EDM,\n",
    "                    'nMax': nMax,\n",
    "                    'deltaz_B': deltaz_B,\n",
    "                    'deltaz_T': deltaz_T\n",
    "                })\n",
    "\n",
    "                \n",
    "                #return pPEDM_out, pEDM_out, eps_PEDM_out, eps_EDM_out, verbose\n",
    "    return pPEDM_out, pEDM_out, eps_PEDM_out, eps_EDM_out, verbose\n",
    "\n",
    "# Example usage:\n",
    "pPEDM1, pEDM1, eps_PEDM1, eps_EDM1, verbose1 = pedm(wavenumbers, np.sqrt(Ux**2+Uy**2))\n",
    "pPEDM2, pEDM2, eps_PEDM2, eps_EDM2, verbose2 = pedm(wavenumbers, Uy)"
   ]
  },
  {
   "cell_type": "markdown",
   "id": "06c13c6a",
   "metadata": {},
   "source": [
    "## Testing"
   ]
  },
  {
   "cell_type": "code",
   "execution_count": 113,
   "id": "eb365e96",
   "metadata": {},
   "outputs": [],
   "source": [
    "matlab_ux = np.array([1.29324047095870, -1.89463189363109, -1.69708851869363, -0.669636210830390, -2.75906065502856, -1.94768284605381, -1.66698298781537, -0.899800584589916, 0.0297085589908087, -0.514835078702308, -0.0105890842080116, 0.0759766804549144, -0.0363850496987580, -0.0484059195965528, -0.0103916622911056, -0.0308550721930313, 0.398842029692605, -0.117723340988159, -0.441378683422372, 0.430707406907151, -0.699842772060439, 0.399538248189037, 0.730470696764732, -0.523203395681584, 0.499213099684858])"
   ]
  },
  {
   "cell_type": "code",
   "execution_count": null,
   "id": "b1c0dc23",
   "metadata": {},
   "outputs": [],
   "source": []
  },
  {
   "cell_type": "code",
   "execution_count": null,
   "id": "604aafaf",
   "metadata": {},
   "outputs": [],
   "source": []
  },
  {
   "cell_type": "code",
   "execution_count": 114,
   "id": "47d6894a",
   "metadata": {},
   "outputs": [],
   "source": [
    "z = np.linspace(-20, 0, 100)"
   ]
  },
  {
   "cell_type": "code",
   "execution_count": 115,
   "id": "e7f759ff",
   "metadata": {},
   "outputs": [],
   "source": [
    "U1_fun = lambda z: np.polyval(pPEDM1, z)\n",
    "U2_fun = lambda z: np.polyval(pPEDM2, z)"
   ]
  },
  {
   "cell_type": "code",
   "execution_count": 116,
   "id": "2baeca21",
   "metadata": {},
   "outputs": [
    {
     "data": {
      "text/plain": [
       "<matplotlib.legend.Legend at 0x2d154371c40>"
      ]
     },
     "execution_count": 116,
     "metadata": {},
     "output_type": "execute_result"
    },
    {
     "data": {
      "image/png": "[encoded data removed]",
      "text/plain": [
       "<Figure size 432x288 with 1 Axes>"
      ]
     },
     "metadata": {
      "needs_background": "light"
     },
     "output_type": "display_data"
    }
   ],
   "source": [
    "plt.plot(U1_fun(z), z, label=\"$U_{x}$\", color = 'red')\n",
    "#plt.plot(U2_fun(z), z, label=\"$U_{y}$\", color = 'green')\n",
    "\n",
    "#plt.scatter(-Ux, -1/(2*wavenumbers), label='EDM', color = 'black')\n",
    "plt.scatter( np.sqrt(Ux**2+Uy**2), -1/(3.56*wavenumbers), label='EDM', color = 'blue')\n",
    "\n",
    "plt.grid(True)\n",
    "plt.title(\"PEDM\")\n",
    "plt.xlabel(\"U [m/s]\")\n",
    "plt.ylabel(\"Depth [m]\")\n",
    "plt.legend()"
   ]
  },
  {
   "cell_type": "code",
   "execution_count": 117,
   "id": "4746bb47",
   "metadata": {},
   "outputs": [
    {
     "data": {
      "text/plain": [
       "1239"
      ]
     },
     "execution_count": 117,
     "metadata": {},
     "output_type": "execute_result"
    }
   ],
   "source": [
    "len(verbose1)"
   ]
  },
  {
   "cell_type": "code",
   "execution_count": 118,
   "id": "b50c99e2",
   "metadata": {},
   "outputs": [
    {
     "data": {
      "text/plain": [
       "array([ 5.91350657e-11,  1.35175215e-08,  1.26876173e-06,  6.24913404e-05,\n",
       "        1.69389008e-03,  2.32417033e-02,  9.02125028e-02, -8.48040317e-01,\n",
       "       -1.05427981e+00])"
      ]
     },
     "execution_count": 118,
     "metadata": {},
     "output_type": "execute_result"
    }
   ],
   "source": [
    "pPEDM1"
   ]
  },
  {
   "cell_type": "code",
   "execution_count": 119,
   "id": "56c8b14f",
   "metadata": {},
   "outputs": [
    {
     "data": {
      "text/plain": [
       "{'pPEDM': array([1.26475174]),\n",
       " 'pEDM': array([1.26475174]),\n",
       " 'eps_PEDM': 1.1118373943304174,\n",
       " 'eps_EDM': 1.1118373943304174,\n",
       " 'nMax': 0,\n",
       " 'deltaz_B': 0.2334272498681132,\n",
       " 'deltaz_T': 0.1167136249340566}"
      ]
     },
     "execution_count": 119,
     "metadata": {},
     "output_type": "execute_result"
    }
   ],
   "source": [
    "verbose1[0]"
   ]
  },
  {
   "cell_type": "code",
   "execution_count": null,
   "id": "d7f707aa",
   "metadata": {},
   "outputs": [],
   "source": []
  },
  {
   "cell_type": "code",
   "execution_count": null,
   "id": "f8781c58",
   "metadata": {},
   "outputs": [],
   "source": []
  },
  {
   "cell_type": "code",
   "execution_count": null,
   "id": "df972d4f",
   "metadata": {},
   "outputs": [],
   "source": []
  },
  {
   "cell_type": "code",
   "execution_count": null,
   "id": "448195c1",
   "metadata": {},
   "outputs": [],
   "source": []
  },
  {
   "cell_type": "code",
   "execution_count": null,
   "id": "a1fd041f",
   "metadata": {},
   "outputs": [],
   "source": []
  },
  {
   "cell_type": "code",
   "execution_count": null,
   "id": "c7703f8d",
   "metadata": {},
   "outputs": [],
   "source": []
  },
  {
   "cell_type": "code",
   "execution_count": null,
   "id": "6983493a",
   "metadata": {},
   "outputs": [],
   "source": []
  },
  {
   "cell_type": "code",
   "execution_count": null,
   "id": "e72e1d0f",
   "metadata": {},
   "outputs": [],
   "source": []
  },
  {
   "cell_type": "code",
   "execution_count": null,
   "id": "2ac1e89f",
   "metadata": {},
   "outputs": [],
   "source": []
  },
  {
   "cell_type": "code",
   "execution_count": 823,
   "id": "de4b8eb7",
   "metadata": {},
   "outputs": [],
   "source": [
    "y = np.array([0.17091544, 0.2196002 , 0.24884891, 0.22784447, 0.365201,\n",
    "       0.37375478, 0.39257039, 0.37231073, 0.41550739, 0.43636989,\n",
    "       0.45111672, 0.46662792, 0.48854647, 0.49640163, 0.51887196,\n",
    "       0.52827061, 0.54437941, 0.54929705, 0.56552202, 0.57508514,\n",
    "      0.58477563, 0.59755615])\n",
    "x = np.array([0.03751155, 0.05001541, 0.06251926, 0.07502311, 0.08752696,\n",
    "        0.10003081, 0.11253466, 0.12503851, 0.13754236, 0.15004622,\n",
    "       0.16255007, 0.17505392, 0.18755777, 0.20006162, 0.21256547,\n",
    "       0.22506932, 0.23757318, 0.25007703, 0.26258088, 0.27508473,\n",
    "       0.28758858, 0.30009243])"
   ]
  },
  {
   "cell_type": "code",
   "execution_count": 832,
   "id": "8de32b53",
   "metadata": {},
   "outputs": [
    {
     "data": {
      "text/plain": [
       "(-0.05, 0.32)"
      ]
     },
     "execution_count": 832,
     "metadata": {},
     "output_type": "execute_result"
    },
    {
     "data": {
      "image/png": "[encoded data removed]",
      "text/plain": [
       "<Figure size 432x288 with 1 Axes>"
      ]
     },
     "metadata": {
      "needs_background": "light"
     },
     "output_type": "display_data"
    }
   ],
   "source": [
    "plt.scatter(x, y)\n",
    "\n",
    "plt.grid(True)\n",
    "plt.xlabel(\"X Data\")\n",
    "plt.ylabel(\"Y Data\")\n",
    "\n",
    "plt.ylim(-0.05,0.65)\n",
    "plt.xlim(-0.05,0.32)"
   ]
  },
  {
   "cell_type": "code",
   "execution_count": null,
   "id": "81de41b4",
   "metadata": {},
   "outputs": [],
   "source": []
  },
  {
   "cell_type": "code",
   "execution_count": null,
   "id": "57a7486c",
   "metadata": {},
   "outputs": [],
   "source": []
  },
  {
   "cell_type": "code",
   "execution_count": null,
   "id": "b0ede5a4",
   "metadata": {},
   "outputs": [],
   "source": []
  }
 ],
 "metadata": {
  "kernelspec": {
   "display_name": "Python 3",
   "language": "python",
   "name": "python3"
  },
  "language_info": {
   "codemirror_mode": {
    "name": "ipython",
    "version": 3
   },
   "file_extension": ".py",
   "mimetype": "text/x-python",
   "name": "python",
   "nbconvert_exporter": "python",
   "pygments_lexer": "ipython3",
   "version": "3.8.8"
  }
 },
 "nbformat": 4,
 "nbformat_minor": 5
}
