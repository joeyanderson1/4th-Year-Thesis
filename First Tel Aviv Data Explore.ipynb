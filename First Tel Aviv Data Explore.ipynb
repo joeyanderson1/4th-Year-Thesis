{
 "cells": [
  {
   "cell_type": "code",
   "execution_count": 68,
   "id": "a4e14953",
   "metadata": {},
   "outputs": [],
   "source": [
    "import sys\n",
    "sys.path.append(\"C:\\\\Users\\josep\\Documents\\Anaconda\\pkgs\")\n",
    "import help_tools\n",
    "import wave_tools\n",
    "import cv2\n",
    "import h5py\n",
    "from matplotlib import cm\n",
    "import radar_tools\n",
    "import numpy as np\n",
    "from wave_tools import ConstructWave, surface_core, peak_tracking\n",
    "from wave_tools import fft_interpolate, fft_interface, Spectrum\n",
    "from wave_tools import SpectralAnalysis\n",
    "import matplotlib.pyplot as plt\n",
    "from help_tools import plotting_interface\n",
    "from wave_tools import surface_core, fft_interface, dispersionRelation\n",
    "from help_tools import plotting_interface, polar_coordinates, convolutional_filters, moving_average\n",
    "from scipy.optimize import least_squares\n",
    "from scipy.optimize import minimize\n",
    "from scipy.optimize import curve_fit\n",
    "from matplotlib.ticker import LinearLocator, FormatStrFormatter\n",
    "from tqdm import tqdm\n",
    "from mpl_toolkits.mplot3d import Axes3D\n",
    "from scipy.special import gamma, gammainc"
   ]
  },
  {
   "cell_type": "code",
   "execution_count": 4,
   "id": "05f215af",
   "metadata": {},
   "outputs": [],
   "source": [
    "sys.path.append(\"C:\\\\Users\\josep\\Desktop\\PHYC40900_Project TP\")"
   ]
  },
  {
   "cell_type": "code",
   "execution_count": 7,
   "id": "1da45215",
   "metadata": {},
   "outputs": [],
   "source": [
    "f = h5py.File('C:\\\\Users\\josep\\Desktop\\PHYC40900_Project TP\\Real Data Sets\\First Tel-Aviv data', 'r')"
   ]
  },
  {
   "cell_type": "code",
   "execution_count": 19,
   "id": "bad5f8a7",
   "metadata": {},
   "outputs": [
    {
     "data": {
      "text/plain": [
       "<KeysViewHDF5 ['t', 'wamos', 'x', 'y']>"
      ]
     },
     "execution_count": 19,
     "metadata": {},
     "output_type": "execute_result"
    }
   ],
   "source": [
    "f.keys()"
   ]
  },
  {
   "cell_type": "code",
   "execution_count": 20,
   "id": "04fa9ee2",
   "metadata": {},
   "outputs": [],
   "source": [
    "x = f.get('x')\n",
    "y = f.get('y')\n",
    "t = f.get('t')\n",
    "wamos = f.get('wamos')\n",
    "\n",
    "x = np.array(x)\n",
    "y = np.array(y)\n",
    "t = np.array(t)\n",
    "wamos = np.array(wamos)"
   ]
  },
  {
   "cell_type": "code",
   "execution_count": 26,
   "id": "4ba3e658",
   "metadata": {},
   "outputs": [
    {
     "data": {
      "text/plain": [
       "array([-247.5 , -243.75, -240.  , -236.25, -232.5 , -228.75, -225.  ,\n",
       "       -221.25, -217.5 , -213.75, -210.  , -206.25, -202.5 , -198.75,\n",
       "       -195.  , -191.25, -187.5 , -183.75, -180.  , -176.25, -172.5 ,\n",
       "       -168.75, -165.  , -161.25, -157.5 , -153.75, -150.  , -146.25,\n",
       "       -142.5 , -138.75, -135.  , -131.25, -127.5 , -123.75, -120.  ,\n",
       "       -116.25, -112.5 , -108.75, -105.  , -101.25,  -97.5 ,  -93.75,\n",
       "        -90.  ,  -86.25,  -82.5 ,  -78.75,  -75.  ,  -71.25,  -67.5 ,\n",
       "        -63.75,  -60.  ,  -56.25,  -52.5 ,  -48.75,  -45.  ,  -41.25,\n",
       "        -37.5 ,  -33.75,  -30.  ,  -26.25,  -22.5 ,  -18.75,  -15.  ,\n",
       "        -11.25,   -7.5 ,   -3.75,    0.  ,    3.75,    7.5 ,   11.25,\n",
       "         15.  ,   18.75,   22.5 ,   26.25,   30.  ,   33.75,   37.5 ,\n",
       "         41.25,   45.  ,   48.75,   52.5 ,   56.25,   60.  ,   63.75,\n",
       "         67.5 ,   71.25,   75.  ,   78.75,   82.5 ,   86.25,   90.  ,\n",
       "         93.75,   97.5 ,  101.25,  105.  ,  108.75,  112.5 ,  116.25,\n",
       "        120.  ,  123.75,  127.5 ,  131.25,  135.  ,  138.75,  142.5 ,\n",
       "        146.25,  150.  ,  153.75,  157.5 ,  161.25,  165.  ,  168.75,\n",
       "        172.5 ,  176.25,  180.  ,  183.75,  187.5 ,  191.25,  195.  ,\n",
       "        198.75,  202.5 ,  206.25,  210.  ,  213.75,  217.5 ,  221.25,\n",
       "        225.  ,  228.75,  232.5 ,  236.25,  240.  ,  243.75])"
      ]
     },
     "execution_count": 26,
     "metadata": {},
     "output_type": "execute_result"
    }
   ],
   "source": [
    "x"
   ]
  },
  {
   "cell_type": "code",
   "execution_count": 92,
   "id": "310a8cc8",
   "metadata": {},
   "outputs": [
    {
     "data": {
      "text/plain": [
       "(366,)"
      ]
     },
     "execution_count": 92,
     "metadata": {},
     "output_type": "execute_result"
    }
   ],
   "source": [
    "t.shape"
   ]
  },
  {
   "cell_type": "code",
   "execution_count": 22,
   "id": "442633cd",
   "metadata": {},
   "outputs": [
    {
     "data": {
      "text/plain": [
       "(366, 132, 132)"
      ]
     },
     "execution_count": 22,
     "metadata": {},
     "output_type": "execute_result"
    }
   ],
   "source": [
    "wamos.shape"
   ]
  },
  {
   "cell_type": "code",
   "execution_count": 31,
   "id": "dfc0b90b",
   "metadata": {},
   "outputs": [
    {
     "data": {
      "text/plain": [
       "-3.75"
      ]
     },
     "execution_count": 31,
     "metadata": {},
     "output_type": "execute_result"
    }
   ],
   "source": [
    "y[4] - y[5]"
   ]
  },
  {
   "cell_type": "code",
   "execution_count": 40,
   "id": "f21fab52",
   "metadata": {},
   "outputs": [],
   "source": [
    "dx = x[1] - x[0]\n",
    "dy = y[1] - y[0]\n",
    "dt = t[1] - t[0]"
   ]
  },
  {
   "cell_type": "code",
   "execution_count": 44,
   "id": "0078d096",
   "metadata": {},
   "outputs": [
    {
     "data": {
      "text/plain": [
       "(366, 132, 132)"
      ]
     },
     "execution_count": 44,
     "metadata": {},
     "output_type": "execute_result"
    }
   ],
   "source": [
    "wamos.shape"
   ]
  },
  {
   "cell_type": "code",
   "execution_count": 46,
   "id": "d71a34b8",
   "metadata": {},
   "outputs": [
    {
     "data": {
      "text/plain": [
       "0.01269330365086785"
      ]
     },
     "execution_count": 46,
     "metadata": {},
     "output_type": "execute_result"
    }
   ],
   "source": [
    "dk = 2*np.pi/(dx*min(wamos.shape[0], wamos.shape[1]))\n",
    "dk"
   ]
  },
  {
   "cell_type": "code",
   "execution_count": 48,
   "id": "d8b706a0",
   "metadata": {},
   "outputs": [
    {
     "data": {
      "text/plain": [
       "array([0.03807991, 0.05077321, 0.06346652, 0.07615982, 0.08885313,\n",
       "       0.10154643, 0.11423973, 0.12693304, 0.13962634, 0.15231964,\n",
       "       0.16501295, 0.17770625, 0.19039955, 0.20309286, 0.21578616,\n",
       "       0.22847947, 0.24117277, 0.25386607, 0.26655938, 0.27925268,\n",
       "       0.29194598, 0.30463929, 0.31733259, 0.33002589, 0.3427192 ])"
      ]
     },
     "execution_count": 48,
     "metadata": {},
     "output_type": "execute_result"
    }
   ],
   "source": [
    "wavenumbers = np.arange(3 * dk, 0.35, dk)\n",
    "wavenumbers"
   ]
  },
  {
   "cell_type": "markdown",
   "id": "eeca2290",
   "metadata": {},
   "source": [
    "# 1.1) NSP Method"
   ]
  },
  {
   "cell_type": "code",
   "execution_count": 50,
   "id": "036854a7",
   "metadata": {},
   "outputs": [],
   "source": [
    "maxFrequency = 4.0 \n",
    "\n",
    "kW = 1*dk\n",
    "# Half width of wavenumbers bins [rad/m]\n",
    "\n",
    "frequencyLimits = [0.01,20.0]\n",
    "# frequency limits for masking the spectrum [min max], rad/sec\n",
    "\n",
    "Ux_limits = [-1.0, 1.0]\n",
    "# Ux current limits [m/s]\n",
    "\n",
    "Uy_limits = [-1.0, 1.0]\n",
    "# Uy current limts [m/s]\n",
    "\n",
    "U_res = 0.1\n",
    "# Current step size [m/s]\n",
    "\n",
    "omegaWidthFun = lambda k: 0.05 + 0.0 * k"
   ]
  },
  {
   "cell_type": "code",
   "execution_count": 51,
   "id": "2c8990b3",
   "metadata": {},
   "outputs": [],
   "source": [
    "Uym, Uxm = np.meshgrid(np.arange(min(Uy_limits), max(Uy_limits) + U_res, U_res),\n",
    "                       np.arange(min(Ux_limits), max(Ux_limits) + U_res, U_res))"
   ]
  },
  {
   "cell_type": "code",
   "execution_count": 52,
   "id": "5155d62e",
   "metadata": {},
   "outputs": [],
   "source": [
    "h = np.inf\n",
    "g = 9.81\n",
    "T = 0.072 / 1000"
   ]
  },
  {
   "cell_type": "code",
   "execution_count": 53,
   "id": "2438429d",
   "metadata": {},
   "outputs": [],
   "source": [
    "from scipy.fftpack import fftn, fftshift\n",
    "\n",
    "def retrieve_power_spectrum(IMG_3D, dx, dy, dt, K_limits=None, W_limits=None):\n",
    "    # Set default values for K_limits and W_limits if not provided\n",
    "    if K_limits is None:\n",
    "        K_limits = [-np.inf, np.inf]\n",
    "    if W_limits is None:\n",
    "        W_limits = [-np.inf, np.inf]\n",
    "\n",
    "    # Check limits\n",
    "    if any(np.array(K_limits) < 0):\n",
    "        print('retrieve_positive_spectrum: K_limits smaller than 0')\n",
    "    if any(np.array(W_limits) < 0):\n",
    "        print('retrieve_positive_spectrum: W_limits smaller than 0')\n",
    "\n",
    "    # Get Kx, Ky, and w axes\n",
    "    Nt, Nx, Ny = IMG_3D.shape\n",
    "    Kx = (2 * np.pi * 1 / dx / Nx) * np.arange(-np.ceil((Nx - 1) / 2), np.floor((Nx - 1) / 2) + 1)\n",
    "    Ky = (2 * np.pi * 1 / dy / Ny) * np.arange(-np.ceil((Ny - 1) / 2), np.floor((Ny - 1) / 2) + 1)\n",
    "    w = (2 * np.pi * 1 / dt / Nt) * np.arange(-np.ceil((Nt - 1) / 2), np.floor((Nt - 1) / 2) + 1)\n",
    "\n",
    "    dKx = Kx[1] - Kx[0]\n",
    "    dKy = Ky[1] - Ky[0]\n",
    "    dW = w[1] - w[0]\n",
    "    Norm = dKx * dKy * dW\n",
    "\n",
    "    # Get power spectra\n",
    "    Spectrum_raw = fftshift(fftn(IMG_3D) / np.prod(IMG_3D.shape))\n",
    "    power_Spectrum = np.abs(Spectrum_raw / Norm)**2\n",
    "\n",
    "    # Get index boundaries\n",
    "    ind_x = np.abs(Kx) <= K_limits[1]\n",
    "    ind_y = np.abs(Ky) <= K_limits[1]\n",
    "    ind_w = (w >= W_limits[0]) & (w <= W_limits[1])\n",
    "\n",
    "    # Create 3D structure using meshgrid\n",
    "    W_3D, Kx_3D, Ky_3D = np.meshgrid(w[ind_w], Kx[ind_x], Ky[ind_y], indexing='ij')\n",
    "\n",
    "    # Use np.ix_ for boolean indexing to extract the desired values\n",
    "    power_Spectrum_cut = power_Spectrum[np.ix_(ind_w, ind_x, ind_y)]\n",
    "\n",
    "    # Set to NaN values outside K_limits\n",
    "    K_3D = np.sqrt(Kx_3D**2 + Ky_3D**2)\n",
    "    power_Spectrum_cut[(K_3D < K_limits[0]) | (K_3D > K_limits[1])] = np.nan\n",
    "\n",
    "    # Get original spectrum limits\n",
    "    Kx_orig_limits = [Kx[0], Kx[-1]]\n",
    "    Ky_orig_limits = [Ky[0], Ky[-1]]\n",
    "    W_orig_limits = [w[0], w[-1]]\n",
    "\n",
    "    # Normalize spectra (sum(power_Spectrum_cut(:)) = 1)\n",
    "    power_Spectrum_cut /= np.nansum(power_Spectrum_cut)\n",
    "\n",
    "    # Create output structure\n",
    "    Spectrum = {'power_Spectrum': power_Spectrum_cut,\n",
    "                'Kx_3D': Kx_3D, 'Ky_3D': Ky_3D, 'W_3D': W_3D,\n",
    "                'dKx': dKx, 'dKy': dKy, 'dW': dW,\n",
    "                'Kx_orig_limits': Kx_orig_limits, 'Ky_orig_limits': Ky_orig_limits,\n",
    "                'W_orig_limits': W_orig_limits}\n",
    "\n",
    "    return Spectrum"
   ]
  },
  {
   "cell_type": "code",
   "execution_count": 54,
   "id": "729f2d50",
   "metadata": {},
   "outputs": [],
   "source": [
    "from scipy.optimize import minimize\n",
    "import matplotlib.pyplot as plt\n",
    "\n",
    "def get_doppler_shift_velocities_nsp(Spectrum, fit_param, Properties, verboseFig=False):\n",
    "    \n",
    "    out_fit = {'wavenumbers': fit_param['wavenumbers'],\n",
    "               'Ux': np.zeros(len([fit_param['wavenumbers']])),\n",
    "               'Uy': np.zeros(len([fit_param['wavenumbers']])),\n",
    "               'SNR_max': np.zeros(len([fit_param['wavenumbers']])),\n",
    "               'Ux_2D': fit_param['Ux_2D'],\n",
    "               'Uy_2D': fit_param['Uy_2D'],\n",
    "               'verbose': []}\n",
    "\n",
    "    h = Properties['h']\n",
    "    g = Properties['g']\n",
    "    T = Properties['T']\n",
    "    omegaWidthFun = fit_param['omegaWidthFun']\n",
    "    wavenumbers = fit_param['wavenumbers']\n",
    "\n",
    "    for jj in range(len([fit_param['wavenumbers']])):\n",
    "        P = {'h': h, 'g': g, 'T': T,\n",
    "             'omegaWidth': omegaWidthFun(wavenumbers)}\n",
    "\n",
    "        snrG = np.zeros(fit_param['Ux_2D'].shape)\n",
    "\n",
    "        for i in range(fit_param['Ux_2D'].shape[0]):\n",
    "            for j in range(fit_param['Ux_2D'].shape[1]):\n",
    "                snr_ij, _, _ = nsp_doppler_shift_extraction(Spectrum, P, wavenumbers, fit_param['Ux_2D'][i, j], fit_param['Uy_2D'][i, j])\n",
    "                snrG[i, j] = snr_ij\n",
    "\n",
    "        im = np.argmax(snrG)\n",
    "\n",
    "        if np.ndim(fit_param['Ux_2D']) == 1:\n",
    "            cDoppGuess = fit_param['Ux_2D'][im]\n",
    "        else:\n",
    "            cDoppGuess = [fit_param['Ux_2D'].flat[im], fit_param['Uy_2D'].flat[im]]\n",
    "\n",
    "        options = {'disp': False}  # Turn off display output\n",
    "        Ufit = minimize(lambda U: 1 - nsp_doppler_shift_extraction(Spectrum, P, fit_param['wavenumbers'], U[0], U[1])[0] if np.ndim(U) > 1 else 1 - nsp_doppler_shift_extraction(Spectrum, P, fit_param['wavenumbers'], U[0], U[1])[0], \n",
    "                        cDoppGuess, options=options)\n",
    "\n",
    "        if len(cDoppGuess) > 1:\n",
    "            Ufit = Ufit.x\n",
    "        else:\n",
    "            Ufit = [Ufit.x[0], 0]\n",
    "\n",
    "        SNR_fit, _, _ = nsp_doppler_shift_extraction(Spectrum, P, wavenumbers, Ufit[0], Ufit[1])\n",
    "\n",
    "        out_fit['Ux'][jj] = Ufit[0]\n",
    "        out_fit['Uy'][jj] = Ufit[1]\n",
    "        out_fit['SNR_max'][jj] = SNR_fit\n",
    "\n",
    "        verbose = {'k': fit_param['wavenumbers'], 'SNR_2D': snrG, 'Peaks_2D': find_peaks(snrG)}\n",
    "        out_fit['verbose'].append(verbose)\n",
    "\n",
    "    # Post-processing\n",
    "    out_fit['Ux_filt'] = out_fit['Ux'].copy()\n",
    "    out_fit['Uy_filt'] = out_fit['Uy'].copy()\n",
    "    out_fit['SNR_max'] = out_fit['SNR_max'].copy()\n",
    "\n",
    "    return out_fit"
   ]
  },
  {
   "cell_type": "code",
   "execution_count": 55,
   "id": "8419d7a4",
   "metadata": {},
   "outputs": [],
   "source": [
    "def nsp_doppler_shift_extraction(Spectrum, params, kval, U, V):\n",
    "    # Define wave dispersion relation.\n",
    "    omegaFun = lambda kx, ky: np.sqrt((params['g']*np.sqrt(kx**2 + ky**2) + params['T']*np.sqrt(kx**2 + ky**2)**3) * np.tanh(np.sqrt(kx**2 + ky**2) * params['h'])) + U*kx + V*ky\n",
    "\n",
    "    # Frequency width of weighting function (1/e^2 halfwidth)\n",
    "    a = params['omegaWidth']\n",
    "\n",
    "    if 'logFlag' not in params:\n",
    "        params['logFlag'] = 0\n",
    "\n",
    "    if 'include2ndHarmonic' not in params:\n",
    "        params['include2ndHarmonic'] = 0\n",
    "\n",
    "    if 'kWidth' in params:\n",
    "        a_k = params['kWidth']\n",
    "    else:\n",
    "        a_k = max(Spectrum['dKx'], Spectrum['dKy']) * 2\n",
    "\n",
    "    inds = ~np.isnan(Spectrum['power_Spectrum'])\n",
    "\n",
    "    P_k = np.sqrt(Spectrum['power_Spectrum'][inds])\n",
    "    KX = Spectrum['Kx_3D'][inds]\n",
    "    KY = Spectrum['Ky_3D'][inds]\n",
    "    W = Spectrum['W_3D'][inds]\n",
    "\n",
    "    if params['include2ndHarmonic']:\n",
    "        inds2 = ~np.isnan(Spectrum['power_Spectrum2'])\n",
    "        P_k2 = np.sqrt(Spectrum['power_Spectrum2'][inds2])\n",
    "        KX2 = Spectrum['Kx_3D2'][inds2]\n",
    "        KY2 = Spectrum['Ky_3D2'][inds2]\n",
    "        W2 = Spectrum['W_3D2'][inds2]\n",
    "        omegaFun2 = lambda kx, ky: np.sqrt(2) * np.sqrt((params['g']*np.sqrt(kx**2 + ky**2) + params['T']*np.sqrt(kx**2 + ky**2)**3) * np.tanh(np.sqrt(kx**2 + ky**2) * params['h']) + U*kx + V*ky)\n",
    "    else:\n",
    "        P_k2 = 0\n",
    "\n",
    "    if params['logFlag']:\n",
    "        P_k = np.log(P_k)\n",
    "        P_k = P_k - np.min(P_k)\n",
    "\n",
    "        if params['include2ndHarmonic']:\n",
    "            P_k2 = np.log(P_k2)\n",
    "            P_k2 = P_k2 - np.min(P_k2)\n",
    "\n",
    "    K = np.sqrt(KX**2 + KY**2)\n",
    "    order = 2\n",
    "\n",
    "    if not np.isnan(kval):\n",
    "        P_k = P_k * np.exp(-2*((K-kval)/a_k)**order)\n",
    "\n",
    "    # Define weighting function G\n",
    "    G1 = np.exp(-2*((W - omegaFun(KX, KY))/max(a))**order)\n",
    "    G2 = np.exp(-2*((W + omegaFun(-KX, -KY))/max(a))**order)\n",
    "\n",
    "    G = G1 + G2\n",
    "\n",
    "    if params['include2ndHarmonic']:\n",
    "        G1_2 = np.exp(-2*((W2 - omegaFun2(KX2, KY2))/a)**order)\n",
    "        G2_2 = np.exp(-2*((W2 + omegaFun2(-KX2, -KY2))/a)**order)\n",
    "\n",
    "        G_2 = G1_2 + G2_2\n",
    "\n",
    "        P_k2[~np.isfinite(P_k2)] = 0\n",
    "\n",
    "        signal_2 = np.sum(P_k2*G_2)/np.sum(G_2)\n",
    "        noise_2 = np.sum(P_k2*(1-G_2))/np.sum(1-G_2)\n",
    "    else:\n",
    "        signal_2 = 0\n",
    "        noise_2 = 0\n",
    "\n",
    "    P_k[~np.isfinite(P_k)] = 0\n",
    "    InP = P_k * G\n",
    "\n",
    "    signal_1 = np.sum(InP)/np.sum(G)\n",
    "    noise_1 = np.sum(P_k*(1-G))/np.sum(1-G)\n",
    "    SNR = (signal_1 + signal_2)/(noise_1 + noise_2)\n",
    "\n",
    "    return SNR, P_k, G"
   ]
  },
  {
   "cell_type": "code",
   "execution_count": 56,
   "id": "174c2847",
   "metadata": {},
   "outputs": [],
   "source": [
    "wavenumberLimits = []\n",
    "\n",
    "for jj in range(len(wavenumbers)):\n",
    "    wavenumberLimits_range = wavenumbers[jj] + kW * np.array([-1,1])\n",
    "    wavenumberLimits.append(wavenumberLimits_range)"
   ]
  },
  {
   "cell_type": "code",
   "execution_count": 58,
   "id": "4a4927d1",
   "metadata": {},
   "outputs": [
    {
     "name": "stderr",
     "output_type": "stream",
     "text": [
      "Processing wavenumbers: 100%|██████████| 25/25 [01:34<00:00,  3.76s/it]\n"
     ]
    }
   ],
   "source": [
    "Spectrum_at_k = []\n",
    "\n",
    "ind_x_at_k = []\n",
    "ind_y_at_k = []\n",
    "ind_w_at_k = []\n",
    "\n",
    "W_3D_at_k = []\n",
    "Kx_3D_at_k = []\n",
    "Ky_3D_at_k = []\n",
    "\n",
    "Ux_at_k = []\n",
    "Uy_at_k = []\n",
    "\n",
    "SNR_max_at_k = []\n",
    "\n",
    "snrG_at_k = []\n",
    "\n",
    "im_at_k = []\n",
    "cDoppGuess_at_k = []\n",
    "\n",
    "Ux_at_k_correct = []\n",
    "Uy_at_k_correct = []\n",
    "\n",
    "# Initialize the tqdm progress bar outside the loop\n",
    "progress_bar = tqdm(total=len(wavenumberLimits), desc=\"Processing wavenumbers\")\n",
    "\n",
    "for i in range(len(wavenumberLimits)):\n",
    "    # i is the index of each wavenumber\n",
    "    \n",
    "    fit_param = {'wavenumbers': wavenumbers[i],\n",
    "     'include2ndHarmonic': 0,\n",
    "     'logFlag': [],\n",
    "     'SNR_filter': 0,\n",
    "     'SNR_threshold': 1.0,\n",
    "     'Peak_filter': 0,\n",
    "     'Peak_threshold': 0.5,\n",
    "     'Outlier_filter': 0,\n",
    "     'kWidth': 0.050015405430285265,\n",
    "     'Ux_2D': Uxm, \n",
    "     'Uy_2D': Uym}\n",
    "    \n",
    "    P = {'h': h, 'g': g, 'T': T,\n",
    "             'omegaWidth': omegaWidthFun(wavenumbers),\n",
    "             'kWidth': fit_param['kWidth'],\n",
    "             'logFlag': fit_param['logFlag'],\n",
    "             'include2ndHarmonic': fit_param['include2ndHarmonic']}\n",
    "    \n",
    "    Spectrum = retrieve_power_spectrum(wamos, dx, dy, dt, K_limits=wavenumberLimits[i], W_limits=frequencyLimits)\n",
    "    Spectrum_at_k.append(Spectrum)\n",
    "    \n",
    "    Nt, Nx, Ny = wamos.shape\n",
    "    \n",
    "    Kx = (2 * np.pi * 1 / dx / Nx) * np.arange(-np.ceil((Nx - 1) / 2), np.floor((Nx - 1) / 2) + 1) # 67 values\n",
    "    Ky = (2 * np.pi * 1 / dy / Ny) * np.arange(-np.ceil((Ny - 1) / 2), np.floor((Ny - 1) / 2) + 1) # 67 Values\n",
    "    w = (2 * np.pi * 1 / dt / Nt) * np.arange(-np.ceil((Nt - 1) / 2), np.floor((Nt - 1) / 2) + 1) # 1200 Values\n",
    "    # w = spec3d.get_C()[0]\n",
    "    # Kx = spec3d.get_C()[1]\n",
    "    # Ky = spec3d.get_C()[2]\n",
    "    \n",
    "    dKx = Kx[1] - Kx[0]\n",
    "    dKy = Ky[1] - Ky[0]\n",
    "    dW = w[1] - w[0]\n",
    "    # kx, ky and w resolution\n",
    "    \n",
    "    Norm = dKx * dKy * dW\n",
    "    \n",
    "    # Get power spectra (1200, 67, 67)\n",
    "    Spectrum_raw = fftshift(fftn(wamos) / np.prod(wamos.shape))\n",
    "    power_Spectrum = np.abs(Spectrum_raw / Norm)**2\n",
    "    # ?? how is this related to FFT spec3d.spectrum()\n",
    "    \n",
    "    ind_x = np.abs(Kx) <= wavenumberLimits[i][1]\n",
    "    ind_x_at_k.append(ind_x)\n",
    "    ind_y = np.abs(Ky) <= wavenumberLimits[i][1]\n",
    "    ind_y_at_k.append(ind_y)\n",
    "    # Is the absolute values of Kx and Ky smaller than the upper value of the wavenumber range \n",
    "    \n",
    "    ind_w = (w >= frequencyLimits[0]) & (w <= frequencyLimits[1])\n",
    "    ind_w_at_k.append(ind_w)\n",
    "    # Is the value of w between the frequency limits 0.01 and 20 \n",
    "    \n",
    "    # Create 3D structure where it only includes w,Kx,Ky that are in the ranges required by wavenumberLimits\n",
    "    W_3D, Kx_3D, Ky_3D = np.meshgrid( w[ind_w_at_k[i]], Kx[ind_x_at_k[i]] , Ky[ind_y_at_k[i]] , indexing='ij')\n",
    "    W_3D_at_k.append(W_3D)\n",
    "    Kx_3D_at_k.append(Kx_3D)\n",
    "    Ky_3D_at_k.append(Ky_3D)\n",
    "    \n",
    "    \n",
    "    Ux_2D = Uxm\n",
    "    Uy_2D = Uym\n",
    "    \n",
    "    snrG = np.zeros(Ux_2D.shape)\n",
    "    \n",
    "    for m in range(Ux_2D.shape[0]):\n",
    "        for n in range(Ux_2D.shape[1]):\n",
    "            snr_mn, _, _ = nsp_doppler_shift_extraction(Spectrum, P, wavenumbers[i], Ux_2D[m, n], Uy_2D[m, n])\n",
    "            snrG[m, n] = snr_mn\n",
    "            \n",
    "            \n",
    "    snrG_at_k.append(snrG)\n",
    "    # Append the 2D array to the list\n",
    "    \n",
    "    \n",
    "    im = np.argmax(snrG_at_k[i])\n",
    "    im_at_k.append(im)\n",
    "    \n",
    "    if np.ndim(Ux_2D) == 1:\n",
    "        cDoppGuess = Ux_2D[im]\n",
    "    else:\n",
    "        Ux_1D = Ux_2D.flatten()\n",
    "        Uy_1D = Uy_2D.flatten()\n",
    "        cDoppGuess = [Ux_1D[im], Uy_1D[im]]\n",
    "    \n",
    "    cDoppGuess_at_k.append(cDoppGuess)\n",
    "    \n",
    "    \n",
    "    Ufit = minimize(lambda U: 1 - nsp_doppler_shift_extraction(Spectrum, P, fit_param['wavenumbers'], U[0], U[1])[0], cDoppGuess)\n",
    "    \n",
    "    Ux = Ufit.x[0]\n",
    "    Uy = Ufit.x[1]\n",
    "    \n",
    "    Ux_at_k_correct.append(Ux)\n",
    "    Uy_at_k_correct.append(Uy)\n",
    "    \n",
    "    # Update the tqdm progress bar\n",
    "    progress_bar.update(1)\n",
    "\n",
    "# Close the tqdm progress bar after the loop is finished\n",
    "progress_bar.close()"
   ]
  },
  {
   "cell_type": "code",
   "execution_count": 59,
   "id": "8aa1c1a3",
   "metadata": {},
   "outputs": [],
   "source": [
    "Ux = np.array(Ux_at_k_correct)\n",
    "Uy = np.array(Uy_at_k_correct)"
   ]
  },
  {
   "cell_type": "code",
   "execution_count": 127,
   "id": "bc42a97c",
   "metadata": {},
   "outputs": [
    {
     "data": {
      "text/plain": [
       "(-4.0, 4.0)"
      ]
     },
     "execution_count": 127,
     "metadata": {},
     "output_type": "execute_result"
    },
    {
     "data": {
      "image/png": "[encoded data removed]",
      "text/plain": [
       "<Figure size 432x288 with 1 Axes>"
      ]
     },
     "metadata": {
      "needs_background": "light"
     },
     "output_type": "display_data"
    }
   ],
   "source": [
    "plt.scatter(wavenumbers, -Ux, label='Ux', color = 'blue')\n",
    "plt.scatter(wavenumbers, Uy, label='Uy', color = 'red')\n",
    "#plt.plot(k, Uk[:,0], label = 'Correct U', linestyle='--', color='black')\n",
    "\n",
    "\n",
    "plt.grid(True)\n",
    "plt.legend()\n",
    "plt.ylabel(\"U [m/s]\")\n",
    "plt.xlabel(\"Wavenumber [rad/m]\")\n",
    "\n",
    "plt.ylim(-4, 4)\n",
    "#plt.xlim(0, 0.31)"
   ]
  },
  {
   "cell_type": "markdown",
   "id": "ebfd7b62",
   "metadata": {},
   "source": [
    "# 2.1) Inverted Profile"
   ]
  },
  {
   "cell_type": "code",
   "execution_count": 225,
   "id": "20cc1c73",
   "metadata": {},
   "outputs": [],
   "source": [
    "import numpy as np\n",
    "from scipy.optimize import minimize_scalar\n",
    "from scipy.special import factorial, gammaincc, gamma\n",
    "from numpy.polynomial import Polynomial\n",
    "\n",
    "def rms(x):\n",
    "    return np.sqrt(np.mean(x**2))\n",
    "\n",
    "def pedm(k_vect, c_til, nMax_vals=None, deltaz_T_vals=None, deltaz_B_vals=None, waterDepth=None):\n",
    "\n",
    "    # If user has not provided information about the waterDepth, set to infinity\n",
    "    if waterDepth is None:\n",
    "        waterDepth = np.inf\n",
    "\n",
    "    # Handling for inadequate input data.\n",
    "    if len(k_vect) == 0 or len(c_til) == 0:\n",
    "        return np.nan, np.nan, np.nan, np.nan, np.nan\n",
    "\n",
    "    # Now we start with the PEDM. The steps follow those in the manuscript in section 2.1.2 Effect of limitations of measured Doppler shifts\n",
    "    # Define the parameters.\n",
    "    # Calculate effective depths of Doppler shift velocities based on assumption of a linear profile\n",
    "    Z_eff = -(2 * k_vect) ** -1 * np.tanh(np.abs(waterDepth) * k_vect)\n",
    "\n",
    "    # Set default values for PEDM parameter combinations if inputs left blank\n",
    "    if nMax_vals is None:\n",
    "        nm = min(12, round(len(k_vect) / 2))\n",
    "        nMax_vals = np.arange(0, nm+1)\n",
    "    \n",
    "    if deltaz_T_vals is None:\n",
    "        depthRange = np.abs(Z_eff[0] - Z_eff[-1])\n",
    "        deltaz_T_vals = np.linspace(0.01, 0.2, 20) * depthRange\n",
    "\n",
    "    if deltaz_B_vals is None:\n",
    "        depthRange = np.abs(Z_eff[0] - Z_eff[-1])\n",
    "        deltaz_B_vals = np.linspace(0.02, 0.8, 20) * depthRange\n",
    "\n",
    "    z_c = max(4 * np.min(Z_eff), -np.abs(waterDepth))  # Cutoff depth chosen as 4 times the deepest mapped depth. (Set to water depth if depth is shallower)\n",
    "    # z_c is NEGATIVE by convention here\n",
    "\n",
    "    # We loop over all PEDM parameter combinations. First initialize eps_PEDM_out as well as the other outputs.\n",
    "    eps_PEDM_out = np.inf\n",
    "    eps_EDM_out = np.inf\n",
    "\n",
    "    pPEDM_out = np.nan\n",
    "    pEDM_out = np.nan\n",
    "\n",
    "    verbose = []\n",
    "    combo = 0\n",
    "\n",
    "    for nMax in nMax_vals:\n",
    "        for deltaz_B in deltaz_B_vals:\n",
    "            for deltaz_T in deltaz_T_vals:\n",
    "                # STEP 1: Fit the mapped Doppler shifts to a polynomial of order nMax.\n",
    "                p1 = np.polyfit(Z_eff, c_til, nMax)\n",
    "\n",
    "                # STEP 2: Create additional velocity-depth pairs by linearly extrapolating up to the surface and down to cutoff depth z_c\n",
    "                zB = np.linspace(0, deltaz_B, 100)\n",
    "                zT = np.linspace(-deltaz_T, 0, 100)\n",
    "\n",
    "                pTop = np.polyfit(Z_eff[-1] + zT, np.polyval(p1, Z_eff[-1] + zT), 1)\n",
    "                pBottom = np.polyfit(Z_eff[0] + zB, np.polyval(p1, Z_eff[0] + zB), 1)\n",
    "\n",
    "                depthsExBtm = np.arange(z_c, Z_eff[0] - deltaz_B, deltaz_B)\n",
    "                depthsExTop = np.concatenate((np.arange(Z_eff[-1] + deltaz_T, 0, deltaz_T), [0]))\n",
    "\n",
    "                zEx = np.concatenate((depthsExBtm, Z_eff, depthsExTop))\n",
    "                cTilEx = np.concatenate((np.polyval(pBottom, depthsExBtm), c_til, np.polyval(pTop, depthsExTop)))\n",
    "\n",
    "                # STEP 3: Perform a second polynomial fit on the expanded set of points\n",
    "                pEDM = np.polyfit(zEx, cTilEx, nMax)\n",
    "\n",
    "                # Determine if profile is monotonic with range of mapped depths.\n",
    "                nv = np.arange(nMax, 0, -1)\n",
    "                pczEx_p = nv * pEDM[:-1]  # Derivative polynomial coefficients\n",
    "                rts = np.roots(pczEx_p)  # Find roots\n",
    "                rts = rts[np.isreal(rts)]  # Discard complex roots\n",
    "\n",
    "                # If there roots of the derivative within ranges of mapped depths, don't go further.\n",
    "                if np.any((rts > Z_eff[0]) & (rts < 0)):\n",
    "                    continue\n",
    "\n",
    "                # STEP 4: Scale polynomial coefficients defining U_EDM by n! as in equation (8) in the article.\n",
    "                pPEDM_i = pEDM / factorial(np.arange(nMax, -1, -1))\n",
    "\n",
    "                # STEP 5: Create a new set of linearly extrapolated points down to z_c based on the average shear of the above polynomial function in a depth interval deltaz_B/2 at the deep end of the regime.\n",
    "                zB2 = np.linspace(0, deltaz_B/2, 100)\n",
    "                pBottom2 = np.polyfit(Z_eff[0] + zB, np.polyval(pPEDM_i, Z_eff[0] + zB), 1)\n",
    "\n",
    "                depthsExBtm2 = np.arange(z_c, Z_eff[0] - deltaz_B, deltaz_B/2)\n",
    "\n",
    "                zEx2 = np.concatenate((depthsExBtm2, Z_eff, depthsExTop))\n",
    "                Uvals = np.concatenate((np.polyval(pBottom2, depthsExBtm2), np.polyval(pPEDM_i, Z_eff), np.polyval(pPEDM_i, depthsExTop)))\n",
    "\n",
    "                # STEP 6: Perform a final polynomial fit on the expanded set of points.\n",
    "                pPEDM = np.polyfit(zEx2, Uvals, nMax)\n",
    "\n",
    "                # Calculate Doppler shifts assuming U_EDM or U_PEDM as the current profile, using the forward problem.\n",
    "                c_tilEDM = 0\n",
    "                c_tilPEDM = 0\n",
    "\n",
    "                if nMax < 2:\n",
    "                    for n in range(nMax + 1):\n",
    "                        c_tilEDM = c_tilEDM + factorial(n) * pEDM[-n-1] * (-1 / (2 * k_vect)) ** n\n",
    "                        c_tilPEDM = c_tilPEDM + factorial(n) * pPEDM[-n-1] * (-1 / (2 * k_vect)) ** n\n",
    "                else:\n",
    "                    for n in range(nMax + 1):\n",
    "                        c_tilEDM = c_tilEDM + (-1 / 2) ** (n) * k_vect ** (-n) * pEDM[-n-1] * (gammainc(1 + n, -2 * k_vect * z_c)) * gamma(n + 1)\n",
    "                        c_tilPEDM = c_tilPEDM + (-1 / 2) ** (n) * k_vect ** (-n) * pPEDM[-n-1] * (gammainc(1 + n, -2 * k_vect * z_c)) * gamma(n + 1)\n",
    "\n",
    "                # Calculate RMS differences (equation (9) in manuscript)\n",
    "                eps_EDM = rms(c_til - c_tilEDM)  # RMS difference for U_EDM\n",
    "                eps_PEDM = rms(c_til - c_tilPEDM)  # RMS difference for U_PEDM.\n",
    "\n",
    "                # Parameters nMax, deltaz_T, and deltaz_B are chosen to minimize eps_PEDM in practice.\n",
    "                if eps_PEDM < eps_PEDM_out:\n",
    "                    eps_PEDM_out = eps_PEDM\n",
    "                    pPEDM_out = pPEDM\n",
    "                    nMax_out = nMax\n",
    "                    deltaz_B_out = deltaz_B\n",
    "                    deltaz_T_out = deltaz_T\n",
    "\n",
    "                if eps_EDM < eps_EDM_out:\n",
    "                    eps_EDM_out = eps_EDM\n",
    "                    pEDM_out = pEDM\n",
    "\n",
    "                combo = combo + 1\n",
    "                verbose.append({\n",
    "                    #'pPEDM': pPEDM.tolist(),\n",
    "                    #'pEDM': pEDM.tolist(),\n",
    "                    'pPEDM': pPEDM,\n",
    "                    'pEDM': pEDM,\n",
    "                    'eps_PEDM': eps_PEDM,\n",
    "                    'eps_EDM': eps_EDM,\n",
    "                    'nMax': nMax,\n",
    "                    'deltaz_B': deltaz_B,\n",
    "                    'deltaz_T': deltaz_T\n",
    "                })\n",
    "\n",
    "                \n",
    "                #return pPEDM_out, pEDM_out, eps_PEDM_out, eps_EDM_out, verbose\n",
    "    return pPEDM_out, pEDM_out, eps_PEDM_out, eps_EDM_out, verbose\n",
    "\n",
    "# Example usage:\n",
    "pPEDM1, pEDM1, eps_PEDM1, eps_EDM1, verbose1 = pedm(wavenumbers,matlab_ux)\n",
    "pPEDM2, pEDM2, eps_PEDM2, eps_EDM2, verbose2 = pedm(wavenumbers, Uy)"
   ]
  },
  {
   "cell_type": "markdown",
   "id": "189d6d5c",
   "metadata": {},
   "source": [
    "## Testing"
   ]
  },
  {
   "cell_type": "code",
   "execution_count": 182,
   "id": "721de82d",
   "metadata": {},
   "outputs": [
    {
     "data": {
      "text/plain": [
       "-52.521131220325465"
      ]
     },
     "execution_count": 182,
     "metadata": {},
     "output_type": "execute_result"
    }
   ],
   "source": [
    "z_c = max(4 * np.min(Z_eff), -np.abs(np.inf))\n",
    "z_c"
   ]
  },
  {
   "cell_type": "code",
   "execution_count": 214,
   "id": "77b41124",
   "metadata": {},
   "outputs": [
    {
     "data": {
      "text/plain": [
       "array([-0.01184041, -0.17444656, -0.35421032, -0.07098805])"
      ]
     },
     "execution_count": 214,
     "metadata": {},
     "output_type": "execute_result"
    }
   ],
   "source": [
    "p1 = np.polyfit(Z_eff, -Ux, 3)\n",
    "p1"
   ]
  },
  {
   "cell_type": "code",
   "execution_count": 209,
   "id": "e5ff46fe",
   "metadata": {},
   "outputs": [
    {
     "data": {
      "text/plain": [
       "array([ 1.29355558, -1.89302305, -3.58112691, -0.61458953, -0.72034137,\n",
       "       -1.83565928, -1.77717671, -0.86307236,  0.01816371, -0.52742614,\n",
       "       -0.02743893,  0.07271172, -0.03647709, -0.04848306, -0.01043948,\n",
       "       -0.21775304,  0.39744131, -0.20223908, -0.44201397,  0.43091857,\n",
       "       -0.70061823,  0.39973644,  0.73059773, -0.52339084,  0.4993682 ])"
      ]
     },
     "execution_count": 209,
     "metadata": {},
     "output_type": "execute_result"
    }
   ],
   "source": [
    "-Ux"
   ]
  },
  {
   "cell_type": "code",
   "execution_count": 206,
   "id": "c69b6086",
   "metadata": {},
   "outputs": [
    {
     "data": {
      "text/plain": [
       "array([-13.13028281,  -9.8477121 ,  -7.87816968,  -6.5651414 ,\n",
       "        -5.62726406,  -4.92385605,  -4.37676094,  -3.93908484,\n",
       "        -3.58098622,  -3.2825707 ,  -3.03006526,  -2.81363203,\n",
       "        -2.62605656,  -2.46192803,  -2.31710873,  -2.18838047,\n",
       "        -2.07320255,  -1.96954242,  -1.87575469,  -1.79049311,\n",
       "        -1.71264558,  -1.64128535,  -1.57563394,  -1.51503263,\n",
       "        -1.45892031])"
      ]
     },
     "execution_count": 206,
     "metadata": {},
     "output_type": "execute_result"
    }
   ],
   "source": [
    "Z_eff"
   ]
  },
  {
   "cell_type": "code",
   "execution_count": 207,
   "id": "53485e41",
   "metadata": {},
   "outputs": [
    {
     "data": {
      "text/plain": [
       "array([-1.29355558,  1.89302305,  3.58112691,  0.61458953,  0.72034137,\n",
       "        1.83565928,  1.77717671,  0.86307236, -0.01816371,  0.52742614,\n",
       "        0.02743893, -0.07271172,  0.03647709,  0.04848306,  0.01043948,\n",
       "        0.21775304, -0.39744131,  0.20223908,  0.44201397, -0.43091857,\n",
       "        0.70061823, -0.39973644, -0.73059773,  0.52339084, -0.4993682 ])"
      ]
     },
     "execution_count": 207,
     "metadata": {},
     "output_type": "execute_result"
    }
   ],
   "source": [
    "Ux"
   ]
  },
  {
   "cell_type": "code",
   "execution_count": 196,
   "id": "9af3261f",
   "metadata": {},
   "outputs": [
    {
     "data": {
      "text/plain": [
       "array([-13.13028281,  -9.8477121 ,  -7.87816968,  -6.5651414 ,\n",
       "        -5.62726406,  -4.92385605,  -4.37676094,  -3.93908484,\n",
       "        -3.58098622,  -3.2825707 ,  -3.03006526,  -2.81363203,\n",
       "        -2.62605656,  -2.46192803,  -2.31710873,  -2.18838047,\n",
       "        -2.07320255,  -1.96954242,  -1.87575469,  -1.79049311,\n",
       "        -1.71264558,  -1.64128535,  -1.57563394,  -1.51503263,\n",
       "        -1.45892031])"
      ]
     },
     "execution_count": 196,
     "metadata": {},
     "output_type": "execute_result"
    }
   ],
   "source": [
    "Z_eff"
   ]
  },
  {
   "cell_type": "code",
   "execution_count": 201,
   "id": "dc9da6d1",
   "metadata": {},
   "outputs": [
    {
     "data": {
      "text/plain": [
       "array([-1.29355558,  1.89302305,  3.58112691,  0.61458953,  0.72034137,\n",
       "        1.83565928,  1.77717671,  0.86307236, -0.01816371,  0.52742614,\n",
       "        0.02743893, -0.07271172,  0.03647709,  0.04848306,  0.01043948,\n",
       "        0.21775304, -0.39744131,  0.20223908,  0.44201397, -0.43091857,\n",
       "        0.70061823, -0.39973644, -0.73059773,  0.52339084, -0.4993682 ])"
      ]
     },
     "execution_count": 201,
     "metadata": {},
     "output_type": "execute_result"
    }
   ],
   "source": [
    "Ux"
   ]
  },
  {
   "cell_type": "code",
   "execution_count": 220,
   "id": "537ed514",
   "metadata": {},
   "outputs": [
    {
     "data": {
      "text/plain": [
       "(25,)"
      ]
     },
     "execution_count": 220,
     "metadata": {},
     "output_type": "execute_result"
    }
   ],
   "source": [
    "Ux.shape"
   ]
  },
  {
   "cell_type": "code",
   "execution_count": 222,
   "id": "22eec38a",
   "metadata": {},
   "outputs": [
    {
     "data": {
      "text/plain": [
       "(25,)"
      ]
     },
     "execution_count": 222,
     "metadata": {},
     "output_type": "execute_result"
    }
   ],
   "source": [
    "wavenumbers.shape"
   ]
  },
  {
   "cell_type": "code",
   "execution_count": 224,
   "id": "e0e369fd",
   "metadata": {},
   "outputs": [
    {
     "data": {
      "text/plain": [
       "<matplotlib.legend.Legend at 0x25814c4ccd0>"
      ]
     },
     "execution_count": 224,
     "metadata": {},
     "output_type": "execute_result"
    },
    {
     "data": {
      "image/png": "[encoded data removed]",
      "text/plain": [
       "<Figure size 432x288 with 1 Axes>"
      ]
     },
     "metadata": {
      "needs_background": "light"
     },
     "output_type": "display_data"
    }
   ],
   "source": [
    "plt.scatter(wavenumbers, matlab_ux, label='matlab', color = 'green')\n",
    "plt.scatter(wavenumbers, -Ux, label='python', color = 'red')\n",
    "\n",
    "plt.legend()"
   ]
  },
  {
   "cell_type": "code",
   "execution_count": null,
   "id": "10f26e06",
   "metadata": {},
   "outputs": [],
   "source": []
  },
  {
   "cell_type": "code",
   "execution_count": null,
   "id": "e5db8561",
   "metadata": {},
   "outputs": [],
   "source": []
  },
  {
   "cell_type": "code",
   "execution_count": null,
   "id": "01abba40",
   "metadata": {},
   "outputs": [],
   "source": []
  },
  {
   "cell_type": "code",
   "execution_count": 215,
   "id": "64b9ca46",
   "metadata": {},
   "outputs": [],
   "source": [
    "matlab_ux = np.array([1.29324047095870, -1.89463189363109, -1.69708851869363, -0.669636210830390, -2.75906065502856, -1.94768284605381, -1.66698298781537, -0.899800584589916, 0.0297085589908087, -0.514835078702308, -0.0105890842080116, 0.0759766804549144, -0.0363850496987580, -0.0484059195965528, -0.0103916622911056, -0.0308550721930313, 0.398842029692605, -0.117723340988159, -0.441378683422372, 0.430707406907151, -0.699842772060439, 0.399538248189037, 0.730470696764732, -0.523203395681584, 0.499213099684858])"
   ]
  },
  {
   "cell_type": "code",
   "execution_count": 217,
   "id": "128e2c38",
   "metadata": {},
   "outputs": [
    {
     "data": {
      "text/plain": [
       "array([-0.00661969, -0.06422495,  0.25762861,  0.75927628])"
      ]
     },
     "execution_count": 217,
     "metadata": {},
     "output_type": "execute_result"
    }
   ],
   "source": [
    "p1 = np.polyfit(Z_eff, matlab_ux, 3)\n",
    "p1"
   ]
  },
  {
   "cell_type": "code",
   "execution_count": null,
   "id": "2741c8ad",
   "metadata": {},
   "outputs": [],
   "source": []
  },
  {
   "cell_type": "code",
   "execution_count": null,
   "id": "a9374a74",
   "metadata": {},
   "outputs": [],
   "source": []
  },
  {
   "cell_type": "code",
   "execution_count": 226,
   "id": "b784478c",
   "metadata": {},
   "outputs": [],
   "source": [
    "z = np.linspace(-20, 0, 100)"
   ]
  },
  {
   "cell_type": "code",
   "execution_count": 227,
   "id": "23d09f8d",
   "metadata": {},
   "outputs": [],
   "source": [
    "U1_fun = lambda z: np.polyval(pPEDM1, z)\n",
    "U2_fun = lambda z: np.polyval(pPEDM2, z)"
   ]
  },
  {
   "cell_type": "code",
   "execution_count": 228,
   "id": "95f08bda",
   "metadata": {},
   "outputs": [
    {
     "data": {
      "text/plain": [
       "<matplotlib.legend.Legend at 0x25811b27250>"
      ]
     },
     "execution_count": 228,
     "metadata": {},
     "output_type": "execute_result"
    },
    {
     "data": {
      "image/png": "[encoded data removed]",
      "text/plain": [
       "<Figure size 432x288 with 1 Axes>"
      ]
     },
     "metadata": {
      "needs_background": "light"
     },
     "output_type": "display_data"
    }
   ],
   "source": [
    "plt.plot(U1_fun(z), z, label=\"$U_{x}$\", color = 'red')\n",
    "plt.plot(U2_fun(z), z, label=\"$U_{y}$\", color = 'green')\n",
    "\n",
    "plt.scatter(-Ux, -1/(2*wavenumbers), label='EDM', color = 'black')\n",
    "#plt.scatter(-Ux, -1/(3.56*wavenumbers), label='EDM', color = 'red')\n",
    "\n",
    "plt.grid(True)\n",
    "plt.title(\"PEDM\")\n",
    "plt.xlabel(\"U [m/s]\")\n",
    "plt.ylabel(\"Depth [m]\")\n",
    "plt.legend()"
   ]
  },
  {
   "cell_type": "code",
   "execution_count": 169,
   "id": "7a754030",
   "metadata": {},
   "outputs": [
    {
     "data": {
      "text/plain": [
       "1066"
      ]
     },
     "execution_count": 169,
     "metadata": {},
     "output_type": "execute_result"
    }
   ],
   "source": [
    "len(verbose1)"
   ]
  },
  {
   "cell_type": "code",
   "execution_count": 162,
   "id": "db142d16",
   "metadata": {},
   "outputs": [
    {
     "data": {
      "text/plain": [
       "array([ 0.10510466, -0.01111033])"
      ]
     },
     "execution_count": 162,
     "metadata": {},
     "output_type": "execute_result"
    }
   ],
   "source": [
    "pPEDM1"
   ]
  },
  {
   "cell_type": "code",
   "execution_count": 161,
   "id": "094aa6ae",
   "metadata": {},
   "outputs": [
    {
     "data": {
      "text/plain": [
       "{'pPEDM': array([-0.40715103]),\n",
       " 'pEDM': array([-0.40715103]),\n",
       " 'eps_PEDM': 0.994583690542734,\n",
       " 'eps_EDM': 0.994583690542734,\n",
       " 'nMax': 0,\n",
       " 'deltaz_B': 0.2334272498681132,\n",
       " 'deltaz_T': 0.1167136249340566}"
      ]
     },
     "execution_count": 161,
     "metadata": {},
     "output_type": "execute_result"
    }
   ],
   "source": [
    "verbose1[0]"
   ]
  },
  {
   "cell_type": "code",
   "execution_count": null,
   "id": "019172cf",
   "metadata": {},
   "outputs": [],
   "source": []
  },
  {
   "cell_type": "code",
   "execution_count": null,
   "id": "e01a06b1",
   "metadata": {},
   "outputs": [],
   "source": []
  },
  {
   "cell_type": "code",
   "execution_count": null,
   "id": "4077d28e",
   "metadata": {},
   "outputs": [],
   "source": []
  },
  {
   "cell_type": "code",
   "execution_count": null,
   "id": "aeb4a86b",
   "metadata": {},
   "outputs": [],
   "source": []
  },
  {
   "cell_type": "code",
   "execution_count": null,
   "id": "7fdb85e5",
   "metadata": {},
   "outputs": [],
   "source": []
  },
  {
   "cell_type": "code",
   "execution_count": null,
   "id": "20a4ee25",
   "metadata": {},
   "outputs": [],
   "source": []
  },
  {
   "cell_type": "code",
   "execution_count": null,
   "id": "4701eb88",
   "metadata": {},
   "outputs": [],
   "source": []
  },
  {
   "cell_type": "code",
   "execution_count": null,
   "id": "2f85f16c",
   "metadata": {},
   "outputs": [],
   "source": []
  },
  {
   "cell_type": "code",
   "execution_count": null,
   "id": "900df46a",
   "metadata": {},
   "outputs": [],
   "source": []
  },
  {
   "cell_type": "code",
   "execution_count": null,
   "id": "753198b0",
   "metadata": {},
   "outputs": [],
   "source": []
  },
  {
   "cell_type": "code",
   "execution_count": null,
   "id": "96b657b7",
   "metadata": {},
   "outputs": [],
   "source": []
  },
  {
   "cell_type": "code",
   "execution_count": null,
   "id": "78bb29c9",
   "metadata": {},
   "outputs": [],
   "source": []
  },
  {
   "cell_type": "code",
   "execution_count": null,
   "id": "6a0ec623",
   "metadata": {},
   "outputs": [],
   "source": []
  },
  {
   "cell_type": "code",
   "execution_count": null,
   "id": "cfbfd741",
   "metadata": {},
   "outputs": [],
   "source": []
  }
 ],
 "metadata": {
  "kernelspec": {
   "display_name": "Python 3",
   "language": "python",
   "name": "python3"
  },
  "language_info": {
   "codemirror_mode": {
    "name": "ipython",
    "version": 3
   },
   "file_extension": ".py",
   "mimetype": "text/x-python",
   "name": "python",
   "nbconvert_exporter": "python",
   "pygments_lexer": "ipython3",
   "version": "3.8.8"
  }
 },
 "nbformat": 4,
 "nbformat_minor": 5
}
