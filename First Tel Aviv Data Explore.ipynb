{
 "cells": [
  {
   "cell_type": "code",
   "execution_count": 1,
   "id": "14161e7a",
   "metadata": {},
   "outputs": [],
   "source": [
    "import sys\n",
    "sys.path.append(\"C:\\\\Users\\josep\\Documents\\Anaconda\\pkgs\")\n",
    "import help_tools\n",
    "import wave_tools\n",
    "import cv2\n",
    "import h5py\n",
    "from matplotlib import cm\n",
    "import radar_tools\n",
    "import numpy as np\n",
    "from wave_tools import ConstructWave, surface_core, peak_tracking\n",
    "from wave_tools import fft_interpolate, fft_interface, Spectrum\n",
    "from wave_tools import SpectralAnalysis\n",
    "import matplotlib.pyplot as plt\n",
    "from help_tools import plotting_interface\n",
    "from wave_tools import surface_core, fft_interface, dispersionRelation\n",
    "from help_tools import plotting_interface, polar_coordinates, convolutional_filters, moving_average\n",
    "from scipy.optimize import least_squares\n",
    "from scipy.optimize import minimize\n",
    "from scipy.optimize import curve_fit\n",
    "from matplotlib.ticker import LinearLocator, FormatStrFormatter\n",
    "from tqdm import tqdm\n",
    "from mpl_toolkits.mplot3d import Axes3D\n",
    "from scipy.special import gamma, gammainc"
   ]
  },
  {
   "cell_type": "code",
   "execution_count": 2,
   "id": "e46d1f48",
   "metadata": {},
   "outputs": [],
   "source": [
    "%matplotlib widget"
   ]
  },
  {
   "cell_type": "code",
   "execution_count": 3,
   "id": "f111f893",
   "metadata": {},
   "outputs": [],
   "source": [
    "%matplotlib inline"
   ]
  },
  {
   "cell_type": "code",
   "execution_count": 4,
   "id": "94b0aef2",
   "metadata": {},
   "outputs": [],
   "source": [
    "sys.path.append(\"C:\\\\Users\\josep\\Desktop\\PHYC40900_Project TP\")"
   ]
  },
  {
   "cell_type": "code",
   "execution_count": 5,
   "id": "e3f30ad9",
   "metadata": {},
   "outputs": [],
   "source": [
    "f = h5py.File('C:\\\\Users\\josep\\Desktop\\PHYC40900_Project TP\\Real Data Sets\\First Tel-Aviv data', 'r')"
   ]
  },
  {
   "cell_type": "code",
   "execution_count": 6,
   "id": "ec4dc6fb",
   "metadata": {},
   "outputs": [
    {
     "data": {
      "text/plain": [
       "<KeysViewHDF5 ['t', 'wamos', 'x', 'y']>"
      ]
     },
     "execution_count": 6,
     "metadata": {},
     "output_type": "execute_result"
    }
   ],
   "source": [
    "f.keys()"
   ]
  },
  {
   "cell_type": "code",
   "execution_count": 7,
   "id": "14931853",
   "metadata": {},
   "outputs": [],
   "source": [
    "x = f.get('x')\n",
    "y = f.get('y')\n",
    "t = f.get('t')\n",
    "wamos = f.get('wamos')\n",
    "\n",
    "x = np.array(x)\n",
    "y = np.array(y)\n",
    "t = np.array(t)\n",
    "wamos = np.array(wamos)"
   ]
  },
  {
   "cell_type": "code",
   "execution_count": 8,
   "id": "d8026eea",
   "metadata": {},
   "outputs": [
    {
     "data": {
      "text/plain": [
       "array([[[1417., 1810., 1348., ..., 1177., 1248., 1290.],\n",
       "        [1683., 1587., 1656., ..., 1081., 1170., 1122.],\n",
       "        [1746., 1693., 1896., ..., 1224., 1224.,  660.],\n",
       "        ...,\n",
       "        [1660., 2165., 2723., ..., 1741., 1838., 1814.],\n",
       "        [1199., 1753., 2969., ..., 1440., 1491., 1646.],\n",
       "        [1723., 1653., 2290., ..., 1368., 1273., 1381.]],\n",
       "\n",
       "       [[1779., 1694., 1774., ..., 1146., 1200., 1333.],\n",
       "        [1308., 1824., 1347., ..., 1282., 1738., 1980.],\n",
       "        [1929., 1298., 1786., ..., 1466., 1441., 1760.],\n",
       "        ...,\n",
       "        [1134., 2025., 2094., ...,  768.,  664.,  721.],\n",
       "        [1568., 1677., 2112., ...,  997.,  997.,  982.],\n",
       "        [1641., 2246., 2260., ...,  963.,  705.,  983.]],\n",
       "\n",
       "       [[2277., 2936., 3201., ..., 1344., 1027.,  928.],\n",
       "        [3079., 3297., 3528., ..., 1054.,  916.,    0.],\n",
       "        [2953., 3462., 2245., ...,  984.,  984., 1095.],\n",
       "        ...,\n",
       "        [2587., 2659., 2471., ..., 1701., 1628., 1378.],\n",
       "        [2107., 2596., 2766., ..., 1192., 1192., 1062.],\n",
       "        [1684., 1793., 2590., ..., 1418., 1037.,  837.]],\n",
       "\n",
       "       ...,\n",
       "\n",
       "       [[2459., 2195., 2020., ..., 1628., 1537.,  815.],\n",
       "        [1883., 2086., 1985., ...,  907., 1265.,  890.],\n",
       "        [2182., 2154., 2469., ..., 1464.,  846.,  542.],\n",
       "        ...,\n",
       "        [1536., 1767., 1988., ..., 1248., 1213., 1152.],\n",
       "        [1908., 1515., 1486., ..., 1179., 1374., 1277.],\n",
       "        [1721., 1707., 1587., ..., 1176., 1015.,  633.]],\n",
       "\n",
       "       [[2830., 2630., 2410., ..., 1222., 1252., 1242.],\n",
       "        [2738., 2150., 1748., ...,  921.,  986., 1024.],\n",
       "        [1941., 2117., 2031., ...,  734.,  734.,  781.],\n",
       "        ...,\n",
       "        [1125., 1547., 1715., ..., 1585., 1997., 2026.],\n",
       "        [1346., 1589., 1617., ..., 1080., 1586., 1604.],\n",
       "        [1182., 1663., 1450., ..., 1154., 1512., 1424.]],\n",
       "\n",
       "       [[1924., 2092., 2399., ...,  763., 1001., 1299.],\n",
       "        [2068., 2247., 2223., ..., 1066., 1419., 1752.],\n",
       "        [2206., 1897., 2089., ..., 1243., 1490., 1936.],\n",
       "        ...,\n",
       "        [1757., 1913., 2241., ..., 1586., 1392.,  651.],\n",
       "        [1635., 1683., 1386., ..., 1441., 1441., 1212.],\n",
       "        [1936., 1911., 1544., ..., 1384., 1401., 1401.]]])"
      ]
     },
     "execution_count": 8,
     "metadata": {},
     "output_type": "execute_result"
    }
   ],
   "source": [
    "wamos"
   ]
  },
  {
   "cell_type": "code",
   "execution_count": 9,
   "id": "a45abbf8",
   "metadata": {},
   "outputs": [
    {
     "data": {
      "text/plain": [
       "4095.0"
      ]
     },
     "execution_count": 9,
     "metadata": {},
     "output_type": "execute_result"
    }
   ],
   "source": [
    "np.max(wamos)"
   ]
  },
  {
   "cell_type": "code",
   "execution_count": 10,
   "id": "105e6d2f",
   "metadata": {},
   "outputs": [
    {
     "data": {
      "text/plain": [
       "array([-247.5 , -243.75, -240.  , -236.25, -232.5 , -228.75, -225.  ,\n",
       "       -221.25, -217.5 , -213.75, -210.  , -206.25, -202.5 , -198.75,\n",
       "       -195.  , -191.25, -187.5 , -183.75, -180.  , -176.25, -172.5 ,\n",
       "       -168.75, -165.  , -161.25, -157.5 , -153.75, -150.  , -146.25,\n",
       "       -142.5 , -138.75, -135.  , -131.25, -127.5 , -123.75, -120.  ,\n",
       "       -116.25, -112.5 , -108.75, -105.  , -101.25,  -97.5 ,  -93.75,\n",
       "        -90.  ,  -86.25,  -82.5 ,  -78.75,  -75.  ,  -71.25,  -67.5 ,\n",
       "        -63.75,  -60.  ,  -56.25,  -52.5 ,  -48.75,  -45.  ,  -41.25,\n",
       "        -37.5 ,  -33.75,  -30.  ,  -26.25,  -22.5 ,  -18.75,  -15.  ,\n",
       "        -11.25,   -7.5 ,   -3.75,    0.  ,    3.75,    7.5 ,   11.25,\n",
       "         15.  ,   18.75,   22.5 ,   26.25,   30.  ,   33.75,   37.5 ,\n",
       "         41.25,   45.  ,   48.75,   52.5 ,   56.25,   60.  ,   63.75,\n",
       "         67.5 ,   71.25,   75.  ,   78.75,   82.5 ,   86.25,   90.  ,\n",
       "         93.75,   97.5 ,  101.25,  105.  ,  108.75,  112.5 ,  116.25,\n",
       "        120.  ,  123.75,  127.5 ,  131.25,  135.  ,  138.75,  142.5 ,\n",
       "        146.25,  150.  ,  153.75,  157.5 ,  161.25,  165.  ,  168.75,\n",
       "        172.5 ,  176.25,  180.  ,  183.75,  187.5 ,  191.25,  195.  ,\n",
       "        198.75,  202.5 ,  206.25,  210.  ,  213.75,  217.5 ,  221.25,\n",
       "        225.  ,  228.75,  232.5 ,  236.25,  240.  ,  243.75])"
      ]
     },
     "execution_count": 10,
     "metadata": {},
     "output_type": "execute_result"
    }
   ],
   "source": [
    "x"
   ]
  },
  {
   "cell_type": "code",
   "execution_count": 11,
   "id": "5f9574b8",
   "metadata": {},
   "outputs": [
    {
     "data": {
      "text/plain": [
       "(366,)"
      ]
     },
     "execution_count": 11,
     "metadata": {},
     "output_type": "execute_result"
    }
   ],
   "source": [
    "t.shape"
   ]
  },
  {
   "cell_type": "code",
   "execution_count": 12,
   "id": "94625a52",
   "metadata": {},
   "outputs": [
    {
     "data": {
      "text/plain": [
       "(366, 132, 132)"
      ]
     },
     "execution_count": 12,
     "metadata": {},
     "output_type": "execute_result"
    }
   ],
   "source": [
    "wamos.shape"
   ]
  },
  {
   "cell_type": "code",
   "execution_count": 13,
   "id": "c422f46d",
   "metadata": {},
   "outputs": [
    {
     "data": {
      "text/plain": [
       "-3.75"
      ]
     },
     "execution_count": 13,
     "metadata": {},
     "output_type": "execute_result"
    }
   ],
   "source": [
    "y[4] - y[5]"
   ]
  },
  {
   "cell_type": "code",
   "execution_count": 14,
   "id": "22a7969c",
   "metadata": {},
   "outputs": [],
   "source": [
    "dx = x[1] - x[0]\n",
    "dy = y[1] - y[0]\n",
    "dt = t[1] - t[0]"
   ]
  },
  {
   "cell_type": "code",
   "execution_count": 15,
   "id": "faef08c8",
   "metadata": {},
   "outputs": [
    {
     "data": {
      "text/plain": [
       "(366, 132, 132)"
      ]
     },
     "execution_count": 15,
     "metadata": {},
     "output_type": "execute_result"
    }
   ],
   "source": [
    "wamos.shape"
   ]
  },
  {
   "cell_type": "code",
   "execution_count": 16,
   "id": "c5438ad5",
   "metadata": {},
   "outputs": [
    {
     "data": {
      "text/plain": [
       "0.01269330365086785"
      ]
     },
     "execution_count": 16,
     "metadata": {},
     "output_type": "execute_result"
    }
   ],
   "source": [
    "dk = 2*np.pi/(dx*min(wamos.shape[0], wamos.shape[1]))\n",
    "dk"
   ]
  },
  {
   "cell_type": "code",
   "execution_count": 17,
   "id": "612f4b98",
   "metadata": {},
   "outputs": [
    {
     "data": {
      "text/plain": [
       "array([0.03807991, 0.05077321, 0.06346652, 0.07615982, 0.08885313,\n",
       "       0.10154643, 0.11423973, 0.12693304, 0.13962634, 0.15231964,\n",
       "       0.16501295, 0.17770625, 0.19039955, 0.20309286, 0.21578616,\n",
       "       0.22847947, 0.24117277, 0.25386607, 0.26655938, 0.27925268,\n",
       "       0.29194598, 0.30463929, 0.31733259, 0.33002589, 0.3427192 ])"
      ]
     },
     "execution_count": 17,
     "metadata": {},
     "output_type": "execute_result"
    }
   ],
   "source": [
    "wavenumbers = np.arange(3 * dk, 0.35, dk)\n",
    "wavenumbers"
   ]
  },
  {
   "cell_type": "markdown",
   "id": "6856125f",
   "metadata": {},
   "source": [
    "# 1) NSP Method"
   ]
  },
  {
   "cell_type": "markdown",
   "id": "309af8a5",
   "metadata": {},
   "source": [
    "## 1.1) NSP Implementation"
   ]
  },
  {
   "cell_type": "code",
   "execution_count": 18,
   "id": "95bb60ea",
   "metadata": {},
   "outputs": [],
   "source": [
    "maxFrequency = 4.0 \n",
    "\n",
    "kW = 1*dk\n",
    "# Half width of wavenumbers bins [rad/m]\n",
    "\n",
    "frequencyLimits = [0.01, 20.0]\n",
    "# frequency limits for masking the spectrum [min max], rad/sec\n",
    "\n",
    "Ux_limits = [-1, 1]\n",
    "# Ux current limits [m/s]\n",
    "\n",
    "Uy_limits = [-1, 1]\n",
    "# Uy current limts [m/s]\n",
    "\n",
    "U_res = 0.1\n",
    "# Current step size [m/s]\n",
    "\n",
    "omegaWidthFun = lambda k: 0.05 + 0.0 * k"
   ]
  },
  {
   "cell_type": "code",
   "execution_count": 19,
   "id": "4081fce1",
   "metadata": {},
   "outputs": [],
   "source": [
    "Uym, Uxm = np.meshgrid(np.arange(min(Uy_limits), max(Uy_limits) + U_res, U_res),\n",
    "                       np.arange(min(Ux_limits), max(Ux_limits) + U_res, U_res))"
   ]
  },
  {
   "cell_type": "code",
   "execution_count": 20,
   "id": "28b6623b",
   "metadata": {},
   "outputs": [],
   "source": [
    "h = np.inf\n",
    "g = 9.81\n",
    "T = 0.072 / 1000"
   ]
  },
  {
   "cell_type": "code",
   "execution_count": 21,
   "id": "c7fc33dd",
   "metadata": {},
   "outputs": [],
   "source": [
    "from scipy.fftpack import fftn, fftshift\n",
    "\n",
    "def retrieve_power_spectrum(IMG_3D, dx, dy, dt, K_limits=None, W_limits=None):\n",
    "    # Set default values for K_limits and W_limits if not provided\n",
    "    if K_limits is None:\n",
    "        K_limits = [-np.inf, np.inf]\n",
    "    if W_limits is None:\n",
    "        W_limits = [-np.inf, np.inf]\n",
    "\n",
    "    # Check limits\n",
    "    if any(np.array(K_limits) < 0):\n",
    "        print('retrieve_positive_spectrum: K_limits smaller than 0')\n",
    "    if any(np.array(W_limits) < 0):\n",
    "        print('retrieve_positive_spectrum: W_limits smaller than 0')\n",
    "\n",
    "    # Get Kx, Ky, and w axes\n",
    "    Nt, Nx, Ny = IMG_3D.shape\n",
    "    Kx = (2 * np.pi * 1 / dx / Nx) * np.arange(-np.ceil((Nx - 1) / 2), np.floor((Nx - 1) / 2) + 1)\n",
    "    Ky = (2 * np.pi * 1 / dy / Ny) * np.arange(-np.ceil((Ny - 1) / 2), np.floor((Ny - 1) / 2) + 1)\n",
    "    w = (2 * np.pi * 1 / dt / Nt) * np.arange(-np.ceil((Nt - 1) / 2), np.floor((Nt - 1) / 2) + 1)\n",
    "\n",
    "    dKx = Kx[1] - Kx[0]\n",
    "    dKy = Ky[1] - Ky[0]\n",
    "    dW = w[1] - w[0]\n",
    "    Norm = dKx * dKy * dW\n",
    "\n",
    "    # Get power spectra\n",
    "    Spectrum_raw = fftshift(fftn(IMG_3D) / np.prod(IMG_3D.shape))\n",
    "    power_Spectrum = np.abs(Spectrum_raw / Norm)**2\n",
    "\n",
    "    # Get index boundaries\n",
    "    ind_x = np.abs(Kx) <= K_limits[1]\n",
    "    ind_y = np.abs(Ky) <= K_limits[1]\n",
    "    ind_w = (w >= W_limits[0]) & (w <= W_limits[1])\n",
    "\n",
    "    # Create 3D structure using meshgrid\n",
    "    W_3D, Kx_3D, Ky_3D = np.meshgrid(w[ind_w], Kx[ind_x], Ky[ind_y], indexing='ij')\n",
    "\n",
    "    # Use np.ix_ for boolean indexing to extract the desired values\n",
    "    power_Spectrum_cut = power_Spectrum[np.ix_(ind_w, ind_x, ind_y)]\n",
    "\n",
    "    # Set to NaN values outside K_limits\n",
    "    K_3D = np.sqrt(Kx_3D**2 + Ky_3D**2)\n",
    "    power_Spectrum_cut[(K_3D < K_limits[0]) | (K_3D > K_limits[1])] = np.nan\n",
    "\n",
    "    # Get original spectrum limits\n",
    "    Kx_orig_limits = [Kx[0], Kx[-1]]\n",
    "    Ky_orig_limits = [Ky[0], Ky[-1]]\n",
    "    W_orig_limits = [w[0], w[-1]]\n",
    "\n",
    "    # Normalize spectra (sum(power_Spectrum_cut(:)) = 1)\n",
    "    power_Spectrum_cut /= np.nansum(power_Spectrum_cut)\n",
    "\n",
    "    # Create output structure\n",
    "    Spectrum = {'power_Spectrum': power_Spectrum_cut,\n",
    "                'Kx_3D': Kx_3D, 'Ky_3D': Ky_3D, 'W_3D': W_3D,\n",
    "                'dKx': dKx, 'dKy': dKy, 'dW': dW,\n",
    "                'Kx_orig_limits': Kx_orig_limits, 'Ky_orig_limits': Ky_orig_limits,\n",
    "                'W_orig_limits': W_orig_limits}\n",
    "\n",
    "    return Spectrum"
   ]
  },
  {
   "cell_type": "code",
   "execution_count": 22,
   "id": "ba4c27e1",
   "metadata": {},
   "outputs": [],
   "source": [
    "from scipy.optimize import minimize\n",
    "import matplotlib.pyplot as plt\n",
    "\n",
    "def get_doppler_shift_velocities_nsp(Spectrum, fit_param, Properties, verboseFig=False):\n",
    "    \n",
    "    out_fit = {'wavenumbers': fit_param['wavenumbers'],\n",
    "               'Ux': np.zeros(len([fit_param['wavenumbers']])),\n",
    "               'Uy': np.zeros(len([fit_param['wavenumbers']])),\n",
    "               'SNR_max': np.zeros(len([fit_param['wavenumbers']])),\n",
    "               'Ux_2D': fit_param['Ux_2D'],\n",
    "               'Uy_2D': fit_param['Uy_2D'],\n",
    "               'verbose': []}\n",
    "\n",
    "    h = Properties['h']\n",
    "    g = Properties['g']\n",
    "    T = Properties['T']\n",
    "    omegaWidthFun = fit_param['omegaWidthFun']\n",
    "    wavenumbers = fit_param['wavenumbers']\n",
    "\n",
    "    for jj in range(len([fit_param['wavenumbers']])):\n",
    "        P = {'h': h, 'g': g, 'T': T,\n",
    "             'omegaWidth': omegaWidthFun(wavenumbers)}\n",
    "\n",
    "        snrG = np.zeros(fit_param['Ux_2D'].shape)\n",
    "\n",
    "        for i in range(fit_param['Ux_2D'].shape[0]):\n",
    "            for j in range(fit_param['Ux_2D'].shape[1]):\n",
    "                snr_ij, _, _ = nsp_doppler_shift_extraction(Spectrum, P, wavenumbers, fit_param['Ux_2D'][i, j], fit_param['Uy_2D'][i, j])\n",
    "                snrG[i, j] = snr_ij\n",
    "\n",
    "        im = np.argmax(snrG)\n",
    "\n",
    "        if np.ndim(fit_param['Ux_2D']) == 1:\n",
    "            cDoppGuess = fit_param['Ux_2D'][im]\n",
    "        else:\n",
    "            cDoppGuess = [fit_param['Ux_2D'].flat[im], fit_param['Uy_2D'].flat[im]]\n",
    "\n",
    "        options = {'disp': False}  # Turn off display output\n",
    "        Ufit = minimize(lambda U: 1 - nsp_doppler_shift_extraction(Spectrum, P, fit_param['wavenumbers'], U[0], U[1])[0] if np.ndim(U) > 1 else 1 - nsp_doppler_shift_extraction(Spectrum, P, fit_param['wavenumbers'], U[0], U[1])[0], \n",
    "                        cDoppGuess, options=options)\n",
    "\n",
    "        if len(cDoppGuess) > 1:\n",
    "            Ufit = Ufit.x\n",
    "        else:\n",
    "            Ufit = [Ufit.x[0], 0]\n",
    "\n",
    "        SNR_fit, _, _ = nsp_doppler_shift_extraction(Spectrum, P, wavenumbers, Ufit[0], Ufit[1])\n",
    "\n",
    "        out_fit['Ux'][jj] = Ufit[0]\n",
    "        out_fit['Uy'][jj] = Ufit[1]\n",
    "        out_fit['SNR_max'][jj] = SNR_fit\n",
    "\n",
    "        verbose = {'k': fit_param['wavenumbers'], 'SNR_2D': snrG, 'Peaks_2D': find_peaks(snrG)}\n",
    "        out_fit['verbose'].append(verbose)\n",
    "\n",
    "    # Post-processing\n",
    "    out_fit['Ux_filt'] = out_fit['Ux'].copy()\n",
    "    out_fit['Uy_filt'] = out_fit['Uy'].copy()\n",
    "    out_fit['SNR_max'] = out_fit['SNR_max'].copy()\n",
    "\n",
    "    return out_fit"
   ]
  },
  {
   "cell_type": "code",
   "execution_count": 23,
   "id": "a5a7c471",
   "metadata": {},
   "outputs": [],
   "source": [
    "def nsp_doppler_shift_extraction(Spectrum, params, kval, U, V):\n",
    "    # Define wave dispersion relation.\n",
    "    omegaFun = lambda kx, ky: np.sqrt((params['g']*np.sqrt(kx**2 + ky**2) + params['T']*np.sqrt(kx**2 + ky**2)**3) * np.tanh(np.sqrt(kx**2 + ky**2) * params['h'])) + U*kx + V*ky\n",
    "\n",
    "    # Frequency width of weighting function (1/e^2 halfwidth)\n",
    "    a = params['omegaWidth']\n",
    "\n",
    "    if 'logFlag' not in params:\n",
    "        params['logFlag'] = 0\n",
    "\n",
    "    if 'include2ndHarmonic' not in params:\n",
    "        params['include2ndHarmonic'] = 0\n",
    "\n",
    "    if 'kWidth' in params:\n",
    "        a_k = params['kWidth']\n",
    "    else:\n",
    "        a_k = max(Spectrum['dKx'], Spectrum['dKy']) * 2\n",
    "\n",
    "    inds = ~np.isnan(Spectrum['power_Spectrum'])\n",
    "\n",
    "    P_k = np.sqrt(Spectrum['power_Spectrum'][inds])\n",
    "    KX = Spectrum['Kx_3D'][inds]\n",
    "    KY = Spectrum['Ky_3D'][inds]\n",
    "    W = Spectrum['W_3D'][inds]\n",
    "\n",
    "    if params['include2ndHarmonic']:\n",
    "        inds2 = ~np.isnan(Spectrum['power_Spectrum2'])\n",
    "        P_k2 = np.sqrt(Spectrum['power_Spectrum2'][inds2])\n",
    "        KX2 = Spectrum['Kx_3D2'][inds2]\n",
    "        KY2 = Spectrum['Ky_3D2'][inds2]\n",
    "        W2 = Spectrum['W_3D2'][inds2]\n",
    "        omegaFun2 = lambda kx, ky: np.sqrt(2) * np.sqrt((params['g']*np.sqrt(kx**2 + ky**2) + params['T']*np.sqrt(kx**2 + ky**2)**3) * np.tanh(np.sqrt(kx**2 + ky**2) * params['h']) + U*kx + V*ky)\n",
    "    else:\n",
    "        P_k2 = 0\n",
    "\n",
    "    if params['logFlag']:\n",
    "        P_k = np.log(P_k)\n",
    "        P_k = P_k - np.min(P_k)\n",
    "\n",
    "        if params['include2ndHarmonic']:\n",
    "            P_k2 = np.log(P_k2)\n",
    "            P_k2 = P_k2 - np.min(P_k2)\n",
    "\n",
    "    K = np.sqrt(KX**2 + KY**2)\n",
    "    order = 2\n",
    "\n",
    "    if not np.isnan(kval):\n",
    "        P_k = P_k * np.exp(-2*((K-kval)/a_k)**order)\n",
    "\n",
    "    # Define weighting function G\n",
    "    G1 = np.exp(-2*((W - omegaFun(KX, KY))/max(a))**order)\n",
    "    G2 = np.exp(-2*((W + omegaFun(-KX, -KY))/max(a))**order)\n",
    "\n",
    "    G = G1 + G2\n",
    "\n",
    "    if params['include2ndHarmonic']:\n",
    "        G1_2 = np.exp(-2*((W2 - omegaFun2(KX2, KY2))/a)**order)\n",
    "        G2_2 = np.exp(-2*((W2 + omegaFun2(-KX2, -KY2))/a)**order)\n",
    "\n",
    "        G_2 = G1_2 + G2_2\n",
    "\n",
    "        P_k2[~np.isfinite(P_k2)] = 0\n",
    "\n",
    "        signal_2 = np.sum(P_k2*G_2)/np.sum(G_2)\n",
    "        noise_2 = np.sum(P_k2*(1-G_2))/np.sum(1-G_2)\n",
    "    else:\n",
    "        signal_2 = 0\n",
    "        noise_2 = 0\n",
    "\n",
    "    P_k[~np.isfinite(P_k)] = 0\n",
    "    InP = P_k * G\n",
    "\n",
    "    signal_1 = np.sum(InP)/np.sum(G)\n",
    "    noise_1 = np.sum(P_k*(1-G))/np.sum(1-G)\n",
    "    SNR = (signal_1 + signal_2)/(noise_1 + noise_2)\n",
    "\n",
    "    return SNR, P_k, G"
   ]
  },
  {
   "cell_type": "code",
   "execution_count": 24,
   "id": "619f6343",
   "metadata": {},
   "outputs": [],
   "source": [
    "wavenumberLimits = []\n",
    "\n",
    "for jj in range(len(wavenumbers)):\n",
    "    wavenumberLimits_range = wavenumbers[jj] + kW * np.array([-1,1])\n",
    "    wavenumberLimits.append(wavenumberLimits_range)"
   ]
  },
  {
   "cell_type": "code",
   "execution_count": 25,
   "id": "00d1b6a0",
   "metadata": {},
   "outputs": [
    {
     "name": "stderr",
     "output_type": "stream",
     "text": [
      "Processing wavenumbers: 100%|██████████| 25/25 [01:48<00:00,  4.33s/it]\n"
     ]
    }
   ],
   "source": [
    "Spectrum_at_k = []\n",
    "\n",
    "ind_x_at_k = []\n",
    "ind_y_at_k = []\n",
    "ind_w_at_k = []\n",
    "\n",
    "W_3D_at_k = []\n",
    "Kx_3D_at_k = []\n",
    "Ky_3D_at_k = []\n",
    "\n",
    "Ux_at_k = []\n",
    "Uy_at_k = []\n",
    "\n",
    "SNR_max_at_k = []\n",
    "\n",
    "snrG_at_k = []\n",
    "\n",
    "im_at_k = []\n",
    "cDoppGuess_at_k = []\n",
    "\n",
    "Ux_at_k_correct = []\n",
    "Uy_at_k_correct = []\n",
    "\n",
    "# Initialize the tqdm progress bar outside the loop\n",
    "progress_bar = tqdm(total=len(wavenumberLimits), desc=\"Processing wavenumbers\")\n",
    "\n",
    "for i in range(len(wavenumberLimits)):\n",
    "    # i is the index of each wavenumber\n",
    "    \n",
    "    fit_param = {'wavenumbers': wavenumbers[i],\n",
    "     'include2ndHarmonic': 0,\n",
    "     'logFlag': [],\n",
    "     'SNR_filter': 0,\n",
    "     'SNR_threshold': 1,\n",
    "     'Peak_filter': 0,\n",
    "     'Peak_threshold': 0.5,\n",
    "     'Outlier_filter': 0,\n",
    "     'kWidth': 0.050015405430285265,\n",
    "     'Ux_2D': Uxm, \n",
    "     'Uy_2D': Uym}\n",
    "    \n",
    "    P = {'h': h, 'g': g, 'T': T,\n",
    "             'omegaWidth': omegaWidthFun(wavenumbers),\n",
    "             'kWidth': fit_param['kWidth'],\n",
    "             'logFlag': fit_param['logFlag'],\n",
    "             'include2ndHarmonic': fit_param['include2ndHarmonic']}\n",
    "    \n",
    "    Spectrum = retrieve_power_spectrum(wamos, dx, dy, dt, K_limits=wavenumberLimits[i], W_limits=frequencyLimits)\n",
    "    Spectrum_at_k.append(Spectrum)\n",
    "    \n",
    "    Nt, Nx, Ny = wamos.shape\n",
    "    \n",
    "    Kx = (2 * np.pi * 1 / dx / Nx) * np.arange(-np.ceil((Nx - 1) / 2), np.floor((Nx - 1) / 2) + 1) # 67 values\n",
    "    Ky = (2 * np.pi * 1 / dy / Ny) * np.arange(-np.ceil((Ny - 1) / 2), np.floor((Ny - 1) / 2) + 1) # 67 Values\n",
    "    w = (2 * np.pi * 1 / dt / Nt) * np.arange(-np.ceil((Nt - 1) / 2), np.floor((Nt - 1) / 2) + 1) # 1200 Values\n",
    "    # w = spec3d.get_C()[0]\n",
    "    # Kx = spec3d.get_C()[1]\n",
    "    # Ky = spec3d.get_C()[2]\n",
    "    \n",
    "    dKx = Kx[1] - Kx[0]\n",
    "    dKy = Ky[1] - Ky[0]\n",
    "    dW = w[1] - w[0]\n",
    "    # kx, ky and w resolution\n",
    "    \n",
    "    Norm = dKx * dKy * dW\n",
    "    \n",
    "    # Get power spectra (1200, 67, 67)\n",
    "    Spectrum_raw = fftshift(fftn(wamos) / np.prod(wamos.shape))\n",
    "    power_Spectrum = np.abs(Spectrum_raw / Norm)**2\n",
    "    # ?? how is this related to FFT spec3d.spectrum()\n",
    "    \n",
    "    ind_x = np.abs(Kx) <= wavenumberLimits[i][1]\n",
    "    ind_x_at_k.append(ind_x)\n",
    "    ind_y = np.abs(Ky) <= wavenumberLimits[i][1]\n",
    "    ind_y_at_k.append(ind_y)\n",
    "    # Is the absolute values of Kx and Ky smaller than the upper value of the wavenumber range \n",
    "    \n",
    "    ind_w = (w >= frequencyLimits[0]) & (w <= frequencyLimits[1])\n",
    "    ind_w_at_k.append(ind_w)\n",
    "    # Is the value of w between the frequency limits 0.01 and 20 \n",
    "    \n",
    "    # Create 3D structure where it only includes w,Kx,Ky that are in the ranges required by wavenumberLimits\n",
    "    W_3D, Kx_3D, Ky_3D = np.meshgrid( w[ind_w_at_k[i]], Kx[ind_x_at_k[i]] , Ky[ind_y_at_k[i]] , indexing='ij')\n",
    "    W_3D_at_k.append(W_3D)\n",
    "    Kx_3D_at_k.append(Kx_3D)\n",
    "    Ky_3D_at_k.append(Ky_3D)\n",
    "    \n",
    "    \n",
    "    Ux_2D = Uxm\n",
    "    Uy_2D = Uym\n",
    "    \n",
    "    snrG = np.zeros(Ux_2D.shape)\n",
    "    \n",
    "    for m in range(Ux_2D.shape[0]):\n",
    "        for n in range(Ux_2D.shape[1]):\n",
    "            snr_mn, _, _ = nsp_doppler_shift_extraction(Spectrum, P, wavenumbers[i], Ux_2D[m, n], Uy_2D[m, n])\n",
    "            snrG[m, n] = snr_mn\n",
    "            \n",
    "            \n",
    "    snrG_at_k.append(snrG)\n",
    "    # Append the 2D array to the list\n",
    "    \n",
    "    \n",
    "    im = np.argmax(snrG_at_k[i])\n",
    "    im_at_k.append(im)\n",
    "    \n",
    "    if np.ndim(Ux_2D) == 1:\n",
    "        cDoppGuess = Ux_2D[im]\n",
    "    else:\n",
    "        Ux_1D = Ux_2D.flatten()\n",
    "        Uy_1D = Uy_2D.flatten()\n",
    "        cDoppGuess = [Ux_1D[im], Uy_1D[im]]\n",
    "    \n",
    "    cDoppGuess_at_k.append(cDoppGuess)\n",
    "    \n",
    "    \n",
    "    Ufit = minimize(lambda U: 1 - nsp_doppler_shift_extraction(Spectrum, P, fit_param['wavenumbers'], U[0], U[1])[0], cDoppGuess)\n",
    "    \n",
    "    Ux = Ufit.x[0]\n",
    "    Uy = Ufit.x[1]\n",
    "    \n",
    "    Ux_at_k_correct.append(Ux)\n",
    "    Uy_at_k_correct.append(Uy)\n",
    "    \n",
    "    # Update the tqdm progress bar\n",
    "    progress_bar.update(1)\n",
    "\n",
    "# Close the tqdm progress bar after the loop is finished\n",
    "progress_bar.close()"
   ]
  },
  {
   "cell_type": "code",
   "execution_count": 26,
   "id": "6e248d0b",
   "metadata": {},
   "outputs": [],
   "source": [
    "Ux = np.array(Ux_at_k_correct)\n",
    "Uy = np.array(Uy_at_k_correct)"
   ]
  },
  {
   "cell_type": "code",
   "execution_count": 27,
   "id": "661096e1",
   "metadata": {},
   "outputs": [
    {
     "data": {
      "text/plain": [
       "Text(0.5, 1.0, 'Effective Current $|U|$')"
      ]
     },
     "execution_count": 27,
     "metadata": {},
     "output_type": "execute_result"
    },
    {
     "data": {
      "image/png": "[encoded data removed]",
      "text/plain": [
       "<Figure size 432x288 with 1 Axes>"
      ]
     },
     "metadata": {
      "needs_background": "light"
     },
     "output_type": "display_data"
    }
   ],
   "source": [
    "#plt.scatter(wavenumbers, np.abs(Ux), label='Ux', color = 'blue')\n",
    "#plt.scatter(wavenumbers, np.abs(Uy), label='Uy', color = 'red')\n",
    "plt.scatter(wavenumbers, np.sqrt(Ux**2+Uy**2), label='|U|', color = 'green')\n",
    "\n",
    "plt.grid(True)\n",
    "plt.legend()\n",
    "plt.ylabel(\"U [m/s]\")\n",
    "plt.xlabel(\"Wavenumber [rad/m]\")\n",
    "plt.title('Effective Current $|U|$')\n",
    "\n",
    "#plt.ylim(0, 1)\n",
    "#plt.xlim(0, 0.31)"
   ]
  },
  {
   "cell_type": "markdown",
   "id": "15868782",
   "metadata": {},
   "source": [
    "## 1.2) Fitting Higher Wavenumbers"
   ]
  },
  {
   "cell_type": "code",
   "execution_count": 28,
   "id": "095abac7",
   "metadata": {},
   "outputs": [],
   "source": [
    "x1 = wavenumbers\n",
    "y1 = np.sqrt(Ux**2+Uy**2)"
   ]
  },
  {
   "cell_type": "code",
   "execution_count": 29,
   "id": "44705ce9",
   "metadata": {},
   "outputs": [
    {
     "data": {
      "text/plain": [
       "(25,)"
      ]
     },
     "execution_count": 29,
     "metadata": {},
     "output_type": "execute_result"
    }
   ],
   "source": [
    "x1.shape"
   ]
  },
  {
   "cell_type": "code",
   "execution_count": 30,
   "id": "60efe650",
   "metadata": {},
   "outputs": [
    {
     "data": {
      "text/plain": [
       "0.15231964381041418"
      ]
     },
     "execution_count": 30,
     "metadata": {},
     "output_type": "execute_result"
    }
   ],
   "source": [
    "x1[9]"
   ]
  },
  {
   "cell_type": "code",
   "execution_count": 31,
   "id": "04a0d853",
   "metadata": {},
   "outputs": [
    {
     "data": {
      "text/plain": [
       "1.2593068332353592"
      ]
     },
     "execution_count": 31,
     "metadata": {},
     "output_type": "execute_result"
    }
   ],
   "source": [
    "y1[9]"
   ]
  },
  {
   "cell_type": "code",
   "execution_count": 32,
   "id": "23b7f5b0",
   "metadata": {},
   "outputs": [],
   "source": [
    "#filtered_x = np.insert( x1, 0, 0)\n",
    "#filtered_y = np.insert( y1, 0, 0)\n",
    "# add (0,0) as a point\n",
    "\n",
    "filtered_x = np.insert( x1, 0, 1*10**-8)\n",
    "filtered_y = np.insert( y1, 0, 1*10**-8)"
   ]
  },
  {
   "cell_type": "code",
   "execution_count": 33,
   "id": "a63ad331",
   "metadata": {},
   "outputs": [],
   "source": [
    "def cubic(x):\n",
    "    return 3*(x-1)**3-x**2-4*x+5"
   ]
  },
  {
   "cell_type": "markdown",
   "id": "62d2cfca",
   "metadata": {},
   "source": [
    "## 1.2.1) Fit Power Law"
   ]
  },
  {
   "cell_type": "code",
   "execution_count": 34,
   "id": "2ca70822",
   "metadata": {},
   "outputs": [],
   "source": [
    "def fpow(x, a, b, c):\n",
    "    return a*x**b+c"
   ]
  },
  {
   "cell_type": "code",
   "execution_count": 35,
   "id": "152a4cc1",
   "metadata": {},
   "outputs": [
    {
     "data": {
      "image/png": "[encoded data removed]",
      "text/plain": [
       "<Figure size 432x288 with 1 Axes>"
      ]
     },
     "metadata": {
      "needs_background": "light"
     },
     "output_type": "display_data"
    }
   ],
   "source": [
    "# plot the raw data\n",
    "plt.errorbar(filtered_x, filtered_y, yerr=0, fmt=\".\", color = 'black', label = 'data')\n",
    "plt.grid(True)\n",
    "plt.ylabel(\"U [m/s]\")\n",
    "plt.xlabel(\"Wavenumber [rad/m]\")\n",
    "\n",
    "# initial guess\n",
    "pars0 = (1, 0.4, 0.5)\n",
    " \n",
    "x = np.linspace(0, max(filtered_x), 1000)\n",
    "\n",
    "plt.plot(x, fpow(x,*pars0), color = 'red', label = 'guess parameters')\n",
    "plt.legend();\n",
    "plt.title(\"Power Law fit\");"
   ]
  },
  {
   "cell_type": "code",
   "execution_count": 36,
   "id": "9a91ff1a",
   "metadata": {},
   "outputs": [
    {
     "name": "stderr",
     "output_type": "stream",
     "text": [
      "C:\\Users\\josep\\Documents\\Anaconda\\lib\\site-packages\\scipy\\optimize\\_minpack_py.py:881: OptimizeWarning: Covariance of the parameters could not be estimated\n",
      "  warnings.warn('Covariance of the parameters could not be estimated',\n"
     ]
    },
    {
     "data": {
      "image/png": "[encoded data removed]",
      "text/plain": [
       "<Figure size 432x288 with 1 Axes>"
      ]
     },
     "metadata": {
      "needs_background": "light"
     },
     "output_type": "display_data"
    }
   ],
   "source": [
    "# perform fitting\n",
    "popt, pcov = curve_fit(fpow, filtered_x, filtered_y, absolute_sigma=True, p0=pars0, maxfev =2000)\n",
    "\n",
    "# Parameters\n",
    "a_opt = popt[0]\n",
    "b_opt = popt[1]\n",
    "c_opt = popt[2]\n",
    "\n",
    "# plot data\n",
    "plt.errorbar(filtered_x, filtered_y, yerr=0, fmt=\".\", color = 'black', label = 'data', zorder=1, markersize = 5)\n",
    "\n",
    "# creating x interval to include in y fit\n",
    "x = np.linspace(0.0, max(filtered_x), 1000)\n",
    "y_fit = fpow(x, *popt)\n",
    "plt.plot(x, y_fit, color=\"red\", label=\"best fit\", zorder=2, linewidth = 3)\n",
    "\n",
    "plt.grid(True)\n",
    "plt.ylabel(\"U [m/s]\")\n",
    "plt.xlabel(\"Wavenumber [rad/m]\")\n",
    "plt.legend();"
   ]
  },
  {
   "cell_type": "markdown",
   "id": "9a80d7c4",
   "metadata": {},
   "source": [
    "## 1.2.2) Fit Residuals"
   ]
  },
  {
   "cell_type": "code",
   "execution_count": 37,
   "id": "39462690",
   "metadata": {},
   "outputs": [],
   "source": [
    "def fitted_power(x):\n",
    "    return a_opt*x**b_opt+c_opt"
   ]
  },
  {
   "cell_type": "code",
   "execution_count": 38,
   "id": "e708913a",
   "metadata": {},
   "outputs": [
    {
     "data": {
      "text/plain": [
       "<matplotlib.legend.Legend at 0x1c6116652b0>"
      ]
     },
     "execution_count": 38,
     "metadata": {},
     "output_type": "execute_result"
    },
    {
     "data": {
      "image/png": "[encoded data removed]",
      "text/plain": [
       "<Figure size 432x288 with 1 Axes>"
      ]
     },
     "metadata": {
      "needs_background": "light"
     },
     "output_type": "display_data"
    }
   ],
   "source": [
    "plt.scatter(filtered_x, fitted_power(filtered_x) - filtered_y, s = 5 , label='Residuals', color = 'red')\n",
    "plt.plot(x, np.zeros(len(x)), label = 'Fit', color = 'black')\n",
    "\n",
    "plt.grid(True)\n",
    "plt.title('Residual Plot')\n",
    "plt.ylabel(\"U [m/s]\")\n",
    "plt.xlabel(\"Wavenumber [rad/m]\")\n",
    "plt.legend()\n",
    "\n",
    "#plt.ylim(-5,5)"
   ]
  },
  {
   "cell_type": "markdown",
   "id": "7f6b1d34",
   "metadata": {},
   "source": [
    "## 1.2.3) Weighted Least Squares"
   ]
  },
  {
   "cell_type": "code",
   "execution_count": 39,
   "id": "ca05ed64",
   "metadata": {},
   "outputs": [
    {
     "data": {
      "text/plain": [
       "array([1.00000000e-08, 3.80799110e-02, 5.07732146e-02, 6.34665183e-02,\n",
       "       7.61598219e-02, 8.88531256e-02, 1.01546429e-01, 1.14239733e-01,\n",
       "       1.26933037e-01, 1.39626340e-01, 1.52319644e-01, 1.65012947e-01,\n",
       "       1.77706251e-01, 1.90399555e-01, 2.03092858e-01, 2.15786162e-01,\n",
       "       2.28479466e-01, 2.41172769e-01, 2.53866073e-01, 2.66559377e-01,\n",
       "       2.79252680e-01, 2.91945984e-01, 3.04639288e-01, 3.17332591e-01,\n",
       "       3.30025895e-01, 3.42719199e-01])"
      ]
     },
     "execution_count": 39,
     "metadata": {},
     "output_type": "execute_result"
    }
   ],
   "source": [
    "filtered_x"
   ]
  },
  {
   "cell_type": "code",
   "execution_count": 40,
   "id": "6cf088d9",
   "metadata": {},
   "outputs": [
    {
     "data": {
      "text/plain": [
       "array([1.00000000e-08, 1.53989397e+00, 2.04460628e+00, 4.18043213e+00,\n",
       "       2.97621482e+00, 2.82642339e+00, 2.98335023e+00, 2.98964836e+00,\n",
       "       2.12218901e+00, 1.42801972e+00, 1.25930683e+00, 7.16440766e-01,\n",
       "       4.82208656e-01, 2.11659851e-01, 2.47566092e-01, 2.11231786e-01,\n",
       "       5.73449986e-01, 4.93627624e-01, 2.02827667e-01, 5.03211858e-01,\n",
       "       5.03471650e-01, 7.42594082e-01, 4.84937826e-01, 8.17855876e-01,\n",
       "       5.45436664e-01, 5.32188379e-01])"
      ]
     },
     "execution_count": 40,
     "metadata": {},
     "output_type": "execute_result"
    }
   ],
   "source": [
    "filtered_y"
   ]
  },
  {
   "cell_type": "code",
   "execution_count": 41,
   "id": "df15b117",
   "metadata": {},
   "outputs": [],
   "source": [
    "def f(x):\n",
    "    return x^2"
   ]
  },
  {
   "cell_type": "code",
   "execution_count": 42,
   "id": "df06c779",
   "metadata": {},
   "outputs": [
    {
     "data": {
      "image/png": "[encoded data removed]",
      "text/plain": [
       "<Figure size 432x288 with 1 Axes>"
      ]
     },
     "metadata": {
      "needs_background": "light"
     },
     "output_type": "display_data"
    }
   ],
   "source": [
    "# fitted function\n",
    "def fpow(x, a, b, c):\n",
    "    return a*x**b+c\n",
    "\n",
    "# custom weight function\n",
    "def custom_weights(x):\n",
    "    weights = np.ones_like(x)  # Default weight for all points\n",
    "    weights[np.isclose(x, 0, atol=1e-7)] = 0.05  # Low Error for x = 0\n",
    "    weights[x > 0.2] = 0.5 # Low Error for x > 0.15\n",
    "    weights[(0 < x) & (x <= 0.2)] = 10  # Medium error for 0 < x <= 0.2\n",
    "    return weights\n",
    "\n",
    "# initial guess\n",
    "pars0 = (0.4, 0.4, 1)\n",
    "\n",
    "# perform fitting with custom weights\n",
    "popt, pcov = curve_fit(fpow, filtered_x, filtered_y, absolute_sigma=True, p0=pars0, sigma=custom_weights(filtered_x), maxfev =5000)\n",
    "\n",
    "# parameters\n",
    "a_opt = popt[0]\n",
    "b_opt = popt[1]\n",
    "c_opt = popt[2]\n",
    "\n",
    "# plot data\n",
    "plt.errorbar(filtered_x, filtered_y, yerr=0, fmt =\".\", color='black', label ='data', zorder=1, markersize=5)\n",
    "\n",
    "# creating x interval to include in y fit\n",
    "x_interval = np.linspace(0, max(filtered_x), 1000)\n",
    "y_fit = fpow( x_interval , *popt)\n",
    "plt.plot( x_interval, y_fit, color = \"red\", label = \"Weighted fit\", zorder=2 , linewidth=3)\n",
    "\n",
    "plt.grid(True)\n",
    "plt.ylabel(\"U [m/s]\")\n",
    "plt.xlabel(\"Wavenumber [rad/m]\")\n",
    "plt.title(\"LS Weighted Fit of Current\")\n",
    "plt.legend()\n",
    "plt.show()"
   ]
  },
  {
   "cell_type": "code",
   "execution_count": null,
   "id": "8eb3f82c",
   "metadata": {},
   "outputs": [],
   "source": []
  },
  {
   "cell_type": "code",
   "execution_count": null,
   "id": "11ada6a9",
   "metadata": {},
   "outputs": [],
   "source": []
  },
  {
   "cell_type": "code",
   "execution_count": 43,
   "id": "ab35b7f1",
   "metadata": {},
   "outputs": [
    {
     "data": {
      "text/plain": [
       "Text(0.5, 1.0, 'Effective Current $|U|$')"
      ]
     },
     "execution_count": 43,
     "metadata": {},
     "output_type": "execute_result"
    },
    {
     "data": {
      "image/png": "[encoded data removed]",
      "text/plain": [
       "<Figure size 432x288 with 1 Axes>"
      ]
     },
     "metadata": {
      "needs_background": "light"
     },
     "output_type": "display_data"
    }
   ],
   "source": [
    "plt.scatter(wavenumbers, np.sqrt(Ux**2+Uy**2), label='|U|', color = 'green')\n",
    "plt.plot( x_interval, y_fit, color = \"red\", label = \"Weighted fit\", zorder=2 , linewidth=3)\n",
    "\n",
    "\n",
    "plt.grid(True)\n",
    "plt.legend()\n",
    "plt.ylabel(\"U [m/s]\")\n",
    "plt.xlabel(\"Wavenumber [rad/m]\")\n",
    "plt.title('Effective Current $|U|$')"
   ]
  },
  {
   "cell_type": "code",
   "execution_count": null,
   "id": "44f1c8fe",
   "metadata": {},
   "outputs": [],
   "source": []
  },
  {
   "cell_type": "code",
   "execution_count": 44,
   "id": "cd0cc617",
   "metadata": {},
   "outputs": [],
   "source": [
    "p = np.poly1d(np.polyfit(wavenumbers, y1, 10))"
   ]
  },
  {
   "cell_type": "code",
   "execution_count": 45,
   "id": "c1cf433a",
   "metadata": {},
   "outputs": [],
   "source": [
    "Uk_mask = np.where(np.gradient(p(wavenumbers))>0, 1, 0)"
   ]
  },
  {
   "cell_type": "code",
   "execution_count": 46,
   "id": "519f87cc",
   "metadata": {},
   "outputs": [],
   "source": [
    "k_m = np.block([0, np.ma.masked_array(wavenumbers, mask=1-Uk_mask).compressed()])\n",
    "Uk_m = np.block([0, np.ma.masked_array(y1, mask=1-Uk_mask).compressed()])"
   ]
  },
  {
   "cell_type": "code",
   "execution_count": 47,
   "id": "4d8f06eb",
   "metadata": {},
   "outputs": [
    {
     "data": {
      "text/plain": [
       "Text(0.5, 0, 'Wavenumber [rad/m]')"
      ]
     },
     "execution_count": 47,
     "metadata": {},
     "output_type": "execute_result"
    },
    {
     "data": {
      "image/png": "[encoded data removed]",
      "text/plain": [
       "<Figure size 432x288 with 1 Axes>"
      ]
     },
     "metadata": {
      "needs_background": "light"
     },
     "output_type": "display_data"
    }
   ],
   "source": [
    "plt.scatter(k_m, Uk_m, label='Uk_m', color = 'red')\n",
    "plt.plot(wavenumbers, p(wavenumbers), label='Fitted Polynomial', color='black')\n",
    "\n",
    "plt.grid(True)\n",
    "plt.legend()\n",
    "plt.ylabel(\"U [m/s]\")\n",
    "plt.xlabel(\"Wavenumber [rad/m]\")"
   ]
  },
  {
   "cell_type": "markdown",
   "id": "6346b913",
   "metadata": {},
   "source": [
    "# 1.2) PCS Method"
   ]
  },
  {
   "cell_type": "code",
   "execution_count": 48,
   "id": "883b59b9",
   "metadata": {},
   "outputs": [],
   "source": [
    "f = h5py.File('C:\\\\Users\\josep\\Desktop\\PHYC40900_Project TP\\Real Data Sets\\First Tel-Aviv data', 'r')"
   ]
  },
  {
   "cell_type": "code",
   "execution_count": 49,
   "id": "67d79120",
   "metadata": {},
   "outputs": [],
   "source": [
    "x = f.get('x')\n",
    "y = f.get('y')\n",
    "t = f.get('t')\n",
    "wamos = f.get('wamos')\n",
    "\n",
    "x = np.array(x)\n",
    "y = np.array(y)\n",
    "t = np.array(t)\n",
    "wamos = np.array(wamos)"
   ]
  },
  {
   "cell_type": "code",
   "execution_count": 50,
   "id": "53fe5cf5",
   "metadata": {},
   "outputs": [
    {
     "data": {
      "text/plain": [
       "(366, 132, 132)"
      ]
     },
     "execution_count": 50,
     "metadata": {},
     "output_type": "execute_result"
    }
   ],
   "source": [
    "wamos.shape"
   ]
  },
  {
   "cell_type": "code",
   "execution_count": 51,
   "id": "99749dc7",
   "metadata": {},
   "outputs": [],
   "source": [
    "eta = np.transpose(wamos, (1, 2, 0))"
   ]
  },
  {
   "cell_type": "code",
   "execution_count": 52,
   "id": "fac015b9",
   "metadata": {},
   "outputs": [
    {
     "data": {
      "text/plain": [
       "1524.0"
      ]
     },
     "execution_count": 52,
     "metadata": {},
     "output_type": "execute_result"
    }
   ],
   "source": [
    "wamos[200,17,13]"
   ]
  },
  {
   "cell_type": "code",
   "execution_count": 53,
   "id": "378f0fcd",
   "metadata": {},
   "outputs": [
    {
     "data": {
      "text/plain": [
       "1524.0"
      ]
     },
     "execution_count": 53,
     "metadata": {},
     "output_type": "execute_result"
    }
   ],
   "source": [
    "eta[17,13,200]"
   ]
  },
  {
   "cell_type": "code",
   "execution_count": 54,
   "id": "c86c2b6f",
   "metadata": {},
   "outputs": [
    {
     "data": {
      "text/plain": [
       "(132, 132, 366)"
      ]
     },
     "execution_count": 54,
     "metadata": {},
     "output_type": "execute_result"
    }
   ],
   "source": [
    "eta.shape"
   ]
  },
  {
   "cell_type": "code",
   "execution_count": 55,
   "id": "373c022c",
   "metadata": {},
   "outputs": [],
   "source": [
    "# new version with eta changed dimension \n",
    "def cylinder_cross_section(Spectrum, dtheta, power_Spectrum_cut , order=None):\n",
    "    if order is None:\n",
    "        order = 4\n",
    "\n",
    "    Kx_2D = np.squeeze(Kx_3D[:,:,0])\n",
    "    Ky_2D = np.squeeze(Ky_3D[:,:,0])\n",
    "    W_1D = np.squeeze(W_3D[0,0,:])\n",
    "\n",
    "    theta_2D = np.arctan2(-Ky_2D, -Kx_2D)\n",
    "    theta_3D = np.tile(theta_2D[:, :, np.newaxis], (1, 1, W_1D.size))\n",
    "\n",
    "    theta_vals = np.arange(-np.pi, np.pi, dtheta)\n",
    "    S_cyl = np.zeros((W_1D.size, theta_vals.size))\n",
    "\n",
    "    for ii in range(theta_vals.size):\n",
    "        theta_diff = np.angle(np.exp(1j * theta_3D) * np.exp(-1j * theta_vals[ii]))\n",
    "        theta_filt = np.exp(-2 * (theta_diff / dtheta) ** order)\n",
    "        S_filt = power_Spectrum_cut * theta_filt\n",
    "        S_cyl[:, ii] = np.nansum(S_filt, axis=(0, 1))\n",
    "\n",
    "    thetaM, omegaM = np.meshgrid(theta_vals, W_1D)\n",
    "\n",
    "    Scyl = {\n",
    "        'P_k': S_cyl,\n",
    "        'thetaM': thetaM,\n",
    "        'omegaM': omegaM,\n",
    "        'Kx_2D': Kx_2D, \n",
    "        'Ky_2D': Ky_2D,\n",
    "        'W_1D': W_1D,\n",
    "        'theta_2D':theta_2D,\n",
    "        'theta_3D':theta_3D,\n",
    "        'theta_vals':theta_vals,\n",
    "        'theta_diff':theta_diff,\n",
    "        'theta_filt':theta_filt\n",
    "    }\n",
    "\n",
    "    return Scyl"
   ]
  },
  {
   "cell_type": "code",
   "execution_count": 56,
   "id": "f219b796",
   "metadata": {},
   "outputs": [
    {
     "data": {
      "text/plain": [
       "0.01269330365086785"
      ]
     },
     "execution_count": 56,
     "metadata": {},
     "output_type": "execute_result"
    }
   ],
   "source": [
    "dk = 2*np.pi/(dx*min(eta.shape[0], eta.shape[1]))\n",
    "dk"
   ]
  },
  {
   "cell_type": "code",
   "execution_count": 57,
   "id": "1ddf68d0",
   "metadata": {},
   "outputs": [],
   "source": [
    "frequencyLimits = [0.01,20.0]\n",
    "# frequency limits for masking the spectrum [min max], rad/sec"
   ]
  },
  {
   "cell_type": "code",
   "execution_count": 58,
   "id": "1f1456dd",
   "metadata": {},
   "outputs": [],
   "source": [
    "Nx, Ny, Nt = eta.shape\n",
    "    \n",
    "Kx = (2 * np.pi * 1 / dx / Nx) * np.arange(-np.ceil((Nx - 1) / 2), np.floor((Nx - 1) / 2) + 1) \n",
    "Ky = (2 * np.pi * 1 / dy / Ny) * np.arange(-np.ceil((Ny - 1) / 2), np.floor((Ny - 1) / 2) + 1) \n",
    "w = (2 * np.pi * 1 / dt / Nt) * np.arange(-np.ceil((Nt - 1) / 2), np.floor((Nt - 1) / 2) + 1)"
   ]
  },
  {
   "cell_type": "code",
   "execution_count": 59,
   "id": "bf3f739a",
   "metadata": {},
   "outputs": [
    {
     "data": {
      "text/plain": [
       "array([-1.27409035, -1.26712811, -1.26016587, -1.25320363, -1.24624138,\n",
       "       -1.23927914, -1.2323169 , -1.22535466, -1.21839241, -1.21143017,\n",
       "       -1.20446793, -1.19750569, -1.19054345, -1.1835812 , -1.17661896,\n",
       "       -1.16965672, -1.16269448, -1.15573223, -1.14876999, -1.14180775,\n",
       "       -1.13484551, -1.12788326, -1.12092102, -1.11395878, -1.10699654,\n",
       "       -1.10003429, -1.09307205, -1.08610981, -1.07914757, -1.07218533,\n",
       "       -1.06522308, -1.05826084, -1.0512986 , -1.04433636, -1.03737411,\n",
       "       -1.03041187, -1.02344963, -1.01648739, -1.00952514, -1.0025629 ,\n",
       "       -0.99560066, -0.98863842, -0.98167617, -0.97471393, -0.96775169,\n",
       "       -0.96078945, -0.9538272 , -0.94686496, -0.93990272, -0.93294048,\n",
       "       -0.92597824, -0.91901599, -0.91205375, -0.90509151, -0.89812927,\n",
       "       -0.89116702, -0.88420478, -0.87724254, -0.8702803 , -0.86331805,\n",
       "       -0.85635581, -0.84939357, -0.84243133, -0.83546908, -0.82850684,\n",
       "       -0.8215446 , -0.81458236, -0.80762012, -0.80065787, -0.79369563,\n",
       "       -0.78673339, -0.77977115, -0.7728089 , -0.76584666, -0.75888442,\n",
       "       -0.75192218, -0.74495993, -0.73799769, -0.73103545, -0.72407321,\n",
       "       -0.71711096, -0.71014872, -0.70318648, -0.69622424, -0.68926199,\n",
       "       -0.68229975, -0.67533751, -0.66837527, -0.66141303, -0.65445078,\n",
       "       -0.64748854, -0.6405263 , -0.63356406, -0.62660181, -0.61963957,\n",
       "       -0.61267733, -0.60571509, -0.59875284, -0.5917906 , -0.58482836,\n",
       "       -0.57786612, -0.57090387, -0.56394163, -0.55697939, -0.55001715,\n",
       "       -0.5430549 , -0.53609266, -0.52913042, -0.52216818, -0.51520594,\n",
       "       -0.50824369, -0.50128145, -0.49431921, -0.48735697, -0.48039472,\n",
       "       -0.47343248, -0.46647024, -0.459508  , -0.45254575, -0.44558351,\n",
       "       -0.43862127, -0.43165903, -0.42469678, -0.41773454, -0.4107723 ,\n",
       "       -0.40381006, -0.39684782, -0.38988557, -0.38292333, -0.37596109,\n",
       "       -0.36899885, -0.3620366 , -0.35507436, -0.34811212, -0.34114988,\n",
       "       -0.33418763, -0.32722539, -0.32026315, -0.31330091, -0.30633866,\n",
       "       -0.29937642, -0.29241418, -0.28545194, -0.27848969, -0.27152745,\n",
       "       -0.26456521, -0.25760297, -0.25064073, -0.24367848, -0.23671624,\n",
       "       -0.229754  , -0.22279176, -0.21582951, -0.20886727, -0.20190503,\n",
       "       -0.19494279, -0.18798054, -0.1810183 , -0.17405606, -0.16709382,\n",
       "       -0.16013157, -0.15316933, -0.14620709, -0.13924485, -0.13228261,\n",
       "       -0.12532036, -0.11835812, -0.11139588, -0.10443364, -0.09747139,\n",
       "       -0.09050915, -0.08354691, -0.07658467, -0.06962242, -0.06266018,\n",
       "       -0.05569794, -0.0487357 , -0.04177345, -0.03481121, -0.02784897,\n",
       "       -0.02088673, -0.01392448, -0.00696224,  0.        ,  0.00696224,\n",
       "        0.01392448,  0.02088673,  0.02784897,  0.03481121,  0.04177345,\n",
       "        0.0487357 ,  0.05569794,  0.06266018,  0.06962242,  0.07658467,\n",
       "        0.08354691,  0.09050915,  0.09747139,  0.10443364,  0.11139588,\n",
       "        0.11835812,  0.12532036,  0.13228261,  0.13924485,  0.14620709,\n",
       "        0.15316933,  0.16013157,  0.16709382,  0.17405606,  0.1810183 ,\n",
       "        0.18798054,  0.19494279,  0.20190503,  0.20886727,  0.21582951,\n",
       "        0.22279176,  0.229754  ,  0.23671624,  0.24367848,  0.25064073,\n",
       "        0.25760297,  0.26456521,  0.27152745,  0.27848969,  0.28545194,\n",
       "        0.29241418,  0.29937642,  0.30633866,  0.31330091,  0.32026315,\n",
       "        0.32722539,  0.33418763,  0.34114988,  0.34811212,  0.35507436,\n",
       "        0.3620366 ,  0.36899885,  0.37596109,  0.38292333,  0.38988557,\n",
       "        0.39684782,  0.40381006,  0.4107723 ,  0.41773454,  0.42469678,\n",
       "        0.43165903,  0.43862127,  0.44558351,  0.45254575,  0.459508  ,\n",
       "        0.46647024,  0.47343248,  0.48039472,  0.48735697,  0.49431921,\n",
       "        0.50128145,  0.50824369,  0.51520594,  0.52216818,  0.52913042,\n",
       "        0.53609266,  0.5430549 ,  0.55001715,  0.55697939,  0.56394163,\n",
       "        0.57090387,  0.57786612,  0.58482836,  0.5917906 ,  0.59875284,\n",
       "        0.60571509,  0.61267733,  0.61963957,  0.62660181,  0.63356406,\n",
       "        0.6405263 ,  0.64748854,  0.65445078,  0.66141303,  0.66837527,\n",
       "        0.67533751,  0.68229975,  0.68926199,  0.69622424,  0.70318648,\n",
       "        0.71014872,  0.71711096,  0.72407321,  0.73103545,  0.73799769,\n",
       "        0.74495993,  0.75192218,  0.75888442,  0.76584666,  0.7728089 ,\n",
       "        0.77977115,  0.78673339,  0.79369563,  0.80065787,  0.80762012,\n",
       "        0.81458236,  0.8215446 ,  0.82850684,  0.83546908,  0.84243133,\n",
       "        0.84939357,  0.85635581,  0.86331805,  0.8702803 ,  0.87724254,\n",
       "        0.88420478,  0.89116702,  0.89812927,  0.90509151,  0.91205375,\n",
       "        0.91901599,  0.92597824,  0.93294048,  0.93990272,  0.94686496,\n",
       "        0.9538272 ,  0.96078945,  0.96775169,  0.97471393,  0.98167617,\n",
       "        0.98863842,  0.99560066,  1.0025629 ,  1.00952514,  1.01648739,\n",
       "        1.02344963,  1.03041187,  1.03737411,  1.04433636,  1.0512986 ,\n",
       "        1.05826084,  1.06522308,  1.07218533,  1.07914757,  1.08610981,\n",
       "        1.09307205,  1.10003429,  1.10699654,  1.11395878,  1.12092102,\n",
       "        1.12788326,  1.13484551,  1.14180775,  1.14876999,  1.15573223,\n",
       "        1.16269448,  1.16965672,  1.17661896,  1.1835812 ,  1.19054345,\n",
       "        1.19750569,  1.20446793,  1.21143017,  1.21839241,  1.22535466,\n",
       "        1.2323169 ,  1.23927914,  1.24624138,  1.25320363,  1.26016587,\n",
       "        1.26712811])"
      ]
     },
     "execution_count": 59,
     "metadata": {},
     "output_type": "execute_result"
    }
   ],
   "source": [
    "w"
   ]
  },
  {
   "cell_type": "code",
   "execution_count": 60,
   "id": "a465652a",
   "metadata": {},
   "outputs": [],
   "source": [
    "dKx = Kx[1] - Kx[0]\n",
    "dKy = Ky[1] - Ky[0]\n",
    "dW = w[1] - w[0]"
   ]
  },
  {
   "cell_type": "code",
   "execution_count": 61,
   "id": "9300b4e0",
   "metadata": {},
   "outputs": [],
   "source": [
    "Norm = dKx * dKy * dW "
   ]
  },
  {
   "cell_type": "code",
   "execution_count": 62,
   "id": "7eb75426",
   "metadata": {},
   "outputs": [],
   "source": [
    "# Get power spectra\n",
    "Spectrum_raw = fftshift(fftn(eta) / np.prod(eta.shape))\n",
    "power_Spectrum = np.abs(Spectrum_raw / Norm)**2"
   ]
  },
  {
   "cell_type": "code",
   "execution_count": 63,
   "id": "59bae57e",
   "metadata": {
    "scrolled": true
   },
   "outputs": [
    {
     "data": {
      "text/plain": [
       "(132, 132, 366)"
      ]
     },
     "execution_count": 63,
     "metadata": {},
     "output_type": "execute_result"
    }
   ],
   "source": [
    "power_Spectrum.shape"
   ]
  },
  {
   "cell_type": "markdown",
   "id": "165edd6b",
   "metadata": {},
   "source": [
    "## 1.2.1) HP Filter"
   ]
  },
  {
   "cell_type": "code",
   "execution_count": 64,
   "id": "7b9595ca",
   "metadata": {},
   "outputs": [
    {
     "data": {
      "text/plain": [
       "(132, 132, 366)"
      ]
     },
     "execution_count": 64,
     "metadata": {},
     "output_type": "execute_result"
    }
   ],
   "source": [
    "I_0 = power_Spectrum\n",
    "I_0.shape"
   ]
  },
  {
   "cell_type": "code",
   "execution_count": 65,
   "id": "0b8f824b",
   "metadata": {},
   "outputs": [],
   "source": [
    "w_cut = 0.03 * 2*np.pi"
   ]
  },
  {
   "cell_type": "code",
   "execution_count": 66,
   "id": "dd1578f0",
   "metadata": {},
   "outputs": [
    {
     "data": {
      "text/plain": [
       "0.18849555921538758"
      ]
     },
     "execution_count": 66,
     "metadata": {},
     "output_type": "execute_result"
    }
   ],
   "source": [
    "w_cut"
   ]
  },
  {
   "cell_type": "code",
   "execution_count": 67,
   "id": "afe7a1b3",
   "metadata": {},
   "outputs": [],
   "source": [
    "# Create a boolean mask based on the condition w >= w_cut\n",
    "mask = (w >= w_cut)"
   ]
  },
  {
   "cell_type": "code",
   "execution_count": 68,
   "id": "206aa790",
   "metadata": {},
   "outputs": [],
   "source": [
    "I_1 = np.where(mask[ None, None,:], I_0, 0)"
   ]
  },
  {
   "cell_type": "markdown",
   "id": "1a56647a",
   "metadata": {},
   "source": [
    "## 1.2.2)Energy Threshold"
   ]
  },
  {
   "cell_type": "code",
   "execution_count": 69,
   "id": "363560d8",
   "metadata": {},
   "outputs": [],
   "source": [
    "# Create a boolean mask based on the condition energy\n",
    "\n",
    "P = np.max(I_1) / 1000\n",
    "# Threshold\n",
    "\n",
    "condition = ( np.max(I_1, axis=2) >= P )\n",
    "# Is  maximum energy for each column vector along the ω axis > P"
   ]
  },
  {
   "cell_type": "code",
   "execution_count": 70,
   "id": "d755204a",
   "metadata": {},
   "outputs": [],
   "source": [
    "I_2 = np.where(condition[:, :, None], I_1, 0)"
   ]
  },
  {
   "cell_type": "markdown",
   "id": "baac8e39",
   "metadata": {},
   "source": [
    "## 1.2.3) Peak Identification"
   ]
  },
  {
   "cell_type": "code",
   "execution_count": 71,
   "id": "e82ac544",
   "metadata": {},
   "outputs": [],
   "source": [
    "from scipy.signal import find_peaks, peak_widths, peak_prominences"
   ]
  },
  {
   "cell_type": "code",
   "execution_count": 72,
   "id": "a1ae5935",
   "metadata": {},
   "outputs": [],
   "source": [
    "def check_prominent_peaks(kx, ky):\n",
    "    y = I_2[kx, ky,:]\n",
    "    \n",
    "    wj = np.zeros((I_2.shape[0], I_2.shape[1]))\n",
    "    \n",
    "    if np.max(y) < 1:\n",
    "        wj[kx, ky] = 0\n",
    "    # If Power Spectrum is 0 then wj is 0\n",
    "        \n",
    "    else:\n",
    "        peak_heights = y\n",
    "        \n",
    "        # Find the peak with the maximum height\n",
    "        max_peak_index = np.argmax(peak_heights)\n",
    "        max_peak_height = peak_heights[max_peak_index]\n",
    "\n",
    "        threshold = 6\n",
    "\n",
    "        # Check if the maximum peak 6 times larger than the others\n",
    "        # If it is we conclude it is a peak on its own and print\n",
    "        if max_peak_height > threshold * np.max(peak_heights[peak_heights != max_peak_height]):\n",
    "            wj[kx,ky] = w[max_peak_index]\n",
    "            \n",
    "        else:\n",
    "            pass\n",
    "            \n",
    "    return wj"
   ]
  },
  {
   "cell_type": "code",
   "execution_count": 73,
   "id": "3d8d1436",
   "metadata": {},
   "outputs": [],
   "source": [
    "def identification(kx, ky, ratio, prominence, distance):\n",
    "    \n",
    "    '''Scans for peaks and then sorts them by heights. \n",
    "    It keeps the peaks which are ratio times smaller than the next'''\n",
    "    \n",
    "    y = I_2[kx,ky,:]\n",
    "    wj = np.zeros((I_2.shape[0], I_2.shape[1]))\n",
    "    \n",
    "    if np.max(y) < 1:\n",
    "        wj[kx, ky] = 0\n",
    "    # If Power Spectrum is 0 then wj is 0\n",
    "    \n",
    "    else:\n",
    "        peaks, stats = find_peaks(y, prominence=prominence, distance=distance)\n",
    "        order = np.flip(np.argsort(stats[\"prominences\"]))\n",
    "\n",
    "        if len(peaks) == 1:\n",
    "            wj[kx,ky] = w[peaks[0]]\n",
    "\n",
    "        elif len(peaks) > 1:\n",
    "            for i, j in zip(order[:-1], order[1:]):\n",
    "                if stats[\"prominences\"][i] >= ratio * stats[\"prominences\"][j]:\n",
    "                    wj[kx,ky] = w[peaks[i]]\n",
    "                    \n",
    "#        return {\n",
    "#            \"values\": values,\n",
    "#            \"order\": order,\n",
    "#            \"peaks\": peaks,\n",
    "#            \"stats\": stats,\n",
    "#        }\n",
    "    \n",
    "    return wj "
   ]
  },
  {
   "cell_type": "code",
   "execution_count": 74,
   "id": "d97950b3",
   "metadata": {},
   "outputs": [],
   "source": [
    "def identification(kx, ky, ratio, prominence, distance):\n",
    "    \n",
    "    '''Scans for peaks and then sorts them by heights. \n",
    "    It keeps the peaks which are ratio times smaller than the next'''\n",
    "    \n",
    "    y = I_2[kx,ky,:]\n",
    "    wj = np.zeros((I_2.shape[0], I_2.shape[1]))\n",
    "    \n",
    "    if np.max(y) < 1:\n",
    "        wj[kx, ky] = 0\n",
    "    # If Power Spectrum is 0 then wj is 0\n",
    "    \n",
    "    else:\n",
    "        peaks, stats = find_peaks(y, prominence=prominence, distance=distance)\n",
    "\n",
    "        if len(peaks) == 1:\n",
    "            wj[kx,ky] = w[peaks[0]]\n",
    "\n",
    "        elif len(peaks) > 1:\n",
    "            try_sort = list(set(y[peaks]))\n",
    "            try_sort.sort()\n",
    "            ind = np.where(y[peaks]==np.max(y[peaks]))\n",
    "            thing = []\n",
    "\n",
    "            for k in range(len(peaks)):\n",
    "                if np.max(y[peaks]) >= ratio*try_sort[-2]:\n",
    "                    #thing.append(w[peaks[ind]])\n",
    "                    wj[kx,ky] = w[peaks[ind]]\n",
    "                    \n",
    "#        return {\n",
    "#            \"values\": values,\n",
    "#            \"order\": order,\n",
    "#            \"peaks\": peaks,\n",
    "#            \"stats\": stats,\n",
    "#        }\n",
    "    \n",
    "    return wj "
   ]
  },
  {
   "cell_type": "markdown",
   "id": "b8ece3a7",
   "metadata": {},
   "source": [
    "# Testing data"
   ]
  },
  {
   "cell_type": "code",
   "execution_count": 452,
   "id": "560feae2",
   "metadata": {},
   "outputs": [
    {
     "ename": "IndexError",
     "evalue": "index 36 is out of bounds for axis 0 with size 14",
     "output_type": "error",
     "traceback": [
      "\u001b[1;31m---------------------------------------------------------------------------\u001b[0m",
      "\u001b[1;31mIndexError\u001b[0m                                Traceback (most recent call last)",
      "\u001b[1;32m<ipython-input-452-edfce306bd96>\u001b[0m in \u001b[0;36m<module>\u001b[1;34m\u001b[0m\n\u001b[0;32m      1\u001b[0m \u001b[0ml\u001b[0m \u001b[1;33m=\u001b[0m \u001b[1;36m36\u001b[0m\u001b[1;33m\u001b[0m\u001b[1;33m\u001b[0m\u001b[0m\n\u001b[0;32m      2\u001b[0m \u001b[1;33m\u001b[0m\u001b[0m\n\u001b[1;32m----> 3\u001b[1;33m \u001b[0my\u001b[0m \u001b[1;33m=\u001b[0m \u001b[0mI_2\u001b[0m\u001b[1;33m[\u001b[0m\u001b[0mnonzero_indices\u001b[0m\u001b[1;33m[\u001b[0m\u001b[1;36m0\u001b[0m\u001b[1;33m]\u001b[0m\u001b[1;33m[\u001b[0m\u001b[0ml\u001b[0m\u001b[1;33m]\u001b[0m\u001b[1;33m,\u001b[0m \u001b[0mnonzero_indices\u001b[0m\u001b[1;33m[\u001b[0m\u001b[1;36m1\u001b[0m\u001b[1;33m]\u001b[0m\u001b[1;33m[\u001b[0m\u001b[0ml\u001b[0m\u001b[1;33m]\u001b[0m\u001b[1;33m,\u001b[0m\u001b[1;33m:\u001b[0m\u001b[1;33m]\u001b[0m\u001b[1;33m\u001b[0m\u001b[1;33m\u001b[0m\u001b[0m\n\u001b[0m\u001b[0;32m      4\u001b[0m \u001b[0mpeaks\u001b[0m\u001b[1;33m,\u001b[0m \u001b[0mstats\u001b[0m \u001b[1;33m=\u001b[0m \u001b[0mfind_peaks\u001b[0m\u001b[1;33m(\u001b[0m\u001b[0my\u001b[0m\u001b[1;33m,\u001b[0m \u001b[0mprominence\u001b[0m\u001b[1;33m=\u001b[0m\u001b[1;36m0.1\u001b[0m\u001b[1;33m*\u001b[0m\u001b[0mnp\u001b[0m\u001b[1;33m.\u001b[0m\u001b[0mmax\u001b[0m\u001b[1;33m(\u001b[0m\u001b[0my\u001b[0m\u001b[1;33m)\u001b[0m\u001b[1;33m,\u001b[0m \u001b[0mdistance\u001b[0m\u001b[1;33m=\u001b[0m\u001b[1;36m10\u001b[0m\u001b[1;33m)\u001b[0m\u001b[1;33m\u001b[0m\u001b[1;33m\u001b[0m\u001b[0m\n",
      "\u001b[1;31mIndexError\u001b[0m: index 36 is out of bounds for axis 0 with size 14"
     ]
    }
   ],
   "source": [
    "l = 36\n",
    "\n",
    "y = I_2[nonzero_indices[0][l], nonzero_indices[1][l],:]\n",
    "peaks, stats = find_peaks(y, prominence=0.1*np.max(y), distance=10)"
   ]
  },
  {
   "cell_type": "code",
   "execution_count": 453,
   "id": "86730b9d",
   "metadata": {},
   "outputs": [
    {
     "ename": "IndexError",
     "evalue": "index 36 is out of bounds for axis 0 with size 14",
     "output_type": "error",
     "traceback": [
      "\u001b[1;31m---------------------------------------------------------------------------\u001b[0m",
      "\u001b[1;31mIndexError\u001b[0m                                Traceback (most recent call last)",
      "\u001b[1;32m<ipython-input-453-8f09ec32fcf8>\u001b[0m in \u001b[0;36m<module>\u001b[1;34m\u001b[0m\n\u001b[1;32m----> 1\u001b[1;33m \u001b[0mplt\u001b[0m\u001b[1;33m.\u001b[0m\u001b[0mscatter\u001b[0m\u001b[1;33m(\u001b[0m\u001b[0mw\u001b[0m\u001b[1;33m,\u001b[0m \u001b[0mI_2\u001b[0m\u001b[1;33m[\u001b[0m\u001b[0mnonzero_indices\u001b[0m\u001b[1;33m[\u001b[0m\u001b[1;36m0\u001b[0m\u001b[1;33m]\u001b[0m\u001b[1;33m[\u001b[0m\u001b[0ml\u001b[0m\u001b[1;33m]\u001b[0m\u001b[1;33m,\u001b[0m \u001b[0mnonzero_indices\u001b[0m\u001b[1;33m[\u001b[0m\u001b[1;36m1\u001b[0m\u001b[1;33m]\u001b[0m\u001b[1;33m[\u001b[0m\u001b[0ml\u001b[0m\u001b[1;33m]\u001b[0m\u001b[1;33m,\u001b[0m \u001b[1;33m:\u001b[0m\u001b[1;33m]\u001b[0m\u001b[1;33m)\u001b[0m\u001b[1;33m\u001b[0m\u001b[1;33m\u001b[0m\u001b[0m\n\u001b[0m\u001b[0;32m      2\u001b[0m \u001b[1;33m\u001b[0m\u001b[0m\n\u001b[0;32m      3\u001b[0m \u001b[1;32mfor\u001b[0m \u001b[0mi\u001b[0m \u001b[1;32min\u001b[0m \u001b[0mw\u001b[0m\u001b[1;33m[\u001b[0m\u001b[0mpeaks\u001b[0m\u001b[1;33m]\u001b[0m\u001b[1;33m:\u001b[0m\u001b[1;33m\u001b[0m\u001b[1;33m\u001b[0m\u001b[0m\n\u001b[0;32m      4\u001b[0m     \u001b[0mplt\u001b[0m\u001b[1;33m.\u001b[0m\u001b[0maxvline\u001b[0m\u001b[1;33m(\u001b[0m\u001b[0mi\u001b[0m\u001b[1;33m,\u001b[0m \u001b[0mcolor\u001b[0m\u001b[1;33m=\u001b[0m\u001b[1;34m'red'\u001b[0m\u001b[1;33m)\u001b[0m\u001b[1;33m\u001b[0m\u001b[1;33m\u001b[0m\u001b[0m\n\u001b[0;32m      5\u001b[0m \u001b[1;33m\u001b[0m\u001b[0m\n",
      "\u001b[1;31mIndexError\u001b[0m: index 36 is out of bounds for axis 0 with size 14"
     ]
    }
   ],
   "source": [
    "plt.scatter(w, I_2[nonzero_indices[0][l], nonzero_indices[1][l], :])\n",
    "\n",
    "for i in w[peaks]:\n",
    "    plt.axvline(i, color='red')\n",
    "\n",
    "plt.xlabel(\"w\")\n",
    "plt.ylabel(\"Spectral Power\")\n",
    "plt.grid(True)\n",
    "plt.title(\"Should be counted\")"
   ]
  },
  {
   "cell_type": "code",
   "execution_count": 454,
   "id": "108ee22d",
   "metadata": {},
   "outputs": [],
   "source": [
    "order = np.flip(np.argsort(stats[\"prominences\"]))\n",
    "thing = []\n",
    "ratio = 3"
   ]
  },
  {
   "cell_type": "code",
   "execution_count": 455,
   "id": "a91d1895",
   "metadata": {},
   "outputs": [],
   "source": [
    "# When there is more than one peak \n",
    "thing = []\n",
    "for i, j in zip(order[:-1], order[1:]):\n",
    "    if stats[\"prominences\"][i] >= ratio * stats[\"prominences\"][j]:\n",
    "        thing.append(w[peaks[i]])"
   ]
  },
  {
   "cell_type": "code",
   "execution_count": 456,
   "id": "082dcd3f",
   "metadata": {},
   "outputs": [
    {
     "ename": "IndexError",
     "evalue": "index 274 is out of bounds for axis 0 with size 132",
     "output_type": "error",
     "traceback": [
      "\u001b[1;31m---------------------------------------------------------------------------\u001b[0m",
      "\u001b[1;31mIndexError\u001b[0m                                Traceback (most recent call last)",
      "\u001b[1;32m<ipython-input-456-daf800ab09a6>\u001b[0m in \u001b[0;36m<module>\u001b[1;34m\u001b[0m\n\u001b[1;32m----> 1\u001b[1;33m \u001b[0mtry_sort\u001b[0m \u001b[1;33m=\u001b[0m \u001b[0mlist\u001b[0m\u001b[1;33m(\u001b[0m\u001b[0mset\u001b[0m\u001b[1;33m(\u001b[0m\u001b[0my\u001b[0m\u001b[1;33m[\u001b[0m\u001b[0mpeaks\u001b[0m\u001b[1;33m]\u001b[0m\u001b[1;33m)\u001b[0m\u001b[1;33m)\u001b[0m\u001b[1;33m\u001b[0m\u001b[1;33m\u001b[0m\u001b[0m\n\u001b[0m\u001b[0;32m      2\u001b[0m \u001b[0mtry_sort\u001b[0m\u001b[1;33m.\u001b[0m\u001b[0msort\u001b[0m\u001b[1;33m(\u001b[0m\u001b[1;33m)\u001b[0m\u001b[1;33m\u001b[0m\u001b[1;33m\u001b[0m\u001b[0m\n\u001b[0;32m      3\u001b[0m \u001b[0mind\u001b[0m \u001b[1;33m=\u001b[0m \u001b[0mnp\u001b[0m\u001b[1;33m.\u001b[0m\u001b[0mwhere\u001b[0m\u001b[1;33m(\u001b[0m\u001b[0my\u001b[0m\u001b[1;33m[\u001b[0m\u001b[0mpeaks\u001b[0m\u001b[1;33m]\u001b[0m\u001b[1;33m==\u001b[0m\u001b[0mnp\u001b[0m\u001b[1;33m.\u001b[0m\u001b[0mmax\u001b[0m\u001b[1;33m(\u001b[0m\u001b[0my\u001b[0m\u001b[1;33m[\u001b[0m\u001b[0mpeaks\u001b[0m\u001b[1;33m]\u001b[0m\u001b[1;33m)\u001b[0m\u001b[1;33m)\u001b[0m\u001b[1;33m\u001b[0m\u001b[1;33m\u001b[0m\u001b[0m\n\u001b[0;32m      4\u001b[0m \u001b[0mthing\u001b[0m \u001b[1;33m=\u001b[0m \u001b[1;33m[\u001b[0m\u001b[1;33m]\u001b[0m\u001b[1;33m\u001b[0m\u001b[1;33m\u001b[0m\u001b[0m\n\u001b[0;32m      5\u001b[0m \u001b[1;33m\u001b[0m\u001b[0m\n",
      "\u001b[1;31mIndexError\u001b[0m: index 274 is out of bounds for axis 0 with size 132"
     ]
    }
   ],
   "source": [
    "try_sort = list(set(y[peaks]))\n",
    "try_sort.sort()\n",
    "ind = np.where(y[peaks]==np.max(y[peaks]))\n",
    "thing = []\n",
    "\n",
    "for k in range(len(peaks)):\n",
    "    if np.max(y[peaks]) >= ratio*try_sort[-2]:\n",
    "        thing.append(w[peaks[ind]])"
   ]
  },
  {
   "cell_type": "code",
   "execution_count": 457,
   "id": "f5a08d7c",
   "metadata": {},
   "outputs": [
    {
     "ename": "IndexError",
     "evalue": "index 36 is out of bounds for axis 0 with size 14",
     "output_type": "error",
     "traceback": [
      "\u001b[1;31m---------------------------------------------------------------------------\u001b[0m",
      "\u001b[1;31mIndexError\u001b[0m                                Traceback (most recent call last)",
      "\u001b[1;32m<ipython-input-457-c4ec3a291e4d>\u001b[0m in \u001b[0;36m<module>\u001b[1;34m\u001b[0m\n\u001b[1;32m----> 1\u001b[1;33m \u001b[0mplt\u001b[0m\u001b[1;33m.\u001b[0m\u001b[0mscatter\u001b[0m\u001b[1;33m(\u001b[0m\u001b[0mw\u001b[0m\u001b[1;33m,\u001b[0m \u001b[0mI_2\u001b[0m\u001b[1;33m[\u001b[0m\u001b[0mnonzero_indices\u001b[0m\u001b[1;33m[\u001b[0m\u001b[1;36m0\u001b[0m\u001b[1;33m]\u001b[0m\u001b[1;33m[\u001b[0m\u001b[0ml\u001b[0m\u001b[1;33m]\u001b[0m\u001b[1;33m,\u001b[0m \u001b[0mnonzero_indices\u001b[0m\u001b[1;33m[\u001b[0m\u001b[1;36m1\u001b[0m\u001b[1;33m]\u001b[0m\u001b[1;33m[\u001b[0m\u001b[0ml\u001b[0m\u001b[1;33m]\u001b[0m\u001b[1;33m,\u001b[0m\u001b[1;33m:\u001b[0m\u001b[1;33m]\u001b[0m\u001b[1;33m)\u001b[0m\u001b[1;33m\u001b[0m\u001b[1;33m\u001b[0m\u001b[0m\n\u001b[0m\u001b[0;32m      2\u001b[0m \u001b[1;33m\u001b[0m\u001b[0m\n\u001b[0;32m      3\u001b[0m \u001b[1;32mfor\u001b[0m \u001b[0mi\u001b[0m \u001b[1;32min\u001b[0m \u001b[0mthing\u001b[0m\u001b[1;33m:\u001b[0m\u001b[1;33m\u001b[0m\u001b[1;33m\u001b[0m\u001b[0m\n\u001b[0;32m      4\u001b[0m     \u001b[0mplt\u001b[0m\u001b[1;33m.\u001b[0m\u001b[0maxvline\u001b[0m\u001b[1;33m(\u001b[0m\u001b[0mi\u001b[0m\u001b[1;33m,\u001b[0m \u001b[0mcolor\u001b[0m\u001b[1;33m=\u001b[0m\u001b[1;34m'green'\u001b[0m\u001b[1;33m)\u001b[0m\u001b[1;33m\u001b[0m\u001b[1;33m\u001b[0m\u001b[0m\n\u001b[0;32m      5\u001b[0m \u001b[1;33m\u001b[0m\u001b[0m\n",
      "\u001b[1;31mIndexError\u001b[0m: index 36 is out of bounds for axis 0 with size 14"
     ]
    }
   ],
   "source": [
    "plt.scatter(w, I_2[nonzero_indices[0][l], nonzero_indices[1][l],:])\n",
    "\n",
    "for i in thing:\n",
    "    plt.axvline(i, color='green')\n",
    "\n",
    "plt.xlabel(\"w\")\n",
    "plt.ylabel(\"Spectral Power\")\n",
    "plt.grid(True)\n",
    "plt.title(\"Gets Counted\")"
   ]
  },
  {
   "cell_type": "code",
   "execution_count": null,
   "id": "6936dcad",
   "metadata": {},
   "outputs": [],
   "source": []
  },
  {
   "cell_type": "code",
   "execution_count": null,
   "id": "08eff452",
   "metadata": {},
   "outputs": [],
   "source": []
  },
  {
   "cell_type": "code",
   "execution_count": null,
   "id": "14cbbfe0",
   "metadata": {},
   "outputs": [],
   "source": []
  },
  {
   "cell_type": "code",
   "execution_count": null,
   "id": "f58631a2",
   "metadata": {},
   "outputs": [],
   "source": []
  },
  {
   "cell_type": "code",
   "execution_count": null,
   "id": "52c0724c",
   "metadata": {},
   "outputs": [],
   "source": []
  },
  {
   "cell_type": "code",
   "execution_count": 127,
   "id": "d9f73038",
   "metadata": {},
   "outputs": [],
   "source": [
    "wj_array = []\n",
    "\n",
    "for kx in range(I_2.shape[0]):\n",
    "    for ky in range(I_2.shape[1]):\n",
    "        wj_array.append(identification(kx, ky, ratio=3, prominence=0.1*np.max(y), distance=10))"
   ]
  },
  {
   "cell_type": "code",
   "execution_count": 128,
   "id": "3f779472",
   "metadata": {},
   "outputs": [],
   "source": [
    "w0_2D = np.sum(wj_array, axis=0)\n",
    "# gives the 2d array w0(kx,ky)"
   ]
  },
  {
   "cell_type": "code",
   "execution_count": 129,
   "id": "ab3018b3",
   "metadata": {},
   "outputs": [],
   "source": [
    "w0 = w0_2D[w0_2D != 0]"
   ]
  },
  {
   "cell_type": "code",
   "execution_count": 130,
   "id": "000da2fe",
   "metadata": {},
   "outputs": [],
   "source": [
    "nonzero_indices = np.nonzero(w0_2D)"
   ]
  },
  {
   "cell_type": "code",
   "execution_count": 131,
   "id": "9cde5ab6",
   "metadata": {},
   "outputs": [
    {
     "data": {
      "text/plain": [
       "(array([51, 51, 53, 54, 54, 54, 54, 55, 55, 56, 56, 56, 57, 58, 58, 59, 59,\n",
       "        59, 60, 60, 60, 61, 61, 61, 62, 62, 63, 63, 63, 63, 63, 63, 64, 64,\n",
       "        64, 65, 65, 66, 66, 66, 66, 67, 67, 67, 67, 67, 68, 68, 68, 68, 68,\n",
       "        68, 68, 68, 68, 69, 69, 69, 69, 69, 69, 70, 70, 70, 70, 70, 70, 71,\n",
       "        71, 71, 72, 72, 72, 72, 73, 75, 76, 77], dtype=int64),\n",
       " array([56, 57, 57, 54, 55, 57, 58, 54, 56, 53, 54, 55, 51, 50, 53, 53, 54,\n",
       "        78, 49, 51, 53, 50, 52, 53, 73, 80, 49, 53, 69, 73, 74, 76, 70, 72,\n",
       "        73, 72, 73, 54, 67, 72, 74, 67, 68, 69, 73, 74, 49, 53, 54, 68, 69,\n",
       "        70, 72, 73, 80, 48, 54, 67, 68, 69, 74, 54, 67, 68, 73, 75, 76, 49,\n",
       "        67, 74, 50, 65, 67, 73, 49, 80, 76, 75], dtype=int64))"
      ]
     },
     "execution_count": 131,
     "metadata": {},
     "output_type": "execute_result"
    }
   ],
   "source": [
    "nonzero_indices"
   ]
  },
  {
   "cell_type": "code",
   "execution_count": 132,
   "id": "a9980f77",
   "metadata": {},
   "outputs": [],
   "source": [
    "kx_indices = nonzero_indices[0]\n",
    "ky_indices = nonzero_indices[1]"
   ]
  },
  {
   "cell_type": "code",
   "execution_count": 133,
   "id": "269bf0d7",
   "metadata": {},
   "outputs": [
    {
     "data": {
      "text/plain": [
       "array([51, 51, 53, 54, 54, 54, 54, 55, 55, 56, 56, 56, 57, 58, 58, 59, 59,\n",
       "       59, 60, 60, 60, 61, 61, 61, 62, 62, 63, 63, 63, 63, 63, 63, 64, 64,\n",
       "       64, 65, 65, 66, 66, 66, 66, 67, 67, 67, 67, 67, 68, 68, 68, 68, 68,\n",
       "       68, 68, 68, 68, 69, 69, 69, 69, 69, 69, 70, 70, 70, 70, 70, 70, 71,\n",
       "       71, 71, 72, 72, 72, 72, 73, 75, 76, 77], dtype=int64)"
      ]
     },
     "execution_count": 133,
     "metadata": {},
     "output_type": "execute_result"
    }
   ],
   "source": [
    "kx_indices"
   ]
  },
  {
   "cell_type": "code",
   "execution_count": 134,
   "id": "e9f5fa85",
   "metadata": {},
   "outputs": [
    {
     "data": {
      "text/plain": [
       "(78,)"
      ]
     },
     "execution_count": 134,
     "metadata": {},
     "output_type": "execute_result"
    }
   ],
   "source": [
    "ky_indices.shape"
   ]
  },
  {
   "cell_type": "code",
   "execution_count": 135,
   "id": "6219c83e",
   "metadata": {},
   "outputs": [
    {
     "data": {
      "text/plain": [
       "(78,)"
      ]
     },
     "execution_count": 135,
     "metadata": {},
     "output_type": "execute_result"
    }
   ],
   "source": [
    "ky_indices.shape"
   ]
  },
  {
   "cell_type": "code",
   "execution_count": 136,
   "id": "402513e1",
   "metadata": {},
   "outputs": [],
   "source": [
    "kx_trip = Kx[kx_indices]\n",
    "ky_trip = Ky[ky_indices]"
   ]
  },
  {
   "cell_type": "code",
   "execution_count": 137,
   "id": "fdfb3e28",
   "metadata": {},
   "outputs": [
    {
     "data": {
      "text/plain": [
       "array([-0.12693304, -0.11423973, -0.11423973, -0.15231964, -0.13962634,\n",
       "       -0.11423973, -0.10154643, -0.15231964, -0.12693304, -0.16501295,\n",
       "       -0.15231964, -0.13962634, -0.19039955, -0.20309286, -0.16501295,\n",
       "       -0.16501295, -0.15231964,  0.15231964, -0.21578616, -0.19039955,\n",
       "       -0.16501295, -0.20309286, -0.17770625, -0.16501295,  0.08885313,\n",
       "        0.17770625, -0.21578616, -0.16501295,  0.03807991,  0.08885313,\n",
       "        0.10154643,  0.12693304,  0.05077321,  0.07615982,  0.08885313,\n",
       "        0.07615982,  0.08885313, -0.15231964,  0.0126933 ,  0.07615982,\n",
       "        0.10154643,  0.0126933 ,  0.02538661,  0.03807991,  0.08885313,\n",
       "        0.10154643, -0.21578616, -0.16501295, -0.15231964,  0.02538661,\n",
       "        0.03807991,  0.05077321,  0.07615982,  0.08885313,  0.17770625,\n",
       "       -0.22847947, -0.15231964,  0.0126933 ,  0.02538661,  0.03807991,\n",
       "        0.10154643, -0.15231964,  0.0126933 ,  0.02538661,  0.08885313,\n",
       "        0.11423973,  0.12693304, -0.21578616,  0.0126933 ,  0.10154643,\n",
       "       -0.20309286, -0.0126933 ,  0.0126933 ,  0.08885313, -0.21578616,\n",
       "        0.17770625,  0.12693304,  0.11423973])"
      ]
     },
     "execution_count": 137,
     "metadata": {},
     "output_type": "execute_result"
    }
   ],
   "source": [
    "ky_trip"
   ]
  },
  {
   "cell_type": "code",
   "execution_count": 138,
   "id": "c4f95189",
   "metadata": {
    "scrolled": true
   },
   "outputs": [
    {
     "data": {
      "text/plain": [
       "(78,)"
      ]
     },
     "execution_count": 138,
     "metadata": {},
     "output_type": "execute_result"
    }
   ],
   "source": [
    "ky_trip.shape"
   ]
  },
  {
   "cell_type": "code",
   "execution_count": 139,
   "id": "62735fde",
   "metadata": {},
   "outputs": [
    {
     "data": {
      "text/plain": [
       "(78,)"
      ]
     },
     "execution_count": 139,
     "metadata": {},
     "output_type": "execute_result"
    }
   ],
   "source": [
    "ky_trip.shape"
   ]
  },
  {
   "cell_type": "code",
   "execution_count": 88,
   "id": "b123158c",
   "metadata": {},
   "outputs": [],
   "source": [
    "import matplotlib.patches as mpatches\n",
    "import matplotlib.lines as mlines"
   ]
  },
  {
   "cell_type": "code",
   "execution_count": 89,
   "id": "72f93160",
   "metadata": {},
   "outputs": [
    {
     "data": {
      "image/png": "[encoded data removed]",
      "text/plain": [
       "<Figure size 720x504 with 1 Axes>"
      ]
     },
     "metadata": {
      "needs_background": "light"
     },
     "output_type": "display_data"
    }
   ],
   "source": [
    "# Creating figure\n",
    "fig = plt.figure(figsize = (10, 7))\n",
    "ax = plt.axes(projection =\"3d\")\n",
    " \n",
    "# Creating plot\n",
    "ax.scatter3D(-kx_trip, -ky_trip, w0, color = \"red\", s = 5)\n",
    "plt.title(\"Spectrum\")\n",
    "\n",
    "ax.set_xlabel('x')\n",
    "ax.set_ylabel('y')\n",
    "ax.set_zlabel('$\\omega$')\n",
    "\n",
    "# Create legend manually with a dot for 'Triplets'\n",
    "legend_elements = [\n",
    "    mlines.Line2D([0], [0], marker='o', color='w', markerfacecolor='red', markersize=10, label='Triplets'),\n",
    "    mlines.Line2D([0], [0], color='blue', label='Dispersion relation')\n",
    "]\n",
    "\n",
    "# Create legend\n",
    "ax.legend(handles=legend_elements)\n",
    " \n",
    "# show plot\n",
    "plt.show()"
   ]
  },
  {
   "cell_type": "markdown",
   "id": "0f159343",
   "metadata": {},
   "source": [
    "# 1.2.?) Try filter out bad triplets"
   ]
  },
  {
   "cell_type": "code",
   "execution_count": 148,
   "id": "c598f4c3",
   "metadata": {},
   "outputs": [
    {
     "data": {
      "text/plain": [
       "(132, 132)"
      ]
     },
     "execution_count": 148,
     "metadata": {},
     "output_type": "execute_result"
    }
   ],
   "source": [
    "w0_2D.shape"
   ]
  },
  {
   "cell_type": "code",
   "execution_count": 149,
   "id": "9b5db9fa",
   "metadata": {},
   "outputs": [],
   "source": [
    "# Create a mask based on Ky values\n",
    "mask = -Kx < -0.07"
   ]
  },
  {
   "cell_type": "code",
   "execution_count": 150,
   "id": "816d4cc0",
   "metadata": {},
   "outputs": [],
   "source": [
    "# Apply the mask to the 2D array\n",
    "w0_2D_filtered = np.where(mask[np.newaxis, :], w0_2D, 0)"
   ]
  },
  {
   "cell_type": "code",
   "execution_count": 151,
   "id": "be525d10",
   "metadata": {},
   "outputs": [
    {
     "data": {
      "text/plain": [
       "1.2601658692131736"
      ]
     },
     "execution_count": 151,
     "metadata": {},
     "output_type": "execute_result"
    }
   ],
   "source": [
    "np.max(w0_2D)"
   ]
  },
  {
   "cell_type": "code",
   "execution_count": 152,
   "id": "1f775026",
   "metadata": {},
   "outputs": [],
   "source": [
    "yoke1, yoke2 = np.meshgrid(-Kx, -Ky, indexing='ij')"
   ]
  },
  {
   "cell_type": "code",
   "execution_count": 154,
   "id": "b296ecd6",
   "metadata": {},
   "outputs": [
    {
     "data": {
      "text/plain": [
       "<mpl_toolkits.mplot3d.art3d.Path3DCollection at 0x1c614522460>"
      ]
     },
     "execution_count": 154,
     "metadata": {},
     "output_type": "execute_result"
    },
    {
     "data": {
      "image/png": "[encoded data removed]",
      "text/plain": [
       "<Figure size 720x504 with 1 Axes>"
      ]
     },
     "metadata": {
      "needs_background": "light"
     },
     "output_type": "display_data"
    }
   ],
   "source": [
    "# Flatten the 2D arrays\n",
    "x_flat = yoke1.flatten()\n",
    "y_flat = yoke2.flatten()\n",
    "z_flat = w0_2D_filtered.flatten()\n",
    "\n",
    "# Filter out points where z-data is 0\n",
    "non_zero_indices = np.where(z_flat != 0)\n",
    "x_filtered = x_flat[non_zero_indices]\n",
    "y_filtered = y_flat[non_zero_indices]\n",
    "z_filtered = z_flat[non_zero_indices]\n",
    "\n",
    "# Create a 3D plot\n",
    "fig = plt.figure(figsize = (10, 7))\n",
    "ax = fig.add_subplot(111, projection='3d')\n",
    "\n",
    "ax.set_xlim([-0.2, 0.2])  # Adjust the limits as needed for your data\n",
    "ax.set_ylim([-0.2, 0.2])\n",
    "ax.set_zlim([0,1.2])\n",
    "\n",
    "ax.set_xlabel('x')\n",
    "ax.set_ylabel('y')\n",
    "ax.set_zlabel('$\\omega$')\n",
    "\n",
    "# Scatter plot the points\n",
    "ax.scatter(x_filtered, y_filtered, z_filtered, c='r', marker='o', s = 5)\n",
    "\n",
    "#ax.scatter3D(-kx_trip, -ky_trip, w0, color = \"green\", s = 5)"
   ]
  },
  {
   "cell_type": "code",
   "execution_count": 155,
   "id": "bd6da64b",
   "metadata": {},
   "outputs": [],
   "source": [
    "w0_2D = w0_2D_filtered"
   ]
  },
  {
   "cell_type": "markdown",
   "id": "ed1b22c9",
   "metadata": {},
   "source": [
    "## 1.2.4) Convert to polars"
   ]
  },
  {
   "cell_type": "code",
   "execution_count": 140,
   "id": "331f7fa0",
   "metadata": {},
   "outputs": [],
   "source": [
    "from scipy.stats import t"
   ]
  },
  {
   "cell_type": "code",
   "execution_count": 141,
   "id": "ce9af1e5",
   "metadata": {},
   "outputs": [],
   "source": [
    "# kx_2D, ky_2D= np.meshgrid(kx_trip, ky_trip, indexing='ij')\n",
    "kx_2D, ky_2D= np.meshgrid(Kx, Ky, indexing='ij')"
   ]
  },
  {
   "cell_type": "code",
   "execution_count": 142,
   "id": "fdfa48c6",
   "metadata": {},
   "outputs": [],
   "source": [
    "K_2D = np.sqrt(kx_2D**2 + ky_2D**2)\n",
    "theta_2D = np.arctan2(ky_2D, kx_2D)"
   ]
  },
  {
   "cell_type": "markdown",
   "id": "a877d95b",
   "metadata": {},
   "source": [
    "## 1.2.5) Find Effective Current"
   ]
  },
  {
   "cell_type": "code",
   "execution_count": 143,
   "id": "eab0cabe",
   "metadata": {},
   "outputs": [],
   "source": [
    "def sinusoidinal(x, a, b):\n",
    "    return a*np.cos(x - b) "
   ]
  },
  {
   "cell_type": "code",
   "execution_count": 144,
   "id": "7d2d85fe",
   "metadata": {},
   "outputs": [],
   "source": [
    "def grubbs_test(x, y):\n",
    "    \"\"\"\n",
    "    Grubb's test removes outlier in y axis and also removes the corresponding x value\n",
    "    \"\"\"\n",
    "\n",
    "    # Gets mean and standard deviation of data\n",
    "    mean_data = np.mean(y)\n",
    "    std_data = np.std(y)\n",
    "\n",
    "    # Calculate Grubbs test statistic\n",
    "    z_scores = np.abs((y - mean_data) / std_data)\n",
    "    max_z = np.max(z_scores)\n",
    "\n",
    "    # Calculate critical value based on the t-distribution\n",
    "    n = len(y)\n",
    "    critical_value = t.ppf(0.975, n - 2) / np.sqrt(n)\n",
    "\n",
    "    # Identify and removes any outlier\n",
    "    outlier_index = np.argmax(z_scores)\n",
    "    if max_z > critical_value:\n",
    "        #print(f\"Outlier detected at index {outlier_index}, value: {y[outlier_index]}\")\n",
    "        y = np.delete(y, outlier_index)\n",
    "        x = np.delete(x, outlier_index)\n",
    "\n",
    "        \n",
    "    return x, y "
   ]
  },
  {
   "cell_type": "code",
   "execution_count": 145,
   "id": "9c4af7fb",
   "metadata": {},
   "outputs": [
    {
     "name": "stderr",
     "output_type": "stream",
     "text": [
      "<ipython-input-144-f85b713f9694>:11: RuntimeWarning: invalid value encountered in divide\n",
      "  z_scores = np.abs((y - mean_data) / std_data)\n"
     ]
    }
   ],
   "source": [
    "cut_k_array = np.arange(0.001, 0.35, 0.001)\n",
    "\n",
    "U_array = []\n",
    "Φ_array = []\n",
    "\n",
    "for i in range(len(cut_k_array)):\n",
    "    k_slice = cut_k_array[i]\n",
    "\n",
    "    #reso = 0.02\n",
    "    # dk - either side of cut cylinder\n",
    "    #ind = np.where(((k_slice - reso) < K_2D ) & ( K_2D < (k_slice + reso)))\n",
    "    \n",
    "    ind = np.where(np.round(K_2D, 2) == k_slice)\n",
    "    \n",
    "    # Slice at wavenumber cut_k - once k is within 0.01 it is counted as a slice\n",
    "    w0_is_k = w0_2D[ind[0], ind[1]]\n",
    "    theta_is_k = theta_2D[ind[0], ind[1]]\n",
    "    \n",
    "    # w and theta values along k_slice\n",
    "    inds_where_w0_nonzero = np.where(w0_is_k != 0)\n",
    "    \n",
    "    if len(inds_where_w0_nonzero[0]) > 1:\n",
    "        # How many nonzero w0 theres needs to be to be counted (increased numbers, increases accuracy)\n",
    "        nonzero_theta_at_k = theta_is_k[inds_where_w0_nonzero]\n",
    "        nonzero_w0_at_k = w0_is_k[inds_where_w0_nonzero]\n",
    "        \n",
    "        x_theta = nonzero_theta_at_k\n",
    "        y_theta = (nonzero_w0_at_k - np.sqrt(9.81 * k_slice)) / k_slice\n",
    "        \n",
    "        # Preform Grubbs test to remove outliers\n",
    "        x_theta, y_theta = grubbs_test(x_theta, y_theta)\n",
    "        \n",
    "        # Fitting Cos onto points\n",
    "        pars0 = (max(y_theta), 1)  # initial guess\n",
    "        popt, pcov = curve_fit(sinusoidinal, x_theta, y_theta, absolute_sigma=True, p0=pars0)\n",
    "        \n",
    "        # U value\n",
    "        U_opt = popt[0]\n",
    "        U_opt_err = np.sqrt(pcov[0, 0])\n",
    "        U_array.append(np.abs(U_opt))\n",
    "        \n",
    "        # Φ\n",
    "        Φ_opt = popt[1]\n",
    "        Φ_opt_err = np.sqrt(pcov[1, 1])\n",
    "        \n",
    "        if U_opt > 0:\n",
    "            Φ_opt = np.pi - Φ_opt\n",
    "        # Condition due to definition of direction of current \n",
    "        \n",
    "        Φ_array.append(Φ_opt)\n",
    "    else:\n",
    "        # If no values in inds_where_w0_nonzero, append None or a placeholder value as needed\n",
    "        U_array.append(None)\n",
    "        Φ_array.append(None)"
   ]
  },
  {
   "cell_type": "code",
   "execution_count": 146,
   "id": "f796880a",
   "metadata": {},
   "outputs": [
    {
     "data": {
      "text/plain": [
       "<matplotlib.legend.Legend at 0x1c6141a3220>"
      ]
     },
     "execution_count": 146,
     "metadata": {},
     "output_type": "execute_result"
    },
    {
     "data": {
      "image/png": "[encoded data removed]",
      "text/plain": [
       "<Figure size 432x288 with 1 Axes>"
      ]
     },
     "metadata": {
      "needs_background": "light"
     },
     "output_type": "display_data"
    }
   ],
   "source": [
    "plt.scatter(cut_k_array, U_array, color = 'red', label = 'PCS Points')\n",
    "#plt.plot(k, Uk[:,0], color = 'black', linestyle = '--',  label='Correct U')\n",
    "\n",
    "plt.xlabel(\"k\")\n",
    "plt.ylabel(\"U\")\n",
    "plt.title(\"Depend of Current on Wavenumber\")\n",
    "plt.grid(True)\n",
    "plt.legend()\n",
    "#plt.xlim(0.15, 0.2)\n",
    "#plt.ylim(0,3)"
   ]
  },
  {
   "cell_type": "code",
   "execution_count": 147,
   "id": "f58ac448",
   "metadata": {},
   "outputs": [
    {
     "data": {
      "text/plain": [
       "(-3.141592653589793, 3.141592653589793)"
      ]
     },
     "execution_count": 147,
     "metadata": {},
     "output_type": "execute_result"
    },
    {
     "data": {
      "image/png": "[encoded data removed]",
      "text/plain": [
       "<Figure size 432x288 with 1 Axes>"
      ]
     },
     "metadata": {
      "needs_background": "light"
     },
     "output_type": "display_data"
    }
   ],
   "source": [
    "plt.scatter(cut_k_array,Φ_array, color = 'red', label = 'PCS Points')\n",
    "#plt.plot(k, Uk[:,0], color = 'black', linestyle = '--',  label='Correct U')\n",
    "\n",
    "plt.xlabel(\"k\")\n",
    "plt.ylabel(\"U\")\n",
    "plt.title(\"Depend of Current on Wavenumber\")\n",
    "plt.grid(True)\n",
    "plt.legend()\n",
    "plt.ylim(-np.pi,np.pi)"
   ]
  },
  {
   "cell_type": "markdown",
   "id": "f5fd8b95",
   "metadata": {},
   "source": [
    "## 1.2.6) Plot disp surface"
   ]
  },
  {
   "cell_type": "code",
   "execution_count": 106,
   "id": "43c852d2",
   "metadata": {},
   "outputs": [],
   "source": [
    "def plot_disp_shell(axes, h, z, U, psi, label='', plot_type='surf', linestyles='line', put_clabel=True):\n",
    "    g = 9.81\n",
    "    alpha = 0.5 # value that defines opacity in plot\n",
    "    dk = 0.005\n",
    "    k = np.arange(0.01, 0.35, dk)\n",
    "    dtheta=0.05\n",
    "    theta=np.arange(0, 2*np.pi+dtheta, dtheta)\n",
    "    kk, th = np.meshgrid(k, theta, indexing='ij')\n",
    "    U_eff = 2*kk*np.sum(U*np.exp(np.outer(2*kk,z)), axis=1).reshape(kk.shape)*np.abs(z[1]-z[0])\n",
    "    ww = kk*U_eff*np.cos(theta-psi) + np.sqrt(kk*g*np.tanh(kk*h))\n",
    "    kx = kk*np.cos(th)\n",
    "    ky = kk*np.sin(th)\n",
    "    if plot_type=='surf':\n",
    "        axes.plot_surface(kx, ky, ww, alpha=alpha, label=label)\n",
    "        axes.set_xlabel(r'$k_x~[\\mathrm{rad~m}^{-1}]$')\n",
    "        axes.set_ylabel(r'$k_y~[\\mathrm{rad~m}^{-1}]$')\n",
    "        axes.set_zlabel(r'$\\omega~[\\mathrm{rad~s}^{-1}]$')\n",
    "    elif plot_type=='contour':\n",
    "        levels = [0.6, 0.8, 1.0, 1.2, 1.4, 1.6, 1.8]\n",
    "        c = plt.contour(kx, ky, ww, levels=levels, linestyles=linestyles)#, label=label)\n",
    "        if put_clabel:\n",
    "            plt.clabel(c)\n",
    "        plt.xlabel(r'$k_x~[\\mathrm{rad~m}^{-1}]$') \n",
    "        plt.ylabel(r'$k_y~[\\mathrm{rad~m}^{-1}]$')\n",
    "        plt.axis('equal')\n",
    "        \n",
    "    return kx, ky, ww"
   ]
  },
  {
   "cell_type": "code",
   "execution_count": 107,
   "id": "d5c912a8",
   "metadata": {},
   "outputs": [
    {
     "data": {
      "text/plain": [
       "(68,)"
      ]
     },
     "execution_count": 107,
     "metadata": {},
     "output_type": "execute_result"
    }
   ],
   "source": [
    "dk = 0.005\n",
    "k = np.arange(0.01, 0.35, dk)\n",
    "k.shape"
   ]
  },
  {
   "cell_type": "code",
   "execution_count": 108,
   "id": "61dd8578",
   "metadata": {},
   "outputs": [
    {
     "ename": "NameError",
     "evalue": "name 'z' is not defined",
     "output_type": "error",
     "traceback": [
      "\u001b[1;31m---------------------------------------------------------------------------\u001b[0m",
      "\u001b[1;31mNameError\u001b[0m                                 Traceback (most recent call last)",
      "\u001b[1;32m<ipython-input-108-dfe50837e4ae>\u001b[0m in \u001b[0;36m<module>\u001b[1;34m\u001b[0m\n\u001b[1;32m----> 1\u001b[1;33m \u001b[0mz\u001b[0m\u001b[1;33m.\u001b[0m\u001b[0mshape\u001b[0m\u001b[1;33m\u001b[0m\u001b[1;33m\u001b[0m\u001b[0m\n\u001b[0m",
      "\u001b[1;31mNameError\u001b[0m: name 'z' is not defined"
     ]
    }
   ],
   "source": [
    "z.shape"
   ]
  },
  {
   "cell_type": "code",
   "execution_count": 109,
   "id": "e26c619f",
   "metadata": {},
   "outputs": [
    {
     "data": {
      "text/plain": [
       "26"
      ]
     },
     "execution_count": 109,
     "metadata": {},
     "output_type": "execute_result"
    }
   ],
   "source": [
    "len(U_array[:26])"
   ]
  },
  {
   "cell_type": "code",
   "execution_count": 110,
   "id": "d44f7bd5",
   "metadata": {},
   "outputs": [
    {
     "data": {
      "text/plain": [
       "array([-20. , -19.2, -18.4, -17.6, -16.8, -16. , -15.2, -14.4, -13.6,\n",
       "       -12.8, -12. , -11.2, -10.4,  -9.6,  -8.8,  -8. ,  -7.2,  -6.4,\n",
       "        -5.6,  -4.8,  -4. ,  -3.2,  -2.4,  -1.6,  -0.8,   0. ])"
      ]
     },
     "execution_count": 110,
     "metadata": {},
     "output_type": "execute_result"
    }
   ],
   "source": [
    "z_arra = np.linspace(-20, 0, 26)\n",
    "z_arra"
   ]
  },
  {
   "cell_type": "code",
   "execution_count": 111,
   "id": "2a1add58",
   "metadata": {},
   "outputs": [
    {
     "ename": "ValueError",
     "evalue": "operands could not be broadcast together with shapes (349,) (8636,26) ",
     "output_type": "error",
     "traceback": [
      "\u001b[1;31m---------------------------------------------------------------------------\u001b[0m",
      "\u001b[1;31mValueError\u001b[0m                                Traceback (most recent call last)",
      "\u001b[1;32m<ipython-input-111-e31550597f0c>\u001b[0m in \u001b[0;36m<module>\u001b[1;34m\u001b[0m\n\u001b[0;32m      1\u001b[0m \u001b[0mfig\u001b[0m \u001b[1;33m=\u001b[0m \u001b[0mplt\u001b[0m\u001b[1;33m.\u001b[0m\u001b[0mfigure\u001b[0m\u001b[1;33m(\u001b[0m\u001b[0mfigsize\u001b[0m\u001b[1;33m=\u001b[0m\u001b[1;33m(\u001b[0m\u001b[1;36m7\u001b[0m\u001b[1;33m,\u001b[0m\u001b[1;36m7\u001b[0m\u001b[1;33m)\u001b[0m\u001b[1;33m)\u001b[0m\u001b[1;33m\u001b[0m\u001b[1;33m\u001b[0m\u001b[0m\n\u001b[0;32m      2\u001b[0m \u001b[0maxes\u001b[0m \u001b[1;33m=\u001b[0m \u001b[0mfig\u001b[0m\u001b[1;33m.\u001b[0m\u001b[0madd_subplot\u001b[0m\u001b[1;33m(\u001b[0m\u001b[1;36m111\u001b[0m\u001b[1;33m,\u001b[0m \u001b[0mprojection\u001b[0m\u001b[1;33m=\u001b[0m\u001b[1;34m'3d'\u001b[0m\u001b[1;33m)\u001b[0m\u001b[1;33m\u001b[0m\u001b[1;33m\u001b[0m\u001b[0m\n\u001b[1;32m----> 3\u001b[1;33m \u001b[0mdisp_kx\u001b[0m\u001b[1;33m,\u001b[0m \u001b[0mdisp_ky\u001b[0m\u001b[1;33m,\u001b[0m \u001b[0mdisp_ww\u001b[0m \u001b[1;33m=\u001b[0m \u001b[0mplot_disp_shell\u001b[0m\u001b[1;33m(\u001b[0m\u001b[0maxes\u001b[0m\u001b[1;33m,\u001b[0m \u001b[0mh\u001b[0m\u001b[1;33m=\u001b[0m\u001b[1;36m1000\u001b[0m\u001b[1;33m,\u001b[0m \u001b[0mz\u001b[0m \u001b[1;33m=\u001b[0m \u001b[0mz_arra\u001b[0m\u001b[1;33m,\u001b[0m \u001b[0mU\u001b[0m \u001b[1;33m=\u001b[0m \u001b[0mU_array\u001b[0m\u001b[1;33m,\u001b[0m \u001b[0mpsi\u001b[0m \u001b[1;33m=\u001b[0m \u001b[1;36m0\u001b[0m\u001b[1;33m)\u001b[0m\u001b[1;33m\u001b[0m\u001b[1;33m\u001b[0m\u001b[0m\n\u001b[0m",
      "\u001b[1;32m<ipython-input-106-50e56eba2dee>\u001b[0m in \u001b[0;36mplot_disp_shell\u001b[1;34m(axes, h, z, U, psi, label, plot_type, linestyles, put_clabel)\u001b[0m\n\u001b[0;32m      7\u001b[0m     \u001b[0mtheta\u001b[0m\u001b[1;33m=\u001b[0m\u001b[0mnp\u001b[0m\u001b[1;33m.\u001b[0m\u001b[0marange\u001b[0m\u001b[1;33m(\u001b[0m\u001b[1;36m0\u001b[0m\u001b[1;33m,\u001b[0m \u001b[1;36m2\u001b[0m\u001b[1;33m*\u001b[0m\u001b[0mnp\u001b[0m\u001b[1;33m.\u001b[0m\u001b[0mpi\u001b[0m\u001b[1;33m+\u001b[0m\u001b[0mdtheta\u001b[0m\u001b[1;33m,\u001b[0m \u001b[0mdtheta\u001b[0m\u001b[1;33m)\u001b[0m\u001b[1;33m\u001b[0m\u001b[1;33m\u001b[0m\u001b[0m\n\u001b[0;32m      8\u001b[0m     \u001b[0mkk\u001b[0m\u001b[1;33m,\u001b[0m \u001b[0mth\u001b[0m \u001b[1;33m=\u001b[0m \u001b[0mnp\u001b[0m\u001b[1;33m.\u001b[0m\u001b[0mmeshgrid\u001b[0m\u001b[1;33m(\u001b[0m\u001b[0mk\u001b[0m\u001b[1;33m,\u001b[0m \u001b[0mtheta\u001b[0m\u001b[1;33m,\u001b[0m \u001b[0mindexing\u001b[0m\u001b[1;33m=\u001b[0m\u001b[1;34m'ij'\u001b[0m\u001b[1;33m)\u001b[0m\u001b[1;33m\u001b[0m\u001b[1;33m\u001b[0m\u001b[0m\n\u001b[1;32m----> 9\u001b[1;33m     \u001b[0mU_eff\u001b[0m \u001b[1;33m=\u001b[0m \u001b[1;36m2\u001b[0m\u001b[1;33m*\u001b[0m\u001b[0mkk\u001b[0m\u001b[1;33m*\u001b[0m\u001b[0mnp\u001b[0m\u001b[1;33m.\u001b[0m\u001b[0msum\u001b[0m\u001b[1;33m(\u001b[0m\u001b[0mU\u001b[0m\u001b[1;33m*\u001b[0m\u001b[0mnp\u001b[0m\u001b[1;33m.\u001b[0m\u001b[0mexp\u001b[0m\u001b[1;33m(\u001b[0m\u001b[0mnp\u001b[0m\u001b[1;33m.\u001b[0m\u001b[0mouter\u001b[0m\u001b[1;33m(\u001b[0m\u001b[1;36m2\u001b[0m\u001b[1;33m*\u001b[0m\u001b[0mkk\u001b[0m\u001b[1;33m,\u001b[0m\u001b[0mz\u001b[0m\u001b[1;33m)\u001b[0m\u001b[1;33m)\u001b[0m\u001b[1;33m,\u001b[0m \u001b[0maxis\u001b[0m\u001b[1;33m=\u001b[0m\u001b[1;36m1\u001b[0m\u001b[1;33m)\u001b[0m\u001b[1;33m.\u001b[0m\u001b[0mreshape\u001b[0m\u001b[1;33m(\u001b[0m\u001b[0mkk\u001b[0m\u001b[1;33m.\u001b[0m\u001b[0mshape\u001b[0m\u001b[1;33m)\u001b[0m\u001b[1;33m*\u001b[0m\u001b[0mnp\u001b[0m\u001b[1;33m.\u001b[0m\u001b[0mabs\u001b[0m\u001b[1;33m(\u001b[0m\u001b[0mz\u001b[0m\u001b[1;33m[\u001b[0m\u001b[1;36m1\u001b[0m\u001b[1;33m]\u001b[0m\u001b[1;33m-\u001b[0m\u001b[0mz\u001b[0m\u001b[1;33m[\u001b[0m\u001b[1;36m0\u001b[0m\u001b[1;33m]\u001b[0m\u001b[1;33m)\u001b[0m\u001b[1;33m\u001b[0m\u001b[1;33m\u001b[0m\u001b[0m\n\u001b[0m\u001b[0;32m     10\u001b[0m     \u001b[0mww\u001b[0m \u001b[1;33m=\u001b[0m \u001b[0mkk\u001b[0m\u001b[1;33m*\u001b[0m\u001b[0mU_eff\u001b[0m\u001b[1;33m*\u001b[0m\u001b[0mnp\u001b[0m\u001b[1;33m.\u001b[0m\u001b[0mcos\u001b[0m\u001b[1;33m(\u001b[0m\u001b[0mtheta\u001b[0m\u001b[1;33m-\u001b[0m\u001b[0mpsi\u001b[0m\u001b[1;33m)\u001b[0m \u001b[1;33m+\u001b[0m \u001b[0mnp\u001b[0m\u001b[1;33m.\u001b[0m\u001b[0msqrt\u001b[0m\u001b[1;33m(\u001b[0m\u001b[0mkk\u001b[0m\u001b[1;33m*\u001b[0m\u001b[0mg\u001b[0m\u001b[1;33m*\u001b[0m\u001b[0mnp\u001b[0m\u001b[1;33m.\u001b[0m\u001b[0mtanh\u001b[0m\u001b[1;33m(\u001b[0m\u001b[0mkk\u001b[0m\u001b[1;33m*\u001b[0m\u001b[0mh\u001b[0m\u001b[1;33m)\u001b[0m\u001b[1;33m)\u001b[0m\u001b[1;33m\u001b[0m\u001b[1;33m\u001b[0m\u001b[0m\n\u001b[0;32m     11\u001b[0m     \u001b[0mkx\u001b[0m \u001b[1;33m=\u001b[0m \u001b[0mkk\u001b[0m\u001b[1;33m*\u001b[0m\u001b[0mnp\u001b[0m\u001b[1;33m.\u001b[0m\u001b[0mcos\u001b[0m\u001b[1;33m(\u001b[0m\u001b[0mth\u001b[0m\u001b[1;33m)\u001b[0m\u001b[1;33m\u001b[0m\u001b[1;33m\u001b[0m\u001b[0m\n",
      "\u001b[1;31mValueError\u001b[0m: operands could not be broadcast together with shapes (349,) (8636,26) "
     ]
    },
    {
     "data": {
      "image/png": "[encoded data removed]",
      "text/plain": [
       "<Figure size 504x504 with 1 Axes>"
      ]
     },
     "metadata": {
      "needs_background": "light"
     },
     "output_type": "display_data"
    }
   ],
   "source": [
    "fig = plt.figure(figsize=(7,7))\n",
    "axes = fig.add_subplot(111, projection='3d')\n",
    "disp_kx, disp_ky, disp_ww = plot_disp_shell(axes, h=1000, z = z_arra, U = U_array, psi = 0)"
   ]
  },
  {
   "cell_type": "code",
   "execution_count": null,
   "id": "3c295806",
   "metadata": {},
   "outputs": [],
   "source": []
  },
  {
   "cell_type": "markdown",
   "id": "2e7a75fa",
   "metadata": {},
   "source": [
    "## 1.2.7) Cut along kx=0"
   ]
  },
  {
   "cell_type": "code",
   "execution_count": 112,
   "id": "fb0038bf",
   "metadata": {},
   "outputs": [],
   "source": [
    "# Get power spectra\n",
    "Spectrum_raw = fftshift(fftn(eta) / np.prod(eta.shape))\n",
    "power_Spectrum = np.abs(Spectrum_raw / Norm)**2"
   ]
  },
  {
   "cell_type": "code",
   "execution_count": 113,
   "id": "7bb9df35",
   "metadata": {},
   "outputs": [],
   "source": [
    "def plot_k_w_spec(k, w, spec, disp_filter=False, extent=[-0.4, 0.4, 0, 1.3], ax=None, cmap='viridis'):  \n",
    "    ax = plotting_interface.plot_3d_as_2d(k, w, spec, disp_filter, extent, ax, cmap=cmap)    \n",
    "    ax.set_xlabel(r'$k~[\\mathrm{rad~m}^{-1}]$') \n",
    "    ax.set_ylabel(r'$\\omega~[\\mathrm{rad~Hz}]$')\n",
    "    return ax"
   ]
  },
  {
   "cell_type": "code",
   "execution_count": 114,
   "id": "36107156",
   "metadata": {},
   "outputs": [
    {
     "data": {
      "text/plain": [
       "<AxesSubplot:xlabel='$k~[\\\\mathrm{rad~m}^{-1}]$', ylabel='$\\\\omega~[\\\\mathrm{rad~Hz}]$'>"
      ]
     },
     "execution_count": 114,
     "metadata": {},
     "output_type": "execute_result"
    },
    {
     "data": {
      "image/png": "[encoded data removed]",
      "text/plain": [
       "<Figure size 288x288 with 1 Axes>"
      ]
     },
     "metadata": {
      "needs_background": "light"
     },
     "output_type": "display_data"
    }
   ],
   "source": [
    "plot_k_w_spec( Kx , w,  np.log10(power_Spectrum[ len(Ky)//2 +0 , : , : ]))"
   ]
  },
  {
   "cell_type": "code",
   "execution_count": 353,
   "id": "5c45d273",
   "metadata": {},
   "outputs": [
    {
     "data": {
      "text/plain": [
       "array([-1.27409035, -1.26712811, -1.26016587, -1.25320363, -1.24624138,\n",
       "       -1.23927914, -1.2323169 , -1.22535466, -1.21839241, -1.21143017,\n",
       "       -1.20446793, -1.19750569, -1.19054345, -1.1835812 , -1.17661896,\n",
       "       -1.16965672, -1.16269448, -1.15573223, -1.14876999, -1.14180775,\n",
       "       -1.13484551, -1.12788326, -1.12092102, -1.11395878, -1.10699654,\n",
       "       -1.10003429, -1.09307205, -1.08610981, -1.07914757, -1.07218533,\n",
       "       -1.06522308, -1.05826084, -1.0512986 , -1.04433636, -1.03737411,\n",
       "       -1.03041187, -1.02344963, -1.01648739, -1.00952514, -1.0025629 ,\n",
       "       -0.99560066, -0.98863842, -0.98167617, -0.97471393, -0.96775169,\n",
       "       -0.96078945, -0.9538272 , -0.94686496, -0.93990272, -0.93294048,\n",
       "       -0.92597824, -0.91901599, -0.91205375, -0.90509151, -0.89812927,\n",
       "       -0.89116702, -0.88420478, -0.87724254, -0.8702803 , -0.86331805,\n",
       "       -0.85635581, -0.84939357, -0.84243133, -0.83546908, -0.82850684,\n",
       "       -0.8215446 , -0.81458236, -0.80762012, -0.80065787, -0.79369563,\n",
       "       -0.78673339, -0.77977115, -0.7728089 , -0.76584666, -0.75888442,\n",
       "       -0.75192218, -0.74495993, -0.73799769, -0.73103545, -0.72407321,\n",
       "       -0.71711096, -0.71014872, -0.70318648, -0.69622424, -0.68926199,\n",
       "       -0.68229975, -0.67533751, -0.66837527, -0.66141303, -0.65445078,\n",
       "       -0.64748854, -0.6405263 , -0.63356406, -0.62660181, -0.61963957,\n",
       "       -0.61267733, -0.60571509, -0.59875284, -0.5917906 , -0.58482836,\n",
       "       -0.57786612, -0.57090387, -0.56394163, -0.55697939, -0.55001715,\n",
       "       -0.5430549 , -0.53609266, -0.52913042, -0.52216818, -0.51520594,\n",
       "       -0.50824369, -0.50128145, -0.49431921, -0.48735697, -0.48039472,\n",
       "       -0.47343248, -0.46647024, -0.459508  , -0.45254575, -0.44558351,\n",
       "       -0.43862127, -0.43165903, -0.42469678, -0.41773454, -0.4107723 ,\n",
       "       -0.40381006, -0.39684782, -0.38988557, -0.38292333, -0.37596109,\n",
       "       -0.36899885, -0.3620366 , -0.35507436, -0.34811212, -0.34114988,\n",
       "       -0.33418763, -0.32722539, -0.32026315, -0.31330091, -0.30633866,\n",
       "       -0.29937642, -0.29241418, -0.28545194, -0.27848969, -0.27152745,\n",
       "       -0.26456521, -0.25760297, -0.25064073, -0.24367848, -0.23671624,\n",
       "       -0.229754  , -0.22279176, -0.21582951, -0.20886727, -0.20190503,\n",
       "       -0.19494279, -0.18798054, -0.1810183 , -0.17405606, -0.16709382,\n",
       "       -0.16013157, -0.15316933, -0.14620709, -0.13924485, -0.13228261,\n",
       "       -0.12532036, -0.11835812, -0.11139588, -0.10443364, -0.09747139,\n",
       "       -0.09050915, -0.08354691, -0.07658467, -0.06962242, -0.06266018,\n",
       "       -0.05569794, -0.0487357 , -0.04177345, -0.03481121, -0.02784897,\n",
       "       -0.02088673, -0.01392448, -0.00696224,  0.        ,  0.00696224,\n",
       "        0.01392448,  0.02088673,  0.02784897,  0.03481121,  0.04177345,\n",
       "        0.0487357 ,  0.05569794,  0.06266018,  0.06962242,  0.07658467,\n",
       "        0.08354691,  0.09050915,  0.09747139,  0.10443364,  0.11139588,\n",
       "        0.11835812,  0.12532036,  0.13228261,  0.13924485,  0.14620709,\n",
       "        0.15316933,  0.16013157,  0.16709382,  0.17405606,  0.1810183 ,\n",
       "        0.18798054,  0.19494279,  0.20190503,  0.20886727,  0.21582951,\n",
       "        0.22279176,  0.229754  ,  0.23671624,  0.24367848,  0.25064073,\n",
       "        0.25760297,  0.26456521,  0.27152745,  0.27848969,  0.28545194,\n",
       "        0.29241418,  0.29937642,  0.30633866,  0.31330091,  0.32026315,\n",
       "        0.32722539,  0.33418763,  0.34114988,  0.34811212,  0.35507436,\n",
       "        0.3620366 ,  0.36899885,  0.37596109,  0.38292333,  0.38988557,\n",
       "        0.39684782,  0.40381006,  0.4107723 ,  0.41773454,  0.42469678,\n",
       "        0.43165903,  0.43862127,  0.44558351,  0.45254575,  0.459508  ,\n",
       "        0.46647024,  0.47343248,  0.48039472,  0.48735697,  0.49431921,\n",
       "        0.50128145,  0.50824369,  0.51520594,  0.52216818,  0.52913042,\n",
       "        0.53609266,  0.5430549 ,  0.55001715,  0.55697939,  0.56394163,\n",
       "        0.57090387,  0.57786612,  0.58482836,  0.5917906 ,  0.59875284,\n",
       "        0.60571509,  0.61267733,  0.61963957,  0.62660181,  0.63356406,\n",
       "        0.6405263 ,  0.64748854,  0.65445078,  0.66141303,  0.66837527,\n",
       "        0.67533751,  0.68229975,  0.68926199,  0.69622424,  0.70318648,\n",
       "        0.71014872,  0.71711096,  0.72407321,  0.73103545,  0.73799769,\n",
       "        0.74495993,  0.75192218,  0.75888442,  0.76584666,  0.7728089 ,\n",
       "        0.77977115,  0.78673339,  0.79369563,  0.80065787,  0.80762012,\n",
       "        0.81458236,  0.8215446 ,  0.82850684,  0.83546908,  0.84243133,\n",
       "        0.84939357,  0.85635581,  0.86331805,  0.8702803 ,  0.87724254,\n",
       "        0.88420478,  0.89116702,  0.89812927,  0.90509151,  0.91205375,\n",
       "        0.91901599,  0.92597824,  0.93294048,  0.93990272,  0.94686496,\n",
       "        0.9538272 ,  0.96078945,  0.96775169,  0.97471393,  0.98167617,\n",
       "        0.98863842,  0.99560066,  1.0025629 ,  1.00952514,  1.01648739,\n",
       "        1.02344963,  1.03041187,  1.03737411,  1.04433636,  1.0512986 ,\n",
       "        1.05826084,  1.06522308,  1.07218533,  1.07914757,  1.08610981,\n",
       "        1.09307205,  1.10003429,  1.10699654,  1.11395878,  1.12092102,\n",
       "        1.12788326,  1.13484551,  1.14180775,  1.14876999,  1.15573223,\n",
       "        1.16269448,  1.16965672,  1.17661896,  1.1835812 ,  1.19054345,\n",
       "        1.19750569,  1.20446793,  1.21143017,  1.21839241,  1.22535466,\n",
       "        1.2323169 ,  1.23927914,  1.24624138,  1.25320363,  1.26016587,\n",
       "        1.26712811])"
      ]
     },
     "execution_count": 353,
     "metadata": {},
     "output_type": "execute_result"
    }
   ],
   "source": [
    "w"
   ]
  },
  {
   "cell_type": "code",
   "execution_count": null,
   "id": "04845706",
   "metadata": {},
   "outputs": [],
   "source": []
  },
  {
   "cell_type": "code",
   "execution_count": null,
   "id": "90c2a246",
   "metadata": {},
   "outputs": [],
   "source": []
  },
  {
   "cell_type": "code",
   "execution_count": null,
   "id": "d9d2ffc6",
   "metadata": {},
   "outputs": [],
   "source": []
  },
  {
   "cell_type": "code",
   "execution_count": null,
   "id": "78b54fac",
   "metadata": {},
   "outputs": [],
   "source": []
  },
  {
   "cell_type": "code",
   "execution_count": null,
   "id": "faf25e41",
   "metadata": {},
   "outputs": [],
   "source": []
  },
  {
   "cell_type": "code",
   "execution_count": null,
   "id": "909b4c5a",
   "metadata": {},
   "outputs": [],
   "source": []
  },
  {
   "cell_type": "code",
   "execution_count": null,
   "id": "fee977f2",
   "metadata": {},
   "outputs": [],
   "source": []
  },
  {
   "cell_type": "code",
   "execution_count": null,
   "id": "92bf260b",
   "metadata": {},
   "outputs": [],
   "source": []
  },
  {
   "cell_type": "code",
   "execution_count": null,
   "id": "6f0a246a",
   "metadata": {},
   "outputs": [],
   "source": []
  },
  {
   "cell_type": "code",
   "execution_count": null,
   "id": "0331df70",
   "metadata": {},
   "outputs": [],
   "source": []
  },
  {
   "cell_type": "code",
   "execution_count": null,
   "id": "0239ae42",
   "metadata": {},
   "outputs": [],
   "source": []
  },
  {
   "cell_type": "code",
   "execution_count": null,
   "id": "b9f7c13f",
   "metadata": {},
   "outputs": [],
   "source": []
  },
  {
   "cell_type": "code",
   "execution_count": null,
   "id": "74805396",
   "metadata": {},
   "outputs": [],
   "source": []
  },
  {
   "cell_type": "code",
   "execution_count": null,
   "id": "5306293f",
   "metadata": {},
   "outputs": [],
   "source": []
  },
  {
   "cell_type": "code",
   "execution_count": null,
   "id": "97b650db",
   "metadata": {},
   "outputs": [],
   "source": []
  },
  {
   "cell_type": "markdown",
   "id": "a4074c02",
   "metadata": {},
   "source": [
    "# 2.1) Inverted Profile"
   ]
  },
  {
   "cell_type": "code",
   "execution_count": 115,
   "id": "091fcf77",
   "metadata": {},
   "outputs": [],
   "source": [
    "import numpy as np\n",
    "from scipy.optimize import minimize_scalar\n",
    "from scipy.special import factorial, gammaincc, gamma\n",
    "from numpy.polynomial import Polynomial\n",
    "\n",
    "def rms(x):\n",
    "    return np.sqrt(np.mean(x**2))\n",
    "\n",
    "def pedm(k_vect, c_til, nMax_vals=None, deltaz_T_vals=None, deltaz_B_vals=None, waterDepth=None):\n",
    "\n",
    "    # If user has not provided information about the waterDepth, set to infinity\n",
    "    if waterDepth is None:\n",
    "        waterDepth = np.inf\n",
    "\n",
    "    # Handling for inadequate input data.\n",
    "    if len(k_vect) == 0 or len(c_til) == 0:\n",
    "        return np.nan, np.nan, np.nan, np.nan, np.nan\n",
    "\n",
    "    # Now we start with the PEDM. The steps follow those in the manuscript in section 2.1.2 Effect of limitations of measured Doppler shifts\n",
    "    # Define the parameters.\n",
    "    # Calculate effective depths of Doppler shift velocities based on assumption of a linear profile\n",
    "    Z_eff = -(2 * k_vect) ** -1 * np.tanh(np.abs(waterDepth) * k_vect)\n",
    "\n",
    "    # Set default values for PEDM parameter combinations if inputs left blank\n",
    "    if nMax_vals is None:\n",
    "        nm = min(12, round(len(k_vect) / 2))\n",
    "        nMax_vals = np.arange(0, nm+1)\n",
    "    \n",
    "    if deltaz_T_vals is None:\n",
    "        depthRange = np.abs(Z_eff[0] - Z_eff[-1])\n",
    "        deltaz_T_vals = np.linspace(0.01, 0.2, 20) * depthRange\n",
    "\n",
    "    if deltaz_B_vals is None:\n",
    "        depthRange = np.abs(Z_eff[0] - Z_eff[-1])\n",
    "        deltaz_B_vals = np.linspace(0.02, 0.8, 20) * depthRange\n",
    "\n",
    "    z_c = max(4 * np.min(Z_eff), -np.abs(waterDepth))  # Cutoff depth chosen as 4 times the deepest mapped depth. (Set to water depth if depth is shallower)\n",
    "    # z_c is NEGATIVE by convention here\n",
    "\n",
    "    # We loop over all PEDM parameter combinations. First initialize eps_PEDM_out as well as the other outputs.\n",
    "    eps_PEDM_out = np.inf\n",
    "    eps_EDM_out = np.inf\n",
    "\n",
    "    pPEDM_out = np.nan\n",
    "    pEDM_out = np.nan\n",
    "\n",
    "    verbose = []\n",
    "    combo = 0\n",
    "\n",
    "    for nMax in nMax_vals:\n",
    "        for deltaz_B in deltaz_B_vals:\n",
    "            for deltaz_T in deltaz_T_vals:\n",
    "                # STEP 1: Fit the mapped Doppler shifts to a polynomial of order nMax.\n",
    "                p1 = np.polyfit(Z_eff, c_til, nMax)\n",
    "\n",
    "                # STEP 2: Create additional velocity-depth pairs by linearly extrapolating up to the surface and down to cutoff depth z_c\n",
    "                zB = np.linspace(0, deltaz_B, 100)\n",
    "                zT = np.linspace(-deltaz_T, 0, 100)\n",
    "\n",
    "                pTop = np.polyfit(Z_eff[-1] + zT, np.polyval(p1, Z_eff[-1] + zT), 1)\n",
    "                pBottom = np.polyfit(Z_eff[0] + zB, np.polyval(p1, Z_eff[0] + zB), 1)\n",
    "\n",
    "                depthsExBtm = np.arange(z_c, Z_eff[0] - deltaz_B, deltaz_B)\n",
    "                depthsExTop = np.concatenate((np.arange(Z_eff[-1] + deltaz_T, 0, deltaz_T), [0]))\n",
    "\n",
    "                zEx = np.concatenate((depthsExBtm, Z_eff, depthsExTop))\n",
    "                cTilEx = np.concatenate((np.polyval(pBottom, depthsExBtm), c_til, np.polyval(pTop, depthsExTop)))\n",
    "\n",
    "                # STEP 3: Perform a second polynomial fit on the expanded set of points\n",
    "                pEDM = np.polyfit(zEx, cTilEx, nMax)\n",
    "\n",
    "                # Determine if profile is monotonic with range of mapped depths.\n",
    "                nv = np.arange(nMax, 0, -1)\n",
    "                pczEx_p = nv * pEDM[:-1]  # Derivative polynomial coefficients\n",
    "                rts = np.roots(pczEx_p)  # Find roots\n",
    "                rts = rts[np.isreal(rts)]  # Discard complex roots\n",
    "\n",
    "                # If there roots of the derivative within ranges of mapped depths, don't go further.\n",
    "                if np.any((rts > Z_eff[0]) & (rts < 0)):\n",
    "                    continue\n",
    "\n",
    "                # STEP 4: Scale polynomial coefficients defining U_EDM by n! as in equation (8) in the article.\n",
    "                pPEDM_i = pEDM / factorial(np.arange(nMax, -1, -1))\n",
    "\n",
    "                # STEP 5: Create a new set of linearly extrapolated points down to z_c based on the average shear of the above polynomial function in a depth interval deltaz_B/2 at the deep end of the regime.\n",
    "                zB2 = np.linspace(0, deltaz_B/2, 100)\n",
    "                pBottom2 = np.polyfit(Z_eff[0] + zB, np.polyval(pPEDM_i, Z_eff[0] + zB), 1)\n",
    "\n",
    "                depthsExBtm2 = np.arange(z_c, Z_eff[0] - deltaz_B, deltaz_B/2)\n",
    "\n",
    "                zEx2 = np.concatenate((depthsExBtm2, Z_eff, depthsExTop))\n",
    "                Uvals = np.concatenate((np.polyval(pBottom2, depthsExBtm2), np.polyval(pPEDM_i, Z_eff), np.polyval(pPEDM_i, depthsExTop)))\n",
    "\n",
    "                # STEP 6: Perform a final polynomial fit on the expanded set of points.\n",
    "                pPEDM = np.polyfit(zEx2, Uvals, nMax)\n",
    "\n",
    "                # Calculate Doppler shifts assuming U_EDM or U_PEDM as the current profile, using the forward problem.\n",
    "                c_tilEDM = 0\n",
    "                c_tilPEDM = 0\n",
    "\n",
    "                if nMax < 2:\n",
    "                    for n in range(nMax + 1):\n",
    "                        c_tilEDM = c_tilEDM + factorial(n) * pEDM[-n-1] * (-1 / (2 * k_vect)) ** n\n",
    "                        c_tilPEDM = c_tilPEDM + factorial(n) * pPEDM[-n-1] * (-1 / (2 * k_vect)) ** n\n",
    "                else:\n",
    "                    for n in range(nMax + 1):\n",
    "                        c_tilEDM = c_tilEDM + (-1 / 2) ** (n) * k_vect ** (-n) * pEDM[-n-1] * (gammainc(1 + n, -2 * k_vect * z_c)) * gamma(n + 1)\n",
    "                        c_tilPEDM = c_tilPEDM + (-1 / 2) ** (n) * k_vect ** (-n) * pPEDM[-n-1] * (gammainc(1 + n, -2 * k_vect * z_c)) * gamma(n + 1)\n",
    "\n",
    "                # Calculate RMS differences (equation (9) in manuscript)\n",
    "                eps_EDM = rms(c_til - c_tilEDM)  # RMS difference for U_EDM\n",
    "                eps_PEDM = rms(c_til - c_tilPEDM)  # RMS difference for U_PEDM.\n",
    "\n",
    "                # Parameters nMax, deltaz_T, and deltaz_B are chosen to minimize eps_PEDM in practice.\n",
    "                if eps_PEDM < eps_PEDM_out:\n",
    "                    eps_PEDM_out = eps_PEDM\n",
    "                    pPEDM_out = pPEDM\n",
    "                    nMax_out = nMax\n",
    "                    deltaz_B_out = deltaz_B\n",
    "                    deltaz_T_out = deltaz_T\n",
    "\n",
    "                if eps_EDM < eps_EDM_out:\n",
    "                    eps_EDM_out = eps_EDM\n",
    "                    pEDM_out = pEDM\n",
    "\n",
    "                combo = combo + 1\n",
    "                verbose.append({\n",
    "                    #'pPEDM': pPEDM.tolist(),\n",
    "                    #'pEDM': pEDM.tolist(),\n",
    "                    'pPEDM': pPEDM,\n",
    "                    'pEDM': pEDM,\n",
    "                    'eps_PEDM': eps_PEDM,\n",
    "                    'eps_EDM': eps_EDM,\n",
    "                    'nMax': nMax,\n",
    "                    'deltaz_B': deltaz_B,\n",
    "                    'deltaz_T': deltaz_T\n",
    "                })\n",
    "\n",
    "                \n",
    "                #return pPEDM_out, pEDM_out, eps_PEDM_out, eps_EDM_out, verbose\n",
    "    return pPEDM_out, pEDM_out, eps_PEDM_out, eps_EDM_out, verbose\n",
    "\n",
    "# Example usage:\n",
    "pPEDM1, pEDM1, eps_PEDM1, eps_EDM1, verbose1 = pedm(wavenumbers, np.sqrt(Ux**2+Uy**2))\n",
    "pPEDM2, pEDM2, eps_PEDM2, eps_EDM2, verbose2 = pedm(wavenumbers, Uy)"
   ]
  },
  {
   "cell_type": "markdown",
   "id": "06c13c6a",
   "metadata": {},
   "source": [
    "## Testing"
   ]
  },
  {
   "cell_type": "code",
   "execution_count": 116,
   "id": "eb365e96",
   "metadata": {},
   "outputs": [],
   "source": [
    "matlab_ux = np.array([1.29324047095870, -1.89463189363109, -1.69708851869363, -0.669636210830390, -2.75906065502856, -1.94768284605381, -1.66698298781537, -0.899800584589916, 0.0297085589908087, -0.514835078702308, -0.0105890842080116, 0.0759766804549144, -0.0363850496987580, -0.0484059195965528, -0.0103916622911056, -0.0308550721930313, 0.398842029692605, -0.117723340988159, -0.441378683422372, 0.430707406907151, -0.699842772060439, 0.399538248189037, 0.730470696764732, -0.523203395681584, 0.499213099684858])"
   ]
  },
  {
   "cell_type": "code",
   "execution_count": null,
   "id": "b1c0dc23",
   "metadata": {},
   "outputs": [],
   "source": []
  },
  {
   "cell_type": "code",
   "execution_count": null,
   "id": "604aafaf",
   "metadata": {},
   "outputs": [],
   "source": []
  },
  {
   "cell_type": "code",
   "execution_count": 117,
   "id": "47d6894a",
   "metadata": {},
   "outputs": [],
   "source": [
    "z = np.linspace(-20, 0, 100)"
   ]
  },
  {
   "cell_type": "code",
   "execution_count": 118,
   "id": "e7f759ff",
   "metadata": {},
   "outputs": [],
   "source": [
    "U1_fun = lambda z: np.polyval(pPEDM1, z)\n",
    "U2_fun = lambda z: np.polyval(pPEDM2, z)"
   ]
  },
  {
   "cell_type": "code",
   "execution_count": 119,
   "id": "2baeca21",
   "metadata": {},
   "outputs": [
    {
     "data": {
      "text/plain": [
       "<matplotlib.legend.Legend at 0x1c6141bba00>"
      ]
     },
     "execution_count": 119,
     "metadata": {},
     "output_type": "execute_result"
    },
    {
     "data": {
      "image/png": "[encoded data removed]",
      "text/plain": [
       "<Figure size 432x288 with 1 Axes>"
      ]
     },
     "metadata": {
      "needs_background": "light"
     },
     "output_type": "display_data"
    }
   ],
   "source": [
    "plt.plot(U1_fun(z), z, label=\"$U_{x}$\", color = 'red')\n",
    "#plt.plot(U2_fun(z), z, label=\"$U_{y}$\", color = 'green')\n",
    "\n",
    "#plt.scatter(-Ux, -1/(2*wavenumbers), label='EDM', color = 'black')\n",
    "plt.scatter( np.sqrt(Ux**2+Uy**2), -1/(3.56*wavenumbers), label='EDM', color = 'blue')\n",
    "\n",
    "plt.grid(True)\n",
    "plt.title(\"PEDM\")\n",
    "plt.xlabel(\"U [m/s]\")\n",
    "plt.ylabel(\"Depth [m]\")\n",
    "plt.legend()"
   ]
  },
  {
   "cell_type": "code",
   "execution_count": 120,
   "id": "4746bb47",
   "metadata": {},
   "outputs": [
    {
     "data": {
      "text/plain": [
       "1239"
      ]
     },
     "execution_count": 120,
     "metadata": {},
     "output_type": "execute_result"
    }
   ],
   "source": [
    "len(verbose1)"
   ]
  },
  {
   "cell_type": "code",
   "execution_count": 121,
   "id": "b50c99e2",
   "metadata": {},
   "outputs": [
    {
     "data": {
      "text/plain": [
       "array([ 5.91350657e-11,  1.35175215e-08,  1.26876173e-06,  6.24913404e-05,\n",
       "        1.69389008e-03,  2.32417033e-02,  9.02125028e-02, -8.48040317e-01,\n",
       "       -1.05427981e+00])"
      ]
     },
     "execution_count": 121,
     "metadata": {},
     "output_type": "execute_result"
    }
   ],
   "source": [
    "pPEDM1"
   ]
  },
  {
   "cell_type": "code",
   "execution_count": 122,
   "id": "56c8b14f",
   "metadata": {},
   "outputs": [
    {
     "data": {
      "text/plain": [
       "{'pPEDM': array([1.26475174]),\n",
       " 'pEDM': array([1.26475174]),\n",
       " 'eps_PEDM': 1.1118373943304174,\n",
       " 'eps_EDM': 1.1118373943304174,\n",
       " 'nMax': 0,\n",
       " 'deltaz_B': 0.2334272498681132,\n",
       " 'deltaz_T': 0.1167136249340566}"
      ]
     },
     "execution_count": 122,
     "metadata": {},
     "output_type": "execute_result"
    }
   ],
   "source": [
    "verbose1[0]"
   ]
  },
  {
   "cell_type": "code",
   "execution_count": null,
   "id": "d7f707aa",
   "metadata": {},
   "outputs": [],
   "source": []
  },
  {
   "cell_type": "code",
   "execution_count": null,
   "id": "f8781c58",
   "metadata": {},
   "outputs": [],
   "source": []
  },
  {
   "cell_type": "code",
   "execution_count": null,
   "id": "df972d4f",
   "metadata": {},
   "outputs": [],
   "source": []
  },
  {
   "cell_type": "code",
   "execution_count": null,
   "id": "448195c1",
   "metadata": {},
   "outputs": [],
   "source": []
  },
  {
   "cell_type": "code",
   "execution_count": null,
   "id": "a1fd041f",
   "metadata": {},
   "outputs": [],
   "source": []
  },
  {
   "cell_type": "code",
   "execution_count": null,
   "id": "c7703f8d",
   "metadata": {},
   "outputs": [],
   "source": []
  },
  {
   "cell_type": "code",
   "execution_count": null,
   "id": "6983493a",
   "metadata": {},
   "outputs": [],
   "source": []
  },
  {
   "cell_type": "code",
   "execution_count": null,
   "id": "e72e1d0f",
   "metadata": {},
   "outputs": [],
   "source": []
  },
  {
   "cell_type": "code",
   "execution_count": null,
   "id": "2ac1e89f",
   "metadata": {},
   "outputs": [],
   "source": []
  },
  {
   "cell_type": "code",
   "execution_count": 823,
   "id": "de4b8eb7",
   "metadata": {},
   "outputs": [],
   "source": [
    "y = np.array([0.17091544, 0.2196002 , 0.24884891, 0.22784447, 0.365201,\n",
    "       0.37375478, 0.39257039, 0.37231073, 0.41550739, 0.43636989,\n",
    "       0.45111672, 0.46662792, 0.48854647, 0.49640163, 0.51887196,\n",
    "       0.52827061, 0.54437941, 0.54929705, 0.56552202, 0.57508514,\n",
    "      0.58477563, 0.59755615])\n",
    "x = np.array([0.03751155, 0.05001541, 0.06251926, 0.07502311, 0.08752696,\n",
    "        0.10003081, 0.11253466, 0.12503851, 0.13754236, 0.15004622,\n",
    "       0.16255007, 0.17505392, 0.18755777, 0.20006162, 0.21256547,\n",
    "       0.22506932, 0.23757318, 0.25007703, 0.26258088, 0.27508473,\n",
    "       0.28758858, 0.30009243])"
   ]
  },
  {
   "cell_type": "code",
   "execution_count": 832,
   "id": "8de32b53",
   "metadata": {},
   "outputs": [
    {
     "data": {
      "text/plain": [
       "(-0.05, 0.32)"
      ]
     },
     "execution_count": 832,
     "metadata": {},
     "output_type": "execute_result"
    },
    {
     "data": {
      "image/png": "[encoded data removed]",
      "text/plain": [
       "<Figure size 432x288 with 1 Axes>"
      ]
     },
     "metadata": {
      "needs_background": "light"
     },
     "output_type": "display_data"
    }
   ],
   "source": [
    "plt.scatter(x, y)\n",
    "\n",
    "plt.grid(True)\n",
    "plt.xlabel(\"X Data\")\n",
    "plt.ylabel(\"Y Data\")\n",
    "\n",
    "plt.ylim(-0.05,0.65)\n",
    "plt.xlim(-0.05,0.32)"
   ]
  },
  {
   "cell_type": "code",
   "execution_count": null,
   "id": "81de41b4",
   "metadata": {},
   "outputs": [],
   "source": []
  },
  {
   "cell_type": "code",
   "execution_count": null,
   "id": "57a7486c",
   "metadata": {},
   "outputs": [],
   "source": []
  },
  {
   "cell_type": "code",
   "execution_count": null,
   "id": "b0ede5a4",
   "metadata": {},
   "outputs": [],
   "source": []
  }
 ],
 "metadata": {
  "kernelspec": {
   "display_name": "Python 3",
   "language": "python",
   "name": "python3"
  },
  "language_info": {
   "codemirror_mode": {
    "name": "ipython",
    "version": 3
   },
   "file_extension": ".py",
   "mimetype": "text/x-python",
   "name": "python",
   "nbconvert_exporter": "python",
   "pygments_lexer": "ipython3",
   "version": "3.8.8"
  }
 },
 "nbformat": 4,
 "nbformat_minor": 5
}
