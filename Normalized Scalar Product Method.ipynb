{
 "cells": [
  {
   "cell_type": "code",
   "execution_count": 3,
   "id": "134b5ae7",
   "metadata": {},
   "outputs": [],
   "source": [
    "import sys\n",
    "sys.path.append(\"C:\\\\Users\\josep\\Documents\\Anaconda\\pkgs\")\n",
    "import help_tools\n",
    "import wave_tools\n",
    "import cv2\n",
    "import h5py\n",
    "from matplotlib import cm\n",
    "import radar_tools\n",
    "import numpy as np\n",
    "from wave_tools import ConstructWave, surface_core, peak_tracking\n",
    "from wave_tools import fft_interpolate, fft_interface\n",
    "from wave_tools import SpectralAnalysis\n",
    "import matplotlib.pyplot as plt\n",
    "from help_tools import plotting_interface\n",
    "from wave_tools import surface_core, fft_interface, dispersionRelation"
   ]
  },
  {
   "cell_type": "code",
   "execution_count": null,
   "id": "c7880a42",
   "metadata": {},
   "outputs": [],
   "source": []
  },
  {
   "cell_type": "code",
   "execution_count": null,
   "id": "f8df7a79",
   "metadata": {},
   "outputs": [],
   "source": []
  },
  {
   "cell_type": "code",
   "execution_count": null,
   "id": "716756bc",
   "metadata": {},
   "outputs": [],
   "source": []
  }
 ],
 "metadata": {
  "kernelspec": {
   "display_name": "Python 3",
   "language": "python",
   "name": "python3"
  },
  "language_info": {
   "codemirror_mode": {
    "name": "ipython",
    "version": 3
   },
   "file_extension": ".py",
   "mimetype": "text/x-python",
   "name": "python",
   "nbconvert_exporter": "python",
   "pygments_lexer": "ipython3",
   "version": "3.8.8"
  }
 },
 "nbformat": 4,
 "nbformat_minor": 5
}
