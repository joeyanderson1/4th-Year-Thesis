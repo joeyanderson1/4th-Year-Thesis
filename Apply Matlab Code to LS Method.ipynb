{
 "cells": [
  {
   "cell_type": "code",
   "execution_count": 1,
   "id": "9c309a05",
   "metadata": {},
   "outputs": [],
   "source": [
    "import sys\n",
    "sys.path.append(\"C:\\\\Users\\josep\\Documents\\Anaconda\\pkgs\")\n",
    "import help_tools\n",
    "import wave_tools\n",
    "import cv2\n",
    "import h5py\n",
    "from matplotlib import cm\n",
    "import radar_tools\n",
    "import numpy as np\n",
    "from wave_tools import ConstructWave, surface_core, peak_tracking\n",
    "from wave_tools import fft_interpolate, fft_interface, Spectrum\n",
    "from wave_tools import SpectralAnalysis\n",
    "import matplotlib.pyplot as plt\n",
    "from help_tools import plotting_interface\n",
    "from wave_tools import surface_core, fft_interface, dispersionRelation\n",
    "from help_tools import plotting_interface, polar_coordinates, convolutional_filters, moving_average\n",
    "from scipy.optimize import least_squares\n",
    "from scipy.optimize import minimize\n",
    "from scipy.optimize import curve_fit\n",
    "from matplotlib.ticker import LinearLocator, FormatStrFormatter\n",
    "from tqdm import tqdm\n",
    "from mpl_toolkits.mplot3d import Axes3D\n",
    "from scipy.fftpack import fftn, fftshift\n",
    "from scipy.ndimage import gaussian_filter\n",
    "from scipy.signal import savgol_filter"
   ]
  },
  {
   "cell_type": "code",
   "execution_count": 2,
   "id": "0dba5b52",
   "metadata": {},
   "outputs": [],
   "source": [
    "sys.path.append(\"C:\\\\Users\\josep\\Desktop\\PHYC40900_Project TP\\Data_NEW\")\n",
    "fileName ='shearing_curr_res_7.5_dt_1.0_T_1200_U_1.0exp(0.5z)+0.05_psi_0_smax_30_0_surf3d.hdf5'\n",
    "f = h5py.File('C:\\\\Users\\josep\\Desktop\\PHYC40900_Project TP\\Data_NEW\\shearing_curr_res_7.5_dt_1.0_T_1200_U_1.0exp(0.5z)+0.05_psi_0_smax_30_0_surf3d.hdf5', 'r')"
   ]
  },
  {
   "cell_type": "code",
   "execution_count": 3,
   "id": "796f421b",
   "metadata": {},
   "outputs": [],
   "source": [
    "psi = 0"
   ]
  },
  {
   "cell_type": "code",
   "execution_count": 4,
   "id": "60dcdae5",
   "metadata": {},
   "outputs": [],
   "source": [
    "x = f.get('x')\n",
    "y = f.get('y')\n",
    "z = f.get('z')\n",
    "t = f.get('t')\n",
    "k = f.get('k')\n",
    "U = f.get('U')\n",
    "Uk = f.get('Uk')\n",
    "eta = f.get('eta')\n",
    "x = np.array(x)\n",
    "y = np.array(y)\n",
    "z = np.array(z)\n",
    "t = np.array(t)\n",
    "k = np.array(k)\n",
    "U = np.array(U)\n",
    "Uk = np.array(Uk)\n",
    "eta = np.array(eta)"
   ]
  },
  {
   "cell_type": "code",
   "execution_count": 5,
   "id": "54cb33df",
   "metadata": {},
   "outputs": [],
   "source": [
    "dx = 7.5 \n",
    "dy = 7.5\n",
    "dt = 1"
   ]
  },
  {
   "cell_type": "code",
   "execution_count": 6,
   "id": "f903f5d6",
   "metadata": {},
   "outputs": [
    {
     "data": {
      "text/plain": [
       "0.012503851357571316"
      ]
     },
     "execution_count": 6,
     "metadata": {},
     "output_type": "execute_result"
    }
   ],
   "source": [
    "maxFrequency = 4.0 \n",
    "# Approximate max  frequency to consider (converted to max wavenumber below) [rad/sec]\n",
    "\n",
    "dk = 2*np.pi/(dx*min(eta.shape[0], eta.shape[1]))\n",
    "# % wavenumber resolution of spectrum in each spatial window \n",
    "# (not strictly true if dx ~= dy, but value only needs to be approximate in practice)\n",
    "\n",
    "kW = 1*dk\n",
    "# Half width of wavenumbers bins [rad/m]\n",
    "\n",
    "dk"
   ]
  },
  {
   "cell_type": "code",
   "execution_count": 7,
   "id": "b939cd00",
   "metadata": {},
   "outputs": [],
   "source": [
    "wavenumbers = np.arange(3 * dk, 0.305, dk)"
   ]
  },
  {
   "cell_type": "code",
   "execution_count": 8,
   "id": "05333df7",
   "metadata": {},
   "outputs": [
    {
     "data": {
      "text/plain": [
       "array([0.03751155, 0.05001541, 0.06251926, 0.07502311, 0.08752696,\n",
       "       0.10003081, 0.11253466, 0.12503851, 0.13754236, 0.15004622,\n",
       "       0.16255007, 0.17505392, 0.18755777, 0.20006162, 0.21256547,\n",
       "       0.22506932, 0.23757318, 0.25007703, 0.26258088, 0.27508473,\n",
       "       0.28758858, 0.30009243])"
      ]
     },
     "execution_count": 8,
     "metadata": {},
     "output_type": "execute_result"
    }
   ],
   "source": [
    "wavenumbers"
   ]
  },
  {
   "cell_type": "code",
   "execution_count": 9,
   "id": "d62f0f19",
   "metadata": {},
   "outputs": [],
   "source": [
    "Nt, Nx, Ny = eta.shape"
   ]
  },
  {
   "cell_type": "code",
   "execution_count": 10,
   "id": "f15b8864",
   "metadata": {},
   "outputs": [],
   "source": [
    "Kx = (2 * np.pi * 1 / dx / Nx) * np.arange(-np.ceil((Nx - 1) / 2), np.floor((Nx - 1) / 2) + 1) # 67 values\n",
    "Ky = (2 * np.pi * 1 / dy / Ny) * np.arange(-np.ceil((Ny - 1) / 2), np.floor((Ny - 1) / 2) + 1) # 67 Values\n",
    "w = (2 * np.pi * 1 / dt / Nt) * np.arange(-np.ceil((Nt - 1) / 2), np.floor((Nt - 1) / 2) + 1) # 1200 Values"
   ]
  },
  {
   "cell_type": "code",
   "execution_count": 11,
   "id": "6b6abcd5",
   "metadata": {},
   "outputs": [],
   "source": [
    "dKx = Kx[1] - Kx[0]\n",
    "dKy = Ky[1] - Ky[0]\n",
    "dW = w[1] - w[0]"
   ]
  },
  {
   "cell_type": "code",
   "execution_count": 12,
   "id": "a41a670e",
   "metadata": {},
   "outputs": [],
   "source": [
    "Norm = dKx*dKy*dW"
   ]
  },
  {
   "cell_type": "code",
   "execution_count": 13,
   "id": "70e9f8d8",
   "metadata": {},
   "outputs": [],
   "source": [
    "# Get power spectra\n",
    "Spectrum_raw = fftshift(fftn(eta) / np.prod(eta.shape))\n",
    "power_Spectrum = np.abs(Spectrum_raw / Norm)**2"
   ]
  },
  {
   "cell_type": "code",
   "execution_count": 14,
   "id": "afc1eb6d",
   "metadata": {},
   "outputs": [
    {
     "data": {
      "text/plain": [
       "(1200, 67, 67)"
      ]
     },
     "execution_count": 14,
     "metadata": {},
     "output_type": "execute_result"
    }
   ],
   "source": [
    "power_Spectrum.shape"
   ]
  },
  {
   "cell_type": "code",
   "execution_count": 15,
   "id": "9cd4fffe",
   "metadata": {},
   "outputs": [],
   "source": [
    "g = 9.81\n",
    "h = 1000\n",
    "\n",
    "def w_dr(kx, ky, Ux, Uy):\n",
    "    return np.sqrt(g * np.sqrt( kx **2 + ky **2 ) * np.tanh(h * np.sqrt( kx **2 + ky **2 ))) + kx * Ux + ky * Uy"
   ]
  },
  {
   "cell_type": "code",
   "execution_count": 16,
   "id": "24366763",
   "metadata": {},
   "outputs": [],
   "source": [
    "from matplotlib.colors import ListedColormap"
   ]
  },
  {
   "cell_type": "code",
   "execution_count": 17,
   "id": "0048d349",
   "metadata": {},
   "outputs": [],
   "source": [
    "%matplotlib widget\n",
    "# makes plots interactive"
   ]
  },
  {
   "cell_type": "code",
   "execution_count": 18,
   "id": "d31d29de",
   "metadata": {},
   "outputs": [],
   "source": [
    "%matplotlib inline"
   ]
  },
  {
   "cell_type": "code",
   "execution_count": 19,
   "id": "c5316c5d",
   "metadata": {},
   "outputs": [
    {
     "data": {
      "text/plain": [
       "(680,)"
      ]
     },
     "execution_count": 19,
     "metadata": {},
     "output_type": "execute_result"
    }
   ],
   "source": [
    "Uk[:,0].shape"
   ]
  },
  {
   "cell_type": "code",
   "execution_count": 20,
   "id": "196b9964",
   "metadata": {},
   "outputs": [
    {
     "data": {
      "text/plain": [
       "array([[0.05494615, 0.05494615, 0.05494615, ..., 0.05494615, 0.05494615,\n",
       "        0.05494615],\n",
       "       [0.05745544, 0.05745544, 0.05745544, ..., 0.05745544, 0.05745544,\n",
       "        0.05745544],\n",
       "       [0.05994452, 0.05994452, 0.05994452, ..., 0.05994452, 0.05994452,\n",
       "        0.05994452],\n",
       "       ...,\n",
       "       [0.63260879, 0.63260879, 0.63260879, ..., 0.63260879, 0.63260879,\n",
       "        0.63260879],\n",
       "       [0.63295845, 0.63295845, 0.63295845, ..., 0.63295845, 0.63295845,\n",
       "        0.63295845],\n",
       "       [0.63330752, 0.63330752, 0.63330752, ..., 0.63330752, 0.63330752,\n",
       "        0.63330752]])"
      ]
     },
     "execution_count": 20,
     "metadata": {},
     "output_type": "execute_result"
    }
   ],
   "source": [
    "Uk"
   ]
  },
  {
   "cell_type": "code",
   "execution_count": 21,
   "id": "b69c223f",
   "metadata": {},
   "outputs": [
    {
     "data": {
      "text/plain": [
       "array([0.01  , 0.0105, 0.011 , 0.0115, 0.012 , 0.0125, 0.013 , 0.0135,\n",
       "       0.014 , 0.0145, 0.015 , 0.0155, 0.016 , 0.0165, 0.017 , 0.0175,\n",
       "       0.018 , 0.0185, 0.019 , 0.0195, 0.02  , 0.0205, 0.021 , 0.0215,\n",
       "       0.022 , 0.0225, 0.023 , 0.0235, 0.024 , 0.0245, 0.025 , 0.0255,\n",
       "       0.026 , 0.0265, 0.027 , 0.0275, 0.028 , 0.0285, 0.029 , 0.0295,\n",
       "       0.03  , 0.0305, 0.031 , 0.0315, 0.032 , 0.0325, 0.033 , 0.0335,\n",
       "       0.034 , 0.0345, 0.035 , 0.0355, 0.036 , 0.0365, 0.037 , 0.0375,\n",
       "       0.038 , 0.0385, 0.039 , 0.0395, 0.04  , 0.0405, 0.041 , 0.0415,\n",
       "       0.042 , 0.0425, 0.043 , 0.0435, 0.044 , 0.0445, 0.045 , 0.0455,\n",
       "       0.046 , 0.0465, 0.047 , 0.0475, 0.048 , 0.0485, 0.049 , 0.0495,\n",
       "       0.05  , 0.0505, 0.051 , 0.0515, 0.052 , 0.0525, 0.053 , 0.0535,\n",
       "       0.054 , 0.0545, 0.055 , 0.0555, 0.056 , 0.0565, 0.057 , 0.0575,\n",
       "       0.058 , 0.0585, 0.059 , 0.0595, 0.06  , 0.0605, 0.061 , 0.0615,\n",
       "       0.062 , 0.0625, 0.063 , 0.0635, 0.064 , 0.0645, 0.065 , 0.0655,\n",
       "       0.066 , 0.0665, 0.067 , 0.0675, 0.068 , 0.0685, 0.069 , 0.0695,\n",
       "       0.07  , 0.0705, 0.071 , 0.0715, 0.072 , 0.0725, 0.073 , 0.0735,\n",
       "       0.074 , 0.0745, 0.075 , 0.0755, 0.076 , 0.0765, 0.077 , 0.0775,\n",
       "       0.078 , 0.0785, 0.079 , 0.0795, 0.08  , 0.0805, 0.081 , 0.0815,\n",
       "       0.082 , 0.0825, 0.083 , 0.0835, 0.084 , 0.0845, 0.085 , 0.0855,\n",
       "       0.086 , 0.0865, 0.087 , 0.0875, 0.088 , 0.0885, 0.089 , 0.0895,\n",
       "       0.09  , 0.0905, 0.091 , 0.0915, 0.092 , 0.0925, 0.093 , 0.0935,\n",
       "       0.094 , 0.0945, 0.095 , 0.0955, 0.096 , 0.0965, 0.097 , 0.0975,\n",
       "       0.098 , 0.0985, 0.099 , 0.0995, 0.1   , 0.1005, 0.101 , 0.1015,\n",
       "       0.102 , 0.1025, 0.103 , 0.1035, 0.104 , 0.1045, 0.105 , 0.1055,\n",
       "       0.106 , 0.1065, 0.107 , 0.1075, 0.108 , 0.1085, 0.109 , 0.1095,\n",
       "       0.11  , 0.1105, 0.111 , 0.1115, 0.112 , 0.1125, 0.113 , 0.1135,\n",
       "       0.114 , 0.1145, 0.115 , 0.1155, 0.116 , 0.1165, 0.117 , 0.1175,\n",
       "       0.118 , 0.1185, 0.119 , 0.1195, 0.12  , 0.1205, 0.121 , 0.1215,\n",
       "       0.122 , 0.1225, 0.123 , 0.1235, 0.124 , 0.1245, 0.125 , 0.1255,\n",
       "       0.126 , 0.1265, 0.127 , 0.1275, 0.128 , 0.1285, 0.129 , 0.1295,\n",
       "       0.13  , 0.1305, 0.131 , 0.1315, 0.132 , 0.1325, 0.133 , 0.1335,\n",
       "       0.134 , 0.1345, 0.135 , 0.1355, 0.136 , 0.1365, 0.137 , 0.1375,\n",
       "       0.138 , 0.1385, 0.139 , 0.1395, 0.14  , 0.1405, 0.141 , 0.1415,\n",
       "       0.142 , 0.1425, 0.143 , 0.1435, 0.144 , 0.1445, 0.145 , 0.1455,\n",
       "       0.146 , 0.1465, 0.147 , 0.1475, 0.148 , 0.1485, 0.149 , 0.1495,\n",
       "       0.15  , 0.1505, 0.151 , 0.1515, 0.152 , 0.1525, 0.153 , 0.1535,\n",
       "       0.154 , 0.1545, 0.155 , 0.1555, 0.156 , 0.1565, 0.157 , 0.1575,\n",
       "       0.158 , 0.1585, 0.159 , 0.1595, 0.16  , 0.1605, 0.161 , 0.1615,\n",
       "       0.162 , 0.1625, 0.163 , 0.1635, 0.164 , 0.1645, 0.165 , 0.1655,\n",
       "       0.166 , 0.1665, 0.167 , 0.1675, 0.168 , 0.1685, 0.169 , 0.1695,\n",
       "       0.17  , 0.1705, 0.171 , 0.1715, 0.172 , 0.1725, 0.173 , 0.1735,\n",
       "       0.174 , 0.1745, 0.175 , 0.1755, 0.176 , 0.1765, 0.177 , 0.1775,\n",
       "       0.178 , 0.1785, 0.179 , 0.1795, 0.18  , 0.1805, 0.181 , 0.1815,\n",
       "       0.182 , 0.1825, 0.183 , 0.1835, 0.184 , 0.1845, 0.185 , 0.1855,\n",
       "       0.186 , 0.1865, 0.187 , 0.1875, 0.188 , 0.1885, 0.189 , 0.1895,\n",
       "       0.19  , 0.1905, 0.191 , 0.1915, 0.192 , 0.1925, 0.193 , 0.1935,\n",
       "       0.194 , 0.1945, 0.195 , 0.1955, 0.196 , 0.1965, 0.197 , 0.1975,\n",
       "       0.198 , 0.1985, 0.199 , 0.1995, 0.2   , 0.2005, 0.201 , 0.2015,\n",
       "       0.202 , 0.2025, 0.203 , 0.2035, 0.204 , 0.2045, 0.205 , 0.2055,\n",
       "       0.206 , 0.2065, 0.207 , 0.2075, 0.208 , 0.2085, 0.209 , 0.2095,\n",
       "       0.21  , 0.2105, 0.211 , 0.2115, 0.212 , 0.2125, 0.213 , 0.2135,\n",
       "       0.214 , 0.2145, 0.215 , 0.2155, 0.216 , 0.2165, 0.217 , 0.2175,\n",
       "       0.218 , 0.2185, 0.219 , 0.2195, 0.22  , 0.2205, 0.221 , 0.2215,\n",
       "       0.222 , 0.2225, 0.223 , 0.2235, 0.224 , 0.2245, 0.225 , 0.2255,\n",
       "       0.226 , 0.2265, 0.227 , 0.2275, 0.228 , 0.2285, 0.229 , 0.2295,\n",
       "       0.23  , 0.2305, 0.231 , 0.2315, 0.232 , 0.2325, 0.233 , 0.2335,\n",
       "       0.234 , 0.2345, 0.235 , 0.2355, 0.236 , 0.2365, 0.237 , 0.2375,\n",
       "       0.238 , 0.2385, 0.239 , 0.2395, 0.24  , 0.2405, 0.241 , 0.2415,\n",
       "       0.242 , 0.2425, 0.243 , 0.2435, 0.244 , 0.2445, 0.245 , 0.2455,\n",
       "       0.246 , 0.2465, 0.247 , 0.2475, 0.248 , 0.2485, 0.249 , 0.2495,\n",
       "       0.25  , 0.2505, 0.251 , 0.2515, 0.252 , 0.2525, 0.253 , 0.2535,\n",
       "       0.254 , 0.2545, 0.255 , 0.2555, 0.256 , 0.2565, 0.257 , 0.2575,\n",
       "       0.258 , 0.2585, 0.259 , 0.2595, 0.26  , 0.2605, 0.261 , 0.2615,\n",
       "       0.262 , 0.2625, 0.263 , 0.2635, 0.264 , 0.2645, 0.265 , 0.2655,\n",
       "       0.266 , 0.2665, 0.267 , 0.2675, 0.268 , 0.2685, 0.269 , 0.2695,\n",
       "       0.27  , 0.2705, 0.271 , 0.2715, 0.272 , 0.2725, 0.273 , 0.2735,\n",
       "       0.274 , 0.2745, 0.275 , 0.2755, 0.276 , 0.2765, 0.277 , 0.2775,\n",
       "       0.278 , 0.2785, 0.279 , 0.2795, 0.28  , 0.2805, 0.281 , 0.2815,\n",
       "       0.282 , 0.2825, 0.283 , 0.2835, 0.284 , 0.2845, 0.285 , 0.2855,\n",
       "       0.286 , 0.2865, 0.287 , 0.2875, 0.288 , 0.2885, 0.289 , 0.2895,\n",
       "       0.29  , 0.2905, 0.291 , 0.2915, 0.292 , 0.2925, 0.293 , 0.2935,\n",
       "       0.294 , 0.2945, 0.295 , 0.2955, 0.296 , 0.2965, 0.297 , 0.2975,\n",
       "       0.298 , 0.2985, 0.299 , 0.2995, 0.3   , 0.3005, 0.301 , 0.3015,\n",
       "       0.302 , 0.3025, 0.303 , 0.3035, 0.304 , 0.3045, 0.305 , 0.3055,\n",
       "       0.306 , 0.3065, 0.307 , 0.3075, 0.308 , 0.3085, 0.309 , 0.3095,\n",
       "       0.31  , 0.3105, 0.311 , 0.3115, 0.312 , 0.3125, 0.313 , 0.3135,\n",
       "       0.314 , 0.3145, 0.315 , 0.3155, 0.316 , 0.3165, 0.317 , 0.3175,\n",
       "       0.318 , 0.3185, 0.319 , 0.3195, 0.32  , 0.3205, 0.321 , 0.3215,\n",
       "       0.322 , 0.3225, 0.323 , 0.3235, 0.324 , 0.3245, 0.325 , 0.3255,\n",
       "       0.326 , 0.3265, 0.327 , 0.3275, 0.328 , 0.3285, 0.329 , 0.3295,\n",
       "       0.33  , 0.3305, 0.331 , 0.3315, 0.332 , 0.3325, 0.333 , 0.3335,\n",
       "       0.334 , 0.3345, 0.335 , 0.3355, 0.336 , 0.3365, 0.337 , 0.3375,\n",
       "       0.338 , 0.3385, 0.339 , 0.3395, 0.34  , 0.3405, 0.341 , 0.3415,\n",
       "       0.342 , 0.3425, 0.343 , 0.3435, 0.344 , 0.3445, 0.345 , 0.3455,\n",
       "       0.346 , 0.3465, 0.347 , 0.3475, 0.348 , 0.3485, 0.349 , 0.3495])"
      ]
     },
     "execution_count": 21,
     "metadata": {},
     "output_type": "execute_result"
    }
   ],
   "source": [
    "k"
   ]
  },
  {
   "cell_type": "code",
   "execution_count": 22,
   "id": "743b11db",
   "metadata": {},
   "outputs": [
    {
     "ename": "NameError",
     "evalue": "name 'kx' is not defined",
     "output_type": "error",
     "traceback": [
      "\u001b[1;31m---------------------------------------------------------------------------\u001b[0m",
      "\u001b[1;31mNameError\u001b[0m                                 Traceback (most recent call last)",
      "\u001b[1;32m<ipython-input-22-dc213812e2e1>\u001b[0m in \u001b[0;36m<module>\u001b[1;34m\u001b[0m\n\u001b[1;32m----> 1\u001b[1;33m \u001b[0mnp\u001b[0m\u001b[1;33m.\u001b[0m\u001b[0msqrt\u001b[0m\u001b[1;33m(\u001b[0m\u001b[0mkx\u001b[0m\u001b[1;33m**\u001b[0m\u001b[1;36m2\u001b[0m\u001b[1;33m+\u001b[0m\u001b[0mky\u001b[0m\u001b[1;33m**\u001b[0m\u001b[1;36m2\u001b[0m\u001b[1;33m)\u001b[0m\u001b[1;33m\u001b[0m\u001b[1;33m\u001b[0m\u001b[0m\n\u001b[0m",
      "\u001b[1;31mNameError\u001b[0m: name 'kx' is not defined"
     ]
    }
   ],
   "source": [
    "np.sqrt(kx**2+ky**2) "
   ]
  },
  {
   "cell_type": "code",
   "execution_count": null,
   "id": "31e4f6d5",
   "metadata": {},
   "outputs": [],
   "source": [
    "w_values.shape"
   ]
  },
  {
   "cell_type": "code",
   "execution_count": null,
   "id": "454604c6",
   "metadata": {},
   "outputs": [],
   "source": [
    "# Create a meshgrid for kx and ky\n",
    "kx, ky = np.meshgrid(Kx, Ky)\n",
    "\n",
    "# Assuming Ux is an array with the same shape as kx and ky\n",
    "Ux_values = Uk[:,0]\n",
    "\n",
    "# Calculate w values using the function\n",
    "w_values = w_dr(kx, ky, Ux_values[:, np.newaxis, np.newaxis], 0)\n",
    "\n",
    "# Flatten the arrays\n",
    "kx_flat = kx.flatten()\n",
    "ky_flat = ky.flatten()\n",
    "w_values_flat = w_values.flatten()\n",
    "\n",
    "# Plot the function in 3D space\n",
    "fig = plt.figure(figsize=(7,7))\n",
    "ax = fig.add_subplot(111, projection='3d')\n",
    "ax.plot_trisurf(kx_flat, ky_flat, w_values_flat, cmap= ListedColormap(['blue']) )#'viridis'\n",
    "\n",
    "# Set labels\n",
    "ax.set_xlabel('kx')\n",
    "ax.set_ylabel('ky')\n",
    "ax.set_zlabel('w')\n",
    "\n",
    "plt.title(\"Dispersion Relation Surface\")\n",
    "\n",
    "# disp_kx, disp_ky, disp_ww = plot_disp_shell(ax, h=1000, z = z, U = U, psi = 0)\n",
    "\n",
    "# Show the plot\n",
    "plt.show()\n"
   ]
  },
  {
   "cell_type": "code",
   "execution_count": null,
   "id": "16935b93",
   "metadata": {},
   "outputs": [],
   "source": [
    "np.max(power_Spectrum)"
   ]
  },
  {
   "cell_type": "code",
   "execution_count": null,
   "id": "c51023f9",
   "metadata": {},
   "outputs": [],
   "source": [
    "count_greater_than_big = np.sum(power_Spectrum >= np.max(power_Spectrum)*0.2)"
   ]
  },
  {
   "cell_type": "code",
   "execution_count": null,
   "id": "8d22a03b",
   "metadata": {
    "scrolled": true
   },
   "outputs": [],
   "source": [
    "count_greater_than_big"
   ]
  },
  {
   "cell_type": "code",
   "execution_count": null,
   "id": "b5c5d419",
   "metadata": {},
   "outputs": [],
   "source": [
    "indices_greater_than_big = np.where(power_Spectrum >= np.max(power_Spectrum)*0.2)\n",
    "indices_greater_than_big"
   ]
  },
  {
   "cell_type": "code",
   "execution_count": null,
   "id": "10b4e69a",
   "metadata": {},
   "outputs": [],
   "source": [
    "points = list(zip(indices_greater_than_big[0], indices_greater_than_big[1], indices_greater_than_big[2]))\n",
    "\n",
    "# Print the points\n",
    "print(\"Points where values are greater than 0.2:\")\n",
    "for point in points:\n",
    "    print(f\"({point[0]}, {point[1]}, {point[2]})\")"
   ]
  },
  {
   "cell_type": "code",
   "execution_count": null,
   "id": "5e915625",
   "metadata": {},
   "outputs": [],
   "source": [
    "points\n",
    "# tiplet indices of each "
   ]
  },
  {
   "cell_type": "code",
   "execution_count": null,
   "id": "e04cd5cf",
   "metadata": {},
   "outputs": [],
   "source": [
    "kx[0,:]"
   ]
  },
  {
   "cell_type": "code",
   "execution_count": null,
   "id": "7b7ac1d7",
   "metadata": {},
   "outputs": [],
   "source": [
    "ky[:,0]"
   ]
  },
  {
   "cell_type": "code",
   "execution_count": null,
   "id": "6d761007",
   "metadata": {},
   "outputs": [],
   "source": [
    "w"
   ]
  },
  {
   "cell_type": "code",
   "execution_count": null,
   "id": "e7f4c48f",
   "metadata": {},
   "outputs": [],
   "source": [
    "w_new = spec3d.w\n",
    "w_new"
   ]
  },
  {
   "cell_type": "code",
   "execution_count": null,
   "id": "2a7711e6",
   "metadata": {},
   "outputs": [],
   "source": [
    "points"
   ]
  },
  {
   "cell_type": "code",
   "execution_count": null,
   "id": "2a85b187",
   "metadata": {
    "scrolled": true
   },
   "outputs": [],
   "source": [
    "points[0]"
   ]
  },
  {
   "cell_type": "code",
   "execution_count": null,
   "id": "331d41ed",
   "metadata": {},
   "outputs": [],
   "source": [
    "kx_trip = []\n",
    "ky_trip = []\n",
    "w_trip = []\n",
    "\n",
    "for i in range(len(points)):\n",
    "    kx_trip.append( kx[0,:] [ points[i][1] ])\n",
    "    ky_trip.append( ky[:,0] [ points[i][2] ])\n",
    "    w_trip.append( w_new [  points[i][0] ])"
   ]
  },
  {
   "cell_type": "code",
   "execution_count": null,
   "id": "d8cd636d",
   "metadata": {},
   "outputs": [],
   "source": [
    "count_greater_than_big/2"
   ]
  },
  {
   "cell_type": "code",
   "execution_count": null,
   "id": "4800756b",
   "metadata": {},
   "outputs": [],
   "source": [
    "np.array( w_trip )[count_greater_than_big//2:]"
   ]
  },
  {
   "cell_type": "code",
   "execution_count": null,
   "id": "a7e06d01",
   "metadata": {},
   "outputs": [],
   "source": [
    "# Create a meshgrid for kx and ky\n",
    "kx, ky = np.meshgrid(Kx, Ky)\n",
    "\n",
    "# Assuming Ux is an array with the same shape as kx and ky\n",
    "Ux_values = Uk[:,0]\n",
    "\n",
    "# Calculate w values using the function\n",
    "w_values = w_dr(kx, ky, Ux_values[:, np.newaxis, np.newaxis], 0)\n",
    "\n",
    "# Flatten the arrays\n",
    "kx_flat = kx.flatten()\n",
    "ky_flat = ky.flatten()\n",
    "w_values_flat = w_values.flatten()\n",
    "\n",
    "# Plot the function in 3D space\n",
    "fig = plt.figure(figsize=(7,7))\n",
    "ax = fig.add_subplot(111, projection='3d')\n",
    "ax.plot_trisurf(kx_flat, ky_flat, w_values_flat, alpha=0.3, cmap= ListedColormap(['blue']) )#'viridis'\n",
    "\n",
    "# Set labels\n",
    "ax.set_xlabel('kx')\n",
    "ax.set_ylabel('ky')\n",
    "ax.set_zlabel('w')\n",
    "\n",
    "plt.title(\"Triplets Dispersion Relation Surface\")\n",
    "\n",
    "ax.scatter( np.array(kx_trip) [count_greater_than_big//2:], np.array(ky_trip) [count_greater_than_big//2:], \n",
    "           np.array( w_trip )[count_greater_than_big//2:], color='red', marker='o', s=8)\n",
    "\n",
    "# disp_kx, disp_ky, disp_ww = plot_disp_shell(ax, h=1000, z = z, U = U, psi = 0)\n",
    "\n",
    "# Show the plot\n",
    "plt.show()"
   ]
  },
  {
   "cell_type": "code",
   "execution_count": null,
   "id": "8e755006",
   "metadata": {},
   "outputs": [],
   "source": [
    "np.array(kx_trip) [count_greater_than_big//2:]\n"
   ]
  },
  {
   "cell_type": "code",
   "execution_count": null,
   "id": "94aa4499",
   "metadata": {},
   "outputs": [],
   "source": [
    "np.array(ky_trip) [count_greater_than_big//2:]"
   ]
  },
  {
   "cell_type": "code",
   "execution_count": null,
   "id": "aa4b05f6",
   "metadata": {},
   "outputs": [],
   "source": [
    "np.array( w_trip )[count_greater_than_big//2:]"
   ]
  },
  {
   "cell_type": "code",
   "execution_count": null,
   "id": "f4f415ed",
   "metadata": {},
   "outputs": [],
   "source": []
  },
  {
   "cell_type": "code",
   "execution_count": null,
   "id": "df38de2a",
   "metadata": {},
   "outputs": [],
   "source": []
  },
  {
   "cell_type": "code",
   "execution_count": null,
   "id": "404c6eb4",
   "metadata": {},
   "outputs": [],
   "source": [
    "spec3d.Nt = 1200\n",
    "\n",
    "spec3d.dkx = spec3d.kx[64]-spec3d.kx[63]"
   ]
  },
  {
   "cell_type": "code",
   "execution_count": null,
   "id": "e91254c7",
   "metadata": {},
   "outputs": [],
   "source": [
    "def estimate_dispersion_cone(self, h, Umax, kmin=0.04, kmax=0.5, plot_it=False):\n",
    "        '''\n",
    "        Estimate dispersion cone. It returns a representation of the dispersion cone where the energy is high enough\n",
    "\n",
    "        Algorithm: \n",
    "        - Pass to polar coordinates \n",
    "        - apply dispersion filter to avoid using aliased data etc. \n",
    "        - select part of arc where there is energy (>0.1max)\n",
    "        - define relevant k based on upper and lower bounds of k on the grid (close to kmin, kmax provided)\n",
    "        - select part of spectrum representing relevant theta and k values \n",
    "        - loop through theta:\n",
    "            - apply gaussian blur\n",
    "            - find peak of w for for all k of interest along the given angle\n",
    "        \n",
    "        \n",
    "\n",
    "        Parameters:\n",
    "        -----------\n",
    "                    input       \n",
    "                            h       float\n",
    "                                    waterdepth\n",
    "                            Umax    float\n",
    "                                    maximum expected current \n",
    "                            kmin    float\n",
    "                                    lower boundary for wave numbers relevant for defining cone, default 0.04\n",
    "                            kmax    float\n",
    "                                    upper boundary for wave numbers relevant for defining cone, default 0.3\n",
    "                            plot_it bool\n",
    "                                    if data and cone slice should be shown\n",
    "\n",
    "                    output:\n",
    "                            k_rel       array\n",
    "                                        vector of wave numbers for which the dispersion cone is defined\n",
    "                            theta_rel  array\n",
    "                                        vector of azimuth angles for which the dispersion cone is defined\n",
    "                            w compo. of disp_cone   2d array\n",
    "                                        angular frequency for each combinatin of wave numbers and angle \n",
    "        '''\n",
    "        w_upper = self.w[self.Nt//2:]\n",
    "        half_spec = np.flip(self.spectrum()[1:self.Nt//2+1,:,:], axis=0)\n",
    "        filtered_half_spec = gaussian_filter(half_spec, (0.5,0.3,0.3))\n",
    "\n",
    "        #k, theta, spec_pol = polar_coordinates.cart2cylindrical(w_upper, self.kx, self.ky, half_spec, Ntheta=100)     \n",
    "        k, theta, spec_pol = polar_coordinates.cart2cylindrical(w_upper, self.kx, self.ky, filtered_half_spec, Ntheta=100)            \n",
    "        spec_pol = np.abs(spec_pol)\n",
    "        \n",
    "        # dispersion filter\n",
    "\n",
    "        from radar_tools import dispersion_filter, filter_core\n",
    "        mask = dispersion_filter.w_k_theta_filter(w_upper, k, theta, Umax, h, w_min=0.6)\n",
    "        masked_spec_pol = mask*spec_pol\n",
    "        #masked_spec_pol = spec_pol\n",
    "        \n",
    "        # select arc with energy          \n",
    "        theta_spec = np.sum(np.sum(masked_spec_pol, axis=0), axis=0)        \n",
    "        rel_indices = np.argwhere(theta_spec>0.2*np.max(theta_spec)).transpose()[0]        \n",
    "        theta_rel = theta[rel_indices]\n",
    "        # k_relevant\n",
    "        k_min_ind = np.argmin(np.abs(k - kmin))\n",
    "        k_max_ind = np.argmin(np.abs(k - kmax))\n",
    "        k_rel = k[k_min_ind:k_max_ind+1]\n",
    "        # empty disp cone\n",
    "        w_matrix = np.zeros((len(k_rel), len(theta_rel)))\n",
    "        rel_spec = masked_spec_pol[:,k_min_ind:k_max_ind+1,rel_indices]\n",
    "        min_dw = 4* np.sqrt(self.dkx*9.81)\n",
    "        ww, kk = np.meshgrid(w_upper, k_rel, indexing='ij')\n",
    "\n",
    "        \n",
    "        def get_U_eff(k):\n",
    "            Nk = len(k)\n",
    "            z = np.linspace(-100,0,100)\n",
    "            U = np.exp(0.5*z) + 0.05\n",
    "            UU = np.outer(np.ones(Nk), U)\n",
    "            kk, zz = np.meshgrid(k, z, indexing='ij')\n",
    "            return 2*k*np.sum(UU*np.exp(2*kk*zz), axis=1) * np.abs(z[1]-z[0])\n",
    "\n",
    "    \n",
    "        for i in range(0, len(theta_rel)):\n",
    "            input_spec = rel_spec[:,:,i]#convolutional_filters.apply_Gaussian_blur(rel_spec[:,:,i])\n",
    "            max_input_spec = np.outer(np.ones(len(w_upper)), np.max(input_spec, axis=0) )\n",
    "            # filtering relative to the power along w-axis otherwise spectral noise in the center moves the cone to the center\n",
    "            input_spec = np.where(input_spec>0.1*max_input_spec, input_spec, 0)\n",
    "            pow = 1#0.3\n",
    "            pow2 = 1\n",
    "            w_peaks = (np.sum(input_spec**pow * ww**pow2, axis=0)/np.sum(input_spec**pow, axis=0))**(1./pow2)\n",
    "            w_matrix[:,i] = savgol_filter(w_peaks, 31, 3)#w_peaks\n",
    "            \n",
    "            if plot_it:\n",
    "                import pylab as plt\n",
    "                scaled_2d = spec_pol[:,k_min_ind:k_max_ind,i]/np.max(spec_pol[:,k_min_ind:k_max_ind,i])\n",
    "                #plotting_interface.plot_k_w_spec(k_rel, w_upper, np.log10(scaled_2d).T, extent=[0.03, 0.35, 0.5, 1.9])\n",
    "                plotting_interface.plot_k_w_spec(k_rel, w_upper, (input_spec).T, extent=[0.03, 0.35, 0.5, 1.9])\n",
    "                #plotting_interface.plot(k_rel, w_peaks)\n",
    "                #plt.plot(k_rel, w_peaks, 'k-.')\n",
    "                plt.plot(k_rel, savgol_filter(w_peaks, 31, 3), 'w')\n",
    "                plt.plot(k_rel, np.sqrt(9.81*k_rel) + k_rel*get_U_eff(k_rel)*np.cos(-theta_rel[i]),'--', color='darkorange')\n",
    "                #plt.xlim(0.055, 0.085)\n",
    "                #plt.ylim(0.65, 0.95)\n",
    "                #plotting_interface.savefig('images/disp_rel_est_0_detail_above.pdf'.format(i))\n",
    "                plotting_interface.show()\n",
    "        return k_rel, theta_rel, w_matrix"
   ]
  },
  {
   "cell_type": "code",
   "execution_count": null,
   "id": "6202e14f",
   "metadata": {
    "scrolled": true
   },
   "outputs": [],
   "source": [
    "k_rel, theta_rel, w_matrix = estimate_dispersion_cone(spec3d, h=1000, Umax=1, kmin=0.04, kmax=0.5, plot_it=True)"
   ]
  },
  {
   "cell_type": "code",
   "execution_count": null,
   "id": "882c281e",
   "metadata": {},
   "outputs": [],
   "source": [
    "k_rel.shape"
   ]
  },
  {
   "cell_type": "code",
   "execution_count": null,
   "id": "36bf4d6b",
   "metadata": {},
   "outputs": [],
   "source": [
    "theta_rel.shape"
   ]
  },
  {
   "cell_type": "code",
   "execution_count": null,
   "id": "4b56145d",
   "metadata": {},
   "outputs": [],
   "source": [
    "w_matrix.shape"
   ]
  },
  {
   "cell_type": "code",
   "execution_count": null,
   "id": "97d23451",
   "metadata": {},
   "outputs": [],
   "source": [
    "jx = []\n",
    "jy = []\n",
    "wj = []\n",
    "\n",
    "for i in range(len(theta_rel)):\n",
    "    \n",
    "    jx.append( k_rel * np.cos( theta_rel[i] ) )\n",
    "    jy.append( k_rel * np.sin( theta_rel[i] ) )  \n",
    "    \n",
    "    wj.append( w_matrix[:,i] )"
   ]
  },
  {
   "cell_type": "code",
   "execution_count": null,
   "id": "2de42ec4",
   "metadata": {},
   "outputs": [],
   "source": [
    "wj[0]"
   ]
  },
  {
   "cell_type": "code",
   "execution_count": null,
   "id": "299bf3be",
   "metadata": {},
   "outputs": [],
   "source": [
    "# Create a meshgrid for kx and ky\n",
    "kx, ky = np.meshgrid(Kx, Ky)\n",
    "\n",
    "# Assuming Ux is an array with the same shape as kx and ky\n",
    "Ux_values = Uk[:,0]\n",
    "\n",
    "# Calculate w values using the function\n",
    "w_values = w_dr(kx, ky, Ux_values[:, np.newaxis, np.newaxis], 0)\n",
    "\n",
    "# Flatten the arrays\n",
    "kx_flat = kx.flatten()\n",
    "ky_flat = ky.flatten()\n",
    "w_values_flat = w_values.flatten()\n",
    "\n",
    "# Plot the function in 3D space\n",
    "fig = plt.figure(figsize=(7,7))\n",
    "ax = fig.add_subplot(111, projection='3d')\n",
    "ax.plot_trisurf(kx_flat, ky_flat, w_values_flat, alpha=0.3, cmap= ListedColormap(['blue']) )#'viridis'\n",
    "\n",
    "# Set labels\n",
    "ax.set_xlabel('kx')\n",
    "ax.set_ylabel('ky')\n",
    "ax.set_zlabel('w')\n",
    "\n",
    "plt.title(\"Triplets Dispersion Relation Surface\")\n",
    "\n",
    "for i in range(len(theta_rel)):\n",
    "    ax.scatter( jx[i], jy[i], wj[i], color='red', marker='o', s=2)\n",
    "    \n",
    "\n",
    "#disp_kx, disp_ky, disp_ww = plot_disp_shell(ax, h=1000, z = z, U = U, psi = 0)\n",
    "\n",
    "# Show the plot\n",
    "plt.show()"
   ]
  },
  {
   "cell_type": "markdown",
   "id": "f4191a1e",
   "metadata": {},
   "source": [
    "# Consider 2 triplets"
   ]
  },
  {
   "cell_type": "code",
   "execution_count": null,
   "id": "5bae01e6",
   "metadata": {},
   "outputs": [],
   "source": [
    "kx_2 = jx_flat\n",
    "ky_2 = jy_flat\n",
    "w_2 = wj_flat\n",
    "# try do it with all of triplets in above diagram "
   ]
  },
  {
   "cell_type": "code",
   "execution_count": null,
   "id": "5bd5d0e9",
   "metadata": {},
   "outputs": [],
   "source": [
    "kx_2 = np.array(kx_trip) [count_greater_than_big//2:]\n",
    "ky_2 = np.array(ky_trip) [count_greater_than_big//2:]\n",
    "w_2 = np.array( w_trip )[count_greater_than_big//2:]"
   ]
  },
  {
   "cell_type": "code",
   "execution_count": null,
   "id": "a2426c60",
   "metadata": {},
   "outputs": [],
   "source": [
    "kx_2 = np.array([ jx[0][50], jx[0][100]])\n",
    "ky_2 = np.array([ jy[0][50], jy[0][100]])\n",
    "w_2 = np.array([ wj[0][50], wj[0][100]])"
   ]
  },
  {
   "cell_type": "code",
   "execution_count": null,
   "id": "a4f9bd06",
   "metadata": {},
   "outputs": [],
   "source": [
    "kx_2"
   ]
  },
  {
   "cell_type": "code",
   "execution_count": null,
   "id": "dcff9314",
   "metadata": {},
   "outputs": [],
   "source": [
    "ky_2"
   ]
  },
  {
   "cell_type": "code",
   "execution_count": null,
   "id": "69d76b43",
   "metadata": {},
   "outputs": [],
   "source": [
    "w_2"
   ]
  },
  {
   "cell_type": "code",
   "execution_count": null,
   "id": "91cb83ce",
   "metadata": {},
   "outputs": [],
   "source": [
    " np.sqrt(kx_2**2+ky_2**2)"
   ]
  },
  {
   "cell_type": "code",
   "execution_count": null,
   "id": "665e9b68",
   "metadata": {},
   "outputs": [],
   "source": [
    "k[355]"
   ]
  },
  {
   "cell_type": "code",
   "execution_count": null,
   "id": "7845340f",
   "metadata": {},
   "outputs": [],
   "source": [
    "k[655]"
   ]
  },
  {
   "cell_type": "code",
   "execution_count": null,
   "id": "86d35f59",
   "metadata": {},
   "outputs": [],
   "source": [
    "Uk[:,0][335]\n",
    "# correct U"
   ]
  },
  {
   "cell_type": "code",
   "execution_count": null,
   "id": "d1b8c065",
   "metadata": {},
   "outputs": [],
   "source": [
    "Uk[:,0][655]\n",
    "# correct U"
   ]
  },
  {
   "cell_type": "code",
   "execution_count": null,
   "id": "f9e29507",
   "metadata": {},
   "outputs": [],
   "source": [
    "import numpy as np\n",
    "from scipy.optimize import minimize\n",
    "\n",
    "# Define the function Q(Ux, Uy=0) for each element in kx_2\n",
    "def Q(Ux, kx, ky, w):\n",
    "    Uy = 0  # Fixed value for Uy\n",
    "    return np.sum( (w - np.sqrt(9.81 * np.sqrt(kx**2 + ky**2)) - kx * Ux - ky * Uy)**2)\n",
    "\n",
    "# Initialize empty arrays to store optimized values\n",
    "Ux_optimized = np.zeros_like(kx_2)\n",
    "Uy_optimized = np.zeros_like(ky_2)\n",
    "\n",
    "# Optimize Ux separately for each element in kx_2\n",
    "for i in range(len(kx_2)):\n",
    "    result = minimize(Q, x0=0, args=(kx_2[i], ky_2[i], w_2[i]), method='BFGS')\n",
    "    Ux_optimized[i] = result.x\n",
    "    Uy_optimized[i] = 0\n",
    "\n",
    "print(\"Optimized Ux:\", Ux_optimized)\n",
    "print(\"Optimized Uy:\", Uy_optimized)\n"
   ]
  },
  {
   "cell_type": "code",
   "execution_count": null,
   "id": "66b7538d",
   "metadata": {},
   "outputs": [],
   "source": [
    "plt.scatter( np.sqrt(kx_2**2 + ky_2**2), np.array(Ux_optimized), label='using trips', s = 5)\n",
    "plt.plot(k, Uk[:,0], label = 'Correct U', color='red')\n",
    "\n",
    "plt.grid(True)\n",
    "plt.legend()\n",
    "plt.xlabel(\"k\")\n",
    "plt.ylabel(\"U\")\n",
    "\n",
    "plt.xlim(0,0.35)\n",
    "plt.ylim(0,1)"
   ]
  },
  {
   "cell_type": "code",
   "execution_count": null,
   "id": "76496578",
   "metadata": {},
   "outputs": [],
   "source": [
    "k_trip = np.sqrt(kx_2**2 + ky_2**2)\n",
    "w = np.array(Ux_optimized),"
   ]
  },
  {
   "cell_type": "code",
   "execution_count": null,
   "id": "4627c12c",
   "metadata": {},
   "outputs": [],
   "source": [
    "# Use fitting function\n",
    "def power_law_function(x, a, b, c):\n",
    "    return a * x**b + c\n",
    "\n",
    "# Fit the curve\n",
    "param, covariance = curve_fit(power_law_function, k_trip, w)\n",
    "a, b, c = param\n",
    "\n",
    "# Fitted curve points\n",
    "k_fit = np.linspace(min(k_trip), max(k_trip), len(k_trip))\n",
    "y_fit = power_law_function(k_fit, a, b, c)\n",
    "\n",
    "# Plot data and fitted curve\n",
    "plt.scatter(k_trip, w, label='Triplets $\\omega$ ', s=20, color='blue')\n",
    "plt.plot(k_fit, y_fit, label='Power Law Fitted', color='red')\n",
    "\n",
    "plt.ylabel('$\\omega$')\n",
    "plt.xlabel('k')\n",
    "plt.grid(True)\n",
    "plt.legend()"
   ]
  },
  {
   "cell_type": "code",
   "execution_count": null,
   "id": "62a92b86",
   "metadata": {
    "scrolled": false
   },
   "outputs": [],
   "source": [
    "Q(0.6267807247345579)"
   ]
  },
  {
   "cell_type": "code",
   "execution_count": null,
   "id": "69435601",
   "metadata": {},
   "outputs": [],
   "source": []
  },
  {
   "cell_type": "code",
   "execution_count": null,
   "id": "29f354c7",
   "metadata": {},
   "outputs": [],
   "source": []
  },
  {
   "cell_type": "code",
   "execution_count": null,
   "id": "ea455bb4",
   "metadata": {},
   "outputs": [],
   "source": []
  },
  {
   "cell_type": "markdown",
   "id": "a8cfbeec",
   "metadata": {},
   "source": [
    "# Try to do it for all triplets"
   ]
  },
  {
   "cell_type": "code",
   "execution_count": null,
   "id": "8b208d9d",
   "metadata": {},
   "outputs": [],
   "source": [
    "np.sqrt(jx**2+jy**2)"
   ]
  },
  {
   "cell_type": "code",
   "execution_count": null,
   "id": "6bc5510d",
   "metadata": {},
   "outputs": [],
   "source": []
  },
  {
   "cell_type": "code",
   "execution_count": null,
   "id": "b65bd676",
   "metadata": {},
   "outputs": [],
   "source": [
    "kx_new = jx.flatten()\n",
    "ky_new = jy.flatten()\n",
    "w_new = wj.flatten()"
   ]
  },
  {
   "cell_type": "code",
   "execution_count": null,
   "id": "67997f64",
   "metadata": {},
   "outputs": [],
   "source": [
    "w_new.shape"
   ]
  },
  {
   "cell_type": "code",
   "execution_count": null,
   "id": "f1f373ea",
   "metadata": {},
   "outputs": [],
   "source": [
    "def w0(kx, ky):\n",
    "    return np.sqrt( 9.81 * np.sqrt( kx**2 + ky**2 ) )"
   ]
  },
  {
   "cell_type": "code",
   "execution_count": null,
   "id": "d39e5f54",
   "metadata": {},
   "outputs": [],
   "source": [
    "import numpy as np\n",
    "from scipy.optimize import minimize\n",
    "\n",
    "# Define constants\n",
    "g = 9.81\n",
    "\n",
    "# Define the cost function\n",
    "def cost_function(params, kx, ky, w):\n",
    "    Ux, Uy = params\n",
    "    k = np.sqrt(kx**2 + ky**2)\n",
    "    w0 = np.sqrt(g * np.sqrt(kx**2 + ky**2))\n",
    "    return np.sum((w - w0 - kx*Ux - ky*Uy)**2)\n",
    "\n",
    "# Perform optimization for each triplet\n",
    "results = []\n",
    "for i in range(len(kx_new)):\n",
    "    triplet_cost_function = lambda params: cost_function(params, kx_new[i], ky_new[i], w_new[i])\n",
    "    initial_guess = [U[:len(kx_new)], 0]  # Initial guess for Ux and Uy\n",
    "    result = minimize(triplet_cost_function, initial_guess, method='L-BFGS-B')\n",
    "    results.append(result.x)\n",
    "\n",
    "# Extract Ux and Uy values for each triplet\n",
    "Ux_values, Uy_values = zip(*results)\n",
    "\n",
    "# Print or use the results as needed\n",
    "print(\"Ux values:\", Ux_values)\n",
    "print(\"Uy values:\", Uy_values)\n"
   ]
  },
  {
   "cell_type": "code",
   "execution_count": null,
   "id": "54c015f3",
   "metadata": {},
   "outputs": [],
   "source": [
    "Ux = np.array(Ux_values)\n",
    "Uy = np.array(Uy_values)"
   ]
  },
  {
   "cell_type": "code",
   "execution_count": null,
   "id": "a1664138",
   "metadata": {},
   "outputs": [],
   "source": [
    "k_new = np.sqrt(kx_new**2+ky_new**2)"
   ]
  },
  {
   "cell_type": "code",
   "execution_count": null,
   "id": "09b6a4b0",
   "metadata": {},
   "outputs": [],
   "source": []
  },
  {
   "cell_type": "code",
   "execution_count": null,
   "id": "12abaef8",
   "metadata": {},
   "outputs": [],
   "source": [
    "plt.plot(k_new,Ux)\n",
    "#plt.plot(k_new,Uy)\n",
    "plt.plot(k, Uk[:,0], label = 'Correct U', color='red')\n",
    "\n",
    "\n",
    "plt.grid(True)"
   ]
  },
  {
   "cell_type": "code",
   "execution_count": null,
   "id": "f3116151",
   "metadata": {},
   "outputs": [],
   "source": []
  },
  {
   "cell_type": "code",
   "execution_count": null,
   "id": "9061e449",
   "metadata": {},
   "outputs": [],
   "source": []
  },
  {
   "cell_type": "code",
   "execution_count": null,
   "id": "4c2e9236",
   "metadata": {},
   "outputs": [],
   "source": []
  },
  {
   "cell_type": "code",
   "execution_count": null,
   "id": "d6a67e25",
   "metadata": {},
   "outputs": [],
   "source": []
  },
  {
   "cell_type": "code",
   "execution_count": null,
   "id": "b06365d7",
   "metadata": {},
   "outputs": [],
   "source": []
  },
  {
   "cell_type": "code",
   "execution_count": null,
   "id": "729a81a0",
   "metadata": {},
   "outputs": [],
   "source": []
  },
  {
   "cell_type": "code",
   "execution_count": null,
   "id": "21769b96",
   "metadata": {},
   "outputs": [],
   "source": []
  },
  {
   "cell_type": "code",
   "execution_count": null,
   "id": "f38604f1",
   "metadata": {},
   "outputs": [],
   "source": []
  },
  {
   "cell_type": "code",
   "execution_count": null,
   "id": "1581557c",
   "metadata": {},
   "outputs": [],
   "source": []
  },
  {
   "cell_type": "code",
   "execution_count": null,
   "id": "18bf58ae",
   "metadata": {},
   "outputs": [],
   "source": []
  },
  {
   "cell_type": "code",
   "execution_count": null,
   "id": "d0513258",
   "metadata": {},
   "outputs": [],
   "source": []
  },
  {
   "cell_type": "code",
   "execution_count": null,
   "id": "f0b56dd2",
   "metadata": {},
   "outputs": [],
   "source": []
  },
  {
   "cell_type": "code",
   "execution_count": null,
   "id": "3e5c754a",
   "metadata": {},
   "outputs": [],
   "source": []
  },
  {
   "cell_type": "code",
   "execution_count": null,
   "id": "8f6ba0e7",
   "metadata": {},
   "outputs": [],
   "source": []
  },
  {
   "cell_type": "code",
   "execution_count": null,
   "id": "90846d1e",
   "metadata": {},
   "outputs": [],
   "source": []
  },
  {
   "cell_type": "code",
   "execution_count": null,
   "id": "6fa350ae",
   "metadata": {},
   "outputs": [],
   "source": []
  },
  {
   "cell_type": "code",
   "execution_count": null,
   "id": "130f6513",
   "metadata": {},
   "outputs": [],
   "source": []
  },
  {
   "cell_type": "code",
   "execution_count": null,
   "id": "d3bfa0a1",
   "metadata": {},
   "outputs": [],
   "source": []
  },
  {
   "cell_type": "code",
   "execution_count": null,
   "id": "a2d0f24f",
   "metadata": {},
   "outputs": [],
   "source": []
  },
  {
   "cell_type": "code",
   "execution_count": null,
   "id": "9b755dc8",
   "metadata": {},
   "outputs": [],
   "source": [
    "# Remember that w0 is constant for all angles"
   ]
  },
  {
   "cell_type": "code",
   "execution_count": null,
   "id": "48d64436",
   "metadata": {},
   "outputs": [],
   "source": [
    "w0 = []\n",
    "k_new = np.sqrt( jx**2 + jy **2 ) \n",
    "\n",
    "for i in range(len(theta_rel)):\n",
    "    w0.append(np.sqrt( 9.81 * k_new[i] )  )"
   ]
  },
  {
   "cell_type": "code",
   "execution_count": null,
   "id": "2874b41e",
   "metadata": {},
   "outputs": [],
   "source": [
    "# Given data\n",
    "w0 = w0[1]\n",
    "k = k_new[0][:90]\n",
    "N1 = np.prod(jx.shape)"
   ]
  },
  {
   "cell_type": "code",
   "execution_count": null,
   "id": "7e7fcc9b",
   "metadata": {},
   "outputs": [],
   "source": [
    "import numpy as np\n",
    "from scipy.optimize import minimize\n",
    "\n",
    "# Calculate k_i\n",
    "#k np.sqrt(jx**2 + jy**2)\n",
    "\n",
    "# Define the objective function to be minimized\n",
    "def obj_function(U, k, wj, w0):\n",
    "    return np.sum((wj - w0 - k * U)**2)\n",
    "\n",
    "# Iterate over each k and find the corresponding U\n",
    "U_values = []\n",
    "for ki_value in k:\n",
    "    # Define the minimization problem\n",
    "    minimization_result = minimize( obj_function , x0=0, args=(ki_value, wj, w0),method='L-BFGS-B')  \n",
    "    \n",
    "    # Store the optimal U value\n",
    "    U_optimal = minimization_result.x[0]\n",
    "    U_values.append(U_optimal)\n",
    "\n",
    "# Print or use U_values as needed\n",
    "print(\"Optimal U values for each k:\", U_values)\n"
   ]
  },
  {
   "cell_type": "code",
   "execution_count": null,
   "id": "175a8708",
   "metadata": {},
   "outputs": [],
   "source": [
    "plt.plot(k, np.array( U_values))\n",
    "\n",
    "plt.grid(True)\n",
    "plt.xlabel('k')\n",
    "plt.ylabel('U')"
   ]
  },
  {
   "cell_type": "code",
   "execution_count": null,
   "id": "dc6b2b92",
   "metadata": {},
   "outputs": [],
   "source": [
    "np.prod(jx.shape)"
   ]
  },
  {
   "cell_type": "code",
   "execution_count": null,
   "id": "7da585d6",
   "metadata": {
    "scrolled": true
   },
   "outputs": [],
   "source": [
    "jx.shape"
   ]
  },
  {
   "cell_type": "code",
   "execution_count": null,
   "id": "027c8294",
   "metadata": {},
   "outputs": [],
   "source": [
    "k"
   ]
  },
  {
   "cell_type": "code",
   "execution_count": null,
   "id": "dcbb1ecb",
   "metadata": {},
   "outputs": [],
   "source": [
    "w0 = []\n",
    "k = np.sqrt( jx**2 + jy **2 ) \n",
    "\n",
    "for i in range(len(theta_rel)):\n",
    "    w0.append(np.sqrt( 9.81 * k[i] )  )\n",
    "    "
   ]
  },
  {
   "cell_type": "code",
   "execution_count": null,
   "id": "ec30cac8",
   "metadata": {},
   "outputs": [],
   "source": [
    "w0 = np.array(w0)\n",
    "w0.shape"
   ]
  },
  {
   "cell_type": "code",
   "execution_count": null,
   "id": "a6f8d9f3",
   "metadata": {},
   "outputs": [],
   "source": [
    "for i in range(len(theta_rel)):\n",
    "    plt.plot(k[i], w0[i])\n",
    "\n",
    "plt.grid(True)\n",
    "plt.xlabel('k')\n",
    "plt.ylabel('$\\omega$')\n",
    "plt.title(\"Dispersion Relation w0\")"
   ]
  },
  {
   "cell_type": "code",
   "execution_count": null,
   "id": "32d6cb89",
   "metadata": {},
   "outputs": [],
   "source": [
    "w0"
   ]
  },
  {
   "cell_type": "code",
   "execution_count": null,
   "id": "4de35d8e",
   "metadata": {},
   "outputs": [],
   "source": [
    "theta_rel"
   ]
  },
  {
   "cell_type": "code",
   "execution_count": null,
   "id": "7a8b15b5",
   "metadata": {},
   "outputs": [],
   "source": [
    "jx = np.array(jx)\n",
    "jy = np.array(jy)\n",
    "wj = np.array(wj)"
   ]
  },
  {
   "cell_type": "code",
   "execution_count": null,
   "id": "9030d760",
   "metadata": {},
   "outputs": [],
   "source": [
    "jx_flat = jx.flatten()\n",
    "jy_flat = jy.flatten()\n",
    "wj_flat = wj.flatten()"
   ]
  },
  {
   "cell_type": "code",
   "execution_count": null,
   "id": "dd3f2ed7",
   "metadata": {},
   "outputs": [],
   "source": [
    "# Plot the function in 3D space\n",
    "fig = plt.figure(figsize=(7,7))\n",
    "ax = fig.add_subplot(111, projection='3d')\n",
    "#ax.plot_trisurf(kx_flat, ky_flat, w_values_flat, alpha=0.3, cmap= ListedColormap(['blue']) )#'viridis'\n",
    "\n",
    "# Set labels\n",
    "ax.set_xlabel('kx')\n",
    "ax.set_ylabel('ky')\n",
    "ax.set_zlabel('w')\n",
    "\n",
    "plt.title(\"Triplets Dispersion Relation Surface\")\n",
    "\n",
    "ax.scatter( jx_flat,  jy_flat, wj_flat, color='blue', marker='o', s=2)\n",
    "    \n",
    "\n",
    "#disp_kx, disp_ky, disp_ww = plot_disp_shell(ax, h=1000, z = z, U = U, psi = 0)\n",
    "\n",
    "# Show the plot\n",
    "plt.show()"
   ]
  },
  {
   "cell_type": "code",
   "execution_count": null,
   "id": "e11681bc",
   "metadata": {},
   "outputs": [],
   "source": []
  },
  {
   "cell_type": "code",
   "execution_count": null,
   "id": "ba5e623d",
   "metadata": {},
   "outputs": [],
   "source": []
  },
  {
   "cell_type": "code",
   "execution_count": null,
   "id": "b35e3295",
   "metadata": {
    "scrolled": true
   },
   "outputs": [],
   "source": [
    "jx_flat = jx.flatten()"
   ]
  },
  {
   "cell_type": "code",
   "execution_count": null,
   "id": "2ff7bbac",
   "metadata": {},
   "outputs": [],
   "source": []
  },
  {
   "cell_type": "code",
   "execution_count": null,
   "id": "68147b7b",
   "metadata": {},
   "outputs": [],
   "source": []
  },
  {
   "cell_type": "code",
   "execution_count": null,
   "id": "bf312ccc",
   "metadata": {},
   "outputs": [],
   "source": []
  },
  {
   "cell_type": "code",
   "execution_count": null,
   "id": "89affdea",
   "metadata": {},
   "outputs": [],
   "source": []
  },
  {
   "cell_type": "code",
   "execution_count": null,
   "id": "6660cc27",
   "metadata": {},
   "outputs": [],
   "source": []
  },
  {
   "cell_type": "code",
   "execution_count": null,
   "id": "779851a4",
   "metadata": {},
   "outputs": [],
   "source": []
  },
  {
   "cell_type": "code",
   "execution_count": null,
   "id": "32334f4a",
   "metadata": {},
   "outputs": [],
   "source": []
  },
  {
   "cell_type": "code",
   "execution_count": null,
   "id": "d62a7a44",
   "metadata": {},
   "outputs": [],
   "source": []
  },
  {
   "cell_type": "code",
   "execution_count": null,
   "id": "324dc1c6",
   "metadata": {},
   "outputs": [],
   "source": []
  },
  {
   "cell_type": "code",
   "execution_count": null,
   "id": "f5e6a8ae",
   "metadata": {},
   "outputs": [],
   "source": []
  },
  {
   "cell_type": "code",
   "execution_count": null,
   "id": "bf8f58da",
   "metadata": {},
   "outputs": [],
   "source": []
  },
  {
   "cell_type": "code",
   "execution_count": null,
   "id": "b0742da3",
   "metadata": {},
   "outputs": [],
   "source": []
  },
  {
   "cell_type": "code",
   "execution_count": null,
   "id": "ab306945",
   "metadata": {},
   "outputs": [],
   "source": []
  },
  {
   "cell_type": "code",
   "execution_count": null,
   "id": "89ce2965",
   "metadata": {},
   "outputs": [],
   "source": []
  },
  {
   "cell_type": "code",
   "execution_count": null,
   "id": "0b972ed8",
   "metadata": {},
   "outputs": [],
   "source": []
  },
  {
   "cell_type": "code",
   "execution_count": null,
   "id": "9bf6b18f",
   "metadata": {},
   "outputs": [],
   "source": []
  },
  {
   "cell_type": "code",
   "execution_count": null,
   "id": "0f718a0e",
   "metadata": {},
   "outputs": [],
   "source": []
  },
  {
   "cell_type": "code",
   "execution_count": null,
   "id": "b21fc041",
   "metadata": {},
   "outputs": [],
   "source": []
  },
  {
   "cell_type": "code",
   "execution_count": null,
   "id": "ee4a91d0",
   "metadata": {},
   "outputs": [],
   "source": []
  },
  {
   "cell_type": "code",
   "execution_count": null,
   "id": "09eb2139",
   "metadata": {},
   "outputs": [],
   "source": []
  },
  {
   "cell_type": "code",
   "execution_count": null,
   "id": "b1eb0306",
   "metadata": {},
   "outputs": [],
   "source": []
  },
  {
   "cell_type": "code",
   "execution_count": null,
   "id": "3c8e6ecf",
   "metadata": {},
   "outputs": [],
   "source": []
  },
  {
   "cell_type": "code",
   "execution_count": null,
   "id": "caba7f41",
   "metadata": {},
   "outputs": [],
   "source": []
  },
  {
   "cell_type": "code",
   "execution_count": null,
   "id": "6bb4d429",
   "metadata": {},
   "outputs": [],
   "source": []
  },
  {
   "cell_type": "code",
   "execution_count": null,
   "id": "f59bc03f",
   "metadata": {},
   "outputs": [],
   "source": []
  },
  {
   "cell_type": "code",
   "execution_count": null,
   "id": "a8d53552",
   "metadata": {},
   "outputs": [],
   "source": []
  },
  {
   "cell_type": "code",
   "execution_count": null,
   "id": "f82c9e9a",
   "metadata": {},
   "outputs": [],
   "source": []
  },
  {
   "cell_type": "code",
   "execution_count": null,
   "id": "81b9647a",
   "metadata": {},
   "outputs": [],
   "source": []
  },
  {
   "cell_type": "code",
   "execution_count": null,
   "id": "2c9e8a4e",
   "metadata": {},
   "outputs": [],
   "source": []
  },
  {
   "cell_type": "code",
   "execution_count": null,
   "id": "41cd9201",
   "metadata": {},
   "outputs": [],
   "source": [
    "def plot_disp_relation_and_points_at_theta(spec_theta,  h, z, U, psi):\n",
    "    '''\n",
    "    This function finds the relationship between triplets found from spectrum from FFT \n",
    "    and the dispersion relation at specific theta. \n",
    "    It plots it in the Radial vs Omega Space. \n",
    "    '''\n",
    "\n",
    "    # (2) DISPERSION SURFACE\n",
    "    axes = fig.add_subplot(111, projection='3d')\n",
    "    disp_kx, disp_ky, disp_ww = plot_disp_shell(axes, h, z, U, psi = 0)\n",
    "    \n",
    "    # Convert Dispersion Surface to Polars by first removing mesh grid format\n",
    "    matrix_disp_r = np.sqrt( (disp_kx)**2 + (disp_ky)**2 )\n",
    "    disp_r = matrix_disp_r[:,0]\n",
    "    \n",
    "    matrix_disp_theta = np.arctan2(disp_ky,disp_kx)\n",
    "    disp_theta = matrix_disp_theta[0]\n",
    "    \n",
    "    nearest_index = np.argmin(np.abs(disp_theta - spec_theta))\n",
    "    disp_ww_for_theta = disp_ww[:, nearest_index]\n",
    "    \n",
    "    plt.plot(disp_r, disp_ww_for_theta, color='grey',zorder=0, label = 'Dispersion Relation at $\\Theta$')\n",
    "    plt.grid(True)\n",
    "    plt.xlabel('Radial Distance (r)')\n",
    "    plt.ylabel('$\\omega$')\n",
    "    plt.title(\"Dispersion Relation vs Triplets in Radial-Frequency Space\")\n",
    "    plt.legend()\n",
    "    \n",
    "    return disp_r, disp_ww_for_theta\n",
    "    \n",
    "    "
   ]
  },
  {
   "cell_type": "code",
   "execution_count": null,
   "id": "daf2352f",
   "metadata": {},
   "outputs": [],
   "source": [
    "disp_r, disp_ww_for_theta = plot_disp_relation_and_points_at_theta(0, h=1000, z = z, U=U, psi = 0)"
   ]
  },
  {
   "cell_type": "code",
   "execution_count": null,
   "id": "bbd09466",
   "metadata": {},
   "outputs": [],
   "source": [
    "theta_rel"
   ]
  },
  {
   "cell_type": "code",
   "execution_count": null,
   "id": "5461c1f0",
   "metadata": {},
   "outputs": [],
   "source": [
    "# lets do it at theta = -1.34280431"
   ]
  },
  {
   "cell_type": "code",
   "execution_count": null,
   "id": "961c13c9",
   "metadata": {},
   "outputs": [],
   "source": [
    "theta_rel[13]"
   ]
  },
  {
   "cell_type": "code",
   "execution_count": null,
   "id": "c458f995",
   "metadata": {},
   "outputs": [],
   "source": [
    "disp_r, disp_ww_for_theta = plot_disp_relation_and_points_at_theta(theta_rel[13], h=1000, z = z, U=U, psi = 0)\n",
    "\n",
    "plt.scatter(np.sqrt(jx[13]**2+jy[13]**2),wj[13], color = 'red', s = 2)\n",
    "\n",
    "plt.plot(disp_r, np.sqrt(9.81*disp_r) + + disp_r* optimized_U2,  color = 'green')"
   ]
  },
  {
   "cell_type": "code",
   "execution_count": null,
   "id": "aa1b01fb",
   "metadata": {},
   "outputs": [],
   "source": [
    "k_TRIP = np.sqrt( jx[13]**2+jy[13]**2 )\n",
    "w_TRIP = wj[13]"
   ]
  },
  {
   "cell_type": "code",
   "execution_count": null,
   "id": "92ce2513",
   "metadata": {},
   "outputs": [],
   "source": [
    "k_trip = k_TRIP[:90]\n",
    "w_trip = w_TRIP[:90]"
   ]
  },
  {
   "cell_type": "code",
   "execution_count": null,
   "id": "67b60745",
   "metadata": {},
   "outputs": [],
   "source": [
    "w_0 = np.sqrt( 9.81 * k_trip )"
   ]
  },
  {
   "cell_type": "code",
   "execution_count": null,
   "id": "54e0cee1",
   "metadata": {},
   "outputs": [],
   "source": [
    "def obj(U, w_i, w_0, k):\n",
    "    return (w_i - w_0 - k*U)**2\n",
    "\n",
    "# Initial guess for U\n",
    "initial_U = np.zeros(len(k_trip))\n",
    "\n",
    "# Perform the least squares fit using least_squares\n",
    "result = least_squares(obj, initial_U, args=(w_trip,w_0 ,k_trip))\n",
    "\n",
    "# Optimized U values\n",
    "optimized_U1 = result.x\n",
    "\n",
    "# Print the optimized U values\n",
    "print(\"Optimized U values:\", optimized_U1)"
   ]
  },
  {
   "cell_type": "code",
   "execution_count": null,
   "id": "8ff3e818",
   "metadata": {},
   "outputs": [],
   "source": [
    "plt.scatter(k_trip, optimized_U1, label='Optimized U ', color='blue')\n",
    "plt.plot(k, Uk[:,0], label = 'Correct U', color='red')\n",
    "\n",
    "plt.scatter(disp_r, optimized_U2, label='Optimized U ', color='green')\n",
    "\n",
    "plt.grid(True)\n",
    "plt.legend()\n",
    "plt.ylabel(\"U\")\n",
    "plt.xlabel(\"k\")"
   ]
  },
  {
   "cell_type": "code",
   "execution_count": null,
   "id": "5307687d",
   "metadata": {},
   "outputs": [],
   "source": [
    "disp_r, disp_ww_for_theta"
   ]
  },
  {
   "cell_type": "code",
   "execution_count": null,
   "id": "5767d224",
   "metadata": {},
   "outputs": [],
   "source": [
    "w_0 = np.sqrt( 9.81 * disp_r )"
   ]
  },
  {
   "cell_type": "code",
   "execution_count": null,
   "id": "02c3e606",
   "metadata": {},
   "outputs": [],
   "source": [
    "def obj(U, w_i, w_0, k):\n",
    "    return (w_i - w_0 - k*U)**2\n",
    "\n",
    "# Initial guess for U\n",
    "initial_U = np.linspace(0.01, 0.6, len(disp_r))\n",
    "\n",
    "# Perform the least squares fit using least_squares\n",
    "result = least_squares(obj, initial_U, args=(disp_ww_for_theta, w_0 , disp_r))\n",
    "\n",
    "# Optimized U values\n",
    "optimized_U2 = result.x\n",
    "\n",
    "# Print the optimized U values\n",
    "print(\"Optimized U values:\", optimized_U2)"
   ]
  },
  {
   "cell_type": "code",
   "execution_count": null,
   "id": "3c80a3b3",
   "metadata": {},
   "outputs": [],
   "source": [
    "plt.scatter(disp_r, optimized_U2, label='Optimized U ', color='blue')\n",
    "plt.plot(k, Uk[:,0], label = 'Correct U', color='red')\n",
    "\n",
    "plt.grid(True)\n",
    "plt.legend()\n",
    "plt.ylabel(\"U\")\n",
    "plt.xlabel(\"k\")"
   ]
  },
  {
   "cell_type": "code",
   "execution_count": null,
   "id": "3167bb47",
   "metadata": {
    "scrolled": true
   },
   "outputs": [],
   "source": [
    "filtered_half_spec[i,:,:].shape"
   ]
  },
  {
   "cell_type": "code",
   "execution_count": null,
   "id": "2059ca21",
   "metadata": {},
   "outputs": [],
   "source": [
    "spec3d.kx[64]-spec3d.kx[63]"
   ]
  },
  {
   "cell_type": "code",
   "execution_count": null,
   "id": "1b8d3d71",
   "metadata": {},
   "outputs": [],
   "source": []
  },
  {
   "cell_type": "code",
   "execution_count": null,
   "id": "ad618aa7",
   "metadata": {},
   "outputs": [],
   "source": []
  },
  {
   "cell_type": "code",
   "execution_count": null,
   "id": "34f7e4fb",
   "metadata": {},
   "outputs": [],
   "source": [
    "aa"
   ]
  },
  {
   "cell_type": "code",
   "execution_count": null,
   "id": "54fc1e8d",
   "metadata": {},
   "outputs": [],
   "source": []
  },
  {
   "cell_type": "code",
   "execution_count": null,
   "id": "460d4974",
   "metadata": {},
   "outputs": [],
   "source": [
    "spec3d.Nt = 1200"
   ]
  },
  {
   "cell_type": "code",
   "execution_count": null,
   "id": "78fc2530",
   "metadata": {},
   "outputs": [],
   "source": [
    "spec3d.Nt"
   ]
  },
  {
   "cell_type": "code",
   "execution_count": null,
   "id": "7fcaf766",
   "metadata": {},
   "outputs": [],
   "source": [
    "spec3d.w[spec3d.Nt//2:].shape"
   ]
  },
  {
   "cell_type": "code",
   "execution_count": null,
   "id": "6053365b",
   "metadata": {},
   "outputs": [],
   "source": [
    "k, theta, spec_pol = polar_coordinates.cart2cylindrical(w_upper, self.kx, self.ky, filtered_half_spec, Ntheta=100)           "
   ]
  },
  {
   "cell_type": "code",
   "execution_count": null,
   "id": "e3ee6d4d",
   "metadata": {},
   "outputs": [],
   "source": [
    "half_spec = np.flip(spec3d.spectrum()[1:spec3d.Nt//2+1,:,:], axis=0)\n",
    "half_spec.T.shape"
   ]
  },
  {
   "cell_type": "code",
   "execution_count": null,
   "id": "a776e30e",
   "metadata": {},
   "outputs": [],
   "source": []
  },
  {
   "cell_type": "code",
   "execution_count": null,
   "id": "ca6d7063",
   "metadata": {},
   "outputs": [],
   "source": [
    "filtered_half_spec = gaussian_filter(half_spec, (0.5,0.3,0.3))\n",
    "filtered_half_spec.shape"
   ]
  },
  {
   "cell_type": "code",
   "execution_count": null,
   "id": "f69bcab4",
   "metadata": {},
   "outputs": [],
   "source": []
  },
  {
   "cell_type": "code",
   "execution_count": null,
   "id": "07808eee",
   "metadata": {},
   "outputs": [],
   "source": []
  },
  {
   "cell_type": "code",
   "execution_count": null,
   "id": "836495aa",
   "metadata": {},
   "outputs": [],
   "source": [
    "surf3d = surface_core.surface_from_file(\"C:\\\\Users\\josep\\Desktop\\PHYC40900_Project TP\\Data_NEW\\shearing_curr_res_7.5_dt_1.0_T_1200_U_1.0exp(0.5z)+0.05_psi_0_smax_30_0_surf3d.hdf5\")\n",
    "spec3d = surf3d.define_SpectralAnalysis()"
   ]
  },
  {
   "cell_type": "code",
   "execution_count": null,
   "id": "1b2ab900",
   "metadata": {},
   "outputs": [],
   "source": []
  },
  {
   "cell_type": "code",
   "execution_count": null,
   "id": "dceb157f",
   "metadata": {},
   "outputs": [],
   "source": [
    "# slice along kx = 0\n",
    "zero_indices = np.where( np.array(kx_trip) [47:] ==0 )\n",
    "zero_indices"
   ]
  },
  {
   "cell_type": "code",
   "execution_count": null,
   "id": "4a43400d",
   "metadata": {},
   "outputs": [],
   "source": [
    "ky_sliced = np.array(ky_trip) [47:] [zero_indices]\n",
    "ky_sliced"
   ]
  },
  {
   "cell_type": "code",
   "execution_count": null,
   "id": "ab32b78b",
   "metadata": {},
   "outputs": [],
   "source": [
    "w_sliced = np.array(w_trip) [47:] [zero_indices]\n",
    "w_sliced"
   ]
  },
  {
   "cell_type": "code",
   "execution_count": null,
   "id": "56005d46",
   "metadata": {},
   "outputs": [],
   "source": [
    "kx"
   ]
  },
  {
   "cell_type": "code",
   "execution_count": null,
   "id": "724eff31",
   "metadata": {},
   "outputs": [],
   "source": [
    "kx[:,33]"
   ]
  },
  {
   "cell_type": "code",
   "execution_count": null,
   "id": "bdb0a21b",
   "metadata": {},
   "outputs": [],
   "source": [
    "ky[:,33]"
   ]
  },
  {
   "cell_type": "code",
   "execution_count": null,
   "id": "62e4539f",
   "metadata": {},
   "outputs": [],
   "source": [
    "w_values.shape"
   ]
  },
  {
   "cell_type": "code",
   "execution_count": null,
   "id": "093b6b7f",
   "metadata": {},
   "outputs": [],
   "source": [
    "def sliced_at_0(ky):\n",
    "    g = 9.81\n",
    "    h = 1000\n",
    "    return np.sqrt( g * np.abs(ky) * np.tanh( h * np.abs(ky)))"
   ]
  },
  {
   "cell_type": "code",
   "execution_count": null,
   "id": "9db8a91d",
   "metadata": {},
   "outputs": [],
   "source": [
    "ky_sliced"
   ]
  },
  {
   "cell_type": "code",
   "execution_count": null,
   "id": "28bce112",
   "metadata": {},
   "outputs": [],
   "source": [
    "w_sliced"
   ]
  },
  {
   "cell_type": "code",
   "execution_count": null,
   "id": "55fd5e01",
   "metadata": {},
   "outputs": [],
   "source": [
    "plt.scatter(ky_sliced, w_sliced, color = 'red', s=2)\n",
    "\n",
    "kv = np.linspace(0.001, 0.4, 100)\n",
    "plt.plot(kv, sliced_at_0(kv) )\n",
    "\n",
    "plt.grid(True)\n",
    "plt.xlabel(\"ky\")\n",
    "plt.ylabel(\"w\")\n",
    "\n",
    "#plt.xlim(0.05,0.1)\n",
    "#plt.ylim(0.6,1)"
   ]
  },
  {
   "cell_type": "code",
   "execution_count": null,
   "id": "a45daf6b",
   "metadata": {},
   "outputs": [],
   "source": [
    "np.array([sliced_at_0(0.05001541), sliced_at_0(0.06251926), sliced_at_0(0.07502311), sliced_at_0(0.08752696)])"
   ]
  },
  {
   "cell_type": "code",
   "execution_count": null,
   "id": "42074982",
   "metadata": {},
   "outputs": [],
   "source": [
    "(0.7696902 + 0.77492619 + 0.78016218 + 0.78539816 + 0.80110613)/5"
   ]
  },
  {
   "cell_type": "code",
   "execution_count": null,
   "id": "32252564",
   "metadata": {},
   "outputs": [],
   "source": [
    "(0.83775804 + 0.84299403 + 0.86393798 + 0.87440996 + 0.89011792)/5"
   ]
  },
  {
   "cell_type": "code",
   "execution_count": null,
   "id": "f24f26e8",
   "metadata": {},
   "outputs": [],
   "source": [
    "(0.91106187 + 0.94771378)/2"
   ]
  },
  {
   "cell_type": "code",
   "execution_count": null,
   "id": "e389a9c2",
   "metadata": {},
   "outputs": [],
   "source": [
    "ky_trip = np.array([0.05001541, 0.06251926, 0.07502311, 0.08752696])\n",
    "w_trip = np.array([0.70046497, 0.782256572, 0.861843586, 0.9293878250000001])"
   ]
  },
  {
   "cell_type": "code",
   "execution_count": null,
   "id": "8726cae4",
   "metadata": {},
   "outputs": [],
   "source": [
    "plt.scatter(ky_trip, w_trip, color = 'red', s=20, label=\"Trips\")\n",
    "\n",
    "kv = np.linspace(0.001, 0.4, 100)\n",
    "plt.plot(kv, sliced_at_0(kv) , label='actual disp relation at slice kx=0')\n",
    "\n",
    "plt.grid(True)\n",
    "plt.xlabel(\"ky\")\n",
    "plt.ylabel(\"w\")\n",
    "\n",
    "plt.plot(kv, np.sqrt( 9.81 * kv), color = 'green')\n",
    "\n",
    "plt.legend()"
   ]
  },
  {
   "cell_type": "code",
   "execution_count": null,
   "id": "5c88c657",
   "metadata": {},
   "outputs": [],
   "source": [
    "# Use fitting function\n",
    "def power_law_function(x, a, b, c):\n",
    "    return a * x**b + c\n",
    "\n",
    "# Fit the curve\n",
    "param, covariance = curve_fit(power_law_function, ky_trip, w_trip)\n",
    "a, b, c = param\n",
    "\n",
    "# Fitted curve points\n",
    "k_fit = np.linspace(min(ky_trip), max(ky_trip), len(ky_trip))\n",
    "y_fit = power_law_function(k_fit, a, b, c)\n",
    "\n",
    "# Plot data and fitted curve\n",
    "plt.scatter(ky_trip, w_trip, label='Triplets $\\omega$ ', s=20, color='blue')\n",
    "plt.plot(k_fit, y_fit, label='Power Law Fitted', color='red')\n",
    "\n",
    "plt.ylabel('$\\omega$')\n",
    "plt.xlabel('k')\n",
    "plt.grid(True)\n",
    "plt.legend()"
   ]
  },
  {
   "cell_type": "code",
   "execution_count": null,
   "id": "b656d64e",
   "metadata": {},
   "outputs": [],
   "source": [
    "w_0 = np.sqrt( 9.81 * ky_trip)\n",
    "w_0"
   ]
  },
  {
   "cell_type": "code",
   "execution_count": null,
   "id": "7069aad0",
   "metadata": {},
   "outputs": [],
   "source": [
    "def obj(U, w_i, w_0, k):\n",
    "    return (w_i - w_0 - k*U)**2\n",
    "\n",
    "# Initial guess for U\n",
    "initial_U = [0.2, 0.24, 0.26, 0.29]\n",
    "\n",
    "# Perform the least squares fit using least_squares\n",
    "result = least_squares(obj, initial_U, args=(w_trip, w_0 ,ky_trip))\n",
    "\n",
    "# Optimized U values\n",
    "optimized_U = result.x\n",
    "\n",
    "# Print the optimized U values\n",
    "print(\"Optimized U values:\", optimized_U)"
   ]
  },
  {
   "cell_type": "code",
   "execution_count": null,
   "id": "1dd9ca1e",
   "metadata": {},
   "outputs": [],
   "source": []
  },
  {
   "cell_type": "code",
   "execution_count": null,
   "id": "a4a64d68",
   "metadata": {},
   "outputs": [],
   "source": [
    "plt.scatter(ky_trip, optimized_U, label='Optimized U ', color='blue')\n",
    "plt.plot(k, Uk[:,0], label = 'Correct U', color='red')\n",
    "\n",
    "plt.grid(True)\n",
    "plt.legend()\n",
    "plt.ylabel(\"U\")\n",
    "plt.xlabel(\"k\")"
   ]
  },
  {
   "cell_type": "code",
   "execution_count": null,
   "id": "ff8ddeb7",
   "metadata": {},
   "outputs": [],
   "source": [
    "# when kx = 0 then w_0 is the same as the dispersion surface altered by current \n",
    "# need to try another slice where theyre not the same and see if it works to get good velocities"
   ]
  },
  {
   "cell_type": "code",
   "execution_count": null,
   "id": "c67ed0be",
   "metadata": {},
   "outputs": [],
   "source": [
    "# try remove theta dependence and find velocity at each slice of theta \n",
    "\n",
    "# remove it being wrong because at different theta values there are different dispersion relations"
   ]
  },
  {
   "cell_type": "code",
   "execution_count": null,
   "id": "b27ad8c6",
   "metadata": {},
   "outputs": [],
   "source": []
  },
  {
   "cell_type": "code",
   "execution_count": null,
   "id": "b13f96ad",
   "metadata": {},
   "outputs": [],
   "source": []
  },
  {
   "cell_type": "code",
   "execution_count": null,
   "id": "4fb906d8",
   "metadata": {},
   "outputs": [],
   "source": []
  },
  {
   "cell_type": "code",
   "execution_count": null,
   "id": "d3348573",
   "metadata": {},
   "outputs": [],
   "source": []
  },
  {
   "cell_type": "code",
   "execution_count": null,
   "id": "9c134375",
   "metadata": {},
   "outputs": [],
   "source": []
  },
  {
   "cell_type": "code",
   "execution_count": null,
   "id": "b8e3f4e3",
   "metadata": {},
   "outputs": [],
   "source": []
  },
  {
   "cell_type": "markdown",
   "id": "e2d60d73",
   "metadata": {},
   "source": [
    "# Least Square Method "
   ]
  },
  {
   "cell_type": "code",
   "execution_count": 388,
   "id": "2966526f",
   "metadata": {},
   "outputs": [],
   "source": [
    "# psi = 0\n",
    "f = h5py.File('C:\\\\Users\\josep\\Desktop\\PHYC40900_Project TP\\Data_NEW\\shearing_curr_res_7.5_dt_1.0_T_1200_U_1.0exp(0.5z)+0.05_psi_0_smax_30_0_surf3d.hdf5', 'r')\n",
    "\n",
    "# psi = 30\n",
    "# f = h5py.File('C:\\\\Users\\josep\\Desktop\\PHYC40900_Project TP\\Data_NEW\\shearing_curr_res_7.5_dt_1.0_T_1200_U_1.0exp(0.5z)+0.05_psi_30_smax_70_0_surf3d.hdf5', 'r')"
   ]
  },
  {
   "cell_type": "code",
   "execution_count": 389,
   "id": "6e8a57cc",
   "metadata": {},
   "outputs": [],
   "source": [
    "x = f.get('x')\n",
    "y = f.get('y')\n",
    "z = f.get('z')\n",
    "t = f.get('t')\n",
    "k = f.get('k')\n",
    "U = f.get('U')\n",
    "Uk = f.get('Uk')\n",
    "eta = f.get('eta')\n",
    "x = np.array(x)\n",
    "y = np.array(y)\n",
    "z = np.array(z)\n",
    "t = np.array(t)\n",
    "k = np.array(k)\n",
    "U = np.array(U)\n",
    "Uk = np.array(Uk)\n",
    "eta = np.array(eta)"
   ]
  },
  {
   "cell_type": "code",
   "execution_count": 390,
   "id": "aa89e111",
   "metadata": {},
   "outputs": [],
   "source": [
    "# with psi = 0\n",
    "surf3d = surface_core.surface_from_file(\"C:\\\\Users\\josep\\Desktop\\PHYC40900_Project TP\\Data_NEW\\shearing_curr_res_7.5_dt_1.0_T_1200_U_1.0exp(0.5z)+0.05_psi_0_smax_30_0_surf3d.hdf5\")\n",
    "\n",
    "# with psi = 30\n",
    "# surf3d = surface_core.surface_from_file(\"C:\\\\Users\\josep\\Desktop\\PHYC40900_Project TP\\Data_NEW\\shearing_curr_res_7.5_dt_1.0_T_1200_U_1.0exp(0.5z)+0.05_psi_30_smax_70_0_surf3d.hdf5\")\n",
    "\n",
    "spec3d = surf3d.define_SpectralAnalysis()"
   ]
  },
  {
   "cell_type": "code",
   "execution_count": 391,
   "id": "1b253fba",
   "metadata": {},
   "outputs": [
    {
     "data": {
      "text/plain": [
       "(67, 67, 1200)"
      ]
     },
     "execution_count": 391,
     "metadata": {},
     "output_type": "execute_result"
    }
   ],
   "source": [
    "eta_flipped = np.transpose( np.flip(eta, axis= 2) , (1, 2, 0))\n",
    "eta_flipped.shape"
   ]
  },
  {
   "cell_type": "code",
   "execution_count": 392,
   "id": "6d1b0dbd",
   "metadata": {},
   "outputs": [
    {
     "data": {
      "text/plain": [
       "(67, 67, 1200)"
      ]
     },
     "execution_count": 392,
     "metadata": {},
     "output_type": "execute_result"
    }
   ],
   "source": [
    "eta = eta_flipped\n",
    "eta.shape"
   ]
  },
  {
   "cell_type": "code",
   "execution_count": 393,
   "id": "11a49b58",
   "metadata": {},
   "outputs": [
    {
     "data": {
      "text/plain": [
       "0.012503851357571316"
      ]
     },
     "execution_count": 393,
     "metadata": {},
     "output_type": "execute_result"
    }
   ],
   "source": [
    "dk = 2*np.pi/(dx*min(eta.shape[0], eta.shape[1]))\n",
    "dk"
   ]
  },
  {
   "cell_type": "code",
   "execution_count": 394,
   "id": "b2797b4e",
   "metadata": {},
   "outputs": [],
   "source": [
    "dx = 7.5 \n",
    "dy = 7.5\n",
    "dt = 1"
   ]
  },
  {
   "cell_type": "code",
   "execution_count": 395,
   "id": "7f322152",
   "metadata": {},
   "outputs": [],
   "source": [
    "Nx, Ny, Nt = eta.shape\n",
    "Kx = (2 * np.pi * 1 / dx / Nx) * np.arange(-np.ceil((Nx - 1) / 2), np.floor((Nx - 1) / 2) + 1) # 67 values\n",
    "Ky = (2 * np.pi * 1 / dy / Ny) * np.arange(-np.ceil((Ny - 1) / 2), np.floor((Ny - 1) / 2) + 1) # 67 Values\n",
    "w = (2 * np.pi * 1 / dt / Nt) * np.arange(-np.ceil((Nt - 1) / 2), np.floor((Nt - 1) / 2) + 1) # 1200 Values"
   ]
  },
  {
   "cell_type": "code",
   "execution_count": 396,
   "id": "d423828f",
   "metadata": {},
   "outputs": [],
   "source": [
    "dKx = Kx[1] - Kx[0]\n",
    "dKy = Ky[1] - Ky[0]\n",
    "dW = w[1] - w[0]\n",
    "Norm = dKx * dKy * dW"
   ]
  },
  {
   "cell_type": "code",
   "execution_count": 397,
   "id": "8a09eaed",
   "metadata": {},
   "outputs": [],
   "source": [
    "# Get power spectra\n",
    "Spectrum_raw = fftshift(fftn(eta) / np.prod(eta.shape))\n",
    "power_Spectrum = np.abs(Spectrum_raw / Norm)**2"
   ]
  },
  {
   "cell_type": "markdown",
   "id": "91eafd2a",
   "metadata": {},
   "source": [
    "## High Pass Filter"
   ]
  },
  {
   "cell_type": "code",
   "execution_count": 398,
   "id": "043fc3de",
   "metadata": {},
   "outputs": [],
   "source": [
    "I_0 = power_Spectrum\n",
    "w_cut = 0.03 * 2*np.pi"
   ]
  },
  {
   "cell_type": "code",
   "execution_count": 399,
   "id": "649f885e",
   "metadata": {},
   "outputs": [],
   "source": [
    "# Create a boolean mask based on the condition w >= w_cut\n",
    "mask = (w >= w_cut)"
   ]
  },
  {
   "cell_type": "code",
   "execution_count": 400,
   "id": "5286a4e8",
   "metadata": {},
   "outputs": [],
   "source": [
    "I_1 = np.where(mask[ None, None,:], I_0, 0)"
   ]
  },
  {
   "cell_type": "markdown",
   "id": "cba9f037",
   "metadata": {},
   "source": [
    "## Energy Threshold Feature "
   ]
  },
  {
   "cell_type": "code",
   "execution_count": 401,
   "id": "b1963c7c",
   "metadata": {},
   "outputs": [],
   "source": [
    "P = np.max(I_1) / 2000\n",
    "# Threshold\n",
    "\n",
    "condition = ( np.max(I_1, axis=2) >= P )\n",
    "# Is  maximum energy for each column vector along the ω axis > P"
   ]
  },
  {
   "cell_type": "code",
   "execution_count": 402,
   "id": "ef7344d6",
   "metadata": {},
   "outputs": [],
   "source": [
    "I_2 = np.where(condition[:, :, None], I_1, 0)"
   ]
  },
  {
   "cell_type": "markdown",
   "id": "6942bad9",
   "metadata": {},
   "source": [
    "## Peak Identification"
   ]
  },
  {
   "cell_type": "code",
   "execution_count": 403,
   "id": "2524020b",
   "metadata": {},
   "outputs": [],
   "source": [
    "from scipy.signal import find_peaks, peak_widths, peak_prominences"
   ]
  },
  {
   "cell_type": "code",
   "execution_count": 404,
   "id": "fce26a03",
   "metadata": {},
   "outputs": [],
   "source": [
    "def identification(kx, ky, ratio=10., prominence=1e5, distance=5):\n",
    "    \n",
    "    '''Scans for peaks and then sorts them by heights. \n",
    "    It keeps the peaks which are ratio times smaller than the next'''\n",
    "    \n",
    "    y = I_2[kx,ky,:]\n",
    "    wj = np.zeros((I_2.shape[0], I_2.shape[1]))\n",
    "    \n",
    "    if np.max(y) < 1:\n",
    "        wj[kx, ky] = 0\n",
    "    # If Power Spectrum is 0 then wj is 0\n",
    "    \n",
    "    else:\n",
    "        peaks, stats = find_peaks(y, prominence=prominence, distance=distance)\n",
    "        order = np.flip(np.argsort(stats[\"prominences\"]))\n",
    "\n",
    "        values = []\n",
    "\n",
    "        if len(peaks) == 1:\n",
    "            values.append(w[peaks[0]])\n",
    "            wj[kx,ky] = w[peaks[0]]\n",
    "\n",
    "        elif len(peaks) > 1:\n",
    "            for i, j in zip(order[:-1], order[1:]):\n",
    "                if stats[\"prominences\"][i] >= ratio * stats[\"prominences\"][j]:\n",
    "                    values.append(w[peaks[i]])\n",
    "                    wj[kx,ky] = w[peaks[i]]\n",
    "                    \n",
    "#        return {\n",
    "#            \"values\": values,\n",
    "#            \"order\": order,\n",
    "#            \"peaks\": peaks,\n",
    "#            \"stats\": stats,\n",
    "#        }\n",
    "    \n",
    "    return wj \n",
    "    # rteurns 2d array wj \n",
    "    # it will al be 0 if there are no prominent peaks \n",
    "    # Otherwise it will have the w value of the singular prominent peak and the ret will be 0 "
   ]
  },
  {
   "cell_type": "code",
   "execution_count": 405,
   "id": "a52405de",
   "metadata": {},
   "outputs": [],
   "source": [
    "wj_array = []\n",
    "\n",
    "for kx in range(I_2.shape[0]):\n",
    "    for ky in range(I_2.shape[1]):\n",
    "        wj_array.append(identification(kx, ky, ratio=10., prominence=1e5, distance=15))"
   ]
  },
  {
   "cell_type": "code",
   "execution_count": 406,
   "id": "f6ce2e24",
   "metadata": {},
   "outputs": [],
   "source": [
    "w0_2D = np.sum(wj_array, axis=0)\n",
    "# gives the 2d array w0(kx,ky)"
   ]
  },
  {
   "cell_type": "code",
   "execution_count": 407,
   "id": "2172930f",
   "metadata": {},
   "outputs": [],
   "source": [
    "w0 = w0_2D[w0_2D != 0]"
   ]
  },
  {
   "cell_type": "code",
   "execution_count": 408,
   "id": "e7e59751",
   "metadata": {},
   "outputs": [],
   "source": [
    "nonzero_indices = np.nonzero(w0_2D)"
   ]
  },
  {
   "cell_type": "code",
   "execution_count": 409,
   "id": "f55de802",
   "metadata": {},
   "outputs": [],
   "source": [
    "kx_indices = nonzero_indices[0]\n",
    "ky_indices = nonzero_indices[1]"
   ]
  },
  {
   "cell_type": "code",
   "execution_count": 410,
   "id": "5ad9faf7",
   "metadata": {},
   "outputs": [],
   "source": [
    "kx_trip = Kx[kx_indices]\n",
    "ky_trip = Ky[ky_indices]"
   ]
  },
  {
   "cell_type": "code",
   "execution_count": 411,
   "id": "fda01a11",
   "metadata": {},
   "outputs": [],
   "source": [
    "def plot_disp_shell(axes, h, z, U, psi, label='', plot_type='surf', linestyles='line', put_clabel=True):\n",
    "    g = 9.81\n",
    "    alpha = 0.5 # value that defines opacity in plot\n",
    "    dk = 0.005\n",
    "    k = np.arange(0.01, 0.35, dk)\n",
    "    dtheta=0.05\n",
    "    theta=np.arange(0, 2*np.pi+dtheta, dtheta)\n",
    "    kk, th = np.meshgrid(k, theta, indexing='ij')\n",
    "    U_eff = 2*kk*np.sum(U*np.exp(np.outer(2*kk,z)), axis=1).reshape(kk.shape)*np.abs(z[1]-z[0])\n",
    "    ww = kk*U_eff*np.cos(theta-psi) + np.sqrt(kk*g*np.tanh(kk*h))\n",
    "    kx = kk*np.cos(th)\n",
    "    ky = kk*np.sin(th)\n",
    "    if plot_type=='surf':\n",
    "        axes.plot_surface(kx, ky, ww, alpha=alpha, label=label)\n",
    "        axes.set_xlabel(r'$k_x~[\\mathrm{rad~m}^{-1}]$')\n",
    "        axes.set_ylabel(r'$k_y~[\\mathrm{rad~m}^{-1}]$')\n",
    "        axes.set_zlabel(r'$\\omega~[\\mathrm{rad~s}^{-1}]$')\n",
    "    elif plot_type=='contour':\n",
    "        levels = [0.6, 0.8, 1.0, 1.2, 1.4, 1.6, 1.8]\n",
    "        c = plt.contour(kx, ky, ww, levels=levels, linestyles=linestyles)#, label=label)\n",
    "        if put_clabel:\n",
    "            plt.clabel(c)\n",
    "        plt.xlabel(r'$k_x~[\\mathrm{rad~m}^{-1}]$') \n",
    "        plt.ylabel(r'$k_y~[\\mathrm{rad~m}^{-1}]$')\n",
    "        plt.axis('equal')\n",
    "        \n",
    "    return kx, ky, ww, kk, th"
   ]
  },
  {
   "cell_type": "code",
   "execution_count": 412,
   "id": "7fd77b46",
   "metadata": {},
   "outputs": [],
   "source": [
    "import matplotlib.patches as mpatches\n",
    "import matplotlib.lines as mlines"
   ]
  },
  {
   "cell_type": "code",
   "execution_count": 413,
   "id": "673e00b7",
   "metadata": {},
   "outputs": [
    {
     "data": {
      "image/png": "[encoded data removed]",
      "text/plain": [
       "<Figure size 720x504 with 1 Axes>"
      ]
     },
     "metadata": {
      "needs_background": "light"
     },
     "output_type": "display_data"
    }
   ],
   "source": [
    "# Creating figure\n",
    "fig = plt.figure(figsize = (10, 7))\n",
    "ax = plt.axes(projection =\"3d\")\n",
    " \n",
    "# Creating plot\n",
    "ax.scatter3D(-kx_trip, -ky_trip, w0, color = \"red\", s = 5)\n",
    "plt.title(\"Spectrum\")\n",
    "\n",
    "ax.set_xlabel('x')\n",
    "ax.set_ylabel('y')\n",
    "ax.set_zlabel('η(x,y)')\n",
    "\n",
    "kx, ky, ww, kk, th = plot_disp_shell(ax, h=1000, z=z, U=U, psi=0)\n",
    "\n",
    "# Create legend manually with a dot for 'Triplets'\n",
    "legend_elements = [\n",
    "    mlines.Line2D([0], [0], marker='o', color='w', markerfacecolor='red', markersize=10, label='Triplets'),\n",
    "    mlines.Line2D([0], [0], color='blue', label='Dispersion relation')\n",
    "]\n",
    "\n",
    "# Create legend\n",
    "ax.legend(handles=legend_elements)\n",
    " \n",
    "# show plot\n",
    "plt.show()"
   ]
  },
  {
   "cell_type": "code",
   "execution_count": 414,
   "id": "6fa93b19",
   "metadata": {},
   "outputs": [],
   "source": [
    "kx_2D, ky_2D= np.meshgrid(Kx, Ky, indexing='ij')"
   ]
  },
  {
   "cell_type": "code",
   "execution_count": 415,
   "id": "c75674de",
   "metadata": {},
   "outputs": [
    {
     "data": {
      "text/plain": [
       "(67, 67)"
      ]
     },
     "execution_count": 415,
     "metadata": {},
     "output_type": "execute_result"
    }
   ],
   "source": [
    "kx_2D.shape"
   ]
  },
  {
   "cell_type": "code",
   "execution_count": 731,
   "id": "76fe31f1",
   "metadata": {},
   "outputs": [],
   "source": [
    "# We have Triplet Points \n",
    "# We can now perform least squares fitting however from below it is obvious that it is highly dependent on the Guess values of U"
   ]
  },
  {
   "cell_type": "markdown",
   "id": "272f5e46",
   "metadata": {},
   "source": [
    "## 1) Use Initial Guess (0.1,0.1)"
   ]
  },
  {
   "cell_type": "code",
   "execution_count": 732,
   "id": "35fa6fbc",
   "metadata": {},
   "outputs": [],
   "source": [
    "def find_velocity(kx,ky):\n",
    "    # kx and ky are the indices \n",
    "    def objective_funct(U):\n",
    "        Ux, Uy = U \n",
    "        return ( w0_2D[kx, ky] - np.sqrt(9.81*np.sqrt(Kx[kx]**2 + Ky[ky]**2)) - Kx[kx]*Ux - Ky[ky]*Uy )**2\n",
    "\n",
    "    initial_guess = [0.1,0.1]\n",
    "    \n",
    "    result = minimize(objective_funct, initial_guess, method='BFGS')\n",
    "    \n",
    "    # Extract the optimized values of Ux and Uy\n",
    "    Ux_optimized, Uy_optimized = result.x\n",
    "    \n",
    "    return Ux_optimized, Uy_optimized, np.sqrt(Kx[kx]**2 + Ky[ky]**2), result.fun"
   ]
  },
  {
   "cell_type": "code",
   "execution_count": 733,
   "id": "49ca8226",
   "metadata": {},
   "outputs": [],
   "source": [
    "U_x = []\n",
    "U_y = []\n",
    "k_vals = []\n",
    "Q = []\n",
    "\n",
    "for i in range(len(Kx)):\n",
    "    for j in range(len(Ky)):\n",
    "        \n",
    "        if w0_2D[i,j] < 0.2:\n",
    "            pass\n",
    "        \n",
    "        else:\n",
    "            U_x.append( find_velocity(i,j)[0] ) \n",
    "            U_y.append( find_velocity(i,j)[1] )\n",
    "            k_vals.append( find_velocity(i,j)[2] )\n",
    "            Q.append( find_velocity(i,j)[3] )"
   ]
  },
  {
   "cell_type": "code",
   "execution_count": 734,
   "id": "415c01cf",
   "metadata": {},
   "outputs": [
    {
     "data": {
      "text/plain": [
       "(0.0, 1.0)"
      ]
     },
     "execution_count": 734,
     "metadata": {},
     "output_type": "execute_result"
    },
    {
     "data": {
      "image/png": "[encoded data removed]",
      "text/plain": [
       "<Figure size 432x288 with 1 Axes>"
      ]
     },
     "metadata": {
      "needs_background": "light"
     },
     "output_type": "display_data"
    }
   ],
   "source": [
    "plt.scatter(k_vals, np.sqrt((np.array(U_x))**2+(np.array(U_y))**2), label='LS Points', color = 'red', s = 5)\n",
    "plt.plot(k, Uk[:,0], label='Correct U', color = 'black')\n",
    "\n",
    "plt.ylabel(\"U [m/s]\")\n",
    "plt.xlabel(\"Wavenumber [rad/m]\")\n",
    "plt.title(\"LS with Guess (0.1,0.1)\")\n",
    "\n",
    "plt.grid(True)\n",
    "plt.legend()\n",
    "plt.ylim(0,1)"
   ]
  },
  {
   "cell_type": "markdown",
   "id": "27495777",
   "metadata": {},
   "source": [
    "## 2) Initial Guess is (0.5, 0.1)"
   ]
  },
  {
   "cell_type": "code",
   "execution_count": 735,
   "id": "4bb59af1",
   "metadata": {},
   "outputs": [],
   "source": [
    "def find_velocity(kx,ky):\n",
    "    # kx and ky are the indices \n",
    "    def objective_funct(U):\n",
    "        Ux, Uy = U \n",
    "        return ( w0_2D[kx, ky] - np.sqrt(9.81*np.sqrt(Kx[kx]**2 + Ky[ky]**2)) - Kx[kx]*Ux - Ky[ky]*Uy )**2\n",
    "\n",
    "    initial_guess = [0.5,0.1]\n",
    "    \n",
    "    result = minimize(objective_funct, initial_guess, method='BFGS')\n",
    "    \n",
    "    # Extract the optimized values of Ux and Uy\n",
    "    Ux_optimized, Uy_optimized = result.x\n",
    "    \n",
    "    return Ux_optimized, Uy_optimized, np.sqrt(Kx[kx]**2 + Ky[ky]**2), result.fun"
   ]
  },
  {
   "cell_type": "code",
   "execution_count": 736,
   "id": "21de8d35",
   "metadata": {},
   "outputs": [],
   "source": [
    "U_x = []\n",
    "U_y = []\n",
    "k_vals = []\n",
    "Q = []\n",
    "\n",
    "for i in range(len(Kx)):\n",
    "    for j in range(len(Ky)):\n",
    "        \n",
    "        if w0_2D[i,j] < 0.2:\n",
    "            pass\n",
    "        \n",
    "        else:\n",
    "            U_x.append( find_velocity(i,j)[0] ) \n",
    "            U_y.append( find_velocity(i,j)[1] )\n",
    "            k_vals.append( find_velocity(i,j)[2] )\n",
    "            Q.append( find_velocity(i,j)[3] )"
   ]
  },
  {
   "cell_type": "code",
   "execution_count": 737,
   "id": "f2db6634",
   "metadata": {},
   "outputs": [
    {
     "data": {
      "text/plain": [
       "(0.0, 1.0)"
      ]
     },
     "execution_count": 737,
     "metadata": {},
     "output_type": "execute_result"
    },
    {
     "data": {
      "image/png": "[encoded data removed]",
      "text/plain": [
       "<Figure size 432x288 with 1 Axes>"
      ]
     },
     "metadata": {
      "needs_background": "light"
     },
     "output_type": "display_data"
    }
   ],
   "source": [
    "plt.scatter(k_vals, np.sqrt((np.array(U_x))**2+(np.array(U_y))**2), label='LS Points', color = 'red', s = 5)\n",
    "plt.plot(k, Uk[:,0], label='Correct U', color = 'black')\n",
    "\n",
    "plt.ylabel(\"U [m/s]\")\n",
    "plt.xlabel(\"Wavenumber [rad/m]\")\n",
    "plt.title(\"LS with Guess (0.5,0.1)\")\n",
    "\n",
    "plt.grid(True)\n",
    "plt.legend()\n",
    "plt.ylim(0,1)"
   ]
  },
  {
   "cell_type": "markdown",
   "id": "986d9f8d",
   "metadata": {},
   "source": [
    "## 3) Initial Guess is Correct Ux and Uy"
   ]
  },
  {
   "cell_type": "code",
   "execution_count": 738,
   "id": "01f07fea",
   "metadata": {},
   "outputs": [],
   "source": [
    "def U(x):\n",
    "    return 1.243*x**0.35149-0.21649\n",
    "# correct U values "
   ]
  },
  {
   "cell_type": "code",
   "execution_count": 739,
   "id": "0a600f8e",
   "metadata": {},
   "outputs": [],
   "source": [
    "def find_velocity(kx,ky):\n",
    "    # kx and ky are the indices \n",
    "    def objective_funct(U):\n",
    "        Ux, Uy = U \n",
    "        return ( w0_2D[kx, ky] - np.sqrt(9.81*np.sqrt(Kx[kx]**2 + Ky[ky]**2)) - Kx[kx]*Ux - Ky[ky]*Uy )**2\n",
    "\n",
    "    initial_guess = [U(np.sqrt(Kx[kx]**2 + Ky[ky]**2)),0]\n",
    "    \n",
    "    result = minimize(objective_funct, initial_guess, method='BFGS')\n",
    "    \n",
    "    # Extract the optimized values of Ux and Uy\n",
    "    Ux_optimized, Uy_optimized = result.x\n",
    "    \n",
    "    return Ux_optimized, Uy_optimized, np.sqrt(Kx[kx]**2 + Ky[ky]**2), result.fun"
   ]
  },
  {
   "cell_type": "code",
   "execution_count": 740,
   "id": "f7d025d0",
   "metadata": {},
   "outputs": [],
   "source": [
    "U_x = []\n",
    "U_y = []\n",
    "k_vals = []\n",
    "Q = []\n",
    "\n",
    "for i in range(len(Kx)):\n",
    "    for j in range(len(Ky)):\n",
    "        \n",
    "        if w0_2D[i,j] < 0.2:\n",
    "            pass\n",
    "        \n",
    "        else:\n",
    "            U_x.append( find_velocity(i,j)[0] ) \n",
    "            U_y.append( find_velocity(i,j)[1] )\n",
    "            k_vals.append( find_velocity(i,j)[2] )\n",
    "            Q.append( find_velocity(i,j)[3] )"
   ]
  },
  {
   "cell_type": "code",
   "execution_count": 741,
   "id": "eac2a0eb",
   "metadata": {},
   "outputs": [
    {
     "data": {
      "text/plain": [
       "(0.0, 1.0)"
      ]
     },
     "execution_count": 741,
     "metadata": {},
     "output_type": "execute_result"
    },
    {
     "data": {
      "image/png": "[encoded data removed]",
      "text/plain": [
       "<Figure size 432x288 with 1 Axes>"
      ]
     },
     "metadata": {
      "needs_background": "light"
     },
     "output_type": "display_data"
    }
   ],
   "source": [
    "plt.scatter(k_vals, np.sqrt((np.array(U_x))**2+(np.array(U_y))**2), label='LS Points', color = 'red', s = 5)\n",
    "plt.plot(k, Uk[:,0], label='Correct U', color = 'black')\n",
    "\n",
    "plt.ylabel(\"U [m/s]\")\n",
    "plt.xlabel(\"Wavenumber [rad/m]\")\n",
    "plt.title(\"LS with Guess Correct U\")\n",
    "\n",
    "plt.grid(True)\n",
    "plt.legend()\n",
    "plt.ylim(0,1)"
   ]
  },
  {
   "cell_type": "markdown",
   "id": "4a29c931",
   "metadata": {},
   "source": [
    "## 4) Initial Guess is Values from PCS method"
   ]
  },
  {
   "cell_type": "markdown",
   "id": "bb10a112",
   "metadata": {},
   "source": [
    "### 4.1) Perform PCS"
   ]
  },
  {
   "cell_type": "code",
   "execution_count": 742,
   "id": "3bf93b9e",
   "metadata": {},
   "outputs": [],
   "source": [
    "from scipy.stats import t"
   ]
  },
  {
   "cell_type": "code",
   "execution_count": 743,
   "id": "530fe517",
   "metadata": {},
   "outputs": [],
   "source": [
    "kx_2D, ky_2D= np.meshgrid(Kx, Ky, indexing='ij')\n",
    "K_2D = np.sqrt(kx_2D**2 + ky_2D**2)\n",
    "theta_2D = np.arctan2(ky_2D, kx_2D)"
   ]
  },
  {
   "cell_type": "code",
   "execution_count": 744,
   "id": "b74982bd",
   "metadata": {},
   "outputs": [],
   "source": [
    "def grubbs_test(x, y):\n",
    "    \"\"\"\n",
    "    Grubb's test removes outlier in y axis and also removes the corresponding x value\n",
    "    \"\"\"\n",
    "\n",
    "    # Gets mean and standard deviation of data\n",
    "    mean_data = np.mean(y)\n",
    "    std_data = np.std(y)\n",
    "\n",
    "    # Calculate Grubbs test statistic\n",
    "    z_scores = np.abs((y - mean_data) / std_data)\n",
    "    max_z = np.max(z_scores)\n",
    "\n",
    "    # Calculate critical value based on the t-distribution\n",
    "    n = len(y)\n",
    "    critical_value = t.ppf(0.975, n - 2) / np.sqrt(n)\n",
    "\n",
    "    # Identify and removes any outlier\n",
    "    outlier_index = np.argmax(z_scores)\n",
    "    if max_z > critical_value:\n",
    "        #print(f\"Outlier detected at index {outlier_index}, value: {y[outlier_index]}\")\n",
    "        y = np.delete(y, outlier_index)\n",
    "        x = np.delete(x, outlier_index)\n",
    "\n",
    "        \n",
    "    return x, y "
   ]
  },
  {
   "cell_type": "code",
   "execution_count": 745,
   "id": "3a02927d",
   "metadata": {},
   "outputs": [],
   "source": [
    "def sinusoidinal(x, a, b):\n",
    "    return a*np.cos(x - b) "
   ]
  },
  {
   "cell_type": "code",
   "execution_count": 746,
   "id": "7bdf46b8",
   "metadata": {},
   "outputs": [],
   "source": [
    "cut_k_array = np.arange(0.001, 0.35, 0.001)\n",
    "\n",
    "U_array = []\n",
    "Φ_array = []\n",
    "\n",
    "for i in range(len(cut_k_array)):\n",
    "    k_slice = cut_k_array[i]\n",
    "\n",
    "    ind = np.where(np.round(K_2D, 2) == k_slice)\n",
    "    \n",
    "    # Slice at wavenumber cut_k - once k is within 0.01 it is counted as a slice\n",
    "    w0_is_k = w0_2D[ind[0], ind[1]]\n",
    "    theta_is_k = theta_2D[ind[0], ind[1]]\n",
    "    \n",
    "    # w and theta values along k_slice\n",
    "    inds_where_w0_nonzero = np.where(w0_is_k != 0)\n",
    "    \n",
    "    if len(inds_where_w0_nonzero[0]) > 1:\n",
    "        # How many nonzero w0 theres needs to be to be counted (increased numbers, increases accuracy)\n",
    "        nonzero_theta_at_k = theta_is_k[inds_where_w0_nonzero]\n",
    "        nonzero_w0_at_k = w0_is_k[inds_where_w0_nonzero]\n",
    "        \n",
    "        x_theta = nonzero_theta_at_k\n",
    "        y_theta = (nonzero_w0_at_k - np.sqrt(9.81 * k_slice)) / k_slice\n",
    "        \n",
    "        # Preform Grubbs test to remove outliers\n",
    "        x_theta, y_theta = grubbs_test(x_theta, y_theta)\n",
    "        \n",
    "        # Fitting Cos onto points\n",
    "        pars0 = (max(y_theta), 1)  # initial guess\n",
    "        popt, pcov = curve_fit(sinusoidinal, x_theta, y_theta, absolute_sigma=True, p0=pars0)\n",
    "        \n",
    "        # U value\n",
    "        U_opt = popt[0]\n",
    "        U_opt_err = np.sqrt(pcov[0, 0])\n",
    "        U_array.append(np.abs(U_opt))\n",
    "        \n",
    "        # Φ\n",
    "        Φ_opt = popt[1]\n",
    "        Φ_opt_err = np.sqrt(pcov[1, 1])\n",
    "        \n",
    "        if U_opt > 0:\n",
    "            Φ_opt = np.pi - Φ_opt\n",
    "        # Condition due to definition of direction of current \n",
    "        \n",
    "        Φ_array.append(Φ_opt)\n",
    "    else:\n",
    "        # If no values in inds_where_w0_nonzero, append None or a placeholder value as needed\n",
    "        U_array.append(None)\n",
    "        Φ_array.append(None)"
   ]
  },
  {
   "cell_type": "code",
   "execution_count": 747,
   "id": "3397cbf6",
   "metadata": {},
   "outputs": [
    {
     "data": {
      "text/plain": [
       "(0.0, 1.0)"
      ]
     },
     "execution_count": 747,
     "metadata": {},
     "output_type": "execute_result"
    },
    {
     "data": {
      "image/png": "[encoded data removed]",
      "text/plain": [
       "<Figure size 432x288 with 1 Axes>"
      ]
     },
     "metadata": {
      "needs_background": "light"
     },
     "output_type": "display_data"
    }
   ],
   "source": [
    "plt.scatter(cut_k_array, U_array, color = 'red', label = 'PCS Points')\n",
    "plt.plot(k, Uk[:,0], color = 'black', linestyle = '--',  label='Correct U')\n",
    "\n",
    "plt.xlabel(\"k\")\n",
    "plt.ylabel(\"U\")\n",
    "plt.title(\"Depend of Current on Wavenumber\")\n",
    "plt.grid(True)\n",
    "plt.legend()\n",
    "plt.ylim(0, 1)"
   ]
  },
  {
   "cell_type": "code",
   "execution_count": 748,
   "id": "fe30ffa4",
   "metadata": {},
   "outputs": [
    {
     "data": {
      "text/plain": [
       "(-1.0, 5.0)"
      ]
     },
     "execution_count": 748,
     "metadata": {},
     "output_type": "execute_result"
    },
    {
     "data": {
      "image/png": "[encoded data removed]",
      "text/plain": [
       "<Figure size 432x288 with 1 Axes>"
      ]
     },
     "metadata": {
      "needs_background": "light"
     },
     "output_type": "display_data"
    }
   ],
   "source": [
    "psi = 0\n",
    "\n",
    "plt.scatter(cut_k_array, Φ_array, color = 'red', label = 'PCS Points')\n",
    "plt.plot(k, np.linspace(psi, psi,len(k)), color = 'black', linestyle = '--', label='Correct Psi')\n",
    "\n",
    "plt.xlabel(\"k\")\n",
    "plt.ylabel(\"Φ\")\n",
    "\n",
    "plt.title(\"Finding psi\")\n",
    "plt.grid(True)\n",
    "plt.legend()\n",
    "plt.ylim(-1,5)"
   ]
  },
  {
   "cell_type": "markdown",
   "id": "c6ee8553",
   "metadata": {},
   "source": [
    "### 4.2) Use PCS as Guess values"
   ]
  },
  {
   "cell_type": "code",
   "execution_count": 749,
   "id": "3a6aff67",
   "metadata": {},
   "outputs": [],
   "source": [
    "non_none_values = [value for value in U_array if value is not None]"
   ]
  },
  {
   "cell_type": "code",
   "execution_count": 750,
   "id": "c591eee2",
   "metadata": {},
   "outputs": [],
   "source": [
    "indexes_not_none = [index for index, value in enumerate(U_array) if value is not None]"
   ]
  },
  {
   "cell_type": "code",
   "execution_count": 751,
   "id": "e4aefd9b",
   "metadata": {},
   "outputs": [],
   "source": [
    "cut_k_array = cut_k_array[indexes_not_none]\n",
    "U_array  = np.array(non_none_values)\n",
    "Φ_array = np.array(Φ_array)[indexes_not_none]"
   ]
  },
  {
   "cell_type": "code",
   "execution_count": 752,
   "id": "0f0eefa6",
   "metadata": {},
   "outputs": [],
   "source": [
    "def find_velocity(kx,ky):\n",
    "    # kx and ky are the indices \n",
    "    def objective_funct(U):\n",
    "        Ux, Uy = U \n",
    "        return ( w0_2D[kx, ky] - np.sqrt(9.81*np.sqrt(Kx[kx]**2 + Ky[ky]**2)) - Kx[kx]*Ux - Ky[ky]*Uy )**2\n",
    "\n",
    "    closest_ind = np.argmin( np.abs(np.sqrt(Kx[kx]**2 + Ky[ky]**2) - cut_k_array) )\n",
    "    \n",
    "    initial_guess = [U_array[closest_ind]*np.cos(Φ_array[closest_ind]),U_array[closest_ind]*np.sin(Φ_array[closest_ind])]\n",
    "    \n",
    "    result = minimize(objective_funct, initial_guess, method='BFGS')\n",
    "    \n",
    "    # Extract the optimized values of Ux and Uy\n",
    "    Ux_optimized, Uy_optimized = result.x\n",
    "    \n",
    "    return Ux_optimized, Uy_optimized, np.sqrt(Kx[kx]**2 + Ky[ky]**2)"
   ]
  },
  {
   "cell_type": "code",
   "execution_count": 768,
   "id": "0b4490df",
   "metadata": {},
   "outputs": [
    {
     "data": {
      "text/plain": [
       "      fun: 1.2505080546890581e-18\n",
       " hess_inv: array([[9.8844112 , 7.26906366],\n",
       "       [7.26906366, 6.94741569]])\n",
       "      jac: array([-2.57178638e-11, -6.29772337e-11])\n",
       "  message: 'Optimization terminated successfully.'\n",
       "     nfev: 12\n",
       "      nit: 2\n",
       "     njev: 4\n",
       "   status: 0\n",
       "  success: True\n",
       "        x: array([-0.2013232 , -0.16471898])"
      ]
     },
     "execution_count": 768,
     "metadata": {},
     "output_type": "execute_result"
    }
   ],
   "source": [
    "result"
   ]
  },
  {
   "cell_type": "code",
   "execution_count": 753,
   "id": "bbf78ae9",
   "metadata": {},
   "outputs": [],
   "source": [
    "U_x = []\n",
    "U_y = []\n",
    "k_vals = []\n",
    "Q = []\n",
    "\n",
    "for i in range(len(Kx)):\n",
    "    for j in range(len(Ky)):\n",
    "        \n",
    "        if w0_2D[i,j] < 0.2:\n",
    "            pass\n",
    "        \n",
    "        else:\n",
    "            U_x.append( find_velocity(i,j)[0] ) \n",
    "            U_y.append( find_velocity(i,j)[1] )\n",
    "            k_vals.append( find_velocity(i,j)[2] )\n",
    "            #Q.append( find_velocity(i,j)[3] )"
   ]
  },
  {
   "cell_type": "code",
   "execution_count": 754,
   "id": "363e530a",
   "metadata": {},
   "outputs": [],
   "source": [
    "k_vals = np.array(k_vals)\n",
    "U_x = np.array(U_x)\n",
    "U_y = np.array(U_y)"
   ]
  },
  {
   "cell_type": "code",
   "execution_count": 756,
   "id": "4fb38e33",
   "metadata": {},
   "outputs": [
    {
     "data": {
      "text/plain": [
       "(0.0, 0.36)"
      ]
     },
     "execution_count": 756,
     "metadata": {},
     "output_type": "execute_result"
    },
    {
     "data": {
      "image/png": "[encoded data removed]",
      "text/plain": [
       "<Figure size 432x288 with 1 Axes>"
      ]
     },
     "metadata": {
      "needs_background": "light"
     },
     "output_type": "display_data"
    }
   ],
   "source": [
    "plt.scatter(k_vals, np.sqrt(U_x**2+U_y**2), label='LS Points', color = 'red', s = 10)\n",
    "plt.plot(k, Uk[:,0], label='Correct U', color = 'black')\n",
    "\n",
    "plt.ylabel(\"U [m/s]\")\n",
    "plt.xlabel(\"Wavenumber [rad/m]\")\n",
    "plt.title(\"LS with Guess using PCS\")\n",
    "\n",
    "plt.grid(True)\n",
    "plt.legend()\n",
    "plt.ylim(0,1)\n",
    "plt.xlim(0,0.36)"
   ]
  },
  {
   "cell_type": "code",
   "execution_count": null,
   "id": "757ec891",
   "metadata": {},
   "outputs": [],
   "source": []
  },
  {
   "cell_type": "markdown",
   "id": "d5eb43f8",
   "metadata": {},
   "source": [
    "# 5) Fitting to LS Method"
   ]
  },
  {
   "cell_type": "code",
   "execution_count": 863,
   "id": "7b876f40",
   "metadata": {},
   "outputs": [],
   "source": [
    "x1 = k_vals\n",
    "y1 = np.sqrt(U_x**2+U_y**2)\n",
    "# Initial Data Points "
   ]
  },
  {
   "cell_type": "code",
   "execution_count": 864,
   "id": "b880b115",
   "metadata": {},
   "outputs": [],
   "source": [
    "filtered_data = np.logical_and.reduce([y1 >= 0, y1 <= 1, x1 >= 0, x1 <= 0.35])\n",
    "# Perform Filtering of Outliers\n",
    "# Assume maximum velocity is 1"
   ]
  },
  {
   "cell_type": "code",
   "execution_count": 865,
   "id": "b7e67f0e",
   "metadata": {},
   "outputs": [],
   "source": [
    "filtered_x = np.insert( x1[filtered_data], 0, 0)\n",
    "filtered_y = np.insert( y1[filtered_data], 0, 0)\n",
    "\n",
    "# Also add 0,0 as a point"
   ]
  },
  {
   "cell_type": "markdown",
   "id": "39bb2e5f",
   "metadata": {},
   "source": [
    "## 5.1) Fit Power Law Best Fit"
   ]
  },
  {
   "cell_type": "code",
   "execution_count": 866,
   "id": "69847e8f",
   "metadata": {},
   "outputs": [],
   "source": [
    "def fpow(x, a, b, c):\n",
    "    return a*x**b+c"
   ]
  },
  {
   "cell_type": "code",
   "execution_count": 867,
   "id": "3465902e",
   "metadata": {},
   "outputs": [
    {
     "data": {
      "image/png": "[encoded data removed]",
      "text/plain": [
       "<Figure size 432x288 with 1 Axes>"
      ]
     },
     "metadata": {
      "needs_background": "light"
     },
     "output_type": "display_data"
    }
   ],
   "source": [
    "# plot the raw data\n",
    "plt.errorbar(filtered_x, filtered_y, yerr=0, fmt=\".\", color = 'black', label = 'data')\n",
    "plt.grid(True)\n",
    "plt.ylabel(\"U [m/s]\")\n",
    "plt.xlabel(\"Wavenumber [rad/m]\")\n",
    "\n",
    "\n",
    "# initial guess\n",
    "pars0 = (1.4, 1/2, 0.1)\n",
    "\n",
    "# overlay exponential \n",
    "\n",
    "x = np.linspace(0, max(filtered_x), 1000)\n",
    "\n",
    "plt.plot(x, fpow(x,*pars0), color = 'red', label = 'guess parameters')\n",
    "\n",
    "plt.legend();\n",
    "plt.title(\"Power Law fit\");"
   ]
  },
  {
   "cell_type": "code",
   "execution_count": 868,
   "id": "c163d2c0",
   "metadata": {},
   "outputs": [
    {
     "data": {
      "image/png": "[encoded data removed]",
      "text/plain": [
       "<Figure size 432x288 with 1 Axes>"
      ]
     },
     "metadata": {
      "needs_background": "light"
     },
     "output_type": "display_data"
    }
   ],
   "source": [
    "# perform fitting\n",
    "popt, pcov = curve_fit(fpow, filtered_x, filtered_y, absolute_sigma=True, p0=pars0)\n",
    "\n",
    "# Parameters\n",
    "a_opt = popt[0]\n",
    "b_opt = popt[1]\n",
    "c_opt = popt[2]\n",
    "\n",
    "# plot data\n",
    "plt.errorbar(filtered_x, filtered_y, yerr=0, fmt=\".\", color = 'black', label = 'data', zorder=1, markersize = 5)\n",
    "\n",
    "# creating x interval to include in y fit\n",
    "x = np.linspace(0, max(filtered_x), 100)\n",
    "y_fit = fpow(x, *popt)\n",
    "plt.plot(x, y_fit, color=\"red\", label=\"best fit\", zorder=2, linewidth = 3)\n",
    "\n",
    "\n",
    "plt.grid(True)\n",
    "plt.ylabel(\"U [m/s]\")\n",
    "plt.xlabel(\"Wavenumber [rad/m]\")\n",
    "plt.legend();"
   ]
  },
  {
   "cell_type": "markdown",
   "id": "5d6faac3",
   "metadata": {},
   "source": [
    "## 5.2) Residuals"
   ]
  },
  {
   "cell_type": "code",
   "execution_count": 869,
   "id": "4078a645",
   "metadata": {},
   "outputs": [],
   "source": [
    "def fitted_power(x):\n",
    "    return a_opt*x**b_opt+c_opt"
   ]
  },
  {
   "cell_type": "code",
   "execution_count": 889,
   "id": "87c79f01",
   "metadata": {},
   "outputs": [
    {
     "data": {
      "text/plain": [
       "<matplotlib.legend.Legend at 0x29f10906ee0>"
      ]
     },
     "execution_count": 889,
     "metadata": {},
     "output_type": "execute_result"
    },
    {
     "data": {
      "image/png": "[encoded data removed]",
      "text/plain": [
       "<Figure size 432x288 with 1 Axes>"
      ]
     },
     "metadata": {
      "needs_background": "light"
     },
     "output_type": "display_data"
    }
   ],
   "source": [
    "plt.scatter(filtered_x, fitted_power(filtered_x) - filtered_y, s = 5 , label='Residuals', color = 'red')\n",
    "plt.plot(x, np.zeros(len(x)), label = 'Fit', color = 'black')\n",
    "\n",
    "plt.grid(True)\n",
    "plt.title('Residual Plot')\n",
    "plt.ylabel(\"U [m/s]\")\n",
    "plt.xlabel(\"Wavenumber [rad/m]\")\n",
    "plt.legend()"
   ]
  },
  {
   "cell_type": "code",
   "execution_count": 871,
   "id": "ccd612bd",
   "metadata": {},
   "outputs": [],
   "source": [
    "# Residuals show a decreasing trend => not constant variance"
   ]
  },
  {
   "cell_type": "markdown",
   "id": "6682a51a",
   "metadata": {},
   "source": [
    "## 5.3) Try Weighted Fitting"
   ]
  },
  {
   "cell_type": "code",
   "execution_count": 910,
   "id": "b22cb4d8",
   "metadata": {},
   "outputs": [
    {
     "data": {
      "image/png": "[encoded data removed]",
      "text/plain": [
       "<Figure size 432x288 with 1 Axes>"
      ]
     },
     "metadata": {
      "needs_background": "light"
     },
     "output_type": "display_data"
    }
   ],
   "source": [
    "# custom weight function\n",
    "def custom_weights(x):\n",
    "    weights = np.ones_like(x)  # Default weight for all points\n",
    "    weights[x == 0] = 0.1     # Low Error for x = 0\n",
    "    weights[x > 0.12] = 0.1   # Low Error for x > 0.15\n",
    "    return weights\n",
    "# Weight 0 and higher wavenumbers heavier\n",
    "\n",
    "# perform fitting with custom weights\n",
    "popt, pcov = curve_fit(fpow, filtered_x, filtered_y, absolute_sigma=True, p0=pars0, sigma=custom_weights(filtered_x))\n",
    "\n",
    "# parameters\n",
    "a_opt = popt[0]\n",
    "b_opt = popt[1]\n",
    "c_opt = popt[2]\n",
    "\n",
    "# plot data\n",
    "plt.errorbar(filtered_x, filtered_y, yerr=0, fmt =\".\", color='black', label ='data', zorder=1, markersize=5)\n",
    "\n",
    "# creating x interval to include in y fit\n",
    "x_interval = np.linspace(0, max(filtered_x), 1000)\n",
    "y_fit = fpow( x_interval , *popt)\n",
    "plt.plot( x_interval, y_fit, color = \"red\", label = \"Weighted fit\", zorder=2 , linewidth=3)\n",
    "plt.plot(k, Uk[:,0], label='Correct U', color = 'blue', zorder=3)\n",
    "\n",
    "plt.grid(True)\n",
    "plt.ylabel(\"U [m/s]\")\n",
    "plt.xlabel(\"Wavenumber [rad/m]\")\n",
    "plt.title(\"LS Weighted Fit of Current\")\n",
    "plt.legend()\n",
    "plt.show()"
   ]
  },
  {
   "cell_type": "code",
   "execution_count": null,
   "id": "130089f0",
   "metadata": {},
   "outputs": [],
   "source": []
  },
  {
   "cell_type": "code",
   "execution_count": null,
   "id": "34a2e2b8",
   "metadata": {},
   "outputs": [],
   "source": []
  },
  {
   "cell_type": "code",
   "execution_count": null,
   "id": "0956cd7d",
   "metadata": {},
   "outputs": [],
   "source": []
  }
 ],
 "metadata": {
  "kernelspec": {
   "display_name": "Python 3",
   "language": "python",
   "name": "python3"
  },
  "language_info": {
   "codemirror_mode": {
    "name": "ipython",
    "version": 3
   },
   "file_extension": ".py",
   "mimetype": "text/x-python",
   "name": "python",
   "nbconvert_exporter": "python",
   "pygments_lexer": "ipython3",
   "version": "3.8.8"
  }
 },
 "nbformat": 4,
 "nbformat_minor": 5
}
