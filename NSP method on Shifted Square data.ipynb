{
 "cells": [
  {
   "cell_type": "code",
   "execution_count": 1,
   "id": "14161e7a",
   "metadata": {},
   "outputs": [],
   "source": [
    "import sys\n",
    "sys.path.append(\"C:\\\\Users\\josep\\Documents\\Anaconda\\pkgs\")\n",
    "import h5py\n",
    "from matplotlib import cm\n",
    "import numpy as np\n",
    "import matplotlib.pyplot as plt\n",
    "from scipy.optimize import least_squares\n",
    "from scipy.optimize import minimize\n",
    "from scipy.optimize import curve_fit\n",
    "from matplotlib.ticker import LinearLocator, FormatStrFormatter\n",
    "from tqdm import tqdm\n",
    "from mpl_toolkits.mplot3d import Axes3D\n",
    "from scipy.special import gamma, gammainc\n",
    "from scipy.fftpack import fftn, fftshift"
   ]
  },
  {
   "cell_type": "code",
   "execution_count": 2,
   "id": "94b0aef2",
   "metadata": {},
   "outputs": [],
   "source": [
    "sys.path.append(\"C:\\\\Users\\josep\\Desktop\\PHYC40900_Project TP\")"
   ]
  },
  {
   "cell_type": "code",
   "execution_count": 3,
   "id": "e3f30ad9",
   "metadata": {},
   "outputs": [],
   "source": [
    "f = h5py.File('C:\\\\Users\\josep\\Desktop\\PHYC40900_Project TP\\Real Data Sets\\Extract_around_ADCP_2022011904.hdmf', 'r')"
   ]
  },
  {
   "cell_type": "code",
   "execution_count": 4,
   "id": "ec4dc6fb",
   "metadata": {},
   "outputs": [
    {
     "data": {
      "text/plain": [
       "<KeysViewHDF5 ['t', 'wamos', 'x', 'y']>"
      ]
     },
     "execution_count": 4,
     "metadata": {},
     "output_type": "execute_result"
    }
   ],
   "source": [
    "f.keys()"
   ]
  },
  {
   "cell_type": "code",
   "execution_count": 5,
   "id": "14931853",
   "metadata": {},
   "outputs": [],
   "source": [
    "x = f.get('x')\n",
    "y = f.get('y')\n",
    "t = f.get('t')\n",
    "wamos = f.get('wamos')\n",
    "\n",
    "x = np.array(x)\n",
    "y = np.array(y)\n",
    "t = np.array(t)\n",
    "wamos = np.array(wamos)"
   ]
  },
  {
   "cell_type": "code",
   "execution_count": 6,
   "id": "22a7969c",
   "metadata": {},
   "outputs": [],
   "source": [
    "dx = x[1] - x[0]\n",
    "dy = y[1] - y[0]\n",
    "dt = t[1] - t[0]"
   ]
  },
  {
   "cell_type": "code",
   "execution_count": 7,
   "id": "faef08c8",
   "metadata": {},
   "outputs": [
    {
     "data": {
      "text/plain": [
       "(366, 132, 132)"
      ]
     },
     "execution_count": 7,
     "metadata": {},
     "output_type": "execute_result"
    }
   ],
   "source": [
    "wamos.shape"
   ]
  },
  {
   "cell_type": "code",
   "execution_count": 8,
   "id": "c5438ad5",
   "metadata": {},
   "outputs": [
    {
     "data": {
      "text/plain": [
       "0.01269330365086785"
      ]
     },
     "execution_count": 8,
     "metadata": {},
     "output_type": "execute_result"
    }
   ],
   "source": [
    "dk = 2*np.pi/(dx*min(wamos.shape[0], wamos.shape[1]))\n",
    "dk"
   ]
  },
  {
   "cell_type": "code",
   "execution_count": 9,
   "id": "612f4b98",
   "metadata": {},
   "outputs": [
    {
     "data": {
      "text/plain": [
       "array([0.03807991, 0.05077321, 0.06346652, 0.07615982, 0.08885313,\n",
       "       0.10154643, 0.11423973, 0.12693304, 0.13962634, 0.15231964,\n",
       "       0.16501295, 0.17770625, 0.19039955, 0.20309286, 0.21578616,\n",
       "       0.22847947, 0.24117277, 0.25386607, 0.26655938, 0.27925268,\n",
       "       0.29194598, 0.30463929, 0.31733259, 0.33002589, 0.3427192 ])"
      ]
     },
     "execution_count": 9,
     "metadata": {},
     "output_type": "execute_result"
    }
   ],
   "source": [
    "wavenumbers = np.arange(3 * dk, 0.35, dk)\n",
    "wavenumbers"
   ]
  },
  {
   "cell_type": "markdown",
   "id": "6856125f",
   "metadata": {},
   "source": [
    "# 1) NSP Method"
   ]
  },
  {
   "cell_type": "markdown",
   "id": "309af8a5",
   "metadata": {},
   "source": [
    "## 1.1) NSP Implementation"
   ]
  },
  {
   "cell_type": "code",
   "execution_count": 13,
   "id": "95bb60ea",
   "metadata": {},
   "outputs": [],
   "source": [
    "maxFrequency = 4.0 \n",
    "\n",
    "kW = 1*dk\n",
    "# Half width of wavenumbers bins [rad/m]\n",
    "\n",
    "frequencyLimits = [0.01, 20.0]\n",
    "# frequency limits for masking the spectrum [min max], rad/sec\n",
    "\n",
    "Ux_limits = [-1, 1]\n",
    "# Ux current limits [m/s]\n",
    "\n",
    "Uy_limits = [-1, 1]\n",
    "# Uy current limts [m/s]\n",
    "\n",
    "U_res = 0.1\n",
    "# Current step size [m/s]\n",
    "\n",
    "omegaWidthFun = lambda k: 0.05 + 0.0 * k"
   ]
  },
  {
   "cell_type": "code",
   "execution_count": 14,
   "id": "4081fce1",
   "metadata": {},
   "outputs": [],
   "source": [
    "Uym, Uxm = np.meshgrid(np.arange(min(Uy_limits), max(Uy_limits) + U_res, U_res),\n",
    "                       np.arange(min(Ux_limits), max(Ux_limits) + U_res, U_res))"
   ]
  },
  {
   "cell_type": "code",
   "execution_count": 15,
   "id": "28b6623b",
   "metadata": {},
   "outputs": [],
   "source": [
    "h = np.inf\n",
    "g = 9.81\n",
    "T = 0.072 / 1000"
   ]
  },
  {
   "cell_type": "code",
   "execution_count": 16,
   "id": "c7fc33dd",
   "metadata": {},
   "outputs": [],
   "source": [
    "def retrieve_power_spectrum(IMG_3D, dx, dy, dt, K_limits=None, W_limits=None):\n",
    "    # Set default values for K_limits and W_limits if not provided\n",
    "    if K_limits is None:\n",
    "        K_limits = [-np.inf, np.inf]\n",
    "    if W_limits is None:\n",
    "        W_limits = [-np.inf, np.inf]\n",
    "\n",
    "    # Check limits\n",
    "    if any(np.array(K_limits) < 0):\n",
    "        print('retrieve_positive_spectrum: K_limits smaller than 0')\n",
    "    if any(np.array(W_limits) < 0):\n",
    "        print('retrieve_positive_spectrum: W_limits smaller than 0')\n",
    "\n",
    "    # Get Kx, Ky, and w axes\n",
    "    Nt, Nx, Ny = IMG_3D.shape\n",
    "    Kx = (2 * np.pi * 1 / dx / Nx) * np.arange(-np.ceil((Nx - 1) / 2), np.floor((Nx - 1) / 2) + 1)\n",
    "    Ky = (2 * np.pi * 1 / dy / Ny) * np.arange(-np.ceil((Ny - 1) / 2), np.floor((Ny - 1) / 2) + 1)\n",
    "    w = (2 * np.pi * 1 / dt / Nt) * np.arange(-np.ceil((Nt - 1) / 2), np.floor((Nt - 1) / 2) + 1)\n",
    "\n",
    "    dKx = Kx[1] - Kx[0]\n",
    "    dKy = Ky[1] - Ky[0]\n",
    "    dW = w[1] - w[0]\n",
    "    Norm = dKx * dKy * dW\n",
    "\n",
    "    # Get power spectra\n",
    "    Spectrum_raw = fftshift(fftn(IMG_3D) / np.prod(IMG_3D.shape))\n",
    "    power_Spectrum = np.abs(Spectrum_raw / Norm)**2\n",
    "\n",
    "    # Get index boundaries\n",
    "    ind_x = np.abs(Kx) <= K_limits[1]\n",
    "    ind_y = np.abs(Ky) <= K_limits[1]\n",
    "    ind_w = (w >= W_limits[0]) & (w <= W_limits[1])\n",
    "\n",
    "    # Create 3D structure using meshgrid\n",
    "    W_3D, Kx_3D, Ky_3D = np.meshgrid(w[ind_w], Kx[ind_x], Ky[ind_y], indexing='ij')\n",
    "\n",
    "    # Use np.ix_ for boolean indexing to extract the desired values\n",
    "    power_Spectrum_cut = power_Spectrum[np.ix_(ind_w, ind_x, ind_y)]\n",
    "\n",
    "    # Set to NaN values outside K_limits\n",
    "    K_3D = np.sqrt(Kx_3D**2 + Ky_3D**2)\n",
    "    power_Spectrum_cut[(K_3D < K_limits[0]) | (K_3D > K_limits[1])] = np.nan\n",
    "\n",
    "    # Get original spectrum limits\n",
    "    Kx_orig_limits = [Kx[0], Kx[-1]]\n",
    "    Ky_orig_limits = [Ky[0], Ky[-1]]\n",
    "    W_orig_limits = [w[0], w[-1]]\n",
    "\n",
    "    # Normalize spectra (sum(power_Spectrum_cut(:)) = 1)\n",
    "    power_Spectrum_cut /= np.nansum(power_Spectrum_cut)\n",
    "\n",
    "    # Create output structure\n",
    "    Spectrum = {'power_Spectrum': power_Spectrum_cut,\n",
    "                'Kx_3D': Kx_3D, 'Ky_3D': Ky_3D, 'W_3D': W_3D,\n",
    "                'dKx': dKx, 'dKy': dKy, 'dW': dW,\n",
    "                'Kx_orig_limits': Kx_orig_limits, 'Ky_orig_limits': Ky_orig_limits,\n",
    "                'W_orig_limits': W_orig_limits}\n",
    "\n",
    "    return Spectrum"
   ]
  },
  {
   "cell_type": "code",
   "execution_count": 17,
   "id": "ba4c27e1",
   "metadata": {},
   "outputs": [],
   "source": [
    "from scipy.optimize import minimize\n",
    "import matplotlib.pyplot as plt\n",
    "\n",
    "def get_doppler_shift_velocities_nsp(Spectrum, fit_param, Properties, verboseFig=False):\n",
    "    \n",
    "    out_fit = {'wavenumbers': fit_param['wavenumbers'],\n",
    "               'Ux': np.zeros(len([fit_param['wavenumbers']])),\n",
    "               'Uy': np.zeros(len([fit_param['wavenumbers']])),\n",
    "               'SNR_max': np.zeros(len([fit_param['wavenumbers']])),\n",
    "               'Ux_2D': fit_param['Ux_2D'],\n",
    "               'Uy_2D': fit_param['Uy_2D'],\n",
    "               'verbose': []}\n",
    "\n",
    "    h = Properties['h']\n",
    "    g = Properties['g']\n",
    "    T = Properties['T']\n",
    "    omegaWidthFun = fit_param['omegaWidthFun']\n",
    "    wavenumbers = fit_param['wavenumbers']\n",
    "\n",
    "    for jj in range(len([fit_param['wavenumbers']])):\n",
    "        P = {'h': h, 'g': g, 'T': T,\n",
    "             'omegaWidth': omegaWidthFun(wavenumbers)}\n",
    "\n",
    "        snrG = np.zeros(fit_param['Ux_2D'].shape)\n",
    "\n",
    "        for i in range(fit_param['Ux_2D'].shape[0]):\n",
    "            for j in range(fit_param['Ux_2D'].shape[1]):\n",
    "                snr_ij, _, _ = nsp_doppler_shift_extraction(Spectrum, P, wavenumbers, fit_param['Ux_2D'][i, j], fit_param['Uy_2D'][i, j])\n",
    "                snrG[i, j] = snr_ij\n",
    "\n",
    "        im = np.argmax(snrG)\n",
    "\n",
    "        if np.ndim(fit_param['Ux_2D']) == 1:\n",
    "            cDoppGuess = fit_param['Ux_2D'][im]\n",
    "        else:\n",
    "            cDoppGuess = [fit_param['Ux_2D'].flat[im], fit_param['Uy_2D'].flat[im]]\n",
    "\n",
    "        options = {'disp': False}  # Turn off display output\n",
    "        Ufit = minimize(lambda U: 1 - nsp_doppler_shift_extraction(Spectrum, P, fit_param['wavenumbers'], U[0], U[1])[0] if np.ndim(U) > 1 else 1 - nsp_doppler_shift_extraction(Spectrum, P, fit_param['wavenumbers'], U[0], U[1])[0], \n",
    "                        cDoppGuess, options=options)\n",
    "\n",
    "        if len(cDoppGuess) > 1:\n",
    "            Ufit = Ufit.x\n",
    "        else:\n",
    "            Ufit = [Ufit.x[0], 0]\n",
    "\n",
    "        SNR_fit, _, _ = nsp_doppler_shift_extraction(Spectrum, P, wavenumbers, Ufit[0], Ufit[1])\n",
    "\n",
    "        out_fit['Ux'][jj] = Ufit[0]\n",
    "        out_fit['Uy'][jj] = Ufit[1]\n",
    "        out_fit['SNR_max'][jj] = SNR_fit\n",
    "\n",
    "        verbose = {'k': fit_param['wavenumbers'], 'SNR_2D': snrG, 'Peaks_2D': find_peaks(snrG)}\n",
    "        out_fit['verbose'].append(verbose)\n",
    "\n",
    "    # Post-processing\n",
    "    out_fit['Ux_filt'] = out_fit['Ux'].copy()\n",
    "    out_fit['Uy_filt'] = out_fit['Uy'].copy()\n",
    "    out_fit['SNR_max'] = out_fit['SNR_max'].copy()\n",
    "\n",
    "    return out_fit"
   ]
  },
  {
   "cell_type": "code",
   "execution_count": 18,
   "id": "a5a7c471",
   "metadata": {},
   "outputs": [],
   "source": [
    "def nsp_doppler_shift_extraction(Spectrum, params, kval, U, V):\n",
    "    # Define wave dispersion relation.\n",
    "    omegaFun = lambda kx, ky: np.sqrt((params['g']*np.sqrt(kx**2 + ky**2) + params['T']*np.sqrt(kx**2 + ky**2)**3) * np.tanh(np.sqrt(kx**2 + ky**2) * params['h'])) + U*kx + V*ky\n",
    "\n",
    "    # Frequency width of weighting function (1/e^2 halfwidth)\n",
    "    a = params['omegaWidth']\n",
    "\n",
    "    if 'logFlag' not in params:\n",
    "        params['logFlag'] = 0\n",
    "\n",
    "    if 'include2ndHarmonic' not in params:\n",
    "        params['include2ndHarmonic'] = 0\n",
    "\n",
    "    if 'kWidth' in params:\n",
    "        a_k = params['kWidth']\n",
    "    else:\n",
    "        a_k = max(Spectrum['dKx'], Spectrum['dKy']) * 2\n",
    "\n",
    "    inds = ~np.isnan(Spectrum['power_Spectrum'])\n",
    "\n",
    "    P_k = np.sqrt(Spectrum['power_Spectrum'][inds])\n",
    "    KX = Spectrum['Kx_3D'][inds]\n",
    "    KY = Spectrum['Ky_3D'][inds]\n",
    "    W = Spectrum['W_3D'][inds]\n",
    "\n",
    "    if params['include2ndHarmonic']:\n",
    "        inds2 = ~np.isnan(Spectrum['power_Spectrum2'])\n",
    "        P_k2 = np.sqrt(Spectrum['power_Spectrum2'][inds2])\n",
    "        KX2 = Spectrum['Kx_3D2'][inds2]\n",
    "        KY2 = Spectrum['Ky_3D2'][inds2]\n",
    "        W2 = Spectrum['W_3D2'][inds2]\n",
    "        omegaFun2 = lambda kx, ky: np.sqrt(2) * np.sqrt((params['g']*np.sqrt(kx**2 + ky**2) + params['T']*np.sqrt(kx**2 + ky**2)**3) * np.tanh(np.sqrt(kx**2 + ky**2) * params['h']) + U*kx + V*ky)\n",
    "    else:\n",
    "        P_k2 = 0\n",
    "\n",
    "    if params['logFlag']:\n",
    "        P_k = np.log(P_k)\n",
    "        P_k = P_k - np.min(P_k)\n",
    "\n",
    "        if params['include2ndHarmonic']:\n",
    "            P_k2 = np.log(P_k2)\n",
    "            P_k2 = P_k2 - np.min(P_k2)\n",
    "\n",
    "    K = np.sqrt(KX**2 + KY**2)\n",
    "    order = 2\n",
    "\n",
    "    if not np.isnan(kval):\n",
    "        P_k = P_k * np.exp(-2*((K-kval)/a_k)**order)\n",
    "\n",
    "    # Define weighting function G\n",
    "    G1 = np.exp(-2*((W - omegaFun(KX, KY))/max(a))**order)\n",
    "    G2 = np.exp(-2*((W + omegaFun(-KX, -KY))/max(a))**order)\n",
    "\n",
    "    G = G1 + G2\n",
    "\n",
    "    if params['include2ndHarmonic']:\n",
    "        G1_2 = np.exp(-2*((W2 - omegaFun2(KX2, KY2))/a)**order)\n",
    "        G2_2 = np.exp(-2*((W2 + omegaFun2(-KX2, -KY2))/a)**order)\n",
    "\n",
    "        G_2 = G1_2 + G2_2\n",
    "\n",
    "        P_k2[~np.isfinite(P_k2)] = 0\n",
    "\n",
    "        signal_2 = np.sum(P_k2*G_2)/np.sum(G_2)\n",
    "        noise_2 = np.sum(P_k2*(1-G_2))/np.sum(1-G_2)\n",
    "    else:\n",
    "        signal_2 = 0\n",
    "        noise_2 = 0\n",
    "\n",
    "    P_k[~np.isfinite(P_k)] = 0\n",
    "    InP = P_k * G\n",
    "\n",
    "    signal_1 = np.sum(InP)/np.sum(G)\n",
    "    noise_1 = np.sum(P_k*(1-G))/np.sum(1-G)\n",
    "    SNR = (signal_1 + signal_2)/(noise_1 + noise_2)\n",
    "\n",
    "    return SNR, P_k, G"
   ]
  },
  {
   "cell_type": "code",
   "execution_count": 19,
   "id": "619f6343",
   "metadata": {},
   "outputs": [],
   "source": [
    "wavenumberLimits = []\n",
    "\n",
    "for jj in range(len(wavenumbers)):\n",
    "    wavenumberLimits_range = wavenumbers[jj] + kW * np.array([-1,1])\n",
    "    wavenumberLimits.append(wavenumberLimits_range)"
   ]
  },
  {
   "cell_type": "code",
   "execution_count": 20,
   "id": "00d1b6a0",
   "metadata": {},
   "outputs": [
    {
     "name": "stderr",
     "output_type": "stream",
     "text": [
      "Processing wavenumbers: 100%|██████████| 25/25 [01:20<00:00,  3.21s/it]\n"
     ]
    }
   ],
   "source": [
    "Spectrum_at_k = []\n",
    "\n",
    "ind_x_at_k = []\n",
    "ind_y_at_k = []\n",
    "ind_w_at_k = []\n",
    "\n",
    "W_3D_at_k = []\n",
    "Kx_3D_at_k = []\n",
    "Ky_3D_at_k = []\n",
    "\n",
    "Ux_at_k = []\n",
    "Uy_at_k = []\n",
    "\n",
    "SNR_max_at_k = []\n",
    "\n",
    "snrG_at_k = []\n",
    "\n",
    "im_at_k = []\n",
    "cDoppGuess_at_k = []\n",
    "\n",
    "Ux_at_k_correct = []\n",
    "Uy_at_k_correct = []\n",
    "\n",
    "# Initialize the tqdm progress bar outside the loop\n",
    "progress_bar = tqdm(total=len(wavenumberLimits), desc=\"Processing wavenumbers\")\n",
    "\n",
    "for i in range(len(wavenumberLimits)):\n",
    "    # i is the index of each wavenumber\n",
    "    \n",
    "    fit_param = {'wavenumbers': wavenumbers[i],\n",
    "     'include2ndHarmonic': 0,\n",
    "     'logFlag': [],\n",
    "     'SNR_filter': 0,\n",
    "     'SNR_threshold': 1,\n",
    "     'Peak_filter': 0,\n",
    "     'Peak_threshold': 0.5,\n",
    "     'Outlier_filter': 0,\n",
    "     'kWidth': 0.050015405430285265,\n",
    "     'Ux_2D': Uxm, \n",
    "     'Uy_2D': Uym}\n",
    "    \n",
    "    P = {'h': h, 'g': g, 'T': T,\n",
    "             'omegaWidth': omegaWidthFun(wavenumbers),\n",
    "             'kWidth': fit_param['kWidth'],\n",
    "             'logFlag': fit_param['logFlag'],\n",
    "             'include2ndHarmonic': fit_param['include2ndHarmonic']}\n",
    "    \n",
    "    Spectrum = retrieve_power_spectrum(wamos, dx, dy, dt, K_limits=wavenumberLimits[i], W_limits=frequencyLimits)\n",
    "    Spectrum_at_k.append(Spectrum)\n",
    "    \n",
    "    Nt, Nx, Ny = wamos.shape\n",
    "    \n",
    "    Kx = (2 * np.pi * 1 / dx / Nx) * np.arange(-np.ceil((Nx - 1) / 2), np.floor((Nx - 1) / 2) + 1) # 67 values\n",
    "    Ky = (2 * np.pi * 1 / dy / Ny) * np.arange(-np.ceil((Ny - 1) / 2), np.floor((Ny - 1) / 2) + 1) # 67 Values\n",
    "    w = (2 * np.pi * 1 / dt / Nt) * np.arange(-np.ceil((Nt - 1) / 2), np.floor((Nt - 1) / 2) + 1) # 1200 Values\n",
    "    # w = spec3d.get_C()[0]\n",
    "    # Kx = spec3d.get_C()[1]\n",
    "    # Ky = spec3d.get_C()[2]\n",
    "    \n",
    "    dKx = Kx[1] - Kx[0]\n",
    "    dKy = Ky[1] - Ky[0]\n",
    "    dW = w[1] - w[0]\n",
    "    # kx, ky and w resolution\n",
    "    \n",
    "    Norm = dKx * dKy * dW\n",
    "    \n",
    "    # Get power spectra (1200, 67, 67)\n",
    "    Spectrum_raw = fftshift(fftn(wamos) / np.prod(wamos.shape))\n",
    "    power_Spectrum = np.abs(Spectrum_raw / Norm)**2\n",
    "    # ?? how is this related to FFT spec3d.spectrum()\n",
    "    \n",
    "    ind_x = np.abs(Kx) <= wavenumberLimits[i][1]\n",
    "    ind_x_at_k.append(ind_x)\n",
    "    ind_y = np.abs(Ky) <= wavenumberLimits[i][1]\n",
    "    ind_y_at_k.append(ind_y)\n",
    "    # Is the absolute values of Kx and Ky smaller than the upper value of the wavenumber range \n",
    "    \n",
    "    ind_w = (w >= frequencyLimits[0]) & (w <= frequencyLimits[1])\n",
    "    ind_w_at_k.append(ind_w)\n",
    "    # Is the value of w between the frequency limits 0.01 and 20 \n",
    "    \n",
    "    # Create 3D structure where it only includes w,Kx,Ky that are in the ranges required by wavenumberLimits\n",
    "    W_3D, Kx_3D, Ky_3D = np.meshgrid( w[ind_w_at_k[i]], Kx[ind_x_at_k[i]] , Ky[ind_y_at_k[i]] , indexing='ij')\n",
    "    W_3D_at_k.append(W_3D)\n",
    "    Kx_3D_at_k.append(Kx_3D)\n",
    "    Ky_3D_at_k.append(Ky_3D)\n",
    "    \n",
    "    \n",
    "    Ux_2D = Uxm\n",
    "    Uy_2D = Uym\n",
    "    \n",
    "    snrG = np.zeros(Ux_2D.shape)\n",
    "    \n",
    "    for m in range(Ux_2D.shape[0]):\n",
    "        for n in range(Ux_2D.shape[1]):\n",
    "            snr_mn, _, _ = nsp_doppler_shift_extraction(Spectrum, P, wavenumbers[i], Ux_2D[m, n], Uy_2D[m, n])\n",
    "            snrG[m, n] = snr_mn\n",
    "            \n",
    "            \n",
    "    snrG_at_k.append(snrG)\n",
    "    # Append the 2D array to the list\n",
    "    \n",
    "    \n",
    "    im = np.argmax(snrG_at_k[i])\n",
    "    im_at_k.append(im)\n",
    "    \n",
    "    if np.ndim(Ux_2D) == 1:\n",
    "        cDoppGuess = Ux_2D[im]\n",
    "    else:\n",
    "        Ux_1D = Ux_2D.flatten()\n",
    "        Uy_1D = Uy_2D.flatten()\n",
    "        cDoppGuess = [Ux_1D[im], Uy_1D[im]]\n",
    "    \n",
    "    cDoppGuess_at_k.append(cDoppGuess)\n",
    "    \n",
    "    \n",
    "    Ufit = minimize(lambda U: 1 - nsp_doppler_shift_extraction(Spectrum, P, fit_param['wavenumbers'], U[0], U[1])[0], cDoppGuess)\n",
    "    \n",
    "    Ux = Ufit.x[0]\n",
    "    Uy = Ufit.x[1]\n",
    "    \n",
    "    Ux_at_k_correct.append(Ux)\n",
    "    Uy_at_k_correct.append(Uy)\n",
    "    \n",
    "    # Update the tqdm progress bar\n",
    "    progress_bar.update(1)\n",
    "\n",
    "# Close the tqdm progress bar after the loop is finished\n",
    "progress_bar.close()"
   ]
  },
  {
   "cell_type": "code",
   "execution_count": 21,
   "id": "6e248d0b",
   "metadata": {},
   "outputs": [],
   "source": [
    "Ux = np.array(Ux_at_k_correct)\n",
    "Uy = np.array(Uy_at_k_correct)"
   ]
  },
  {
   "cell_type": "code",
   "execution_count": 22,
   "id": "ec8a1e9b-8f2f-4e64-bf03-7c0236512bd4",
   "metadata": {},
   "outputs": [
    {
     "data": {
      "text/plain": [
       "array([-1.19375817, -0.0924    , -0.5003035 , -0.35342573, -0.21118232,\n",
       "       -0.10441806, -0.00736358, -0.13017674, -0.32997495, -0.55931062,\n",
       "       -0.02590044,  0.00815066,  0.05433557,  0.23418007, -0.1159295 ,\n",
       "        0.12006645, -0.10154743, -0.11722977,  0.20439916, -0.10613832,\n",
       "        0.2249342 , -0.3033367 ,  0.19346762, -0.49450982,  0.17486323])"
      ]
     },
     "execution_count": 22,
     "metadata": {},
     "output_type": "execute_result"
    }
   ],
   "source": [
    "Ux"
   ]
  },
  {
   "cell_type": "code",
   "execution_count": 23,
   "id": "661096e1",
   "metadata": {},
   "outputs": [
    {
     "data": {
      "text/plain": [
       "Text(0.5, 1.0, 'Effective Current $|U|$')"
      ]
     },
     "execution_count": 23,
     "metadata": {},
     "output_type": "execute_result"
    },
    {
     "data": {
      "image/png": "[encoded data removed]",
      "text/plain": [
       "<Figure size 640x480 with 1 Axes>"
      ]
     },
     "metadata": {},
     "output_type": "display_data"
    }
   ],
   "source": [
    "#plt.scatter(wavenumbers, np.abs(Ux), label='Ux', color = 'blue')\n",
    "#plt.scatter(wavenumbers, np.abs(Uy), label='Uy', color = 'red')\n",
    "plt.scatter(wavenumbers, np.sqrt(Ux**2+Uy**2), label='|U|', color = 'green')\n",
    "\n",
    "plt.grid(True)\n",
    "plt.legend()\n",
    "plt.ylabel(\"U [m/s]\")\n",
    "plt.xlabel(\"Wavenumber [rad/m]\")\n",
    "plt.title('Effective Current $|U|$')\n",
    "\n",
    "#plt.ylim(0, 1)\n",
    "#plt.xlim(0, 0.31)"
   ]
  },
  {
   "cell_type": "code",
   "execution_count": 24,
   "id": "f948b0e7",
   "metadata": {},
   "outputs": [
    {
     "data": {
      "text/plain": [
       "array([1.87382464, 1.37184285, 1.26115429, 0.97894101, 0.58352719,\n",
       "       0.35196276, 0.24410507, 0.16159354, 0.33034941, 0.55949884,\n",
       "       0.05487835, 0.11072101, 0.50687634, 1.16189123, 0.31385293,\n",
       "       0.35634376, 0.24048495, 0.4147829 , 0.41170389, 0.21635567,\n",
       "       0.6141581 , 0.37034266, 0.5013823 , 0.52716783, 0.4711593 ])"
      ]
     },
     "execution_count": 24,
     "metadata": {},
     "output_type": "execute_result"
    }
   ],
   "source": [
    "np.sqrt(Ux**2+Uy**2)"
   ]
  },
  {
   "cell_type": "code",
   "execution_count": null,
   "id": "1c82ca95-abaa-4fc5-be7c-a42e98bbf840",
   "metadata": {},
   "outputs": [],
   "source": []
  },
  {
   "cell_type": "code",
   "execution_count": 25,
   "id": "9e75b5d3-e4d5-48cc-bedb-e204d2d36e55",
   "metadata": {},
   "outputs": [
    {
     "data": {
      "text/plain": [
       "array([ 1.19373164,  0.09219764,  0.80766418,  0.37972103,  0.20483402,\n",
       "        0.09595621,  0.015503  ,  0.14674536,  0.36591265,  0.53747221,\n",
       "        0.02258366, -0.00803149, -0.05459973, -0.22515355,  0.11555356,\n",
       "       -0.11694829,  0.00951054,  0.06760479, -0.20428248,  0.10607783,\n",
       "       -0.2247308 ,  0.30333695, -0.19334233,  0.49421393, -0.17483282])"
      ]
     },
     "execution_count": 25,
     "metadata": {},
     "output_type": "execute_result"
    }
   ],
   "source": [
    "# Given data\n",
    "Ux_data = \"1.19373163630095 0.0921976399488268 0.807664179809399 0.379721034467220 0.204834018666297 0.0959562069736421 0.0155029957938934 0.146745364195376 0.365912650515842 0.537472206373203 0.0225836566492411 -0.00803149124979970 -0.0545997344242642 -0.225153553264390 0.115553562829737 -0.116948287236155 0.00951054404980936 0.0676047883411229 -0.204282483198040 0.106077826227993 -0.224730803943385 0.303336952663958 -0.193342328575745 0.494213930192604 -0.174832823107135\"\n",
    "Uy_data = \"-1.44450783194133 -1.36836991542678 -0.982782372990096 -0.874078956395388 -0.518555954005569 -0.326492859162390 -0.241227701182372 -0.0836239763826597 -0.00643065226697940 0.0201931967788096 0.0486825602517564 0.109610849618912 0.499902631840086 1.12319124814166 -0.291266587602440 0.307770183346002 0.265646888866162 0.258388271254371 0.357106482705858 -0.188527031168342 0.571057567863500 -0.212480249218643 0.462355502046193 0.182495783783212 0.437427041939372\"\n",
    "k_data = \"0.0380799109526036 0.0507732146034714 0.0634665182543393 0.0761598219052071 0.0888531255560750 0.101546429206943 0.114239732857811 0.126933036508679 0.139626340159546 0.152319643810414 0.165012947461282 0.177706251112150 0.190399554763018 0.203092858413886 0.215786162064753 0.228479465715621 0.241172769366489 0.253866073017357 0.266559376668225 0.279252680319093 0.291945983969961 0.304639287620828 0.317332591271696 0.330025894922564 0.342719198573432\"\n",
    "\n",
    "# Convert the string data to arrays\n",
    "Ux_matlab = np.fromstring(Ux_data, sep=' ')\n",
    "Uy_matlab = np.fromstring(Uy_data, sep=' ')\n",
    "k_matlab = np.fromstring(k_data, sep=' ')\n",
    "\n",
    "Ux_matlab"
   ]
  },
  {
   "cell_type": "code",
   "execution_count": 27,
   "id": "2c86def3-849e-4bb3-84d4-3ade9e5bd195",
   "metadata": {},
   "outputs": [
    {
     "data": {
      "text/plain": [
       "Text(0.5, 1.0, 'Matlab Effective Current $|U|$')"
      ]
     },
     "execution_count": 27,
     "metadata": {},
     "output_type": "execute_result"
    },
    {
     "data": {
      "image/png": "[encoded data removed]",
      "text/plain": [
       "<Figure size 640x480 with 1 Axes>"
      ]
     },
     "metadata": {},
     "output_type": "display_data"
    }
   ],
   "source": [
    "plt.scatter(k_matlab, np.sqrt(Ux_matlab**2+Uy_matlab**2), label='|U|', color = 'green')\n",
    "plt.scatter(wavenumbers, np.sqrt(Ux**2+Uy**2), label='mine', color = 'red')\n",
    "\n",
    "plt.grid(True)\n",
    "plt.legend()\n",
    "plt.ylabel(\"U [m/s]\")\n",
    "plt.xlabel(\"Wavenumber [rad/m]\")\n",
    "plt.title('Matlab Effective Current $|U|$')"
   ]
  },
  {
   "cell_type": "code",
   "execution_count": 31,
   "id": "09b0a9f5-920f-44aa-bf4c-53ec11409c6a",
   "metadata": {},
   "outputs": [
    {
     "data": {
      "text/plain": [
       "Text(0.5, 1.0, 'Matlab Effective Current $U_{x}$')"
      ]
     },
     "execution_count": 31,
     "metadata": {},
     "output_type": "execute_result"
    },
    {
     "data": {
      "image/png": "[encoded data removed]",
      "text/plain": [
       "<Figure size 640x480 with 1 Axes>"
      ]
     },
     "metadata": {},
     "output_type": "display_data"
    }
   ],
   "source": [
    "plt.scatter(k_matlab, Ux_matlab, label='Ux', color = 'green')\n",
    "plt.scatter(wavenumbers, -Ux, label='mine', color = 'red')\n",
    "\n",
    "plt.grid(True)\n",
    "plt.legend()\n",
    "plt.ylabel(\"U [m/s]\")\n",
    "plt.xlabel(\"Wavenumber [rad/m]\")\n",
    "plt.title('Matlab Effective Current $U_{x}$')"
   ]
  },
  {
   "cell_type": "code",
   "execution_count": 32,
   "id": "fe3ab6d3-7c6f-448a-b986-928644890227",
   "metadata": {},
   "outputs": [
    {
     "data": {
      "text/plain": [
       "Text(0.5, 1.0, 'Matlab Effective Current $U_{y}$')"
      ]
     },
     "execution_count": 32,
     "metadata": {},
     "output_type": "execute_result"
    },
    {
     "data": {
      "image/png": "[encoded data removed]",
      "text/plain": [
       "<Figure size 640x480 with 1 Axes>"
      ]
     },
     "metadata": {},
     "output_type": "display_data"
    }
   ],
   "source": [
    "plt.scatter(k_matlab, Uy_matlab, label='Uy', color = 'green')\n",
    "plt.scatter(wavenumbers, Uy, label='mine', color = 'red')\n",
    "\n",
    "plt.grid(True)\n",
    "plt.legend()\n",
    "plt.ylabel(\"U [m/s]\")\n",
    "plt.xlabel(\"Wavenumber [rad/m]\")\n",
    "plt.title('Matlab Effective Current $U_{y}$')"
   ]
  },
  {
   "cell_type": "code",
   "execution_count": null,
   "id": "f93d8a61-af93-4738-836d-c1215e28d619",
   "metadata": {},
   "outputs": [],
   "source": []
  },
  {
   "cell_type": "code",
   "execution_count": null,
   "id": "1afe5cf5-7703-4441-8ac8-a8d43fb33a7b",
   "metadata": {},
   "outputs": [],
   "source": []
  },
  {
   "cell_type": "code",
   "execution_count": null,
   "id": "b952a3a0-d25c-415d-9f36-3d32a7fc53c1",
   "metadata": {},
   "outputs": [],
   "source": []
  },
  {
   "cell_type": "code",
   "execution_count": null,
   "id": "9ecfa02b",
   "metadata": {},
   "outputs": [],
   "source": []
  }
 ],
 "metadata": {
  "kernelspec": {
   "display_name": "Python 3 (ipykernel)",
   "language": "python",
   "name": "python3"
  },
  "language_info": {
   "codemirror_mode": {
    "name": "ipython",
    "version": 3
   },
   "file_extension": ".py",
   "mimetype": "text/x-python",
   "name": "python",
   "nbconvert_exporter": "python",
   "pygments_lexer": "ipython3",
   "version": "3.11.7"
  }
 },
 "nbformat": 4,
 "nbformat_minor": 5
}
