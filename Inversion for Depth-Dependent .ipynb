{
 "cells": [
  {
   "cell_type": "code",
   "execution_count": 1,
   "id": "ac67e0e7",
   "metadata": {},
   "outputs": [],
   "source": [
    "import sys\n",
    "sys.path.append(\"C:\\\\Users\\josep\\Documents\\Anaconda\\pkgs\")\n",
    "import help_tools\n",
    "import wave_tools\n",
    "import cv2\n",
    "import h5py\n",
    "from matplotlib import cm\n",
    "import radar_tools\n",
    "import numpy as np\n",
    "from wave_tools import ConstructWave, surface_core, peak_tracking\n",
    "from wave_tools import fft_interpolate, fft_interface, Spectrum\n",
    "from wave_tools import SpectralAnalysis\n",
    "import matplotlib.pyplot as plt\n",
    "from help_tools import plotting_interface\n",
    "from wave_tools import surface_core, fft_interface, dispersionRelation\n",
    "from help_tools import plotting_interface, polar_coordinates, convolutional_filters, moving_average\n",
    "from scipy.optimize import least_squares\n",
    "from scipy.optimize import minimize\n",
    "from scipy.optimize import curve_fit\n",
    "from matplotlib.ticker import LinearLocator, FormatStrFormatter\n",
    "from tqdm import tqdm\n",
    "from mpl_toolkits.mplot3d import Axes3D\n",
    "from scipy.fftpack import fftn, fftshift\n",
    "from scipy.stats import t\n",
    "from numpy import sqrt, mean"
   ]
  },
  {
   "cell_type": "code",
   "execution_count": 2,
   "id": "2cd04520",
   "metadata": {},
   "outputs": [],
   "source": [
    "sys.path.append(\"C:\\\\Users\\josep\\Desktop\\PHYC40900_Project TP\\Data_NEW\")\n",
    "fileName ='shearing_curr_res_7.5_dt_1.0_T_1200_U_1.0exp(0.5z)+0.05_psi_0_smax_30_0_surf3d.hdf5'\n",
    "# file with psi = 0 \n",
    "f = h5py.File('C:\\\\Users\\josep\\Desktop\\PHYC40900_Project TP\\Data_NEW\\shearing_curr_res_7.5_dt_1.0_T_1200_U_1.0exp(0.5z)+0.05_psi_0_smax_30_0_surf3d.hdf5', 'r')\n"
   ]
  },
  {
   "cell_type": "code",
   "execution_count": 3,
   "id": "ebd99f5e",
   "metadata": {},
   "outputs": [],
   "source": [
    "x = f.get('x')\n",
    "y = f.get('y')\n",
    "z = f.get('z')\n",
    "t = f.get('t')\n",
    "k = f.get('k')\n",
    "U = f.get('U')\n",
    "Uk = f.get('Uk')\n",
    "eta = f.get('eta')\n",
    "x = np.array(x)\n",
    "y = np.array(y)\n",
    "z = np.array(z)\n",
    "t = np.array(t)\n",
    "k = np.array(k)\n",
    "U = np.array(U)\n",
    "Uk = np.array(Uk)\n",
    "eta = np.array(eta)"
   ]
  },
  {
   "cell_type": "code",
   "execution_count": 4,
   "id": "b746f824",
   "metadata": {},
   "outputs": [],
   "source": [
    "Ux = np.array([0.17091544, 0.2196002 , 0.24884891, 0.22784447, 0.365201  ,\n",
    "       0.37375478, 0.39257039, 0.37231073, 0.41550739, 0.43636989,\n",
    "       0.45111672, 0.46662792, 0.48854647, 0.49640163, 0.51887196,\n",
    "       0.52827061, 0.54437941, 0.54929705, 0.56552202, 0.57508514,\n",
    "       0.58477563, 0.59755615])\n",
    "\n",
    "Uy = np.array([ 2.98957309e-01,  9.64168660e-05, -1.46797090e-02, -9.75160307e-02,\n",
    "       -5.19632419e-03, -4.59904496e-02, -2.32619177e-02, -3.68628550e-02,\n",
    "       -2.17454902e-02, -2.99040715e-03, -9.57263434e-03, -1.21971856e-03,\n",
    "       -5.82043301e-03, -1.21835241e-02,  2.33133879e-03, -6.70864695e-03,\n",
    "       -7.49637624e-03, -9.90104750e-03, -5.72381167e-03, -5.34194980e-03,\n",
    "       -6.43512919e-03, -4.68551265e-03])\n",
    "\n",
    "wavenumbers = np.array([0.03751155, 0.05001541, 0.06251926, 0.07502311, 0.08752696,\n",
    "       0.10003081, 0.11253466, 0.12503851, 0.13754236, 0.15004622,\n",
    "       0.16255007, 0.17505392, 0.18755777, 0.20006162, 0.21256547,\n",
    "       0.22506932, 0.23757318, 0.25007703, 0.26258088, 0.27508473,\n",
    "       0.28758858, 0.30009243])"
   ]
  },
  {
   "cell_type": "code",
   "execution_count": 5,
   "id": "6abfd103",
   "metadata": {},
   "outputs": [],
   "source": [
    "def pedm(wavenumbers, uvals, p0=None, bounds=None, water_depth=np.inf):\n",
    "    def pedm_fit_function(x, a, b, c):\n",
    "        return a * x + b * np.exp(c * x)\n",
    "\n",
    "    popt, pcov = curve_fit(pedm_fit_function, np.log(wavenumbers), uvals, p0=p0, bounds=bounds)\n",
    "\n",
    "    eps_PEDM = np.sqrt(np.mean((pedm_fit_function(np.log(wavenumbers), *popt) - uvals)**2))\n",
    "    eps_EDM = eps_EDM = np.sqrt(np.mean((np.polyval(popt, np.log(wavenumbers)) - uvals)**2))\n",
    "\n",
    "    return popt, np.polyfit(np.log(wavenumbers), uvals, 1), eps_PEDM, eps_EDM, {\"additional_info\": \"verbose_info\"}"
   ]
  },
  {
   "cell_type": "code",
   "execution_count": 12,
   "id": "52ecc071",
   "metadata": {},
   "outputs": [
    {
     "data": {
      "text/plain": [
       "{'global': {'wavenumbers': array([0.03751155, 0.05001541, 0.06251926, 0.07502311, 0.08752696,\n",
       "         0.10003081, 0.11253466, 0.12503851, 0.13754236, 0.15004622,\n",
       "         0.16255007, 0.17505392, 0.18755777, 0.20006162, 0.21256547,\n",
       "         0.22506932, 0.23757318, 0.25007703, 0.26258088, 0.27508473,\n",
       "         0.28758858, 0.30009243]),\n",
       "  'U1': array([0.17091544, 0.2196002 , 0.24884891, 0.22784447, 0.365201  ,\n",
       "         0.37375478, 0.39257039, 0.37231073, 0.41550739, 0.43636989,\n",
       "         0.45111672, 0.46662792, 0.48854647, 0.49640163, 0.51887196,\n",
       "         0.52827061, 0.54437941, 0.54929705, 0.56552202, 0.57508514,\n",
       "         0.58477563, 0.59755615]),\n",
       "  'U2': array([ 2.98957309e-01,  9.64168660e-05, -1.46797090e-02, -9.75160307e-02,\n",
       "         -5.19632419e-03, -4.59904496e-02, -2.32619177e-02, -3.68628550e-02,\n",
       "         -2.17454902e-02, -2.99040715e-03, -9.57263434e-03, -1.21971856e-03,\n",
       "         -5.82043301e-03, -1.21835241e-02,  2.33133879e-03, -6.70864695e-03,\n",
       "         -7.49637624e-03, -9.90104750e-03, -5.72381167e-03, -5.34194980e-03,\n",
       "         -6.43512919e-03, -4.68551265e-03]),\n",
       "  'phi': 0,\n",
       "  'Ux': array([0.17091544, 0.2196002 , 0.24884891, 0.22784447, 0.365201  ,\n",
       "         0.37375478, 0.39257039, 0.37231073, 0.41550739, 0.43636989,\n",
       "         0.45111672, 0.46662792, 0.48854647, 0.49640163, 0.51887196,\n",
       "         0.52827061, 0.54437941, 0.54929705, 0.56552202, 0.57508514,\n",
       "         0.58477563, 0.59755615]),\n",
       "  'Uy': array([ 2.98957309e-01,  9.64168660e-05, -1.46797090e-02, -9.75160307e-02,\n",
       "         -5.19632419e-03, -4.59904496e-02, -2.32619177e-02, -3.68628550e-02,\n",
       "         -2.17454902e-02, -2.99040715e-03, -9.57263434e-03, -1.21971856e-03,\n",
       "         -5.82043301e-03, -1.21835241e-02,  2.33133879e-03, -6.70864695e-03,\n",
       "         -7.49637624e-03, -9.90104750e-03, -5.72381167e-03, -5.34194980e-03,\n",
       "         -6.43512919e-03, -4.68551265e-03])},\n",
       " 'EDM': {'lin': {'Z_eff': array([-13.32922793,  -9.99691895,  -7.99753548,  -6.66461308,\n",
       "           -5.7125256 ,  -4.99845997,  -4.44307558,  -3.99876806,\n",
       "           -3.63524372,  -3.33230654,  -3.0759753 ,  -2.8562628 ,\n",
       "           -2.6658453 ,  -2.49922999,  -2.35221647,  -2.22153779,\n",
       "           -2.10461467,  -1.99938395,  -1.9041752 ,  -1.81762179,\n",
       "           -1.73859477,  -1.66615332]),\n",
       "   'U_fun': <function __main__.find_current_depth_profile.<locals>.effective_depth_method.<locals>.<lambda>(z)>,\n",
       "   'eps': 0.04582588583064233},\n",
       "  'log': {'Z_eff': array([-7.4883303 , -5.6162466 , -4.49299746, -3.74416465, -3.20928405,\n",
       "          -2.80812358, -2.49610988, -2.24649891, -2.04227175, -1.87208233,\n",
       "          -1.72807601, -1.60464202, -1.4976659 , -1.40406179, -1.32146993,\n",
       "          -1.24805494, -1.18236779, -1.12324941, -1.06976135, -1.02113584,\n",
       "          -0.97673863, -0.93604119]),\n",
       "   'U_fun': <function __main__.find_current_depth_profile.<locals>.effective_depth_method.<locals>.<lambda>(z)>,\n",
       "   'eps': 0.06852650921477807}},\n",
       " 'PEDM': {'U1_fun': <function __main__.find_current_depth_profile.<locals>.<lambda>(z)>,\n",
       "  'eps1': 0.01866925126062675,\n",
       "  'verbose1': {'additional_info': 'verbose_info'},\n",
       "  'U2_fun': <function __main__.find_current_depth_profile.<locals>.<lambda>(z)>,\n",
       "  'eps2': 0.06852650921477807,\n",
       "  'verbose2': {'additional_info': 'verbose_info'}}}"
      ]
     },
     "execution_count": 12,
     "metadata": {},
     "output_type": "execute_result"
    }
   ],
   "source": [
    "def find_current_depth_profile(wavenumbers, Ux, Uy, water_depth=np.inf):\n",
    "    def U_Phill(Uw, z):\n",
    "        alpha = 0.008\n",
    "        g = 9.81\n",
    "        return 2 * alpha * Uw * (np.exp(2 * g / Uw**2 * z) -\n",
    "                                 np.sqrt(-2 * np.pi * g / Uw**2 * z) *\n",
    "                                 np.erfc(np.sqrt(-2 * g / Uw**2 * z)))\n",
    "\n",
    "    def pedm_fit_function(x, a, b, c):\n",
    "        return a * x + b * np.exp(c * x)\n",
    "\n",
    "    def linear_profile(x, a, b):\n",
    "        return a * x + b\n",
    "\n",
    "    def effective_depth_method(wavenumbers, uvals, water_depth):\n",
    "        Z_eff_lin = -(2 * wavenumbers)**-1 * np.tanh(np.abs(water_depth) * wavenumbers)\n",
    "        Z_eff_log = -(3.56 * wavenumbers)**-1\n",
    "\n",
    "        Z_eff_Phillips = -np.pi * (8 * wavenumbers)**-1\n",
    "\n",
    "        Z_eff = {\"lin\": Z_eff_lin, \"log\": Z_eff_log, \"Phillips\": Z_eff_Phillips}\n",
    "\n",
    "        results = {}\n",
    "\n",
    "        for i, profile_type in enumerate([\"lin\", \"log\", \"Phillips\"]):\n",
    "            uvals_profile = Ux if i == 0 else Uy\n",
    "\n",
    "            if profile_type == \"Phillips\" and water_depth == np.inf:\n",
    "                continue\n",
    "\n",
    "            if profile_type == \"lin\":\n",
    "                popt, _ = curve_fit(linear_profile, Z_eff_lin, uvals_profile)\n",
    "            else:\n",
    "                popt, _ = curve_fit(pedm_fit_function, np.log(wavenumbers), uvals_profile)\n",
    "\n",
    "            Z_eff_profile = Z_eff[profile_type]\n",
    "\n",
    "            uTilde = linear_profile(Z_eff_lin, *popt) if profile_type == \"lin\" else pedm_fit_function(np.log(wavenumbers), *popt)\n",
    "\n",
    "            eps = sqrt(mean((uTilde - uvals_profile)**2))\n",
    "\n",
    "            U_fun = lambda z: linear_profile(z, *popt) if profile_type == \"lin\" else pedm_fit_function(np.log(z), *popt)\n",
    "\n",
    "            results[profile_type] = {\"Z_eff\": Z_eff_profile, \"U_fun\": U_fun, \"eps\": eps}\n",
    "\n",
    "        return results\n",
    "\n",
    "    inds = ~np.isnan(Ux) & ~np.isnan(Uy)\n",
    "    wavenumbers = wavenumbers[inds]\n",
    "\n",
    "    U0 = np.mean(Ux[inds])\n",
    "    V0 = np.mean(Uy[inds])\n",
    "    phi = 0\n",
    "\n",
    "    U1 = Ux[inds] * np.cos(-phi) - Uy[inds] * np.sin(-phi)\n",
    "    U2 = Ux[inds] * np.sin(-phi) + Uy[inds] * np.cos(-phi)\n",
    "\n",
    "    results = {\"global\": {\"wavenumbers\": wavenumbers,\n",
    "                          \"U1\": U1,\n",
    "                          \"U2\": U2,\n",
    "                          \"phi\": phi,\n",
    "                          \"Ux\": Ux[inds],\n",
    "                          \"Uy\": Uy[inds]}}\n",
    "\n",
    "    if water_depth == np.inf:\n",
    "        water_depth = np.inf\n",
    "\n",
    "    results[\"EDM\"] = effective_depth_method(wavenumbers, U1, water_depth)\n",
    "    results[\"PEDM\"] = {}\n",
    "\n",
    "    for i, uvals in enumerate([U1, U2]):\n",
    "        # Provide bounds for the curve_fit function\n",
    "        bounds = ([-np.inf, -np.inf, -np.inf], [np.inf, np.inf, np.inf])\n",
    "        pPEDM, pEDM, eps_PEDM, eps_EDM, verbose = pedm(wavenumbers, uvals, bounds=bounds, water_depth=water_depth)\n",
    "\n",
    "        U_fun = lambda z: np.polyval(pPEDM, z) if i == 0 else np.polyval(pEDM, z)\n",
    "\n",
    "        results[\"PEDM\"][f\"U{i+1}_fun\"] = U_fun\n",
    "        results[\"PEDM\"][f\"eps{i+1}\"] = eps_PEDM\n",
    "        results[\"PEDM\"][f\"verbose{i+1}\"] = verbose\n",
    "\n",
    "    return results\n",
    "\n",
    "# Example usage:\n",
    "results = find_current_depth_profile(wavenumbers, Ux, Uy, water_depth=np.inf)\n",
    "results"
   ]
  },
  {
   "cell_type": "code",
   "execution_count": 13,
   "id": "9ae275cd",
   "metadata": {},
   "outputs": [
    {
     "data": {
      "text/plain": [
       "Text(0, 0.5, 'Depth [m]')"
      ]
     },
     "execution_count": 13,
     "metadata": {},
     "output_type": "execute_result"
    },
    {
     "data": {
      "image/png": "[encoded data removed]",
      "text/plain": [
       "<Figure size 432x288 with 1 Axes>"
      ]
     },
     "metadata": {
      "needs_background": "light"
     },
     "output_type": "display_data"
    }
   ],
   "source": [
    "plt.plot(results['PEDM']['U1_fun'](z), z)\n",
    "\n",
    "plt.plot(results['PEDM']['U2_fun'](z), z)\n",
    "\n",
    "plt.scatter(Ux, -1/(2*wavenumbers))\n",
    "\n",
    "plt.grid(True)\n",
    "plt.xlabel(\"Velocity [m/s]\")\n",
    "plt.ylabel(\"Depth [m]\")"
   ]
  },
  {
   "cell_type": "code",
   "execution_count": 14,
   "id": "b325c913",
   "metadata": {},
   "outputs": [
    {
     "data": {
      "text/plain": [
       "<function __main__.find_current_depth_profile.<locals>.<lambda>(z)>"
      ]
     },
     "execution_count": 14,
     "metadata": {},
     "output_type": "execute_result"
    }
   ],
   "source": [
    "results['PEDM']['U1_fun']"
   ]
  },
  {
   "cell_type": "code",
   "execution_count": 15,
   "id": "af370d19",
   "metadata": {},
   "outputs": [
    {
     "data": {
      "image/png": "[encoded data removed]",
      "text/plain": [
       "<Figure size 432x288 with 1 Axes>"
      ]
     },
     "metadata": {
      "needs_background": "light"
     },
     "output_type": "display_data"
    }
   ],
   "source": [
    "# Plotting dashed line\n",
    "plt.plot(results['PEDM']['U1_fun'](z), z, '--', label='PEDM_x')\n",
    "\n",
    "# Plotting dash-dot line\n",
    "plt.plot(results['PEDM']['U2_fun'](z), z, '-.', label='PEDM_y')\n",
    "\n",
    "# Plotting square markers\n",
    "plt.plot(Ux, 1/(2*wavenumbers), 's', label='EDM_x')\n",
    "\n",
    "# Plotting black line\n",
    "plt.plot(U*np.cos(np.radians(0)), z, 'k', label=r'$U_{x}(z)$')\n",
    "\n",
    "# Plotting black dash-dot line\n",
    "plt.plot(-U*np.sin(np.radians(0)), z, 'k', label=r'$U_{y}(z)$', linewidth=2)\n",
    "\n",
    "plt.legend()\n",
    "plt.grid(True)\n",
    "plt.xlabel(\"Current Velocity [m/s]\")\n",
    "plt.ylabel(\"Depth [m]\")\n",
    "plt.ylim(-14,0)\n",
    "plt.show()"
   ]
  },
  {
   "cell_type": "code",
   "execution_count": null,
   "id": "56c6e505",
   "metadata": {},
   "outputs": [],
   "source": []
  },
  {
   "cell_type": "code",
   "execution_count": null,
   "id": "639796ce",
   "metadata": {},
   "outputs": [],
   "source": []
  }
 ],
 "metadata": {
  "kernelspec": {
   "display_name": "Python 3",
   "language": "python",
   "name": "python3"
  },
  "language_info": {
   "codemirror_mode": {
    "name": "ipython",
    "version": 3
   },
   "file_extension": ".py",
   "mimetype": "text/x-python",
   "name": "python",
   "nbconvert_exporter": "python",
   "pygments_lexer": "ipython3",
   "version": "3.8.8"
  }
 },
 "nbformat": 4,
 "nbformat_minor": 5
}
