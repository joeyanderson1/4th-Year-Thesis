{
 "cells": [
  {
   "cell_type": "code",
   "execution_count": 26,
   "id": "26e4cc5c",
   "metadata": {},
   "outputs": [],
   "source": [
    "import sys\n",
    "sys.path.append(\"C:\\\\Users\\josep\\Documents\\Anaconda\\pkgs\")\n",
    "import help_tools\n",
    "import wave_tools\n",
    "import cv2\n",
    "import h5py\n",
    "from matplotlib import cm\n",
    "import radar_tools\n",
    "import numpy as np\n",
    "from wave_tools import ConstructWave, surface_core, peak_tracking\n",
    "from wave_tools import fft_interpolate, fft_interface, Spectrum\n",
    "from wave_tools import SpectralAnalysis\n",
    "import matplotlib.pyplot as plt\n",
    "from help_tools import plotting_interface\n",
    "from wave_tools import surface_core, fft_interface, dispersionRelation\n",
    "from help_tools import plotting_interface, polar_coordinates, convolutional_filters, moving_average\n",
    "from scipy.optimize import least_squares\n",
    "from scipy.optimize import minimize\n",
    "from scipy.optimize import curve_fit\n",
    "from matplotlib.ticker import LinearLocator, FormatStrFormatter\n",
    "from tqdm import tqdm\n",
    "from mpl_toolkits.mplot3d import Axes3D\n",
    "from scipy.fftpack import fftn, fftshift\n",
    "from scipy.stats import t\n",
    "from numpy import sqrt, mean\n",
    "from scipy.special import gamma, gammaincc"
   ]
  },
  {
   "cell_type": "code",
   "execution_count": 2,
   "id": "c4f70051",
   "metadata": {},
   "outputs": [],
   "source": [
    "sys.path.append(\"C:\\\\Users\\josep\\Desktop\\PHYC40900_Project TP\\Data_NEW\")\n",
    "fileName ='shearing_curr_res_7.5_dt_1.0_T_1200_U_1.0exp(0.5z)+0.05_psi_0_smax_30_0_surf3d.hdf5'\n",
    "# file with psi = 0 \n",
    "f = h5py.File('C:\\\\Users\\josep\\Desktop\\PHYC40900_Project TP\\Data_NEW\\shearing_curr_res_7.5_dt_1.0_T_1200_U_1.0exp(0.5z)+0.05_psi_0_smax_30_0_surf3d.hdf5', 'r')\n"
   ]
  },
  {
   "cell_type": "code",
   "execution_count": 3,
   "id": "37318fcb",
   "metadata": {},
   "outputs": [],
   "source": [
    "x = f.get('x')\n",
    "y = f.get('y')\n",
    "z = f.get('z')\n",
    "t = f.get('t')\n",
    "k = f.get('k')\n",
    "U = f.get('U')\n",
    "Uk = f.get('Uk')\n",
    "eta = f.get('eta')\n",
    "x = np.array(x)\n",
    "y = np.array(y)\n",
    "z = np.array(z)\n",
    "t = np.array(t)\n",
    "k = np.array(k)\n",
    "U = np.array(U)\n",
    "Uk = np.array(Uk)\n",
    "eta = np.array(eta)"
   ]
  },
  {
   "cell_type": "code",
   "execution_count": 4,
   "id": "1a2c981b",
   "metadata": {},
   "outputs": [],
   "source": [
    "Ux = np.array([0.17091544, 0.2196002 , 0.24884891, 0.22784447, 0.365201  ,\n",
    "       0.37375478, 0.39257039, 0.37231073, 0.41550739, 0.43636989,\n",
    "       0.45111672, 0.46662792, 0.48854647, 0.49640163, 0.51887196,\n",
    "       0.52827061, 0.54437941, 0.54929705, 0.56552202, 0.57508514,\n",
    "       0.58477563, 0.59755615])\n",
    "\n",
    "Uy = np.array([ 2.98957309e-01,  9.64168660e-05, -1.46797090e-02, -9.75160307e-02,\n",
    "       -5.19632419e-03, -4.59904496e-02, -2.32619177e-02, -3.68628550e-02,\n",
    "       -2.17454902e-02, -2.99040715e-03, -9.57263434e-03, -1.21971856e-03,\n",
    "       -5.82043301e-03, -1.21835241e-02,  2.33133879e-03, -6.70864695e-03,\n",
    "       -7.49637624e-03, -9.90104750e-03, -5.72381167e-03, -5.34194980e-03,\n",
    "       -6.43512919e-03, -4.68551265e-03])\n",
    "\n",
    "wavenumbers = np.array([0.03751155, 0.05001541, 0.06251926, 0.07502311, 0.08752696,\n",
    "       0.10003081, 0.11253466, 0.12503851, 0.13754236, 0.15004622,\n",
    "       0.16255007, 0.17505392, 0.18755777, 0.20006162, 0.21256547,\n",
    "       0.22506932, 0.23757318, 0.25007703, 0.26258088, 0.27508473,\n",
    "       0.28758858, 0.30009243])"
   ]
  },
  {
   "cell_type": "code",
   "execution_count": 5,
   "id": "878a2666",
   "metadata": {},
   "outputs": [
    {
     "data": {
      "text/plain": [
       "(0.0, 0.31)"
      ]
     },
     "execution_count": 5,
     "metadata": {},
     "output_type": "execute_result"
    },
    {
     "data": {
      "image/png": "[encoded data removed]",
      "text/plain": [
       "<Figure size 432x288 with 1 Axes>"
      ]
     },
     "metadata": {
      "needs_background": "light"
     },
     "output_type": "display_data"
    }
   ],
   "source": [
    "plt.scatter(wavenumbers, Ux, label=r'$U_{x}$', color = 'blue')\n",
    "plt.scatter(wavenumbers, Uy, label=r'$U_{y}$', color = 'red')\n",
    "plt.plot(k, Uk[:,0], label = r'Correct $U_{x}$', linestyle='--', color='blue')\n",
    "plt.plot(k, np.zeros(len(k)), label = r'Correct $U_{y}$', linestyle='--', color='red')\n",
    "\n",
    "plt.grid(True)\n",
    "plt.legend(fontsize=12)\n",
    "plt.ylabel(\"U [m/s]\")\n",
    "plt.xlabel(\"Wavenumber [rad/m]\")\n",
    "\n",
    "plt.ylim(-0.5, 1.4)\n",
    "plt.xlim(0, 0.31)"
   ]
  },
  {
   "cell_type": "code",
   "execution_count": 6,
   "id": "ecd2cb08",
   "metadata": {},
   "outputs": [],
   "source": [
    "def pedm(wavenumbers, uvals, p0=None, bounds=None, water_depth=np.inf):\n",
    "    def pedm_fit_function(x, a, b, c):\n",
    "        return a * x + b * np.exp(c * x)\n",
    "\n",
    "    popt, pcov = curve_fit(pedm_fit_function, np.log(wavenumbers), uvals, p0=p0, bounds=bounds)\n",
    "\n",
    "    eps_PEDM = np.sqrt(np.mean((pedm_fit_function(np.log(wavenumbers), *popt) - uvals)**2))\n",
    "    eps_EDM = eps_EDM = np.sqrt(np.mean((np.polyval(popt, np.log(wavenumbers)) - uvals)**2))\n",
    "\n",
    "    return popt, np.polyfit(np.log(wavenumbers), uvals, 1), eps_PEDM, eps_EDM, {\"additional_info\": \"verbose_info\"}"
   ]
  },
  {
   "cell_type": "code",
   "execution_count": null,
   "id": "92299eef",
   "metadata": {},
   "outputs": [],
   "source": []
  },
  {
   "cell_type": "code",
   "execution_count": 7,
   "id": "7906fcbe",
   "metadata": {},
   "outputs": [
    {
     "name": "stderr",
     "output_type": "stream",
     "text": [
      "C:\\Users\\josep\\Documents\\Anaconda\\lib\\site-packages\\scipy\\optimize\\_minpack_py.py:881: OptimizeWarning: Covariance of the parameters could not be estimated\n",
      "  warnings.warn('Covariance of the parameters could not be estimated',\n"
     ]
    },
    {
     "data": {
      "text/plain": [
       "{'global': {'wavenumbers': array([0.03751155, 0.05001541, 0.06251926, 0.07502311, 0.08752696,\n",
       "         0.10003081, 0.11253466, 0.12503851, 0.13754236, 0.15004622,\n",
       "         0.16255007, 0.17505392, 0.18755777, 0.20006162, 0.21256547,\n",
       "         0.22506932, 0.23757318, 0.25007703, 0.26258088, 0.27508473,\n",
       "         0.28758858, 0.30009243]),\n",
       "  'U1': array([0.17091544, 0.2196002 , 0.24884891, 0.22784447, 0.365201  ,\n",
       "         0.37375478, 0.39257039, 0.37231073, 0.41550739, 0.43636989,\n",
       "         0.45111672, 0.46662792, 0.48854647, 0.49640163, 0.51887196,\n",
       "         0.52827061, 0.54437941, 0.54929705, 0.56552202, 0.57508514,\n",
       "         0.58477563, 0.59755615]),\n",
       "  'U2': array([ 2.98957309e-01,  9.64168660e-05, -1.46797090e-02, -9.75160307e-02,\n",
       "         -5.19632419e-03, -4.59904496e-02, -2.32619177e-02, -3.68628550e-02,\n",
       "         -2.17454902e-02, -2.99040715e-03, -9.57263434e-03, -1.21971856e-03,\n",
       "         -5.82043301e-03, -1.21835241e-02,  2.33133879e-03, -6.70864695e-03,\n",
       "         -7.49637624e-03, -9.90104750e-03, -5.72381167e-03, -5.34194980e-03,\n",
       "         -6.43512919e-03, -4.68551265e-03]),\n",
       "  'phi': 0,\n",
       "  'Ux': array([0.17091544, 0.2196002 , 0.24884891, 0.22784447, 0.365201  ,\n",
       "         0.37375478, 0.39257039, 0.37231073, 0.41550739, 0.43636989,\n",
       "         0.45111672, 0.46662792, 0.48854647, 0.49640163, 0.51887196,\n",
       "         0.52827061, 0.54437941, 0.54929705, 0.56552202, 0.57508514,\n",
       "         0.58477563, 0.59755615]),\n",
       "  'Uy': array([ 2.98957309e-01,  9.64168660e-05, -1.46797090e-02, -9.75160307e-02,\n",
       "         -5.19632419e-03, -4.59904496e-02, -2.32619177e-02, -3.68628550e-02,\n",
       "         -2.17454902e-02, -2.99040715e-03, -9.57263434e-03, -1.21971856e-03,\n",
       "         -5.82043301e-03, -1.21835241e-02,  2.33133879e-03, -6.70864695e-03,\n",
       "         -7.49637624e-03, -9.90104750e-03, -5.72381167e-03, -5.34194980e-03,\n",
       "         -6.43512919e-03, -4.68551265e-03])},\n",
       " 'EDM': {'lin': {'Z_eff': array([-13.32922793,  -9.99691895,  -7.99753548,  -6.66461308,\n",
       "           -5.7125256 ,  -4.99845997,  -4.44307558,  -3.99876806,\n",
       "           -3.63524372,  -3.33230654,  -3.0759753 ,  -2.8562628 ,\n",
       "           -2.6658453 ,  -2.49922999,  -2.35221647,  -2.22153779,\n",
       "           -2.10461467,  -1.99938395,  -1.9041752 ,  -1.81762179,\n",
       "           -1.73859477,  -1.66615332]),\n",
       "   'U_fun': <function __main__.find_current_depth_profile.<locals>.effective_depth_method.<locals>.<lambda>(z)>,\n",
       "   'eps': 0.04582588583064233},\n",
       "  'log': {'Z_eff': array([-7.4883303 , -5.6162466 , -4.49299746, -3.74416465, -3.20928405,\n",
       "          -2.80812358, -2.49610988, -2.24649891, -2.04227175, -1.87208233,\n",
       "          -1.72807601, -1.60464202, -1.4976659 , -1.40406179, -1.32146993,\n",
       "          -1.24805494, -1.18236779, -1.12324941, -1.06976135, -1.02113584,\n",
       "          -0.97673863, -0.93604119]),\n",
       "   'U_fun': <function __main__.find_current_depth_profile.<locals>.effective_depth_method.<locals>.<lambda>(z)>,\n",
       "   'eps': 0.06852650921477807}},\n",
       " 'PEDM': {'U1_fun': <function __main__.find_current_depth_profile.<locals>.<lambda>(z)>,\n",
       "  'eps1': 0.01866925126062675,\n",
       "  'verbose1': {'additional_info': 'verbose_info'},\n",
       "  'U2_fun': <function __main__.find_current_depth_profile.<locals>.<lambda>(z)>,\n",
       "  'eps2': 0.06852650921477807,\n",
       "  'verbose2': {'additional_info': 'verbose_info'}}}"
      ]
     },
     "execution_count": 7,
     "metadata": {},
     "output_type": "execute_result"
    }
   ],
   "source": [
    "def find_current_depth_profile(wavenumbers, Ux, Uy, water_depth=np.inf):\n",
    "    def U_Phill(Uw, z):\n",
    "        alpha = 0.008\n",
    "        g = 9.81\n",
    "        return 2 * alpha * Uw * (np.exp(2 * g / Uw**2 * z) -\n",
    "                                 np.sqrt(-2 * np.pi * g / Uw**2 * z) *\n",
    "                                 np.erfc(np.sqrt(-2 * g / Uw**2 * z)))\n",
    "\n",
    "    def pedm_fit_function(x, a, b, c):\n",
    "        return a * x + b * np.exp(c * x)\n",
    "\n",
    "    def linear_profile(x, a, b):\n",
    "        return a * x + b\n",
    "\n",
    "    def effective_depth_method(wavenumbers, uvals, water_depth):\n",
    "        Z_eff_lin = -(2 * wavenumbers)**-1 * np.tanh(np.abs(water_depth) * wavenumbers)\n",
    "        Z_eff_log = -(3.56 * wavenumbers)**-1\n",
    "\n",
    "        Z_eff_Phillips = -np.pi * (8 * wavenumbers)**-1\n",
    "\n",
    "        Z_eff = {\"lin\": Z_eff_lin, \"log\": Z_eff_log, \"Phillips\": Z_eff_Phillips}\n",
    "\n",
    "        results = {}\n",
    "\n",
    "        for i, profile_type in enumerate([\"lin\", \"log\", \"Phillips\"]):\n",
    "            uvals_profile = Ux if i == 0 else Uy\n",
    "\n",
    "            if profile_type == \"Phillips\" and water_depth == np.inf:\n",
    "                continue\n",
    "\n",
    "            if profile_type == \"lin\":\n",
    "                popt, _ = curve_fit(linear_profile, Z_eff_lin, uvals_profile)\n",
    "            else:\n",
    "                popt, _ = curve_fit(pedm_fit_function, np.log(wavenumbers), uvals_profile)\n",
    "\n",
    "            Z_eff_profile = Z_eff[profile_type]\n",
    "\n",
    "            uTilde = linear_profile(Z_eff_lin, *popt) if profile_type == \"lin\" else pedm_fit_function(np.log(wavenumbers), *popt)\n",
    "\n",
    "            eps = sqrt(mean((uTilde - uvals_profile)**2))\n",
    "\n",
    "            U_fun = lambda z: linear_profile(z, *popt) if profile_type == \"lin\" else pedm_fit_function(np.log(z), *popt)\n",
    "\n",
    "            results[profile_type] = {\"Z_eff\": Z_eff_profile, \"U_fun\": U_fun, \"eps\": eps}\n",
    "\n",
    "        return results\n",
    "\n",
    "    inds = ~np.isnan(Ux) & ~np.isnan(Uy)\n",
    "    wavenumbers = wavenumbers[inds]\n",
    "\n",
    "    U0 = np.mean(Ux[inds])\n",
    "    V0 = np.mean(Uy[inds])\n",
    "    phi = 0\n",
    "\n",
    "    U1 = Ux[inds] * np.cos(-phi) - Uy[inds] * np.sin(-phi)\n",
    "    U2 = Ux[inds] * np.sin(-phi) + Uy[inds] * np.cos(-phi)\n",
    "\n",
    "    results = {\"global\": {\"wavenumbers\": wavenumbers,\n",
    "                          \"U1\": U1,\n",
    "                          \"U2\": U2,\n",
    "                          \"phi\": phi,\n",
    "                          \"Ux\": Ux[inds],\n",
    "                          \"Uy\": Uy[inds]}}\n",
    "\n",
    "    if water_depth == np.inf:\n",
    "        water_depth = np.inf\n",
    "\n",
    "    results[\"EDM\"] = effective_depth_method(wavenumbers, U1, water_depth)\n",
    "    results[\"PEDM\"] = {}\n",
    "\n",
    "    for i, uvals in enumerate([U1, U2]):\n",
    "        # Provide bounds for the curve_fit function\n",
    "        bounds = ([-np.inf, -np.inf, -np.inf], [np.inf, np.inf, np.inf])\n",
    "        pPEDM, pEDM, eps_PEDM, eps_EDM, verbose = pedm(wavenumbers, uvals, bounds=bounds, water_depth=water_depth)\n",
    "\n",
    "        U_fun = lambda z: np.polyval(pPEDM, z) if i == 0 else np.polyval(pEDM, z)\n",
    "\n",
    "        results[\"PEDM\"][f\"U{i+1}_fun\"] = U_fun\n",
    "        results[\"PEDM\"][f\"eps{i+1}\"] = eps_PEDM\n",
    "        results[\"PEDM\"][f\"verbose{i+1}\"] = verbose\n",
    "\n",
    "    return results\n",
    "\n",
    "# Example usage:\n",
    "results = find_current_depth_profile(wavenumbers, Ux, Uy, water_depth=np.inf)\n",
    "results"
   ]
  },
  {
   "cell_type": "code",
   "execution_count": 8,
   "id": "1d7e636b",
   "metadata": {},
   "outputs": [
    {
     "data": {
      "text/plain": [
       "Text(0, 0.5, 'Depth [m]')"
      ]
     },
     "execution_count": 8,
     "metadata": {},
     "output_type": "execute_result"
    },
    {
     "data": {
      "image/png": "[encoded data removed]",
      "text/plain": [
       "<Figure size 432x288 with 1 Axes>"
      ]
     },
     "metadata": {
      "needs_background": "light"
     },
     "output_type": "display_data"
    }
   ],
   "source": [
    "plt.plot(results['PEDM']['U1_fun'](z), z)\n",
    "\n",
    "plt.plot(results['PEDM']['U2_fun'](z), z)\n",
    "\n",
    "plt.scatter(Ux, -1/(2*wavenumbers))\n",
    "\n",
    "plt.grid(True)\n",
    "plt.xlabel(\"Velocity [m/s]\")\n",
    "plt.ylabel(\"Depth [m]\")"
   ]
  },
  {
   "cell_type": "code",
   "execution_count": 9,
   "id": "3e16694e",
   "metadata": {},
   "outputs": [
    {
     "data": {
      "text/plain": [
       "<function __main__.find_current_depth_profile.<locals>.<lambda>(z)>"
      ]
     },
     "execution_count": 9,
     "metadata": {},
     "output_type": "execute_result"
    }
   ],
   "source": [
    "results['PEDM']['U1_fun']"
   ]
  },
  {
   "cell_type": "code",
   "execution_count": 10,
   "id": "0ad0c536",
   "metadata": {},
   "outputs": [
    {
     "data": {
      "image/png": "[encoded data removed]",
      "text/plain": [
       "<Figure size 432x288 with 1 Axes>"
      ]
     },
     "metadata": {
      "needs_background": "light"
     },
     "output_type": "display_data"
    }
   ],
   "source": [
    "# Plotting dashed line\n",
    "plt.plot(results['PEDM']['U1_fun'](z), z, '--', label='PEDM_x')\n",
    "\n",
    "# Plotting dash-dot line\n",
    "plt.plot(results['PEDM']['U2_fun'](z), z, '-.', label='PEDM_y')\n",
    "\n",
    "# Plotting square markers\n",
    "plt.plot(Ux, 1/(2*wavenumbers), 's', label='EDM_x')\n",
    "\n",
    "# Plotting black line\n",
    "plt.plot(U*np.cos(np.radians(0)), z, 'k', label=r'$U_{x}(z)$')\n",
    "\n",
    "# Plotting black dash-dot line\n",
    "plt.plot(-U*np.sin(np.radians(0)), z, 'k', label=r'$U_{y}(z)$', linewidth=2)\n",
    "\n",
    "plt.legend()\n",
    "plt.grid(True)\n",
    "plt.xlabel(\"Current Velocity [m/s]\")\n",
    "plt.ylabel(\"Depth [m]\")\n",
    "plt.ylim(-14,0)\n",
    "plt.show()"
   ]
  },
  {
   "cell_type": "code",
   "execution_count": null,
   "id": "d453b278",
   "metadata": {},
   "outputs": [],
   "source": []
  },
  {
   "cell_type": "code",
   "execution_count": null,
   "id": "fcce05f8",
   "metadata": {},
   "outputs": [],
   "source": []
  },
  {
   "cell_type": "code",
   "execution_count": null,
   "id": "27dcc4e2",
   "metadata": {},
   "outputs": [],
   "source": []
  },
  {
   "cell_type": "code",
   "execution_count": null,
   "id": "b4551631",
   "metadata": {},
   "outputs": [],
   "source": []
  },
  {
   "cell_type": "code",
   "execution_count": null,
   "id": "bba6a098",
   "metadata": {},
   "outputs": [],
   "source": []
  },
  {
   "cell_type": "code",
   "execution_count": null,
   "id": "63603c83",
   "metadata": {},
   "outputs": [],
   "source": []
  },
  {
   "cell_type": "code",
   "execution_count": 11,
   "id": "39d6d5a0",
   "metadata": {},
   "outputs": [],
   "source": [
    "import numpy as np\n",
    "from scipy.optimize import minimize_scalar\n",
    "from scipy.optimize import minimize\n",
    "from scipy.special import gamma, gammainc\n",
    "\n",
    "def pedm(k_vect, c_til, nMax_vals=None, deltaz_T_vals=None, deltaz_B_vals=None, waterDepth=None):\n",
    "    # Define Root-mean-square function for later use\n",
    "    rms = lambda x: np.sqrt(np.mean(x**2))\n",
    "\n",
    "    # If user has not provided information about the waterDepth, set to infinity\n",
    "    if waterDepth is None:\n",
    "        waterDepth = np.inf\n",
    "\n",
    "    # Handling for inadequate input data.\n",
    "    if not k_vect or not c_til:\n",
    "        return np.nan, np.nan, np.nan, np.nan, np.nan\n",
    "\n",
    "    # Now we start with the PEDM. The steps follow those in the manuscript in section 2.1.2\n",
    "    # Effect of limitations of measured Doppler shifts\n",
    "\n",
    "    # Calculate effective depths of Doppler shift velocities based on assumption of a linear profile\n",
    "    Z_eff = -(2 * k_vect) ** -1 * np.tanh(np.abs(waterDepth) * k_vect)\n",
    "\n",
    "    # Set default values for PEDM parameter combinations if inputs left blank\n",
    "    if nMax_vals is None:\n",
    "        nm = min(12, round(len(k_vect) / 2))\n",
    "        nMax_vals = np.arange(nm + 1)\n",
    "\n",
    "    if deltaz_T_vals is None:\n",
    "        depthRange = np.abs(Z_eff[0] - Z_eff[-1])\n",
    "        deltaz_T_vals = np.linspace(0.01, 0.2, 20) * depthRange\n",
    "\n",
    "    if deltaz_B_vals is None:\n",
    "        depthRange = np.abs(Z_eff[0] - Z_eff[-1])\n",
    "        deltaz_B_vals = np.linspace(0.02, 0.8, 20) * depthRange\n",
    "\n",
    "    z_c = max(4 * np.min(Z_eff), -np.abs(waterDepth))  # Cutoff depth chosen as 4 times the deepest mapped depth.\n",
    "\n",
    "    # We loop over all PEDM parameter combinations. First initialize eps_PEDM_out as well as the other outputs.\n",
    "    eps_PEDM_out = np.inf\n",
    "    eps_EDM_out = np.inf\n",
    "    pPEDM_out = np.nan\n",
    "    pEDM_out = np.nan\n",
    "    verbose = []\n",
    "    combo = 0\n",
    "\n",
    "    for nMax in nMax_vals:\n",
    "        for deltaz_B in deltaz_B_vals:\n",
    "            for deltaz_T in deltaz_T_vals:\n",
    "                # STEP 1: Fit the mapped Doppler shifts to a polynomial of order nMax.\n",
    "                p1 = np.polyfit(Z_eff, c_til, nMax)\n",
    "\n",
    "                # STEP 2: Create additional velocity-depth pairs by linearly extrapolating up to the surface\n",
    "                # and down to cutoff depth z_c\n",
    "                zB = np.linspace(0, deltaz_B, 100)\n",
    "                zT = np.linspace(-deltaz_T, 0, 100)\n",
    "                pTop = np.polyfit(Z_eff[-1] + zT, np.polyval(p1, Z_eff[-1] + zT), 1)\n",
    "                pBottom = np.polyfit(Z_eff[0] + zB, np.polyval(p1, Z_eff[0] + zB), 1)\n",
    "\n",
    "                depthsExBtm = np.arange(z_c, Z_eff[0] - deltaz_B, deltaz_B)\n",
    "                depthsExTop = np.concatenate((np.arange(Z_eff[-1] + deltaz_T, 0, deltaz_T), [0]))\n",
    "                zEx = np.concatenate((depthsExBtm, Z_eff, depthsExTop))\n",
    "                cTilEx = np.concatenate((np.polyval(pBottom, depthsExBtm), c_til, np.polyval(pTop, depthsExTop)))\n",
    "\n",
    "                # STEP 3: Perform a second polynomial fit on the expanded set of points to produce the profile considered U_EDM.\n",
    "                pEDM = np.polyfit(zEx, cTilEx, nMax)\n",
    "\n",
    "                # Determine if profile is monotonic with the range of mapped depths.\n",
    "                nv = np.arange(nMax, 0, -1)\n",
    "                pczEx_p = nv * pEDM[:-1]  # Derivative polynomial coefficients\n",
    "                rts = np.roots(pczEx_p)  # Find roots\n",
    "                rts = rts[np.isreal(rts)].real  # Discard complex roots\n",
    "\n",
    "                # If there roots of the derivative within ranges of mapped depths, don't go further.\n",
    "                if any(rts > Z_eff[0] and rts < 0):\n",
    "                    continue\n",
    "\n",
    "                # STEP 4: Scale polynomial coefficients defining U_EDM by n! as in equation (8) in the article.\n",
    "                pPEDM_i = pEDM / np.array([gamma(i) for i in range(nMax, -1, -1)])\n",
    "\n",
    "                # STEP 5: Create a new set of linearly extrapolated points down to z_c based on the average shear\n",
    "                # of the above polynomial function in a depth interval deltaz_B/2 at the deep end of the regime.\n",
    "                zB2 = np.linspace(0, deltaz_B / 2, 100)\n",
    "                pBottom2 = np.polyfit(Z_eff[0] + zB, np.polyval(pPEDM_i, Z_eff[0] + zB), 1)\n",
    "\n",
    "                depthsExBtm2 = np.arange(z_c, Z_eff[0] - deltaz_B, deltaz_B / 2)\n",
    "                zEx2 = np.concatenate((depthsExBtm2, Z_eff, depthsExTop))\n",
    "                Uvals = np.concatenate((np.polyval(pBottom2, depthsExBtm2), np.polyval(pPEDM_i, Z_eff),\n",
    "                                       np.polyval(pPEDM_i, depthsExTop)))\n",
    "\n",
    "                # STEP 6: Perform a final polynomial fit on the expanded set of points.\n",
    "                pPEDM = np.polyfit(zEx2, Uvals, nMax)\n",
    "\n",
    "                # Calculate Doppler shifts assuming U_EDM or U_PEDM as the current profile, using the forward problem.\n",
    "                c_tilEDM = np.zeros_like(k_vect)\n",
    "                c_tilPEDM = np.zeros_like(k_vect)\n",
    "\n",
    "                if nMax < 2:\n",
    "                    for n in range(nMax + 1):\n",
    "                        c_tilEDM += factorial(n) * pPEDM[-n - 1] * (-1 / (2 * k_vect)) ** n\n",
    "                        c_tilPEDM += factorial(n) * pPEDM[-n - 1] * (-1 / (2 * k_vect)) ** n\n",
    "                else:\n",
    "                    for n in range(nMax + 1):\n",
    "                        c_tilEDM += (-1 / 2) ** n * k_vect ** (-n) * pPEDM[-n - 1] * (\n",
    "                                    gammainc(-2 * k_vect * z_c, 1 + n, 'lower')) * gamma(n + 1)\n",
    "                        c_tilPEDM += (-1 / 2) ** n * k_vect ** (-n) * pPEDM[-n - 1] * (\n",
    "                                    gammainc(-2 * k_vect * z_c, 1 + n, 'lower')) * gamma(n + 1)\n",
    "\n",
    "                # Calculate RMS differences (equation (9) in the manuscript)\n",
    "                eps_EDM = rms(c_til - c_tilEDM)\n",
    "                eps_PEDM = rms(c_til - c_tilPEDM)\n",
    "\n",
    "                # Parameters nMax, deltaz_T, and deltaz_B are chosen to minimize eps_PEDM in practice.\n",
    "                if eps_PEDM < eps_PEDM_out:\n",
    "                    eps_PEDM_out = eps_PEDM\n",
    "                    pPEDM_out = pPEDM\n",
    "                    nMax_out = nMax\n",
    "                    deltaz_B_out = deltaz_B\n",
    "                    deltaz_T_out = deltaz_T\n",
    "\n",
    "                if eps_EDM < eps_EDM_out:\n",
    "                    eps_EDM_out = eps_EDM\n",
    "\n",
    "                combo += 1\n",
    "                verbose.append({\n",
    "                    'pPEDM': pPEDM.tolist(),\n",
    "                    'pEDM': pEDM.tolist(),\n",
    "                    'eps_PEDM': eps_PEDM,\n",
    "                    'eps_EDM': eps_EDM,\n",
    "                    'nMax': nMax,\n",
    "                    'deltaz_B': deltaz_B,\n",
    "                    'deltaz_T': deltaz_T\n",
    "                })\n",
    "\n",
    "    return pPEDM_out, pEDM_out, eps_PEDM_out, eps_EDM_out, verbose"
   ]
  },
  {
   "cell_type": "code",
   "execution_count": 12,
   "id": "53b77cd9",
   "metadata": {},
   "outputs": [
    {
     "ename": "KeyError",
     "evalue": "'uStar1'",
     "output_type": "error",
     "traceback": [
      "\u001b[1;31m---------------------------------------------------------------------------\u001b[0m",
      "\u001b[1;31mKeyError\u001b[0m                                  Traceback (most recent call last)",
      "\u001b[1;32m<ipython-input-12-c5bb353648e1>\u001b[0m in \u001b[0;36m<module>\u001b[1;34m\u001b[0m\n\u001b[0;32m     89\u001b[0m     \u001b[1;32mreturn\u001b[0m \u001b[0mout_global\u001b[0m\u001b[1;33m,\u001b[0m \u001b[1;33m{\u001b[0m\u001b[1;34m'EDM'\u001b[0m\u001b[1;33m:\u001b[0m \u001b[0mout_EDM\u001b[0m\u001b[1;33m,\u001b[0m \u001b[1;34m'PEDM'\u001b[0m\u001b[1;33m:\u001b[0m \u001b[0mout_PEDM\u001b[0m\u001b[1;33m}\u001b[0m\u001b[1;33m\u001b[0m\u001b[1;33m\u001b[0m\u001b[0m\n\u001b[0;32m     90\u001b[0m \u001b[1;33m\u001b[0m\u001b[0m\n\u001b[1;32m---> 91\u001b[1;33m \u001b[0mresult\u001b[0m \u001b[1;33m=\u001b[0m \u001b[0mfind_current_depth_profile\u001b[0m\u001b[1;33m(\u001b[0m\u001b[0mwavenumbers\u001b[0m\u001b[1;33m,\u001b[0m \u001b[0mUx\u001b[0m\u001b[1;33m,\u001b[0m \u001b[0mUy\u001b[0m\u001b[1;33m)\u001b[0m\u001b[1;33m\u001b[0m\u001b[1;33m\u001b[0m\u001b[0m\n\u001b[0m\u001b[0;32m     92\u001b[0m \u001b[0mresult\u001b[0m\u001b[1;33m\u001b[0m\u001b[1;33m\u001b[0m\u001b[0m\n",
      "\u001b[1;32m<ipython-input-12-c5bb353648e1>\u001b[0m in \u001b[0;36mfind_current_depth_profile\u001b[1;34m(wavenumbers, Ux, Uy, waterDepth)\u001b[0m\n\u001b[0;32m     70\u001b[0m         }\n\u001b[0;32m     71\u001b[0m \u001b[1;33m\u001b[0m\u001b[0m\n\u001b[1;32m---> 72\u001b[1;33m     \u001b[0mout_EDM\u001b[0m\u001b[1;33m[\u001b[0m\u001b[1;34m'log'\u001b[0m\u001b[1;33m]\u001b[0m\u001b[1;33m[\u001b[0m\u001b[1;34m'uStar2'\u001b[0m\u001b[1;33m]\u001b[0m \u001b[1;33m=\u001b[0m \u001b[0mout_EDM\u001b[0m\u001b[1;33m[\u001b[0m\u001b[1;34m'log'\u001b[0m\u001b[1;33m]\u001b[0m\u001b[1;33m[\u001b[0m\u001b[1;34m'uStar1'\u001b[0m\u001b[1;33m]\u001b[0m\u001b[1;33m\u001b[0m\u001b[1;33m\u001b[0m\u001b[0m\n\u001b[0m\u001b[0;32m     73\u001b[0m     \u001b[0mout_EDM\u001b[0m\u001b[1;33m[\u001b[0m\u001b[1;34m'log'\u001b[0m\u001b[1;33m]\u001b[0m\u001b[1;33m[\u001b[0m\u001b[1;34m'U2_fun'\u001b[0m\u001b[1;33m]\u001b[0m \u001b[1;33m=\u001b[0m \u001b[0mout_EDM\u001b[0m\u001b[1;33m[\u001b[0m\u001b[1;34m'log'\u001b[0m\u001b[1;33m]\u001b[0m\u001b[1;33m[\u001b[0m\u001b[1;34m'U1_fun'\u001b[0m\u001b[1;33m]\u001b[0m\u001b[1;33m\u001b[0m\u001b[1;33m\u001b[0m\u001b[0m\n\u001b[0;32m     74\u001b[0m     \u001b[0mout_EDM\u001b[0m\u001b[1;33m[\u001b[0m\u001b[1;34m'lin'\u001b[0m\u001b[1;33m]\u001b[0m\u001b[1;33m[\u001b[0m\u001b[1;34m'uStar2'\u001b[0m\u001b[1;33m]\u001b[0m \u001b[1;33m=\u001b[0m \u001b[0mout_EDM\u001b[0m\u001b[1;33m[\u001b[0m\u001b[1;34m'lin'\u001b[0m\u001b[1;33m]\u001b[0m\u001b[1;33m[\u001b[0m\u001b[1;34m'uStar1'\u001b[0m\u001b[1;33m]\u001b[0m\u001b[1;33m\u001b[0m\u001b[1;33m\u001b[0m\u001b[0m\n",
      "\u001b[1;31mKeyError\u001b[0m: 'uStar1'"
     ]
    }
   ],
   "source": [
    "import numpy as np\n",
    "from scipy.optimize import minimize_scalar\n",
    "from scipy.optimize import minimize\n",
    "from scipy.special import gamma, gammainc\n",
    "from scipy.stats import linregress\n",
    "\n",
    "def find_current_depth_profile(wavenumbers, Ux, Uy, waterDepth=np.inf):\n",
    "    if waterDepth is None:\n",
    "        waterDepth = np.inf\n",
    "\n",
    "    indsX = ~np.isnan(Ux)\n",
    "    indsY = ~np.isnan(Uy)\n",
    "    inds = indsX & indsY\n",
    "    wavenumbers = wavenumbers[inds]\n",
    "\n",
    "    U0 = np.mean(Ux[inds])\n",
    "    V0 = np.mean(Uy[inds])\n",
    "    phi = 0\n",
    "\n",
    "    U1 = Ux[inds] * np.cos(-phi) - Uy[inds] * np.sin(-phi)\n",
    "    U2 = Ux[inds] * np.sin(-phi) + Uy[inds] * np.cos(-phi)\n",
    "\n",
    "    out_global = {\n",
    "        'wavenumbers': wavenumbers,\n",
    "        'U1': U1,\n",
    "        'U2': U2,\n",
    "        'phi': phi,\n",
    "        'Ux': Ux[inds],\n",
    "        'Uy': Uy[inds]\n",
    "    }\n",
    "\n",
    "    Z_eff_lin = -(2 * wavenumbers) ** -1 * np.tanh(np.abs(waterDepth) * wavenumbers)\n",
    "    Z_eff_log = -(3.56 * wavenumbers) ** -1\n",
    "\n",
    "    out_EDM = {\n",
    "        'lin': {'Z_eff': Z_eff_lin},\n",
    "        'log': {'Z_eff': Z_eff_log},\n",
    "        'Phillips': {'Z_eff': None}  # Z_eff_Phillips is not defined in the original code\n",
    "    }\n",
    "\n",
    "    kappa = 0.41\n",
    "\n",
    "    for i, uvals in enumerate([U1, U2], start=1):\n",
    "        pLog = linregress(np.log(wavenumbers), uvals)\n",
    "        pLin = np.polyfit(Z_eff_lin, uvals, 1)\n",
    "\n",
    "        usKap = pLog.slope\n",
    "        U0lnz0 = pLog.intercept - usKap * np.log(2 * 1.78)\n",
    "\n",
    "        uTildeLog = np.polyval(pLog, np.log(wavenumbers))\n",
    "        uTildeLin = -pLin[0] / (2 * wavenumbers) * np.tanh(wavenumbers * waterDepth) + pLin[1]\n",
    "\n",
    "        epsLog = np.sqrt(np.mean((uTildeLog - uvals)**2))\n",
    "        epsLin = np.sqrt(np.mean((uTildeLin - uvals)**2))\n",
    "\n",
    "        UlogFun = lambda z: U0lnz0 - usKap * np.log(np.abs(z))\n",
    "        uStar = pLog.slope * kappa\n",
    "\n",
    "        out_EDM['lin' if i == 1 else 'log'] = {\n",
    "            'Usurf1' if i == 1 else 'Usurf2': pLin[1],\n",
    "            'Shear1' if i == 1 else 'Shear2': pLin[0],\n",
    "            'U1_fun' if i == 1 else 'U2_fun': lambda z: np.polyval(pLin, z),\n",
    "            'eps1' if i == 1 else 'eps2': epsLin\n",
    "        }\n",
    "\n",
    "        out_EDM['log' if i == 1 else 'lin'] = {\n",
    "            'U1_fun' if i == 1 else 'U2_fun': UlogFun,\n",
    "            'eps1' if i == 1 else 'eps2': epsLog,\n",
    "            'uStar1' if i == 1 else 'uStar2': uStar\n",
    "        }\n",
    "\n",
    "    out_EDM['log']['uStar2'] = out_EDM['log']['uStar1']\n",
    "    out_EDM['log']['U2_fun'] = out_EDM['log']['U1_fun']\n",
    "    out_EDM['lin']['uStar2'] = out_EDM['lin']['uStar1']\n",
    "    out_EDM['lin']['U2_fun'] = out_EDM['lin']['U1_fun']\n",
    "\n",
    "    pPEDM_1, pEDM_1, eps_PEDM_1, eps_EDM_1, verbose_1 = pedm(wavenumbers, U1, waterDepth=waterDepth)\n",
    "    pPEDM_2, pEDM_2, eps_PEDM_2, eps_EDM_2, verbose_2 = pedm(wavenumbers, U2, waterDepth=waterDepth)\n",
    "\n",
    "    out_PEDM = {\n",
    "        'U1_fun': lambda z: np.polyval(pPEDM_1, z),\n",
    "        'U2_fun': lambda z: np.polyval(pPEDM_2, z),\n",
    "        'eps1': eps_PEDM_1,\n",
    "        'eps2': eps_PEDM_2,\n",
    "        'verbose1': verbose_1,\n",
    "        'verbose2': verbose_2\n",
    "    }\n",
    "\n",
    "    return out_global, {'EDM': out_EDM, 'PEDM': out_PEDM}\n",
    "\n",
    "result = find_current_depth_profile(wavenumbers, Ux, Uy)\n",
    "result"
   ]
  },
  {
   "cell_type": "code",
   "execution_count": 13,
   "id": "01d25363",
   "metadata": {},
   "outputs": [],
   "source": [
    "import numpy as np\n",
    "from scipy.optimize import minimize_scalar\n",
    "from scipy.optimize import minimize\n",
    "from scipy.special import gamma, gammainc\n",
    "from scipy.stats import linregress\n",
    "\n",
    "def find_current_depth_profile(wavenumbers, Ux, Uy, waterDepth=np.inf):\n",
    "    if waterDepth is None:\n",
    "        waterDepth = np.inf\n",
    "\n",
    "    indsX = ~np.isnan(Ux)\n",
    "    indsY = ~np.isnan(Uy)\n",
    "    inds = indsX & indsY\n",
    "    wavenumbers = wavenumbers[inds]\n",
    "\n",
    "    U0 = np.mean(Ux[inds])\n",
    "    V0 = np.mean(Uy[inds])\n",
    "    phi = 0\n",
    "\n",
    "    U1 = Ux[inds] * np.cos(-phi) - Uy[inds] * np.sin(-phi)\n",
    "    U2 = Ux[inds] * np.sin(-phi) + Uy[inds] * np.cos(-phi)\n",
    "\n",
    "    out_global = {\n",
    "        'wavenumbers': wavenumbers,\n",
    "        'U1': U1,\n",
    "        'U2': U2,\n",
    "        'phi': phi,\n",
    "        'Ux': Ux[inds],\n",
    "        'Uy': Uy[inds]\n",
    "    }\n",
    "\n",
    "    Z_eff_lin = -(2 * wavenumbers) ** -1 * np.tanh(np.abs(waterDepth) * wavenumbers)\n",
    "    Z_eff_log = -(3.56 * wavenumbers) ** -1\n",
    "\n",
    "    out_EDM = {\n",
    "        'lin': {'Z_eff': Z_eff_lin},\n",
    "        'log': {'Z_eff': Z_eff_log},\n",
    "        'Phillips': {'Z_eff': None}  # Z_eff_Phillips is not defined in the original code\n",
    "    }\n",
    "\n",
    "    kappa = 0.41\n",
    "\n",
    "    for i, uvals in enumerate([U1, U2], start=1):\n",
    "        pLog = linregress(np.log(wavenumbers), uvals)\n",
    "        pLin = np.polyfit(Z_eff_lin, uvals, 1)\n",
    "\n",
    "        usKap = pLog.slope\n",
    "        U0lnz0 = pLog.intercept - usKap * np.log(2 * 1.78)\n",
    "\n",
    "        uTildeLog = np.polyval(pLog, np.log(wavenumbers))\n",
    "        uTildeLin = -pLin[0] / (2 * wavenumbers) * np.tanh(wavenumbers * waterDepth) + pLin[1]\n",
    "\n",
    "        epsLog = np.sqrt(np.mean((uTildeLog - uvals)**2))\n",
    "        epsLin = np.sqrt(np.mean((uTildeLin - uvals)**2))\n",
    "\n",
    "        UlogFun = lambda z: U0lnz0 - usKap * np.log(np.abs(z))\n",
    "        uStar = pLog.slope * kappa\n",
    "\n",
    "        out_EDM['lin' if i == 1 else 'log'] = {\n",
    "            'Usurf1' if i == 1 else 'Usurf2': pLin[1],\n",
    "            'Shear1' if i == 1 else 'Shear2': pLin[0],\n",
    "            'U1_fun' if i == 1 else 'U2_fun': lambda z: np.polyval(pLin, z),\n",
    "            'eps1' if i == 1 else 'eps2': epsLin\n",
    "        }\n",
    "\n",
    "        out_EDM['log' if i == 1 else 'lin'] = {\n",
    "            'U1_fun' if i == 1 else 'U2_fun': UlogFun,\n",
    "            'eps1' if i == 1 else 'eps2': epsLog,\n",
    "            'uStar1' if i == 1 else 'uStar2': uStar  # Fixed KeyError here\n",
    "        }\n",
    "\n",
    "    out_EDM['log']['uStar2'] = out_EDM['log'].get('uStar1', None)  # Handle KeyError more gracefully\n",
    "    out_EDM['log']['U2_fun'] = out_EDM['log'].get('U1_fun', None)  # Handle KeyError more gracefully\n",
    "    out_EDM['lin']['uStar2'] = out_EDM['lin'].get('uStar1', None)  # Handle KeyError more gracefully\n",
    "    out_EDM['lin']['U2_fun'] = out_EDM['lin'].get('U1_fun', None)  # Handle KeyError more gracefully\n",
    "\n",
    "    pPEDM_1, pEDM_1, eps_PEDM_1, eps_EDM_1, verbose_1 = pedm(wavenumbers, U1, waterDepth=waterDepth)\n",
    "    pPEDM_2, pEDM_2, eps_PEDM_2, eps_EDM_2, verbose_2 = pedm(wavenumbers, U2, waterDepth=waterDepth)\n",
    "\n",
    "    out_PEDM = {\n",
    "        'U1_fun': lambda z: np.polyval(pPEDM_1, z),\n",
    "        'U2_fun': lambda z: np.polyval(pPEDM_2, z),\n",
    "        'eps1': eps_PEDM_1,\n",
    "        'eps2': eps_PEDM_2,\n",
    "        'verbose1': verbose_1,\n",
    "        'verbose2': verbose_2\n",
    "    }\n",
    "\n",
    "    return out_global\n"
   ]
  },
  {
   "cell_type": "code",
   "execution_count": 16,
   "id": "827ca354",
   "metadata": {},
   "outputs": [
    {
     "name": "stderr",
     "output_type": "stream",
     "text": [
      "<ipython-input-15-d08785450e7e>:32: RuntimeWarning: invalid value encountered in scalar divide\n",
      "  return (k_n**2 * k_s * (k_s - k_prime) / ((k_n**2 - k_prime**2) * (k_s**2 - k_prime**2))) * c_til(k_prime)\n"
     ]
    },
    {
     "ename": "TypeError",
     "evalue": "'numpy.ndarray' object is not callable",
     "output_type": "error",
     "traceback": [
      "\u001b[1;31m---------------------------------------------------------------------------\u001b[0m",
      "\u001b[1;31mTypeError\u001b[0m                                 Traceback (most recent call last)",
      "\u001b[1;32m<ipython-input-16-7e3106289a4d>\u001b[0m in \u001b[0;36m<module>\u001b[1;34m\u001b[0m\n\u001b[1;32m----> 1\u001b[1;33m \u001b[0mresult\u001b[0m \u001b[1;33m=\u001b[0m \u001b[0mfind_current_depth_profile\u001b[0m\u001b[1;33m(\u001b[0m\u001b[0mwavenumbers\u001b[0m\u001b[1;33m,\u001b[0m \u001b[0mUx\u001b[0m\u001b[1;33m,\u001b[0m \u001b[0mUy\u001b[0m\u001b[1;33m)\u001b[0m\u001b[1;33m\u001b[0m\u001b[1;33m\u001b[0m\u001b[0m\n\u001b[0m\u001b[0;32m      2\u001b[0m \u001b[0mresult\u001b[0m\u001b[1;33m\u001b[0m\u001b[1;33m\u001b[0m\u001b[0m\n",
      "\u001b[1;32m<ipython-input-13-ea99302b1308>\u001b[0m in \u001b[0;36mfind_current_depth_profile\u001b[1;34m(wavenumbers, Ux, Uy, waterDepth)\u001b[0m\n\u001b[0;32m     75\u001b[0m     \u001b[0mout_EDM\u001b[0m\u001b[1;33m[\u001b[0m\u001b[1;34m'lin'\u001b[0m\u001b[1;33m]\u001b[0m\u001b[1;33m[\u001b[0m\u001b[1;34m'U2_fun'\u001b[0m\u001b[1;33m]\u001b[0m \u001b[1;33m=\u001b[0m \u001b[0mout_EDM\u001b[0m\u001b[1;33m[\u001b[0m\u001b[1;34m'lin'\u001b[0m\u001b[1;33m]\u001b[0m\u001b[1;33m.\u001b[0m\u001b[0mget\u001b[0m\u001b[1;33m(\u001b[0m\u001b[1;34m'U1_fun'\u001b[0m\u001b[1;33m,\u001b[0m \u001b[1;32mNone\u001b[0m\u001b[1;33m)\u001b[0m  \u001b[1;31m# Handle KeyError more gracefully\u001b[0m\u001b[1;33m\u001b[0m\u001b[1;33m\u001b[0m\u001b[0m\n\u001b[0;32m     76\u001b[0m \u001b[1;33m\u001b[0m\u001b[0m\n\u001b[1;32m---> 77\u001b[1;33m     \u001b[0mpPEDM_1\u001b[0m\u001b[1;33m,\u001b[0m \u001b[0mpEDM_1\u001b[0m\u001b[1;33m,\u001b[0m \u001b[0meps_PEDM_1\u001b[0m\u001b[1;33m,\u001b[0m \u001b[0meps_EDM_1\u001b[0m\u001b[1;33m,\u001b[0m \u001b[0mverbose_1\u001b[0m \u001b[1;33m=\u001b[0m \u001b[0mpedm\u001b[0m\u001b[1;33m(\u001b[0m\u001b[0mwavenumbers\u001b[0m\u001b[1;33m,\u001b[0m \u001b[0mU1\u001b[0m\u001b[1;33m,\u001b[0m \u001b[0mwaterDepth\u001b[0m\u001b[1;33m=\u001b[0m\u001b[0mwaterDepth\u001b[0m\u001b[1;33m)\u001b[0m\u001b[1;33m\u001b[0m\u001b[1;33m\u001b[0m\u001b[0m\n\u001b[0m\u001b[0;32m     78\u001b[0m     \u001b[0mpPEDM_2\u001b[0m\u001b[1;33m,\u001b[0m \u001b[0mpEDM_2\u001b[0m\u001b[1;33m,\u001b[0m \u001b[0meps_PEDM_2\u001b[0m\u001b[1;33m,\u001b[0m \u001b[0meps_EDM_2\u001b[0m\u001b[1;33m,\u001b[0m \u001b[0mverbose_2\u001b[0m \u001b[1;33m=\u001b[0m \u001b[0mpedm\u001b[0m\u001b[1;33m(\u001b[0m\u001b[0mwavenumbers\u001b[0m\u001b[1;33m,\u001b[0m \u001b[0mU2\u001b[0m\u001b[1;33m,\u001b[0m \u001b[0mwaterDepth\u001b[0m\u001b[1;33m=\u001b[0m\u001b[0mwaterDepth\u001b[0m\u001b[1;33m)\u001b[0m\u001b[1;33m\u001b[0m\u001b[1;33m\u001b[0m\u001b[0m\n\u001b[0;32m     79\u001b[0m \u001b[1;33m\u001b[0m\u001b[0m\n",
      "\u001b[1;32m<ipython-input-15-d08785450e7e>\u001b[0m in \u001b[0;36mpedm\u001b[1;34m(k_vect, c_til, nMax_vals, deltaz_T_vals, deltaz_B_vals, waterDepth)\u001b[0m\n\u001b[0;32m     45\u001b[0m     \u001b[1;32mfor\u001b[0m \u001b[0mi\u001b[0m\u001b[1;33m,\u001b[0m \u001b[1;33m(\u001b[0m\u001b[0mk_n\u001b[0m\u001b[1;33m,\u001b[0m \u001b[0mk_s\u001b[0m\u001b[1;33m)\u001b[0m \u001b[1;32min\u001b[0m \u001b[0menumerate\u001b[0m\u001b[1;33m(\u001b[0m\u001b[0mzip\u001b[0m\u001b[1;33m(\u001b[0m\u001b[0mk_n_vals\u001b[0m\u001b[1;33m,\u001b[0m \u001b[0mk_s_vals\u001b[0m\u001b[1;33m)\u001b[0m\u001b[1;33m)\u001b[0m\u001b[1;33m:\u001b[0m\u001b[1;33m\u001b[0m\u001b[1;33m\u001b[0m\u001b[0m\n\u001b[0;32m     46\u001b[0m         \u001b[1;31m# Find the roots of the cost function for each k_n and k_s.\u001b[0m\u001b[1;33m\u001b[0m\u001b[1;33m\u001b[0m\u001b[1;33m\u001b[0m\u001b[0m\n\u001b[1;32m---> 47\u001b[1;33m         \u001b[0mresult\u001b[0m \u001b[1;33m=\u001b[0m \u001b[0mminimize_scalar\u001b[0m\u001b[1;33m(\u001b[0m\u001b[0mcost_function\u001b[0m\u001b[1;33m,\u001b[0m \u001b[0margs\u001b[0m\u001b[1;33m=\u001b[0m\u001b[1;33m(\u001b[0m\u001b[0mk_n\u001b[0m\u001b[1;33m,\u001b[0m \u001b[0mk_s\u001b[0m\u001b[1;33m,\u001b[0m \u001b[0mc_til\u001b[0m\u001b[1;33m)\u001b[0m\u001b[1;33m,\u001b[0m \u001b[0mbounds\u001b[0m\u001b[1;33m=\u001b[0m\u001b[1;33m(\u001b[0m\u001b[1;36m0\u001b[0m\u001b[1;33m,\u001b[0m \u001b[0mkMax\u001b[0m\u001b[1;33m)\u001b[0m\u001b[1;33m,\u001b[0m \u001b[0mmethod\u001b[0m\u001b[1;33m=\u001b[0m\u001b[1;34m'bounded'\u001b[0m\u001b[1;33m)\u001b[0m\u001b[1;33m\u001b[0m\u001b[1;33m\u001b[0m\u001b[0m\n\u001b[0m\u001b[0;32m     48\u001b[0m         \u001b[0mpPEDM\u001b[0m\u001b[1;33m[\u001b[0m\u001b[1;33m:\u001b[0m\u001b[1;33m,\u001b[0m \u001b[0mi\u001b[0m\u001b[1;33m]\u001b[0m \u001b[1;33m=\u001b[0m \u001b[0mresult\u001b[0m\u001b[1;33m.\u001b[0m\u001b[0mx\u001b[0m\u001b[1;33m,\u001b[0m \u001b[0mk_s\u001b[0m\u001b[1;33m\u001b[0m\u001b[1;33m\u001b[0m\u001b[0m\n\u001b[0;32m     49\u001b[0m \u001b[1;33m\u001b[0m\u001b[0m\n",
      "\u001b[1;32m~\\Documents\\Anaconda\\lib\\site-packages\\scipy\\optimize\\_minimize.py\u001b[0m in \u001b[0;36mminimize_scalar\u001b[1;34m(fun, bracket, bounds, args, method, tol, options)\u001b[0m\n\u001b[0;32m    889\u001b[0m             raise ValueError('The `bounds` parameter is mandatory for '\n\u001b[0;32m    890\u001b[0m                              'method `bounded`.')\n\u001b[1;32m--> 891\u001b[1;33m         \u001b[1;32mreturn\u001b[0m \u001b[0m_minimize_scalar_bounded\u001b[0m\u001b[1;33m(\u001b[0m\u001b[0mfun\u001b[0m\u001b[1;33m,\u001b[0m \u001b[0mbounds\u001b[0m\u001b[1;33m,\u001b[0m \u001b[0margs\u001b[0m\u001b[1;33m,\u001b[0m \u001b[1;33m**\u001b[0m\u001b[0moptions\u001b[0m\u001b[1;33m)\u001b[0m\u001b[1;33m\u001b[0m\u001b[1;33m\u001b[0m\u001b[0m\n\u001b[0m\u001b[0;32m    892\u001b[0m     \u001b[1;32melif\u001b[0m \u001b[0mmeth\u001b[0m \u001b[1;33m==\u001b[0m \u001b[1;34m'golden'\u001b[0m\u001b[1;33m:\u001b[0m\u001b[1;33m\u001b[0m\u001b[1;33m\u001b[0m\u001b[0m\n\u001b[0;32m    893\u001b[0m         \u001b[1;32mreturn\u001b[0m \u001b[0m_minimize_scalar_golden\u001b[0m\u001b[1;33m(\u001b[0m\u001b[0mfun\u001b[0m\u001b[1;33m,\u001b[0m \u001b[0mbracket\u001b[0m\u001b[1;33m,\u001b[0m \u001b[0margs\u001b[0m\u001b[1;33m,\u001b[0m \u001b[1;33m**\u001b[0m\u001b[0moptions\u001b[0m\u001b[1;33m)\u001b[0m\u001b[1;33m\u001b[0m\u001b[1;33m\u001b[0m\u001b[0m\n",
      "\u001b[1;32m~\\Documents\\Anaconda\\lib\\site-packages\\scipy\\optimize\\_optimize.py\u001b[0m in \u001b[0;36m_minimize_scalar_bounded\u001b[1;34m(func, bounds, args, xatol, maxiter, disp, **unknown_options)\u001b[0m\n\u001b[0;32m   2109\u001b[0m     \u001b[0mrat\u001b[0m \u001b[1;33m=\u001b[0m \u001b[0me\u001b[0m \u001b[1;33m=\u001b[0m \u001b[1;36m0.0\u001b[0m\u001b[1;33m\u001b[0m\u001b[1;33m\u001b[0m\u001b[0m\n\u001b[0;32m   2110\u001b[0m     \u001b[0mx\u001b[0m \u001b[1;33m=\u001b[0m \u001b[0mxf\u001b[0m\u001b[1;33m\u001b[0m\u001b[1;33m\u001b[0m\u001b[0m\n\u001b[1;32m-> 2111\u001b[1;33m     \u001b[0mfx\u001b[0m \u001b[1;33m=\u001b[0m \u001b[0mfunc\u001b[0m\u001b[1;33m(\u001b[0m\u001b[0mx\u001b[0m\u001b[1;33m,\u001b[0m \u001b[1;33m*\u001b[0m\u001b[0margs\u001b[0m\u001b[1;33m)\u001b[0m\u001b[1;33m\u001b[0m\u001b[1;33m\u001b[0m\u001b[0m\n\u001b[0m\u001b[0;32m   2112\u001b[0m     \u001b[0mnum\u001b[0m \u001b[1;33m=\u001b[0m \u001b[1;36m1\u001b[0m\u001b[1;33m\u001b[0m\u001b[1;33m\u001b[0m\u001b[0m\n\u001b[0;32m   2113\u001b[0m     \u001b[0mfmin_data\u001b[0m \u001b[1;33m=\u001b[0m \u001b[1;33m(\u001b[0m\u001b[1;36m1\u001b[0m\u001b[1;33m,\u001b[0m \u001b[0mxf\u001b[0m\u001b[1;33m,\u001b[0m \u001b[0mfx\u001b[0m\u001b[1;33m)\u001b[0m\u001b[1;33m\u001b[0m\u001b[1;33m\u001b[0m\u001b[0m\n",
      "\u001b[1;32m<ipython-input-15-d08785450e7e>\u001b[0m in \u001b[0;36mcost_function\u001b[1;34m(x, k_n, k_s, c_til)\u001b[0m\n\u001b[0;32m     38\u001b[0m     \u001b[1;31m# Define the cost function to be minimized.\u001b[0m\u001b[1;33m\u001b[0m\u001b[1;33m\u001b[0m\u001b[1;33m\u001b[0m\u001b[0m\n\u001b[0;32m     39\u001b[0m     \u001b[1;32mdef\u001b[0m \u001b[0mcost_function\u001b[0m\u001b[1;33m(\u001b[0m\u001b[0mx\u001b[0m\u001b[1;33m,\u001b[0m \u001b[0mk_n\u001b[0m\u001b[1;33m,\u001b[0m \u001b[0mk_s\u001b[0m\u001b[1;33m,\u001b[0m \u001b[0mc_til\u001b[0m\u001b[1;33m)\u001b[0m\u001b[1;33m:\u001b[0m\u001b[1;33m\u001b[0m\u001b[1;33m\u001b[0m\u001b[0m\n\u001b[1;32m---> 40\u001b[1;33m         \u001b[1;32mreturn\u001b[0m \u001b[1;33m(\u001b[0m\u001b[0mintegral\u001b[0m\u001b[1;33m(\u001b[0m\u001b[0mk_n\u001b[0m\u001b[1;33m,\u001b[0m \u001b[0mk_s\u001b[0m\u001b[1;33m,\u001b[0m \u001b[0mc_til\u001b[0m\u001b[1;33m)\u001b[0m \u001b[1;33m-\u001b[0m \u001b[0mx\u001b[0m\u001b[1;33m)\u001b[0m\u001b[1;33m**\u001b[0m\u001b[1;36m2\u001b[0m\u001b[1;33m\u001b[0m\u001b[1;33m\u001b[0m\u001b[0m\n\u001b[0m\u001b[0;32m     41\u001b[0m \u001b[1;33m\u001b[0m\u001b[0m\n\u001b[0;32m     42\u001b[0m     \u001b[1;31m# Initialize arrays to store the results.\u001b[0m\u001b[1;33m\u001b[0m\u001b[1;33m\u001b[0m\u001b[1;33m\u001b[0m\u001b[0m\n",
      "\u001b[1;32m<ipython-input-15-d08785450e7e>\u001b[0m in \u001b[0;36mintegral\u001b[1;34m(k_n, k_s, c_til)\u001b[0m\n\u001b[0;32m     34\u001b[0m     \u001b[1;32mdef\u001b[0m \u001b[0mintegral\u001b[0m\u001b[1;33m(\u001b[0m\u001b[0mk_n\u001b[0m\u001b[1;33m,\u001b[0m \u001b[0mk_s\u001b[0m\u001b[1;33m,\u001b[0m \u001b[0mc_til\u001b[0m\u001b[1;33m)\u001b[0m\u001b[1;33m:\u001b[0m\u001b[1;33m\u001b[0m\u001b[1;33m\u001b[0m\u001b[0m\n\u001b[0;32m     35\u001b[0m         \u001b[1;31m# Perform the integral for a given k_n and k_s.\u001b[0m\u001b[1;33m\u001b[0m\u001b[1;33m\u001b[0m\u001b[1;33m\u001b[0m\u001b[0m\n\u001b[1;32m---> 36\u001b[1;33m         \u001b[1;32mreturn\u001b[0m \u001b[0mquad\u001b[0m\u001b[1;33m(\u001b[0m\u001b[0mfunc_integrand\u001b[0m\u001b[1;33m,\u001b[0m \u001b[1;36m0\u001b[0m\u001b[1;33m,\u001b[0m \u001b[0mkMax\u001b[0m\u001b[1;33m,\u001b[0m \u001b[0margs\u001b[0m\u001b[1;33m=\u001b[0m\u001b[1;33m(\u001b[0m\u001b[0mk_n\u001b[0m\u001b[1;33m,\u001b[0m \u001b[0mk_s\u001b[0m\u001b[1;33m,\u001b[0m \u001b[0mc_til\u001b[0m\u001b[1;33m)\u001b[0m\u001b[1;33m)\u001b[0m\u001b[1;33m[\u001b[0m\u001b[1;36m0\u001b[0m\u001b[1;33m]\u001b[0m\u001b[1;33m\u001b[0m\u001b[1;33m\u001b[0m\u001b[0m\n\u001b[0m\u001b[0;32m     37\u001b[0m \u001b[1;33m\u001b[0m\u001b[0m\n\u001b[0;32m     38\u001b[0m     \u001b[1;31m# Define the cost function to be minimized.\u001b[0m\u001b[1;33m\u001b[0m\u001b[1;33m\u001b[0m\u001b[1;33m\u001b[0m\u001b[0m\n",
      "\u001b[1;32m~\\Documents\\Anaconda\\lib\\site-packages\\scipy\\integrate\\_quadpack_py.py\u001b[0m in \u001b[0;36mquad\u001b[1;34m(func, a, b, args, full_output, epsabs, epsrel, limit, points, weight, wvar, wopts, maxp1, limlst)\u001b[0m\n\u001b[0;32m    409\u001b[0m \u001b[1;33m\u001b[0m\u001b[0m\n\u001b[0;32m    410\u001b[0m     \u001b[1;32mif\u001b[0m \u001b[0mweight\u001b[0m \u001b[1;32mis\u001b[0m \u001b[1;32mNone\u001b[0m\u001b[1;33m:\u001b[0m\u001b[1;33m\u001b[0m\u001b[1;33m\u001b[0m\u001b[0m\n\u001b[1;32m--> 411\u001b[1;33m         retval = _quad(func, a, b, args, full_output, epsabs, epsrel, limit,\n\u001b[0m\u001b[0;32m    412\u001b[0m                        points)\n\u001b[0;32m    413\u001b[0m     \u001b[1;32melse\u001b[0m\u001b[1;33m:\u001b[0m\u001b[1;33m\u001b[0m\u001b[1;33m\u001b[0m\u001b[0m\n",
      "\u001b[1;32m~\\Documents\\Anaconda\\lib\\site-packages\\scipy\\integrate\\_quadpack_py.py\u001b[0m in \u001b[0;36m_quad\u001b[1;34m(func, a, b, args, full_output, epsabs, epsrel, limit, points)\u001b[0m\n\u001b[0;32m    521\u001b[0m     \u001b[1;32mif\u001b[0m \u001b[0mpoints\u001b[0m \u001b[1;32mis\u001b[0m \u001b[1;32mNone\u001b[0m\u001b[1;33m:\u001b[0m\u001b[1;33m\u001b[0m\u001b[1;33m\u001b[0m\u001b[0m\n\u001b[0;32m    522\u001b[0m         \u001b[1;32mif\u001b[0m \u001b[0minfbounds\u001b[0m \u001b[1;33m==\u001b[0m \u001b[1;36m0\u001b[0m\u001b[1;33m:\u001b[0m\u001b[1;33m\u001b[0m\u001b[1;33m\u001b[0m\u001b[0m\n\u001b[1;32m--> 523\u001b[1;33m             \u001b[1;32mreturn\u001b[0m \u001b[0m_quadpack\u001b[0m\u001b[1;33m.\u001b[0m\u001b[0m_qagse\u001b[0m\u001b[1;33m(\u001b[0m\u001b[0mfunc\u001b[0m\u001b[1;33m,\u001b[0m\u001b[0ma\u001b[0m\u001b[1;33m,\u001b[0m\u001b[0mb\u001b[0m\u001b[1;33m,\u001b[0m\u001b[0margs\u001b[0m\u001b[1;33m,\u001b[0m\u001b[0mfull_output\u001b[0m\u001b[1;33m,\u001b[0m\u001b[0mepsabs\u001b[0m\u001b[1;33m,\u001b[0m\u001b[0mepsrel\u001b[0m\u001b[1;33m,\u001b[0m\u001b[0mlimit\u001b[0m\u001b[1;33m)\u001b[0m\u001b[1;33m\u001b[0m\u001b[1;33m\u001b[0m\u001b[0m\n\u001b[0m\u001b[0;32m    524\u001b[0m         \u001b[1;32melse\u001b[0m\u001b[1;33m:\u001b[0m\u001b[1;33m\u001b[0m\u001b[1;33m\u001b[0m\u001b[0m\n\u001b[0;32m    525\u001b[0m             \u001b[1;32mreturn\u001b[0m \u001b[0m_quadpack\u001b[0m\u001b[1;33m.\u001b[0m\u001b[0m_qagie\u001b[0m\u001b[1;33m(\u001b[0m\u001b[0mfunc\u001b[0m\u001b[1;33m,\u001b[0m\u001b[0mbound\u001b[0m\u001b[1;33m,\u001b[0m\u001b[0minfbounds\u001b[0m\u001b[1;33m,\u001b[0m\u001b[0margs\u001b[0m\u001b[1;33m,\u001b[0m\u001b[0mfull_output\u001b[0m\u001b[1;33m,\u001b[0m\u001b[0mepsabs\u001b[0m\u001b[1;33m,\u001b[0m\u001b[0mepsrel\u001b[0m\u001b[1;33m,\u001b[0m\u001b[0mlimit\u001b[0m\u001b[1;33m)\u001b[0m\u001b[1;33m\u001b[0m\u001b[1;33m\u001b[0m\u001b[0m\n",
      "\u001b[1;32m<ipython-input-15-d08785450e7e>\u001b[0m in \u001b[0;36mfunc_integrand\u001b[1;34m(k_n, k_s, k_prime, c_til)\u001b[0m\n\u001b[0;32m     30\u001b[0m     \u001b[1;32mdef\u001b[0m \u001b[0mfunc_integrand\u001b[0m\u001b[1;33m(\u001b[0m\u001b[0mk_n\u001b[0m\u001b[1;33m,\u001b[0m \u001b[0mk_s\u001b[0m\u001b[1;33m,\u001b[0m \u001b[0mk_prime\u001b[0m\u001b[1;33m,\u001b[0m \u001b[0mc_til\u001b[0m\u001b[1;33m)\u001b[0m\u001b[1;33m:\u001b[0m\u001b[1;33m\u001b[0m\u001b[1;33m\u001b[0m\u001b[0m\n\u001b[0;32m     31\u001b[0m         \u001b[1;31m# Function to be integrated in the pedm method.\u001b[0m\u001b[1;33m\u001b[0m\u001b[1;33m\u001b[0m\u001b[1;33m\u001b[0m\u001b[0m\n\u001b[1;32m---> 32\u001b[1;33m         \u001b[1;32mreturn\u001b[0m \u001b[1;33m(\u001b[0m\u001b[0mk_n\u001b[0m\u001b[1;33m**\u001b[0m\u001b[1;36m2\u001b[0m \u001b[1;33m*\u001b[0m \u001b[0mk_s\u001b[0m \u001b[1;33m*\u001b[0m \u001b[1;33m(\u001b[0m\u001b[0mk_s\u001b[0m \u001b[1;33m-\u001b[0m \u001b[0mk_prime\u001b[0m\u001b[1;33m)\u001b[0m \u001b[1;33m/\u001b[0m \u001b[1;33m(\u001b[0m\u001b[1;33m(\u001b[0m\u001b[0mk_n\u001b[0m\u001b[1;33m**\u001b[0m\u001b[1;36m2\u001b[0m \u001b[1;33m-\u001b[0m \u001b[0mk_prime\u001b[0m\u001b[1;33m**\u001b[0m\u001b[1;36m2\u001b[0m\u001b[1;33m)\u001b[0m \u001b[1;33m*\u001b[0m \u001b[1;33m(\u001b[0m\u001b[0mk_s\u001b[0m\u001b[1;33m**\u001b[0m\u001b[1;36m2\u001b[0m \u001b[1;33m-\u001b[0m \u001b[0mk_prime\u001b[0m\u001b[1;33m**\u001b[0m\u001b[1;36m2\u001b[0m\u001b[1;33m)\u001b[0m\u001b[1;33m)\u001b[0m\u001b[1;33m)\u001b[0m \u001b[1;33m*\u001b[0m \u001b[0mc_til\u001b[0m\u001b[1;33m(\u001b[0m\u001b[0mk_prime\u001b[0m\u001b[1;33m)\u001b[0m\u001b[1;33m\u001b[0m\u001b[1;33m\u001b[0m\u001b[0m\n\u001b[0m\u001b[0;32m     33\u001b[0m \u001b[1;33m\u001b[0m\u001b[0m\n\u001b[0;32m     34\u001b[0m     \u001b[1;32mdef\u001b[0m \u001b[0mintegral\u001b[0m\u001b[1;33m(\u001b[0m\u001b[0mk_n\u001b[0m\u001b[1;33m,\u001b[0m \u001b[0mk_s\u001b[0m\u001b[1;33m,\u001b[0m \u001b[0mc_til\u001b[0m\u001b[1;33m)\u001b[0m\u001b[1;33m:\u001b[0m\u001b[1;33m\u001b[0m\u001b[1;33m\u001b[0m\u001b[0m\n",
      "\u001b[1;31mTypeError\u001b[0m: 'numpy.ndarray' object is not callable"
     ]
    }
   ],
   "source": [
    "result = find_current_depth_profile(wavenumbers, Ux, Uy)\n",
    "result"
   ]
  },
  {
   "cell_type": "code",
   "execution_count": null,
   "id": "d86304d8",
   "metadata": {},
   "outputs": [],
   "source": []
  },
  {
   "cell_type": "code",
   "execution_count": 15,
   "id": "7a06fa0f",
   "metadata": {},
   "outputs": [],
   "source": [
    "import numpy as np\n",
    "from scipy.optimize import minimize_scalar\n",
    "from scipy.optimize import minimize\n",
    "from scipy.special import gamma, gammainc\n",
    "from scipy.integrate import quad\n",
    "\n",
    "def pedm(k_vect, c_til, nMax_vals=None, deltaz_T_vals=None, deltaz_B_vals=None, waterDepth=None):\n",
    "    # Handling for inadequate input data.\n",
    "    if k_vect.size == 0 or c_til.size == 0:\n",
    "        return np.nan, np.nan, np.nan, np.nan, np.nan\n",
    "\n",
    "    kMax = k_vect[-1]\n",
    "\n",
    "    # Choose initial guess and bounds for minimization\n",
    "    if nMax_vals is None:\n",
    "        nMax_vals = 100\n",
    "\n",
    "    nMax_vals = int(nMax_vals)\n",
    "    n_vals = np.arange(1, nMax_vals + 1)\n",
    "\n",
    "    if deltaz_T_vals is None:\n",
    "        deltaz_T_vals = 1.0\n",
    "\n",
    "    if deltaz_B_vals is None:\n",
    "        deltaz_B_vals = 1.0\n",
    "\n",
    "    k_n_vals = n_vals * np.pi / (2 * deltaz_T_vals)\n",
    "    k_s_vals = n_vals * np.pi / (2 * deltaz_B_vals)\n",
    "\n",
    "    def func_integrand(k_n, k_s, k_prime, c_til):\n",
    "        # Function to be integrated in the pedm method.\n",
    "        return (k_n**2 * k_s * (k_s - k_prime) / ((k_n**2 - k_prime**2) * (k_s**2 - k_prime**2))) * c_til(k_prime)\n",
    "\n",
    "    def integral(k_n, k_s, c_til):\n",
    "        # Perform the integral for a given k_n and k_s.\n",
    "        return quad(func_integrand, 0, kMax, args=(k_n, k_s, c_til))[0]\n",
    "\n",
    "    # Define the cost function to be minimized.\n",
    "    def cost_function(x, k_n, k_s, c_til):\n",
    "        return (integral(k_n, k_s, c_til) - x)**2\n",
    "\n",
    "    # Initialize arrays to store the results.\n",
    "    pPEDM = np.zeros((2, nMax_vals))\n",
    "\n",
    "    for i, (k_n, k_s) in enumerate(zip(k_n_vals, k_s_vals)):\n",
    "        # Find the roots of the cost function for each k_n and k_s.\n",
    "        result = minimize_scalar(cost_function, args=(k_n, k_s, c_til), bounds=(0, kMax), method='bounded')\n",
    "        pPEDM[:, i] = result.x, k_s\n",
    "\n",
    "    eps_PEDM = np.sqrt(np.mean((integral(pPEDM[0, :], pPEDM[1, :], c_til) - c_til(k_vect))**2))\n",
    "\n",
    "    # Check if waterDepth is provided and update results accordingly.\n",
    "    if waterDepth is not None and not np.isinf(waterDepth):\n",
    "        c_til_bottom = lambda k: c_til(k) * np.exp(-k * waterDepth)\n",
    "        pEDM = np.zeros((2, nMax_vals))\n",
    "\n",
    "        for i, (k_n, k_s) in enumerate(zip(k_n_vals, k_s_vals)):\n",
    "            result = minimize_scalar(cost_function, args=(k_n, k_s, c_til_bottom), bounds=(0, kMax), method='bounded')\n",
    "            pEDM[:, i] = result.x, k_s\n",
    "\n",
    "        eps_EDM = np.sqrt(np.mean((integral(pEDM[0, :], pEDM[1, :], c_til_bottom) - c_til_bottom(k_vect))**2))\n",
    "    else:\n",
    "        pEDM, eps_EDM = np.nan, np.nan\n",
    "\n",
    "    return pPEDM, pEDM, eps_PEDM, eps_EDM, None  # verbose is not used in the current implementation\n"
   ]
  },
  {
   "cell_type": "code",
   "execution_count": null,
   "id": "87aeec25",
   "metadata": {},
   "outputs": [],
   "source": []
  },
  {
   "cell_type": "code",
   "execution_count": null,
   "id": "b06c9410",
   "metadata": {},
   "outputs": [],
   "source": []
  },
  {
   "cell_type": "markdown",
   "id": "8a1205b5",
   "metadata": {},
   "source": [
    "# 1) EDM Method"
   ]
  },
  {
   "cell_type": "markdown",
   "id": "589b72b1",
   "metadata": {},
   "source": [
    "## 1.1) EDM using Linear Fit"
   ]
  },
  {
   "cell_type": "code",
   "execution_count": 6,
   "id": "14179260",
   "metadata": {},
   "outputs": [
    {
     "data": {
      "text/plain": [
       "<matplotlib.legend.Legend at 0x25df286b6d0>"
      ]
     },
     "execution_count": 6,
     "metadata": {},
     "output_type": "execute_result"
    },
    {
     "data": {
      "image/png": "[encoded data removed]",
      "text/plain": [
       "<Figure size 432x288 with 1 Axes>"
      ]
     },
     "metadata": {
      "needs_background": "light"
     },
     "output_type": "display_data"
    }
   ],
   "source": [
    "plt.plot(U, z, label = 'Correct Profile', color = 'black')\n",
    "\n",
    "plt.scatter(Ux, -1/(2*wavenumbers), label='EDM', color = 'red')\n",
    "\n",
    "plt.grid(True)\n",
    "plt.title(\"EDM using Linear Fit\")\n",
    "plt.xlabel(\"U [m/s]\")\n",
    "plt.ylabel(\"Depth [m]\")\n",
    "plt.legend()"
   ]
  },
  {
   "cell_type": "markdown",
   "id": "0e8bde69",
   "metadata": {},
   "source": [
    "## 1.2) EDM using Logarithmic Fit"
   ]
  },
  {
   "cell_type": "code",
   "execution_count": 7,
   "id": "bef4e38d",
   "metadata": {},
   "outputs": [
    {
     "data": {
      "text/plain": [
       "<matplotlib.legend.Legend at 0x25df28c6f10>"
      ]
     },
     "execution_count": 7,
     "metadata": {},
     "output_type": "execute_result"
    },
    {
     "data": {
      "image/png": "[encoded data removed]",
      "text/plain": [
       "<Figure size 432x288 with 1 Axes>"
      ]
     },
     "metadata": {
      "needs_background": "light"
     },
     "output_type": "display_data"
    }
   ],
   "source": [
    "plt.plot(U, z, label = 'Correct Profile', color = 'black')\n",
    "plt.scatter(Ux, -1/(3.56*wavenumbers), label='EDM', color = 'red')\n",
    "\n",
    "plt.grid(True)\n",
    "plt.title(\"EDM - Logarithmic Fit\")\n",
    "plt.xlabel(\"U [m/s]\")\n",
    "plt.ylabel(\"Depth [m]\")\n",
    "plt.legend()"
   ]
  },
  {
   "cell_type": "markdown",
   "id": "f70786e3",
   "metadata": {},
   "source": [
    "# 2) PEDM Method"
   ]
  },
  {
   "cell_type": "code",
   "execution_count": 8,
   "id": "1e928c5f",
   "metadata": {},
   "outputs": [],
   "source": [
    "Z_eff = -1/(2*wavenumbers)\n",
    "# Effective Depths using linear profile"
   ]
  },
  {
   "cell_type": "code",
   "execution_count": 9,
   "id": "8edfe148",
   "metadata": {},
   "outputs": [
    {
     "data": {
      "text/plain": [
       "array([-13.32922793,  -9.99691895,  -7.99753548,  -6.66461308,\n",
       "        -5.7125256 ,  -4.99845997,  -4.44307558,  -3.99876806,\n",
       "        -3.63524372,  -3.33230654,  -3.0759753 ,  -2.8562628 ,\n",
       "        -2.6658453 ,  -2.49922999,  -2.35221647,  -2.22153779,\n",
       "        -2.10461467,  -1.99938395,  -1.9041752 ,  -1.81762179,\n",
       "        -1.73859477,  -1.66615332])"
      ]
     },
     "execution_count": 9,
     "metadata": {},
     "output_type": "execute_result"
    }
   ],
   "source": [
    "Z_eff"
   ]
  },
  {
   "cell_type": "code",
   "execution_count": 10,
   "id": "e93d8314",
   "metadata": {},
   "outputs": [],
   "source": [
    "nMax_vals = None\n",
    "deltaz_T_vals = None\n",
    "deltaz_B_vals = None"
   ]
  },
  {
   "cell_type": "code",
   "execution_count": 11,
   "id": "1e9bd7e6",
   "metadata": {},
   "outputs": [],
   "source": [
    "if nMax_vals is None or not nMax_vals:\n",
    "    nm = min(12, round(len(wavenumbers) / 2))\n",
    "    nMax_vals = np.arange(nm + 1)\n",
    "    \n",
    "# Check and set deltaz_T_vals if it is None or empty\n",
    "if deltaz_T_vals is None or len(deltaz_T_vals) == 0:\n",
    "    depthRange = np.abs(Z_eff[0] - Z_eff[-1])\n",
    "    deltaz_T_vals = np.linspace(0.01, 0.2, 20) * depthRange\n",
    "\n",
    "# Check and set deltaz_B_vals if it is None or empty\n",
    "if deltaz_B_vals is None or len(deltaz_B_vals) == 0:\n",
    "    depthRange = np.abs(Z_eff[0] - Z_eff[-1])\n",
    "    deltaz_B_vals = np.linspace(0.02, 0.8, 20) * depthRange"
   ]
  },
  {
   "cell_type": "code",
   "execution_count": 12,
   "id": "c9599f81",
   "metadata": {},
   "outputs": [
    {
     "data": {
      "text/plain": [
       "array([ 0,  1,  2,  3,  4,  5,  6,  7,  8,  9, 10, 11])"
      ]
     },
     "execution_count": 12,
     "metadata": {},
     "output_type": "execute_result"
    }
   ],
   "source": [
    "# polynomial order\n",
    "nMax_vals"
   ]
  },
  {
   "cell_type": "code",
   "execution_count": 13,
   "id": "e3721c18",
   "metadata": {},
   "outputs": [
    {
     "data": {
      "text/plain": [
       "array([0.11663075, 0.23326149, 0.34989224, 0.46652298, 0.58315373,\n",
       "       0.69978448, 0.81641522, 0.93304597, 1.04967671, 1.16630746,\n",
       "       1.28293821, 1.39956895, 1.5161997 , 1.63283044, 1.74946119,\n",
       "       1.86609194, 1.98272268, 2.09935343, 2.21598418, 2.33261492])"
      ]
     },
     "execution_count": 13,
     "metadata": {},
     "output_type": "execute_result"
    }
   ],
   "source": [
    "deltaz_T_vals\n",
    "# Shallow end Depth interval for extrapolation"
   ]
  },
  {
   "cell_type": "code",
   "execution_count": 14,
   "id": "d46cbdac",
   "metadata": {},
   "outputs": [
    {
     "data": {
      "text/plain": [
       "array([0.23326149, 0.7120614 , 1.1908613 , 1.66966121, 2.14846111,\n",
       "       2.62726102, 3.10606092, 3.58486083, 4.06366073, 4.54246064,\n",
       "       5.02126054, 5.50006045, 5.97886035, 6.45766026, 6.93646016,\n",
       "       7.41526007, 7.89405997, 8.37285988, 8.85165978, 9.33045969])"
      ]
     },
     "execution_count": 14,
     "metadata": {},
     "output_type": "execute_result"
    }
   ],
   "source": [
    "deltaz_B_vals\n",
    "# Deep end Depth interval for extrapolation"
   ]
  },
  {
   "cell_type": "code",
   "execution_count": 15,
   "id": "78fd6d87",
   "metadata": {},
   "outputs": [
    {
     "data": {
      "text/plain": [
       "-53.316911724522186"
      ]
     },
     "execution_count": 15,
     "metadata": {},
     "output_type": "execute_result"
    }
   ],
   "source": [
    "z_c = max(4 * np.min(Z_eff), -np.abs(np.inf))\n",
    "z_c\n",
    "# Cut off Depth"
   ]
  },
  {
   "cell_type": "markdown",
   "id": "ceb68588",
   "metadata": {},
   "source": [
    "## 2.1) Just do one value"
   ]
  },
  {
   "cell_type": "code",
   "execution_count": 85,
   "id": "6fc58686",
   "metadata": {},
   "outputs": [],
   "source": [
    "nMax = nMax_vals[11]\n",
    "# poly of order 3\n",
    "deltaz_B = deltaz_B_vals[6]\n",
    "deltaz_T =  deltaz_T_vals[7]"
   ]
  },
  {
   "cell_type": "code",
   "execution_count": 86,
   "id": "9ea126db",
   "metadata": {},
   "outputs": [
    {
     "data": {
      "text/plain": [
       "array([-3.53458207e-07, -2.12704883e-05, -5.62333365e-04, -8.64781230e-03,\n",
       "       -8.61316239e-02, -5.83516901e-01, -2.73849556e+00, -8.86998717e+00,\n",
       "       -1.93429165e+01, -2.69105997e+01, -2.12798712e+01, -6.55289156e+00])"
      ]
     },
     "execution_count": 86,
     "metadata": {},
     "output_type": "execute_result"
    }
   ],
   "source": [
    "# Polynomial fitting using polyfit\n",
    "p1 = np.polyfit(Z_eff, Ux, nMax)\n",
    "p1"
   ]
  },
  {
   "cell_type": "code",
   "execution_count": 87,
   "id": "980702b1",
   "metadata": {},
   "outputs": [],
   "source": [
    "# Linearly spaced depths for extrapolation\n",
    "zB = np.linspace(0, deltaz_B, 100)\n",
    "zT = np.linspace(-deltaz_T, 0, 100)\n",
    "\n",
    "# Linear fit within depth interval deltaz_T from the top of the range of mapped depths\n",
    "pTop = np.polyfit(Z_eff[-1] + zT, np.polyval(p1, Z_eff[-1] + zT), 1)\n",
    "\n",
    "# Linear fit within depth interval deltaz_B from the bottom of the range of mapped depths\n",
    "pBottom = np.polyfit(Z_eff[0] + zB, np.polyval(p1, Z_eff[0] + zB), 1)\n",
    "\n",
    "# Depths below the deepest mapped depths\n",
    "depthsExBtm = np.arange(z_c, Z_eff[0] - deltaz_B, deltaz_B)\n",
    "\n",
    "# Depth values above the shallowest mapped depth\n",
    "depthsExTop = np.concatenate((np.arange(Z_eff[-1] + deltaz_T, 0, deltaz_T), [0]))\n",
    "\n",
    "# Expanded range of depths, including the depths where the current is extrapolated\n",
    "zEx = np.concatenate((depthsExBtm, Z_eff, depthsExTop))\n",
    "\n",
    "# Expanded range of current values, including extrapolated\n",
    "cTilEx = np.concatenate((np.polyval(pBottom, depthsExBtm), Ux, np.polyval(pTop, depthsExTop)))\n"
   ]
  },
  {
   "cell_type": "code",
   "execution_count": 88,
   "id": "f84e53b6",
   "metadata": {},
   "outputs": [],
   "source": [
    "# Perform a second polynomial fit on the expanded set of points to produce the profile considered U_EDM\n",
    "pEDM = np.polyfit(zEx, cTilEx, nMax)\n",
    "\n",
    "# Determine if the profile is monotonic with the range of mapped depths.\n",
    "nv = np.arange(nMax, 0, -1)\n",
    "pczEx_p = nv * pEDM[:-1]  # Derivative polynomial coefficients\n",
    "rts = np.roots(pczEx_p)  # Find roots\n",
    "rts = rts[np.isreal(rts)]  # Discard complex roots"
   ]
  },
  {
   "cell_type": "code",
   "execution_count": 89,
   "id": "76515c9f",
   "metadata": {},
   "outputs": [],
   "source": [
    "# Scale polynomial coefficients defining U_EDM by n! as in equation (8) in the article\n",
    "n_factorial = np.array([np.math.factorial(i) for i in range(nMax, -1, -1)])\n",
    "pPEDM_i = pEDM / n_factorial"
   ]
  },
  {
   "cell_type": "code",
   "execution_count": 90,
   "id": "6f788029",
   "metadata": {},
   "outputs": [],
   "source": [
    "# Linearly extrapolated points down to z_c based on the average shear\n",
    "zB2 = np.linspace(0, deltaz_B/2, 100)\n",
    "\n",
    "# Linear fit within depth interval deltaz_B/2 from the bottom of the range of mapped depths\n",
    "pBottom2 = np.polyfit(Z_eff[0] + zB2, np.polyval(pPEDM_i, Z_eff[0] + zB2), 1)\n",
    "\n",
    "# Depths below the deepest mapped depths\n",
    "depthsExBtm2 = np.arange(z_c, Z_eff[0] - deltaz_B, deltaz_B/2)\n",
    "\n",
    "# Expanded range of depths, including the depths where the current is extrapolated\n",
    "zEx2 = np.concatenate((depthsExBtm2, Z_eff, depthsExTop))\n",
    "\n",
    "# Expanded range of current values, including extrapolated\n",
    "Uvals = np.concatenate((np.polyval(pBottom2, depthsExBtm2), np.polyval(pPEDM_i, Z_eff), np.polyval(pPEDM_i, depthsExTop)))"
   ]
  },
  {
   "cell_type": "code",
   "execution_count": 91,
   "id": "42739f41",
   "metadata": {},
   "outputs": [],
   "source": [
    "# Perform a final polynomial fit on the expanded set of points\n",
    "pPEDM = np.polyfit(zEx2, Uvals, nMax)"
   ]
  },
  {
   "cell_type": "code",
   "execution_count": 92,
   "id": "290c5dff",
   "metadata": {},
   "outputs": [],
   "source": [
    "import numpy as np\n",
    "from scipy.special import gamma, gammaincc\n",
    "\n",
    "# Assuming nMax, k_vect, pEDM, and z_c are already defined\n",
    "# If not, you need to define them appropriately before using this code\n",
    "\n",
    "c_tilEDM = 0\n",
    "c_tilPEDM = 0\n",
    "\n",
    "if nMax < 2:\n",
    "    for n in range(nMax + 1):\n",
    "        # Use equation (5)\n",
    "        c_tilEDM += np.math.factorial(n) * pEDM[-1 - n] * (-1 / (2 * wavenumbers)) ** n\n",
    "        c_tilPEDM += np.math.factorial(n) * pEDM[-1 - n] * (-1 / (2 * wavenumbers)) ** n\n",
    "else:\n",
    "    for n in range(nMax + 1):\n",
    "        # Use incomplete gamma function\n",
    "        c_tilEDM += (-1 / 2) ** n * wavenumbers ** (-n) * pEDM[-1 - n] * (gammaincc(-2 * wavenumbers * z_c, 1 + n,) * gamma(n + 1))\n",
    "        c_tilPEDM += (-1 / 2) ** n * wavenumbers ** (-n) * pEDM[-1 - n] * (gammaincc(-2 * wavenumbers * z_c, 1 + n) * gamma(n + 1))\n"
   ]
  },
  {
   "cell_type": "code",
   "execution_count": 93,
   "id": "778c38a4",
   "metadata": {},
   "outputs": [],
   "source": [
    "eps_PEDM_out = np.inf\n",
    "eps_EDM_out = np.inf\n",
    "\n",
    "pPEDM_out = np.nan\n",
    "pEDM_out = np.nan"
   ]
  },
  {
   "cell_type": "code",
   "execution_count": 94,
   "id": "4c12451d",
   "metadata": {},
   "outputs": [
    {
     "name": "stdout",
     "output_type": "stream",
     "text": [
      "deltaz_B: 3.106060921468131, deltaz_T: 0.9330459685042607, eps_PEDM_out: 1047.043067982276, max(c_tilPEDM): 0.04113316941909864\n"
     ]
    }
   ],
   "source": [
    "import numpy as np\n",
    "\n",
    "# Assuming c_til, c_tilEDM, c_tilPEDM, eps_PEDM_out, pPEDM_out, nMax_out, deltaz_B_out, deltaz_T_out, eps_EDM_out, pEDM_out are already defined\n",
    "# If not, you need to define them appropriately before using this code\n",
    "\n",
    "# Calculate RMS differences (equation (9) in manuscript)\n",
    "eps_EDM = np.sqrt(np.mean((Ux - c_tilEDM)**2))  # RMS difference for U_EDM\n",
    "eps_PEDM = np.sqrt(np.mean((Ux - c_tilPEDM)**2))  # RMS difference for U_PEDM\n",
    "\n",
    "# Parameters nMax, deltaz_T, and deltaz_B are chosen to minimize eps_PEDM in practice.\n",
    "if eps_PEDM < eps_PEDM_out:\n",
    "    eps_PEDM_out = eps_PEDM\n",
    "    pPEDM_out = pPEDM\n",
    "    nMax_out = nMax\n",
    "    deltaz_B_out = deltaz_B\n",
    "    deltaz_T_out = deltaz_T\n",
    "    print(f\"deltaz_B: {deltaz_B_out}, deltaz_T: {deltaz_T_out}, eps_PEDM_out: {eps_PEDM_out}, max(c_tilPEDM): {np.max(c_tilPEDM)}\")\n",
    "\n",
    "if eps_EDM < eps_EDM_out:\n",
    "    eps_EDM_out = eps_EDM\n",
    "    pEDM_out = pEDM\n"
   ]
  },
  {
   "cell_type": "code",
   "execution_count": 95,
   "id": "276a8717",
   "metadata": {},
   "outputs": [
    {
     "data": {
      "text/plain": [
       "array([-4.76029341e-14, -1.24039207e-11, -1.29409020e-09, -6.41494578e-08,\n",
       "       -9.84970070e-07,  5.26627429e-05,  3.27118174e-03,  7.88760746e-02,\n",
       "        9.34412301e-01,  4.17120443e+00,  3.29792262e+00, -5.67747359e-01])"
      ]
     },
     "execution_count": 95,
     "metadata": {},
     "output_type": "execute_result"
    }
   ],
   "source": [
    "pPEDM"
   ]
  },
  {
   "cell_type": "code",
   "execution_count": 96,
   "id": "d51f8f20",
   "metadata": {},
   "outputs": [
    {
     "data": {
      "text/plain": [
       "array([ 2.70673815e-12,  7.61014050e-10,  9.13485406e-08,  6.09437259e-06,\n",
       "        2.46225145e-04,  6.14564880e-03,  9.24904538e-02,  7.82612286e-01,\n",
       "        3.30747110e+00,  5.54523696e+00,  1.44463142e+00, -9.56943161e-01])"
      ]
     },
     "execution_count": 96,
     "metadata": {},
     "output_type": "execute_result"
    }
   ],
   "source": [
    "pEDM"
   ]
  },
  {
   "cell_type": "code",
   "execution_count": 97,
   "id": "2d771f0c",
   "metadata": {},
   "outputs": [],
   "source": [
    "U1_fun = lambda z: np.polyval(pPEDM, z)"
   ]
  },
  {
   "cell_type": "code",
   "execution_count": 98,
   "id": "0718f183",
   "metadata": {},
   "outputs": [
    {
     "data": {
      "image/png": "[encoded data removed]",
      "text/plain": [
       "<Figure size 432x288 with 1 Axes>"
      ]
     },
     "metadata": {
      "needs_background": "light"
     },
     "output_type": "display_data"
    }
   ],
   "source": [
    "plt.plot(U1_fun(z),z)\n",
    "\n",
    "plt.grid(True)"
   ]
  },
  {
   "cell_type": "markdown",
   "id": "dd5d5107",
   "metadata": {},
   "source": [
    "## 2.2) Loop"
   ]
  },
  {
   "cell_type": "code",
   "execution_count": 35,
   "id": "8e5d0146",
   "metadata": {},
   "outputs": [],
   "source": [
    "eps_PEDM_out = np.inf\n",
    "eps_EDM_out = np.inf\n",
    "\n",
    "pPEDM_out = np.nan\n",
    "pEDM_out = np.nan\n",
    "\n",
    "for nMax in nMax_vals:\n",
    "    for deltaz_B in deltaz_B_vals:\n",
    "        for deltaz_T in deltaz_T_vals:\n",
    "            \n",
    "            # Polynomial fitting using polyfit\n",
    "            p1 = np.polyfit(Z_eff, Ux, nMax)\n",
    "            \n",
    "            # Linearly spaced depths for extrapolation\n",
    "            zB = np.linspace(0, deltaz_B, 100)\n",
    "            zT = np.linspace(-deltaz_T, 0, 100)\n",
    "\n",
    "            # Linear fit within depth interval deltaz_T from the top of the range of mapped depths\n",
    "            pTop = np.polyfit(Z_eff[-1] + zT, np.polyval(p1, Z_eff[-1] + zT), 1)\n",
    "\n",
    "            # Linear fit within depth interval deltaz_B from the bottom of the range of mapped depths\n",
    "            pBottom = np.polyfit(Z_eff[0] + zB, np.polyval(p1, Z_eff[0] + zB), 1)\n",
    "\n",
    "            # Depths below the deepest mapped depths\n",
    "            depthsExBtm = np.arange(z_c, Z_eff[0] - deltaz_B, deltaz_B)\n",
    "\n",
    "            # Depth values above the shallowest mapped depth\n",
    "            depthsExTop = np.concatenate((np.arange(Z_eff[-1] + deltaz_T, 0, deltaz_T), [0]))\n",
    "\n",
    "            # Expanded range of depths, including the depths where the current is extrapolated\n",
    "            zEx = np.concatenate((depthsExBtm, Z_eff, depthsExTop))\n",
    "\n",
    "            # Expanded range of current values, including extrapolated\n",
    "            cTilEx = np.concatenate((np.polyval(pBottom, depthsExBtm), Ux, np.polyval(pTop, depthsExTop)))\n",
    "            \n",
    "            \n",
    "            \n",
    "            # Perform a second polynomial fit on the expanded set of points to produce the profile considered U_EDM\n",
    "            pEDM = np.polyfit(zEx, cTilEx, nMax)\n",
    "\n",
    "            # Determine if the profile is monotonic with the range of mapped depths.\n",
    "            nv = np.arange(nMax, 0, -1)\n",
    "            pczEx_p = nv * pEDM[:-1]  # Derivative polynomial coefficients\n",
    "            rts = np.roots(pczEx_p)  # Find roots\n",
    "            rts = rts[np.isreal(rts)]  # Discard complex roots\n",
    "            \n",
    "            if any(np.logical_and(rts > Z_eff[0], rts < 0)):\n",
    "                continue\n",
    "            \n",
    "            # Scale polynomial coefficients defining U_EDM by n! as in equation (8) in the article\n",
    "            n_factorial = np.array([np.math.factorial(i) for i in range(nMax, -1, -1)])\n",
    "            pPEDM_i = pEDM / n_factorial      \n",
    "            \n",
    "            ### Step 5 ###\n",
    "            \n",
    "            # Linearly extrapolated points down to z_c based on the average shear\n",
    "            zB2 = np.linspace(0, deltaz_B/2, 100)\n",
    "\n",
    "            # Linear fit within depth interval deltaz_B/2 from the bottom of the range of mapped depths\n",
    "            pBottom2 = np.polyfit(Z_eff[0] + zB, np.polyval(pPEDM_i, Z_eff[0] + zB), 1)\n",
    "\n",
    "            # Depths below the deepest mapped depths\n",
    "            depthsExBtm2 = np.arange(z_c, Z_eff[0] - deltaz_B, deltaz_B/2)\n",
    "\n",
    "            # Expanded range of depths, including the depths where the current is extrapolated\n",
    "            zEx2 = np.concatenate((depthsExBtm2, Z_eff, depthsExTop))\n",
    "\n",
    "            # Expanded range of current values, including extrapolated\n",
    "            Uvals = np.concatenate((np.polyval(pBottom2, depthsExBtm2), np.polyval(pPEDM_i, Z_eff), np.polyval(pPEDM_i, depthsExTop)))\n",
    "            \n",
    "            # Perform a final polynomial fit on the expanded set of points\n",
    "            pPEDM = np.polyfit(zEx2, Uvals, nMax)\n",
    "            \n",
    "            c_tilEDM = sum(factorial(np.arange(nMax + 1)) * pPEDM[-(nMax + 1) :] * (-1 / (2 * k_vect)) ** np.arange(nMax + 1))\n",
    "            c_tilPEDM = sum(factorial(np.arange(nMax + 1)) * pPEDM[-(nMax + 1) :] * (-1 / (2 * k_vect)) ** np.arange(nMax + 1))            \n",
    "            \n",
    "            \n",
    "            \n",
    "            \n",
    "            \n",
    "            \n",
    "            \n",
    "            \n",
    "            #c_tilEDM = 0\n",
    "            #c_tilPEDM = 0\n",
    "            \n",
    "            #if nMax < 2:\n",
    "             #   for n in range(nMax + 1):\n",
    "              #      # Use equation (5)\n",
    "               #     c_tilEDM += np.math.factorial(n) * pEDM[-1 - n] * (-1 / (2 * wavenumbers)) ** n\n",
    "                #    c_tilPEDM += np.math.factorial(n) * pPEDM[-1 - n] * (-1 / (2 * wavenumbers)) ** n\n",
    "          #  else:\n",
    "           #     for n in range(nMax + 1):\n",
    "            #        # Use incomplete gamma function\n",
    "             #       c_tilEDM += (-1 / 2) ** n * wavenumbers ** (-n) * pEDM[-1 - n] * (gammaincc(-2 * wavenumbers * z_c, 1 + n,) * gamma(n + 1))\n",
    "              #      c_tilPEDM += (-1 / 2) ** n * wavenumbers ** (-n) * pPEDM[-1 - n] * (gammaincc(-2 * wavenumbers * z_c, 1 + n) * gamma(n + 1))\n",
    "\n",
    "                    \n",
    "            # Calculate RMS differences (equation (9) in manuscript)\n",
    "            eps_EDM = np.sqrt(np.mean((Ux - c_tilEDM)**2))  # RMS difference for U_EDM\n",
    "            eps_PEDM = np.sqrt(np.mean((Ux - c_tilPEDM)**2))  # RMS difference for U_PEDM\n",
    "\n",
    "            # Parameters nMax, deltaz_T, and deltaz_B are chosen to minimize eps_PEDM in practice.\n",
    "            if eps_PEDM < eps_PEDM_out:\n",
    "                eps_PEDM_out = eps_PEDM\n",
    "                pPEDM_out = pPEDM\n",
    "                nMax_out = nMax\n",
    "                deltaz_B_out = deltaz_B\n",
    "                deltaz_T_out = deltaz_T\n",
    "                #print(f\"deltaz_B: {deltaz_B_out}, deltaz_T: {deltaz_T_out}, eps_PEDM_out: {eps_PEDM_out}, max(c_tilPEDM): {np.max(c_tilPEDM)}\")\n",
    "\n",
    "            if eps_EDM < eps_EDM_out:\n",
    "                eps_EDM_out = eps_EDM\n",
    "                pEDM_out = pEDM"
   ]
  },
  {
   "cell_type": "code",
   "execution_count": 102,
   "id": "0446b6e4",
   "metadata": {},
   "outputs": [
    {
     "data": {
      "text/plain": [
       "1047.043067982276"
      ]
     },
     "execution_count": 102,
     "metadata": {},
     "output_type": "execute_result"
    }
   ],
   "source": [
    "eps_PEDM"
   ]
  },
  {
   "cell_type": "code",
   "execution_count": 36,
   "id": "851aeebe",
   "metadata": {},
   "outputs": [
    {
     "data": {
      "text/plain": [
       "array([-1.80579783e-10, -3.34861291e-08, -2.41777062e-06, -8.51017514e-05,\n",
       "       -1.48349394e-03, -1.12471994e-02,  6.28722726e-02,  7.29160385e-01])"
      ]
     },
     "execution_count": 36,
     "metadata": {},
     "output_type": "execute_result"
    }
   ],
   "source": [
    "pPEDM"
   ]
  },
  {
   "cell_type": "code",
   "execution_count": 37,
   "id": "03565889",
   "metadata": {},
   "outputs": [],
   "source": [
    "U1_fun = lambda z: np.polyval(pPEDM, z)"
   ]
  },
  {
   "cell_type": "code",
   "execution_count": 38,
   "id": "b9207362",
   "metadata": {},
   "outputs": [
    {
     "data": {
      "text/plain": [
       "<matplotlib.legend.Legend at 0x25df2c1b190>"
      ]
     },
     "execution_count": 38,
     "metadata": {},
     "output_type": "execute_result"
    },
    {
     "data": {
      "image/png": "[encoded data removed]",
      "text/plain": [
       "<Figure size 432x288 with 1 Axes>"
      ]
     },
     "metadata": {
      "needs_background": "light"
     },
     "output_type": "display_data"
    }
   ],
   "source": [
    "plt.plot(U1_fun(z), z, label=\"PEDM\", color = 'red')\n",
    "\n",
    "plt.plot(U, z, label = 'Correct Profile', color = 'black')\n",
    "#plt.scatter(Ux, -1/(2*wavenumbers), label='EDM', color = 'red')\n",
    "\n",
    "plt.grid(True)\n",
    "plt.title(\"EDM - Logarithmic Fit\")\n",
    "plt.xlabel(\"U [m/s]\")\n",
    "plt.ylabel(\"Depth [m]\")\n",
    "plt.legend()\n",
    "#plt.xlim(-1,1)"
   ]
  },
  {
   "cell_type": "code",
   "execution_count": null,
   "id": "1f7e775c",
   "metadata": {},
   "outputs": [],
   "source": []
  },
  {
   "cell_type": "code",
   "execution_count": null,
   "id": "83f77c31",
   "metadata": {},
   "outputs": [],
   "source": []
  },
  {
   "cell_type": "code",
   "execution_count": null,
   "id": "631aa82a",
   "metadata": {},
   "outputs": [],
   "source": []
  },
  {
   "cell_type": "code",
   "execution_count": null,
   "id": "7842088d",
   "metadata": {},
   "outputs": [],
   "source": []
  },
  {
   "cell_type": "code",
   "execution_count": null,
   "id": "b14ac3f9",
   "metadata": {},
   "outputs": [],
   "source": []
  },
  {
   "cell_type": "code",
   "execution_count": null,
   "id": "ebc94e33",
   "metadata": {},
   "outputs": [],
   "source": []
  },
  {
   "cell_type": "code",
   "execution_count": 136,
   "id": "766d9b6a",
   "metadata": {},
   "outputs": [
    {
     "ename": "ValueError",
     "evalue": "operands could not be broadcast together with shapes (22,) (2,) ",
     "output_type": "error",
     "traceback": [
      "\u001b[1;31m---------------------------------------------------------------------------\u001b[0m",
      "\u001b[1;31mValueError\u001b[0m                                Traceback (most recent call last)",
      "\u001b[1;32m<ipython-input-136-3eea85f38e88>\u001b[0m in \u001b[0;36m<module>\u001b[1;34m\u001b[0m\n\u001b[0;32m     65\u001b[0m             \u001b[1;31m# Calculate Doppler shifts assuming U_EDM or U_PEDM as the current profile\u001b[0m\u001b[1;33m\u001b[0m\u001b[1;33m\u001b[0m\u001b[1;33m\u001b[0m\u001b[0m\n\u001b[0;32m     66\u001b[0m             c_tilEDM = sum(\n\u001b[1;32m---> 67\u001b[1;33m                 \u001b[0msp\u001b[0m\u001b[1;33m.\u001b[0m\u001b[0mspecial\u001b[0m\u001b[1;33m.\u001b[0m\u001b[0mfactorial\u001b[0m\u001b[1;33m(\u001b[0m\u001b[0mnp\u001b[0m\u001b[1;33m.\u001b[0m\u001b[0marange\u001b[0m\u001b[1;33m(\u001b[0m\u001b[0mnMax\u001b[0m \u001b[1;33m+\u001b[0m \u001b[1;36m1\u001b[0m\u001b[1;33m)\u001b[0m\u001b[1;33m)\u001b[0m \u001b[1;33m*\u001b[0m \u001b[0mpEDM\u001b[0m\u001b[1;33m[\u001b[0m\u001b[1;33m-\u001b[0m\u001b[1;33m(\u001b[0m\u001b[0mnMax\u001b[0m \u001b[1;33m+\u001b[0m \u001b[1;36m1\u001b[0m\u001b[1;33m)\u001b[0m \u001b[1;33m:\u001b[0m\u001b[1;33m]\u001b[0m \u001b[1;33m*\u001b[0m \u001b[1;33m(\u001b[0m\u001b[1;33m-\u001b[0m\u001b[1;36m1\u001b[0m \u001b[1;33m/\u001b[0m \u001b[1;33m(\u001b[0m\u001b[1;36m2\u001b[0m \u001b[1;33m*\u001b[0m \u001b[0mwavenumbers\u001b[0m\u001b[1;33m)\u001b[0m\u001b[1;33m)\u001b[0m \u001b[1;33m**\u001b[0m \u001b[0mnp\u001b[0m\u001b[1;33m.\u001b[0m\u001b[0marange\u001b[0m\u001b[1;33m(\u001b[0m\u001b[0mnMax\u001b[0m \u001b[1;33m+\u001b[0m \u001b[1;36m1\u001b[0m\u001b[1;33m)\u001b[0m\u001b[1;33m\u001b[0m\u001b[1;33m\u001b[0m\u001b[0m\n\u001b[0m\u001b[0;32m     68\u001b[0m             )\n\u001b[0;32m     69\u001b[0m \u001b[1;33m\u001b[0m\u001b[0m\n",
      "\u001b[1;31mValueError\u001b[0m: operands could not be broadcast together with shapes (22,) (2,) "
     ]
    }
   ],
   "source": [
    "import numpy as np\n",
    "from scipy.optimize import fsolve\n",
    "from scipy.special import gamma, gammainc\n",
    "from numpy.polynomial import Polynomial\n",
    "from numpy import roots, linspace, polyfit, polyval, sqrt\n",
    "\n",
    "# Define your constants and arrays here\n",
    "\n",
    "eps_PEDM_out = float('inf') \n",
    "combo = 0\n",
    "verbose = []\n",
    "\n",
    "for nMax in nMax_vals:\n",
    "    for deltaz_B in deltaz_B_vals:\n",
    "        for deltaz_T in deltaz_T_vals:\n",
    "\n",
    "            # STEP 1: Fit the mapped Doppler shifts to a polynomial of order nMax.\n",
    "            p1 = polyfit(Z_eff, Ux, nMax)\n",
    "\n",
    "            # STEP 2: Create additional velocity-depth pairs by linearly extrapolating\n",
    "            # up to the surface and down to cutoff depth z_c\n",
    "            zB = linspace(0, deltaz_B, 100)\n",
    "            zT = linspace(-deltaz_T, 0, 100)\n",
    "\n",
    "            pTop = polyfit(Z_eff[-1] + zT, polyval(p1, Z_eff[-1] + zT), 1)\n",
    "            pBottom = polyfit(Z_eff[0] + zB, polyval(p1, Z_eff[0] + zB), 1)\n",
    "\n",
    "            depthsExBtm = np.arange(z_c, Z_eff[0] - deltaz_B, deltaz_B)\n",
    "            depthsExTop = np.concatenate(\n",
    "                [np.arange(Z_eff[-1] + deltaz_T, 0, deltaz_T), [0]]\n",
    "            )\n",
    "\n",
    "            zEx = np.concatenate([depthsExBtm, Z_eff, depthsExTop])\n",
    "            cTilEx = np.concatenate(\n",
    "                [polyval(pBottom, depthsExBtm), Ux, polyval(pTop, depthsExTop)]\n",
    "            )\n",
    "\n",
    "            # STEP 3: Perform a second polynomial fit on the expanded set of points\n",
    "            # to produce the profile considered U_EDM.\n",
    "            pEDM = polyfit(zEx, cTilEx, nMax)\n",
    "\n",
    "            nv = np.arange(nMax, 0, -1)\n",
    "            pczEx_p = nv * pEDM[:-1]\n",
    "            rts = roots(pczEx_p)\n",
    "            rts = rts[np.isreal(rts)]\n",
    "\n",
    "            if any(np.logical_and(rts > Z_eff[0], rts < 0)):\n",
    "                continue\n",
    "\n",
    "            # STEP 4: Scale polynomial coefficients defining U_EDM by n! as in equation (8)\n",
    "            pPEDM_i = pEDM / sp.special.factorial(np.arange(nMax, -1, -1))\n",
    "\n",
    "            # STEP 5: Create a new set of linearly extrapolated points down to z_c\n",
    "            zB2 = linspace(0, deltaz_B / 2, 100)\n",
    "            pBottom2 = polyfit(Z_eff[0] + zB, polyval(pPEDM_i, Z_eff[0] + zB), 1)\n",
    "\n",
    "            depthsExBtm2 = np.arange(z_c, Z_eff[0] - deltaz_B, deltaz_B / 2)\n",
    "\n",
    "            zEx2 = np.concatenate([depthsExBtm2, Z_eff, depthsExTop])\n",
    "            Uvals = np.concatenate([polyval(pBottom2, depthsExBtm2), polyval(pPEDM_i, Z_eff), polyval(pPEDM_i, depthsExTop)])\n",
    "\n",
    "            # STEP 6: Perform a final polynomial fit on the expanded set of points.\n",
    "            pPEDM = polyfit(zEx2, Uvals, nMax)\n",
    "\n",
    "            \n",
    "            \n",
    "            # Calculate Doppler shifts assuming U_EDM or U_PEDM as the current profile\n",
    "            c_tilEDM = sum(\n",
    "                sp.special.factorial(np.arange(nMax + 1)) * pEDM[-(nMax + 1) :] * (-1 / (2 * wavenumbers)) ** np.arange(nMax + 1)\n",
    "            )\n",
    "            \n",
    "            c_tilPEDM = sum(\n",
    "                sp.special.factorial(np.arange(nMax + 1)) * pPEDM[-(nMax + 1) :] * (-1 / (2 * wavenumbers)) ** np.arange(nMax + 1)\n",
    "            )\n",
    "\n",
    "            if nMax >= 2:\n",
    "                c_tilEDM = sum(\n",
    "                    ((-1 / 2) ** np.arange(nMax + 1)) * (wavenumbers ** -np.arange(nMax + 1)) * pEDM[-(nMax+1 ) :]\n",
    "                    * gammainc(-2 * wavenumbers * z_c, 1 + np.arange(nMax + 1))\n",
    "                    / gamma(np.arange(nMax + 1) + 1)\n",
    "                )\n",
    "                c_tilPEDM = sum(\n",
    "                    ((-1 / 2) ** np.arange(nMax + 1)) * (wavenumbers ** -np.arange(nMax + 1)) * pPEDM[-(nMax + 1) :]\n",
    "                    * gammainc(-2 * wavenumbers * z_c, 1 + np.arange(nMax + 1))\n",
    "                    / gamma(np.arange(nMax + 1) + 1)\n",
    "                )\n",
    "\n",
    "            eps_EDM = rms(Ux - c_tilEDM)\n",
    "            eps_PEDM = rms(Ux - c_tilPEDM)\n",
    "\n",
    "            if eps_PEDM <  eps_PEDM_out:\n",
    "                eps_PEDM_out = eps_PEDM\n",
    "                pPEDM_out = pPEDM\n",
    "                nMax_out = nMax\n",
    "                deltaz_B_out = deltaz_B\n",
    "                deltaz_T_out = deltaz_T\n",
    "\n",
    "            if eps_EDM < eps_EDM_out:\n",
    "                eps_EDM_out = eps_EDM\n",
    "                pEDM_out = pEDM\n",
    "\n",
    "            verbose.append({\n",
    "                'pPEDM': pPEDM,\n",
    "                'pEDM': pEDM,\n",
    "                'eps_PEDM': eps_PEDM,\n",
    "                'eps_EDM': eps_EDM,\n",
    "                'nMax': nMax,\n",
    "                'deltaz_B': deltaz_B,\n",
    "                'deltaz_T': deltaz_T\n",
    "            })\n",
    "            combo += 1\n"
   ]
  },
  {
   "cell_type": "code",
   "execution_count": null,
   "id": "4d53a0d8",
   "metadata": {},
   "outputs": [],
   "source": [
    "verbose"
   ]
  },
  {
   "cell_type": "code",
   "execution_count": 108,
   "id": "1d9408f4",
   "metadata": {},
   "outputs": [
    {
     "data": {
      "text/plain": [
       "(1,)"
      ]
     },
     "execution_count": 108,
     "metadata": {},
     "output_type": "execute_result"
    }
   ],
   "source": [
    "pPEDM.shape"
   ]
  },
  {
   "cell_type": "code",
   "execution_count": 113,
   "id": "82639606",
   "metadata": {},
   "outputs": [],
   "source": [
    "c_tilPEDM = sum(\n",
    "                    ((-1 / 2) ** np.arange(nMax + 1)) * (wavenumbers ** -np.arange(nMax + 1)) * pPEDM[-(nMax + 1) :]\n",
    "                    * gammainc(-2 * wavenumbers * z_c, 1 + np.arange(nMax + 1))\n",
    "                    / gamma(np.arange(nMax + 1) + 1)\n",
    "                )"
   ]
  },
  {
   "cell_type": "code",
   "execution_count": 116,
   "id": "502f8481",
   "metadata": {},
   "outputs": [
    {
     "data": {
      "text/plain": [
       "0.00923803184580208"
      ]
     },
     "execution_count": 116,
     "metadata": {},
     "output_type": "execute_result"
    }
   ],
   "source": [
    "c_tilPEDM"
   ]
  },
  {
   "cell_type": "code",
   "execution_count": 120,
   "id": "d971c5ed",
   "metadata": {},
   "outputs": [],
   "source": [
    "eps_PEDM = rms(Ux - c_tilPEDM)"
   ]
  },
  {
   "cell_type": "code",
   "execution_count": 121,
   "id": "4a84368a",
   "metadata": {},
   "outputs": [
    {
     "data": {
      "text/plain": [
       "0.44451829678101745"
      ]
     },
     "execution_count": 121,
     "metadata": {},
     "output_type": "execute_result"
    }
   ],
   "source": [
    "eps_PEDM"
   ]
  },
  {
   "cell_type": "code",
   "execution_count": null,
   "id": "f861eaa0",
   "metadata": {},
   "outputs": [],
   "source": []
  },
  {
   "cell_type": "code",
   "execution_count": null,
   "id": "cb84c76e",
   "metadata": {},
   "outputs": [],
   "source": []
  },
  {
   "cell_type": "code",
   "execution_count": null,
   "id": "05adbf2f",
   "metadata": {},
   "outputs": [],
   "source": []
  },
  {
   "cell_type": "code",
   "execution_count": null,
   "id": "8ed4ae8a",
   "metadata": {},
   "outputs": [],
   "source": []
  },
  {
   "cell_type": "code",
   "execution_count": 77,
   "id": "9f317058",
   "metadata": {},
   "outputs": [
    {
     "data": {
      "text/plain": [
       "float"
      ]
     },
     "execution_count": 77,
     "metadata": {},
     "output_type": "execute_result"
    }
   ],
   "source": [
    "type(np.inf)"
   ]
  },
  {
   "cell_type": "code",
   "execution_count": 119,
   "id": "44e0be14",
   "metadata": {},
   "outputs": [],
   "source": [
    "def rms(x):\n",
    "    return np.sqrt(np.mean(x**2))"
   ]
  },
  {
   "cell_type": "code",
   "execution_count": 40,
   "id": "95d611cb",
   "metadata": {},
   "outputs": [
    {
     "data": {
      "text/plain": [
       "<function math.factorial(x, /)>"
      ]
     },
     "execution_count": 40,
     "metadata": {},
     "output_type": "execute_result"
    }
   ],
   "source": [
    "np.math.factorial"
   ]
  },
  {
   "cell_type": "code",
   "execution_count": 44,
   "id": "a9b17e04",
   "metadata": {},
   "outputs": [],
   "source": [
    "import scipy as sp"
   ]
  },
  {
   "cell_type": "code",
   "execution_count": 45,
   "id": "9d6213d3",
   "metadata": {},
   "outputs": [
    {
     "data": {
      "text/plain": [
       "6.0"
      ]
     },
     "execution_count": 45,
     "metadata": {},
     "output_type": "execute_result"
    }
   ],
   "source": [
    "sp.special.factorial(3)"
   ]
  },
  {
   "cell_type": "code",
   "execution_count": 72,
   "id": "5609f0c9",
   "metadata": {},
   "outputs": [],
   "source": [
    "array = np.array([1,2,3,4,5, np.inf])"
   ]
  },
  {
   "cell_type": "code",
   "execution_count": 73,
   "id": "e9e51108",
   "metadata": {},
   "outputs": [],
   "source": [
    "if np.all(array < np.inf):\n",
    "    print('8')"
   ]
  },
  {
   "cell_type": "code",
   "execution_count": null,
   "id": "e05d279f",
   "metadata": {},
   "outputs": [],
   "source": []
  },
  {
   "cell_type": "code",
   "execution_count": null,
   "id": "c5d9ce69",
   "metadata": {},
   "outputs": [],
   "source": []
  },
  {
   "cell_type": "code",
   "execution_count": null,
   "id": "917a2b41",
   "metadata": {},
   "outputs": [],
   "source": []
  },
  {
   "cell_type": "code",
   "execution_count": null,
   "id": "4e7604b1",
   "metadata": {},
   "outputs": [],
   "source": []
  },
  {
   "cell_type": "code",
   "execution_count": null,
   "id": "db3de8d6",
   "metadata": {},
   "outputs": [],
   "source": []
  },
  {
   "cell_type": "code",
   "execution_count": null,
   "id": "2023f04e",
   "metadata": {},
   "outputs": [],
   "source": []
  },
  {
   "cell_type": "code",
   "execution_count": null,
   "id": "d504cf98",
   "metadata": {},
   "outputs": [],
   "source": []
  },
  {
   "cell_type": "code",
   "execution_count": 243,
   "id": "ab2e8621",
   "metadata": {},
   "outputs": [
    {
     "ename": "ValueError",
     "evalue": "operands could not be broadcast together with shapes (22,) (2,) ",
     "output_type": "error",
     "traceback": [
      "\u001b[1;31m---------------------------------------------------------------------------\u001b[0m",
      "\u001b[1;31mValueError\u001b[0m                                Traceback (most recent call last)",
      "\u001b[1;32m<ipython-input-243-473a38755af0>\u001b[0m in \u001b[0;36m<module>\u001b[1;34m\u001b[0m\n\u001b[0;32m     65\u001b[0m             \u001b[1;31m# Calculate Doppler shifts assuming U_EDM or U_PEDM as the current profile\u001b[0m\u001b[1;33m\u001b[0m\u001b[1;33m\u001b[0m\u001b[1;33m\u001b[0m\u001b[0m\n\u001b[0;32m     66\u001b[0m             c_tilEDM = sum(\n\u001b[1;32m---> 67\u001b[1;33m                 \u001b[0msp\u001b[0m\u001b[1;33m.\u001b[0m\u001b[0mspecial\u001b[0m\u001b[1;33m.\u001b[0m\u001b[0mfactorial\u001b[0m\u001b[1;33m(\u001b[0m\u001b[0mnp\u001b[0m\u001b[1;33m.\u001b[0m\u001b[0marange\u001b[0m\u001b[1;33m(\u001b[0m\u001b[0mnMax\u001b[0m \u001b[1;33m+\u001b[0m \u001b[1;36m1\u001b[0m\u001b[1;33m)\u001b[0m\u001b[1;33m)\u001b[0m \u001b[1;33m*\u001b[0m \u001b[0mpEDM\u001b[0m\u001b[1;33m[\u001b[0m\u001b[1;33m-\u001b[0m\u001b[1;33m(\u001b[0m\u001b[0mnMax\u001b[0m \u001b[1;33m+\u001b[0m \u001b[1;36m1\u001b[0m\u001b[1;33m)\u001b[0m \u001b[1;33m:\u001b[0m\u001b[1;33m]\u001b[0m \u001b[1;33m*\u001b[0m \u001b[1;33m(\u001b[0m\u001b[1;33m-\u001b[0m\u001b[1;36m1\u001b[0m \u001b[1;33m/\u001b[0m \u001b[1;33m(\u001b[0m\u001b[1;36m2\u001b[0m \u001b[1;33m*\u001b[0m \u001b[0mwavenumbers\u001b[0m\u001b[1;33m)\u001b[0m\u001b[1;33m)\u001b[0m \u001b[1;33m**\u001b[0m \u001b[0mnp\u001b[0m\u001b[1;33m.\u001b[0m\u001b[0marange\u001b[0m\u001b[1;33m(\u001b[0m\u001b[0mnMax\u001b[0m \u001b[1;33m+\u001b[0m \u001b[1;36m1\u001b[0m\u001b[1;33m)\u001b[0m\u001b[1;33m\u001b[0m\u001b[1;33m\u001b[0m\u001b[0m\n\u001b[0m\u001b[0;32m     68\u001b[0m             )\n\u001b[0;32m     69\u001b[0m \u001b[1;33m\u001b[0m\u001b[0m\n",
      "\u001b[1;31mValueError\u001b[0m: operands could not be broadcast together with shapes (22,) (2,) "
     ]
    }
   ],
   "source": [
    "import numpy as np\n",
    "from scipy.optimize import fsolve\n",
    "from scipy.special import gamma, gammainc\n",
    "from numpy.polynomial import Polynomial\n",
    "from numpy import roots, linspace, polyfit, polyval, sqrt\n",
    "\n",
    "# Define your constants and arrays here\n",
    "\n",
    "eps_PEDM_out = float('inf') \n",
    "combo = 0\n",
    "verbose = []\n",
    "\n",
    "for nMax in nMax_vals:\n",
    "    for deltaz_B in deltaz_B_vals:\n",
    "        for deltaz_T in deltaz_T_vals:\n",
    "\n",
    "            # STEP 1: Fit the mapped Doppler shifts to a polynomial of order nMax.\n",
    "            p1 = polyfit(Z_eff, Ux, nMax)\n",
    "\n",
    "            # STEP 2: Create additional velocity-depth pairs by linearly extrapolating\n",
    "            # up to the surface and down to cutoff depth z_c\n",
    "            zB = linspace(0, deltaz_B, 100)\n",
    "            zT = linspace(-deltaz_T, 0, 100)\n",
    "\n",
    "            pTop = polyfit(Z_eff[-1] + zT, polyval(p1, Z_eff[-1] + zT), 1)\n",
    "            pBottom = polyfit(Z_eff[0] + zB, polyval(p1, Z_eff[0] + zB), 1)\n",
    "\n",
    "            depthsExBtm = np.arange(z_c, Z_eff[0] - deltaz_B, deltaz_B)\n",
    "            depthsExTop = np.concatenate(\n",
    "                [np.arange(Z_eff[-1] + deltaz_T, 0, deltaz_T), [0]]\n",
    "            )\n",
    "\n",
    "            zEx = np.concatenate([depthsExBtm, Z_eff, depthsExTop])\n",
    "            cTilEx = np.concatenate(\n",
    "                [polyval(pBottom, depthsExBtm), Ux, polyval(pTop, depthsExTop)]\n",
    "            )\n",
    "\n",
    "            # STEP 3: Perform a second polynomial fit on the expanded set of points\n",
    "            # to produce the profile considered U_EDM.\n",
    "            pEDM = polyfit(zEx, cTilEx, nMax)\n",
    "\n",
    "            nv = np.arange(nMax, 0, -1)\n",
    "            pczEx_p = nv * pEDM[:-1]\n",
    "            rts = roots(pczEx_p)\n",
    "            rts = rts[np.isreal(rts)]\n",
    "\n",
    "            if any(np.logical_and(rts > Z_eff[0], rts < 0)):\n",
    "                continue\n",
    "\n",
    "            # STEP 4: Scale polynomial coefficients defining U_EDM by n! as in equation (8)\n",
    "            pPEDM_i = pEDM / sp.special.factorial(np.arange(nMax, -1, -1))\n",
    "\n",
    "            # STEP 5: Create a new set of linearly extrapolated points down to z_c\n",
    "            zB2 = linspace(0, deltaz_B / 2, 100)\n",
    "            pBottom2 = polyfit(Z_eff[0] + zB, polyval(pPEDM_i, Z_eff[0] + zB), 1)\n",
    "\n",
    "            depthsExBtm2 = np.arange(z_c, Z_eff[0] - deltaz_B, deltaz_B / 2)\n",
    "\n",
    "            zEx2 = np.concatenate([depthsExBtm2, Z_eff, depthsExTop])\n",
    "            Uvals = np.concatenate([polyval(pBottom2, depthsExBtm2), polyval(pPEDM_i, Z_eff), polyval(pPEDM_i, depthsExTop)])\n",
    "\n",
    "            # STEP 6: Perform a final polynomial fit on the expanded set of points.\n",
    "            pPEDM = polyfit(zEx2, Uvals, nMax)\n",
    "            \n",
    "            # Calculate Doppler shifts assuming U_EDM or U_PEDM as the current profile\n",
    "            c_tilEDM = sum(\n",
    "                sp.special.factorial(np.arange(nMax + 1)) * pEDM[-(nMax + 1) :] * (-1 / (2 * wavenumbers)) ** np.arange(nMax + 1)\n",
    "            )\n",
    "            \n",
    "            c_tilPEDM = sum(\n",
    "                sp.special.factorial(np.arange(nMax + 1)) * pPEDM[-(nMax + 1) :] * (-1 / (2 * wavenumbers)) ** np.arange(nMax + 1)\n",
    "            )\n",
    "\n",
    "            if nMax >= 2:\n",
    "                c_tilEDM = sum(\n",
    "                    ((-1 / 2) ** np.arange(nMax + 1)) * (wavenumbers ** -np.arange(nMax + 1)) * pEDM[-(nMax+1 ) :]\n",
    "                    * gammainc(-2 * wavenumbers * z_c, 1 + np.arange(nMax + 1))\n",
    "                    / gamma(np.arange(nMax + 1) + 1)\n",
    "                )\n",
    "                c_tilPEDM = sum(\n",
    "                    ((-1 / 2) ** np.arange(nMax + 1)) * (wavenumbers ** -np.arange(nMax + 1)) * pPEDM[-(nMax + 1) :]\n",
    "                    * gammainc(-2 * wavenumbers * z_c, 1 + np.arange(nMax + 1))\n",
    "                    / gamma(np.arange(nMax + 1) + 1)\n",
    "                )\n",
    "\n",
    "            eps_EDM = rms(Ux - c_tilEDM)\n",
    "            eps_PEDM = rms(Ux - c_tilPEDM)\n",
    "\n",
    "            if eps_PEDM <  eps_PEDM_out:\n",
    "                eps_PEDM_out = eps_PEDM\n",
    "                pPEDM_out = pPEDM\n",
    "                nMax_out = nMax\n",
    "                deltaz_B_out = deltaz_B\n",
    "                deltaz_T_out = deltaz_T\n",
    "\n",
    "            if eps_EDM < eps_EDM_out:\n",
    "                eps_EDM_out = eps_EDM\n",
    "                pEDM_out = pEDM\n",
    "\n",
    "            combo += 1\n",
    "    verbose.append({\n",
    "                'pPEDM': pPEDM,\n",
    "                'pEDM': pEDM,\n",
    "                'eps_PEDM': eps_PEDM,\n",
    "                'eps_EDM': eps_EDM,\n",
    "                'nMax': nMax,\n",
    "                'deltaz_B': deltaz_B,\n",
    "                'deltaz_T': deltaz_T\n",
    "            })"
   ]
  },
  {
   "cell_type": "code",
   "execution_count": 173,
   "id": "b96f5811",
   "metadata": {},
   "outputs": [
    {
     "data": {
      "text/plain": [
       "array([0, 1, 2, 3, 4, 5, 6, 7, 8, 9])"
      ]
     },
     "execution_count": 173,
     "metadata": {},
     "output_type": "execute_result"
    }
   ],
   "source": [
    "nMax_vals[:-2]"
   ]
  },
  {
   "cell_type": "code",
   "execution_count": 186,
   "id": "de07b99f",
   "metadata": {},
   "outputs": [],
   "source": [
    "thing = []\n",
    "\n",
    "for nMax in nMax_vals[:-2]:\n",
    "    for deltaz_B in deltaz_B_vals:\n",
    "        for deltaz_T in deltaz_T_vals:\n",
    "\n",
    "            # STEP 1: Fit the mapped Doppler shifts to a polynomial of order nMax.\n",
    "            p1 = polyfit(Z_eff, Ux, nMax)\n",
    "\n",
    "            # STEP 2: Create additional velocity-depth pairs by linearly extrapolating\n",
    "            # up to the surface and down to cutoff depth z_c\n",
    "            zB = linspace(0, deltaz_B, 100)\n",
    "            zT = linspace(-deltaz_T, 0, 100)\n",
    "\n",
    "            pTop = polyfit(Z_eff[-1] + zT, polyval(p1, Z_eff[-1] + zT), 1)\n",
    "            pBottom = polyfit(Z_eff[0] + zB, polyval(p1, Z_eff[0] + zB), 1)\n",
    "\n",
    "            depthsExBtm = np.arange(z_c, Z_eff[0] - deltaz_B, deltaz_B)\n",
    "            depthsExTop = np.concatenate(\n",
    "                [np.arange(Z_eff[-1] + deltaz_T, 0, deltaz_T), [0]]\n",
    "            )\n",
    "\n",
    "            zEx = np.concatenate([depthsExBtm, Z_eff, depthsExTop])\n",
    "            cTilEx = np.concatenate(\n",
    "                [polyval(pBottom, depthsExBtm), Ux, polyval(pTop, depthsExTop)]\n",
    "            )\n",
    "\n",
    "            # STEP 3: Perform a second polynomial fit on the expanded set of points\n",
    "            # to produce the profile considered U_EDM.\n",
    "            pEDM = polyfit(zEx, cTilEx, nMax)\n",
    "            \n",
    "    thing.append(pEDM)"
   ]
  },
  {
   "cell_type": "code",
   "execution_count": 189,
   "id": "5596f865",
   "metadata": {},
   "outputs": [
    {
     "data": {
      "text/plain": [
       "[array([0.43588063]),\n",
       " array([0.03952221, 0.59937733]),\n",
       " array([2.13584858e-04, 3.69894941e-02, 5.91542032e-01]),\n",
       " array([1.59304783e-05, 1.46423651e-03, 5.84934882e-02, 6.47100082e-01]),\n",
       " array([8.43553490e-07, 1.00497210e-04, 3.96860061e-03, 8.14419418e-02,\n",
       "        6.90632205e-01]),\n",
       " array([3.89727965e-08, 5.96140886e-06, 3.37530365e-04, 8.62971390e-03,\n",
       "        1.11102652e-01, 7.33959306e-01]),\n",
       " array([3.18225146e-10, 8.53671740e-08, 8.43572675e-06, 3.97017946e-04,\n",
       "        9.29217106e-03, 1.13970887e-01, 7.37353915e-01]),\n",
       " array([-1.63065305e-09, -2.64926032e-07, -1.61142357e-05, -4.47455029e-04,\n",
       "        -5.42207989e-03, -2.24831090e-02,  5.27214171e-02,  7.14321324e-01]),\n",
       " array([7.15534609e-10, 1.18259416e-07, 7.43537715e-06, 2.22005343e-04,\n",
       "        3.24614304e-03, 2.32690982e-02, 8.15679182e-02, 1.95796977e-01,\n",
       "        7.49130839e-01]),\n",
       " array([-1.54610440e-10, -2.65398035e-08, -1.77460384e-06, -5.89195836e-05,\n",
       "        -1.04089736e-03, -1.00732934e-02, -5.24507928e-02, -1.29132004e-01,\n",
       "        -2.69507804e-02,  7.27438582e-01])]"
      ]
     },
     "execution_count": 189,
     "metadata": {},
     "output_type": "execute_result"
    }
   ],
   "source": [
    "thing"
   ]
  },
  {
   "cell_type": "code",
   "execution_count": 183,
   "id": "1c009131",
   "metadata": {},
   "outputs": [
    {
     "data": {
      "text/plain": [
       "(12,)"
      ]
     },
     "execution_count": 183,
     "metadata": {},
     "output_type": "execute_result"
    }
   ],
   "source": [
    "nMax_vals.shape"
   ]
  },
  {
   "cell_type": "code",
   "execution_count": 176,
   "id": "54d520aa",
   "metadata": {},
   "outputs": [
    {
     "data": {
      "text/plain": [
       "(10,)"
      ]
     },
     "execution_count": 176,
     "metadata": {},
     "output_type": "execute_result"
    }
   ],
   "source": [
    "pEDM.shape"
   ]
  },
  {
   "cell_type": "code",
   "execution_count": 177,
   "id": "f2e2feea",
   "metadata": {},
   "outputs": [
    {
     "ename": "ValueError",
     "evalue": "operands could not be broadcast together with shapes (22,) (10,) ",
     "output_type": "error",
     "traceback": [
      "\u001b[1;31m---------------------------------------------------------------------------\u001b[0m",
      "\u001b[1;31mValueError\u001b[0m                                Traceback (most recent call last)",
      "\u001b[1;32m<ipython-input-177-725da0cb4dd4>\u001b[0m in \u001b[0;36m<module>\u001b[1;34m\u001b[0m\n\u001b[1;32m----> 1\u001b[1;33m \u001b[0mc_tilEDM\u001b[0m \u001b[1;33m=\u001b[0m \u001b[0msum\u001b[0m\u001b[1;33m(\u001b[0m\u001b[0msp\u001b[0m\u001b[1;33m.\u001b[0m\u001b[0mspecial\u001b[0m\u001b[1;33m.\u001b[0m\u001b[0mfactorial\u001b[0m\u001b[1;33m(\u001b[0m\u001b[0mnp\u001b[0m\u001b[1;33m.\u001b[0m\u001b[0marange\u001b[0m\u001b[1;33m(\u001b[0m\u001b[0mnMax\u001b[0m \u001b[1;33m+\u001b[0m \u001b[1;36m1\u001b[0m\u001b[1;33m)\u001b[0m\u001b[1;33m)\u001b[0m \u001b[1;33m*\u001b[0m \u001b[0mpEDM\u001b[0m\u001b[1;33m[\u001b[0m\u001b[1;33m-\u001b[0m\u001b[1;33m(\u001b[0m\u001b[0mnMax\u001b[0m \u001b[1;33m+\u001b[0m \u001b[1;36m1\u001b[0m\u001b[1;33m)\u001b[0m \u001b[1;33m:\u001b[0m\u001b[1;33m]\u001b[0m \u001b[1;33m*\u001b[0m \u001b[1;33m(\u001b[0m\u001b[1;33m-\u001b[0m\u001b[1;36m1\u001b[0m \u001b[1;33m/\u001b[0m \u001b[1;33m(\u001b[0m\u001b[1;36m2\u001b[0m \u001b[1;33m*\u001b[0m \u001b[0mwavenumbers\u001b[0m\u001b[1;33m)\u001b[0m\u001b[1;33m)\u001b[0m \u001b[1;33m**\u001b[0m \u001b[0mnp\u001b[0m\u001b[1;33m.\u001b[0m\u001b[0marange\u001b[0m\u001b[1;33m(\u001b[0m\u001b[0mnMax\u001b[0m \u001b[1;33m+\u001b[0m \u001b[1;36m1\u001b[0m\u001b[1;33m)\u001b[0m\u001b[1;33m)\u001b[0m\u001b[1;33m\u001b[0m\u001b[1;33m\u001b[0m\u001b[0m\n\u001b[0m",
      "\u001b[1;31mValueError\u001b[0m: operands could not be broadcast together with shapes (22,) (10,) "
     ]
    }
   ],
   "source": [
    "c_tilEDM = sum(sp.special.factorial(np.arange(nMax + 1)) * pEDM[-(nMax + 1) :] * (-1 / (2 * wavenumbers)) ** np.arange(nMax + 1))"
   ]
  },
  {
   "cell_type": "code",
   "execution_count": null,
   "id": "f5673028",
   "metadata": {},
   "outputs": [],
   "source": []
  },
  {
   "cell_type": "code",
   "execution_count": null,
   "id": "e460c0e3",
   "metadata": {},
   "outputs": [],
   "source": []
  },
  {
   "cell_type": "code",
   "execution_count": null,
   "id": "dd914e11",
   "metadata": {},
   "outputs": [],
   "source": []
  },
  {
   "cell_type": "code",
   "execution_count": null,
   "id": "5a8e8f44",
   "metadata": {},
   "outputs": [],
   "source": []
  },
  {
   "cell_type": "code",
   "execution_count": null,
   "id": "60e58058",
   "metadata": {},
   "outputs": [],
   "source": []
  },
  {
   "cell_type": "code",
   "execution_count": null,
   "id": "74c34980",
   "metadata": {},
   "outputs": [],
   "source": []
  },
  {
   "cell_type": "code",
   "execution_count": null,
   "id": "9c0c0384",
   "metadata": {},
   "outputs": [],
   "source": []
  },
  {
   "cell_type": "code",
   "execution_count": null,
   "id": "401db99d",
   "metadata": {},
   "outputs": [],
   "source": []
  },
  {
   "cell_type": "code",
   "execution_count": null,
   "id": "73d750b2",
   "metadata": {},
   "outputs": [],
   "source": []
  },
  {
   "cell_type": "code",
   "execution_count": null,
   "id": "625db3b1",
   "metadata": {},
   "outputs": [],
   "source": []
  },
  {
   "cell_type": "code",
   "execution_count": null,
   "id": "cabf57e1",
   "metadata": {},
   "outputs": [],
   "source": []
  },
  {
   "cell_type": "code",
   "execution_count": null,
   "id": "484b3a25",
   "metadata": {},
   "outputs": [],
   "source": []
  },
  {
   "cell_type": "code",
   "execution_count": null,
   "id": "9b4e790a",
   "metadata": {},
   "outputs": [],
   "source": []
  },
  {
   "cell_type": "code",
   "execution_count": null,
   "id": "182ae583",
   "metadata": {},
   "outputs": [],
   "source": []
  },
  {
   "cell_type": "code",
   "execution_count": null,
   "id": "108441ca",
   "metadata": {},
   "outputs": [],
   "source": []
  },
  {
   "cell_type": "code",
   "execution_count": null,
   "id": "d3f17fbe",
   "metadata": {},
   "outputs": [],
   "source": []
  },
  {
   "cell_type": "code",
   "execution_count": 244,
   "id": "abb4ca2c",
   "metadata": {},
   "outputs": [],
   "source": [
    "import numpy as np\n",
    "from scipy.optimize import minimize_scalar\n",
    "from scipy.special import factorial, gammainc, gamma\n",
    "from numpy.polynomial import Polynomial\n",
    "\n",
    "def rms(x):\n",
    "    return np.sqrt(np.mean(x**2))\n",
    "\n",
    "def pedm(k_vect, c_til, nMax_vals=None, deltaz_T_vals=None, deltaz_B_vals=None, waterDepth=None):\n",
    "    # Define Root-mean-square function for later use\n",
    "    rms = lambda x: np.sqrt(np.mean(x**2))\n",
    "\n",
    "    # If user has not provided information about the waterDepth, set to infinity\n",
    "    if waterDepth is None:\n",
    "        waterDepth = np.inf\n",
    "\n",
    "    # Handling for inadequate input data.\n",
    "    if len(k_vect) == 0 or len(c_til) == 0:\n",
    "        return np.nan, np.nan, np.nan, np.nan, np.nan\n",
    "\n",
    "    # Now we start with the PEDM. The steps follow those in the manuscript in section 2.1.2 Effect of limitations of measured Doppler shifts\n",
    "    # Define the parameters.\n",
    "    # Calculate effective depths of Doppler shift velocities based on assumption of a linear profile\n",
    "    Z_eff = -(2 * k_vect) ** -1 * np.tanh(np.abs(waterDepth) * k_vect)\n",
    "\n",
    "    # Set default values for PEDM parameter combinations if inputs left blank\n",
    "    if nMax_vals is None:\n",
    "        nm = min(12, round(len(k_vect) / 2))\n",
    "        nMax_vals = np.arange(0, nm+1)\n",
    "    \n",
    "    if deltaz_T_vals is None:\n",
    "        depthRange = np.abs(Z_eff[0] - Z_eff[-1])\n",
    "        deltaz_T_vals = np.linspace(0.01, 0.2, 20) * depthRange\n",
    "\n",
    "    if deltaz_B_vals is None:\n",
    "        depthRange = np.abs(Z_eff[0] - Z_eff[-1])\n",
    "        deltaz_B_vals = np.linspace(0.02, 0.8, 20) * depthRange\n",
    "\n",
    "    z_c = max(4 * np.min(Z_eff), -np.abs(waterDepth))  # Cutoff depth chosen as 4 times the deepest mapped depth. (Set to water depth if depth is shallower)\n",
    "    # z_c is NEGATIVE by convention here\n",
    "\n",
    "    # We loop over all PEDM parameter combinations. First initialize eps_PEDM_out as well as the other outputs.\n",
    "    eps_PEDM_out = np.inf\n",
    "    eps_EDM_out = np.inf\n",
    "\n",
    "    pPEDM_out = np.nan\n",
    "    pEDM_out = np.nan\n",
    "\n",
    "    verbose = []\n",
    "    combo = 0\n",
    "\n",
    "    for nMax in nMax_vals:\n",
    "        for deltaz_B in deltaz_B_vals:\n",
    "            for deltaz_T in deltaz_T_vals:\n",
    "                # STEP 1: Fit the mapped Doppler shifts to a polynomial of order nMax.\n",
    "                p1 = np.polyfit(Z_eff, c_til, nMax)\n",
    "\n",
    "                # STEP 2: Create additional velocity-depth pairs by linearly extrapolating up to the surface and down to cutoff depth z_c\n",
    "                zB = np.linspace(0, deltaz_B, 100)\n",
    "                zT = np.linspace(-deltaz_T, 0, 100)\n",
    "\n",
    "                pTop = np.polyfit(Z_eff[-1] + zT, np.polyval(p1, Z_eff[-1] + zT), 1)\n",
    "                pBottom = np.polyfit(Z_eff[0] + zB, np.polyval(p1, Z_eff[0] + zB), 1)\n",
    "\n",
    "                depthsExBtm = np.arange(z_c, Z_eff[0] - deltaz_B, -deltaz_B)\n",
    "                depthsExTop = np.concatenate((np.arange(Z_eff[-1] + deltaz_T, 0, deltaz_T), [0]))\n",
    "\n",
    "                zEx = np.concatenate((depthsExBtm, Z_eff, depthsExTop))\n",
    "                cTilEx = np.concatenate((np.polyval(pBottom, depthsExBtm), c_til, np.polyval(pTop, depthsExTop)))\n",
    "\n",
    "                # STEP 3: Perform a second polynomial fit on the expanded set of points\n",
    "                pEDM = np.polyfit(zEx, cTilEx, nMax)\n",
    "\n",
    "                # Determine if profile is monotonic with range of mapped depths.\n",
    "                nv = np.arange(nMax, 0, -1)\n",
    "                pczEx_p = nv * pEDM[:-1]  # Derivative polynomial coefficients\n",
    "                rts = np.roots(pczEx_p)  # Find roots\n",
    "                rts = rts[np.isreal(rts)]  # Discard complex roots\n",
    "\n",
    "                # If there roots of the derivative within ranges of mapped depths, don't go further.\n",
    "                if np.any((rts > Z_eff[0]) & (rts < 0)):\n",
    "                    continue\n",
    "\n",
    "                # STEP 4: Scale polynomial coefficients defining U_EDM by n! as in equation (8) in the article.\n",
    "                pPEDM_i = pEDM / factorial(np.arange(nMax, -1, -1))\n",
    "\n",
    "                # STEP 5: Create a new set of linearly extrapolated points down to z_c based on the average shear of the above polynomial function in a depth interval deltaz_B/2 at the deep end of the regime.\n",
    "                zB2 = np.linspace(0, deltaz_B/2, 100)\n",
    "                pBottom2 = np.polyfit(Z_eff[0] + zB, np.polyval(pPEDM_i, Z_eff[0] + zB), 1)\n",
    "\n",
    "                depthsExBtm2 = np.arange(z_c, Z_eff[0] - deltaz_B, -deltaz_B/2)\n",
    "\n",
    "                zEx2 = np.concatenate((depthsExBtm2, Z_eff, depthsExTop))\n",
    "                Uvals = np.concatenate((np.polyval(pBottom2, depthsExBtm2), np.polyval(pPEDM_i, Z_eff), np.polyval(pPEDM_i, depthsExTop)))\n",
    "\n",
    "                # STEP 6: Perform a final polynomial fit on the expanded set of points.\n",
    "                pPEDM = np.polyfit(zEx2, Uvals, nMax)\n",
    "\n",
    "                # Calculate Doppler shifts assuming U_EDM or U_PEDM as the current profile, using the forward problem.\n",
    "                c_tilEDM = 0\n",
    "                c_tilPEDM = 0\n",
    "\n",
    "                if nMax < 2:\n",
    "                    for n in range(nMax + 1):\n",
    "                        c_tilEDM += factorial(n) * pEDM[-n-1] * (-1 / (2 * k_vect)) ** n\n",
    "                        c_tilPEDM += factorial(n) * pPEDM[-n-1] * (-1 / (2 * k_vect)) ** n\n",
    "                else:\n",
    "                    for n in range(nMax + 1):\n",
    "                        c_tilEDM += (-1 / 2) ** n * k_vect ** (-n) * pEDM[-n-1] * (gammainc(-2 * k_vect * z_c, 1 + n)) * gamma(n + 1)\n",
    "                        c_tilPEDM += (-1 / 2) ** n * k_vect ** (-n) * pPEDM[-n-1] * (gammainc(-2 * k_vect * z_c, 1 + n)) * gamma(n + 1)\n",
    "\n",
    "                # Calculate RMS differences (equation (9) in manuscript)\n",
    "                eps_EDM = rms(c_til - c_tilEDM)  # RMS difference for U_EDM\n",
    "                eps_PEDM = rms(c_til - c_tilPEDM)  # RMS difference for U_PEDM.\n",
    "\n",
    "                # Parameters nMax, deltaz_T, and deltaz_B are chosen to minimize eps_PEDM in practice.\n",
    "                if eps_PEDM < eps_PEDM_out:\n",
    "                    eps_PEDM_out = eps_PEDM\n",
    "                    pPEDM_out = pPEDM\n",
    "\n",
    "                if eps_EDM < eps_EDM_out:\n",
    "                    eps_EDM_out = eps_EDM\n",
    "\n",
    "                combo += 1\n",
    "    verbose.append({\n",
    "                    'pPEDM': pPEDM.tolist(),\n",
    "                    'pEDM': pEDM.tolist(),\n",
    "                    'eps_PEDM': eps_PEDM,\n",
    "                    'eps_EDM': eps_EDM,\n",
    "                    'nMax': nMax,\n",
    "                    'deltaz_B': deltaz_B,\n",
    "                    'deltaz_T': deltaz_T\n",
    "                })\n",
    "\n",
    "\n",
    "    #return pPEDM_out, pEDM_out, eps_PEDM_out, eps_EDM_out, verbose\n",
    "    return pPEDM_out, pEDM_out, eps_PEDM_out, eps_EDM_out, verbose\n",
    "\n",
    "# Example usage:\n",
    "pPEDM, pEDM, eps_PEDM, eps_EDM, verbose = pedm(wavenumbers, Ux)\n"
   ]
  },
  {
   "cell_type": "code",
   "execution_count": 245,
   "id": "b7288387",
   "metadata": {},
   "outputs": [
    {
     "data": {
      "text/plain": [
       "[-4.8211884550072346e-08,\n",
       " -8.624917322664956e-06,\n",
       " -0.0004007777199692833,\n",
       " -0.0027920991068846367,\n",
       " 0.08718909034484372,\n",
       " 0.7309933061207433]"
      ]
     },
     "execution_count": 245,
     "metadata": {},
     "output_type": "execute_result"
    }
   ],
   "source": [
    "verbose[0]['pPEDM']"
   ]
  },
  {
   "cell_type": "code",
   "execution_count": 246,
   "id": "2c1eea50",
   "metadata": {},
   "outputs": [],
   "source": [
    "U1_fun = lambda z: np.polyval(verbose[0]['pPEDM'], z)"
   ]
  },
  {
   "cell_type": "code",
   "execution_count": 248,
   "id": "7cbf9536",
   "metadata": {},
   "outputs": [
    {
     "data": {
      "text/plain": [
       "<matplotlib.legend.Legend at 0x25df2d1ad00>"
      ]
     },
     "execution_count": 248,
     "metadata": {},
     "output_type": "execute_result"
    },
    {
     "data": {
      "image/png": "[encoded data removed]",
      "text/plain": [
       "<Figure size 432x288 with 1 Axes>"
      ]
     },
     "metadata": {
      "needs_background": "light"
     },
     "output_type": "display_data"
    }
   ],
   "source": [
    "plt.plot(U1_fun(z), z, label=\"PEDM\", color = 'red')\n",
    "\n",
    "plt.plot(U, z, label = 'Correct Profile', color = 'black')\n",
    "#plt.scatter(Ux, -1/(2*wavenumbers), label='EDM', color = 'red')\n",
    "\n",
    "plt.grid(True)\n",
    "plt.title(\"PEDM\")\n",
    "plt.xlabel(\"U [m/s]\")\n",
    "plt.ylabel(\"Depth [m]\")\n",
    "plt.legend()\n",
    "#plt.xlim(-1,1)"
   ]
  },
  {
   "cell_type": "code",
   "execution_count": null,
   "id": "5093270b",
   "metadata": {},
   "outputs": [],
   "source": []
  },
  {
   "cell_type": "code",
   "execution_count": null,
   "id": "b0cfbadb",
   "metadata": {},
   "outputs": [],
   "source": []
  },
  {
   "cell_type": "code",
   "execution_count": null,
   "id": "e1f77efb",
   "metadata": {},
   "outputs": [],
   "source": []
  },
  {
   "cell_type": "code",
   "execution_count": null,
   "id": "ef7bb2c7",
   "metadata": {},
   "outputs": [],
   "source": []
  },
  {
   "cell_type": "code",
   "execution_count": null,
   "id": "022d9346",
   "metadata": {},
   "outputs": [],
   "source": []
  }
 ],
 "metadata": {
  "kernelspec": {
   "display_name": "Python 3",
   "language": "python",
   "name": "python3"
  },
  "language_info": {
   "codemirror_mode": {
    "name": "ipython",
    "version": 3
   },
   "file_extension": ".py",
   "mimetype": "text/x-python",
   "name": "python",
   "nbconvert_exporter": "python",
   "pygments_lexer": "ipython3",
   "version": "3.8.8"
  }
 },
 "nbformat": 4,
 "nbformat_minor": 5
}
