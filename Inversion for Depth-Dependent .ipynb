{
 "cells": [
  {
   "cell_type": "code",
   "execution_count": 1,
   "id": "26e4cc5c",
   "metadata": {},
   "outputs": [],
   "source": [
    "import sys\n",
    "sys.path.append(\"C:\\\\Users\\josep\\Documents\\Anaconda\\pkgs\")\n",
    "import help_tools\n",
    "import wave_tools\n",
    "import cv2\n",
    "import h5py\n",
    "from matplotlib import cm\n",
    "import radar_tools\n",
    "import numpy as np\n",
    "from wave_tools import ConstructWave, surface_core, peak_tracking\n",
    "from wave_tools import fft_interpolate, fft_interface, Spectrum\n",
    "from wave_tools import SpectralAnalysis\n",
    "import matplotlib.pyplot as plt\n",
    "from help_tools import plotting_interface\n",
    "from wave_tools import surface_core, fft_interface, dispersionRelation\n",
    "from help_tools import plotting_interface, polar_coordinates, convolutional_filters, moving_average\n",
    "from scipy.optimize import least_squares\n",
    "from scipy.optimize import minimize\n",
    "from scipy.optimize import curve_fit\n",
    "from matplotlib.ticker import LinearLocator, FormatStrFormatter\n",
    "from tqdm import tqdm\n",
    "from mpl_toolkits.mplot3d import Axes3D\n",
    "from scipy.fftpack import fftn, fftshift\n",
    "from scipy.stats import t\n",
    "from numpy import sqrt, mean\n",
    "from scipy.special import gamma, gammaincc"
   ]
  },
  {
   "cell_type": "code",
   "execution_count": 2,
   "id": "c4f70051",
   "metadata": {},
   "outputs": [],
   "source": [
    "sys.path.append(\"C:\\\\Users\\josep\\Desktop\\PHYC40900_Project TP\\Data_NEW\")\n",
    "fileName ='shearing_curr_res_7.5_dt_1.0_T_1200_U_1.0exp(0.5z)+0.05_psi_0_smax_30_0_surf3d.hdf5'\n",
    "# file with psi = 0 \n",
    "f = h5py.File('C:\\\\Users\\josep\\Desktop\\PHYC40900_Project TP\\Data_NEW\\shearing_curr_res_7.5_dt_1.0_T_1200_U_1.0exp(0.5z)+0.05_psi_0_smax_30_0_surf3d.hdf5', 'r')\n"
   ]
  },
  {
   "cell_type": "code",
   "execution_count": 3,
   "id": "37318fcb",
   "metadata": {},
   "outputs": [],
   "source": [
    "x = f.get('x')\n",
    "y = f.get('y')\n",
    "z = f.get('z')\n",
    "t = f.get('t')\n",
    "k = f.get('k')\n",
    "U = f.get('U')\n",
    "Uk = f.get('Uk')\n",
    "eta = f.get('eta')\n",
    "x = np.array(x)\n",
    "y = np.array(y)\n",
    "z = np.array(z)\n",
    "t = np.array(t)\n",
    "k = np.array(k)\n",
    "U = np.array(U)\n",
    "Uk = np.array(Uk)\n",
    "eta = np.array(eta)"
   ]
  },
  {
   "cell_type": "code",
   "execution_count": 4,
   "id": "1a2c981b",
   "metadata": {},
   "outputs": [],
   "source": [
    "Ux = np.array([0.17091544, 0.2196002 , 0.24884891, 0.22784447, 0.365201  ,\n",
    "       0.37375478, 0.39257039, 0.37231073, 0.41550739, 0.43636989,\n",
    "       0.45111672, 0.46662792, 0.48854647, 0.49640163, 0.51887196,\n",
    "       0.52827061, 0.54437941, 0.54929705, 0.56552202, 0.57508514,\n",
    "       0.58477563, 0.59755615])\n",
    "\n",
    "Uy = np.array([ 2.98957309e-01,  9.64168660e-05, -1.46797090e-02, -9.75160307e-02,\n",
    "       -5.19632419e-03, -4.59904496e-02, -2.32619177e-02, -3.68628550e-02,\n",
    "       -2.17454902e-02, -2.99040715e-03, -9.57263434e-03, -1.21971856e-03,\n",
    "       -5.82043301e-03, -1.21835241e-02,  2.33133879e-03, -6.70864695e-03,\n",
    "       -7.49637624e-03, -9.90104750e-03, -5.72381167e-03, -5.34194980e-03,\n",
    "       -6.43512919e-03, -4.68551265e-03])\n",
    "\n",
    "wavenumbers = np.array([0.03751155, 0.05001541, 0.06251926, 0.07502311, 0.08752696,\n",
    "       0.10003081, 0.11253466, 0.12503851, 0.13754236, 0.15004622,\n",
    "       0.16255007, 0.17505392, 0.18755777, 0.20006162, 0.21256547,\n",
    "       0.22506932, 0.23757318, 0.25007703, 0.26258088, 0.27508473,\n",
    "       0.28758858, 0.30009243])"
   ]
  },
  {
   "cell_type": "code",
   "execution_count": 5,
   "id": "878a2666",
   "metadata": {},
   "outputs": [
    {
     "data": {
      "text/plain": [
       "(0.0, 0.31)"
      ]
     },
     "execution_count": 5,
     "metadata": {},
     "output_type": "execute_result"
    },
    {
     "data": {
      "image/png": "[encoded data removed]",
      "text/plain": [
       "<Figure size 432x288 with 1 Axes>"
      ]
     },
     "metadata": {
      "needs_background": "light"
     },
     "output_type": "display_data"
    }
   ],
   "source": [
    "plt.scatter(wavenumbers, Ux, label=r'$U_{x}$', color = 'blue')\n",
    "plt.scatter(wavenumbers, Uy, label=r'$U_{y}$', color = 'red')\n",
    "plt.plot(k, Uk[:,0], label = r'Correct $U_{x}$', linestyle='--', color='blue')\n",
    "plt.plot(k, np.zeros(len(k)), label = r'Correct $U_{y}$', linestyle='--', color='red')\n",
    "\n",
    "plt.grid(True)\n",
    "plt.legend(fontsize=12)\n",
    "plt.ylabel(\"U [m/s]\", fontsize=16)\n",
    "plt.xlabel(\"Wavenumber [rad/m]\", fontsize=16)\n",
    "\n",
    "plt.ylim(-0.5, 1.4)\n",
    "plt.xlim(0, 0.31)"
   ]
  },
  {
   "cell_type": "code",
   "execution_count": 6,
   "id": "ecd2cb08",
   "metadata": {},
   "outputs": [],
   "source": [
    "def pedm(wavenumbers, uvals, p0=None, bounds=None, water_depth=np.inf):\n",
    "    def pedm_fit_function(x, a, b, c):\n",
    "        return a * x + b * np.exp(c * x)\n",
    "\n",
    "    popt, pcov = curve_fit(pedm_fit_function, np.log(wavenumbers), uvals, p0=p0, bounds=bounds)\n",
    "\n",
    "    eps_PEDM = np.sqrt(np.mean((pedm_fit_function(np.log(wavenumbers), *popt) - uvals)**2))\n",
    "    eps_EDM = eps_EDM = np.sqrt(np.mean((np.polyval(popt, np.log(wavenumbers)) - uvals)**2))\n",
    "\n",
    "    return popt, np.polyfit(np.log(wavenumbers), uvals, 1), eps_PEDM, eps_EDM, {\"additional_info\": \"verbose_info\"}"
   ]
  },
  {
   "cell_type": "code",
   "execution_count": null,
   "id": "92299eef",
   "metadata": {},
   "outputs": [],
   "source": []
  },
  {
   "cell_type": "code",
   "execution_count": 7,
   "id": "7906fcbe",
   "metadata": {},
   "outputs": [
    {
     "name": "stderr",
     "output_type": "stream",
     "text": [
      "C:\\Users\\josep\\Documents\\Anaconda\\lib\\site-packages\\scipy\\optimize\\_minpack_py.py:881: OptimizeWarning: Covariance of the parameters could not be estimated\n",
      "  warnings.warn('Covariance of the parameters could not be estimated',\n"
     ]
    },
    {
     "data": {
      "text/plain": [
       "{'global': {'wavenumbers': array([0.03751155, 0.05001541, 0.06251926, 0.07502311, 0.08752696,\n",
       "         0.10003081, 0.11253466, 0.12503851, 0.13754236, 0.15004622,\n",
       "         0.16255007, 0.17505392, 0.18755777, 0.20006162, 0.21256547,\n",
       "         0.22506932, 0.23757318, 0.25007703, 0.26258088, 0.27508473,\n",
       "         0.28758858, 0.30009243]),\n",
       "  'U1': array([0.17091544, 0.2196002 , 0.24884891, 0.22784447, 0.365201  ,\n",
       "         0.37375478, 0.39257039, 0.37231073, 0.41550739, 0.43636989,\n",
       "         0.45111672, 0.46662792, 0.48854647, 0.49640163, 0.51887196,\n",
       "         0.52827061, 0.54437941, 0.54929705, 0.56552202, 0.57508514,\n",
       "         0.58477563, 0.59755615]),\n",
       "  'U2': array([ 2.98957309e-01,  9.64168660e-05, -1.46797090e-02, -9.75160307e-02,\n",
       "         -5.19632419e-03, -4.59904496e-02, -2.32619177e-02, -3.68628550e-02,\n",
       "         -2.17454902e-02, -2.99040715e-03, -9.57263434e-03, -1.21971856e-03,\n",
       "         -5.82043301e-03, -1.21835241e-02,  2.33133879e-03, -6.70864695e-03,\n",
       "         -7.49637624e-03, -9.90104750e-03, -5.72381167e-03, -5.34194980e-03,\n",
       "         -6.43512919e-03, -4.68551265e-03]),\n",
       "  'phi': 0,\n",
       "  'Ux': array([0.17091544, 0.2196002 , 0.24884891, 0.22784447, 0.365201  ,\n",
       "         0.37375478, 0.39257039, 0.37231073, 0.41550739, 0.43636989,\n",
       "         0.45111672, 0.46662792, 0.48854647, 0.49640163, 0.51887196,\n",
       "         0.52827061, 0.54437941, 0.54929705, 0.56552202, 0.57508514,\n",
       "         0.58477563, 0.59755615]),\n",
       "  'Uy': array([ 2.98957309e-01,  9.64168660e-05, -1.46797090e-02, -9.75160307e-02,\n",
       "         -5.19632419e-03, -4.59904496e-02, -2.32619177e-02, -3.68628550e-02,\n",
       "         -2.17454902e-02, -2.99040715e-03, -9.57263434e-03, -1.21971856e-03,\n",
       "         -5.82043301e-03, -1.21835241e-02,  2.33133879e-03, -6.70864695e-03,\n",
       "         -7.49637624e-03, -9.90104750e-03, -5.72381167e-03, -5.34194980e-03,\n",
       "         -6.43512919e-03, -4.68551265e-03])},\n",
       " 'EDM': {'lin': {'Z_eff': array([-13.32922793,  -9.99691895,  -7.99753548,  -6.66461308,\n",
       "           -5.7125256 ,  -4.99845997,  -4.44307558,  -3.99876806,\n",
       "           -3.63524372,  -3.33230654,  -3.0759753 ,  -2.8562628 ,\n",
       "           -2.6658453 ,  -2.49922999,  -2.35221647,  -2.22153779,\n",
       "           -2.10461467,  -1.99938395,  -1.9041752 ,  -1.81762179,\n",
       "           -1.73859477,  -1.66615332]),\n",
       "   'U_fun': <function __main__.find_current_depth_profile.<locals>.effective_depth_method.<locals>.<lambda>(z)>,\n",
       "   'eps': 0.04582588583064233},\n",
       "  'log': {'Z_eff': array([-7.4883303 , -5.6162466 , -4.49299746, -3.74416465, -3.20928405,\n",
       "          -2.80812358, -2.49610988, -2.24649891, -2.04227175, -1.87208233,\n",
       "          -1.72807601, -1.60464202, -1.4976659 , -1.40406179, -1.32146993,\n",
       "          -1.24805494, -1.18236779, -1.12324941, -1.06976135, -1.02113584,\n",
       "          -0.97673863, -0.93604119]),\n",
       "   'U_fun': <function __main__.find_current_depth_profile.<locals>.effective_depth_method.<locals>.<lambda>(z)>,\n",
       "   'eps': 0.06852650921477807}},\n",
       " 'PEDM': {'U1_fun': <function __main__.find_current_depth_profile.<locals>.<lambda>(z)>,\n",
       "  'eps1': 0.01866925126062675,\n",
       "  'verbose1': {'additional_info': 'verbose_info'},\n",
       "  'U2_fun': <function __main__.find_current_depth_profile.<locals>.<lambda>(z)>,\n",
       "  'eps2': 0.06852650921477807,\n",
       "  'verbose2': {'additional_info': 'verbose_info'}}}"
      ]
     },
     "execution_count": 7,
     "metadata": {},
     "output_type": "execute_result"
    }
   ],
   "source": [
    "def find_current_depth_profile(wavenumbers, Ux, Uy, water_depth=np.inf):\n",
    "    def U_Phill(Uw, z):\n",
    "        alpha = 0.008\n",
    "        g = 9.81\n",
    "        return 2 * alpha * Uw * (np.exp(2 * g / Uw**2 * z) -\n",
    "                                 np.sqrt(-2 * np.pi * g / Uw**2 * z) *\n",
    "                                 np.erfc(np.sqrt(-2 * g / Uw**2 * z)))\n",
    "\n",
    "    def pedm_fit_function(x, a, b, c):\n",
    "        return a * x + b * np.exp(c * x)\n",
    "\n",
    "    def linear_profile(x, a, b):\n",
    "        return a * x + b\n",
    "\n",
    "    def effective_depth_method(wavenumbers, uvals, water_depth):\n",
    "        Z_eff_lin = -(2 * wavenumbers)**-1 * np.tanh(np.abs(water_depth) * wavenumbers)\n",
    "        Z_eff_log = -(3.56 * wavenumbers)**-1\n",
    "\n",
    "        Z_eff_Phillips = -np.pi * (8 * wavenumbers)**-1\n",
    "\n",
    "        Z_eff = {\"lin\": Z_eff_lin, \"log\": Z_eff_log, \"Phillips\": Z_eff_Phillips}\n",
    "\n",
    "        results = {}\n",
    "\n",
    "        for i, profile_type in enumerate([\"lin\", \"log\", \"Phillips\"]):\n",
    "            uvals_profile = Ux if i == 0 else Uy\n",
    "\n",
    "            if profile_type == \"Phillips\" and water_depth == np.inf:\n",
    "                continue\n",
    "\n",
    "            if profile_type == \"lin\":\n",
    "                popt, _ = curve_fit(linear_profile, Z_eff_lin, uvals_profile)\n",
    "            else:\n",
    "                popt, _ = curve_fit(pedm_fit_function, np.log(wavenumbers), uvals_profile)\n",
    "\n",
    "            Z_eff_profile = Z_eff[profile_type]\n",
    "\n",
    "            uTilde = linear_profile(Z_eff_lin, *popt) if profile_type == \"lin\" else pedm_fit_function(np.log(wavenumbers), *popt)\n",
    "\n",
    "            eps = sqrt(mean((uTilde - uvals_profile)**2))\n",
    "\n",
    "            U_fun = lambda z: linear_profile(z, *popt) if profile_type == \"lin\" else pedm_fit_function(np.log(z), *popt)\n",
    "\n",
    "            results[profile_type] = {\"Z_eff\": Z_eff_profile, \"U_fun\": U_fun, \"eps\": eps}\n",
    "\n",
    "        return results\n",
    "\n",
    "    inds = ~np.isnan(Ux) & ~np.isnan(Uy)\n",
    "    wavenumbers = wavenumbers[inds]\n",
    "\n",
    "    U0 = np.mean(Ux[inds])\n",
    "    V0 = np.mean(Uy[inds])\n",
    "    phi = 0\n",
    "\n",
    "    U1 = Ux[inds] * np.cos(-phi) - Uy[inds] * np.sin(-phi)\n",
    "    U2 = Ux[inds] * np.sin(-phi) + Uy[inds] * np.cos(-phi)\n",
    "\n",
    "    results = {\"global\": {\"wavenumbers\": wavenumbers,\n",
    "                          \"U1\": U1,\n",
    "                          \"U2\": U2,\n",
    "                          \"phi\": phi,\n",
    "                          \"Ux\": Ux[inds],\n",
    "                          \"Uy\": Uy[inds]}}\n",
    "\n",
    "    if water_depth == np.inf:\n",
    "        water_depth = np.inf\n",
    "\n",
    "    results[\"EDM\"] = effective_depth_method(wavenumbers, U1, water_depth)\n",
    "    results[\"PEDM\"] = {}\n",
    "\n",
    "    for i, uvals in enumerate([U1, U2]):\n",
    "        # Provide bounds for the curve_fit function\n",
    "        bounds = ([-np.inf, -np.inf, -np.inf], [np.inf, np.inf, np.inf])\n",
    "        pPEDM, pEDM, eps_PEDM, eps_EDM, verbose = pedm(wavenumbers, uvals, bounds=bounds, water_depth=water_depth)\n",
    "\n",
    "        U_fun = lambda z: np.polyval(pPEDM, z) if i == 0 else np.polyval(pEDM, z)\n",
    "\n",
    "        results[\"PEDM\"][f\"U{i+1}_fun\"] = U_fun\n",
    "        results[\"PEDM\"][f\"eps{i+1}\"] = eps_PEDM\n",
    "        results[\"PEDM\"][f\"verbose{i+1}\"] = verbose\n",
    "\n",
    "    return results\n",
    "\n",
    "# Example usage:\n",
    "results = find_current_depth_profile(wavenumbers, Ux, Uy, water_depth=np.inf)\n",
    "results"
   ]
  },
  {
   "cell_type": "code",
   "execution_count": 8,
   "id": "1d7e636b",
   "metadata": {},
   "outputs": [
    {
     "data": {
      "text/plain": [
       "Text(0, 0.5, 'Depth [m]')"
      ]
     },
     "execution_count": 8,
     "metadata": {},
     "output_type": "execute_result"
    },
    {
     "data": {
      "image/png": "[encoded data removed]",
      "text/plain": [
       "<Figure size 432x288 with 1 Axes>"
      ]
     },
     "metadata": {
      "needs_background": "light"
     },
     "output_type": "display_data"
    }
   ],
   "source": [
    "plt.plot(results['PEDM']['U1_fun'](z), z)\n",
    "\n",
    "plt.plot(results['PEDM']['U2_fun'](z), z)\n",
    "\n",
    "plt.scatter(Ux, -1/(2*wavenumbers))\n",
    "\n",
    "plt.grid(True)\n",
    "plt.xlabel(\"Velocity [m/s]\")\n",
    "plt.ylabel(\"Depth [m]\")"
   ]
  },
  {
   "cell_type": "code",
   "execution_count": 9,
   "id": "3e16694e",
   "metadata": {},
   "outputs": [
    {
     "data": {
      "text/plain": [
       "<function __main__.find_current_depth_profile.<locals>.<lambda>(z)>"
      ]
     },
     "execution_count": 9,
     "metadata": {},
     "output_type": "execute_result"
    }
   ],
   "source": [
    "results['PEDM']['U1_fun']"
   ]
  },
  {
   "cell_type": "code",
   "execution_count": null,
   "id": "fb1afa46",
   "metadata": {},
   "outputs": [],
   "source": []
  },
  {
   "cell_type": "code",
   "execution_count": 10,
   "id": "76e4c5d1",
   "metadata": {
    "scrolled": true
   },
   "outputs": [],
   "source": [
    "from scipy.io import loadmat\n",
    "\n",
    "# Load MATLAB variables from the .mat file\n",
    "#mat_data = loadmat('C:\\Users\\josep\\Documents\\MATLAB\\11_New_matlab_variables.mat')\n",
    "mat_data = loadmat(r'C:\\Users\\josep\\Documents\\MATLAB\\11_New_matlab_variables.mat')\n",
    "\n",
    "#\"C:\\Users\\josep\\Documents\\MATLAB\\11_New_matlab_variables.mat\"\n",
    "# Access the variables in Python\n",
    "new_z_values = mat_data['new_z_values']\n",
    "new_Ux_values = mat_data['new_Ux_values']\n",
    "\n",
    "# Now you can use new_z_values and new_Ux_values in Python"
   ]
  },
  {
   "cell_type": "code",
   "execution_count": 11,
   "id": "00160ee9",
   "metadata": {},
   "outputs": [
    {
     "data": {
      "text/plain": [
       "array([-3.07587616e-02, -3.03308676e-02, -2.98944973e-02, -2.94498165e-02,\n",
       "       -2.89969965e-02, -2.85362143e-02, -2.80676520e-02, -2.75914971e-02,\n",
       "       -2.71079425e-02, -2.66171858e-02, -2.61194301e-02, -2.56148830e-02,\n",
       "       -2.51037573e-02, -2.45862703e-02, -2.40626443e-02, -2.35331057e-02,\n",
       "       -2.29978858e-02, -2.24572201e-02, -2.19113482e-02, -2.13605141e-02,\n",
       "       -2.08049657e-02, -2.02449549e-02, -1.96807375e-02, -1.91125728e-02,\n",
       "       -1.85407239e-02, -1.79654573e-02, -1.73870428e-02, -1.68057536e-02,\n",
       "       -1.62218658e-02, -1.56356587e-02, -1.50474143e-02, -1.44574175e-02,\n",
       "       -1.38659557e-02, -1.32733188e-02, -1.26797990e-02, -1.20856908e-02,\n",
       "       -1.14912907e-02, -1.08968971e-02, -1.03028103e-02, -9.70933211e-03,\n",
       "       -9.11676596e-03, -8.52541658e-03, -7.93558994e-03, -7.34759305e-03,\n",
       "       -6.76173384e-03, -6.17832101e-03, -5.59766384e-03, -5.02007209e-03,\n",
       "       -4.44585581e-03, -3.87532518e-03, -3.30879036e-03, -2.74656133e-03,\n",
       "       -2.18894772e-03, -1.63625865e-03, -1.08880259e-03, -5.46887126e-04,\n",
       "       -1.08188666e-05,  5.19096769e-04,  1.04255571e-03,  1.55925541e-03,\n",
       "        2.06889502e-03,  2.57117555e-03,  3.06580007e-03,  3.55247387e-03,\n",
       "        4.03090464e-03,  4.50080266e-03,  4.96188096e-03,  5.41385554e-03,\n",
       "        5.85644551e-03,  6.28937329e-03,  6.71236484e-03,  7.12514976e-03,\n",
       "        7.52746156e-03,  7.91903781e-03,  8.29962033e-03,  8.66895540e-03,\n",
       "        9.02679391e-03,  9.37289164e-03,  9.70700936e-03,  1.00289131e-02,\n",
       "        1.03383742e-02,  1.06351698e-02,  1.09190828e-02,  1.11899021e-02,\n",
       "        1.14474226e-02,  1.16914461e-02,  1.19217807e-02,  1.21382413e-02,\n",
       "        1.23406500e-02,  1.25288361e-02,  1.27026362e-02,  1.28618948e-02,\n",
       "        1.30064640e-02,  1.31362041e-02,  1.32509838e-02,  1.33506802e-02,\n",
       "        1.34351788e-02,  1.35043745e-02,  1.35581711e-02,  1.35964816e-02,\n",
       "        1.36192288e-02,  1.36263452e-02,  1.36177731e-02,  1.35934653e-02,\n",
       "        1.35533847e-02,  1.34975051e-02,  1.34258110e-02,  1.33382981e-02,\n",
       "        1.32349731e-02,  1.31158546e-02,  1.29809725e-02,  1.28303691e-02,\n",
       "        1.26640986e-02,  1.24822276e-02,  1.22848353e-02,  1.20720138e-02,\n",
       "        1.18438683e-02,  1.16005172e-02,  1.13420924e-02,  1.10687396e-02,\n",
       "        1.07806184e-02,  1.04779026e-02,  1.01607804e-02,  9.82945458e-03,\n",
       "        9.48414286e-03,  9.12507800e-03,  8.75250809e-03,  8.36669672e-03,\n",
       "        7.96792328e-03,  7.55648313e-03,  7.13268786e-03,  6.69686550e-03,\n",
       "        6.24936074e-03,  5.79053519e-03,  5.32076760e-03,  4.84045404e-03,\n",
       "        4.35000821e-03,  3.84986160e-03,  3.34046376e-03,  2.82228249e-03,\n",
       "        2.29580411e-03,  1.76153368e-03,  1.21999519e-03,  6.71731858e-04,\n",
       "        1.17306285e-04, -4.42699263e-04, -1.00768265e-03, -1.57702162e-03,\n",
       "       -2.15007361e-03, -2.72617548e-03, -3.30464330e-03, -3.88477210e-03,\n",
       "       -4.46583571e-03, -5.04708644e-03, -5.62775492e-03, -6.20704983e-03,\n",
       "       -6.78415771e-03, -7.35824270e-03, -7.92844633e-03, -8.49388727e-03,\n",
       "       -9.05366116e-03, -9.60684032e-03, -1.01524735e-02, -1.06895859e-02,\n",
       "       -1.12171784e-02, -1.17342281e-02, -1.22396872e-02, -1.27324838e-02,\n",
       "       -1.32115207e-02, -1.36756757e-02, -1.41238014e-02, -1.45547248e-02,\n",
       "       -1.49672471e-02, -1.53601435e-02, -1.57321631e-02, -1.60820285e-02,\n",
       "       -1.64084356e-02, -1.67100535e-02, -1.69855242e-02, -1.72334625e-02,\n",
       "       -1.74524554e-02, -1.76410624e-02, -1.77978149e-02, -1.79212164e-02,\n",
       "       -1.80097415e-02, -1.80618367e-02, -1.80759193e-02, -1.80503779e-02,\n",
       "       -1.79835716e-02, -1.78738301e-02, -1.77194535e-02, -1.75187119e-02,\n",
       "       -1.72698454e-02, -1.69710637e-02, -1.66205462e-02, -1.62164413e-02,\n",
       "       -1.57568667e-02, -1.52399088e-02, -1.46636228e-02, -1.40260322e-02,\n",
       "       -1.33251290e-02, -1.25588730e-02, -1.17251920e-02, -1.08219813e-02,\n",
       "       -9.84710388e-03, -8.79838979e-03, -7.67363621e-03, -6.47060714e-03,\n",
       "       -5.18703327e-03, -3.82061173e-03, -2.36900595e-03, -8.29845428e-04,\n",
       "        7.99274449e-04,  2.52079259e-03,  4.33718240e-03,  6.25095196e-03,\n",
       "        8.26464422e-03,  1.03808372e-02,  1.26021440e-02,  1.49312135e-02,\n",
       "        1.73707298e-02,  1.99234129e-02,  2.25920189e-02,  2.53793399e-02,\n",
       "        2.82882043e-02,  3.13214771e-02,  3.44820599e-02,  3.77728912e-02,\n",
       "        4.11969464e-02,  4.47572382e-02,  4.84568165e-02,  5.22987690e-02,\n",
       "        5.62862207e-02,  6.04223349e-02,  6.47103124e-02,  6.91533927e-02,\n",
       "        7.37548533e-02,  7.85180102e-02,  8.34462183e-02,  8.85428710e-02,\n",
       "        9.38114010e-02,  9.92552797e-02,  1.04878018e-01,  1.10683167e-01,\n",
       "        1.16674315e-01,  1.22855093e-01,  1.29229170e-01,  1.35800256e-01,\n",
       "        1.42572099e-01,  1.49548491e-01,  1.56733261e-01,  1.64130280e-01,\n",
       "        1.71743459e-01,  1.79576752e-01,  1.87634152e-01,  1.95919692e-01,\n",
       "        2.04437449e-01,  2.13191539e-01,  2.22186122e-01,  2.31425397e-01,\n",
       "        2.40913605e-01,  2.50655031e-01,  2.60654000e-01,  2.70914880e-01,\n",
       "        2.81442080e-01,  2.92240053e-01,  3.03313292e-01,  3.14666336e-01,\n",
       "        3.26303762e-01,  3.38230195e-01,  3.50450298e-01,  3.62968780e-01,\n",
       "        3.75790391e-01,  3.88919927e-01,  4.02362223e-01,  4.16122161e-01,\n",
       "        4.30204665e-01,  4.44614701e-01,  4.59357282e-01,  4.74437461e-01,\n",
       "        4.89860337e-01,  5.05631051e-01,  5.21754790e-01,  5.38236784e-01,\n",
       "        5.55082307e-01,  5.72296675e-01,  5.89885253e-01,  6.07853445e-01,\n",
       "        6.26206702e-01,  6.44950519e-01,  6.64090436e-01,  6.83632036e-01,\n",
       "        7.03580948e-01,  7.23942843e-01,  7.44723440e-01,  7.65928500e-01,\n",
       "        7.87563831e-01,  8.09635283e-01,  8.32148752e-01,  8.55110180e-01])"
      ]
     },
     "execution_count": 11,
     "metadata": {},
     "output_type": "execute_result"
    }
   ],
   "source": [
    "new_Ux_values[0]"
   ]
  },
  {
   "cell_type": "code",
   "execution_count": 12,
   "id": "0ad0c536",
   "metadata": {},
   "outputs": [
    {
     "data": {
      "image/png": "[encoded data removed]",
      "text/plain": [
       "<Figure size 432x288 with 1 Axes>"
      ]
     },
     "metadata": {
      "needs_background": "light"
     },
     "output_type": "display_data"
    }
   ],
   "source": [
    "# Plotting dashed line\n",
    "#plt.plot(results['PEDM']['U1_fun'](z), z, '--', label='PEDM_x')\n",
    "\n",
    "# Plotting dash-dot line\n",
    "plt.plot(new_Ux_values[0], new_z_values[0],  label='PEDM_x', color = 'red')\n",
    "\n",
    "# Plotting square markers\n",
    "plt.plot(Ux, -1/(2*wavenumbers), 's', label='EDM_x', color='green', markersize = 4)\n",
    "\n",
    "# Plotting black line\n",
    "plt.plot(U*np.cos(np.radians(0)), z, 'k', label=r'$U_{x}(z)$')\n",
    "\n",
    "# Plotting black dash-dot line\n",
    "#plt.plot(-U*np.sin(np.radians(0)), z, 'k', label=r'$U_{y}(z)$', linewidth=2)\n",
    "\n",
    "plt.legend(loc = \"lower right\",  fontsize = 16)\n",
    "plt.grid(True)\n",
    "plt.xlabel(\"Current Velocity [m/s]\", fontsize = 16)\n",
    "plt.ylabel(\"Depth [m]\",  fontsize = 16)\n",
    "plt.ylim(-14,0)\n",
    "plt.show()"
   ]
  },
  {
   "cell_type": "code",
   "execution_count": 13,
   "id": "d453b278",
   "metadata": {},
   "outputs": [
    {
     "data": {
      "text/plain": [
       "array([0.17091544, 0.2196002 , 0.24884891, 0.22784447, 0.365201  ,\n",
       "       0.37375478, 0.39257039, 0.37231073, 0.41550739, 0.43636989,\n",
       "       0.45111672, 0.46662792, 0.48854647, 0.49640163, 0.51887196,\n",
       "       0.52827061, 0.54437941, 0.54929705, 0.56552202, 0.57508514,\n",
       "       0.58477563, 0.59755615])"
      ]
     },
     "execution_count": 13,
     "metadata": {},
     "output_type": "execute_result"
    }
   ],
   "source": [
    "Ux"
   ]
  },
  {
   "cell_type": "code",
   "execution_count": 14,
   "id": "fcce05f8",
   "metadata": {},
   "outputs": [
    {
     "data": {
      "text/plain": [
       "[<matplotlib.lines.Line2D at 0x198185bf400>]"
      ]
     },
     "execution_count": 14,
     "metadata": {},
     "output_type": "execute_result"
    },
    {
     "data": {
      "image/png": "[encoded data removed]",
      "text/plain": [
       "<Figure size 432x288 with 1 Axes>"
      ]
     },
     "metadata": {
      "needs_background": "light"
     },
     "output_type": "display_data"
    }
   ],
   "source": [
    "plt.plot(Ux, 1/(2*wavenumbers), 's', label='EDM_x')"
   ]
  },
  {
   "cell_type": "code",
   "execution_count": null,
   "id": "27dcc4e2",
   "metadata": {},
   "outputs": [],
   "source": []
  },
  {
   "cell_type": "code",
   "execution_count": null,
   "id": "b4551631",
   "metadata": {},
   "outputs": [],
   "source": []
  },
  {
   "cell_type": "code",
   "execution_count": null,
   "id": "bba6a098",
   "metadata": {},
   "outputs": [],
   "source": []
  },
  {
   "cell_type": "code",
   "execution_count": null,
   "id": "63603c83",
   "metadata": {},
   "outputs": [],
   "source": []
  },
  {
   "cell_type": "code",
   "execution_count": 15,
   "id": "39d6d5a0",
   "metadata": {},
   "outputs": [],
   "source": [
    "import numpy as np\n",
    "from scipy.optimize import minimize_scalar\n",
    "from scipy.optimize import minimize\n",
    "from scipy.special import gamma, gammainc\n",
    "\n",
    "def pedm(k_vect, c_til, nMax_vals=None, deltaz_T_vals=None, deltaz_B_vals=None, waterDepth=None):\n",
    "    # Define Root-mean-square function for later use\n",
    "    rms = lambda x: np.sqrt(np.mean(x**2))\n",
    "\n",
    "    # If user has not provided information about the waterDepth, set to infinity\n",
    "    if waterDepth is None:\n",
    "        waterDepth = np.inf\n",
    "\n",
    "    # Handling for inadequate input data.\n",
    "    if not k_vect or not c_til:\n",
    "        return np.nan, np.nan, np.nan, np.nan, np.nan\n",
    "\n",
    "    # Now we start with the PEDM. The steps follow those in the manuscript in section 2.1.2\n",
    "    # Effect of limitations of measured Doppler shifts\n",
    "\n",
    "    # Calculate effective depths of Doppler shift velocities based on assumption of a linear profile\n",
    "    Z_eff = -(2 * k_vect) ** -1 * np.tanh(np.abs(waterDepth) * k_vect)\n",
    "\n",
    "    # Set default values for PEDM parameter combinations if inputs left blank\n",
    "    if nMax_vals is None:\n",
    "        nm = min(12, round(len(k_vect) / 2))\n",
    "        nMax_vals = np.arange(nm + 1)\n",
    "\n",
    "    if deltaz_T_vals is None:\n",
    "        depthRange = np.abs(Z_eff[0] - Z_eff[-1])\n",
    "        deltaz_T_vals = np.linspace(0.01, 0.2, 20) * depthRange\n",
    "\n",
    "    if deltaz_B_vals is None:\n",
    "        depthRange = np.abs(Z_eff[0] - Z_eff[-1])\n",
    "        deltaz_B_vals = np.linspace(0.02, 0.8, 20) * depthRange\n",
    "\n",
    "    z_c = max(4 * np.min(Z_eff), -np.abs(waterDepth))  # Cutoff depth chosen as 4 times the deepest mapped depth.\n",
    "\n",
    "    # We loop over all PEDM parameter combinations. First initialize eps_PEDM_out as well as the other outputs.\n",
    "    eps_PEDM_out = np.inf\n",
    "    eps_EDM_out = np.inf\n",
    "    pPEDM_out = np.nan\n",
    "    pEDM_out = np.nan\n",
    "    verbose = []\n",
    "    combo = 0\n",
    "\n",
    "    for nMax in nMax_vals:\n",
    "        for deltaz_B in deltaz_B_vals:\n",
    "            for deltaz_T in deltaz_T_vals:\n",
    "                # STEP 1: Fit the mapped Doppler shifts to a polynomial of order nMax.\n",
    "                p1 = np.polyfit(Z_eff, c_til, nMax)\n",
    "\n",
    "                # STEP 2: Create additional velocity-depth pairs by linearly extrapolating up to the surface\n",
    "                # and down to cutoff depth z_c\n",
    "                zB = np.linspace(0, deltaz_B, 100)\n",
    "                zT = np.linspace(-deltaz_T, 0, 100)\n",
    "                pTop = np.polyfit(Z_eff[-1] + zT, np.polyval(p1, Z_eff[-1] + zT), 1)\n",
    "                pBottom = np.polyfit(Z_eff[0] + zB, np.polyval(p1, Z_eff[0] + zB), 1)\n",
    "\n",
    "                depthsExBtm = np.arange(z_c, Z_eff[0] - deltaz_B, deltaz_B)\n",
    "                depthsExTop = np.concatenate((np.arange(Z_eff[-1] + deltaz_T, 0, deltaz_T), [0]))\n",
    "                zEx = np.concatenate((depthsExBtm, Z_eff, depthsExTop))\n",
    "                cTilEx = np.concatenate((np.polyval(pBottom, depthsExBtm), c_til, np.polyval(pTop, depthsExTop)))\n",
    "\n",
    "                # STEP 3: Perform a second polynomial fit on the expanded set of points to produce the profile considered U_EDM.\n",
    "                pEDM = np.polyfit(zEx, cTilEx, nMax)\n",
    "\n",
    "                # Determine if profile is monotonic with the range of mapped depths.\n",
    "                nv = np.arange(nMax, 0, -1)\n",
    "                pczEx_p = nv * pEDM[:-1]  # Derivative polynomial coefficients\n",
    "                rts = np.roots(pczEx_p)  # Find roots\n",
    "                rts = rts[np.isreal(rts)].real  # Discard complex roots\n",
    "\n",
    "                # If there roots of the derivative within ranges of mapped depths, don't go further.\n",
    "                if any(rts > Z_eff[0] and rts < 0):\n",
    "                    continue\n",
    "\n",
    "                # STEP 4: Scale polynomial coefficients defining U_EDM by n! as in equation (8) in the article.\n",
    "                pPEDM_i = pEDM / np.array([gamma(i) for i in range(nMax, -1, -1)])\n",
    "\n",
    "                # STEP 5: Create a new set of linearly extrapolated points down to z_c based on the average shear\n",
    "                # of the above polynomial function in a depth interval deltaz_B/2 at the deep end of the regime.\n",
    "                zB2 = np.linspace(0, deltaz_B / 2, 100)\n",
    "                pBottom2 = np.polyfit(Z_eff[0] + zB, np.polyval(pPEDM_i, Z_eff[0] + zB), 1)\n",
    "\n",
    "                depthsExBtm2 = np.arange(z_c, Z_eff[0] - deltaz_B, deltaz_B / 2)\n",
    "                zEx2 = np.concatenate((depthsExBtm2, Z_eff, depthsExTop))\n",
    "                Uvals = np.concatenate((np.polyval(pBottom2, depthsExBtm2), np.polyval(pPEDM_i, Z_eff),\n",
    "                                       np.polyval(pPEDM_i, depthsExTop)))\n",
    "\n",
    "                # STEP 6: Perform a final polynomial fit on the expanded set of points.\n",
    "                pPEDM = np.polyfit(zEx2, Uvals, nMax)\n",
    "\n",
    "                # Calculate Doppler shifts assuming U_EDM or U_PEDM as the current profile, using the forward problem.\n",
    "                c_tilEDM = np.zeros_like(k_vect)\n",
    "                c_tilPEDM = np.zeros_like(k_vect)\n",
    "\n",
    "                if nMax < 2:\n",
    "                    for n in range(nMax + 1):\n",
    "                        c_tilEDM += factorial(n) * pPEDM[-n - 1] * (-1 / (2 * k_vect)) ** n\n",
    "                        c_tilPEDM += factorial(n) * pPEDM[-n - 1] * (-1 / (2 * k_vect)) ** n\n",
    "                else:\n",
    "                    for n in range(nMax + 1):\n",
    "                        c_tilEDM += (-1 / 2) ** n * k_vect ** (-n) * pPEDM[-n - 1] * (\n",
    "                                    gammainc(-2 * k_vect * z_c, 1 + n, 'lower')) * gamma(n + 1)\n",
    "                        c_tilPEDM += (-1 / 2) ** n * k_vect ** (-n) * pPEDM[-n - 1] * (\n",
    "                                    gammainc(-2 * k_vect * z_c, 1 + n, 'lower')) * gamma(n + 1)\n",
    "\n",
    "                # Calculate RMS differences (equation (9) in the manuscript)\n",
    "                eps_EDM = rms(c_til - c_tilEDM)\n",
    "                eps_PEDM = rms(c_til - c_tilPEDM)\n",
    "\n",
    "                # Parameters nMax, deltaz_T, and deltaz_B are chosen to minimize eps_PEDM in practice.\n",
    "                if eps_PEDM < eps_PEDM_out:\n",
    "                    eps_PEDM_out = eps_PEDM\n",
    "                    pPEDM_out = pPEDM\n",
    "                    nMax_out = nMax\n",
    "                    deltaz_B_out = deltaz_B\n",
    "                    deltaz_T_out = deltaz_T\n",
    "\n",
    "                if eps_EDM < eps_EDM_out:\n",
    "                    eps_EDM_out = eps_EDM\n",
    "\n",
    "                combo += 1\n",
    "                verbose.append({\n",
    "                    'pPEDM': pPEDM.tolist(),\n",
    "                    'pEDM': pEDM.tolist(),\n",
    "                    'eps_PEDM': eps_PEDM,\n",
    "                    'eps_EDM': eps_EDM,\n",
    "                    'nMax': nMax,\n",
    "                    'deltaz_B': deltaz_B,\n",
    "                    'deltaz_T': deltaz_T\n",
    "                })\n",
    "\n",
    "    return pPEDM_out, pEDM_out, eps_PEDM_out, eps_EDM_out, verbose"
   ]
  },
  {
   "cell_type": "code",
   "execution_count": 16,
   "id": "53b77cd9",
   "metadata": {},
   "outputs": [
    {
     "ename": "KeyError",
     "evalue": "'uStar1'",
     "output_type": "error",
     "traceback": [
      "\u001b[1;31m---------------------------------------------------------------------------\u001b[0m",
      "\u001b[1;31mKeyError\u001b[0m                                  Traceback (most recent call last)",
      "\u001b[1;32m<ipython-input-16-c5bb353648e1>\u001b[0m in \u001b[0;36m<module>\u001b[1;34m\u001b[0m\n\u001b[0;32m     89\u001b[0m     \u001b[1;32mreturn\u001b[0m \u001b[0mout_global\u001b[0m\u001b[1;33m,\u001b[0m \u001b[1;33m{\u001b[0m\u001b[1;34m'EDM'\u001b[0m\u001b[1;33m:\u001b[0m \u001b[0mout_EDM\u001b[0m\u001b[1;33m,\u001b[0m \u001b[1;34m'PEDM'\u001b[0m\u001b[1;33m:\u001b[0m \u001b[0mout_PEDM\u001b[0m\u001b[1;33m}\u001b[0m\u001b[1;33m\u001b[0m\u001b[1;33m\u001b[0m\u001b[0m\n\u001b[0;32m     90\u001b[0m \u001b[1;33m\u001b[0m\u001b[0m\n\u001b[1;32m---> 91\u001b[1;33m \u001b[0mresult\u001b[0m \u001b[1;33m=\u001b[0m \u001b[0mfind_current_depth_profile\u001b[0m\u001b[1;33m(\u001b[0m\u001b[0mwavenumbers\u001b[0m\u001b[1;33m,\u001b[0m \u001b[0mUx\u001b[0m\u001b[1;33m,\u001b[0m \u001b[0mUy\u001b[0m\u001b[1;33m)\u001b[0m\u001b[1;33m\u001b[0m\u001b[1;33m\u001b[0m\u001b[0m\n\u001b[0m\u001b[0;32m     92\u001b[0m \u001b[0mresult\u001b[0m\u001b[1;33m\u001b[0m\u001b[1;33m\u001b[0m\u001b[0m\n",
      "\u001b[1;32m<ipython-input-16-c5bb353648e1>\u001b[0m in \u001b[0;36mfind_current_depth_profile\u001b[1;34m(wavenumbers, Ux, Uy, waterDepth)\u001b[0m\n\u001b[0;32m     70\u001b[0m         }\n\u001b[0;32m     71\u001b[0m \u001b[1;33m\u001b[0m\u001b[0m\n\u001b[1;32m---> 72\u001b[1;33m     \u001b[0mout_EDM\u001b[0m\u001b[1;33m[\u001b[0m\u001b[1;34m'log'\u001b[0m\u001b[1;33m]\u001b[0m\u001b[1;33m[\u001b[0m\u001b[1;34m'uStar2'\u001b[0m\u001b[1;33m]\u001b[0m \u001b[1;33m=\u001b[0m \u001b[0mout_EDM\u001b[0m\u001b[1;33m[\u001b[0m\u001b[1;34m'log'\u001b[0m\u001b[1;33m]\u001b[0m\u001b[1;33m[\u001b[0m\u001b[1;34m'uStar1'\u001b[0m\u001b[1;33m]\u001b[0m\u001b[1;33m\u001b[0m\u001b[1;33m\u001b[0m\u001b[0m\n\u001b[0m\u001b[0;32m     73\u001b[0m     \u001b[0mout_EDM\u001b[0m\u001b[1;33m[\u001b[0m\u001b[1;34m'log'\u001b[0m\u001b[1;33m]\u001b[0m\u001b[1;33m[\u001b[0m\u001b[1;34m'U2_fun'\u001b[0m\u001b[1;33m]\u001b[0m \u001b[1;33m=\u001b[0m \u001b[0mout_EDM\u001b[0m\u001b[1;33m[\u001b[0m\u001b[1;34m'log'\u001b[0m\u001b[1;33m]\u001b[0m\u001b[1;33m[\u001b[0m\u001b[1;34m'U1_fun'\u001b[0m\u001b[1;33m]\u001b[0m\u001b[1;33m\u001b[0m\u001b[1;33m\u001b[0m\u001b[0m\n\u001b[0;32m     74\u001b[0m     \u001b[0mout_EDM\u001b[0m\u001b[1;33m[\u001b[0m\u001b[1;34m'lin'\u001b[0m\u001b[1;33m]\u001b[0m\u001b[1;33m[\u001b[0m\u001b[1;34m'uStar2'\u001b[0m\u001b[1;33m]\u001b[0m \u001b[1;33m=\u001b[0m \u001b[0mout_EDM\u001b[0m\u001b[1;33m[\u001b[0m\u001b[1;34m'lin'\u001b[0m\u001b[1;33m]\u001b[0m\u001b[1;33m[\u001b[0m\u001b[1;34m'uStar1'\u001b[0m\u001b[1;33m]\u001b[0m\u001b[1;33m\u001b[0m\u001b[1;33m\u001b[0m\u001b[0m\n",
      "\u001b[1;31mKeyError\u001b[0m: 'uStar1'"
     ]
    }
   ],
   "source": [
    "import numpy as np\n",
    "from scipy.optimize import minimize_scalar\n",
    "from scipy.optimize import minimize\n",
    "from scipy.special import gamma, gammainc\n",
    "from scipy.stats import linregress\n",
    "\n",
    "def find_current_depth_profile(wavenumbers, Ux, Uy, waterDepth=np.inf):\n",
    "    if waterDepth is None:\n",
    "        waterDepth = np.inf\n",
    "\n",
    "    indsX = ~np.isnan(Ux)\n",
    "    indsY = ~np.isnan(Uy)\n",
    "    inds = indsX & indsY\n",
    "    wavenumbers = wavenumbers[inds]\n",
    "\n",
    "    U0 = np.mean(Ux[inds])\n",
    "    V0 = np.mean(Uy[inds])\n",
    "    phi = 0\n",
    "\n",
    "    U1 = Ux[inds] * np.cos(-phi) - Uy[inds] * np.sin(-phi)\n",
    "    U2 = Ux[inds] * np.sin(-phi) + Uy[inds] * np.cos(-phi)\n",
    "\n",
    "    out_global = {\n",
    "        'wavenumbers': wavenumbers,\n",
    "        'U1': U1,\n",
    "        'U2': U2,\n",
    "        'phi': phi,\n",
    "        'Ux': Ux[inds],\n",
    "        'Uy': Uy[inds]\n",
    "    }\n",
    "\n",
    "    Z_eff_lin = -(2 * wavenumbers) ** -1 * np.tanh(np.abs(waterDepth) * wavenumbers)\n",
    "    Z_eff_log = -(3.56 * wavenumbers) ** -1\n",
    "\n",
    "    out_EDM = {\n",
    "        'lin': {'Z_eff': Z_eff_lin},\n",
    "        'log': {'Z_eff': Z_eff_log},\n",
    "        'Phillips': {'Z_eff': None}  # Z_eff_Phillips is not defined in the original code\n",
    "    }\n",
    "\n",
    "    kappa = 0.41\n",
    "\n",
    "    for i, uvals in enumerate([U1, U2], start=1):\n",
    "        pLog = linregress(np.log(wavenumbers), uvals)\n",
    "        pLin = np.polyfit(Z_eff_lin, uvals, 1)\n",
    "\n",
    "        usKap = pLog.slope\n",
    "        U0lnz0 = pLog.intercept - usKap * np.log(2 * 1.78)\n",
    "\n",
    "        uTildeLog = np.polyval(pLog, np.log(wavenumbers))\n",
    "        uTildeLin = -pLin[0] / (2 * wavenumbers) * np.tanh(wavenumbers * waterDepth) + pLin[1]\n",
    "\n",
    "        epsLog = np.sqrt(np.mean((uTildeLog - uvals)**2))\n",
    "        epsLin = np.sqrt(np.mean((uTildeLin - uvals)**2))\n",
    "\n",
    "        UlogFun = lambda z: U0lnz0 - usKap * np.log(np.abs(z))\n",
    "        uStar = pLog.slope * kappa\n",
    "\n",
    "        out_EDM['lin' if i == 1 else 'log'] = {\n",
    "            'Usurf1' if i == 1 else 'Usurf2': pLin[1],\n",
    "            'Shear1' if i == 1 else 'Shear2': pLin[0],\n",
    "            'U1_fun' if i == 1 else 'U2_fun': lambda z: np.polyval(pLin, z),\n",
    "            'eps1' if i == 1 else 'eps2': epsLin\n",
    "        }\n",
    "\n",
    "        out_EDM['log' if i == 1 else 'lin'] = {\n",
    "            'U1_fun' if i == 1 else 'U2_fun': UlogFun,\n",
    "            'eps1' if i == 1 else 'eps2': epsLog,\n",
    "            'uStar1' if i == 1 else 'uStar2': uStar\n",
    "        }\n",
    "\n",
    "    out_EDM['log']['uStar2'] = out_EDM['log']['uStar1']\n",
    "    out_EDM['log']['U2_fun'] = out_EDM['log']['U1_fun']\n",
    "    out_EDM['lin']['uStar2'] = out_EDM['lin']['uStar1']\n",
    "    out_EDM['lin']['U2_fun'] = out_EDM['lin']['U1_fun']\n",
    "\n",
    "    pPEDM_1, pEDM_1, eps_PEDM_1, eps_EDM_1, verbose_1 = pedm(wavenumbers, U1, waterDepth=waterDepth)\n",
    "    pPEDM_2, pEDM_2, eps_PEDM_2, eps_EDM_2, verbose_2 = pedm(wavenumbers, U2, waterDepth=waterDepth)\n",
    "\n",
    "    out_PEDM = {\n",
    "        'U1_fun': lambda z: np.polyval(pPEDM_1, z),\n",
    "        'U2_fun': lambda z: np.polyval(pPEDM_2, z),\n",
    "        'eps1': eps_PEDM_1,\n",
    "        'eps2': eps_PEDM_2,\n",
    "        'verbose1': verbose_1,\n",
    "        'verbose2': verbose_2\n",
    "    }\n",
    "\n",
    "    return out_global, {'EDM': out_EDM, 'PEDM': out_PEDM}\n",
    "\n",
    "result = find_current_depth_profile(wavenumbers, Ux, Uy)\n",
    "result"
   ]
  },
  {
   "cell_type": "code",
   "execution_count": null,
   "id": "01d25363",
   "metadata": {},
   "outputs": [],
   "source": [
    "import numpy as np\n",
    "from scipy.optimize import minimize_scalar\n",
    "from scipy.optimize import minimize\n",
    "from scipy.special import gamma, gammainc\n",
    "from scipy.stats import linregress\n",
    "\n",
    "def find_current_depth_profile(wavenumbers, Ux, Uy, waterDepth=np.inf):\n",
    "    if waterDepth is None:\n",
    "        waterDepth = np.inf\n",
    "\n",
    "    indsX = ~np.isnan(Ux)\n",
    "    indsY = ~np.isnan(Uy)\n",
    "    inds = indsX & indsY\n",
    "    wavenumbers = wavenumbers[inds]\n",
    "\n",
    "    U0 = np.mean(Ux[inds])\n",
    "    V0 = np.mean(Uy[inds])\n",
    "    phi = 0\n",
    "\n",
    "    U1 = Ux[inds] * np.cos(-phi) - Uy[inds] * np.sin(-phi)\n",
    "    U2 = Ux[inds] * np.sin(-phi) + Uy[inds] * np.cos(-phi)\n",
    "\n",
    "    out_global = {\n",
    "        'wavenumbers': wavenumbers,\n",
    "        'U1': U1,\n",
    "        'U2': U2,\n",
    "        'phi': phi,\n",
    "        'Ux': Ux[inds],\n",
    "        'Uy': Uy[inds]\n",
    "    }\n",
    "\n",
    "    Z_eff_lin = -(2 * wavenumbers) ** -1 * np.tanh(np.abs(waterDepth) * wavenumbers)\n",
    "    Z_eff_log = -(3.56 * wavenumbers) ** -1\n",
    "\n",
    "    out_EDM = {\n",
    "        'lin': {'Z_eff': Z_eff_lin},\n",
    "        'log': {'Z_eff': Z_eff_log},\n",
    "        'Phillips': {'Z_eff': None}  # Z_eff_Phillips is not defined in the original code\n",
    "    }\n",
    "\n",
    "    kappa = 0.41\n",
    "\n",
    "    for i, uvals in enumerate([U1, U2], start=1):\n",
    "        pLog = linregress(np.log(wavenumbers), uvals)\n",
    "        pLin = np.polyfit(Z_eff_lin, uvals, 1)\n",
    "\n",
    "        usKap = pLog.slope\n",
    "        U0lnz0 = pLog.intercept - usKap * np.log(2 * 1.78)\n",
    "\n",
    "        uTildeLog = np.polyval(pLog, np.log(wavenumbers))\n",
    "        uTildeLin = -pLin[0] / (2 * wavenumbers) * np.tanh(wavenumbers * waterDepth) + pLin[1]\n",
    "\n",
    "        epsLog = np.sqrt(np.mean((uTildeLog - uvals)**2))\n",
    "        epsLin = np.sqrt(np.mean((uTildeLin - uvals)**2))\n",
    "\n",
    "        UlogFun = lambda z: U0lnz0 - usKap * np.log(np.abs(z))\n",
    "        uStar = pLog.slope * kappa\n",
    "\n",
    "        out_EDM['lin' if i == 1 else 'log'] = {\n",
    "            'Usurf1' if i == 1 else 'Usurf2': pLin[1],\n",
    "            'Shear1' if i == 1 else 'Shear2': pLin[0],\n",
    "            'U1_fun' if i == 1 else 'U2_fun': lambda z: np.polyval(pLin, z),\n",
    "            'eps1' if i == 1 else 'eps2': epsLin\n",
    "        }\n",
    "\n",
    "        out_EDM['log' if i == 1 else 'lin'] = {\n",
    "            'U1_fun' if i == 1 else 'U2_fun': UlogFun,\n",
    "            'eps1' if i == 1 else 'eps2': epsLog,\n",
    "            'uStar1' if i == 1 else 'uStar2': uStar  # Fixed KeyError here\n",
    "        }\n",
    "\n",
    "    out_EDM['log']['uStar2'] = out_EDM['log'].get('uStar1', None)  # Handle KeyError more gracefully\n",
    "    out_EDM['log']['U2_fun'] = out_EDM['log'].get('U1_fun', None)  # Handle KeyError more gracefully\n",
    "    out_EDM['lin']['uStar2'] = out_EDM['lin'].get('uStar1', None)  # Handle KeyError more gracefully\n",
    "    out_EDM['lin']['U2_fun'] = out_EDM['lin'].get('U1_fun', None)  # Handle KeyError more gracefully\n",
    "\n",
    "    pPEDM_1, pEDM_1, eps_PEDM_1, eps_EDM_1, verbose_1 = pedm(wavenumbers, U1, waterDepth=waterDepth)\n",
    "    pPEDM_2, pEDM_2, eps_PEDM_2, eps_EDM_2, verbose_2 = pedm(wavenumbers, U2, waterDepth=waterDepth)\n",
    "\n",
    "    out_PEDM = {\n",
    "        'U1_fun': lambda z: np.polyval(pPEDM_1, z),\n",
    "        'U2_fun': lambda z: np.polyval(pPEDM_2, z),\n",
    "        'eps1': eps_PEDM_1,\n",
    "        'eps2': eps_PEDM_2,\n",
    "        'verbose1': verbose_1,\n",
    "        'verbose2': verbose_2\n",
    "    }\n",
    "\n",
    "    return out_global\n"
   ]
  },
  {
   "cell_type": "code",
   "execution_count": null,
   "id": "827ca354",
   "metadata": {},
   "outputs": [],
   "source": [
    "result = find_current_depth_profile(wavenumbers, Ux, Uy)\n",
    "result"
   ]
  },
  {
   "cell_type": "code",
   "execution_count": null,
   "id": "d86304d8",
   "metadata": {},
   "outputs": [],
   "source": []
  },
  {
   "cell_type": "code",
   "execution_count": null,
   "id": "7a06fa0f",
   "metadata": {},
   "outputs": [],
   "source": [
    "import numpy as np\n",
    "from scipy.optimize import minimize_scalar\n",
    "from scipy.optimize import minimize\n",
    "from scipy.special import gamma, gammainc\n",
    "from scipy.integrate import quad\n",
    "\n",
    "def pedm(k_vect, c_til, nMax_vals=None, deltaz_T_vals=None, deltaz_B_vals=None, waterDepth=None):\n",
    "    # Handling for inadequate input data.\n",
    "    if k_vect.size == 0 or c_til.size == 0:\n",
    "        return np.nan, np.nan, np.nan, np.nan, np.nan\n",
    "\n",
    "    kMax = k_vect[-1]\n",
    "\n",
    "    # Choose initial guess and bounds for minimization\n",
    "    if nMax_vals is None:\n",
    "        nMax_vals = 100\n",
    "\n",
    "    nMax_vals = int(nMax_vals)\n",
    "    n_vals = np.arange(1, nMax_vals + 1)\n",
    "\n",
    "    if deltaz_T_vals is None:\n",
    "        deltaz_T_vals = 1.0\n",
    "\n",
    "    if deltaz_B_vals is None:\n",
    "        deltaz_B_vals = 1.0\n",
    "\n",
    "    k_n_vals = n_vals * np.pi / (2 * deltaz_T_vals)\n",
    "    k_s_vals = n_vals * np.pi / (2 * deltaz_B_vals)\n",
    "\n",
    "    def func_integrand(k_n, k_s, k_prime, c_til):\n",
    "        # Function to be integrated in the pedm method.\n",
    "        return (k_n**2 * k_s * (k_s - k_prime) / ((k_n**2 - k_prime**2) * (k_s**2 - k_prime**2))) * c_til(k_prime)\n",
    "\n",
    "    def integral(k_n, k_s, c_til):\n",
    "        # Perform the integral for a given k_n and k_s.\n",
    "        return quad(func_integrand, 0, kMax, args=(k_n, k_s, c_til))[0]\n",
    "\n",
    "    # Define the cost function to be minimized.\n",
    "    def cost_function(x, k_n, k_s, c_til):\n",
    "        return (integral(k_n, k_s, c_til) - x)**2\n",
    "\n",
    "    # Initialize arrays to store the results.\n",
    "    pPEDM = np.zeros((2, nMax_vals))\n",
    "\n",
    "    for i, (k_n, k_s) in enumerate(zip(k_n_vals, k_s_vals)):\n",
    "        # Find the roots of the cost function for each k_n and k_s.\n",
    "        result = minimize_scalar(cost_function, args=(k_n, k_s, c_til), bounds=(0, kMax), method='bounded')\n",
    "        pPEDM[:, i] = result.x, k_s\n",
    "\n",
    "    eps_PEDM = np.sqrt(np.mean((integral(pPEDM[0, :], pPEDM[1, :], c_til) - c_til(k_vect))**2))\n",
    "\n",
    "    # Check if waterDepth is provided and update results accordingly.\n",
    "    if waterDepth is not None and not np.isinf(waterDepth):\n",
    "        c_til_bottom = lambda k: c_til(k) * np.exp(-k * waterDepth)\n",
    "        pEDM = np.zeros((2, nMax_vals))\n",
    "\n",
    "        for i, (k_n, k_s) in enumerate(zip(k_n_vals, k_s_vals)):\n",
    "            result = minimize_scalar(cost_function, args=(k_n, k_s, c_til_bottom), bounds=(0, kMax), method='bounded')\n",
    "            pEDM[:, i] = result.x, k_s\n",
    "\n",
    "        eps_EDM = np.sqrt(np.mean((integral(pEDM[0, :], pEDM[1, :], c_til_bottom) - c_til_bottom(k_vect))**2))\n",
    "    else:\n",
    "        pEDM, eps_EDM = np.nan, np.nan\n",
    "\n",
    "    return pPEDM, pEDM, eps_PEDM, eps_EDM, None  # verbose is not used in the current implementation\n"
   ]
  },
  {
   "cell_type": "code",
   "execution_count": null,
   "id": "87aeec25",
   "metadata": {},
   "outputs": [],
   "source": []
  },
  {
   "cell_type": "code",
   "execution_count": null,
   "id": "b06c9410",
   "metadata": {},
   "outputs": [],
   "source": []
  },
  {
   "cell_type": "markdown",
   "id": "190d0833",
   "metadata": {},
   "source": [
    "# 1) EDM Method"
   ]
  },
  {
   "cell_type": "markdown",
   "id": "02ce3280",
   "metadata": {},
   "source": [
    "## 1.1) EDM using Linear Fit"
   ]
  },
  {
   "cell_type": "code",
   "execution_count": null,
   "id": "14179260",
   "metadata": {},
   "outputs": [],
   "source": [
    "plt.plot(U, z, label = 'Correct Profile', color = 'black')\n",
    "\n",
    "plt.scatter(Ux, -1/(2*wavenumbers), label='EDM', color = 'red')\n",
    "\n",
    "plt.grid(True)\n",
    "plt.title(\"EDM using Linear Fit\")\n",
    "plt.xlabel(\"U [m/s]\")\n",
    "plt.ylabel(\"Depth [m]\")\n",
    "plt.legend()"
   ]
  },
  {
   "cell_type": "markdown",
   "id": "9641d2ef",
   "metadata": {},
   "source": [
    "## 1.2) EDM using Logarithmic Fit"
   ]
  },
  {
   "cell_type": "code",
   "execution_count": 17,
   "id": "bef4e38d",
   "metadata": {},
   "outputs": [
    {
     "data": {
      "text/plain": [
       "<matplotlib.legend.Legend at 0x19818555d90>"
      ]
     },
     "execution_count": 17,
     "metadata": {},
     "output_type": "execute_result"
    },
    {
     "data": {
      "image/png": "[encoded data removed]",
      "text/plain": [
       "<Figure size 432x288 with 1 Axes>"
      ]
     },
     "metadata": {
      "needs_background": "light"
     },
     "output_type": "display_data"
    }
   ],
   "source": [
    "plt.plot(U, z, label = 'Correct Profile', color = 'black')\n",
    "plt.scatter(Ux, -1/(3.56*wavenumbers), label='EDM', color = 'red')\n",
    "\n",
    "plt.grid(True)\n",
    "plt.title(\"EDM - Logarithmic Fit\")\n",
    "plt.xlabel(\"U [m/s]\")\n",
    "plt.ylabel(\"Depth [m]\")\n",
    "plt.legend()"
   ]
  },
  {
   "cell_type": "markdown",
   "id": "190b3a79",
   "metadata": {},
   "source": [
    "# 2) PEDM Method"
   ]
  },
  {
   "cell_type": "code",
   "execution_count": 18,
   "id": "d923177f",
   "metadata": {},
   "outputs": [],
   "source": [
    "Z_eff = -1/(2*wavenumbers)\n",
    "# Effective Depths using linear profile"
   ]
  },
  {
   "cell_type": "code",
   "execution_count": 19,
   "id": "c299d68c",
   "metadata": {},
   "outputs": [
    {
     "data": {
      "text/plain": [
       "array([-13.32922793,  -9.99691895,  -7.99753548,  -6.66461308,\n",
       "        -5.7125256 ,  -4.99845997,  -4.44307558,  -3.99876806,\n",
       "        -3.63524372,  -3.33230654,  -3.0759753 ,  -2.8562628 ,\n",
       "        -2.6658453 ,  -2.49922999,  -2.35221647,  -2.22153779,\n",
       "        -2.10461467,  -1.99938395,  -1.9041752 ,  -1.81762179,\n",
       "        -1.73859477,  -1.66615332])"
      ]
     },
     "execution_count": 19,
     "metadata": {},
     "output_type": "execute_result"
    }
   ],
   "source": [
    "Z_eff"
   ]
  },
  {
   "cell_type": "code",
   "execution_count": 20,
   "id": "25179a5a",
   "metadata": {},
   "outputs": [],
   "source": [
    "nMax_vals = None\n",
    "deltaz_T_vals = None\n",
    "deltaz_B_vals = None"
   ]
  },
  {
   "cell_type": "code",
   "execution_count": 21,
   "id": "fc6ed41a",
   "metadata": {},
   "outputs": [],
   "source": [
    "if nMax_vals is None or not nMax_vals:\n",
    "    nm = min(12, round(len(wavenumbers) / 2))\n",
    "    nMax_vals = np.arange(nm + 1)\n",
    "    \n",
    "# Check and set deltaz_T_vals if it is None or empty\n",
    "if deltaz_T_vals is None or len(deltaz_T_vals) == 0:\n",
    "    depthRange = np.abs(Z_eff[0] - Z_eff[-1])\n",
    "    deltaz_T_vals = np.linspace(0.01, 0.2, 20) * depthRange\n",
    "\n",
    "# Check and set deltaz_B_vals if it is None or empty\n",
    "if deltaz_B_vals is None or len(deltaz_B_vals) == 0:\n",
    "    depthRange = np.abs(Z_eff[0] - Z_eff[-1])\n",
    "    deltaz_B_vals = np.linspace(0.02, 0.8, 20) * depthRange"
   ]
  },
  {
   "cell_type": "code",
   "execution_count": 22,
   "id": "94d4a455",
   "metadata": {},
   "outputs": [
    {
     "data": {
      "text/plain": [
       "array([ 0,  1,  2,  3,  4,  5,  6,  7,  8,  9, 10, 11])"
      ]
     },
     "execution_count": 22,
     "metadata": {},
     "output_type": "execute_result"
    }
   ],
   "source": [
    "# polynomial order\n",
    "nMax_vals"
   ]
  },
  {
   "cell_type": "code",
   "execution_count": 23,
   "id": "eed2130c",
   "metadata": {},
   "outputs": [
    {
     "data": {
      "text/plain": [
       "array([0.11663075, 0.23326149, 0.34989224, 0.46652298, 0.58315373,\n",
       "       0.69978448, 0.81641522, 0.93304597, 1.04967671, 1.16630746,\n",
       "       1.28293821, 1.39956895, 1.5161997 , 1.63283044, 1.74946119,\n",
       "       1.86609194, 1.98272268, 2.09935343, 2.21598418, 2.33261492])"
      ]
     },
     "execution_count": 23,
     "metadata": {},
     "output_type": "execute_result"
    }
   ],
   "source": [
    "deltaz_T_vals\n",
    "# Shallow end Depth interval for extrapolation"
   ]
  },
  {
   "cell_type": "code",
   "execution_count": 24,
   "id": "2cd45565",
   "metadata": {},
   "outputs": [
    {
     "data": {
      "text/plain": [
       "array([0.23326149, 0.7120614 , 1.1908613 , 1.66966121, 2.14846111,\n",
       "       2.62726102, 3.10606092, 3.58486083, 4.06366073, 4.54246064,\n",
       "       5.02126054, 5.50006045, 5.97886035, 6.45766026, 6.93646016,\n",
       "       7.41526007, 7.89405997, 8.37285988, 8.85165978, 9.33045969])"
      ]
     },
     "execution_count": 24,
     "metadata": {},
     "output_type": "execute_result"
    }
   ],
   "source": [
    "deltaz_B_vals\n",
    "# Deep end Depth interval for extrapolation"
   ]
  },
  {
   "cell_type": "code",
   "execution_count": 25,
   "id": "a8ce3457",
   "metadata": {},
   "outputs": [
    {
     "data": {
      "text/plain": [
       "-53.316911724522186"
      ]
     },
     "execution_count": 25,
     "metadata": {},
     "output_type": "execute_result"
    }
   ],
   "source": [
    "z_c = max(4 * np.min(Z_eff), -np.abs(np.inf))\n",
    "z_c\n",
    "# Cut off Depth"
   ]
  },
  {
   "cell_type": "markdown",
   "id": "137cccfb",
   "metadata": {},
   "source": [
    "## 2.1) Just do one value"
   ]
  },
  {
   "cell_type": "code",
   "execution_count": 26,
   "id": "a1f6f7b3",
   "metadata": {},
   "outputs": [],
   "source": [
    "nMax = nMax_vals[11]\n",
    "# poly of order 3\n",
    "deltaz_B = deltaz_B_vals[6]\n",
    "deltaz_T =  deltaz_T_vals[7]"
   ]
  },
  {
   "cell_type": "code",
   "execution_count": 27,
   "id": "a9061683",
   "metadata": {},
   "outputs": [
    {
     "data": {
      "text/plain": [
       "array([-3.53458207e-07, -2.12704883e-05, -5.62333365e-04, -8.64781230e-03,\n",
       "       -8.61316239e-02, -5.83516901e-01, -2.73849556e+00, -8.86998717e+00,\n",
       "       -1.93429165e+01, -2.69105997e+01, -2.12798712e+01, -6.55289156e+00])"
      ]
     },
     "execution_count": 27,
     "metadata": {},
     "output_type": "execute_result"
    }
   ],
   "source": [
    "# Polynomial fitting using polyfit\n",
    "p1 = np.polyfit(Z_eff, Ux, nMax)\n",
    "p1"
   ]
  },
  {
   "cell_type": "code",
   "execution_count": 28,
   "id": "2521c532",
   "metadata": {},
   "outputs": [],
   "source": [
    "# Linearly spaced depths for extrapolation\n",
    "zB = np.linspace(0, deltaz_B, 100)\n",
    "zT = np.linspace(-deltaz_T, 0, 100)\n",
    "\n",
    "# Linear fit within depth interval deltaz_T from the top of the range of mapped depths\n",
    "pTop = np.polyfit(Z_eff[-1] + zT, np.polyval(p1, Z_eff[-1] + zT), 1)\n",
    "\n",
    "# Linear fit within depth interval deltaz_B from the bottom of the range of mapped depths\n",
    "pBottom = np.polyfit(Z_eff[0] + zB, np.polyval(p1, Z_eff[0] + zB), 1)\n",
    "\n",
    "# Depths below the deepest mapped depths\n",
    "depthsExBtm = np.arange(z_c, Z_eff[0] - deltaz_B, deltaz_B)\n",
    "\n",
    "# Depth values above the shallowest mapped depth\n",
    "depthsExTop = np.concatenate((np.arange(Z_eff[-1] + deltaz_T, 0, deltaz_T), [0]))\n",
    "\n",
    "# Expanded range of depths, including the depths where the current is extrapolated\n",
    "zEx = np.concatenate((depthsExBtm, Z_eff, depthsExTop))\n",
    "\n",
    "# Expanded range of current values, including extrapolated\n",
    "cTilEx = np.concatenate((np.polyval(pBottom, depthsExBtm), Ux, np.polyval(pTop, depthsExTop)))\n"
   ]
  },
  {
   "cell_type": "code",
   "execution_count": 29,
   "id": "5834d4c8",
   "metadata": {},
   "outputs": [],
   "source": [
    "# Perform a second polynomial fit on the expanded set of points to produce the profile considered U_EDM\n",
    "pEDM = np.polyfit(zEx, cTilEx, nMax)\n",
    "\n",
    "# Determine if the profile is monotonic with the range of mapped depths.\n",
    "nv = np.arange(nMax, 0, -1)\n",
    "pczEx_p = nv * pEDM[:-1]  # Derivative polynomial coefficients\n",
    "rts = np.roots(pczEx_p)  # Find roots\n",
    "rts = rts[np.isreal(rts)]  # Discard complex roots"
   ]
  },
  {
   "cell_type": "code",
   "execution_count": 30,
   "id": "de006037",
   "metadata": {},
   "outputs": [],
   "source": [
    "# Scale polynomial coefficients defining U_EDM by n! as in equation (8) in the article\n",
    "n_factorial = np.array([np.math.factorial(i) for i in range(nMax, -1, -1)])\n",
    "pPEDM_i = pEDM / n_factorial"
   ]
  },
  {
   "cell_type": "code",
   "execution_count": 31,
   "id": "68c3c814",
   "metadata": {},
   "outputs": [],
   "source": [
    "# Linearly extrapolated points down to z_c based on the average shear\n",
    "zB2 = np.linspace(0, deltaz_B/2, 100)\n",
    "\n",
    "# Linear fit within depth interval deltaz_B/2 from the bottom of the range of mapped depths\n",
    "pBottom2 = np.polyfit(Z_eff[0] + zB2, np.polyval(pPEDM_i, Z_eff[0] + zB2), 1)\n",
    "\n",
    "# Depths below the deepest mapped depths\n",
    "depthsExBtm2 = np.arange(z_c, Z_eff[0] - deltaz_B, deltaz_B/2)\n",
    "\n",
    "# Expanded range of depths, including the depths where the current is extrapolated\n",
    "zEx2 = np.concatenate((depthsExBtm2, Z_eff, depthsExTop))\n",
    "\n",
    "# Expanded range of current values, including extrapolated\n",
    "Uvals = np.concatenate((np.polyval(pBottom2, depthsExBtm2), np.polyval(pPEDM_i, Z_eff), np.polyval(pPEDM_i, depthsExTop)))"
   ]
  },
  {
   "cell_type": "code",
   "execution_count": 32,
   "id": "f1ebfd87",
   "metadata": {},
   "outputs": [],
   "source": [
    "# Perform a final polynomial fit on the expanded set of points\n",
    "pPEDM = np.polyfit(zEx2, Uvals, nMax)"
   ]
  },
  {
   "cell_type": "code",
   "execution_count": 33,
   "id": "ee989da8",
   "metadata": {},
   "outputs": [],
   "source": [
    "import numpy as np\n",
    "from scipy.special import gamma, gammaincc\n",
    "\n",
    "# Assuming nMax, k_vect, pEDM, and z_c are already defined\n",
    "# If not, you need to define them appropriately before using this code\n",
    "\n",
    "c_tilEDM = 0\n",
    "c_tilPEDM = 0\n",
    "\n",
    "if nMax < 2:\n",
    "    for n in range(nMax + 1):\n",
    "        # Use equation (5)\n",
    "        c_tilEDM += np.math.factorial(n) * pEDM[-1 - n] * (-1 / (2 * wavenumbers)) ** n\n",
    "        c_tilPEDM += np.math.factorial(n) * pEDM[-1 - n] * (-1 / (2 * wavenumbers)) ** n\n",
    "else:\n",
    "    for n in range(nMax + 1):\n",
    "        # Use incomplete gamma function\n",
    "        c_tilEDM += (-1 / 2) ** n * wavenumbers ** (-n) * pEDM[-1 - n] * (gammaincc(-2 * wavenumbers * z_c, 1 + n,) * gamma(n + 1))\n",
    "        c_tilPEDM += (-1 / 2) ** n * wavenumbers ** (-n) * pEDM[-1 - n] * (gammaincc(-2 * wavenumbers * z_c, 1 + n) * gamma(n + 1))\n"
   ]
  },
  {
   "cell_type": "code",
   "execution_count": 34,
   "id": "cff0e26f",
   "metadata": {},
   "outputs": [],
   "source": [
    "eps_PEDM_out = np.inf\n",
    "eps_EDM_out = np.inf\n",
    "\n",
    "pPEDM_out = np.nan\n",
    "pEDM_out = np.nan"
   ]
  },
  {
   "cell_type": "code",
   "execution_count": 35,
   "id": "5692b96d",
   "metadata": {},
   "outputs": [
    {
     "name": "stdout",
     "output_type": "stream",
     "text": [
      "deltaz_B: 3.106060921468131, deltaz_T: 0.9330459685042607, eps_PEDM_out: 1047.043067982276, max(c_tilPEDM): 0.04113316941909864\n"
     ]
    }
   ],
   "source": [
    "import numpy as np\n",
    "\n",
    "# Assuming c_til, c_tilEDM, c_tilPEDM, eps_PEDM_out, pPEDM_out, nMax_out, deltaz_B_out, deltaz_T_out, eps_EDM_out, pEDM_out are already defined\n",
    "# If not, you need to define them appropriately before using this code\n",
    "\n",
    "# Calculate RMS differences (equation (9) in manuscript)\n",
    "eps_EDM = np.sqrt(np.mean((Ux - c_tilEDM)**2))  # RMS difference for U_EDM\n",
    "eps_PEDM = np.sqrt(np.mean((Ux - c_tilPEDM)**2))  # RMS difference for U_PEDM\n",
    "\n",
    "# Parameters nMax, deltaz_T, and deltaz_B are chosen to minimize eps_PEDM in practice.\n",
    "if eps_PEDM < eps_PEDM_out:\n",
    "    eps_PEDM_out = eps_PEDM\n",
    "    pPEDM_out = pPEDM\n",
    "    nMax_out = nMax\n",
    "    deltaz_B_out = deltaz_B\n",
    "    deltaz_T_out = deltaz_T\n",
    "    print(f\"deltaz_B: {deltaz_B_out}, deltaz_T: {deltaz_T_out}, eps_PEDM_out: {eps_PEDM_out}, max(c_tilPEDM): {np.max(c_tilPEDM)}\")\n",
    "\n",
    "if eps_EDM < eps_EDM_out:\n",
    "    eps_EDM_out = eps_EDM\n",
    "    pEDM_out = pEDM\n"
   ]
  },
  {
   "cell_type": "code",
   "execution_count": 36,
   "id": "cd655098",
   "metadata": {},
   "outputs": [
    {
     "data": {
      "text/plain": [
       "array([-4.76029341e-14, -1.24039207e-11, -1.29409020e-09, -6.41494578e-08,\n",
       "       -9.84970070e-07,  5.26627429e-05,  3.27118174e-03,  7.88760746e-02,\n",
       "        9.34412301e-01,  4.17120443e+00,  3.29792262e+00, -5.67747359e-01])"
      ]
     },
     "execution_count": 36,
     "metadata": {},
     "output_type": "execute_result"
    }
   ],
   "source": [
    "pPEDM"
   ]
  },
  {
   "cell_type": "code",
   "execution_count": 37,
   "id": "43d8a15e",
   "metadata": {},
   "outputs": [
    {
     "data": {
      "text/plain": [
       "array([ 2.70673815e-12,  7.61014050e-10,  9.13485406e-08,  6.09437259e-06,\n",
       "        2.46225145e-04,  6.14564880e-03,  9.24904538e-02,  7.82612286e-01,\n",
       "        3.30747110e+00,  5.54523696e+00,  1.44463142e+00, -9.56943161e-01])"
      ]
     },
     "execution_count": 37,
     "metadata": {},
     "output_type": "execute_result"
    }
   ],
   "source": [
    "pEDM"
   ]
  },
  {
   "cell_type": "code",
   "execution_count": 38,
   "id": "7c6e63d1",
   "metadata": {},
   "outputs": [],
   "source": [
    "U1_fun = lambda z: np.polyval(pPEDM, z)"
   ]
  },
  {
   "cell_type": "code",
   "execution_count": 39,
   "id": "1635e762",
   "metadata": {},
   "outputs": [
    {
     "data": {
      "image/png": "[encoded data removed]",
      "text/plain": [
       "<Figure size 432x288 with 1 Axes>"
      ]
     },
     "metadata": {
      "needs_background": "light"
     },
     "output_type": "display_data"
    }
   ],
   "source": [
    "plt.plot(U1_fun(z),z)\n",
    "\n",
    "plt.grid(True)"
   ]
  },
  {
   "cell_type": "markdown",
   "id": "ef269ea2",
   "metadata": {},
   "source": [
    "## 2.2) Loop"
   ]
  },
  {
   "cell_type": "code",
   "execution_count": 40,
   "id": "55990739",
   "metadata": {},
   "outputs": [
    {
     "ename": "NameError",
     "evalue": "name 'factorial' is not defined",
     "output_type": "error",
     "traceback": [
      "\u001b[1;31m---------------------------------------------------------------------------\u001b[0m",
      "\u001b[1;31mNameError\u001b[0m                                 Traceback (most recent call last)",
      "\u001b[1;32m<ipython-input-40-fd45a5bd91bb>\u001b[0m in \u001b[0;36m<module>\u001b[1;34m\u001b[0m\n\u001b[0;32m     72\u001b[0m             \u001b[0mpPEDM\u001b[0m \u001b[1;33m=\u001b[0m \u001b[0mnp\u001b[0m\u001b[1;33m.\u001b[0m\u001b[0mpolyfit\u001b[0m\u001b[1;33m(\u001b[0m\u001b[0mzEx2\u001b[0m\u001b[1;33m,\u001b[0m \u001b[0mUvals\u001b[0m\u001b[1;33m,\u001b[0m \u001b[0mnMax\u001b[0m\u001b[1;33m)\u001b[0m\u001b[1;33m\u001b[0m\u001b[1;33m\u001b[0m\u001b[0m\n\u001b[0;32m     73\u001b[0m \u001b[1;33m\u001b[0m\u001b[0m\n\u001b[1;32m---> 74\u001b[1;33m             \u001b[0mc_tilEDM\u001b[0m \u001b[1;33m=\u001b[0m \u001b[0msum\u001b[0m\u001b[1;33m(\u001b[0m\u001b[0mfactorial\u001b[0m\u001b[1;33m(\u001b[0m\u001b[0mnp\u001b[0m\u001b[1;33m.\u001b[0m\u001b[0marange\u001b[0m\u001b[1;33m(\u001b[0m\u001b[0mnMax\u001b[0m \u001b[1;33m+\u001b[0m \u001b[1;36m1\u001b[0m\u001b[1;33m)\u001b[0m\u001b[1;33m)\u001b[0m \u001b[1;33m*\u001b[0m \u001b[0mpPEDM\u001b[0m\u001b[1;33m[\u001b[0m\u001b[1;33m-\u001b[0m\u001b[1;33m(\u001b[0m\u001b[0mnMax\u001b[0m \u001b[1;33m+\u001b[0m \u001b[1;36m1\u001b[0m\u001b[1;33m)\u001b[0m \u001b[1;33m:\u001b[0m\u001b[1;33m]\u001b[0m \u001b[1;33m*\u001b[0m \u001b[1;33m(\u001b[0m\u001b[1;33m-\u001b[0m\u001b[1;36m1\u001b[0m \u001b[1;33m/\u001b[0m \u001b[1;33m(\u001b[0m\u001b[1;36m2\u001b[0m \u001b[1;33m*\u001b[0m \u001b[0mwavenumbers\u001b[0m\u001b[1;33m)\u001b[0m\u001b[1;33m)\u001b[0m \u001b[1;33m**\u001b[0m \u001b[0mnp\u001b[0m\u001b[1;33m.\u001b[0m\u001b[0marange\u001b[0m\u001b[1;33m(\u001b[0m\u001b[0mnMax\u001b[0m \u001b[1;33m+\u001b[0m \u001b[1;36m1\u001b[0m\u001b[1;33m)\u001b[0m\u001b[1;33m)\u001b[0m\u001b[1;33m\u001b[0m\u001b[1;33m\u001b[0m\u001b[0m\n\u001b[0m\u001b[0;32m     75\u001b[0m             \u001b[0mc_tilPEDM\u001b[0m \u001b[1;33m=\u001b[0m \u001b[0msum\u001b[0m\u001b[1;33m(\u001b[0m\u001b[0mfactorial\u001b[0m\u001b[1;33m(\u001b[0m\u001b[0mnp\u001b[0m\u001b[1;33m.\u001b[0m\u001b[0marange\u001b[0m\u001b[1;33m(\u001b[0m\u001b[0mnMax\u001b[0m \u001b[1;33m+\u001b[0m \u001b[1;36m1\u001b[0m\u001b[1;33m)\u001b[0m\u001b[1;33m)\u001b[0m \u001b[1;33m*\u001b[0m \u001b[0mpPEDM\u001b[0m\u001b[1;33m[\u001b[0m\u001b[1;33m-\u001b[0m\u001b[1;33m(\u001b[0m\u001b[0mnMax\u001b[0m \u001b[1;33m+\u001b[0m \u001b[1;36m1\u001b[0m\u001b[1;33m)\u001b[0m \u001b[1;33m:\u001b[0m\u001b[1;33m]\u001b[0m \u001b[1;33m*\u001b[0m \u001b[1;33m(\u001b[0m\u001b[1;33m-\u001b[0m\u001b[1;36m1\u001b[0m \u001b[1;33m/\u001b[0m \u001b[1;33m(\u001b[0m\u001b[1;36m2\u001b[0m \u001b[1;33m*\u001b[0m \u001b[0mwavenumbers\u001b[0m\u001b[1;33m)\u001b[0m\u001b[1;33m)\u001b[0m \u001b[1;33m**\u001b[0m \u001b[0mnp\u001b[0m\u001b[1;33m.\u001b[0m\u001b[0marange\u001b[0m\u001b[1;33m(\u001b[0m\u001b[0mnMax\u001b[0m \u001b[1;33m+\u001b[0m \u001b[1;36m1\u001b[0m\u001b[1;33m)\u001b[0m\u001b[1;33m)\u001b[0m\u001b[1;33m\u001b[0m\u001b[1;33m\u001b[0m\u001b[0m\n\u001b[0;32m     76\u001b[0m \u001b[1;33m\u001b[0m\u001b[0m\n",
      "\u001b[1;31mNameError\u001b[0m: name 'factorial' is not defined"
     ]
    }
   ],
   "source": [
    "eps_PEDM_out = np.inf\n",
    "eps_EDM_out = np.inf\n",
    "\n",
    "pPEDM_out = np.nan\n",
    "pEDM_out = np.nan\n",
    "\n",
    "for nMax in nMax_vals:\n",
    "    for deltaz_B in deltaz_B_vals:\n",
    "        for deltaz_T in deltaz_T_vals:\n",
    "            \n",
    "            # Polynomial fitting using polyfit\n",
    "            p1 = np.polyfit(Z_eff, Ux, nMax)\n",
    "            \n",
    "            # Linearly spaced depths for extrapolation\n",
    "            zB = np.linspace(0, deltaz_B, 100)\n",
    "            zT = np.linspace(-deltaz_T, 0, 100)\n",
    "\n",
    "            # Linear fit within depth interval deltaz_T from the top of the range of mapped depths\n",
    "            pTop = np.polyfit(Z_eff[-1] + zT, np.polyval(p1, Z_eff[-1] + zT), 1)\n",
    "\n",
    "            # Linear fit within depth interval deltaz_B from the bottom of the range of mapped depths\n",
    "            pBottom = np.polyfit(Z_eff[0] + zB, np.polyval(p1, Z_eff[0] + zB), 1)\n",
    "\n",
    "            # Depths below the deepest mapped depths\n",
    "            depthsExBtm = np.arange(z_c, Z_eff[0] - deltaz_B, deltaz_B)\n",
    "\n",
    "            # Depth values above the shallowest mapped depth\n",
    "            depthsExTop = np.concatenate((np.arange(Z_eff[-1] + deltaz_T, 0, deltaz_T), [0]))\n",
    "\n",
    "            # Expanded range of depths, including the depths where the current is extrapolated\n",
    "            zEx = np.concatenate((depthsExBtm, Z_eff, depthsExTop))\n",
    "\n",
    "            # Expanded range of current values, including extrapolated\n",
    "            cTilEx = np.concatenate((np.polyval(pBottom, depthsExBtm), Ux, np.polyval(pTop, depthsExTop)))\n",
    "            \n",
    "            \n",
    "            \n",
    "            # Perform a second polynomial fit on the expanded set of points to produce the profile considered U_EDM\n",
    "            pEDM = np.polyfit(zEx, cTilEx, nMax)\n",
    "\n",
    "            # Determine if the profile is monotonic with the range of mapped depths.\n",
    "            nv = np.arange(nMax, 0, -1)\n",
    "            pczEx_p = nv * pEDM[:-1]  # Derivative polynomial coefficients\n",
    "            rts = np.roots(pczEx_p)  # Find roots\n",
    "            rts = rts[np.isreal(rts)]  # Discard complex roots\n",
    "            \n",
    "            if any(np.logical_and(rts > Z_eff[0], rts < 0)):\n",
    "                continue\n",
    "            \n",
    "            # Scale polynomial coefficients defining U_EDM by n! as in equation (8) in the article\n",
    "            n_factorial = np.array([np.math.factorial(i) for i in range(nMax, -1, -1)])\n",
    "            pPEDM_i = pEDM / n_factorial      \n",
    "            \n",
    "            ### Step 5 ###\n",
    "            \n",
    "            # Linearly extrapolated points down to z_c based on the average shear\n",
    "            zB2 = np.linspace(0, deltaz_B/2, 100)\n",
    "\n",
    "            # Linear fit within depth interval deltaz_B/2 from the bottom of the range of mapped depths\n",
    "            pBottom2 = np.polyfit(Z_eff[0] + zB, np.polyval(pPEDM_i, Z_eff[0] + zB), 1)\n",
    "\n",
    "            # Depths below the deepest mapped depths\n",
    "            depthsExBtm2 = np.arange(z_c, Z_eff[0] - deltaz_B, deltaz_B/2)\n",
    "\n",
    "            # Expanded range of depths, including the depths where the current is extrapolated\n",
    "            zEx2 = np.concatenate((depthsExBtm2, Z_eff, depthsExTop))\n",
    "\n",
    "            # Expanded range of current values, including extrapolated\n",
    "            Uvals = np.concatenate((np.polyval(pBottom2, depthsExBtm2), np.polyval(pPEDM_i, Z_eff), np.polyval(pPEDM_i, depthsExTop)))\n",
    "            \n",
    "            # Perform a final polynomial fit on the expanded set of points\n",
    "            pPEDM = np.polyfit(zEx2, Uvals, nMax)\n",
    "            \n",
    "            c_tilEDM = sum(factorial(np.arange(nMax + 1)) * pPEDM[-(nMax + 1) :] * (-1 / (2 * wavenumbers)) ** np.arange(nMax + 1))\n",
    "            c_tilPEDM = sum(factorial(np.arange(nMax + 1)) * pPEDM[-(nMax + 1) :] * (-1 / (2 * wavenumbers)) ** np.arange(nMax + 1))            \n",
    "            \n",
    "            \n",
    "            \n",
    "            \n",
    "            \n",
    "            \n",
    "            \n",
    "            \n",
    "            #c_tilEDM = 0\n",
    "            #c_tilPEDM = 0\n",
    "            \n",
    "            #if nMax < 2:\n",
    "             #   for n in range(nMax + 1):\n",
    "              #      # Use equation (5)\n",
    "               #     c_tilEDM += np.math.factorial(n) * pEDM[-1 - n] * (-1 / (2 * wavenumbers)) ** n\n",
    "                #    c_tilPEDM += np.math.factorial(n) * pPEDM[-1 - n] * (-1 / (2 * wavenumbers)) ** n\n",
    "          #  else:\n",
    "           #     for n in range(nMax + 1):\n",
    "            #        # Use incomplete gamma function\n",
    "             #       c_tilEDM += (-1 / 2) ** n * wavenumbers ** (-n) * pEDM[-1 - n] * (gammaincc(-2 * wavenumbers * z_c, 1 + n,) * gamma(n + 1))\n",
    "              #      c_tilPEDM += (-1 / 2) ** n * wavenumbers ** (-n) * pPEDM[-1 - n] * (gammaincc(-2 * wavenumbers * z_c, 1 + n) * gamma(n + 1))\n",
    "\n",
    "                    \n",
    "            # Calculate RMS differences (equation (9) in manuscript)\n",
    "            eps_EDM = np.sqrt(np.mean((Ux - c_tilEDM)**2))  # RMS difference for U_EDM\n",
    "            eps_PEDM = np.sqrt(np.mean((Ux - c_tilPEDM)**2))  # RMS difference for U_PEDM\n",
    "\n",
    "            # Parameters nMax, deltaz_T, and deltaz_B are chosen to minimize eps_PEDM in practice.\n",
    "            if eps_PEDM < eps_PEDM_out:\n",
    "                eps_PEDM_out = eps_PEDM\n",
    "                pPEDM_out = pPEDM\n",
    "                nMax_out = nMax\n",
    "                deltaz_B_out = deltaz_B\n",
    "                deltaz_T_out = deltaz_T\n",
    "                #print(f\"deltaz_B: {deltaz_B_out}, deltaz_T: {deltaz_T_out}, eps_PEDM_out: {eps_PEDM_out}, max(c_tilPEDM): {np.max(c_tilPEDM)}\")\n",
    "\n",
    "            if eps_EDM < eps_EDM_out:\n",
    "                eps_EDM_out = eps_EDM\n",
    "                pEDM_out = pEDM"
   ]
  },
  {
   "cell_type": "code",
   "execution_count": 41,
   "id": "48583273",
   "metadata": {},
   "outputs": [
    {
     "data": {
      "text/plain": [
       "1047.043067982276"
      ]
     },
     "execution_count": 41,
     "metadata": {},
     "output_type": "execute_result"
    }
   ],
   "source": [
    "eps_PEDM"
   ]
  },
  {
   "cell_type": "code",
   "execution_count": 42,
   "id": "1e1417a8",
   "metadata": {},
   "outputs": [
    {
     "data": {
      "text/plain": [
       "array([0.43588063])"
      ]
     },
     "execution_count": 42,
     "metadata": {},
     "output_type": "execute_result"
    }
   ],
   "source": [
    "pPEDM"
   ]
  },
  {
   "cell_type": "code",
   "execution_count": 43,
   "id": "f0866766",
   "metadata": {},
   "outputs": [],
   "source": [
    "U1_fun = lambda z: np.polyval(pPEDM, z)"
   ]
  },
  {
   "cell_type": "code",
   "execution_count": 44,
   "id": "7a2c875e",
   "metadata": {},
   "outputs": [
    {
     "data": {
      "text/plain": [
       "<matplotlib.legend.Legend at 0x19818760550>"
      ]
     },
     "execution_count": 44,
     "metadata": {},
     "output_type": "execute_result"
    },
    {
     "data": {
      "image/png": "[encoded data removed]",
      "text/plain": [
       "<Figure size 432x288 with 1 Axes>"
      ]
     },
     "metadata": {
      "needs_background": "light"
     },
     "output_type": "display_data"
    }
   ],
   "source": [
    "plt.plot(U1_fun(z), z, label=\"PEDM\", color = 'red')\n",
    "\n",
    "plt.plot(U, z, label = 'Correct Profile', color = 'black')\n",
    "#plt.scatter(Ux, -1/(2*wavenumbers), label='EDM', color = 'red')\n",
    "\n",
    "plt.grid(True)\n",
    "plt.title(\"EDM - Logarithmic Fit\")\n",
    "plt.xlabel(\"U [m/s]\")\n",
    "plt.ylabel(\"Depth [m]\")\n",
    "plt.legend()\n",
    "#plt.xlim(-1,1)"
   ]
  },
  {
   "cell_type": "code",
   "execution_count": null,
   "id": "33715f14",
   "metadata": {},
   "outputs": [],
   "source": []
  },
  {
   "cell_type": "code",
   "execution_count": null,
   "id": "0933e13a",
   "metadata": {},
   "outputs": [],
   "source": []
  },
  {
   "cell_type": "code",
   "execution_count": null,
   "id": "07798897",
   "metadata": {},
   "outputs": [],
   "source": []
  },
  {
   "cell_type": "code",
   "execution_count": null,
   "id": "7cd07c22",
   "metadata": {},
   "outputs": [],
   "source": []
  },
  {
   "cell_type": "code",
   "execution_count": null,
   "id": "82700c40",
   "metadata": {},
   "outputs": [],
   "source": []
  },
  {
   "cell_type": "code",
   "execution_count": null,
   "id": "96c1a810",
   "metadata": {},
   "outputs": [],
   "source": []
  },
  {
   "cell_type": "code",
   "execution_count": 45,
   "id": "301b9f4c",
   "metadata": {},
   "outputs": [],
   "source": [
    "def rms(x):\n",
    "    return np.sqrt(np.mean(x**2))"
   ]
  },
  {
   "cell_type": "code",
   "execution_count": 46,
   "id": "85889ec5",
   "metadata": {},
   "outputs": [
    {
     "ename": "ValueError",
     "evalue": "operands could not be broadcast together with shapes (22,) (2,) ",
     "output_type": "error",
     "traceback": [
      "\u001b[1;31m---------------------------------------------------------------------------\u001b[0m",
      "\u001b[1;31mValueError\u001b[0m                                Traceback (most recent call last)",
      "\u001b[1;32m<ipython-input-46-b38e7a0c9b7e>\u001b[0m in \u001b[0;36m<module>\u001b[1;34m\u001b[0m\n\u001b[0;32m     68\u001b[0m             \u001b[1;31m# Calculate Doppler shifts assuming U_EDM or U_PEDM as the current profile\u001b[0m\u001b[1;33m\u001b[0m\u001b[1;33m\u001b[0m\u001b[1;33m\u001b[0m\u001b[0m\n\u001b[0;32m     69\u001b[0m             c_tilEDM = sum(\n\u001b[1;32m---> 70\u001b[1;33m                 \u001b[0msp\u001b[0m\u001b[1;33m.\u001b[0m\u001b[0mspecial\u001b[0m\u001b[1;33m.\u001b[0m\u001b[0mfactorial\u001b[0m\u001b[1;33m(\u001b[0m\u001b[0mnp\u001b[0m\u001b[1;33m.\u001b[0m\u001b[0marange\u001b[0m\u001b[1;33m(\u001b[0m\u001b[0mnMax\u001b[0m \u001b[1;33m+\u001b[0m \u001b[1;36m1\u001b[0m\u001b[1;33m)\u001b[0m\u001b[1;33m)\u001b[0m \u001b[1;33m*\u001b[0m \u001b[0mpEDM\u001b[0m\u001b[1;33m[\u001b[0m\u001b[1;33m-\u001b[0m\u001b[1;33m(\u001b[0m\u001b[0mnMax\u001b[0m \u001b[1;33m+\u001b[0m \u001b[1;36m1\u001b[0m\u001b[1;33m)\u001b[0m \u001b[1;33m:\u001b[0m\u001b[1;33m]\u001b[0m \u001b[1;33m*\u001b[0m \u001b[1;33m(\u001b[0m\u001b[1;33m-\u001b[0m\u001b[1;36m1\u001b[0m \u001b[1;33m/\u001b[0m \u001b[1;33m(\u001b[0m\u001b[1;36m2\u001b[0m \u001b[1;33m*\u001b[0m \u001b[0mwavenumbers\u001b[0m\u001b[1;33m)\u001b[0m\u001b[1;33m)\u001b[0m \u001b[1;33m**\u001b[0m \u001b[0mnp\u001b[0m\u001b[1;33m.\u001b[0m\u001b[0marange\u001b[0m\u001b[1;33m(\u001b[0m\u001b[0mnMax\u001b[0m \u001b[1;33m+\u001b[0m \u001b[1;36m1\u001b[0m\u001b[1;33m)\u001b[0m\u001b[1;33m\u001b[0m\u001b[1;33m\u001b[0m\u001b[0m\n\u001b[0m\u001b[0;32m     71\u001b[0m             )\n\u001b[0;32m     72\u001b[0m \u001b[1;33m\u001b[0m\u001b[0m\n",
      "\u001b[1;31mValueError\u001b[0m: operands could not be broadcast together with shapes (22,) (2,) "
     ]
    }
   ],
   "source": [
    "import numpy as np\n",
    "import scipy as sp\n",
    "from scipy.optimize import fsolve\n",
    "from scipy.special import gamma, gammainc\n",
    "from numpy.polynomial import Polynomial\n",
    "from numpy import roots, linspace, polyfit, polyval, sqrt\n",
    "\n",
    "# Define your constants and arrays here\n",
    "\n",
    "eps_PEDM_out = float('inf') \n",
    "combo = 0\n",
    "verbose = []\n",
    "\n",
    "for nMax in nMax_vals:\n",
    "    for deltaz_B in deltaz_B_vals:\n",
    "        for deltaz_T in deltaz_T_vals:\n",
    "\n",
    "            # STEP 1: Fit the mapped Doppler shifts to a polynomial of order nMax.\n",
    "            p1 = polyfit(Z_eff, Ux, nMax)\n",
    "\n",
    "            # STEP 2: Create additional velocity-depth pairs by linearly extrapolating\n",
    "            # up to the surface and down to cutoff depth z_c\n",
    "            zB = linspace(0, deltaz_B, 100)\n",
    "            zT = linspace(-deltaz_T, 0, 100)\n",
    "\n",
    "            pTop = polyfit(Z_eff[-1] + zT, polyval(p1, Z_eff[-1] + zT), 1)\n",
    "            pBottom = polyfit(Z_eff[0] + zB, polyval(p1, Z_eff[0] + zB), 1)\n",
    "\n",
    "            depthsExBtm = np.arange(z_c, Z_eff[0] - deltaz_B, deltaz_B)\n",
    "            depthsExTop = np.concatenate(\n",
    "                [np.arange(Z_eff[-1] + deltaz_T, 0, deltaz_T), [0]]\n",
    "            )\n",
    "\n",
    "            zEx = np.concatenate([depthsExBtm, Z_eff, depthsExTop])\n",
    "            cTilEx = np.concatenate(\n",
    "                [polyval(pBottom, depthsExBtm), Ux, polyval(pTop, depthsExTop)]\n",
    "            )\n",
    "\n",
    "            # STEP 3: Perform a second polynomial fit on the expanded set of points\n",
    "            # to produce the profile considered U_EDM.\n",
    "            pEDM = polyfit(zEx, cTilEx, nMax)\n",
    "\n",
    "            nv = np.arange(nMax, 0, -1)\n",
    "            pczEx_p = nv * pEDM[:-1]\n",
    "            rts = roots(pczEx_p)\n",
    "            rts = rts[np.isreal(rts)]\n",
    "\n",
    "            if any(np.logical_and(rts > Z_eff[0], rts < 0)):\n",
    "                continue\n",
    "\n",
    "            # STEP 4: Scale polynomial coefficients defining U_EDM by n! as in equation (8)\n",
    "            pPEDM_i = pEDM / sp.special.factorial(np.arange(nMax, -1, -1))\n",
    "\n",
    "            # STEP 5: Create a new set of linearly extrapolated points down to z_c\n",
    "            zB2 = linspace(0, deltaz_B / 2, 100)\n",
    "            pBottom2 = polyfit(Z_eff[0] + zB, polyval(pPEDM_i, Z_eff[0] + zB), 1)\n",
    "\n",
    "            depthsExBtm2 = np.arange(z_c, Z_eff[0] - deltaz_B, deltaz_B / 2)\n",
    "\n",
    "            zEx2 = np.concatenate([depthsExBtm2, Z_eff, depthsExTop])\n",
    "            Uvals = np.concatenate([polyval(pBottom2, depthsExBtm2), polyval(pPEDM_i, Z_eff), polyval(pPEDM_i, depthsExTop)])\n",
    "\n",
    "            # STEP 6: Perform a final polynomial fit on the expanded set of points.\n",
    "            pPEDM = polyfit(zEx2, Uvals, nMax)\n",
    "\n",
    "            \n",
    "            \n",
    "            # Calculate Doppler shifts assuming U_EDM or U_PEDM as the current profile\n",
    "            c_tilEDM = sum(\n",
    "                sp.special.factorial(np.arange(nMax + 1)) * pEDM[-(nMax + 1) :] * (-1 / (2 * wavenumbers)) ** np.arange(nMax + 1)\n",
    "            )\n",
    "            \n",
    "            c_tilPEDM = sum(\n",
    "                sp.special.factorial(np.arange(nMax + 1)) * pPEDM[-(nMax + 1) :] * (-1 / (2 * wavenumbers)) ** np.arange(nMax + 1)\n",
    "            )\n",
    "\n",
    "            if nMax >= 2:\n",
    "                c_tilEDM = sum(\n",
    "                    ((-1 / 2) ** np.arange(nMax + 1)) * (wavenumbers ** -np.arange(nMax + 1)) * pEDM[-(nMax+1 ) :]\n",
    "                    * gammainc(-2 * wavenumbers * z_c, 1 + np.arange(nMax + 1))\n",
    "                    / gamma(np.arange(nMax + 1) + 1)\n",
    "                )\n",
    "                c_tilPEDM = sum(\n",
    "                    ((-1 / 2) ** np.arange(nMax + 1)) * (wavenumbers ** -np.arange(nMax + 1)) * pPEDM[-(nMax + 1) :]\n",
    "                    * gammainc(-2 * wavenumbers * z_c, 1 + np.arange(nMax + 1))\n",
    "                    / gamma(np.arange(nMax + 1) + 1)\n",
    "                )\n",
    "\n",
    "            eps_EDM = rms(Ux - c_tilEDM)\n",
    "            eps_PEDM = rms(Ux - c_tilPEDM)\n",
    "\n",
    "            if eps_PEDM <  eps_PEDM_out:\n",
    "                eps_PEDM_out = eps_PEDM\n",
    "                pPEDM_out = pPEDM\n",
    "                nMax_out = nMax\n",
    "                deltaz_B_out = deltaz_B\n",
    "                deltaz_T_out = deltaz_T\n",
    "\n",
    "            if eps_EDM < eps_EDM_out:\n",
    "                eps_EDM_out = eps_EDM\n",
    "                pEDM_out = pEDM\n",
    "\n",
    "            verbose.append({\n",
    "                'pPEDM': pPEDM,\n",
    "                'pEDM': pEDM,\n",
    "                'eps_PEDM': eps_PEDM,\n",
    "                'eps_EDM': eps_EDM,\n",
    "                'nMax': nMax,\n",
    "                'deltaz_B': deltaz_B,\n",
    "                'deltaz_T': deltaz_T\n",
    "            })\n",
    "            combo += 1\n"
   ]
  },
  {
   "cell_type": "code",
   "execution_count": null,
   "id": "1b18a38d",
   "metadata": {},
   "outputs": [],
   "source": [
    "verbose"
   ]
  },
  {
   "cell_type": "code",
   "execution_count": 47,
   "id": "a72cc744",
   "metadata": {},
   "outputs": [
    {
     "data": {
      "text/plain": [
       "(2,)"
      ]
     },
     "execution_count": 47,
     "metadata": {},
     "output_type": "execute_result"
    }
   ],
   "source": [
    "pPEDM.shape"
   ]
  },
  {
   "cell_type": "code",
   "execution_count": 48,
   "id": "4383507b",
   "metadata": {},
   "outputs": [
    {
     "ename": "ValueError",
     "evalue": "operands could not be broadcast together with shapes (22,) (2,) ",
     "output_type": "error",
     "traceback": [
      "\u001b[1;31m---------------------------------------------------------------------------\u001b[0m",
      "\u001b[1;31mValueError\u001b[0m                                Traceback (most recent call last)",
      "\u001b[1;32m<ipython-input-48-e95880ef11b3>\u001b[0m in \u001b[0;36m<module>\u001b[1;34m\u001b[0m\n\u001b[0;32m      1\u001b[0m c_tilPEDM = sum(\n\u001b[1;32m----> 2\u001b[1;33m                     \u001b[1;33m(\u001b[0m\u001b[1;33m(\u001b[0m\u001b[1;33m-\u001b[0m\u001b[1;36m1\u001b[0m \u001b[1;33m/\u001b[0m \u001b[1;36m2\u001b[0m\u001b[1;33m)\u001b[0m \u001b[1;33m**\u001b[0m \u001b[0mnp\u001b[0m\u001b[1;33m.\u001b[0m\u001b[0marange\u001b[0m\u001b[1;33m(\u001b[0m\u001b[0mnMax\u001b[0m \u001b[1;33m+\u001b[0m \u001b[1;36m1\u001b[0m\u001b[1;33m)\u001b[0m\u001b[1;33m)\u001b[0m \u001b[1;33m*\u001b[0m \u001b[1;33m(\u001b[0m\u001b[0mwavenumbers\u001b[0m \u001b[1;33m**\u001b[0m \u001b[1;33m-\u001b[0m\u001b[0mnp\u001b[0m\u001b[1;33m.\u001b[0m\u001b[0marange\u001b[0m\u001b[1;33m(\u001b[0m\u001b[0mnMax\u001b[0m \u001b[1;33m+\u001b[0m \u001b[1;36m1\u001b[0m\u001b[1;33m)\u001b[0m\u001b[1;33m)\u001b[0m \u001b[1;33m*\u001b[0m \u001b[0mpPEDM\u001b[0m\u001b[1;33m[\u001b[0m\u001b[1;33m-\u001b[0m\u001b[1;33m(\u001b[0m\u001b[0mnMax\u001b[0m \u001b[1;33m+\u001b[0m \u001b[1;36m1\u001b[0m\u001b[1;33m)\u001b[0m \u001b[1;33m:\u001b[0m\u001b[1;33m]\u001b[0m\u001b[1;33m\u001b[0m\u001b[1;33m\u001b[0m\u001b[0m\n\u001b[0m\u001b[0;32m      3\u001b[0m                     \u001b[1;33m*\u001b[0m \u001b[0mgammainc\u001b[0m\u001b[1;33m(\u001b[0m\u001b[1;33m-\u001b[0m\u001b[1;36m2\u001b[0m \u001b[1;33m*\u001b[0m \u001b[0mwavenumbers\u001b[0m \u001b[1;33m*\u001b[0m \u001b[0mz_c\u001b[0m\u001b[1;33m,\u001b[0m \u001b[1;36m1\u001b[0m \u001b[1;33m+\u001b[0m \u001b[0mnp\u001b[0m\u001b[1;33m.\u001b[0m\u001b[0marange\u001b[0m\u001b[1;33m(\u001b[0m\u001b[0mnMax\u001b[0m \u001b[1;33m+\u001b[0m \u001b[1;36m1\u001b[0m\u001b[1;33m)\u001b[0m\u001b[1;33m)\u001b[0m\u001b[1;33m\u001b[0m\u001b[1;33m\u001b[0m\u001b[0m\n\u001b[0;32m      4\u001b[0m                     \u001b[1;33m/\u001b[0m \u001b[0mgamma\u001b[0m\u001b[1;33m(\u001b[0m\u001b[0mnp\u001b[0m\u001b[1;33m.\u001b[0m\u001b[0marange\u001b[0m\u001b[1;33m(\u001b[0m\u001b[0mnMax\u001b[0m \u001b[1;33m+\u001b[0m \u001b[1;36m1\u001b[0m\u001b[1;33m)\u001b[0m \u001b[1;33m+\u001b[0m \u001b[1;36m1\u001b[0m\u001b[1;33m)\u001b[0m\u001b[1;33m\u001b[0m\u001b[1;33m\u001b[0m\u001b[0m\n\u001b[0;32m      5\u001b[0m                 )\n",
      "\u001b[1;31mValueError\u001b[0m: operands could not be broadcast together with shapes (22,) (2,) "
     ]
    }
   ],
   "source": [
    "c_tilPEDM = sum(\n",
    "                    ((-1 / 2) ** np.arange(nMax + 1)) * (wavenumbers ** -np.arange(nMax + 1)) * pPEDM[-(nMax + 1) :]\n",
    "                    * gammainc(-2 * wavenumbers * z_c, 1 + np.arange(nMax + 1))\n",
    "                    / gamma(np.arange(nMax + 1) + 1)\n",
    "                )"
   ]
  },
  {
   "cell_type": "code",
   "execution_count": 49,
   "id": "1c618ddf",
   "metadata": {},
   "outputs": [
    {
     "data": {
      "text/plain": [
       "9.589373910000004"
      ]
     },
     "execution_count": 49,
     "metadata": {},
     "output_type": "execute_result"
    }
   ],
   "source": [
    "c_tilPEDM"
   ]
  },
  {
   "cell_type": "code",
   "execution_count": 50,
   "id": "222cb84e",
   "metadata": {},
   "outputs": [],
   "source": [
    "eps_PEDM = rms(Ux - c_tilPEDM)"
   ]
  },
  {
   "cell_type": "code",
   "execution_count": 51,
   "id": "70270ffe",
   "metadata": {},
   "outputs": [
    {
     "data": {
      "text/plain": [
       "9.154343875618421"
      ]
     },
     "execution_count": 51,
     "metadata": {},
     "output_type": "execute_result"
    }
   ],
   "source": [
    "eps_PEDM"
   ]
  },
  {
   "cell_type": "code",
   "execution_count": null,
   "id": "05cf3623",
   "metadata": {},
   "outputs": [],
   "source": []
  },
  {
   "cell_type": "code",
   "execution_count": null,
   "id": "b1b592f5",
   "metadata": {},
   "outputs": [],
   "source": []
  },
  {
   "cell_type": "code",
   "execution_count": null,
   "id": "5f89365e",
   "metadata": {},
   "outputs": [],
   "source": []
  },
  {
   "cell_type": "code",
   "execution_count": null,
   "id": "bc040c01",
   "metadata": {},
   "outputs": [],
   "source": []
  },
  {
   "cell_type": "code",
   "execution_count": 52,
   "id": "1ea4887d",
   "metadata": {},
   "outputs": [
    {
     "data": {
      "text/plain": [
       "float"
      ]
     },
     "execution_count": 52,
     "metadata": {},
     "output_type": "execute_result"
    }
   ],
   "source": [
    "type(np.inf)"
   ]
  },
  {
   "cell_type": "code",
   "execution_count": 53,
   "id": "068291ee",
   "metadata": {},
   "outputs": [],
   "source": [
    "def rms(x):\n",
    "    return np.sqrt(np.mean(x**2))"
   ]
  },
  {
   "cell_type": "code",
   "execution_count": 54,
   "id": "c84e8b6c",
   "metadata": {},
   "outputs": [
    {
     "data": {
      "text/plain": [
       "<function math.factorial(x, /)>"
      ]
     },
     "execution_count": 54,
     "metadata": {},
     "output_type": "execute_result"
    }
   ],
   "source": [
    "np.math.factorial"
   ]
  },
  {
   "cell_type": "code",
   "execution_count": 55,
   "id": "f6864600",
   "metadata": {},
   "outputs": [],
   "source": [
    "import scipy as sp"
   ]
  },
  {
   "cell_type": "code",
   "execution_count": 56,
   "id": "563bd795",
   "metadata": {},
   "outputs": [
    {
     "data": {
      "text/plain": [
       "6.0"
      ]
     },
     "execution_count": 56,
     "metadata": {},
     "output_type": "execute_result"
    }
   ],
   "source": [
    "sp.special.factorial(3)"
   ]
  },
  {
   "cell_type": "code",
   "execution_count": 57,
   "id": "cf8b2356",
   "metadata": {},
   "outputs": [],
   "source": [
    "array = np.array([1,2,3,4,5, np.inf])"
   ]
  },
  {
   "cell_type": "code",
   "execution_count": 58,
   "id": "d40a1ae0",
   "metadata": {},
   "outputs": [],
   "source": [
    "if np.all(array < np.inf):\n",
    "    print('8')"
   ]
  },
  {
   "cell_type": "code",
   "execution_count": null,
   "id": "120034bd",
   "metadata": {},
   "outputs": [],
   "source": []
  },
  {
   "cell_type": "code",
   "execution_count": null,
   "id": "58bbad61",
   "metadata": {},
   "outputs": [],
   "source": []
  },
  {
   "cell_type": "code",
   "execution_count": null,
   "id": "5276d2d8",
   "metadata": {},
   "outputs": [],
   "source": []
  },
  {
   "cell_type": "code",
   "execution_count": null,
   "id": "e8cc01ef",
   "metadata": {},
   "outputs": [],
   "source": []
  },
  {
   "cell_type": "code",
   "execution_count": null,
   "id": "5dae34c7",
   "metadata": {},
   "outputs": [],
   "source": []
  },
  {
   "cell_type": "code",
   "execution_count": null,
   "id": "315f75af",
   "metadata": {},
   "outputs": [],
   "source": []
  },
  {
   "cell_type": "code",
   "execution_count": null,
   "id": "43e2a721",
   "metadata": {},
   "outputs": [],
   "source": []
  },
  {
   "cell_type": "code",
   "execution_count": 59,
   "id": "2e017799",
   "metadata": {},
   "outputs": [
    {
     "ename": "ValueError",
     "evalue": "operands could not be broadcast together with shapes (22,) (2,) ",
     "output_type": "error",
     "traceback": [
      "\u001b[1;31m---------------------------------------------------------------------------\u001b[0m",
      "\u001b[1;31mValueError\u001b[0m                                Traceback (most recent call last)",
      "\u001b[1;32m<ipython-input-59-473a38755af0>\u001b[0m in \u001b[0;36m<module>\u001b[1;34m\u001b[0m\n\u001b[0;32m     65\u001b[0m             \u001b[1;31m# Calculate Doppler shifts assuming U_EDM or U_PEDM as the current profile\u001b[0m\u001b[1;33m\u001b[0m\u001b[1;33m\u001b[0m\u001b[1;33m\u001b[0m\u001b[0m\n\u001b[0;32m     66\u001b[0m             c_tilEDM = sum(\n\u001b[1;32m---> 67\u001b[1;33m                 \u001b[0msp\u001b[0m\u001b[1;33m.\u001b[0m\u001b[0mspecial\u001b[0m\u001b[1;33m.\u001b[0m\u001b[0mfactorial\u001b[0m\u001b[1;33m(\u001b[0m\u001b[0mnp\u001b[0m\u001b[1;33m.\u001b[0m\u001b[0marange\u001b[0m\u001b[1;33m(\u001b[0m\u001b[0mnMax\u001b[0m \u001b[1;33m+\u001b[0m \u001b[1;36m1\u001b[0m\u001b[1;33m)\u001b[0m\u001b[1;33m)\u001b[0m \u001b[1;33m*\u001b[0m \u001b[0mpEDM\u001b[0m\u001b[1;33m[\u001b[0m\u001b[1;33m-\u001b[0m\u001b[1;33m(\u001b[0m\u001b[0mnMax\u001b[0m \u001b[1;33m+\u001b[0m \u001b[1;36m1\u001b[0m\u001b[1;33m)\u001b[0m \u001b[1;33m:\u001b[0m\u001b[1;33m]\u001b[0m \u001b[1;33m*\u001b[0m \u001b[1;33m(\u001b[0m\u001b[1;33m-\u001b[0m\u001b[1;36m1\u001b[0m \u001b[1;33m/\u001b[0m \u001b[1;33m(\u001b[0m\u001b[1;36m2\u001b[0m \u001b[1;33m*\u001b[0m \u001b[0mwavenumbers\u001b[0m\u001b[1;33m)\u001b[0m\u001b[1;33m)\u001b[0m \u001b[1;33m**\u001b[0m \u001b[0mnp\u001b[0m\u001b[1;33m.\u001b[0m\u001b[0marange\u001b[0m\u001b[1;33m(\u001b[0m\u001b[0mnMax\u001b[0m \u001b[1;33m+\u001b[0m \u001b[1;36m1\u001b[0m\u001b[1;33m)\u001b[0m\u001b[1;33m\u001b[0m\u001b[1;33m\u001b[0m\u001b[0m\n\u001b[0m\u001b[0;32m     68\u001b[0m             )\n\u001b[0;32m     69\u001b[0m \u001b[1;33m\u001b[0m\u001b[0m\n",
      "\u001b[1;31mValueError\u001b[0m: operands could not be broadcast together with shapes (22,) (2,) "
     ]
    }
   ],
   "source": [
    "import numpy as np\n",
    "from scipy.optimize import fsolve\n",
    "from scipy.special import gamma, gammainc\n",
    "from numpy.polynomial import Polynomial\n",
    "from numpy import roots, linspace, polyfit, polyval, sqrt\n",
    "\n",
    "# Define your constants and arrays here\n",
    "\n",
    "eps_PEDM_out = float('inf') \n",
    "combo = 0\n",
    "verbose = []\n",
    "\n",
    "for nMax in nMax_vals:\n",
    "    for deltaz_B in deltaz_B_vals:\n",
    "        for deltaz_T in deltaz_T_vals:\n",
    "\n",
    "            # STEP 1: Fit the mapped Doppler shifts to a polynomial of order nMax.\n",
    "            p1 = polyfit(Z_eff, Ux, nMax)\n",
    "\n",
    "            # STEP 2: Create additional velocity-depth pairs by linearly extrapolating\n",
    "            # up to the surface and down to cutoff depth z_c\n",
    "            zB = linspace(0, deltaz_B, 100)\n",
    "            zT = linspace(-deltaz_T, 0, 100)\n",
    "\n",
    "            pTop = polyfit(Z_eff[-1] + zT, polyval(p1, Z_eff[-1] + zT), 1)\n",
    "            pBottom = polyfit(Z_eff[0] + zB, polyval(p1, Z_eff[0] + zB), 1)\n",
    "\n",
    "            depthsExBtm = np.arange(z_c, Z_eff[0] - deltaz_B, deltaz_B)\n",
    "            depthsExTop = np.concatenate(\n",
    "                [np.arange(Z_eff[-1] + deltaz_T, 0, deltaz_T), [0]]\n",
    "            )\n",
    "\n",
    "            zEx = np.concatenate([depthsExBtm, Z_eff, depthsExTop])\n",
    "            cTilEx = np.concatenate(\n",
    "                [polyval(pBottom, depthsExBtm), Ux, polyval(pTop, depthsExTop)]\n",
    "            )\n",
    "\n",
    "            # STEP 3: Perform a second polynomial fit on the expanded set of points\n",
    "            # to produce the profile considered U_EDM.\n",
    "            pEDM = polyfit(zEx, cTilEx, nMax)\n",
    "\n",
    "            nv = np.arange(nMax, 0, -1)\n",
    "            pczEx_p = nv * pEDM[:-1]\n",
    "            rts = roots(pczEx_p)\n",
    "            rts = rts[np.isreal(rts)]\n",
    "\n",
    "            if any(np.logical_and(rts > Z_eff[0], rts < 0)):\n",
    "                continue\n",
    "\n",
    "            # STEP 4: Scale polynomial coefficients defining U_EDM by n! as in equation (8)\n",
    "            pPEDM_i = pEDM / sp.special.factorial(np.arange(nMax, -1, -1))\n",
    "\n",
    "            # STEP 5: Create a new set of linearly extrapolated points down to z_c\n",
    "            zB2 = linspace(0, deltaz_B / 2, 100)\n",
    "            pBottom2 = polyfit(Z_eff[0] + zB, polyval(pPEDM_i, Z_eff[0] + zB), 1)\n",
    "\n",
    "            depthsExBtm2 = np.arange(z_c, Z_eff[0] - deltaz_B, deltaz_B / 2)\n",
    "\n",
    "            zEx2 = np.concatenate([depthsExBtm2, Z_eff, depthsExTop])\n",
    "            Uvals = np.concatenate([polyval(pBottom2, depthsExBtm2), polyval(pPEDM_i, Z_eff), polyval(pPEDM_i, depthsExTop)])\n",
    "\n",
    "            # STEP 6: Perform a final polynomial fit on the expanded set of points.\n",
    "            pPEDM = polyfit(zEx2, Uvals, nMax)\n",
    "            \n",
    "            # Calculate Doppler shifts assuming U_EDM or U_PEDM as the current profile\n",
    "            c_tilEDM = sum(\n",
    "                sp.special.factorial(np.arange(nMax + 1)) * pEDM[-(nMax + 1) :] * (-1 / (2 * wavenumbers)) ** np.arange(nMax + 1)\n",
    "            )\n",
    "            \n",
    "            c_tilPEDM = sum(\n",
    "                sp.special.factorial(np.arange(nMax + 1)) * pPEDM[-(nMax + 1) :] * (-1 / (2 * wavenumbers)) ** np.arange(nMax + 1)\n",
    "            )\n",
    "\n",
    "            if nMax >= 2:\n",
    "                c_tilEDM = sum(\n",
    "                    ((-1 / 2) ** np.arange(nMax + 1)) * (wavenumbers ** -np.arange(nMax + 1)) * pEDM[-(nMax+1 ) :]\n",
    "                    * gammainc(-2 * wavenumbers * z_c, 1 + np.arange(nMax + 1))\n",
    "                    / gamma(np.arange(nMax + 1) + 1)\n",
    "                )\n",
    "                c_tilPEDM = sum(\n",
    "                    ((-1 / 2) ** np.arange(nMax + 1)) * (wavenumbers ** -np.arange(nMax + 1)) * pPEDM[-(nMax + 1) :]\n",
    "                    * gammainc(-2 * wavenumbers * z_c, 1 + np.arange(nMax + 1))\n",
    "                    / gamma(np.arange(nMax + 1) + 1)\n",
    "                )\n",
    "\n",
    "            eps_EDM = rms(Ux - c_tilEDM)\n",
    "            eps_PEDM = rms(Ux - c_tilPEDM)\n",
    "\n",
    "            if eps_PEDM <  eps_PEDM_out:\n",
    "                eps_PEDM_out = eps_PEDM\n",
    "                pPEDM_out = pPEDM\n",
    "                nMax_out = nMax\n",
    "                deltaz_B_out = deltaz_B\n",
    "                deltaz_T_out = deltaz_T\n",
    "\n",
    "            if eps_EDM < eps_EDM_out:\n",
    "                eps_EDM_out = eps_EDM\n",
    "                pEDM_out = pEDM\n",
    "\n",
    "            combo += 1\n",
    "    verbose.append({\n",
    "                'pPEDM': pPEDM,\n",
    "                'pEDM': pEDM,\n",
    "                'eps_PEDM': eps_PEDM,\n",
    "                'eps_EDM': eps_EDM,\n",
    "                'nMax': nMax,\n",
    "                'deltaz_B': deltaz_B,\n",
    "                'deltaz_T': deltaz_T\n",
    "            })"
   ]
  },
  {
   "cell_type": "code",
   "execution_count": 60,
   "id": "dd439ffe",
   "metadata": {},
   "outputs": [
    {
     "data": {
      "text/plain": [
       "array([0, 1, 2, 3, 4, 5, 6, 7, 8, 9])"
      ]
     },
     "execution_count": 60,
     "metadata": {},
     "output_type": "execute_result"
    }
   ],
   "source": [
    "nMax_vals[:-2]"
   ]
  },
  {
   "cell_type": "code",
   "execution_count": 61,
   "id": "36a4f5c7",
   "metadata": {},
   "outputs": [],
   "source": [
    "thing = []\n",
    "\n",
    "for nMax in nMax_vals[:-2]:\n",
    "    for deltaz_B in deltaz_B_vals:\n",
    "        for deltaz_T in deltaz_T_vals:\n",
    "\n",
    "            # STEP 1: Fit the mapped Doppler shifts to a polynomial of order nMax.\n",
    "            p1 = polyfit(Z_eff, Ux, nMax)\n",
    "\n",
    "            # STEP 2: Create additional velocity-depth pairs by linearly extrapolating\n",
    "            # up to the surface and down to cutoff depth z_c\n",
    "            zB = linspace(0, deltaz_B, 100)\n",
    "            zT = linspace(-deltaz_T, 0, 100)\n",
    "\n",
    "            pTop = polyfit(Z_eff[-1] + zT, polyval(p1, Z_eff[-1] + zT), 1)\n",
    "            pBottom = polyfit(Z_eff[0] + zB, polyval(p1, Z_eff[0] + zB), 1)\n",
    "\n",
    "            depthsExBtm = np.arange(z_c, Z_eff[0] - deltaz_B, deltaz_B)\n",
    "            depthsExTop = np.concatenate(\n",
    "                [np.arange(Z_eff[-1] + deltaz_T, 0, deltaz_T), [0]]\n",
    "            )\n",
    "\n",
    "            zEx = np.concatenate([depthsExBtm, Z_eff, depthsExTop])\n",
    "            cTilEx = np.concatenate(\n",
    "                [polyval(pBottom, depthsExBtm), Ux, polyval(pTop, depthsExTop)]\n",
    "            )\n",
    "\n",
    "            # STEP 3: Perform a second polynomial fit on the expanded set of points\n",
    "            # to produce the profile considered U_EDM.\n",
    "            pEDM = polyfit(zEx, cTilEx, nMax)\n",
    "            \n",
    "    thing.append(pEDM)"
   ]
  },
  {
   "cell_type": "code",
   "execution_count": 62,
   "id": "796b160c",
   "metadata": {},
   "outputs": [
    {
     "data": {
      "text/plain": [
       "[array([0.43588063]),\n",
       " array([0.03952221, 0.59937733]),\n",
       " array([2.13584858e-04, 3.69894941e-02, 5.91542032e-01]),\n",
       " array([1.59304783e-05, 1.46423651e-03, 5.84934882e-02, 6.47100082e-01]),\n",
       " array([8.43553490e-07, 1.00497210e-04, 3.96860061e-03, 8.14419418e-02,\n",
       "        6.90632205e-01]),\n",
       " array([3.89727965e-08, 5.96140886e-06, 3.37530365e-04, 8.62971390e-03,\n",
       "        1.11102652e-01, 7.33959306e-01]),\n",
       " array([3.18225146e-10, 8.53671740e-08, 8.43572675e-06, 3.97017946e-04,\n",
       "        9.29217106e-03, 1.13970887e-01, 7.37353915e-01]),\n",
       " array([-1.63065305e-09, -2.64926032e-07, -1.61142357e-05, -4.47455029e-04,\n",
       "        -5.42207989e-03, -2.24831090e-02,  5.27214171e-02,  7.14321324e-01]),\n",
       " array([7.15534609e-10, 1.18259416e-07, 7.43537715e-06, 2.22005343e-04,\n",
       "        3.24614304e-03, 2.32690982e-02, 8.15679182e-02, 1.95796977e-01,\n",
       "        7.49130839e-01]),\n",
       " array([-1.54610440e-10, -2.65398035e-08, -1.77460384e-06, -5.89195836e-05,\n",
       "        -1.04089736e-03, -1.00732934e-02, -5.24507928e-02, -1.29132004e-01,\n",
       "        -2.69507804e-02,  7.27438582e-01])]"
      ]
     },
     "execution_count": 62,
     "metadata": {},
     "output_type": "execute_result"
    }
   ],
   "source": [
    "thing"
   ]
  },
  {
   "cell_type": "code",
   "execution_count": 63,
   "id": "83d013f6",
   "metadata": {},
   "outputs": [
    {
     "data": {
      "text/plain": [
       "(12,)"
      ]
     },
     "execution_count": 63,
     "metadata": {},
     "output_type": "execute_result"
    }
   ],
   "source": [
    "nMax_vals.shape"
   ]
  },
  {
   "cell_type": "code",
   "execution_count": 64,
   "id": "8656d15c",
   "metadata": {},
   "outputs": [
    {
     "data": {
      "text/plain": [
       "(10,)"
      ]
     },
     "execution_count": 64,
     "metadata": {},
     "output_type": "execute_result"
    }
   ],
   "source": [
    "pEDM.shape"
   ]
  },
  {
   "cell_type": "code",
   "execution_count": 65,
   "id": "19c33d7c",
   "metadata": {},
   "outputs": [
    {
     "ename": "ValueError",
     "evalue": "operands could not be broadcast together with shapes (22,) (10,) ",
     "output_type": "error",
     "traceback": [
      "\u001b[1;31m---------------------------------------------------------------------------\u001b[0m",
      "\u001b[1;31mValueError\u001b[0m                                Traceback (most recent call last)",
      "\u001b[1;32m<ipython-input-65-725da0cb4dd4>\u001b[0m in \u001b[0;36m<module>\u001b[1;34m\u001b[0m\n\u001b[1;32m----> 1\u001b[1;33m \u001b[0mc_tilEDM\u001b[0m \u001b[1;33m=\u001b[0m \u001b[0msum\u001b[0m\u001b[1;33m(\u001b[0m\u001b[0msp\u001b[0m\u001b[1;33m.\u001b[0m\u001b[0mspecial\u001b[0m\u001b[1;33m.\u001b[0m\u001b[0mfactorial\u001b[0m\u001b[1;33m(\u001b[0m\u001b[0mnp\u001b[0m\u001b[1;33m.\u001b[0m\u001b[0marange\u001b[0m\u001b[1;33m(\u001b[0m\u001b[0mnMax\u001b[0m \u001b[1;33m+\u001b[0m \u001b[1;36m1\u001b[0m\u001b[1;33m)\u001b[0m\u001b[1;33m)\u001b[0m \u001b[1;33m*\u001b[0m \u001b[0mpEDM\u001b[0m\u001b[1;33m[\u001b[0m\u001b[1;33m-\u001b[0m\u001b[1;33m(\u001b[0m\u001b[0mnMax\u001b[0m \u001b[1;33m+\u001b[0m \u001b[1;36m1\u001b[0m\u001b[1;33m)\u001b[0m \u001b[1;33m:\u001b[0m\u001b[1;33m]\u001b[0m \u001b[1;33m*\u001b[0m \u001b[1;33m(\u001b[0m\u001b[1;33m-\u001b[0m\u001b[1;36m1\u001b[0m \u001b[1;33m/\u001b[0m \u001b[1;33m(\u001b[0m\u001b[1;36m2\u001b[0m \u001b[1;33m*\u001b[0m \u001b[0mwavenumbers\u001b[0m\u001b[1;33m)\u001b[0m\u001b[1;33m)\u001b[0m \u001b[1;33m**\u001b[0m \u001b[0mnp\u001b[0m\u001b[1;33m.\u001b[0m\u001b[0marange\u001b[0m\u001b[1;33m(\u001b[0m\u001b[0mnMax\u001b[0m \u001b[1;33m+\u001b[0m \u001b[1;36m1\u001b[0m\u001b[1;33m)\u001b[0m\u001b[1;33m)\u001b[0m\u001b[1;33m\u001b[0m\u001b[1;33m\u001b[0m\u001b[0m\n\u001b[0m",
      "\u001b[1;31mValueError\u001b[0m: operands could not be broadcast together with shapes (22,) (10,) "
     ]
    }
   ],
   "source": [
    "c_tilEDM = sum(sp.special.factorial(np.arange(nMax + 1)) * pEDM[-(nMax + 1) :] * (-1 / (2 * wavenumbers)) ** np.arange(nMax + 1))"
   ]
  },
  {
   "cell_type": "code",
   "execution_count": null,
   "id": "b47f0d74",
   "metadata": {},
   "outputs": [],
   "source": []
  },
  {
   "cell_type": "code",
   "execution_count": null,
   "id": "6f59ff38",
   "metadata": {},
   "outputs": [],
   "source": []
  },
  {
   "cell_type": "code",
   "execution_count": null,
   "id": "7c6467c0",
   "metadata": {},
   "outputs": [],
   "source": []
  },
  {
   "cell_type": "code",
   "execution_count": null,
   "id": "79a23110",
   "metadata": {},
   "outputs": [],
   "source": []
  },
  {
   "cell_type": "code",
   "execution_count": null,
   "id": "fcafcbc0",
   "metadata": {},
   "outputs": [],
   "source": []
  },
  {
   "cell_type": "code",
   "execution_count": null,
   "id": "03dda509",
   "metadata": {},
   "outputs": [],
   "source": []
  },
  {
   "cell_type": "code",
   "execution_count": null,
   "id": "c487edb0",
   "metadata": {},
   "outputs": [],
   "source": []
  },
  {
   "cell_type": "code",
   "execution_count": null,
   "id": "cd8fdaf6",
   "metadata": {},
   "outputs": [],
   "source": []
  },
  {
   "cell_type": "code",
   "execution_count": null,
   "id": "448b5350",
   "metadata": {},
   "outputs": [],
   "source": []
  },
  {
   "cell_type": "code",
   "execution_count": null,
   "id": "a64d3452",
   "metadata": {},
   "outputs": [],
   "source": []
  },
  {
   "cell_type": "code",
   "execution_count": null,
   "id": "86d09b7f",
   "metadata": {},
   "outputs": [],
   "source": []
  },
  {
   "cell_type": "code",
   "execution_count": null,
   "id": "0eab55d6",
   "metadata": {},
   "outputs": [],
   "source": []
  },
  {
   "cell_type": "code",
   "execution_count": null,
   "id": "e3270b84",
   "metadata": {},
   "outputs": [],
   "source": []
  },
  {
   "cell_type": "code",
   "execution_count": null,
   "id": "8fb1763f",
   "metadata": {},
   "outputs": [],
   "source": []
  },
  {
   "cell_type": "code",
   "execution_count": null,
   "id": "78140917",
   "metadata": {},
   "outputs": [],
   "source": []
  },
  {
   "cell_type": "markdown",
   "id": "4fa91b01",
   "metadata": {},
   "source": [
    "# function"
   ]
  },
  {
   "cell_type": "code",
   "execution_count": 210,
   "id": "0d55dfba",
   "metadata": {},
   "outputs": [],
   "source": [
    "import numpy as np\n",
    "from scipy.optimize import minimize_scalar\n",
    "from scipy.special import factorial, gammaincc, gamma\n",
    "from numpy.polynomial import Polynomial\n",
    "\n",
    "def rms(x):\n",
    "    return np.sqrt(np.mean(x**2))\n",
    "\n",
    "def pedm(k_vect, c_til, nMax_vals=None, deltaz_T_vals=None, deltaz_B_vals=None, waterDepth=None):\n",
    "    # Define Root-mean-square function for later use\n",
    "    rms = lambda x: np.sqrt(np.mean(x**2))\n",
    "\n",
    "    # If user has not provided information about the waterDepth, set to infinity\n",
    "    if waterDepth is None:\n",
    "        waterDepth = np.inf\n",
    "\n",
    "    # Handling for inadequate input data.\n",
    "    if len(k_vect) == 0 or len(c_til) == 0:\n",
    "        return np.nan, np.nan, np.nan, np.nan, np.nan\n",
    "\n",
    "    # Now we start with the PEDM. The steps follow those in the manuscript in section 2.1.2 Effect of limitations of measured Doppler shifts\n",
    "    # Define the parameters.\n",
    "    # Calculate effective depths of Doppler shift velocities based on assumption of a linear profile\n",
    "    Z_eff = -(2 * k_vect) ** -1 * np.tanh(np.abs(waterDepth) * k_vect)\n",
    "\n",
    "    # Set default values for PEDM parameter combinations if inputs left blank\n",
    "    if nMax_vals is None:\n",
    "        nm = min(12, round(len(k_vect) / 2))\n",
    "        nMax_vals = np.arange(0, nm+1)\n",
    "    \n",
    "    if deltaz_T_vals is None:\n",
    "        depthRange = np.abs(Z_eff[0] - Z_eff[-1])\n",
    "        deltaz_T_vals = np.linspace(0.01, 0.2, 20) * depthRange\n",
    "\n",
    "    if deltaz_B_vals is None:\n",
    "        depthRange = np.abs(Z_eff[0] - Z_eff[-1])\n",
    "        deltaz_B_vals = np.linspace(0.02, 0.8, 20) * depthRange\n",
    "\n",
    "    z_c = max(4 * np.min(Z_eff), -np.abs(waterDepth))  # Cutoff depth chosen as 4 times the deepest mapped depth. (Set to water depth if depth is shallower)\n",
    "    # z_c is NEGATIVE by convention here\n",
    "\n",
    "    # We loop over all PEDM parameter combinations. First initialize eps_PEDM_out as well as the other outputs.\n",
    "    eps_PEDM_out = np.inf\n",
    "    eps_EDM_out = np.inf\n",
    "\n",
    "    pPEDM_out = np.nan\n",
    "    pEDM_out = np.nan\n",
    "\n",
    "    verbose = []\n",
    "    combo = 0\n",
    "\n",
    "    for nMax in nMax_vals:\n",
    "        for deltaz_B in deltaz_B_vals:\n",
    "            for deltaz_T in deltaz_T_vals:\n",
    "                # STEP 1: Fit the mapped Doppler shifts to a polynomial of order nMax.\n",
    "                p1 = np.polyfit(Z_eff, c_til, nMax)\n",
    "\n",
    "                # STEP 2: Create additional velocity-depth pairs by linearly extrapolating up to the surface and down to cutoff depth z_c\n",
    "                zB = np.linspace(0, deltaz_B, 100)\n",
    "                zT = np.linspace(-deltaz_T, 0, 100)\n",
    "\n",
    "                pTop = np.polyfit(Z_eff[-1] + zT, np.polyval(p1, Z_eff[-1] + zT), 1)\n",
    "                pBottom = np.polyfit(Z_eff[0] + zB, np.polyval(p1, Z_eff[0] + zB), 1)\n",
    "\n",
    "                depthsExBtm = np.arange(z_c, Z_eff[0] - deltaz_B, deltaz_B)\n",
    "                depthsExTop = np.concatenate((np.arange(Z_eff[-1] + deltaz_T, 0, deltaz_T), [0]))\n",
    "\n",
    "                zEx = np.concatenate((depthsExBtm, Z_eff, depthsExTop))\n",
    "                cTilEx = np.concatenate((np.polyval(pBottom, depthsExBtm), c_til, np.polyval(pTop, depthsExTop)))\n",
    "\n",
    "                # STEP 3: Perform a second polynomial fit on the expanded set of points\n",
    "                pEDM = np.polyfit(zEx, cTilEx, nMax)\n",
    "\n",
    "                # Determine if profile is monotonic with range of mapped depths.\n",
    "                nv = np.arange(nMax, 0, -1)\n",
    "                pczEx_p = nv * pEDM[:-1]  # Derivative polynomial coefficients\n",
    "                rts = np.roots(pczEx_p)  # Find roots\n",
    "                rts = rts[np.isreal(rts)]  # Discard complex roots\n",
    "\n",
    "                # If there roots of the derivative within ranges of mapped depths, don't go further.\n",
    "                if np.any((rts > Z_eff[0]) & (rts < 0)):\n",
    "                    continue\n",
    "\n",
    "                # STEP 4: Scale polynomial coefficients defining U_EDM by n! as in equation (8) in the article.\n",
    "                pPEDM_i = pEDM / factorial(np.arange(nMax, -1, -1))\n",
    "\n",
    "                # STEP 5: Create a new set of linearly extrapolated points down to z_c based on the average shear of the above polynomial function in a depth interval deltaz_B/2 at the deep end of the regime.\n",
    "                zB2 = np.linspace(0, deltaz_B/2, 100)\n",
    "                pBottom2 = np.polyfit(Z_eff[0] + zB, np.polyval(pPEDM_i, Z_eff[0] + zB), 1)\n",
    "\n",
    "                depthsExBtm2 = np.arange(z_c, Z_eff[0] - deltaz_B, deltaz_B/2)\n",
    "\n",
    "                zEx2 = np.concatenate((depthsExBtm2, Z_eff, depthsExTop))\n",
    "                Uvals = np.concatenate((np.polyval(pBottom2, depthsExBtm2), np.polyval(pPEDM_i, Z_eff), np.polyval(pPEDM_i, depthsExTop)))\n",
    "\n",
    "                # STEP 6: Perform a final polynomial fit on the expanded set of points.\n",
    "                pPEDM = np.polyfit(zEx2, Uvals, nMax)\n",
    "\n",
    "                # Calculate Doppler shifts assuming U_EDM or U_PEDM as the current profile, using the forward problem.\n",
    "                c_tilEDM = 0\n",
    "                c_tilPEDM = 0\n",
    "\n",
    "                if nMax < 2:\n",
    "                    for n in range(nMax + 1):\n",
    "                        c_tilEDM = c_tilEDM + factorial(n) * pEDM[-n-1] * (-1 / (2 * k_vect)) ** n\n",
    "                        c_tilPEDM = c_tilPEDM + factorial(n) * pPEDM[-n-1] * (-1 / (2 * k_vect)) ** n\n",
    "                else:\n",
    "                    for n in range(nMax + 1):\n",
    "                        c_tilEDM = c_tilEDM + (-1 / 2) ** (n) * k_vect ** (-n) * pEDM[-n-1] * (gammaincc(-2 * k_vect * z_c, 1 + n)) * gamma(n + 1)\n",
    "                        c_tilPEDM = c_tilPEDM + (-1 / 2) ** (n) * k_vect ** (-n) * pPEDM[-n-1] * (gammaincc(-2 * k_vect * z_c, 1 + n)) * gamma(n + 1)\n",
    "\n",
    "                # Calculate RMS differences (equation (9) in manuscript)\n",
    "                eps_EDM = rms(c_til - c_tilEDM)  # RMS difference for U_EDM\n",
    "                eps_PEDM = rms(c_til - c_tilPEDM)  # RMS difference for U_PEDM.\n",
    "\n",
    "                # Parameters nMax, deltaz_T, and deltaz_B are chosen to minimize eps_PEDM in practice.\n",
    "                if eps_PEDM < eps_PEDM_out:\n",
    "                    eps_PEDM_out = eps_PEDM\n",
    "                    pPEDM_out = pPEDM\n",
    "                    nMax_out = nMax\n",
    "                    deltaz_B_out = deltaz_B\n",
    "                    deltaz_T_out = deltaz_T\n",
    "\n",
    "                if eps_EDM < eps_EDM_out:\n",
    "                    eps_EDM_out = eps_EDM\n",
    "                    pEDM_out = pEDM\n",
    "\n",
    "                combo = combo + 1\n",
    "                verbose.append({\n",
    "                    #'pPEDM': pPEDM.tolist(),\n",
    "                    #'pEDM': pEDM.tolist(),\n",
    "                    'pPEDM': pPEDM,\n",
    "                    'pEDM': pEDM,\n",
    "                    'eps_PEDM': eps_PEDM,\n",
    "                    'eps_EDM': eps_EDM,\n",
    "                    'nMax': nMax,\n",
    "                    'deltaz_B': deltaz_B,\n",
    "                    'deltaz_T': deltaz_T\n",
    "                })\n",
    "\n",
    "                \n",
    "                #return pPEDM_out, pEDM_out, eps_PEDM_out, eps_EDM_out, verbose\n",
    "    return pPEDM_out, pEDM_out, eps_PEDM_out, eps_EDM_out, verbose\n",
    "\n",
    "# Example usage:\n",
    "pPEDM, pEDM, eps_PEDM, eps_EDM, verbose = pedm(wavenumbers, Ux)\n"
   ]
  },
  {
   "cell_type": "code",
   "execution_count": null,
   "id": "54a0b462",
   "metadata": {},
   "outputs": [],
   "source": []
  },
  {
   "cell_type": "code",
   "execution_count": null,
   "id": "4ecc480f",
   "metadata": {},
   "outputs": [],
   "source": []
  },
  {
   "cell_type": "code",
   "execution_count": 220,
   "id": "2b2c7211",
   "metadata": {},
   "outputs": [
    {
     "data": {
      "text/plain": [
       "array([0.00673795, 0.04042768, 0.12465202, 0.26502592])"
      ]
     },
     "execution_count": 220,
     "metadata": {},
     "output_type": "execute_result"
    }
   ],
   "source": [
    "from scipy.special import factorial, gammaincc, gamma\n",
    "gammaincc([1, 2, 3, 4], 5)"
   ]
  },
  {
   "cell_type": "code",
   "execution_count": null,
   "id": "9846378d",
   "metadata": {},
   "outputs": [],
   "source": []
  },
  {
   "cell_type": "code",
   "execution_count": null,
   "id": "d72d0276",
   "metadata": {},
   "outputs": [],
   "source": []
  },
  {
   "cell_type": "code",
   "execution_count": 211,
   "id": "e3953999",
   "metadata": {},
   "outputs": [
    {
     "data": {
      "text/plain": [
       "{'pPEDM': array([0.43588063]),\n",
       " 'pEDM': array([0.43588063]),\n",
       " 'eps_PEDM': 0.12479025472386776,\n",
       " 'eps_EDM': 0.12479025472386776,\n",
       " 'nMax': 0,\n",
       " 'deltaz_B': 0.23326149212606517,\n",
       " 'deltaz_T': 0.11663074606303259}"
      ]
     },
     "execution_count": 211,
     "metadata": {},
     "output_type": "execute_result"
    }
   ],
   "source": [
    "verbose[0]"
   ]
  },
  {
   "cell_type": "code",
   "execution_count": null,
   "id": "8a76a334",
   "metadata": {},
   "outputs": [],
   "source": []
  },
  {
   "cell_type": "code",
   "execution_count": null,
   "id": "a31ed00f",
   "metadata": {},
   "outputs": [],
   "source": []
  },
  {
   "cell_type": "code",
   "execution_count": null,
   "id": "e6bedd08",
   "metadata": {},
   "outputs": [],
   "source": []
  },
  {
   "cell_type": "markdown",
   "id": "4f81bfb5",
   "metadata": {},
   "source": [
    "## find min and plot"
   ]
  },
  {
   "cell_type": "code",
   "execution_count": 212,
   "id": "ab1a41db",
   "metadata": {},
   "outputs": [
    {
     "name": "stdout",
     "output_type": "stream",
     "text": [
      "{'pPEDM': array([8.34038287e-10, 1.80845858e-07, 1.57804817e-05, 7.05457662e-04,\n",
      "       1.69314313e-02, 1.99094740e-01, 8.49339514e-01]), 'pEDM': array([4.30197853e-09, 7.58405002e-07, 5.12774668e-05, 1.63760969e-03,\n",
      "       2.37774054e-02, 1.80551487e-01, 8.33738268e-01]), 'eps_PEDM': 0.019307163868434722, 'eps_EDM': 0.0659736046180556, 'nMax': 6, 'deltaz_B': 1.1908613019067538, 'deltaz_T': 0.46652298425213035}\n"
     ]
    }
   ],
   "source": [
    "# Find the PEDM polynomials when eps_PEDM is minimum\n",
    "\n",
    "min_eps_PEDM_dict = min(verbose, key=lambda x: np.min(x['eps_PEDM']))\n",
    "print(min_eps_PEDM_dict)"
   ]
  },
  {
   "cell_type": "code",
   "execution_count": 213,
   "id": "83aa0f9e",
   "metadata": {},
   "outputs": [],
   "source": [
    "U1_fun = lambda z: np.polyval(min_eps_PEDM_dict['pPEDM'], z)"
   ]
  },
  {
   "cell_type": "code",
   "execution_count": 215,
   "id": "b1f04bff",
   "metadata": {},
   "outputs": [
    {
     "data": {
      "text/plain": [
       "<matplotlib.legend.Legend at 0x198195c1dc0>"
      ]
     },
     "execution_count": 215,
     "metadata": {},
     "output_type": "execute_result"
    },
    {
     "data": {
      "image/png": "[encoded data removed]",
      "text/plain": [
       "<Figure size 432x288 with 1 Axes>"
      ]
     },
     "metadata": {
      "needs_background": "light"
     },
     "output_type": "display_data"
    }
   ],
   "source": [
    "plt.plot(U1_fun(z), z, label=\"PEDM\", color = 'red')\n",
    "\n",
    "plt.plot(U, z, label = 'Correct Profile', color = 'black')\n",
    "#plt.scatter(Ux, -1/(2*wavenumbers), label='EDM', color = 'red')\n",
    "\n",
    "plt.plot(U_tester_fun(z), z, label=\"PEDM\", color = 'green')\n",
    "\n",
    "plt.grid(True)\n",
    "plt.title(\"PEDM\")\n",
    "plt.xlabel(\"U [m/s]\")\n",
    "plt.ylabel(\"Depth [m]\")\n",
    "plt.legend()"
   ]
  },
  {
   "cell_type": "code",
   "execution_count": null,
   "id": "46e7894b",
   "metadata": {},
   "outputs": [],
   "source": []
  },
  {
   "cell_type": "code",
   "execution_count": null,
   "id": "068c676a",
   "metadata": {},
   "outputs": [],
   "source": []
  },
  {
   "cell_type": "code",
   "execution_count": null,
   "id": "94460f45",
   "metadata": {},
   "outputs": [],
   "source": []
  },
  {
   "cell_type": "code",
   "execution_count": null,
   "id": "6c2c5346",
   "metadata": {},
   "outputs": [],
   "source": []
  },
  {
   "cell_type": "code",
   "execution_count": null,
   "id": "68b99f91",
   "metadata": {},
   "outputs": [],
   "source": []
  },
  {
   "cell_type": "code",
   "execution_count": null,
   "id": "85b72790",
   "metadata": {},
   "outputs": [],
   "source": []
  },
  {
   "cell_type": "code",
   "execution_count": null,
   "id": "2b3ef3ca",
   "metadata": {},
   "outputs": [],
   "source": []
  },
  {
   "cell_type": "code",
   "execution_count": null,
   "id": "7541fee6",
   "metadata": {},
   "outputs": [],
   "source": []
  },
  {
   "cell_type": "code",
   "execution_count": 137,
   "id": "ade6ea95",
   "metadata": {},
   "outputs": [
    {
     "data": {
      "text/plain": [
       "{'pPEDM': array([-1.59513111e-10, -3.08496790e-08, -2.35274094e-06, -8.89817738e-05,\n",
       "        -1.69865648e-03, -1.38961662e-02,  5.32919874e-02,  7.20617492e-01]),\n",
       " 'pEDM': array([-1.63065305e-09, -2.64926032e-07, -1.61142357e-05, -4.47455029e-04,\n",
       "        -5.42207989e-03, -2.24831090e-02,  5.27214171e-02,  7.14321324e-01]),\n",
       " 'eps_PEDM': 1.3807542636278238,\n",
       " 'eps_EDM': 18.813223914573417,\n",
       " 'nMax': 7,\n",
       " 'deltaz_B': 9.330459685042607,\n",
       " 'deltaz_T': 2.3326149212606517}"
      ]
     },
     "execution_count": 137,
     "metadata": {},
     "output_type": "execute_result"
    }
   ],
   "source": [
    "verbose[2715]"
   ]
  },
  {
   "cell_type": "code",
   "execution_count": 150,
   "id": "05df1d71",
   "metadata": {},
   "outputs": [],
   "source": [
    "correct_last_row_ppedm = np.array([-1.141062713814869e-10,-1.963712343337823e-08,-1.249375680747990e-06,-3.395215499295023e-05,-2.474376957221186e-04,0.004920001237364,0.138404216839451,0.787658618112140])"
   ]
  },
  {
   "cell_type": "code",
   "execution_count": 155,
   "id": "be56eeb3",
   "metadata": {},
   "outputs": [],
   "source": [
    "tester = np.array([-3.16299173241975e-11, -3.52342289978936e-09, 2.26061970004925e-08, 1.87040323555655e-05, 0.00100884400351229, 0.0229985582258079, 0.236443508029221, 0.878525552099846])"
   ]
  },
  {
   "cell_type": "code",
   "execution_count": null,
   "id": "e4e51d6d",
   "metadata": {},
   "outputs": [],
   "source": [
    "[-3.168178094429970e-11,-4.034839333262326e-09,-7.301516604787736e-08,1.159622225203049e-05,7.447130642857188e-04,0.017909147126642,0.200120319672119,0.834158999358281]"
   ]
  },
  {
   "cell_type": "code",
   "execution_count": 69,
   "id": "8f1acef1",
   "metadata": {
    "scrolled": true
   },
   "outputs": [
    {
     "data": {
      "text/plain": [
       "array([ 0,  1,  2,  3,  4,  5,  6,  7,  8,  9, 10, 11])"
      ]
     },
     "execution_count": 69,
     "metadata": {},
     "output_type": "execute_result"
    }
   ],
   "source": [
    "nMax_vals"
   ]
  },
  {
   "cell_type": "code",
   "execution_count": 70,
   "id": "1aeb1dd0",
   "metadata": {},
   "outputs": [
    {
     "data": {
      "text/plain": [
       "(20,)"
      ]
     },
     "execution_count": 70,
     "metadata": {},
     "output_type": "execute_result"
    }
   ],
   "source": [
    "deltaz_T_vals.shape"
   ]
  },
  {
   "cell_type": "code",
   "execution_count": 71,
   "id": "d58234dd",
   "metadata": {
    "scrolled": true
   },
   "outputs": [
    {
     "data": {
      "text/plain": [
       "256"
      ]
     },
     "execution_count": 71,
     "metadata": {},
     "output_type": "execute_result"
    }
   ],
   "source": [
    "count_nMax_zero = sum(1 for entry in verbose if entry['nMax'] == 6)\n",
    "count_nMax_zero"
   ]
  },
  {
   "cell_type": "code",
   "execution_count": 143,
   "id": "78ed29c7",
   "metadata": {},
   "outputs": [
    {
     "data": {
      "text/plain": [
       "2716"
      ]
     },
     "execution_count": 143,
     "metadata": {},
     "output_type": "execute_result"
    }
   ],
   "source": [
    "len(verbose)"
   ]
  },
  {
   "cell_type": "code",
   "execution_count": 98,
   "id": "fab1407b",
   "metadata": {},
   "outputs": [
    {
     "data": {
      "text/plain": [
       "array([-1.59567515e-10, -3.07730684e-08, -2.33684587e-06, -8.77460836e-05,\n",
       "       -1.65113452e-03, -1.29479316e-02,  5.99687701e-02,  7.28784632e-01])"
      ]
     },
     "execution_count": 98,
     "metadata": {},
     "output_type": "execute_result"
    }
   ],
   "source": [
    "verbose[2714]['pPEDM']"
   ]
  },
  {
   "cell_type": "code",
   "execution_count": 151,
   "id": "20320f6a",
   "metadata": {},
   "outputs": [
    {
     "data": {
      "text/plain": [
       "array([-1.14106271e-10, -1.96371234e-08, -1.24937568e-06, -3.39521550e-05,\n",
       "       -2.47437696e-04,  4.92000124e-03,  1.38404217e-01,  7.87658618e-01])"
      ]
     },
     "execution_count": 151,
     "metadata": {},
     "output_type": "execute_result"
    }
   ],
   "source": [
    "correct_last_row_ppedm"
   ]
  },
  {
   "cell_type": "code",
   "execution_count": 144,
   "id": "45b43fa6",
   "metadata": {},
   "outputs": [],
   "source": [
    "U1_fun = lambda z: np.polyval(verbose[2714]['pPEDM'], z)"
   ]
  },
  {
   "cell_type": "code",
   "execution_count": 152,
   "id": "0f4f2e78",
   "metadata": {},
   "outputs": [],
   "source": [
    "U1_fun = lambda z: np.polyval(correct_last_row_ppedm, z)"
   ]
  },
  {
   "cell_type": "code",
   "execution_count": 156,
   "id": "5e915dc6",
   "metadata": {},
   "outputs": [],
   "source": [
    "U_tester_fun = lambda z: np.polyval(tester, z)"
   ]
  },
  {
   "cell_type": "code",
   "execution_count": 153,
   "id": "2871c9a5",
   "metadata": {},
   "outputs": [
    {
     "data": {
      "text/plain": [
       "(100,)"
      ]
     },
     "execution_count": 153,
     "metadata": {},
     "output_type": "execute_result"
    }
   ],
   "source": [
    "U1_fun(z).shape"
   ]
  },
  {
   "cell_type": "code",
   "execution_count": 157,
   "id": "8435d220",
   "metadata": {},
   "outputs": [
    {
     "data": {
      "text/plain": [
       "<matplotlib.legend.Legend at 0x19818d7f8b0>"
      ]
     },
     "execution_count": 157,
     "metadata": {},
     "output_type": "execute_result"
    },
    {
     "data": {
      "image/png": "[encoded data removed]",
      "text/plain": [
       "<Figure size 432x288 with 1 Axes>"
      ]
     },
     "metadata": {
      "needs_background": "light"
     },
     "output_type": "display_data"
    }
   ],
   "source": [
    "#plt.plot(U1_fun(z), z, label=\"PEDM\", color = 'red')\n",
    "plt.plot(U_tester_fun(z), z, label=\"PEDM\", color = 'red')\n",
    "\n",
    "plt.plot(U, z, label = 'Correct Profile', color = 'black')\n",
    "#plt.scatter(Ux, -1/(2*wavenumbers), label='EDM', color = 'red')\n",
    "\n",
    "plt.grid(True)\n",
    "plt.title(\"PEDM\")\n",
    "plt.xlabel(\"U [m/s]\")\n",
    "plt.ylabel(\"Depth [m]\")\n",
    "plt.legend()\n",
    "#plt.xlim(-1,1)"
   ]
  },
  {
   "cell_type": "code",
   "execution_count": null,
   "id": "56b91f35",
   "metadata": {},
   "outputs": [],
   "source": []
  },
  {
   "cell_type": "code",
   "execution_count": 77,
   "id": "1dcb42c4",
   "metadata": {},
   "outputs": [
    {
     "data": {
      "text/plain": [
       "array([3.99168e+07, 3.62880e+06, 3.62880e+05, 4.03200e+04, 5.04000e+03,\n",
       "       7.20000e+02, 1.20000e+02, 2.40000e+01, 6.00000e+00, 2.00000e+00,\n",
       "       1.00000e+00, 1.00000e+00])"
      ]
     },
     "execution_count": 77,
     "metadata": {},
     "output_type": "execute_result"
    }
   ],
   "source": [
    "factorial(np.arange(11, -1, -1))"
   ]
  },
  {
   "cell_type": "code",
   "execution_count": null,
   "id": "b26f5ddd",
   "metadata": {},
   "outputs": [],
   "source": []
  },
  {
   "cell_type": "code",
   "execution_count": 113,
   "id": "ee906a7b",
   "metadata": {},
   "outputs": [],
   "source": [
    "from scipy.io import loadmat\n",
    "\n",
    "# Load MATLAB variables from the .mat file\n",
    "#mat_data = loadmat('C:\\Users\\josep\\Documents\\MATLAB\\11_New_matlab_variables.mat')\n",
    "mat_data1 = loadmat(r'C:\\Users\\josep\\Documents\\MATLAB\\tester_to_checky.mat')\n",
    "\n",
    "#\"C:\\Users\\josep\\Documents\\MATLAB\\11_New_matlab_variables.mat\"\n",
    "# Access the variables in Python\n",
    "#pedm_vals_used = mat_data1['new_z_values']\n",
    "#new_Ux_values = mat_data1['new_Ux_values']\n",
    "\n",
    "# Now you can use new_z_values and new_Ux_values in Python"
   ]
  },
  {
   "cell_type": "markdown",
   "id": "4682d9fd",
   "metadata": {},
   "source": [
    "## Correct from Matlab code"
   ]
  },
  {
   "cell_type": "code",
   "execution_count": 115,
   "id": "f0b20bed",
   "metadata": {},
   "outputs": [
    {
     "data": {
      "text/plain": [
       "(5,)"
      ]
     },
     "execution_count": 115,
     "metadata": {},
     "output_type": "execute_result"
    }
   ],
   "source": [
    "mat_data1['pPEDM_1'][0].shape"
   ]
  },
  {
   "cell_type": "code",
   "execution_count": 116,
   "id": "e646d3ff",
   "metadata": {},
   "outputs": [],
   "source": [
    "U2_fun = lambda z: np.polyval(mat_data1['pPEDM_1'][0], z)"
   ]
  },
  {
   "cell_type": "code",
   "execution_count": 117,
   "id": "a37bc8aa",
   "metadata": {},
   "outputs": [
    {
     "data": {
      "text/plain": [
       "array([-0.55478742, -0.54382622, -0.53288301, -0.52195764, -0.51104988,\n",
       "       -0.50015944, -0.48928595, -0.47842899, -0.46758804, -0.45676255,\n",
       "       -0.44595185, -0.43515525, -0.42437197, -0.41360114, -0.40284185,\n",
       "       -0.39209312, -0.38135387, -0.37062299, -0.35989927, -0.34918144,\n",
       "       -0.33846816, -0.32775803, -0.31704957, -0.30634123, -0.2956314 ,\n",
       "       -0.28491839, -0.27420043, -0.26347572, -0.25274234, -0.24199834,\n",
       "       -0.23124168, -0.22047026, -0.2096819 , -0.19887436, -0.18804533,\n",
       "       -0.17719242, -0.16631318, -0.15540509, -0.14446556, -0.13349192,\n",
       "       -0.12248145, -0.11143134, -0.10033873, -0.08920067, -0.07801415,\n",
       "       -0.0667761 , -0.05548336, -0.04413273, -0.0327209 , -0.02124453,\n",
       "       -0.00970018,  0.00191564,  0.0136065 ,  0.02537603,  0.03722794,\n",
       "        0.04916601,  0.06119408,  0.07331607,  0.08553595,  0.09785779,\n",
       "        0.11028571,  0.12282389,  0.13547662,  0.1482482 ,  0.16114306,\n",
       "        0.17416565,  0.18732053,  0.2006123 ,  0.21404564,  0.2276253 ,\n",
       "        0.24135611,  0.25524295,  0.26929078,  0.28350464,  0.29788961,\n",
       "        0.31245087,  0.32719365,  0.34212327,  0.3572451 ,  0.37256458,\n",
       "        0.38808723,  0.40381864,  0.41976447,  0.43593043,  0.45232233,\n",
       "        0.46894602,  0.48580745,  0.50291261,  0.52026758,  0.5378785 ,\n",
       "        0.55575158,  0.57389311,  0.59230944,  0.61100699,  0.62999225,\n",
       "        0.64927177,  0.6688522 ,  0.68874024,  0.70894264,  0.72946625])"
      ]
     },
     "execution_count": 117,
     "metadata": {},
     "output_type": "execute_result"
    }
   ],
   "source": [
    "U2_fun(z)"
   ]
  },
  {
   "cell_type": "code",
   "execution_count": 118,
   "id": "29462ba1",
   "metadata": {},
   "outputs": [
    {
     "data": {
      "text/plain": [
       "<matplotlib.legend.Legend at 0x19818aec490>"
      ]
     },
     "execution_count": 118,
     "metadata": {},
     "output_type": "execute_result"
    },
    {
     "data": {
      "image/png": "[encoded data removed]",
      "text/plain": [
       "<Figure size 432x288 with 1 Axes>"
      ]
     },
     "metadata": {
      "needs_background": "light"
     },
     "output_type": "display_data"
    }
   ],
   "source": [
    "plt.plot(U2_fun(z), z, label=\"PEDM\", color = 'red')\n",
    "\n",
    "plt.plot(U, z, label = 'Correct Profile', color = 'black')\n",
    "#plt.scatter(Ux, -1/(2*wavenumbers), label='EDM', color = 'red')\n",
    "\n",
    "plt.grid(True)\n",
    "plt.title(\"PEDM\")\n",
    "plt.xlabel(\"U [m/s]\")\n",
    "plt.ylabel(\"Depth [m]\")\n",
    "plt.legend()\n",
    "#plt.xlim(-1,1)"
   ]
  },
  {
   "cell_type": "code",
   "execution_count": null,
   "id": "9c27f1ed",
   "metadata": {},
   "outputs": [],
   "source": []
  },
  {
   "cell_type": "code",
   "execution_count": null,
   "id": "5ca4d024",
   "metadata": {},
   "outputs": [],
   "source": []
  },
  {
   "cell_type": "code",
   "execution_count": null,
   "id": "f7cdc4c0",
   "metadata": {},
   "outputs": [],
   "source": []
  },
  {
   "cell_type": "code",
   "execution_count": 142,
   "id": "6596c7e9",
   "metadata": {},
   "outputs": [
    {
     "data": {
      "text/plain": [
       "array([-1.59567515e-10, -3.07730684e-08, -2.33684587e-06, -8.77460836e-05,\n",
       "       -1.65113452e-03, -1.29479316e-02,  5.99687701e-02,  7.28784632e-01])"
      ]
     },
     "execution_count": 142,
     "metadata": {},
     "output_type": "execute_result"
    }
   ],
   "source": [
    "verbose[2714]['pPEDM']"
   ]
  },
  {
   "cell_type": "code",
   "execution_count": 148,
   "id": "6a8977eb",
   "metadata": {},
   "outputs": [
    {
     "data": {
      "text/plain": [
       "array([-1.14429327e-10, -1.95748986e-08, -1.23125474e-06, -3.24970038e-05,\n",
       "       -1.93794268e-04,  5.88756676e-03,  1.44655845e-01,  7.94810949e-01])"
      ]
     },
     "execution_count": 148,
     "metadata": {},
     "output_type": "execute_result"
    }
   ],
   "source": [
    "mat_data1['verby1']['pPEDM'][0][-2][0]"
   ]
  },
  {
   "cell_type": "code",
   "execution_count": 149,
   "id": "60c7a990",
   "metadata": {},
   "outputs": [],
   "source": [
    "U1_fun = lambda z: np.polyval(mat_data1['verby1']['pPEDM'][0][-2][0], z)"
   ]
  },
  {
   "cell_type": "code",
   "execution_count": 150,
   "id": "79ab983d",
   "metadata": {},
   "outputs": [
    {
     "data": {
      "text/plain": [
       "<matplotlib.legend.Legend at 0x233ee494d90>"
      ]
     },
     "execution_count": 150,
     "metadata": {},
     "output_type": "execute_result"
    },
    {
     "data": {
      "image/png": "[encoded data removed]",
      "text/plain": [
       "<Figure size 432x288 with 1 Axes>"
      ]
     },
     "metadata": {
      "needs_background": "light"
     },
     "output_type": "display_data"
    }
   ],
   "source": [
    "plt.plot(U1_fun(z), z, label=\"PEDM\", color = 'red')\n",
    "\n",
    "plt.plot(U, z, label = 'Correct Profile', color = 'black')\n",
    "#plt.scatter(Ux, -1/(2*wavenumbers), label='EDM', color = 'red')\n",
    "\n",
    "plt.grid(True)\n",
    "plt.title(\"PEDM\")\n",
    "plt.xlabel(\"U [m/s]\")\n",
    "plt.ylabel(\"Depth [m]\")\n",
    "plt.legend()\n",
    "#plt.xlim(-1,1)"
   ]
  },
  {
   "cell_type": "code",
   "execution_count": null,
   "id": "401aaa4a",
   "metadata": {},
   "outputs": [],
   "source": []
  },
  {
   "cell_type": "code",
   "execution_count": null,
   "id": "f36cad1b",
   "metadata": {},
   "outputs": [],
   "source": []
  },
  {
   "cell_type": "code",
   "execution_count": null,
   "id": "c91db221",
   "metadata": {},
   "outputs": [],
   "source": []
  },
  {
   "cell_type": "code",
   "execution_count": null,
   "id": "7fb94f77",
   "metadata": {},
   "outputs": [],
   "source": []
  },
  {
   "cell_type": "code",
   "execution_count": null,
   "id": "fa1b8e7b",
   "metadata": {},
   "outputs": [],
   "source": []
  },
  {
   "cell_type": "code",
   "execution_count": null,
   "id": "5f4c4629",
   "metadata": {},
   "outputs": [],
   "source": []
  },
  {
   "cell_type": "code",
   "execution_count": null,
   "id": "13284bea",
   "metadata": {},
   "outputs": [],
   "source": []
  },
  {
   "cell_type": "code",
   "execution_count": null,
   "id": "2ff80b31",
   "metadata": {},
   "outputs": [],
   "source": []
  },
  {
   "cell_type": "code",
   "execution_count": null,
   "id": "ffc26fe6",
   "metadata": {},
   "outputs": [],
   "source": []
  },
  {
   "cell_type": "code",
   "execution_count": null,
   "id": "6bcde1ff",
   "metadata": {},
   "outputs": [],
   "source": []
  },
  {
   "cell_type": "code",
   "execution_count": null,
   "id": "2e7e67f7",
   "metadata": {},
   "outputs": [],
   "source": []
  },
  {
   "cell_type": "code",
   "execution_count": null,
   "id": "5a20272d",
   "metadata": {},
   "outputs": [],
   "source": []
  },
  {
   "cell_type": "code",
   "execution_count": null,
   "id": "2c468408",
   "metadata": {},
   "outputs": [],
   "source": []
  },
  {
   "cell_type": "code",
   "execution_count": null,
   "id": "5e2f6e27",
   "metadata": {},
   "outputs": [],
   "source": []
  },
  {
   "cell_type": "code",
   "execution_count": null,
   "id": "022d9346",
   "metadata": {},
   "outputs": [],
   "source": []
  }
 ],
 "metadata": {
  "kernelspec": {
   "display_name": "Python 3",
   "language": "python",
   "name": "python3"
  },
  "language_info": {
   "codemirror_mode": {
    "name": "ipython",
    "version": 3
   },
   "file_extension": ".py",
   "mimetype": "text/x-python",
   "name": "python",
   "nbconvert_exporter": "python",
   "pygments_lexer": "ipython3",
   "version": "3.8.8"
  }
 },
 "nbformat": 4,
 "nbformat_minor": 5
}
