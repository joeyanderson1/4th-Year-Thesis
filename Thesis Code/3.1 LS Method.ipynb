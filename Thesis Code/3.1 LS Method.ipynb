{
 "cells": [
  {
   "cell_type": "code",
   "execution_count": 4,
   "id": "66d82895-3c11-4f73-8b8d-c87b2882e61a",
   "metadata": {},
   "outputs": [],
   "source": [
    "import sys\n",
    "sys.path.append(\"C:\\\\Users\\josep\\Desktop\\sus_packages\")\n",
    "import help_tools1\n",
    "from help_tools1 import polar_coordinates\n",
    "from wave_tools import ConstructWave, surface_core, peak_tracking\n",
    "import wave_tools\n",
    "#import cv2\n",
    "import h5py\n",
    "from matplotlib import cm\n",
    "#import radar_tools\n",
    "import numpy as np\n",
    "#from wave_tools import ConstructWave, surface_core, peak_tracking\n",
    "#from wave_tools import fft_interpolate, fft_interface, Spectrum\n",
    "#from wave_tools import SpectralAnalysis\n",
    "import matplotlib.pyplot as plt\n",
    "from help_tools1 import plotting_interface\n",
    "from wave_tools import surface_core, fft_interface, dispersionRelation\n",
    "from help_tools1 import plotting_interface, polar_coordinates, convolutional_filters, moving_average\n",
    "from scipy.optimize import least_squares\n",
    "from scipy.optimize import minimize\n",
    "from scipy.optimize import curve_fit\n",
    "from matplotlib.ticker import LinearLocator, FormatStrFormatter\n",
    "from tqdm import tqdm\n",
    "from mpl_toolkits.mplot3d import Axes3D\n",
    "from scipy.fftpack import fftn, fftshift\n",
    "from scipy.stats import t"
   ]
  },
  {
   "cell_type": "code",
   "execution_count": 5,
   "id": "9cc21b26-447f-49ac-b4c6-04c8db0759dd",
   "metadata": {},
   "outputs": [],
   "source": [
    "sys.path.append(\"C:\\\\Users\\josep\\Desktop\\PHYC40900_Project TP\\Data_NEW\")\n",
    "fileName ='shearing_curr_res_7.5_dt_1.0_T_1200_U_1.0exp(0.5z)+0.05_psi_0_smax_30_0_surf3d.hdf5'\n",
    "\n",
    "# file with psi = 0 \n",
    "f = h5py.File('C:\\\\Users\\josep\\Desktop\\PHYC40900_Project TP\\Data_NEW\\shearing_curr_res_7.5_dt_1.0_T_1200_U_1.0exp(0.5z)+0.05_psi_0_smax_30_0_surf3d.hdf5', 'r')"
   ]
  },
  {
   "cell_type": "code",
   "execution_count": 17,
   "id": "af0e591e-5c9c-40bf-bea4-8ad9ad6cd239",
   "metadata": {},
   "outputs": [],
   "source": [
    "x = f.get('x')\n",
    "y = f.get('y')\n",
    "z = f.get('z')\n",
    "t = f.get('t')\n",
    "k = f.get('k')\n",
    "U = f.get('U')\n",
    "Uk = f.get('Uk')\n",
    "eta = f.get('eta')\n",
    "x = np.array(x)\n",
    "y = np.array(y)\n",
    "z = np.array(z)\n",
    "t = np.array(t)\n",
    "k = np.array(k)\n",
    "U = np.array(U)\n",
    "Uk = np.array(Uk)\n",
    "eta = np.array(eta)"
   ]
  },
  {
   "cell_type": "code",
   "execution_count": 18,
   "id": "6168073e-05ea-408b-9736-1d187aad9e48",
   "metadata": {},
   "outputs": [
    {
     "data": {
      "text/plain": [
       "(1200, 67, 67)"
      ]
     },
     "execution_count": 18,
     "metadata": {},
     "output_type": "execute_result"
    }
   ],
   "source": [
    "eta.shape"
   ]
  },
  {
   "cell_type": "code",
   "execution_count": 19,
   "id": "dbd630fa-e172-4f35-b084-2ded8f21cd97",
   "metadata": {},
   "outputs": [],
   "source": [
    "eta = np.transpose(eta, (1, 2, 0))\n",
    "# flips it into correct form (N, N, M)"
   ]
  },
  {
   "cell_type": "code",
   "execution_count": 20,
   "id": "68b81342-4afe-45f1-9d62-eaa72b16d0c2",
   "metadata": {},
   "outputs": [
    {
     "data": {
      "text/plain": [
       "(67, 67, 1200)"
      ]
     },
     "execution_count": 20,
     "metadata": {},
     "output_type": "execute_result"
    }
   ],
   "source": [
    "eta.shape"
   ]
  },
  {
   "cell_type": "code",
   "execution_count": 21,
   "id": "ea99a79c-c876-412a-a2f6-4852ec45f4d3",
   "metadata": {},
   "outputs": [],
   "source": [
    "dx = x[1]-x[0]\n",
    "dy = y[1]-y[0]\n",
    "dt = t[1]-t[0]\n",
    "\n",
    "dk = 2*np.pi/(dx*min(eta.shape[0], eta.shape[1]))\n",
    "\n",
    "Nx, Ny, Nt = eta.shape\n",
    "Kx = (2 * np.pi * 1 / dx / Nx) * np.arange(-np.ceil((Nx - 1) / 2), np.floor((Nx - 1) / 2) + 1) # 67 values\n",
    "Ky = (2 * np.pi * 1 / dy / Ny) * np.arange(-np.ceil((Ny - 1) / 2), np.floor((Ny - 1) / 2) + 1) # 67 Values\n",
    "w = (2 * np.pi * 1 / dt / Nt) * np.arange(-np.ceil((Nt - 1) / 2), np.floor((Nt - 1) / 2) + 1) # 1200 Values\n",
    "\n",
    "dKx = Kx[1] - Kx[0]\n",
    "dKy = Ky[1] - Ky[0]\n",
    "dW = w[1] - w[0]"
   ]
  },
  {
   "cell_type": "code",
   "execution_count": 22,
   "id": "170e497d-44f2-4bc4-9c47-be75199955a0",
   "metadata": {},
   "outputs": [],
   "source": [
    "Norm = dKx * dKy * dW"
   ]
  },
  {
   "cell_type": "code",
   "execution_count": 23,
   "id": "5956e25d-b4aa-43a8-8832-092579991039",
   "metadata": {},
   "outputs": [],
   "source": [
    "# Get power spectra\n",
    "Spectrum_raw = fftshift(fftn(eta) / np.prod(eta.shape))\n",
    "power_Spectrum = np.abs(Spectrum_raw / Norm)**2"
   ]
  },
  {
   "cell_type": "markdown",
   "id": "0ea314f3-50f6-47d3-bee8-11d57b9e6bbc",
   "metadata": {},
   "source": [
    "### HP Filter"
   ]
  },
  {
   "cell_type": "code",
   "execution_count": 25,
   "id": "0bd0f350-0861-4bee-b4fb-af2f704fcfb7",
   "metadata": {},
   "outputs": [
    {
     "data": {
      "text/plain": [
       "(67, 67, 1200)"
      ]
     },
     "execution_count": 25,
     "metadata": {},
     "output_type": "execute_result"
    }
   ],
   "source": [
    "I = power_Spectrum\n",
    "I.shape"
   ]
  },
  {
   "cell_type": "code",
   "execution_count": 26,
   "id": "94cd1237-12fc-40d3-93ee-300a11b1873d",
   "metadata": {},
   "outputs": [],
   "source": [
    "w_cut = 0.03 * 2*np.pi"
   ]
  },
  {
   "cell_type": "code",
   "execution_count": 29,
   "id": "781c74bb-e059-4809-911b-39ad5499ff0a",
   "metadata": {},
   "outputs": [],
   "source": [
    "# Boolean mask based on the condition w >= w_cut\n",
    "mask = (w >= w_cut)"
   ]
  },
  {
   "cell_type": "code",
   "execution_count": 30,
   "id": "2ed0077c-6d38-45b0-82ec-0600ad6bea9d",
   "metadata": {},
   "outputs": [],
   "source": [
    "I_1 = np.where(mask[ None, None,:], I, 0)"
   ]
  },
  {
   "cell_type": "markdown",
   "id": "e2a22b95-cb02-448e-8c93-d8a8c7d308d3",
   "metadata": {},
   "source": [
    "### Energy Threshold Filter"
   ]
  },
  {
   "cell_type": "code",
   "execution_count": null,
   "id": "3b2e3ab3-d37d-433f-95f3-63430316b650",
   "metadata": {},
   "outputs": [],
   "source": []
  },
  {
   "cell_type": "code",
   "execution_count": null,
   "id": "bc094978-e991-416a-b042-c7f7ed798580",
   "metadata": {},
   "outputs": [],
   "source": []
  },
  {
   "cell_type": "code",
   "execution_count": null,
   "id": "51ab7d28-88f8-44ed-a658-8a68509aadb6",
   "metadata": {},
   "outputs": [],
   "source": []
  },
  {
   "cell_type": "code",
   "execution_count": null,
   "id": "13301b19-3485-4d16-b38f-d22df9d7f5ce",
   "metadata": {},
   "outputs": [],
   "source": []
  }
 ],
 "metadata": {
  "kernelspec": {
   "display_name": "Python 3 (ipykernel)",
   "language": "python",
   "name": "python3"
  },
  "language_info": {
   "codemirror_mode": {
    "name": "ipython",
    "version": 3
   },
   "file_extension": ".py",
   "mimetype": "text/x-python",
   "name": "python",
   "nbconvert_exporter": "python",
   "pygments_lexer": "ipython3",
   "version": "3.11.7"
  }
 },
 "nbformat": 4,
 "nbformat_minor": 5
}
