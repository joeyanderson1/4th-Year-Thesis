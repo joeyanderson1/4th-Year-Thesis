{
 "cells": [
  {
   "cell_type": "code",
   "execution_count": 1,
   "id": "4ed3528d",
   "metadata": {},
   "outputs": [],
   "source": [
    "import sys\n",
    "sys.path.append(\"C:\\\\Users\\josep\\Documents\\Anaconda\\pkgs\")\n",
    "import help_tools\n",
    "import wave_tools\n",
    "import cv2\n",
    "import h5py\n",
    "from matplotlib import cm\n",
    "import radar_tools\n",
    "import numpy as np\n",
    "from wave_tools import ConstructWave, surface_core, peak_tracking\n",
    "from wave_tools import fft_interpolate, fft_interface, Spectrum\n",
    "from wave_tools import SpectralAnalysis\n",
    "import matplotlib.pyplot as plt\n",
    "from help_tools import plotting_interface\n",
    "from wave_tools import surface_core, fft_interface, dispersionRelation\n",
    "from help_tools import plotting_interface, polar_coordinates, convolutional_filters, moving_average\n",
    "from scipy.optimize import least_squares\n",
    "from scipy.optimize import minimize\n",
    "from scipy.optimize import curve_fit\n",
    "from matplotlib.ticker import LinearLocator, FormatStrFormatter\n",
    "from tqdm import tqdm\n",
    "from mpl_toolkits.mplot3d import Axes3D\n",
    "from scipy.special import gamma, gammainc\n",
    "from scipy.fftpack import fftn, fftshift\n",
    "from scipy.signal import find_peaks, peak_widths, peak_prominences\n",
    "import matplotlib.patches as mpatches\n",
    "import matplotlib.lines as mlines"
   ]
  },
  {
   "cell_type": "code",
   "execution_count": 3,
   "id": "8a345a21",
   "metadata": {},
   "outputs": [],
   "source": [
    "sys.path.append(\"C:\\\\Users\\josep\\Desktop\\PHYC40900_Project TP\")\n",
    "f = h5py.File('C:\\\\Users\\josep\\Desktop\\PHYC40900_Project TP\\Real Data Sets\\First Tel-Aviv data', 'r')"
   ]
  },
  {
   "cell_type": "code",
   "execution_count": 4,
   "id": "2a1a2303",
   "metadata": {},
   "outputs": [],
   "source": [
    "x = f.get('x')\n",
    "y = f.get('y')\n",
    "t = f.get('t')\n",
    "wamos = f.get('wamos')\n",
    "\n",
    "x = np.array(x)\n",
    "y = np.array(y)\n",
    "t = np.array(t)\n",
    "wamos = np.array(wamos)"
   ]
  },
  {
   "cell_type": "code",
   "execution_count": 5,
   "id": "a1dbc8c6",
   "metadata": {},
   "outputs": [
    {
     "data": {
      "text/plain": [
       "0.01269330365086785"
      ]
     },
     "execution_count": 5,
     "metadata": {},
     "output_type": "execute_result"
    }
   ],
   "source": [
    "dx = x[1] - x[0]\n",
    "dy = y[1] - y[0]\n",
    "dt = t[1] - t[0]\n",
    "dk = 2*np.pi/(dx*min(wamos.shape[0], wamos.shape[1]))\n",
    "dk"
   ]
  },
  {
   "cell_type": "code",
   "execution_count": 6,
   "id": "79e5c73e",
   "metadata": {},
   "outputs": [
    {
     "data": {
      "text/plain": [
       "(132, 132, 366)"
      ]
     },
     "execution_count": 6,
     "metadata": {},
     "output_type": "execute_result"
    }
   ],
   "source": [
    "eta = np.transpose(wamos, (1, 2, 0))\n",
    "eta.shape"
   ]
  },
  {
   "cell_type": "code",
   "execution_count": 7,
   "id": "ba2ba9d6",
   "metadata": {},
   "outputs": [],
   "source": [
    "Nx, Ny, Nt = eta.shape\n",
    "    \n",
    "Kx = (2 * np.pi * 1 / dx / Nx) * np.arange(-np.ceil((Nx - 1) / 2), np.floor((Nx - 1) / 2) + 1) \n",
    "Ky = (2 * np.pi * 1 / dy / Ny) * np.arange(-np.ceil((Ny - 1) / 2), np.floor((Ny - 1) / 2) + 1) \n",
    "w = (2 * np.pi * 1 / dt / Nt) * np.arange(-np.ceil((Nt - 1) / 2), np.floor((Nt - 1) / 2) + 1)\n",
    "\n",
    "dKx = Kx[1] - Kx[0]\n",
    "dKy = Ky[1] - Ky[0]\n",
    "dW = w[1] - w[0] \n",
    "\n",
    "Norm = dKx * dKy * dW\n",
    "\n",
    "# Get power spectra\n",
    "Spectrum_raw = fftshift(fftn(eta) / np.prod(eta.shape))\n",
    "power_Spectrum = np.abs(Spectrum_raw / Norm)**2"
   ]
  },
  {
   "cell_type": "code",
   "execution_count": 8,
   "id": "1c160185",
   "metadata": {},
   "outputs": [],
   "source": [
    "def plot_3d_as_2d(x, y, z, radial_filter=False, extent=None, ax=None, aspect='auto', colorbar=True, cb_label='', data_min=None, data_max=None, cmap='viridis'):\n",
    "    dx = x[1]-x[0]\n",
    "    dy = y[1]-y[0]\n",
    "    if radial_filter:\n",
    "        filt = get_radial_filter(x, y)\n",
    "    else:\n",
    "        filt = 1\n",
    "    if ax is None:\n",
    "        fig, ax = plt.subplots(figsize=(4,4))\n",
    "    sh = ax.imshow((filt*z).T, origin='lower', extent=(x[0]-dx//2, x[-1]+dx//2, y[0]-dy//2, y[-1]+dy//2 ), aspect=aspect, interpolation=None, vmin=data_min, vmax=data_max, cmap=cmap)\n",
    "    if colorbar:\n",
    "        bar = plt.colorbar(sh, ax=ax, label=cb_label)\n",
    "    if not extent is None:\n",
    "        ax.set_xlim(extent[0], extent[1])\n",
    "        ax.set_ylim(extent[2], extent[3])\n",
    "    return ax"
   ]
  },
  {
   "cell_type": "code",
   "execution_count": 9,
   "id": "e520af7f",
   "metadata": {},
   "outputs": [],
   "source": [
    "def plot_kx_ky_spec(kx, ky, spec, radial_filter=False, extent=None, ax=None, colorbar=True, spec_min=None, spec_max=None, cmap='viridis'):    \n",
    "    if not spec_min is None:\n",
    "        data = np.where(spec<spec_min, spec_min, spec)\n",
    "    if not spec_max is None:\n",
    "        data = np.where(spec>spec_max, spec_max, spec)\n",
    "    ax = plot_3d_as_2d(kx, ky, spec, radial_filter, extent, ax, aspect=1, colorbar=colorbar, data_min=spec_min, data_max=spec_max, cmap=cmap)\n",
    "    ax.set_xlabel(r'$k_x~[\\mathrm{rad~m}^{-1}]$') \n",
    "    ax.set_ylabel(r'$k_y~[\\mathrm{rad~m}^{-1}]$')\n",
    "    return ax"
   ]
  },
  {
   "cell_type": "code",
   "execution_count": 10,
   "id": "e29a7742",
   "metadata": {},
   "outputs": [],
   "source": [
    "def plot_w_slice(at_w, extent, ax=None, dB=None, vmin=None, save=False):\n",
    "        '''\n",
    "        plots the integrated kx-ky-spectrum and the integrated k-omega-spectrum\n",
    "        '''\n",
    "        if at_w > 0:\n",
    "            i = np.argmin(np.abs(w[Nt//2:]-at_w))\n",
    "            print(at_w, w[Nt//2+i], i) \n",
    "            plotting_interface.plot_kx_ky_spec(Kx, Ky, power_Spectrum[:,:,Nt//2+i], extent=extent, ax=ax)\n",
    "        else:\n",
    "            i = np.argmin(np.abs(w[:Nt//2]-at_w))\n",
    "            print(at_w, w[i], i) \n",
    "            plotting_interface.plot_kx_ky_spec(Kx, Ky, power_Spectrum[:,:,Nt//2+i], extent=extent, ax=ax)"
   ]
  },
  {
   "cell_type": "code",
   "execution_count": 31,
   "id": "41b4c711",
   "metadata": {},
   "outputs": [],
   "source": [
    "at_w = 0.8\n",
    "i = np.argmin(np.abs(w[Nt//2:]-at_w))"
   ]
  },
  {
   "cell_type": "code",
   "execution_count": 32,
   "id": "3c67f8b8",
   "metadata": {},
   "outputs": [],
   "source": [
    "# Flatten the array and get the indices of the sorted values\n",
    "flat_indices = np.argsort(power_Spectrum[:,:,Nt//2+i].flatten())[::-1]\n",
    "\n",
    "# Take the top 20 indices\n",
    "top_20_indices = flat_indices[:50]\n",
    "\n",
    "# Convert flat indices to 2D indices\n",
    "top_20_indices_2d = np.unravel_index(top_20_indices, power_Spectrum[:,:,Nt//2+i].shape)\n",
    "\n",
    "kx_ind, ky_ind = top_20_indices_2d[0], top_20_indices_2d[1]"
   ]
  },
  {
   "cell_type": "code",
   "execution_count": 33,
   "id": "c382194e",
   "metadata": {},
   "outputs": [
    {
     "name": "stdout",
     "output_type": "stream",
     "text": [
      "0.8 0.8006578727045026 115\n"
     ]
    },
    {
     "data": {
      "text/plain": [
       "<matplotlib.collections.PathCollection at 0x2a2fa503070>"
      ]
     },
     "execution_count": 33,
     "metadata": {},
     "output_type": "execute_result"
    },
    {
     "data": {
      "image/png": "[encoded data removed]",
      "text/plain": [
       "<Figure size 288x288 with 1 Axes>"
      ]
     },
     "metadata": {
      "needs_background": "light"
     },
     "output_type": "display_data"
    }
   ],
   "source": [
    "plot_w_slice(at_w, extent = [-0.25,0.25, -0.25, 0.25], ax=None, dB=None, vmin=None, save=False)\n",
    "\n",
    "plt.scatter(Kx[kx_ind], Ky[ky_ind], color = 'red')"
   ]
  },
  {
   "cell_type": "code",
   "execution_count": 210,
   "id": "7bfa8e1c",
   "metadata": {},
   "outputs": [],
   "source": [
    "def felip(x, a, b):\n",
    "    return np.sqrt(b**2 * (1-x**2/b**2))"
   ]
  },
  {
   "cell_type": "code",
   "execution_count": 320,
   "id": "21a85b50",
   "metadata": {},
   "outputs": [],
   "source": [
    "def fit_elipse(at_w):\n",
    "    '''Slices the Spectrum at_w and then fits an ellise to the points\n",
    "\n",
    "    Input : at_w  location of the omgea slice (positive)\n",
    "    \n",
    "    Output : x_values  ellipse fitting x vals\n",
    "             y_values  ellipse fitting y vals'''\n",
    "    \n",
    "    ## Find the rough Triplet value points \n",
    "    i = np.argmin(np.abs(w[Nt//2:]-at_w))\n",
    "    flat_indices = np.argsort(power_Spectrum[:,:,Nt//2+i].flatten())[::-1]\n",
    "    top_indices = flat_indices[:50] # Take the top 20 indices\n",
    "    top_indices_2d = np.unravel_index(top_indices, power_Spectrum[:,:,Nt//2+i].shape)\n",
    "    kx_ind, ky_ind = top_indices_2d[0], top_indices_2d[1]\n",
    "    \n",
    "    triplet_x = Kx[kx_ind]\n",
    "    triplet_y = Ky[ky_ind]\n",
    "    \n",
    "    ### Perform Elipse fitting ###\n",
    "    \n",
    "    # Curve fit when there's less than 5 negative ky values (ie not a circle)\n",
    "    cond = (triplet_y < 0)\n",
    "    if len(triplet_y[cond]) < 5:\n",
    "        \n",
    "        # perform fitting\n",
    "        pars0 = (0.2, 0.2)\n",
    "        ind = (triplet_y > 0)\n",
    "        popt, pcov = curve_fit(felip, triplet_x[ind], triplet_y[ind], absolute_sigma=True, p0=pars0)\n",
    "\n",
    "        # extract best-fit parameter and its error\n",
    "        a_opt = popt[0]\n",
    "        b_opt = popt[1]\n",
    "\n",
    "        # creating x interval to include in y fit\n",
    "        x = np.linspace(-0.2, 0.2, 100)\n",
    "        y_fit = felip(x, *popt)\n",
    "        \n",
    "        # Find the indices two minimum values of y_fit\n",
    "        min_indices = np.argsort(y_fit)[:2]\n",
    "\n",
    "        ellipse_x = x[np.min(min_indices):np.max(min_indices)+1]\n",
    "        ellipse_y = y_fit[np.min(min_indices):np.max(min_indices)+1]\n",
    "        \n",
    "        return ellipse_x, ellipse_y\n",
    "    \n",
    "    else:\n",
    "        \n",
    "        x = triplet_x\n",
    "        y = triplet_y\n",
    "\n",
    "        A = np.stack([x**2, x * y, y**2, x, y]).T\n",
    "        b = np.ones_like(x)\n",
    "        L = np.linalg.lstsq(A, b, rcond=None)[0].squeeze()\n",
    "\n",
    "        xlin = np.linspace(-0.3, 0.3, 50)\n",
    "        ylin = np.linspace(-0.3, 0.3, 50)\n",
    "        X, Y = np.meshgrid(xlin, ylin)\n",
    "\n",
    "        Z = L[0]*X**2 + L[1]*X*Y + L[2]*Y**2 + L[3]*X + L[4]*Y\n",
    "        \n",
    "        # Coordinates on the fitted curve\n",
    "        contour_levels = [1]\n",
    "        contour_lines = plt.contour(X, Y, Z, contour_levels, colors='red')\n",
    "        contour_points = contour_lines.collections[0].get_paths()[0]\n",
    "        coordinates_on_curve = contour_points.vertices\n",
    "        \n",
    "        plt.close()\n",
    "\n",
    "        # Fitted curve full ellipse\n",
    "        ellipse_x_full = coordinates_on_curve[:, 0]\n",
    "        ellipse_y_full = coordinates_on_curve[:, 1]\n",
    "        \n",
    "        cond1 = (ellipse_y_full > 0)\n",
    "        ellipse_x = ellipse_x_full[cond1]\n",
    "        ellipse_y = ellipse_y_full[cond1]\n",
    "\n",
    "        \n",
    "        return ellipse_x, ellipse_y"
   ]
  },
  {
   "cell_type": "code",
   "execution_count": 307,
   "id": "996390d9",
   "metadata": {},
   "outputs": [],
   "source": [
    "def felip(x, a, b):\n",
    "    return np.sqrt(np.abs(b**2 * (1-(x**2)/(b**2))))"
   ]
  },
  {
   "cell_type": "code",
   "execution_count": 308,
   "id": "716bd477",
   "metadata": {},
   "outputs": [],
   "source": [
    "at_w = 1.2"
   ]
  },
  {
   "cell_type": "code",
   "execution_count": 309,
   "id": "3607e3e5",
   "metadata": {},
   "outputs": [],
   "source": [
    "## Find the rough Triplet value points \n",
    "i = np.argmin(np.abs(w[Nt//2:]-at_w))\n",
    "flat_indices = np.argsort(power_Spectrum[:,:,Nt//2+i].flatten())[::-1]\n",
    "top_indices = flat_indices[:50] # Take the top 50 indices\n",
    "top_indices_2d = np.unravel_index(top_indices, power_Spectrum[:,:,Nt//2+i].shape)\n",
    "kx_ind, ky_ind = top_indices_2d[0], top_indices_2d[1]\n",
    "    \n",
    "triplet_x = Kx[kx_ind]\n",
    "triplet_y = Ky[ky_ind]"
   ]
  },
  {
   "cell_type": "code",
   "execution_count": 310,
   "id": "c2c66661",
   "metadata": {},
   "outputs": [],
   "source": [
    "# Perform Elipse fitting\n",
    "cond = (triplet_y < 0)\n",
    "\n",
    "if len(triplet_y[cond]) < 5:\n",
    "    print(\"perform yoke\")"
   ]
  },
  {
   "cell_type": "code",
   "execution_count": 324,
   "id": "4db8c9de",
   "metadata": {},
   "outputs": [
    {
     "data": {
      "image/png": "[encoded data removed]",
      "text/plain": [
       "<Figure size 432x288 with 1 Axes>"
      ]
     },
     "metadata": {
      "needs_background": "light"
     },
     "output_type": "display_data"
    }
   ],
   "source": [
    "# perform fitting\n",
    "pars0 = (0.2, 0.2)\n",
    "\n",
    "ind = (triplet_y > 0)\n",
    "\n",
    "popt, pcov = curve_fit(felip, triplet_x[ind], triplet_y[ind], absolute_sigma=True, p0=pars0)\n",
    "\n",
    "# extract best-fit parameter and its error\n",
    "a_opt = popt[0]\n",
    "b_opt = popt[1]\n",
    "\n",
    "# plot data\n",
    "plt.errorbar(triplet_x[ind], triplet_y[ind], yerr=0, fmt=\".\", color = 'black', label = 'data')\n",
    "\n",
    "# creating x interval to include in y fit\n",
    "x = np.linspace(-0.2, 0.2, 100)\n",
    "y_fit = felip(x, *popt)\n",
    "plt.plot(x, y_fit, color=\"red\", label=\"best fit\")\n",
    "\n",
    "\n",
    "plt.grid(True)\n",
    "plt.xlabel(\"x data\")\n",
    "plt.ylabel(\"y data\")\n",
    "\n",
    "#plt.plot(x[min_indices[0]:min_indices[1]+1], y_fit[min_indices[0]:min_indices[1]+1], color=\"blue\", label=\"best fit\")\n",
    "\n",
    "\n",
    "plt.plot(x8, y8, color=\"blue\", label=\"best fit\")\n",
    "\n",
    "\n",
    "plt.xlim(-0.25, 0.25)\n",
    "plt.ylim(-0.25, 0.25)\n",
    "plt.legend();"
   ]
  },
  {
   "cell_type": "code",
   "execution_count": 312,
   "id": "7b3527ac",
   "metadata": {},
   "outputs": [],
   "source": [
    "# Find the indices corresponding to the two minimum values of y_fit\n",
    "min_indices = np.argsort(y_fit)[:2]\n",
    "\n",
    "# Extract the corresponding x and y_fit values\n",
    "#x_min_neg = x[]"
   ]
  },
  {
   "cell_type": "code",
   "execution_count": 313,
   "id": "17319c02",
   "metadata": {},
   "outputs": [
    {
     "data": {
      "text/plain": [
       "array([90,  9], dtype=int64)"
      ]
     },
     "execution_count": 313,
     "metadata": {},
     "output_type": "execute_result"
    }
   ],
   "source": [
    "min_indices"
   ]
  },
  {
   "cell_type": "code",
   "execution_count": 314,
   "id": "af3efb77",
   "metadata": {},
   "outputs": [
    {
     "data": {
      "text/plain": [
       "(-0.25, 0.25)"
      ]
     },
     "execution_count": 314,
     "metadata": {},
     "output_type": "execute_result"
    },
    {
     "data": {
      "image/png": "[encoded data removed]",
      "text/plain": [
       "<Figure size 432x288 with 1 Axes>"
      ]
     },
     "metadata": {
      "needs_background": "light"
     },
     "output_type": "display_data"
    }
   ],
   "source": [
    "plt.plot(x[np.min(min_indices):np.max(min_indices)+1], y_fit[np.min(min_indices):np.max(min_indices)+1], color=\"red\", label=\"best fit\")\n",
    "\n",
    "\n",
    "plt.grid(True)\n",
    "plt.xlabel(\"x data\")\n",
    "plt.ylabel(\"y data\")\n",
    "\n",
    "\n",
    "plt.xlim(-0.25, 0.25)\n",
    "plt.ylim(-0.25, 0.25)"
   ]
  },
  {
   "cell_type": "code",
   "execution_count": 315,
   "id": "fb8591fe",
   "metadata": {},
   "outputs": [
    {
     "name": "stdout",
     "output_type": "stream",
     "text": [
      "1.2 1.1975056878710821 172\n"
     ]
    },
    {
     "data": {
      "text/plain": [
       "[<matplotlib.lines.Line2D at 0x2a2fd572550>]"
      ]
     },
     "execution_count": 315,
     "metadata": {},
     "output_type": "execute_result"
    },
    {
     "data": {
      "image/png": "[encoded data removed]",
      "text/plain": [
       "<Figure size 288x288 with 1 Axes>"
      ]
     },
     "metadata": {
      "needs_background": "light"
     },
     "output_type": "display_data"
    }
   ],
   "source": [
    "plot_w_slice(at_w, extent = [-0.25,0.25, -0.25, 0.25], ax=None, dB=None, vmin=None, save=False)\n",
    "\n",
    "plt.plot(x, y_fit, color=\"red\", label=\"best fit\")"
   ]
  },
  {
   "cell_type": "code",
   "execution_count": 321,
   "id": "edd076aa",
   "metadata": {},
   "outputs": [],
   "source": [
    "x8, y8 = fit_elipse(at_w)"
   ]
  },
  {
   "cell_type": "code",
   "execution_count": 322,
   "id": "f8e70b85",
   "metadata": {},
   "outputs": [
    {
     "data": {
      "text/plain": [
       "(array([-0.16902373, -0.16608926, -0.16530612, -0.1622654 , -0.15768331,\n",
       "        -0.15306122, -0.15237028, -0.14595773, -0.14081633, -0.1386826 ,\n",
       "        -0.13022562, -0.12857143, -0.12035019, -0.11632653, -0.10888262,\n",
       "        -0.10408163, -0.0953273 , -0.09183673, -0.07959184, -0.07886399,\n",
       "        -0.06734694, -0.05716937, -0.05510204, -0.04285714, -0.03061224,\n",
       "        -0.02212471, -0.01836735, -0.00612245,  0.00612245,  0.01836735,\n",
       "         0.03061224,  0.04285714,  0.04401971,  0.05510204,  0.06734694,\n",
       "         0.07591257,  0.07959184,  0.09183673,  0.09479039,  0.10408163,\n",
       "         0.10855704,  0.11632653,  0.11938088,  0.1281418 ,  0.12857143,\n",
       "         0.13504399,  0.14081633,  0.14086508,  0.14528549,  0.14882001,\n",
       "         0.15149331,  0.15306122,  0.15330911,  0.1542548 ,  0.15446755]),\n",
       " array([0.00612245, 0.01836735, 0.02101309, 0.03061224, 0.04285714,\n",
       "        0.05360683, 0.05510204, 0.06734694, 0.07619257, 0.07959184,\n",
       "        0.09183673, 0.09403247, 0.10408163, 0.10863185, 0.11632653,\n",
       "        0.12094372, 0.12857143, 0.1314148 , 0.1403493 , 0.14081633,\n",
       "        0.14774998, 0.15306122, 0.15407734, 0.15911113, 0.16318049,\n",
       "        0.16530612, 0.16619444, 0.16811118, 0.16904088, 0.16895513,\n",
       "        0.16782438, 0.16561797, 0.16530612, 0.16208085, 0.15728907,\n",
       "        0.15306122, 0.15107463, 0.14308211, 0.14081633, 0.13294036,\n",
       "        0.12857143, 0.12009675, 0.11632653, 0.10408163, 0.10339363,\n",
       "        0.09183673, 0.07970487, 0.07959184, 0.06734694, 0.05510204,\n",
       "        0.04285714, 0.03241341, 0.03061224, 0.01836735, 0.00612245]))"
      ]
     },
     "execution_count": 322,
     "metadata": {},
     "output_type": "execute_result"
    }
   ],
   "source": [
    "fit_elipse(at_w)"
   ]
  },
  {
   "cell_type": "code",
   "execution_count": 323,
   "id": "4f0551a9",
   "metadata": {},
   "outputs": [
    {
     "data": {
      "text/plain": [
       "array([0.00612245, 0.01836735, 0.02101309, 0.03061224, 0.04285714,\n",
       "       0.05360683, 0.05510204, 0.06734694, 0.07619257, 0.07959184,\n",
       "       0.09183673, 0.09403247, 0.10408163, 0.10863185, 0.11632653,\n",
       "       0.12094372, 0.12857143, 0.1314148 , 0.1403493 , 0.14081633,\n",
       "       0.14774998, 0.15306122, 0.15407734, 0.15911113, 0.16318049,\n",
       "       0.16530612, 0.16619444, 0.16811118, 0.16904088, 0.16895513,\n",
       "       0.16782438, 0.16561797, 0.16530612, 0.16208085, 0.15728907,\n",
       "       0.15306122, 0.15107463, 0.14308211, 0.14081633, 0.13294036,\n",
       "       0.12857143, 0.12009675, 0.11632653, 0.10408163, 0.10339363,\n",
       "       0.09183673, 0.07970487, 0.07959184, 0.06734694, 0.05510204,\n",
       "       0.04285714, 0.03241341, 0.03061224, 0.01836735, 0.00612245])"
      ]
     },
     "execution_count": 323,
     "metadata": {},
     "output_type": "execute_result"
    }
   ],
   "source": [
    "y8"
   ]
  },
  {
   "cell_type": "code",
   "execution_count": null,
   "id": "8d628f8a",
   "metadata": {},
   "outputs": [],
   "source": []
  },
  {
   "cell_type": "code",
   "execution_count": null,
   "id": "a0cac48a",
   "metadata": {},
   "outputs": [],
   "source": []
  }
 ],
 "metadata": {
  "kernelspec": {
   "display_name": "Python 3",
   "language": "python",
   "name": "python3"
  },
  "language_info": {
   "codemirror_mode": {
    "name": "ipython",
    "version": 3
   },
   "file_extension": ".py",
   "mimetype": "text/x-python",
   "name": "python",
   "nbconvert_exporter": "python",
   "pygments_lexer": "ipython3",
   "version": "3.8.8"
  }
 },
 "nbformat": 4,
 "nbformat_minor": 5
}
