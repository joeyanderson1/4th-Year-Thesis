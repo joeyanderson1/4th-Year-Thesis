{
 "cells": [
  {
   "cell_type": "code",
   "execution_count": 1,
   "id": "cfff316d",
   "metadata": {},
   "outputs": [],
   "source": [
    "import sys\n",
    "sys.path.append(\"C:\\\\Users\\josep\\Documents\\Anaconda\\pkgs\")\n",
    "import help_tools\n",
    "import wave_tools\n",
    "import cv2\n",
    "import h5py\n",
    "from matplotlib import cm\n",
    "import radar_tools\n",
    "import numpy as np\n",
    "from wave_tools import ConstructWave, surface_core, peak_tracking\n",
    "from wave_tools import fft_interpolate, fft_interface, Spectrum\n",
    "from wave_tools import SpectralAnalysis\n",
    "import matplotlib.pyplot as plt\n",
    "from help_tools import plotting_interface\n",
    "from wave_tools import surface_core, fft_interface, dispersionRelation\n",
    "from help_tools import plotting_interface, polar_coordinates, convolutional_filters, moving_average\n",
    "from scipy.optimize import least_squares\n",
    "from scipy.optimize import minimize\n",
    "from scipy.optimize import curve_fit\n",
    "from matplotlib.ticker import LinearLocator, FormatStrFormatter\n",
    "from tqdm import tqdm\n",
    "from mpl_toolkits.mplot3d import Axes3D\n",
    "from scipy.special import gamma, gammainc\n",
    "from scipy.fftpack import fftn, fftshift\n",
    "from scipy.signal import find_peaks, peak_widths, peak_prominences\n",
    "import matplotlib.patches as mpatches\n",
    "import matplotlib.lines as mlines"
   ]
  },
  {
   "cell_type": "code",
   "execution_count": 3,
   "id": "8544e3ac",
   "metadata": {},
   "outputs": [],
   "source": [
    "sys.path.append(\"C:\\\\Users\\josep\\Desktop\\PHYC40900_Project TP\")\n",
    "f = h5py.File('C:\\\\Users\\josep\\Desktop\\PHYC40900_Project TP\\Real Data Sets\\First Tel-Aviv data', 'r')"
   ]
  },
  {
   "cell_type": "code",
   "execution_count": 4,
   "id": "45369a95",
   "metadata": {},
   "outputs": [],
   "source": [
    "x = f.get('x')\n",
    "y = f.get('y')\n",
    "t = f.get('t')\n",
    "wamos = f.get('wamos')\n",
    "\n",
    "x = np.array(x)\n",
    "y = np.array(y)\n",
    "t = np.array(t)\n",
    "wamos = np.array(wamos)"
   ]
  },
  {
   "cell_type": "code",
   "execution_count": 5,
   "id": "979254de",
   "metadata": {},
   "outputs": [
    {
     "data": {
      "text/plain": [
       "0.01269330365086785"
      ]
     },
     "execution_count": 5,
     "metadata": {},
     "output_type": "execute_result"
    }
   ],
   "source": [
    "dx = x[1] - x[0]\n",
    "dy = y[1] - y[0]\n",
    "dt = t[1] - t[0]\n",
    "dk = 2*np.pi/(dx*min(wamos.shape[0], wamos.shape[1]))\n",
    "dk"
   ]
  },
  {
   "cell_type": "code",
   "execution_count": 6,
   "id": "55c9fa58",
   "metadata": {},
   "outputs": [
    {
     "data": {
      "text/plain": [
       "(132, 132, 366)"
      ]
     },
     "execution_count": 6,
     "metadata": {},
     "output_type": "execute_result"
    }
   ],
   "source": [
    "eta = np.transpose(wamos, (1, 2, 0))\n",
    "eta.shape"
   ]
  },
  {
   "cell_type": "code",
   "execution_count": 7,
   "id": "873c03f0",
   "metadata": {},
   "outputs": [],
   "source": [
    "Nx, Ny, Nt = eta.shape\n",
    "    \n",
    "Kx = (2 * np.pi * 1 / dx / Nx) * np.arange(-np.ceil((Nx - 1) / 2), np.floor((Nx - 1) / 2) + 1) \n",
    "Ky = (2 * np.pi * 1 / dy / Ny) * np.arange(-np.ceil((Ny - 1) / 2), np.floor((Ny - 1) / 2) + 1) \n",
    "w = (2 * np.pi * 1 / dt / Nt) * np.arange(-np.ceil((Nt - 1) / 2), np.floor((Nt - 1) / 2) + 1)\n",
    "\n",
    "dKx = Kx[1] - Kx[0]\n",
    "dKy = Ky[1] - Ky[0]\n",
    "dW = w[1] - w[0] \n",
    "\n",
    "Norm = dKx * dKy * dW\n",
    "\n",
    "# Get power spectra\n",
    "Spectrum_raw = fftshift(fftn(eta) / np.prod(eta.shape))\n",
    "power_Spectrum = np.abs(Spectrum_raw / Norm)**2"
   ]
  },
  {
   "cell_type": "code",
   "execution_count": 8,
   "id": "29ebd8c3",
   "metadata": {},
   "outputs": [],
   "source": [
    "def plot_3d_as_2d(x, y, z, radial_filter=False, extent=None, ax=None, aspect='auto', colorbar=True, cb_label='', data_min=None, data_max=None, cmap='viridis'):\n",
    "    dx = x[1]-x[0]\n",
    "    dy = y[1]-y[0]\n",
    "    if radial_filter:\n",
    "        filt = get_radial_filter(x, y)\n",
    "    else:\n",
    "        filt = 1\n",
    "    if ax is None:\n",
    "        fig, ax = plt.subplots(figsize=(4,4))\n",
    "    sh = ax.imshow((filt*z).T, origin='lower', extent=(x[0]-dx//2, x[-1]+dx//2, y[0]-dy//2, y[-1]+dy//2 ), aspect=aspect, interpolation=None, vmin=data_min, vmax=data_max, cmap=cmap)\n",
    "    if colorbar:\n",
    "        bar = plt.colorbar(sh, ax=ax, label=cb_label)\n",
    "    if not extent is None:\n",
    "        ax.set_xlim(extent[0], extent[1])\n",
    "        ax.set_ylim(extent[2], extent[3])\n",
    "    return ax"
   ]
  },
  {
   "cell_type": "code",
   "execution_count": 9,
   "id": "6c9a15a7",
   "metadata": {},
   "outputs": [],
   "source": [
    "def plot_kx_ky_spec(kx, ky, spec, radial_filter=False, extent=None, ax=None, colorbar=True, spec_min=None, spec_max=None, cmap='viridis'):    \n",
    "    if not spec_min is None:\n",
    "        data = np.where(spec<spec_min, spec_min, spec)\n",
    "    if not spec_max is None:\n",
    "        data = np.where(spec>spec_max, spec_max, spec)\n",
    "    ax = plot_3d_as_2d(kx, ky, spec, radial_filter, extent, ax, aspect=1, colorbar=colorbar, data_min=spec_min, data_max=spec_max, cmap=cmap)\n",
    "    ax.set_xlabel(r'$k_x~[\\mathrm{rad~m}^{-1}]$') \n",
    "    ax.set_ylabel(r'$k_y~[\\mathrm{rad~m}^{-1}]$')\n",
    "    return ax"
   ]
  },
  {
   "cell_type": "code",
   "execution_count": 10,
   "id": "1d102184",
   "metadata": {},
   "outputs": [],
   "source": [
    "def plot_w_slice(at_w, extent, ax=None, dB=None, vmin=None, save=False):\n",
    "        '''\n",
    "        plots the integrated kx-ky-spectrum and the integrated k-omega-spectrum\n",
    "        '''\n",
    "        if at_w > 0:\n",
    "            i = np.argmin(np.abs(w[Nt//2:]-at_w))\n",
    "            print(at_w, w[Nt//2+i], i) \n",
    "            plotting_interface.plot_kx_ky_spec(Kx, Ky, power_Spectrum[:,:,Nt//2+i], extent=extent, ax=ax)\n",
    "        else:\n",
    "            i = np.argmin(np.abs(w[:Nt//2]-at_w))\n",
    "            print(at_w, w[i], i) \n",
    "            plotting_interface.plot_kx_ky_spec(Kx, Ky, power_Spectrum[:,:,Nt//2+i], extent=extent, ax=ax)"
   ]
  },
  {
   "cell_type": "code",
   "execution_count": 31,
   "id": "ec96de8e",
   "metadata": {},
   "outputs": [],
   "source": [
    "at_w = 0.8\n",
    "i = np.argmin(np.abs(w[Nt//2:]-at_w))"
   ]
  },
  {
   "cell_type": "code",
   "execution_count": 32,
   "id": "c0ea507e",
   "metadata": {},
   "outputs": [],
   "source": [
    "# Flatten the array and get the indices of the sorted values\n",
    "flat_indices = np.argsort(power_Spectrum[:,:,Nt//2+i].flatten())[::-1]\n",
    "\n",
    "# Take the top 20 indices\n",
    "top_20_indices = flat_indices[:50]\n",
    "\n",
    "# Convert flat indices to 2D indices\n",
    "top_20_indices_2d = np.unravel_index(top_20_indices, power_Spectrum[:,:,Nt//2+i].shape)\n",
    "\n",
    "kx_ind, ky_ind = top_20_indices_2d[0], top_20_indices_2d[1]"
   ]
  },
  {
   "cell_type": "code",
   "execution_count": 33,
   "id": "6b842359",
   "metadata": {},
   "outputs": [
    {
     "name": "stdout",
     "output_type": "stream",
     "text": [
      "0.8 0.8006578727045026 115\n"
     ]
    },
    {
     "data": {
      "text/plain": [
       "<matplotlib.collections.PathCollection at 0x2a2fa503070>"
      ]
     },
     "execution_count": 33,
     "metadata": {},
     "output_type": "execute_result"
    },
    {
     "data": {
      "image/png": "[encoded data removed]",
      "text/plain": [
       "<Figure size 288x288 with 1 Axes>"
      ]
     },
     "metadata": {
      "needs_background": "light"
     },
     "output_type": "display_data"
    }
   ],
   "source": [
    "plot_w_slice(at_w, extent = [-0.25,0.25, -0.25, 0.25], ax=None, dB=None, vmin=None, save=False)\n",
    "\n",
    "plt.scatter(Kx[kx_ind], Ky[ky_ind], color = 'red')"
   ]
  },
  {
   "cell_type": "code",
   "execution_count": 50,
   "id": "d266b830",
   "metadata": {},
   "outputs": [],
   "source": [
    "def felip(x, a, b):\n",
    "    return np.sqrt(b**2 * (1-x**2/b**2))"
   ]
  },
  {
   "cell_type": "code",
   "execution_count": 51,
   "id": "7fd1b94b",
   "metadata": {},
   "outputs": [
    {
     "ename": "SyntaxError",
     "evalue": "unexpected EOF while parsing (<ipython-input-51-f22385743b59>, line 24)",
     "output_type": "error",
     "traceback": [
      "\u001b[1;36m  File \u001b[1;32m\"<ipython-input-51-f22385743b59>\"\u001b[1;36m, line \u001b[1;32m24\u001b[0m\n\u001b[1;33m    \u001b[0m\n\u001b[1;37m    ^\u001b[0m\n\u001b[1;31mSyntaxError\u001b[0m\u001b[1;31m:\u001b[0m unexpected EOF while parsing\n"
     ]
    }
   ],
   "source": [
    "def fit_elipse(at_w):\n",
    "    '''Slices the Spectrum at_w and then fits an ellise to the points\n",
    "\n",
    "    Input : at_w  location of the omgea slice (positive)\n",
    "    \n",
    "    Output : x_values  ellipse fitting x vals\n",
    "             y_values  ellipse fitting y vals'''\n",
    "    \n",
    "    ## Find the rough Triplet value points \n",
    "    i = np.argmin(np.abs(w[Nt//2:]-at_w))\n",
    "    flat_indices = np.argsort(power_Spectrum[:,:,Nt//2+i].flatten())[::-1]\n",
    "    top_indices = flat_indices[:50] # Take the top 50 indices\n",
    "    top_indices_2d = np.unravel_index(top_indices, power_Spectrum[:,:,Nt//2+i].shape)\n",
    "    kx_ind, ky_ind = top_indices_2d[0], top_indices_2d[1]\n",
    "    \n",
    "    triplet_x = Kx[kx_ind]\n",
    "    triplet_y = Ky[ky_ind]\n",
    "    \n",
    "    # Perform Elipse fitting\n",
    "    # Curve fit when there's less than 5 negative ky values (ie not a circle)\n",
    "    cond = (triplet_y < 0)\n",
    "    if len(triplet_y[cond]) < 5:\n",
    "    \n",
    "    "
   ]
  },
  {
   "cell_type": "code",
   "execution_count": 52,
   "id": "683b7a44",
   "metadata": {},
   "outputs": [],
   "source": [
    "at_w = 0.8"
   ]
  },
  {
   "cell_type": "code",
   "execution_count": 53,
   "id": "0ef4dd58",
   "metadata": {},
   "outputs": [],
   "source": [
    "## Find the rough Triplet value points \n",
    "i = np.argmin(np.abs(w[Nt//2:]-at_w))\n",
    "flat_indices = np.argsort(power_Spectrum[:,:,Nt//2+i].flatten())[::-1]\n",
    "top_indices = flat_indices[:50] # Take the top 50 indices\n",
    "top_indices_2d = np.unravel_index(top_indices, power_Spectrum[:,:,Nt//2+i].shape)\n",
    "kx_ind, ky_ind = top_indices_2d[0], top_indices_2d[1]\n",
    "    \n",
    "triplet_x = Kx[kx_ind]\n",
    "triplet_y = Ky[ky_ind]"
   ]
  },
  {
   "cell_type": "code",
   "execution_count": 54,
   "id": "fee5f528",
   "metadata": {},
   "outputs": [
    {
     "name": "stdout",
     "output_type": "stream",
     "text": [
      "perform yoke\n"
     ]
    }
   ],
   "source": [
    "# Perform Elipse fitting\n",
    "cond = (triplet_y < 0)\n",
    "\n",
    "if len(triplet_y[cond]) < 5:\n",
    "    print(\"perform yoke\")"
   ]
  },
  {
   "cell_type": "code",
   "execution_count": 55,
   "id": "9f0d7020",
   "metadata": {},
   "outputs": [
    {
     "name": "stderr",
     "output_type": "stream",
     "text": [
      "<ipython-input-50-58abfd6f0c8b>:2: RuntimeWarning: invalid value encountered in sqrt\n",
      "  return np.sqrt(b**2 * (1-x**2/b**2))\n"
     ]
    },
    {
     "data": {
      "image/png": "[encoded data removed]",
      "text/plain": [
       "<Figure size 432x288 with 1 Axes>"
      ]
     },
     "metadata": {
      "needs_background": "light"
     },
     "output_type": "display_data"
    }
   ],
   "source": [
    "# perform fitting\n",
    "pars0 = (np.max(triplet_x), np.max(triplet_x))\n",
    "\n",
    "ind = (triplet_y > 0)\n",
    "\n",
    "popt, pcov = curve_fit(felip, triplet_x[ind], triplet_y[ind], absolute_sigma=True, p0=pars0)\n",
    "\n",
    "# extract best-fit parameter and its error\n",
    "a_opt = popt[0]\n",
    "b_opt = popt[1]\n",
    "\n",
    "# plot data\n",
    "plt.errorbar(triplet_x[ind], triplet_y[ind], yerr=0, fmt=\".\", color = 'black', label = 'data')\n",
    "\n",
    "# creating x interval to include in y fit\n",
    "x = np.linspace(-0.2, max( triplet_x), 100)\n",
    "y_fit = felip(x, *popt)\n",
    "plt.plot(x, y_fit, color=\"red\", label=\"best fit\")\n",
    "\n",
    "\n",
    "plt.grid(True)\n",
    "plt.xlabel(\"x data\")\n",
    "plt.ylabel(\"y data\")\n",
    "\n",
    "\n",
    "plt.xlim(-0.25, 0.25)\n",
    "plt.ylim(-0.25, 0.25)\n",
    "plt.legend();"
   ]
  },
  {
   "cell_type": "code",
   "execution_count": null,
   "id": "691518cb",
   "metadata": {},
   "outputs": [],
   "source": []
  },
  {
   "cell_type": "code",
   "execution_count": null,
   "id": "5c4e3b79",
   "metadata": {},
   "outputs": [],
   "source": []
  },
  {
   "cell_type": "code",
   "execution_count": null,
   "id": "3ebe8665",
   "metadata": {},
   "outputs": [],
   "source": []
  },
  {
   "cell_type": "code",
   "execution_count": null,
   "id": "196fc82f",
   "metadata": {},
   "outputs": [],
   "source": []
  },
  {
   "cell_type": "code",
   "execution_count": null,
   "id": "61424816",
   "metadata": {},
   "outputs": [],
   "source": []
  }
 ],
 "metadata": {
  "kernelspec": {
   "display_name": "Python 3",
   "language": "python",
   "name": "python3"
  },
  "language_info": {
   "codemirror_mode": {
    "name": "ipython",
    "version": 3
   },
   "file_extension": ".py",
   "mimetype": "text/x-python",
   "name": "python",
   "nbconvert_exporter": "python",
   "pygments_lexer": "ipython3",
   "version": "3.8.8"
  }
 },
 "nbformat": 4,
 "nbformat_minor": 5
}
