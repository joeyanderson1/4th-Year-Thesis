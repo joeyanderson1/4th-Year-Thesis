{
 "cells": [
  {
   "cell_type": "code",
   "execution_count": 4,
   "id": "06bc06c3",
   "metadata": {},
   "outputs": [
    {
     "name": "stdout",
     "output_type": "stream",
     "text": [
      "Requirement already satisfied: h5py in c:\\users\\josep\\documents\\anaconda\\lib\\site-packages (2.10.0)\n",
      "Collecting h5py\n",
      "  Downloading h5py-3.10.0-cp38-cp38-win_amd64.whl (2.7 MB)\n",
      "Requirement already satisfied: numpy>=1.17.3 in c:\\users\\josep\\documents\\anaconda\\lib\\site-packages (from h5py) (1.24.3)\n",
      "Installing collected packages: h5py\n",
      "  Attempting uninstall: h5py\n",
      "    Found existing installation: h5py 2.10.0\n",
      "    Uninstalling h5py-2.10.0:\n",
      "      Successfully uninstalled h5py-2.10.0\n",
      "Successfully installed h5py-3.10.0\n",
      "Note: you may need to restart the kernel to use updated packages.\n"
     ]
    }
   ],
   "source": [
    "pip install --upgrade h5py"
   ]
  },
  {
   "cell_type": "code",
   "execution_count": 1,
   "id": "698ebfa1",
   "metadata": {},
   "outputs": [],
   "source": [
    "# https://www.christopherlovell.co.uk/blog/2016/04/27/h5py-intro.html"
   ]
  },
  {
   "cell_type": "code",
   "execution_count": 1,
   "id": "d1577f7a",
   "metadata": {},
   "outputs": [],
   "source": [
    "import h5py\n",
    "import numpy as np\n",
    "import matplotlib.pyplot as plt"
   ]
  },
  {
   "cell_type": "code",
   "execution_count": 62,
   "id": "71b7100d",
   "metadata": {},
   "outputs": [],
   "source": [
    "plt.rcParams['figure.figsize'] = (6.6,4.4)\n",
    "plt.rcParams['font.size'] = 12\n",
    "plt.rcParams['savefig.bbox'] = 'tight'"
   ]
  },
  {
   "cell_type": "code",
   "execution_count": 2,
   "id": "e4afb3b6",
   "metadata": {},
   "outputs": [],
   "source": [
    "f = h5py.File('shearing_curr_res_7.5_dt_1.0_T_600_U_1.0exp(0.2z)+0.05_psi_30_smax_10_0_surf3d.hdf5', 'r')"
   ]
  },
  {
   "cell_type": "code",
   "execution_count": 3,
   "id": "be44d79e",
   "metadata": {},
   "outputs": [
    {
     "data": {
      "text/plain": [
       "['DSV_00',\n",
       " 'DSV_01',\n",
       " 'DSV_02',\n",
       " 'DSV_03',\n",
       " 'DSV_04',\n",
       " 'DSV_05',\n",
       " 'DSV_06',\n",
       " 'U',\n",
       " 'Uk',\n",
       " 'eta',\n",
       " 'k',\n",
       " 'rad_im_10_HH',\n",
       " 'rad_im_10_VV',\n",
       " 'rad_im_28_HH',\n",
       " 'rad_im_28_VV',\n",
       " 'rad_im_45_HH',\n",
       " 'rad_im_45_VV',\n",
       " 't',\n",
       " 'x',\n",
       " 'y',\n",
       " 'z']"
      ]
     },
     "execution_count": 3,
     "metadata": {},
     "output_type": "execute_result"
    }
   ],
   "source": [
    "list(f.keys())"
   ]
  },
  {
   "cell_type": "code",
   "execution_count": 35,
   "id": "5c2ea0a1",
   "metadata": {},
   "outputs": [],
   "source": [
    "k = f.get('k')"
   ]
  },
  {
   "cell_type": "code",
   "execution_count": 37,
   "id": "361e11d2",
   "metadata": {},
   "outputs": [
    {
     "data": {
      "text/plain": [
       "array([0.01  , 0.0105, 0.011 , 0.0115, 0.012 , 0.0125, 0.013 , 0.0135,\n",
       "       0.014 , 0.0145, 0.015 , 0.0155, 0.016 , 0.0165, 0.017 , 0.0175,\n",
       "       0.018 , 0.0185, 0.019 , 0.0195, 0.02  , 0.0205, 0.021 , 0.0215,\n",
       "       0.022 , 0.0225, 0.023 , 0.0235, 0.024 , 0.0245, 0.025 , 0.0255,\n",
       "       0.026 , 0.0265, 0.027 , 0.0275, 0.028 , 0.0285, 0.029 , 0.0295,\n",
       "       0.03  , 0.0305, 0.031 , 0.0315, 0.032 , 0.0325, 0.033 , 0.0335,\n",
       "       0.034 , 0.0345, 0.035 , 0.0355, 0.036 , 0.0365, 0.037 , 0.0375,\n",
       "       0.038 , 0.0385, 0.039 , 0.0395, 0.04  , 0.0405, 0.041 , 0.0415,\n",
       "       0.042 , 0.0425, 0.043 , 0.0435, 0.044 , 0.0445, 0.045 , 0.0455,\n",
       "       0.046 , 0.0465, 0.047 , 0.0475, 0.048 , 0.0485, 0.049 , 0.0495,\n",
       "       0.05  , 0.0505, 0.051 , 0.0515, 0.052 , 0.0525, 0.053 , 0.0535,\n",
       "       0.054 , 0.0545, 0.055 , 0.0555, 0.056 , 0.0565, 0.057 , 0.0575,\n",
       "       0.058 , 0.0585, 0.059 , 0.0595, 0.06  , 0.0605, 0.061 , 0.0615,\n",
       "       0.062 , 0.0625, 0.063 , 0.0635, 0.064 , 0.0645, 0.065 , 0.0655,\n",
       "       0.066 , 0.0665, 0.067 , 0.0675, 0.068 , 0.0685, 0.069 , 0.0695,\n",
       "       0.07  , 0.0705, 0.071 , 0.0715, 0.072 , 0.0725, 0.073 , 0.0735,\n",
       "       0.074 , 0.0745, 0.075 , 0.0755, 0.076 , 0.0765, 0.077 , 0.0775,\n",
       "       0.078 , 0.0785, 0.079 , 0.0795, 0.08  , 0.0805, 0.081 , 0.0815,\n",
       "       0.082 , 0.0825, 0.083 , 0.0835, 0.084 , 0.0845, 0.085 , 0.0855,\n",
       "       0.086 , 0.0865, 0.087 , 0.0875, 0.088 , 0.0885, 0.089 , 0.0895,\n",
       "       0.09  , 0.0905, 0.091 , 0.0915, 0.092 , 0.0925, 0.093 , 0.0935,\n",
       "       0.094 , 0.0945, 0.095 , 0.0955, 0.096 , 0.0965, 0.097 , 0.0975,\n",
       "       0.098 , 0.0985, 0.099 , 0.0995, 0.1   , 0.1005, 0.101 , 0.1015,\n",
       "       0.102 , 0.1025, 0.103 , 0.1035, 0.104 , 0.1045, 0.105 , 0.1055,\n",
       "       0.106 , 0.1065, 0.107 , 0.1075, 0.108 , 0.1085, 0.109 , 0.1095,\n",
       "       0.11  , 0.1105, 0.111 , 0.1115, 0.112 , 0.1125, 0.113 , 0.1135,\n",
       "       0.114 , 0.1145, 0.115 , 0.1155, 0.116 , 0.1165, 0.117 , 0.1175,\n",
       "       0.118 , 0.1185, 0.119 , 0.1195, 0.12  , 0.1205, 0.121 , 0.1215,\n",
       "       0.122 , 0.1225, 0.123 , 0.1235, 0.124 , 0.1245, 0.125 , 0.1255,\n",
       "       0.126 , 0.1265, 0.127 , 0.1275, 0.128 , 0.1285, 0.129 , 0.1295,\n",
       "       0.13  , 0.1305, 0.131 , 0.1315, 0.132 , 0.1325, 0.133 , 0.1335,\n",
       "       0.134 , 0.1345, 0.135 , 0.1355, 0.136 , 0.1365, 0.137 , 0.1375,\n",
       "       0.138 , 0.1385, 0.139 , 0.1395, 0.14  , 0.1405, 0.141 , 0.1415,\n",
       "       0.142 , 0.1425, 0.143 , 0.1435, 0.144 , 0.1445, 0.145 , 0.1455,\n",
       "       0.146 , 0.1465, 0.147 , 0.1475, 0.148 , 0.1485, 0.149 , 0.1495,\n",
       "       0.15  , 0.1505, 0.151 , 0.1515, 0.152 , 0.1525, 0.153 , 0.1535,\n",
       "       0.154 , 0.1545, 0.155 , 0.1555, 0.156 , 0.1565, 0.157 , 0.1575,\n",
       "       0.158 , 0.1585, 0.159 , 0.1595, 0.16  , 0.1605, 0.161 , 0.1615,\n",
       "       0.162 , 0.1625, 0.163 , 0.1635, 0.164 , 0.1645, 0.165 , 0.1655,\n",
       "       0.166 , 0.1665, 0.167 , 0.1675, 0.168 , 0.1685, 0.169 , 0.1695,\n",
       "       0.17  , 0.1705, 0.171 , 0.1715, 0.172 , 0.1725, 0.173 , 0.1735,\n",
       "       0.174 , 0.1745, 0.175 , 0.1755, 0.176 , 0.1765, 0.177 , 0.1775,\n",
       "       0.178 , 0.1785, 0.179 , 0.1795, 0.18  , 0.1805, 0.181 , 0.1815,\n",
       "       0.182 , 0.1825, 0.183 , 0.1835, 0.184 , 0.1845, 0.185 , 0.1855,\n",
       "       0.186 , 0.1865, 0.187 , 0.1875, 0.188 , 0.1885, 0.189 , 0.1895,\n",
       "       0.19  , 0.1905, 0.191 , 0.1915, 0.192 , 0.1925, 0.193 , 0.1935,\n",
       "       0.194 , 0.1945, 0.195 , 0.1955, 0.196 , 0.1965, 0.197 , 0.1975,\n",
       "       0.198 , 0.1985, 0.199 , 0.1995, 0.2   , 0.2005, 0.201 , 0.2015,\n",
       "       0.202 , 0.2025, 0.203 , 0.2035, 0.204 , 0.2045, 0.205 , 0.2055,\n",
       "       0.206 , 0.2065, 0.207 , 0.2075, 0.208 , 0.2085, 0.209 , 0.2095,\n",
       "       0.21  , 0.2105, 0.211 , 0.2115, 0.212 , 0.2125, 0.213 , 0.2135,\n",
       "       0.214 , 0.2145, 0.215 , 0.2155, 0.216 , 0.2165, 0.217 , 0.2175,\n",
       "       0.218 , 0.2185, 0.219 , 0.2195, 0.22  , 0.2205, 0.221 , 0.2215,\n",
       "       0.222 , 0.2225, 0.223 , 0.2235, 0.224 , 0.2245, 0.225 , 0.2255,\n",
       "       0.226 , 0.2265, 0.227 , 0.2275, 0.228 , 0.2285, 0.229 , 0.2295,\n",
       "       0.23  , 0.2305, 0.231 , 0.2315, 0.232 , 0.2325, 0.233 , 0.2335,\n",
       "       0.234 , 0.2345, 0.235 , 0.2355, 0.236 , 0.2365, 0.237 , 0.2375,\n",
       "       0.238 , 0.2385, 0.239 , 0.2395, 0.24  , 0.2405, 0.241 , 0.2415,\n",
       "       0.242 , 0.2425, 0.243 , 0.2435, 0.244 , 0.2445, 0.245 , 0.2455,\n",
       "       0.246 , 0.2465, 0.247 , 0.2475, 0.248 , 0.2485, 0.249 , 0.2495,\n",
       "       0.25  , 0.2505, 0.251 , 0.2515, 0.252 , 0.2525, 0.253 , 0.2535,\n",
       "       0.254 , 0.2545, 0.255 , 0.2555, 0.256 , 0.2565, 0.257 , 0.2575,\n",
       "       0.258 , 0.2585, 0.259 , 0.2595, 0.26  , 0.2605, 0.261 , 0.2615,\n",
       "       0.262 , 0.2625, 0.263 , 0.2635, 0.264 , 0.2645, 0.265 , 0.2655,\n",
       "       0.266 , 0.2665, 0.267 , 0.2675, 0.268 , 0.2685, 0.269 , 0.2695,\n",
       "       0.27  , 0.2705, 0.271 , 0.2715, 0.272 , 0.2725, 0.273 , 0.2735,\n",
       "       0.274 , 0.2745, 0.275 , 0.2755, 0.276 , 0.2765, 0.277 , 0.2775,\n",
       "       0.278 , 0.2785, 0.279 , 0.2795, 0.28  , 0.2805, 0.281 , 0.2815,\n",
       "       0.282 , 0.2825, 0.283 , 0.2835, 0.284 , 0.2845, 0.285 , 0.2855,\n",
       "       0.286 , 0.2865, 0.287 , 0.2875, 0.288 , 0.2885, 0.289 , 0.2895,\n",
       "       0.29  , 0.2905, 0.291 , 0.2915, 0.292 , 0.2925, 0.293 , 0.2935,\n",
       "       0.294 , 0.2945, 0.295 , 0.2955, 0.296 , 0.2965, 0.297 , 0.2975,\n",
       "       0.298 , 0.2985, 0.299 , 0.2995, 0.3   , 0.3005, 0.301 , 0.3015,\n",
       "       0.302 , 0.3025, 0.303 , 0.3035, 0.304 , 0.3045, 0.305 , 0.3055,\n",
       "       0.306 , 0.3065, 0.307 , 0.3075, 0.308 , 0.3085, 0.309 , 0.3095,\n",
       "       0.31  , 0.3105, 0.311 , 0.3115, 0.312 , 0.3125, 0.313 , 0.3135,\n",
       "       0.314 , 0.3145, 0.315 , 0.3155, 0.316 , 0.3165, 0.317 , 0.3175,\n",
       "       0.318 , 0.3185, 0.319 , 0.3195, 0.32  , 0.3205, 0.321 , 0.3215,\n",
       "       0.322 , 0.3225, 0.323 , 0.3235, 0.324 , 0.3245, 0.325 , 0.3255,\n",
       "       0.326 , 0.3265, 0.327 , 0.3275, 0.328 , 0.3285, 0.329 , 0.3295,\n",
       "       0.33  , 0.3305, 0.331 , 0.3315, 0.332 , 0.3325, 0.333 , 0.3335,\n",
       "       0.334 , 0.3345, 0.335 , 0.3355, 0.336 , 0.3365, 0.337 , 0.3375,\n",
       "       0.338 , 0.3385, 0.339 , 0.3395, 0.34  , 0.3405, 0.341 , 0.3415,\n",
       "       0.342 , 0.3425, 0.343 , 0.3435, 0.344 , 0.3445, 0.345 , 0.3455,\n",
       "       0.346 , 0.3465, 0.347 , 0.3475, 0.348 , 0.3485, 0.349 , 0.3495])"
      ]
     },
     "execution_count": 37,
     "metadata": {},
     "output_type": "execute_result"
    }
   ],
   "source": [
    "k = np.array(k)\n",
    "k"
   ]
  },
  {
   "cell_type": "code",
   "execution_count": 68,
   "id": "e5394e15",
   "metadata": {},
   "outputs": [],
   "source": [
    "eta = f.get('eta')"
   ]
  },
  {
   "cell_type": "code",
   "execution_count": 69,
   "id": "b7deb848",
   "metadata": {},
   "outputs": [
    {
     "data": {
      "text/plain": [
       "array([[ 0.3188747 , -0.051571  , -0.19134583, ..., -0.61840206,\n",
       "        -0.45398623, -0.367469  ],\n",
       "       [ 0.20896323, -0.35599038, -0.5280668 , ..., -0.42741668,\n",
       "        -0.41712007, -0.406138  ],\n",
       "       [ 0.21958362, -0.2579806 , -0.63820916, ..., -0.3204471 ,\n",
       "        -0.3593373 , -0.22888723],\n",
       "       ...,\n",
       "       [-0.23685099, -0.35268968, -0.25271463, ...,  0.46847686,\n",
       "         0.41217268,  0.2466789 ],\n",
       "       [-0.21208242, -0.4628403 , -0.4743927 , ...,  0.21041556,\n",
       "         0.04162848,  0.13339517],\n",
       "       [ 0.05637982, -0.13221158, -0.35909912, ...,  0.19136415,\n",
       "        -0.07946533,  0.01488742]], dtype=float32)"
      ]
     },
     "execution_count": 69,
     "metadata": {},
     "output_type": "execute_result"
    }
   ],
   "source": [
    "thing = np.array(eta)\n",
    "et_t_0 = thing[0]\n",
    "et_t_0"
   ]
  },
  {
   "cell_type": "code",
   "execution_count": 73,
   "id": "f2a60d45",
   "metadata": {},
   "outputs": [],
   "source": [
    "z_t0_y200 = et_t_0[0]"
   ]
  },
  {
   "cell_type": "code",
   "execution_count": 74,
   "id": "831bae04",
   "metadata": {},
   "outputs": [
    {
     "data": {
      "text/plain": [
       "[<matplotlib.lines.Line2D at 0x1d323948910>]"
      ]
     },
     "execution_count": 74,
     "metadata": {},
     "output_type": "execute_result"
    },
    {
     "data": {
      "image/png": "[encoded data removed]",
      "text/plain": [
       "<Figure size 475.2x316.8 with 1 Axes>"
      ]
     },
     "metadata": {
      "needs_background": "light"
     },
     "output_type": "display_data"
    }
   ],
   "source": [
    "plt.plot(x,z_t0_y200)"
   ]
  },
  {
   "cell_type": "code",
   "execution_count": null,
   "id": "6c050c7d",
   "metadata": {},
   "outputs": [],
   "source": []
  },
  {
   "cell_type": "code",
   "execution_count": 70,
   "id": "9aefe14b",
   "metadata": {},
   "outputs": [
    {
     "data": {
      "text/plain": [
       "array([-250. , -242.5, -235. , -227.5, -220. , -212.5, -205. , -197.5,\n",
       "       -190. , -182.5, -175. , -167.5, -160. , -152.5, -145. , -137.5,\n",
       "       -130. , -122.5, -115. , -107.5, -100. ,  -92.5,  -85. ,  -77.5,\n",
       "        -70. ,  -62.5,  -55. ,  -47.5,  -40. ,  -32.5,  -25. ,  -17.5,\n",
       "        -10. ,   -2.5,    5. ,   12.5,   20. ,   27.5,   35. ,   42.5,\n",
       "         50. ,   57.5,   65. ,   72.5,   80. ,   87.5,   95. ,  102.5,\n",
       "        110. ,  117.5,  125. ,  132.5,  140. ,  147.5,  155. ,  162.5,\n",
       "        170. ,  177.5,  185. ,  192.5,  200. ,  207.5,  215. ,  222.5,\n",
       "        230. ,  237.5,  245. ])"
      ]
     },
     "execution_count": 70,
     "metadata": {},
     "output_type": "execute_result"
    }
   ],
   "source": [
    "x"
   ]
  },
  {
   "cell_type": "code",
   "execution_count": 71,
   "id": "43ce6f90",
   "metadata": {},
   "outputs": [
    {
     "data": {
      "text/plain": [
       "array([200. , 207.5, 215. , 222.5, 230. , 237.5, 245. , 252.5, 260. ,\n",
       "       267.5, 275. , 282.5, 290. , 297.5, 305. , 312.5, 320. , 327.5,\n",
       "       335. , 342.5, 350. , 357.5, 365. , 372.5, 380. , 387.5, 395. ,\n",
       "       402.5, 410. , 417.5, 425. , 432.5, 440. , 447.5, 455. , 462.5,\n",
       "       470. , 477.5, 485. , 492.5, 500. , 507.5, 515. , 522.5, 530. ,\n",
       "       537.5, 545. , 552.5, 560. , 567.5, 575. , 582.5, 590. , 597.5,\n",
       "       605. , 612.5, 620. , 627.5, 635. , 642.5, 650. , 657.5, 665. ,\n",
       "       672.5, 680. , 687.5, 695. ])"
      ]
     },
     "execution_count": 71,
     "metadata": {},
     "output_type": "execute_result"
    }
   ],
   "source": [
    "y"
   ]
  },
  {
   "cell_type": "code",
   "execution_count": null,
   "id": "ee613e69",
   "metadata": {},
   "outputs": [],
   "source": []
  },
  {
   "cell_type": "markdown",
   "id": "71db58ef",
   "metadata": {},
   "source": [
    "## 1) Current Profile "
   ]
  },
  {
   "cell_type": "code",
   "execution_count": 47,
   "id": "af4e4bf6",
   "metadata": {},
   "outputs": [],
   "source": [
    "z = f.get('z')"
   ]
  },
  {
   "cell_type": "code",
   "execution_count": 48,
   "id": "908f0b38",
   "metadata": {},
   "outputs": [
    {
     "data": {
      "text/plain": [
       "array([-20.        , -19.7979798 , -19.5959596 , -19.39393939,\n",
       "       -19.19191919, -18.98989899, -18.78787879, -18.58585859,\n",
       "       -18.38383838, -18.18181818, -17.97979798, -17.77777778,\n",
       "       -17.57575758, -17.37373737, -17.17171717, -16.96969697,\n",
       "       -16.76767677, -16.56565657, -16.36363636, -16.16161616,\n",
       "       -15.95959596, -15.75757576, -15.55555556, -15.35353535,\n",
       "       -15.15151515, -14.94949495, -14.74747475, -14.54545455,\n",
       "       -14.34343434, -14.14141414, -13.93939394, -13.73737374,\n",
       "       -13.53535354, -13.33333333, -13.13131313, -12.92929293,\n",
       "       -12.72727273, -12.52525253, -12.32323232, -12.12121212,\n",
       "       -11.91919192, -11.71717172, -11.51515152, -11.31313131,\n",
       "       -11.11111111, -10.90909091, -10.70707071, -10.50505051,\n",
       "       -10.3030303 , -10.1010101 ,  -9.8989899 ,  -9.6969697 ,\n",
       "        -9.49494949,  -9.29292929,  -9.09090909,  -8.88888889,\n",
       "        -8.68686869,  -8.48484848,  -8.28282828,  -8.08080808,\n",
       "        -7.87878788,  -7.67676768,  -7.47474747,  -7.27272727,\n",
       "        -7.07070707,  -6.86868687,  -6.66666667,  -6.46464646,\n",
       "        -6.26262626,  -6.06060606,  -5.85858586,  -5.65656566,\n",
       "        -5.45454545,  -5.25252525,  -5.05050505,  -4.84848485,\n",
       "        -4.64646465,  -4.44444444,  -4.24242424,  -4.04040404,\n",
       "        -3.83838384,  -3.63636364,  -3.43434343,  -3.23232323,\n",
       "        -3.03030303,  -2.82828283,  -2.62626263,  -2.42424242,\n",
       "        -2.22222222,  -2.02020202,  -1.81818182,  -1.61616162,\n",
       "        -1.41414141,  -1.21212121,  -1.01010101,  -0.80808081,\n",
       "        -0.60606061,  -0.4040404 ,  -0.2020202 ,   0.        ])"
      ]
     },
     "execution_count": 48,
     "metadata": {},
     "output_type": "execute_result"
    }
   ],
   "source": [
    "z = np.array(z)\n",
    "z"
   ]
  },
  {
   "cell_type": "code",
   "execution_count": 49,
   "id": "2b93dfb6",
   "metadata": {},
   "outputs": [],
   "source": [
    "U = f.get('U')"
   ]
  },
  {
   "cell_type": "code",
   "execution_count": 50,
   "id": "8e6f9b03",
   "metadata": {},
   "outputs": [
    {
     "data": {
      "text/plain": [
       "array([0.06831564, 0.06907082, 0.06985713, 0.07067587, 0.07152837,\n",
       "       0.07241601, 0.07334025, 0.07430261, 0.07530464, 0.07634798,\n",
       "       0.07743434, 0.0785655 , 0.0797433 , 0.08096965, 0.08224658,\n",
       "       0.08357615, 0.08496054, 0.08640201, 0.08790291, 0.0894657 ,\n",
       "       0.09109293, 0.09278725, 0.09455143, 0.09638834, 0.098301  ,\n",
       "       0.10029252, 0.10236615, 0.10452528, 0.10677343, 0.10911428,\n",
       "       0.11155164, 0.1140895 , 0.116732  , 0.11948345, 0.12234835,\n",
       "       0.12533137, 0.12843739, 0.13167147, 0.1350389 , 0.13854517,\n",
       "       0.14219601, 0.14599738, 0.14995549, 0.15407679, 0.15836802,\n",
       "       0.16283619, 0.16748858, 0.1723328 , 0.17737675, 0.18262867,\n",
       "       0.18809713, 0.19379107, 0.19971977, 0.20589293, 0.21232061,\n",
       "       0.21901332, 0.22598197, 0.23323795, 0.24079311, 0.24865977,\n",
       "       0.25685079, 0.26537953, 0.27425993, 0.28350648, 0.29313428,\n",
       "       0.30315904, 0.31359714, 0.32446561, 0.33578221, 0.34756541,\n",
       "       0.35983445, 0.37260935, 0.38591098, 0.39976106, 0.41418219,\n",
       "       0.42919793, 0.44483279, 0.46111229, 0.47806302, 0.49571265,\n",
       "       0.51409001, 0.53322508, 0.55314912, 0.57389466, 0.59549556,\n",
       "       0.6179871 , 0.641406  , 0.66579049, 0.69118039, 0.71761715,\n",
       "       0.74514393, 0.77380568, 0.80364919, 0.83472319, 0.86707842,\n",
       "       0.9007677 , 0.93584603, 0.9723707 , 1.01040132, 1.05      ])"
      ]
     },
     "execution_count": 50,
     "metadata": {},
     "output_type": "execute_result"
    }
   ],
   "source": [
    "U = np.array(U)\n",
    "U"
   ]
  },
  {
   "cell_type": "code",
   "execution_count": 61,
   "id": "25605c94",
   "metadata": {
    "scrolled": true
   },
   "outputs": [
    {
     "data": {
      "text/plain": [
       "Text(0.5, 1.0, 'Current Depth Profile')"
      ]
     },
     "execution_count": 61,
     "metadata": {},
     "output_type": "execute_result"
    },
    {
     "data": {
      "image/png": "[encoded data removed]",
      "text/plain": [
       "<Figure size 475.2x316.8 with 1 Axes>"
      ]
     },
     "metadata": {
      "needs_background": "light"
     },
     "output_type": "display_data"
    }
   ],
   "source": [
    "plt.plot(U,z)\n",
    "\n",
    "plt.grid(True)\n",
    "plt.xlabel('U (Velocity)')\n",
    "plt.ylabel('z (Depth)')\n",
    "plt.title('Current Depth Profile')\n",
    " "
   ]
  },
  {
   "cell_type": "markdown",
   "id": "3ebab90f",
   "metadata": {},
   "source": [
    "## 2) Surface Elevation"
   ]
  },
  {
   "cell_type": "code",
   "execution_count": 99,
   "id": "1b8c05f3",
   "metadata": {},
   "outputs": [],
   "source": [
    "eta = f.get('eta')"
   ]
  },
  {
   "cell_type": "code",
   "execution_count": 100,
   "id": "9a6a93ce",
   "metadata": {},
   "outputs": [],
   "source": [
    "eta = np.array(eta)"
   ]
  },
  {
   "cell_type": "code",
   "execution_count": 108,
   "id": "6eb5af5a",
   "metadata": {},
   "outputs": [
    {
     "data": {
      "text/plain": [
       "array([[[ 0.3188747 , -0.051571  , -0.19134583, ..., -0.61840206,\n",
       "         -0.45398623, -0.367469  ],\n",
       "        [ 0.20896323, -0.35599038, -0.5280668 , ..., -0.42741668,\n",
       "         -0.41712007, -0.406138  ],\n",
       "        [ 0.21958362, -0.2579806 , -0.63820916, ..., -0.3204471 ,\n",
       "         -0.3593373 , -0.22888723],\n",
       "        ...,\n",
       "        [-0.23685099, -0.35268968, -0.25271463, ...,  0.46847686,\n",
       "          0.41217268,  0.2466789 ],\n",
       "        [-0.21208242, -0.4628403 , -0.4743927 , ...,  0.21041556,\n",
       "          0.04162848,  0.13339517],\n",
       "        [ 0.05637982, -0.13221158, -0.35909912, ...,  0.19136415,\n",
       "         -0.07946533,  0.01488742]],\n",
       "\n",
       "       [[-0.02522024, -0.01897904, -0.03870581, ...,  0.00308467,\n",
       "          0.05296471,  0.1361032 ],\n",
       "        [-0.00766731, -0.05350234, -0.0428537 , ..., -0.4114969 ,\n",
       "         -0.31924137, -0.19018398],\n",
       "        [ 0.09891742, -0.38407376, -0.5005019 , ..., -0.34741926,\n",
       "         -0.34158313, -0.24280623],\n",
       "        ...,\n",
       "        [ 0.13938859,  0.41906053,  0.5270646 , ...,  0.25925386,\n",
       "          0.34423435,  0.11668242],\n",
       "        [-0.12703113, -0.122667  ,  0.08215402, ...,  0.29276308,\n",
       "          0.3579793 ,  0.15853676],\n",
       "        [-0.22630936, -0.3567526 , -0.19567634, ...,  0.07427777,\n",
       "         -0.00834213,  0.12570266]],\n",
       "\n",
       "       [[-0.35364854, -0.22798927, -0.10501812, ...,  0.6949825 ,\n",
       "          0.6380935 ,  0.6163042 ],\n",
       "        [-0.16881289,  0.08734333,  0.03598261, ...,  0.16583815,\n",
       "          0.22861491,  0.28754798],\n",
       "        [-0.22554328, -0.01707794, -0.02433605, ..., -0.29463258,\n",
       "         -0.11488472, -0.07083012],\n",
       "        ...,\n",
       "        [ 0.56438494,  0.8120717 ,  0.85285354, ..., -0.13536929,\n",
       "         -0.29896387, -0.25210878],\n",
       "        [ 0.28618473,  0.6273129 ,  0.7088642 , ...,  0.08815026,\n",
       "          0.11344218, -0.03392237],\n",
       "        [-0.08116874,  0.10560849,  0.3646717 , ...,  0.05973071,\n",
       "          0.23880926,  0.03873736]],\n",
       "\n",
       "       ...,\n",
       "\n",
       "       [[ 0.41343072,  0.2937915 ,  0.22719431, ..., -0.7352061 ,\n",
       "         -0.9493778 , -0.9244905 ],\n",
       "        [ 0.3496265 ,  0.34154993,  0.12280491, ..., -0.62033087,\n",
       "         -0.9581567 , -1.0564876 ],\n",
       "        [ 0.20279741,  0.33496654,  0.1350451 , ..., -0.14830808,\n",
       "         -0.5075783 , -0.9192501 ],\n",
       "        ...,\n",
       "        [-0.4216357 , -0.12314691, -0.06685248, ...,  0.22025988,\n",
       "         -0.1870011 , -0.32127517],\n",
       "        [-0.6873092 , -0.3754337 , -0.53176343, ...,  0.23494306,\n",
       "         -0.16870704, -0.37498933],\n",
       "        [-0.53243726, -0.3957932 , -0.55467695, ...,  0.56014955,\n",
       "          0.23972595, -0.09346491]],\n",
       "\n",
       "       [[ 0.41871673,  0.31051823,  0.30949885, ..., -0.7676575 ,\n",
       "         -0.62533325, -0.33491802],\n",
       "        [ 0.5128541 ,  0.20531233,  0.11657768, ..., -0.87871236,\n",
       "         -0.9646658 , -0.73513126],\n",
       "        [ 0.4504981 ,  0.16095486,  0.01984584, ..., -0.9341505 ,\n",
       "         -1.2489529 , -1.0742005 ],\n",
       "        ...,\n",
       "        [ 0.35671565,  0.3425494 ,  0.48019904, ..., -0.14441389,\n",
       "         -0.2543748 , -0.37025368],\n",
       "        [-0.06490459,  0.01271255,  0.10180171, ..., -0.2239368 ,\n",
       "         -0.520202  , -0.54168093],\n",
       "        [-0.47331348, -0.3013594 , -0.3696184 , ..., -0.25190774,\n",
       "         -0.56752056, -0.5630018 ]],\n",
       "\n",
       "       [[ 0.2297672 ,  0.17924325, -0.01454449, ..., -0.33716303,\n",
       "          0.10156868,  0.5080039 ],\n",
       "        [ 0.22717932,  0.11906096,  0.16180186, ..., -0.6698114 ,\n",
       "         -0.2604109 ,  0.1795109 ],\n",
       "        [ 0.25665712,  0.04287831,  0.15887913, ..., -0.92575705,\n",
       "         -0.6946853 , -0.21200693],\n",
       "        ...,\n",
       "        [ 0.6338909 ,  0.5410605 ,  0.47286204, ..., -0.35754013,\n",
       "         -0.32435143, -0.34778422],\n",
       "        [ 0.56971914,  0.3939988 ,  0.6201398 , ..., -0.39413577,\n",
       "         -0.3195782 , -0.2731267 ],\n",
       "        [ 0.16419345,  0.06357795,  0.3534169 , ..., -0.59858924,\n",
       "         -0.6063338 , -0.47555065]]], dtype=float32)"
      ]
     },
     "execution_count": 108,
     "metadata": {},
     "output_type": "execute_result"
    }
   ],
   "source": [
    "eta"
   ]
  },
  {
   "cell_type": "code",
   "execution_count": 101,
   "id": "061df36e",
   "metadata": {},
   "outputs": [],
   "source": [
    "x = f.get('x')\n",
    "y = f.get('y')"
   ]
  },
  {
   "cell_type": "code",
   "execution_count": 102,
   "id": "dc3b0d4d",
   "metadata": {},
   "outputs": [],
   "source": [
    "x = np.array(x)\n",
    "y = np.array(y)"
   ]
  },
  {
   "cell_type": "markdown",
   "id": "867e334d",
   "metadata": {},
   "source": [
    "### When T = 0"
   ]
  },
  {
   "cell_type": "code",
   "execution_count": 104,
   "id": "85532e92",
   "metadata": {},
   "outputs": [
    {
     "data": {
      "text/plain": [
       "array([[ 0.3188747 , -0.051571  , -0.19134583, ..., -0.61840206,\n",
       "        -0.45398623, -0.367469  ],\n",
       "       [ 0.20896323, -0.35599038, -0.5280668 , ..., -0.42741668,\n",
       "        -0.41712007, -0.406138  ],\n",
       "       [ 0.21958362, -0.2579806 , -0.63820916, ..., -0.3204471 ,\n",
       "        -0.3593373 , -0.22888723],\n",
       "       ...,\n",
       "       [-0.23685099, -0.35268968, -0.25271463, ...,  0.46847686,\n",
       "         0.41217268,  0.2466789 ],\n",
       "       [-0.21208242, -0.4628403 , -0.4743927 , ...,  0.21041556,\n",
       "         0.04162848,  0.13339517],\n",
       "       [ 0.05637982, -0.13221158, -0.35909912, ...,  0.19136415,\n",
       "        -0.07946533,  0.01488742]], dtype=float32)"
      ]
     },
     "execution_count": 104,
     "metadata": {},
     "output_type": "execute_result"
    }
   ],
   "source": [
    "et_t_0 = eta[0]\n",
    "et_t_0\n",
    "# when time = 0"
   ]
  },
  {
   "cell_type": "code",
   "execution_count": 155,
   "id": "6764e30e",
   "metadata": {},
   "outputs": [
    {
     "data": {
      "text/plain": [
       "array([34], dtype=int64)"
      ]
     },
     "execution_count": 155,
     "metadata": {},
     "output_type": "execute_result"
    }
   ],
   "source": [
    "index, = np.where(x == 5)\n",
    "index\n",
    "# Value of x in the middle of data set"
   ]
  },
  {
   "cell_type": "code",
   "execution_count": 156,
   "id": "ba4f91d4",
   "metadata": {},
   "outputs": [],
   "source": [
    "eta_t0_x5 = et_t_0[:,34]"
   ]
  },
  {
   "cell_type": "code",
   "execution_count": 157,
   "id": "8878dc39",
   "metadata": {},
   "outputs": [
    {
     "data": {
      "text/plain": [
       "Text(0.5, 1.0, 'Free Surface Profile when T=0 @ Slice x=5')"
      ]
     },
     "execution_count": 157,
     "metadata": {},
     "output_type": "execute_result"
    },
    {
     "data": {
      "image/png": "[encoded data removed]",
      "text/plain": [
       "<Figure size 475.2x316.8 with 1 Axes>"
      ]
     },
     "metadata": {
      "needs_background": "light"
     },
     "output_type": "display_data"
    }
   ],
   "source": [
    "plt.plot(y,eta_t0_x5)\n",
    "\n",
    "plt.grid(True)\n",
    "plt.xlabel('y (Position)')\n",
    "plt.ylabel('η (Free Surface)')\n",
    "plt.title('Free Surface Profile when T=0 @ Slice x=5')"
   ]
  },
  {
   "cell_type": "code",
   "execution_count": null,
   "id": "ee0c5c88",
   "metadata": {},
   "outputs": [],
   "source": []
  },
  {
   "cell_type": "code",
   "execution_count": null,
   "id": "f50f0c52",
   "metadata": {},
   "outputs": [],
   "source": []
  },
  {
   "cell_type": "code",
   "execution_count": null,
   "id": "cff661ac",
   "metadata": {},
   "outputs": [],
   "source": []
  },
  {
   "cell_type": "code",
   "execution_count": null,
   "id": "04b9d797",
   "metadata": {},
   "outputs": [],
   "source": []
  },
  {
   "cell_type": "code",
   "execution_count": null,
   "id": "72872055",
   "metadata": {},
   "outputs": [],
   "source": []
  },
  {
   "cell_type": "code",
   "execution_count": null,
   "id": "7eda625d",
   "metadata": {},
   "outputs": [],
   "source": []
  },
  {
   "cell_type": "code",
   "execution_count": null,
   "id": "041f95d9",
   "metadata": {},
   "outputs": [],
   "source": []
  },
  {
   "cell_type": "code",
   "execution_count": null,
   "id": "276010c9",
   "metadata": {},
   "outputs": [],
   "source": []
  },
  {
   "cell_type": "code",
   "execution_count": null,
   "id": "86e1512c",
   "metadata": {},
   "outputs": [],
   "source": []
  },
  {
   "cell_type": "code",
   "execution_count": null,
   "id": "9bf76ffa",
   "metadata": {},
   "outputs": [],
   "source": []
  },
  {
   "cell_type": "code",
   "execution_count": null,
   "id": "ede85040",
   "metadata": {},
   "outputs": [],
   "source": []
  },
  {
   "cell_type": "code",
   "execution_count": null,
   "id": "e06b6d8f",
   "metadata": {},
   "outputs": [],
   "source": []
  },
  {
   "cell_type": "code",
   "execution_count": null,
   "id": "241844e3",
   "metadata": {},
   "outputs": [],
   "source": []
  },
  {
   "cell_type": "code",
   "execution_count": null,
   "id": "e6b72d22",
   "metadata": {},
   "outputs": [],
   "source": []
  },
  {
   "cell_type": "code",
   "execution_count": 115,
   "id": "0b2931c1",
   "metadata": {},
   "outputs": [],
   "source": [
    "z_t0_y207_5 = et_t_0[1]\n",
    "# z values when T=0 at the slice y=207.5"
   ]
  },
  {
   "cell_type": "code",
   "execution_count": 116,
   "id": "f985d667",
   "metadata": {},
   "outputs": [
    {
     "data": {
      "text/plain": [
       "Text(0.5, 1.0, 'Free Surface Profile when T=0 @ Slice y=207.5')"
      ]
     },
     "execution_count": 116,
     "metadata": {},
     "output_type": "execute_result"
    },
    {
     "data": {
      "image/png": "[encoded data removed]",
      "text/plain": [
       "<Figure size 475.2x316.8 with 1 Axes>"
      ]
     },
     "metadata": {
      "needs_background": "light"
     },
     "output_type": "display_data"
    }
   ],
   "source": [
    "plt.plot(x,z_t0_y207_5)\n",
    "\n",
    "plt.grid(True)\n",
    "plt.xlabel('x (Position)')\n",
    "plt.ylabel('η (Free Surface)')\n",
    "plt.title('Free Surface Profile when T=0 @ Slice y=207.5')"
   ]
  },
  {
   "cell_type": "code",
   "execution_count": 117,
   "id": "38870cc9",
   "metadata": {},
   "outputs": [],
   "source": [
    "z_t0_y695 = et_t_0[66]\n",
    "# z values when T=0 at the slice y=207.5"
   ]
  },
  {
   "cell_type": "code",
   "execution_count": 118,
   "id": "cf9fca82",
   "metadata": {},
   "outputs": [
    {
     "data": {
      "text/plain": [
       "Text(0.5, 1.0, 'Free Surface Profile when T=0 @ Slice y=695')"
      ]
     },
     "execution_count": 118,
     "metadata": {},
     "output_type": "execute_result"
    },
    {
     "data": {
      "image/png": "[encoded data removed]",
      "text/plain": [
       "<Figure size 475.2x316.8 with 1 Axes>"
      ]
     },
     "metadata": {
      "needs_background": "light"
     },
     "output_type": "display_data"
    }
   ],
   "source": [
    "plt.plot(x,z_t0_y695)\n",
    "\n",
    "plt.grid(True)\n",
    "plt.xlabel('x (Position)')\n",
    "plt.ylabel('η (Free Surface)')\n",
    "plt.title('Free Surface Profile when T=0 @ Slice y=695')"
   ]
  },
  {
   "cell_type": "markdown",
   "id": "d9293038",
   "metadata": {},
   "source": [
    "## When T = 1"
   ]
  },
  {
   "cell_type": "code",
   "execution_count": 119,
   "id": "0b8c56d2",
   "metadata": {},
   "outputs": [
    {
     "data": {
      "text/plain": [
       "array([[-0.02522024, -0.01897904, -0.03870581, ...,  0.00308467,\n",
       "         0.05296471,  0.1361032 ],\n",
       "       [-0.00766731, -0.05350234, -0.0428537 , ..., -0.4114969 ,\n",
       "        -0.31924137, -0.19018398],\n",
       "       [ 0.09891742, -0.38407376, -0.5005019 , ..., -0.34741926,\n",
       "        -0.34158313, -0.24280623],\n",
       "       ...,\n",
       "       [ 0.13938859,  0.41906053,  0.5270646 , ...,  0.25925386,\n",
       "         0.34423435,  0.11668242],\n",
       "       [-0.12703113, -0.122667  ,  0.08215402, ...,  0.29276308,\n",
       "         0.3579793 ,  0.15853676],\n",
       "       [-0.22630936, -0.3567526 , -0.19567634, ...,  0.07427777,\n",
       "        -0.00834213,  0.12570266]], dtype=float32)"
      ]
     },
     "execution_count": 119,
     "metadata": {},
     "output_type": "execute_result"
    }
   ],
   "source": [
    "et_t_1 = eta[1]\n",
    "et_t_1\n",
    "# when time = 1"
   ]
  },
  {
   "cell_type": "code",
   "execution_count": 120,
   "id": "05f40ca5",
   "metadata": {},
   "outputs": [],
   "source": [
    "z_t1_y200 = et_t_1[0]\n",
    "# z values when T=1 at the slice y=200"
   ]
  },
  {
   "cell_type": "code",
   "execution_count": 121,
   "id": "9b154eff",
   "metadata": {},
   "outputs": [
    {
     "data": {
      "text/plain": [
       "Text(0.5, 1.0, 'Free Surface Profile when T=1 @ Slice y=200')"
      ]
     },
     "execution_count": 121,
     "metadata": {},
     "output_type": "execute_result"
    },
    {
     "data": {
      "image/png": "[encoded data removed]",
      "text/plain": [
       "<Figure size 475.2x316.8 with 1 Axes>"
      ]
     },
     "metadata": {
      "needs_background": "light"
     },
     "output_type": "display_data"
    }
   ],
   "source": [
    "plt.plot(x,z_t1_y200)\n",
    "\n",
    "plt.grid(True)\n",
    "plt.xlabel('x (Position)')\n",
    "plt.ylabel('η (Free Surface)')\n",
    "plt.title('Free Surface Profile when T=1 @ Slice y=200')"
   ]
  },
  {
   "cell_type": "code",
   "execution_count": null,
   "id": "fea79b09",
   "metadata": {},
   "outputs": [],
   "source": []
  },
  {
   "cell_type": "code",
   "execution_count": null,
   "id": "452e13bf",
   "metadata": {},
   "outputs": [],
   "source": []
  },
  {
   "cell_type": "code",
   "execution_count": null,
   "id": "18aa27d4",
   "metadata": {},
   "outputs": [],
   "source": []
  },
  {
   "cell_type": "code",
   "execution_count": null,
   "id": "2ed66a14",
   "metadata": {},
   "outputs": [],
   "source": []
  },
  {
   "cell_type": "code",
   "execution_count": null,
   "id": "e93132fc",
   "metadata": {},
   "outputs": [],
   "source": []
  },
  {
   "cell_type": "code",
   "execution_count": 66,
   "id": "c601a88a",
   "metadata": {},
   "outputs": [
    {
     "data": {
      "text/plain": [
       "array([[ 1.41421356,  2.23606798,  3.16227766,  4.12310563,  5.09901951,\n",
       "         6.08276253,  7.07106781,  8.06225775,  9.05538514],\n",
       "       [ 2.23606798,  2.82842712,  3.60555128,  4.47213595,  5.38516481,\n",
       "         6.32455532,  7.28010989,  8.24621125,  9.21954446],\n",
       "       [ 3.16227766,  3.60555128,  4.24264069,  5.        ,  5.83095189,\n",
       "         6.70820393,  7.61577311,  8.54400375,  9.48683298],\n",
       "       [ 4.12310563,  4.47213595,  5.        ,  5.65685425,  6.40312424,\n",
       "         7.21110255,  8.06225775,  8.94427191,  9.8488578 ],\n",
       "       [ 5.09901951,  5.38516481,  5.83095189,  6.40312424,  7.07106781,\n",
       "         7.81024968,  8.60232527,  9.43398113, 10.29563014],\n",
       "       [ 6.08276253,  6.32455532,  6.70820393,  7.21110255,  7.81024968,\n",
       "         8.48528137,  9.21954446, 10.        , 10.81665383],\n",
       "       [ 7.07106781,  7.28010989,  7.61577311,  8.06225775,  8.60232527,\n",
       "         9.21954446,  9.89949494, 10.63014581, 11.40175425],\n",
       "       [ 8.06225775,  8.24621125,  8.54400375,  8.94427191,  9.43398113,\n",
       "        10.        , 10.63014581, 11.3137085 , 12.04159458],\n",
       "       [ 9.05538514,  9.21954446,  9.48683298,  9.8488578 , 10.29563014,\n",
       "        10.81665383, 11.40175425, 12.04159458, 12.72792206]])"
      ]
     },
     "execution_count": 66,
     "metadata": {},
     "output_type": "execute_result"
    }
   ],
   "source": [
    "R"
   ]
  },
  {
   "cell_type": "code",
   "execution_count": 67,
   "id": "2621eafb",
   "metadata": {},
   "outputs": [
    {
     "name": "stderr",
     "output_type": "stream",
     "text": [
      "<ipython-input-67-464f0dbccec4>:11: MatplotlibDeprecationWarning: Calling gca() with keyword arguments was deprecated in Matplotlib 3.4. Starting two minor releases later, gca() will take no keyword arguments. The gca() function should only be used to get the current axes, or if no axes exist, create new axes with default keyword arguments. To create a new axes with non-default arguments, use plt.axes() or plt.subplot().\n",
      "  ax = fig.gca(projection='3d')\n"
     ]
    },
    {
     "data": {
      "image/png": "[encoded data removed]",
      "text/plain": [
       "<Figure size 475.2x316.8 with 2 Axes>"
      ]
     },
     "metadata": {
      "needs_background": "light"
     },
     "output_type": "display_data"
    }
   ],
   "source": [
    "from mpl_toolkits.mplot3d import Axes3D\n",
    "import matplotlib.pyplot as plt\n",
    "import numpy as np\n",
    "\n",
    "X = np.arange(1, 10)\n",
    "Y = np.arange(1, 10)\n",
    "X, Y = np.meshgrid(X, Y)\n",
    "R = np.sqrt(X**2 + Y**2)\n",
    "Z = np.sin(R)\n",
    "fig = plt.figure()\n",
    "ax = fig.gca(projection='3d')\n",
    "surf = ax.plot_surface(X, Y, Z, rstride=1, cstride=1, cmap='hot', linewidth=0, antialiased=False)\n",
    "\n",
    "fig.colorbar(surf, shrink=0.5, aspect=5)\n",
    "plt.show()"
   ]
  },
  {
   "cell_type": "code",
   "execution_count": null,
   "id": "3816c56a",
   "metadata": {},
   "outputs": [],
   "source": []
  },
  {
   "cell_type": "code",
   "execution_count": null,
   "id": "52aed0c4",
   "metadata": {},
   "outputs": [],
   "source": []
  },
  {
   "cell_type": "code",
   "execution_count": null,
   "id": "4830cca8",
   "metadata": {},
   "outputs": [],
   "source": []
  },
  {
   "cell_type": "code",
   "execution_count": null,
   "id": "8ba8169e",
   "metadata": {},
   "outputs": [],
   "source": []
  },
  {
   "cell_type": "code",
   "execution_count": null,
   "id": "30cc6cf1",
   "metadata": {},
   "outputs": [],
   "source": []
  }
 ],
 "metadata": {
  "kernelspec": {
   "display_name": "Python 3",
   "language": "python",
   "name": "python3"
  },
  "language_info": {
   "codemirror_mode": {
    "name": "ipython",
    "version": 3
   },
   "file_extension": ".py",
   "mimetype": "text/x-python",
   "name": "python",
   "nbconvert_exporter": "python",
   "pygments_lexer": "ipython3",
   "version": "3.8.8"
  }
 },
 "nbformat": 4,
 "nbformat_minor": 5
}
